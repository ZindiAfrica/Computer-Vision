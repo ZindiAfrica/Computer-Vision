{
  "nbformat": 4,
  "nbformat_minor": 0,
  "metadata": {
    "colab": {
      "name": "Zindi_IECC_Feature_Generation_niksss.ipynb",
      "provenance": [],
      "collapsed_sections": []
    },
    "kernelspec": {
      "name": "python3",
      "display_name": "Python 3"
    }
  },
  "cells": [
    {
      "cell_type": "markdown",
      "metadata": {
        "id": "8kQTn-vVm2c0"
      },
      "source": [
        "# **Feature Generation**"
      ]
    },
    {
      "cell_type": "markdown",
      "metadata": {
        "id": "7w3KK0COkOWI"
      },
      "source": [
        "Protein Sequence to 1280 long features using ESM 1b\n",
        "\n"
      ]
    },
    {
      "cell_type": "code",
      "metadata": {
        "id": "RbqLddN3n-1E"
      },
      "source": [
        "'''pytorch 1.7.1 along with cuda 10.1 is required for the package to run!\n",
        "so install it using the cell below'''"
      ],
      "execution_count": null,
      "outputs": []
    },
    {
      "cell_type": "code",
      "metadata": {
        "id": "aHaxBGoSm2Kb"
      },
      "source": [
        "!pip install torch==1.7.1+cu101 -f https://download.pytorch.org/whl/torch_stable.html"
      ],
      "execution_count": null,
      "outputs": []
    },
    {
      "cell_type": "code",
      "metadata": {
        "id": "8sNzbuK5kCGq"
      },
      "source": [
        "import torch \n",
        "print(torch.__version__)"
      ],
      "execution_count": null,
      "outputs": []
    },
    {
      "cell_type": "markdown",
      "metadata": {
        "id": "v8Fo5Q-Dohxx"
      },
      "source": [
        "Install Bio_enbeddings\n",
        "[More Info can be found on their GitHub page](https://github.com/sacdallago/bio_embeddings.git)"
      ]
    },
    {
      "cell_type": "markdown",
      "metadata": {
        "id": "B01Uc0WWo8ER"
      },
      "source": [
        "The cell below will take approximately 5-10 mins"
      ]
    },
    {
      "cell_type": "code",
      "metadata": {
        "id": "GIglAEEdoTjO"
      },
      "source": [
        "!pip3 install -U pip > /dev/null\n",
        "!pip3 install -U \"bio-embeddings[all] @ git+https://github.com/sacdallago/bio_embeddings.git\" > /dev/null"
      ],
      "execution_count": null,
      "outputs": []
    },
    {
      "cell_type": "markdown",
      "metadata": {
        "id": "CbBdrKVXpIbt"
      },
      "source": [
        "Mounting drive to read in the training data"
      ]
    },
    {
      "cell_type": "code",
      "metadata": {
        "id": "sOpPpZiwoTgB"
      },
      "source": [
        "from google.colab import drive\n",
        "drive.mount('/content/drive')"
      ],
      "execution_count": null,
      "outputs": []
    },
    {
      "cell_type": "code",
      "metadata": {
        "id": "TU4WoopOoTc_"
      },
      "source": [
        "import pandas as pd\n",
        "import numpy as np"
      ],
      "execution_count": null,
      "outputs": []
    },
    {
      "cell_type": "markdown",
      "metadata": {
        "id": "wSwl_fczpWt0"
      },
      "source": [
        "*the cell below will give an error when you run it for the first time but ignore the error and re run the same cell again and that error will go away!*"
      ]
    },
    {
      "cell_type": "code",
      "metadata": {
        "id": "IAQtFCKboTaD"
      },
      "source": [
        "from bio_embeddings.embed import ESM1bEmbedder"
      ],
      "execution_count": null,
      "outputs": []
    },
    {
      "cell_type": "markdown",
      "metadata": {
        "id": "cqsuZMIApvua"
      },
      "source": [
        "Reading the training data"
      ]
    },
    {
      "cell_type": "code",
      "metadata": {
        "id": "tO_WydDuoTXW"
      },
      "source": [
        "d = pd.read_csv('/content/drive/MyDrive/Train.csv')\n",
        "d.head()"
      ],
      "execution_count": null,
      "outputs": []
    },
    {
      "cell_type": "markdown",
      "metadata": {
        "id": "_w0B6VWNp-7D"
      },
      "source": [
        "*apparently the esm1b embedder cannot process sequeces of length greater than 1024 hen we need to truncate it to a value less than 1022(reserving 2 for seperator and unk tokens). I chose 1000*"
      ]
    },
    {
      "cell_type": "code",
      "metadata": {
        "id": "NjqQpNnooTU_"
      },
      "source": [
        "def truncator(s):\n",
        "  if len(str(s)) < 1000:\n",
        "    ans = s\n",
        "  else:\n",
        "    ans = str(s)[:1000]\n",
        "  return ans\n",
        "\n",
        "\n",
        "d['SEQUENCE'] = d['SEQUENCE'].apply(truncator)\n"
      ],
      "execution_count": null,
      "outputs": []
    },
    {
      "cell_type": "code",
      "metadata": {
        "id": "YTc-oKPSoTRU"
      },
      "source": [
        "sequencez = d['SEQUENCE'].values"
      ],
      "execution_count": null,
      "outputs": []
    },
    {
      "cell_type": "code",
      "metadata": {
        "id": "wK2hOuBxoTOl"
      },
      "source": [
        "embedder = ESM1bEmbedder(device = 'cuda')"
      ],
      "execution_count": null,
      "outputs": []
    },
    {
      "cell_type": "markdown",
      "metadata": {
        "id": "3AkRMtEOq19u"
      },
      "source": [
        "*storing the 1280 lomg embedding for each protein sequence in a list called \"embeddings\" and then dumping it into a pickel file for avoiding to generate it again and again*"
      ]
    },
    {
      "cell_type": "markdown",
      "metadata": {
        "id": "_YxU4BrKrLqA"
      },
      "source": [
        "*The cell below will take around 24-30 hours to process all of the 858777 training sequences. (I will provide a link for you to download it using wget to avoid this step)*"
      ]
    },
    {
      "cell_type": "code",
      "metadata": {
        "id": "72INXprbqrZv"
      },
      "source": [
        "embeddings = []\n",
        "for sequence in sequencez:\n",
        "  per_amino = embedder.embed(sequence)\n",
        "  embeddings.append(embedder.reduce_per_protein(per_amino))"
      ],
      "execution_count": null,
      "outputs": []
    },
    {
      "cell_type": "code",
      "metadata": {
        "id": "_g6VQCQNqrVi"
      },
      "source": [
        "import pickle\n",
        "with open('ESM1b_train_embeddings.pkl', 'wb') as f:\n",
        "  pickle.dump(embeddings, f)"
      ],
      "execution_count": null,
      "outputs": []
    },
    {
      "cell_type": "markdown",
      "metadata": {
        "id": "B_rYUQtkskXC"
      },
      "source": [
        "To skip running above cells you can download the pickeled list(divided into 8 parts from ESM1BT1-ESM1BT8)"
      ]
    },
    {
      "cell_type": "code",
      "metadata": {
        "id": "HbNw-QrEqrSQ"
      },
      "source": [
        "!wget https://storage.googleapis.com/enzymeclassification/ESM1b/ESM1BT1.pkl"
      ],
      "execution_count": null,
      "outputs": []
    },
    {
      "cell_type": "code",
      "metadata": {
        "id": "xo08yX4ttCqn"
      },
      "source": [
        "!wget https://storage.googleapis.com/enzymeclassification/ESM1b/ESM1BT2.pkl"
      ],
      "execution_count": null,
      "outputs": []
    },
    {
      "cell_type": "code",
      "metadata": {
        "id": "9vETxdMFtCmt"
      },
      "source": [
        "!wget https://storage.googleapis.com/enzymeclassification/ESM1b/ESM1BT3.pkl"
      ],
      "execution_count": null,
      "outputs": []
    },
    {
      "cell_type": "code",
      "metadata": {
        "id": "TjCXhCP6tCFE"
      },
      "source": [
        "!wget https://storage.googleapis.com/enzymeclassification/ESM1b/ESM1BT4.pkl"
      ],
      "execution_count": null,
      "outputs": []
    },
    {
      "cell_type": "code",
      "metadata": {
        "id": "iR3KQ1ldtCAG"
      },
      "source": [
        "!wget https://storage.googleapis.com/enzymeclassification/ESM1b/ESM1BT5.pkl"
      ],
      "execution_count": null,
      "outputs": []
    },
    {
      "cell_type": "code",
      "metadata": {
        "id": "Gl91fCSttB8l"
      },
      "source": [
        "!wget https://storage.googleapis.com/enzymeclassification/ESM1b/ESM1BT6.pkl"
      ],
      "execution_count": null,
      "outputs": []
    },
    {
      "cell_type": "code",
      "metadata": {
        "id": "XgV9MUg-tB6j"
      },
      "source": [
        "!wget https://storage.googleapis.com/enzymeclassification/ESM1b/ESM1BT7.pkl"
      ],
      "execution_count": null,
      "outputs": []
    },
    {
      "cell_type": "code",
      "metadata": {
        "id": "4dfBTzWItB3T"
      },
      "source": [
        "!wget https://storage.googleapis.com/enzymeclassification/ESM1b/ESM1BT8.pkl"
      ],
      "execution_count": null,
      "outputs": []
    },
    {
      "cell_type": "markdown",
      "metadata": {
        "id": "kT2-KKhztyTg"
      },
      "source": [
        "# The same code and technique can be used to extract the embeddings of the sequences from Test.csv"
      ]
    },
    {
      "cell_type": "markdown",
      "metadata": {
        "id": "QtpPawJ6uPkB"
      },
      "source": [
        "I'm providing the download links for those as well to save your time"
      ]
    },
    {
      "cell_type": "code",
      "metadata": {
        "id": "FA9J8DjntBz4"
      },
      "source": [
        "!wget https://storage.googleapis.com/enzymeclassification/ESM1b/ESMtest1a.pkl"
      ],
      "execution_count": null,
      "outputs": []
    },
    {
      "cell_type": "code",
      "metadata": {
        "id": "slCHhUtltBvz"
      },
      "source": [
        "!wget https://storage.googleapis.com/enzymeclassification/ESM1b/ESMtest1b.pkl"
      ],
      "execution_count": null,
      "outputs": []
    },
    {
      "cell_type": "code",
      "metadata": {
        "id": "Yjqf8TfeqrO9"
      },
      "source": [
        "!wget https://storage.googleapis.com/enzymeclassification/ESM1b/ESMtest2.pkl"
      ],
      "execution_count": null,
      "outputs": []
    },
    {
      "cell_type": "code",
      "metadata": {
        "id": "pYlXBoxjueUW"
      },
      "source": [
        "!wget https://storage.googleapis.com/enzymeclassification/ESM1b/ESMtest3a.pkl"
      ],
      "execution_count": null,
      "outputs": []
    },
    {
      "cell_type": "code",
      "metadata": {
        "id": "fCuiNsvAueRY"
      },
      "source": [
        "!wget https://storage.googleapis.com/enzymeclassification/ESM1b/ESMtest3b.pkl"
      ],
      "execution_count": null,
      "outputs": []
    },
    {
      "cell_type": "markdown",
      "metadata": {
        "id": "Kgk31XU5wDEt"
      },
      "source": [
        "Now that we have our embeddings for both train.csv as well as Test.csv, we can proceed towards training them using a Machine learning model.\n",
        "Please see the Training notebook for that!"
      ]
    },
    {
      "cell_type": "markdown",
      "metadata": {
        "id": "3AWRQqUBwqxl"
      },
      "source": [
        "\n",
        "\n",
        "---\n",
        "\n"
      ]
    }
  ]
}