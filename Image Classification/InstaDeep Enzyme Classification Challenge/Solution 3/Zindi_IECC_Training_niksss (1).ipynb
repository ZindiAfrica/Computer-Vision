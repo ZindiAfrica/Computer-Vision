{
  "nbformat": 4,
  "nbformat_minor": 0,
  "metadata": {
    "colab": {
      "name": "Zindi_IECC_Training_niksss.ipynb",
      "provenance": []
    },
    "kernelspec": {
      "name": "python3",
      "display_name": "Python 3"
    }
  },
  "cells": [
    {
      "cell_type": "markdown",
      "metadata": {
        "id": "btNmp_7NxxO8"
      },
      "source": [
        "**The training has been done on my desktop with 64gb RAM with 8 cores,therefore I'm not sure if colab will withstand it. I'm almost sure that it'll crash. I recommend runnig it on a CPU with atleast 64gb RAM**"
      ]
    },
    {
      "cell_type": "markdown",
      "metadata": {
        "id": "oS4RyX7Ry_bI"
      },
      "source": [
        "*dumping all the pickled lists in a list called \"final_embeddings\"*"
      ]
    },
    {
      "cell_type": "code",
      "metadata": {
        "id": "TjdUHVONxDcu"
      },
      "source": [
        "final_embeddings = []\n",
        "mynewlist = []"
      ],
      "execution_count": null,
      "outputs": []
    },
    {
      "cell_type": "code",
      "metadata": {
        "id": "8y6Lp1acy-JX"
      },
      "source": [
        "import pickle"
      ],
      "execution_count": null,
      "outputs": []
    },
    {
      "cell_type": "markdown",
      "metadata": {
        "id": "O18EXFqtj0W0"
      },
      "source": [
        "All the files opened using pickle can be obtained from the Feature_generation nb."
      ]
    },
    {
      "cell_type": "code",
      "metadata": {
        "id": "CMID_Aa5ypVv"
      },
      "source": [
        "with open('ESM1BT1.pkl', 'rb') as f:\n",
        "  mynewlist = pickle.load(f)\n",
        "final_embeddings.extend(mynewlist)\n"
      ],
      "execution_count": null,
      "outputs": []
    },
    {
      "cell_type": "code",
      "metadata": {
        "id": "h0ZftycPypUA"
      },
      "source": [
        "with open('ESM1BT2.pkl', 'rb') as f:\n",
        "  mynewlist = pickle.load(f)\n",
        "final_embeddings.extend(mynewlist)\n"
      ],
      "execution_count": null,
      "outputs": []
    },
    {
      "cell_type": "code",
      "metadata": {
        "id": "eN9KpM5dypRW"
      },
      "source": [
        "with open('ESM1BT3.pkl', 'rb') as f:\n",
        "  mynewlist = pickle.load(f)\n",
        "final_embeddings.extend(mynewlist)\n"
      ],
      "execution_count": null,
      "outputs": []
    },
    {
      "cell_type": "code",
      "metadata": {
        "id": "HuFikANiypOk"
      },
      "source": [
        "with open('ESM1BT4.pkl', 'rb') as f:\n",
        "  mynewlist = pickle.load(f)\n",
        "final_embeddings.extend(mynewlist)\n"
      ],
      "execution_count": null,
      "outputs": []
    },
    {
      "cell_type": "code",
      "metadata": {
        "id": "7iKhDNYTypMJ"
      },
      "source": [
        "with open('ESM1BT5.pkl', 'rb') as f:\n",
        "  mynewlist = pickle.load(f)\n",
        "final_embeddings.extend(mynewlist)\n"
      ],
      "execution_count": null,
      "outputs": []
    },
    {
      "cell_type": "code",
      "metadata": {
        "id": "75AyTVfbypJV"
      },
      "source": [
        "with open('ESM1BT6.pkl', 'rb') as f:\n",
        "  mynewlist = pickle.load(f)\n",
        "final_embeddings.extend(mynewlist)\n"
      ],
      "execution_count": null,
      "outputs": []
    },
    {
      "cell_type": "code",
      "metadata": {
        "id": "Mw91-EYPypHU"
      },
      "source": [
        "with open('ESM1BT7.pkl', 'rb') as f:\n",
        "  mynewlist = pickle.load(f)\n",
        "final_embeddings.extend(mynewlist)\n"
      ],
      "execution_count": null,
      "outputs": []
    },
    {
      "cell_type": "code",
      "metadata": {
        "id": "LCidjVlGypFf"
      },
      "source": [
        "with open('ESM1BT8.pkl', 'rb') as f:\n",
        "  mynewlist = pickle.load(f)\n",
        "final_embeddings.extend(mynewlist)\n"
      ],
      "execution_count": null,
      "outputs": []
    },
    {
      "cell_type": "code",
      "metadata": {
        "id": "PY8rlHUWyo_3"
      },
      "source": [
        "len(final_embeddings)  #the length of this list should ome out to be 858777(equal to the number of sequences in the train.csv)"
      ],
      "execution_count": null,
      "outputs": []
    },
    {
      "cell_type": "code",
      "metadata": {
        "id": "3SZ3qa2Oyo8_"
      },
      "source": [
        "import pandas as pd\n",
        "d = pd.read_csv('Train.csv')\n",
        "d.head()"
      ],
      "execution_count": null,
      "outputs": []
    },
    {
      "cell_type": "code",
      "metadata": {
        "id": "Tp9WESY3yo22"
      },
      "source": [
        "d['features'] = final_embeddings"
      ],
      "execution_count": null,
      "outputs": []
    },
    {
      "cell_type": "code",
      "metadata": {
        "id": "vpsytpfUyoz1"
      },
      "source": [
        "from sklearn import preprocessing\n",
        "le = preprocessing.LabelEncoder()\n",
        "d['LABEL'] = le.fit_transform(d['LABEL'])"
      ],
      "execution_count": null,
      "outputs": []
    },
    {
      "cell_type": "code",
      "metadata": {
        "id": "UczyfPQfyow-"
      },
      "source": [
        "import numpy as np\n",
        "from sklearn.neural_network import MLPClassifier\n",
        "from sklearn.metrics import accuracy_score"
      ],
      "execution_count": null,
      "outputs": []
    },
    {
      "cell_type": "code",
      "metadata": {
        "id": "f4pOOjPKyouB"
      },
      "source": [
        "from sklearn.model_selection import train_test_split\n",
        "train, test = train_test_split(d, test_size=0.06, random_state=42, stratify=d[['LABEL']])"
      ],
      "execution_count": null,
      "outputs": []
    },
    {
      "cell_type": "code",
      "metadata": {
        "id": "u7IUw64ayore"
      },
      "source": [
        "training_embeddings = train.features.values\n",
        "training_identifiers = train.SEQUENCE_ID.values\n",
        "training_labels = train.LABEL.values\n",
        "\n",
        "testing_embeddings = test.features.values\n",
        "testing_identifiers = test.SEQUENCE_ID.values\n",
        "testing_labels = test.LABEL.values\n",
        "\n",
        "assert(len(training_identifiers) == len(training_embeddings))\n",
        "assert(len(testing_identifiers) == len(testing_embeddings))"
      ],
      "execution_count": null,
      "outputs": []
    },
    {
      "cell_type": "code",
      "metadata": {
        "id": "Ott1b5k2yoo6"
      },
      "source": [
        "from sklearn.preprocessing import StandardScaler  \n",
        "scaler = StandardScaler()  \n",
        "scaler.fit(list(training_embeddings))  \n",
        "training_embeddings = scaler.transform(list(training_embeddings))  \n",
        "# applying same transformation to test data\n",
        "testing_embeddings = scaler.transform(list(testing_embeddings)) "
      ],
      "execution_count": null,
      "outputs": []
    },
    {
      "cell_type": "code",
      "metadata": {
        "id": "V_CQunOEyoli"
      },
      "source": [
        "from sklearn.ensemble import BaggingClassifier\n"
      ],
      "execution_count": null,
      "outputs": []
    },
    {
      "cell_type": "markdown",
      "metadata": {
        "id": "s3jCzCgs47ub"
      },
      "source": [
        "The cell below(training process) took ~30 hours to finish. **See Extra in the bottom of the notebook**"
      ]
    },
    {
      "cell_type": "code",
      "metadata": {
        "id": "SIEJwwsK3dxB"
      },
      "source": [
        "clf = BaggingClassifier(base_estimator=MLPClassifier(hidden_layer_sizes = 865, solver='sgd',early_stopping = True, n_iter_no_change = 13, alpha= 0.009, random_state=10,verbose = True, max_iter=10000),\n",
        "                        n_estimators=10,verbose = 3, random_state=0).fit(list(training_embeddings), training_labels)"
      ],
      "execution_count": null,
      "outputs": []
    },
    {
      "cell_type": "code",
      "metadata": {
        "id": "21FgzgvA3lHc"
      },
      "source": [
        "from joblib import dump, load\n",
        "dump(clf, 'esm1b1.joblib') "
      ],
      "execution_count": null,
      "outputs": []
    },
    {
      "cell_type": "markdown",
      "metadata": {
        "id": "5NdtbPABiDr6"
      },
      "source": [
        "After the training finished, the trained model can be found named esm1b1"
      ]
    },
    {
      "cell_type": "code",
      "metadata": {
        "id": "uQ7xH_7Ai19l"
      },
      "source": [
        "# clf = load('esm1b1.joblib') "
      ],
      "execution_count": null,
      "outputs": []
    },
    {
      "cell_type": "code",
      "metadata": {
        "id": "8MUep_2G4bCl"
      },
      "source": [
        "predicted_testing_labels = clf.predict(testing_embeddings)\n",
        "accuracy = accuracy_score(testing_labels, predicted_testing_labels)\n",
        "print(f\"The model has an accuracy of {accuracy:.2}\")"
      ],
      "execution_count": null,
      "outputs": []
    },
    {
      "cell_type": "markdown",
      "metadata": {
        "id": "fxgWYE3U50DZ"
      },
      "source": [
        "**Submission**"
      ]
    },
    {
      "cell_type": "markdown",
      "metadata": {
        "id": "HtUKv9xAd69r"
      },
      "source": [
        "Re-initialize\n",
        "\n",
        "\n",
        "```\n",
        "final_embeddings \n",
        "mynewlist\n",
        "```\n",
        "\n"
      ]
    },
    {
      "cell_type": "code",
      "metadata": {
        "id": "OXZgtfTN4lDs"
      },
      "source": [
        "final_embeddings = []\n",
        "mynewlist = []"
      ],
      "execution_count": null,
      "outputs": []
    },
    {
      "cell_type": "code",
      "metadata": {
        "id": "cTrwuCgHeWRH"
      },
      "source": [
        "with open('ESMTest1a.pkl', 'rb') as f:\n",
        "  mynewlist = pickle.load(f)\n",
        "final_embeddings.extend(mynewlist)"
      ],
      "execution_count": null,
      "outputs": []
    },
    {
      "cell_type": "code",
      "metadata": {
        "id": "5NDnk7vqfkks"
      },
      "source": [
        "with open('ESMTest1b.pkl', 'rb') as f:\n",
        "  mynewlist = pickle.load(f)\n",
        "final_embeddings.extend(mynewlist)"
      ],
      "execution_count": null,
      "outputs": []
    },
    {
      "cell_type": "code",
      "metadata": {
        "id": "Sb8CH1DTfkhe"
      },
      "source": [
        "with open('ESMTest2.pkl', 'rb') as f:\n",
        "  mynewlist = pickle.load(f)\n",
        "final_embeddings.extend(mynewlist)"
      ],
      "execution_count": null,
      "outputs": []
    },
    {
      "cell_type": "code",
      "metadata": {
        "id": "4PpJylgpfkea"
      },
      "source": [
        "with open('ESMTest3a.pkl', 'rb') as f:\n",
        "  mynewlist = pickle.load(f)\n",
        "final_embeddings.extend(mynewlist)"
      ],
      "execution_count": null,
      "outputs": []
    },
    {
      "cell_type": "code",
      "metadata": {
        "id": "hv8kKiqXfkbc"
      },
      "source": [
        "with open('ESMTest3b.pkl', 'rb') as f:\n",
        "  mynewlist = pickle.load(f)\n",
        "final_embeddings.extend(mynewlist)"
      ],
      "execution_count": null,
      "outputs": []
    },
    {
      "cell_type": "code",
      "metadata": {
        "id": "o31Bn1whgW7d"
      },
      "source": [
        "len(final_embeddings)  #the length of this list should ome out to be 253146(equal to the number of sequences in the Test.csv)"
      ],
      "execution_count": null,
      "outputs": []
    },
    {
      "cell_type": "code",
      "metadata": {
        "id": "G6m2Z6Whgi_-"
      },
      "source": [
        "final_embeddings = scaler.transform(list(final_embeddings))  "
      ],
      "execution_count": null,
      "outputs": []
    },
    {
      "cell_type": "code",
      "metadata": {
        "id": "znvNXpw2gnzv"
      },
      "source": [
        "predicted_testing_labelss = clf.predict(list(final_embeddings))"
      ],
      "execution_count": null,
      "outputs": []
    },
    {
      "cell_type": "code",
      "metadata": {
        "id": "vFabbPvMgtCn"
      },
      "source": [
        "predicted_testing_labelss = le.inverse_transform(predicted_testing_labelss)"
      ],
      "execution_count": null,
      "outputs": []
    },
    {
      "cell_type": "code",
      "metadata": {
        "id": "SRhSGlSTgs_d"
      },
      "source": [
        "sub = pd.read_csv('SampleSubmission.csv')"
      ],
      "execution_count": null,
      "outputs": []
    },
    {
      "cell_type": "code",
      "metadata": {
        "id": "0SGZUiEZgs7-"
      },
      "source": [
        "sub.drop(columns=['LABEL'],inplace = True)"
      ],
      "execution_count": null,
      "outputs": []
    },
    {
      "cell_type": "code",
      "metadata": {
        "id": "manqZIQVhDUh"
      },
      "source": [
        "sub['LABEL'] = predicted_testing_labelss"
      ],
      "execution_count": null,
      "outputs": []
    },
    {
      "cell_type": "code",
      "metadata": {
        "id": "LS2skZhKhDQ8"
      },
      "source": [
        "sub.to_csv('sub.csv',index = False)"
      ],
      "execution_count": null,
      "outputs": []
    },
    {
      "cell_type": "code",
      "metadata": {
        "id": "1VC24LdJhDMj"
      },
      "source": [
        ""
      ],
      "execution_count": null,
      "outputs": []
    },
    {
      "cell_type": "code",
      "metadata": {
        "id": "MjoDUx3fgs4b"
      },
      "source": [
        ""
      ],
      "execution_count": null,
      "outputs": []
    },
    {
      "cell_type": "markdown",
      "metadata": {
        "id": "HOvPWNDZO046"
      },
      "source": [
        "**Extra**"
      ]
    },
    {
      "cell_type": "markdown",
      "metadata": {
        "id": "TXoHbmPWPZtl"
      },
      "source": [
        "The Classfier used above takes forever to train and doesn't substantially boost the performace(only 0.0003,0.03%) as compared to the previous solution using just a Single estimator. "
      ]
    },
    {
      "cell_type": "code",
      "metadata": {
        "id": "OUNcwGuPO4k1"
      },
      "source": [
        "multilayerperceptron = MLPClassifier(solver='adam',early_stopping = True, n_iter_no_change = 40, alpha= 0.008, random_state=10,verbose = True, max_iter=10000)"
      ],
      "execution_count": null,
      "outputs": []
    },
    {
      "cell_type": "code",
      "metadata": {
        "id": "h4wPP62UPWDO"
      },
      "source": [
        "parameters = {\n",
        "    'hidden_layer_sizes': [(865,)]}"
      ],
      "execution_count": null,
      "outputs": []
    },
    {
      "cell_type": "markdown",
      "metadata": {
        "id": "_x5jLmkYQn_1"
      },
      "source": [
        "This model train in 3-5 hours max."
      ]
    },
    {
      "cell_type": "code",
      "metadata": {
        "id": "gMxo9Mi7PErl"
      },
      "source": [
        "classifiers = GridSearchCV(multilayerperceptron,parameters,verbose=3, cv=2, scoring=\"accuracy\")\n",
        "classifiers.fit(list(training_embeddings), training_labels)\n",
        "clf = classifiers.best_estimator_"
      ],
      "execution_count": null,
      "outputs": []
    },
    {
      "cell_type": "code",
      "metadata": {
        "id": "bHy_wxSoPIKg"
      },
      "source": [
        ""
      ],
      "execution_count": null,
      "outputs": []
    }
  ]
}