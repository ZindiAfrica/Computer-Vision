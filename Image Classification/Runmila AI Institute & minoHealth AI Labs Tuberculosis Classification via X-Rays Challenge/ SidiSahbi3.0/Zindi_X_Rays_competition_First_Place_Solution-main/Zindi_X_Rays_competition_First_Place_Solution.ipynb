{
 "cells": [
  {
   "cell_type": "code",
   "execution_count": null,
   "metadata": {
    "colab": {
     "base_uri": "https://localhost:8080/"
    },
    "id": "JL_jOAWqcDYU",
    "outputId": "85cb4903-5df4-49f2-9008-8f6480353920"
   },
   "outputs": [
    {
     "name": "stdout",
     "output_type": "stream",
     "text": [
      "Wed Nov 18 23:04:58 2020       \n",
      "+-----------------------------------------------------------------------------+\n",
      "| NVIDIA-SMI 455.38       Driver Version: 418.67       CUDA Version: 10.1     |\n",
      "|-------------------------------+----------------------+----------------------+\n",
      "| GPU  Name        Persistence-M| Bus-Id        Disp.A | Volatile Uncorr. ECC |\n",
      "| Fan  Temp  Perf  Pwr:Usage/Cap|         Memory-Usage | GPU-Util  Compute M. |\n",
      "|                               |                      |               MIG M. |\n",
      "|===============================+======================+======================|\n",
      "|   0  Tesla T4            Off  | 00000000:00:04.0 Off |                    0 |\n",
      "| N/A   37C    P8     9W /  70W |      0MiB / 15079MiB |      0%      Default |\n",
      "|                               |                      |                 ERR! |\n",
      "+-------------------------------+----------------------+----------------------+\n",
      "                                                                               \n",
      "+-----------------------------------------------------------------------------+\n",
      "| Processes:                                                                  |\n",
      "|  GPU   GI   CI        PID   Type   Process name                  GPU Memory |\n",
      "|        ID   ID                                                   Usage      |\n",
      "|=============================================================================|\n",
      "|  No running processes found                                                 |\n",
      "+-----------------------------------------------------------------------------+\n"
     ]
    }
   ],
   "source": [
    "!nvidia-smi"
   ]
  },
  {
   "cell_type": "markdown",
   "metadata": {
    "id": "3sWD5Pe8WUuB"
   },
   "source": [
    "# **Import Full-Size-Images**"
   ]
  },
  {
   "cell_type": "code",
   "execution_count": null,
   "metadata": {
    "colab": {
     "base_uri": "https://localhost:8080/"
    },
    "id": "49Phf9OwcE7d",
    "outputId": "26760991-434d-465d-cc22-dc4cf3e3c5fd"
   },
   "outputs": [
    {
     "name": "stdout",
     "output_type": "stream",
     "text": [
      "Downloading...\n",
      "From: https://drive.google.com/uc?id=1KdpV3M27kV-_QOQOrAentfzZ2tew8YS-\n",
      "To: /content/images_fullsize.zip\n",
      "4.38GB [01:18, 55.9MB/s]\n"
     ]
    }
   ],
   "source": [
    "!gdown https://drive.google.com/uc?id=1KdpV3M27kV-_QOQOrAentfzZ2tew8YS-&"
   ]
  },
  {
   "cell_type": "code",
   "execution_count": null,
   "metadata": {
    "id": "BxGVh-pMcSyi"
   },
   "outputs": [],
   "source": [
    "!unzip -q /content/images_fullsize.zip"
   ]
  },
  {
   "cell_type": "code",
   "execution_count": null,
   "metadata": {
    "colab": {
     "base_uri": "https://localhost:8080/"
    },
    "id": "P9tH6oc_cVAK",
    "outputId": "d8b65a81-b1dd-49aa-a909-cbe82868484f"
   },
   "outputs": [
    {
     "name": "stdout",
     "output_type": "stream",
     "text": [
      "\u001b[?25l\r",
      "\u001b[K     |█▊                              | 10kB 26.9MB/s eta 0:00:01\r",
      "\u001b[K     |███▌                            | 20kB 31.4MB/s eta 0:00:01\r",
      "\u001b[K     |█████▏                          | 30kB 22.2MB/s eta 0:00:01\r",
      "\u001b[K     |███████                         | 40kB 19.1MB/s eta 0:00:01\r",
      "\u001b[K     |████████▊                       | 51kB 17.3MB/s eta 0:00:01\r",
      "\u001b[K     |██████████▍                     | 61kB 14.3MB/s eta 0:00:01\r",
      "\u001b[K     |████████████▏                   | 71kB 14.8MB/s eta 0:00:01\r",
      "\u001b[K     |██████████████                  | 81kB 14.5MB/s eta 0:00:01\r",
      "\u001b[K     |███████████████▋                | 92kB 14.0MB/s eta 0:00:01\r",
      "\u001b[K     |█████████████████▍              | 102kB 14.0MB/s eta 0:00:01\r",
      "\u001b[K     |███████████████████             | 112kB 14.0MB/s eta 0:00:01\r",
      "\u001b[K     |████████████████████▉           | 122kB 14.0MB/s eta 0:00:01\r",
      "\u001b[K     |██████████████████████▋         | 133kB 14.0MB/s eta 0:00:01\r",
      "\u001b[K     |████████████████████████▎       | 143kB 14.0MB/s eta 0:00:01\r",
      "\u001b[K     |██████████████████████████      | 153kB 14.0MB/s eta 0:00:01\r",
      "\u001b[K     |███████████████████████████▉    | 163kB 14.0MB/s eta 0:00:01\r",
      "\u001b[K     |█████████████████████████████▌  | 174kB 14.0MB/s eta 0:00:01\r",
      "\u001b[K     |███████████████████████████████▎| 184kB 14.0MB/s eta 0:00:01\r",
      "\u001b[K     |████████████████████████████████| 194kB 14.0MB/s \n",
      "\u001b[?25h\u001b[?25l\r",
      "\u001b[K     |██████▉                         | 10kB 33.1MB/s eta 0:00:01\r",
      "\u001b[K     |█████████████▋                  | 20kB 41.6MB/s eta 0:00:01\r",
      "\u001b[K     |████████████████████▌           | 30kB 46.3MB/s eta 0:00:01\r",
      "\u001b[K     |███████████████████████████▎    | 40kB 46.4MB/s eta 0:00:01\r",
      "\u001b[K     |████████████████████████████████| 51kB 8.8MB/s \n",
      "\u001b[?25h"
     ]
    }
   ],
   "source": [
    "!pip install fastai --upgrade -q\n",
    "!pip install -q efficientnet_pytorch"
   ]
  },
  {
   "cell_type": "markdown",
   "metadata": {
    "id": "u6p2InmLWq_Z"
   },
   "source": [
    "# **Libraries-Env**"
   ]
  },
  {
   "cell_type": "code",
   "execution_count": null,
   "metadata": {
    "id": "K90Bh2G3cmya"
   },
   "outputs": [],
   "source": [
    "import random\n",
    "import numpy as np\n",
    "import gc\n",
    "from fastai.vision.all import *\n",
    "from fastai.vision import *\n",
    "from pathlib import Path\n",
    "import matplotlib.pyplot as plt\n",
    "from efficientnet_pytorch import EfficientNet"
   ]
  },
  {
   "cell_type": "code",
   "execution_count": null,
   "metadata": {
    "id": "5PsTwWeacqpK"
   },
   "outputs": [],
   "source": [
    "SEED_VAL  = 42\n",
    "# Set the seed value all over the place to make this reproducible.\n",
    "def seed_all(SEED):\n",
    "  random.seed(SEED_VAL)\n",
    "  np.random.seed(SEED_VAL)\n",
    "  torch.manual_seed(SEED_VAL)\n",
    "  torch.cuda.manual_seed_all(SEED_VAL)\n",
    "  os.environ['PYTHONHASHSEED'] = str(SEED_VAL)\n",
    "  torch.backends.cudnn.deterministic = True\n",
    "  torch.backends.cudnn.benchmark = False"
   ]
  },
  {
   "cell_type": "code",
   "execution_count": null,
   "metadata": {
    "colab": {
     "base_uri": "https://localhost:8080/"
    },
    "id": "YTQ7IDbhcvrT",
    "outputId": "090c3545-f6e2-4e56-ebe1-93df90347067"
   },
   "outputs": [
    {
     "name": "stdout",
     "output_type": "stream",
     "text": [
      "Make sure cuda is installed: True\n",
      "Make sure cudnn is enabled: True\n"
     ]
    }
   ],
   "source": [
    "print('Make sure cuda is installed:', torch.cuda.is_available())\n",
    "print('Make sure cudnn is enabled:', torch.backends.cudnn.enabled)"
   ]
  },
  {
   "cell_type": "markdown",
   "metadata": {
    "id": "AkXhM-jgWu_Q"
   },
   "source": [
    "# **Train-Submission**"
   ]
  },
  {
   "cell_type": "code",
   "execution_count": null,
   "metadata": {
    "id": "Bc2rAhIRdG9M"
   },
   "outputs": [],
   "source": [
    "def get_model(dls,pretrained=True, **kwargs):\n",
    "    model = EfficientNet.from_pretrained(model_name)\n",
    "    model._fc = nn.Linear(model._fc.in_features, dls.c)\n",
    "    return model"
   ]
  },
  {
   "cell_type": "code",
   "execution_count": null,
   "metadata": {
    "id": "9mi8_Lkrc5S6"
   },
   "outputs": [],
   "source": [
    "#params\n",
    "model_name = 'efficientnet-b0'\n",
    "\n",
    "def X_Rays_FASTAI_First_Place_Solution() :\n",
    "  seed_all(SEED_VAL)\n",
    "  df = pd.read_csv(\"/content/Train.csv\")\n",
    "  df2 = pd.read_csv(\"/content/Test.csv\")\n",
    "  dls = ImageDataLoaders.from_df(df,\n",
    "                               path='/content', \n",
    "                               label_col=\"LABEL\",\n",
    "                               item_tfms=RandomResizedCrop(512, min_scale=0.5),\n",
    "                               batch_tfms=aug_transforms(mult=1.0, do_flip=True, \n",
    "                                                        flip_vert=True, max_rotate=10., \n",
    "                                                        max_zoom=1.1,max_warp=0.2, \n",
    "                                                        p_affine=0.75, p_lighting=0, \n",
    "                                                        xtra_tfms=None),\n",
    "                               valid_pct=0.03,\n",
    "                               bs=8,\n",
    "                               val_bs=8)\n",
    "  # define - Learner\n",
    "  learn = Learner(dls=dls,model= get_model(dls), metrics=[accuracy])\n",
    "  print(\"\\n `\\n Start Training ....\")\n",
    "  learn.fit_one_cycle(20,1e-3)\n",
    "  print(\"\\n `\\n Unfreeze & Again Training ....\")\n",
    "  learn.unfreeze()\n",
    "  learn.fit_one_cycle(5,1e-4)\n",
    "  print(\"\\n `\\n Start PREDICTING ....\")\n",
    "  test_image_ids = [img.split(\".\")[0] for img in os.listdir(\"/content/test\") ]\n",
    "  test_images = [f\"/content/test/{img}.png\" for img in test_image_ids]\n",
    "  preds = learn.get_preds(dl=dls.test_dl(test_images, shuffle=False, drop_last=False))\n",
    "  imglabels = list(df.columns[1:])\n",
    "  ls = preds[0]\n",
    "  lss = list(ls[0])\n",
    "  vocab = list(dls[0].dataset.vocab)\n",
    "  submission = pd.DataFrame()\n",
    "  submission[\"ID\"] = test_image_ids\n",
    "  for i in range(2):\n",
    "    submission[vocab[i]] = ls[:, i]\n",
    "  submission=submission.drop([0], axis=1)\n",
    "  return submission "
   ]
  },
  {
   "cell_type": "code",
   "execution_count": null,
   "metadata": {
    "colab": {
     "base_uri": "https://localhost:8080/",
     "height": 1000
    },
    "id": "WLk1yblIehDq",
    "outputId": "ce7c0613-2082-41ab-ad0b-8667004c5da2"
   },
   "outputs": [
    {
     "name": "stdout",
     "output_type": "stream",
     "text": [
      "Loaded pretrained weights for efficientnet-b0\n",
      "\n",
      " `\n",
      " Start Training ....\n"
     ]
    },
    {
     "data": {
      "text/html": [
       "<table border=\"1\" class=\"dataframe\">\n",
       "  <thead>\n",
       "    <tr style=\"text-align: left;\">\n",
       "      <th>epoch</th>\n",
       "      <th>train_loss</th>\n",
       "      <th>valid_loss</th>\n",
       "      <th>accuracy</th>\n",
       "      <th>time</th>\n",
       "    </tr>\n",
       "  </thead>\n",
       "  <tbody>\n",
       "    <tr>\n",
       "      <td>0</td>\n",
       "      <td>0.615572</td>\n",
       "      <td>0.742876</td>\n",
       "      <td>0.190476</td>\n",
       "      <td>01:26</td>\n",
       "    </tr>\n",
       "    <tr>\n",
       "      <td>1</td>\n",
       "      <td>0.553421</td>\n",
       "      <td>0.772796</td>\n",
       "      <td>0.285714</td>\n",
       "      <td>01:26</td>\n",
       "    </tr>\n",
       "    <tr>\n",
       "      <td>2</td>\n",
       "      <td>0.517613</td>\n",
       "      <td>0.968078</td>\n",
       "      <td>0.428571</td>\n",
       "      <td>01:26</td>\n",
       "    </tr>\n",
       "    <tr>\n",
       "      <td>3</td>\n",
       "      <td>0.528002</td>\n",
       "      <td>0.703991</td>\n",
       "      <td>0.714286</td>\n",
       "      <td>01:26</td>\n",
       "    </tr>\n",
       "    <tr>\n",
       "      <td>4</td>\n",
       "      <td>0.525893</td>\n",
       "      <td>1.118083</td>\n",
       "      <td>0.428571</td>\n",
       "      <td>01:26</td>\n",
       "    </tr>\n",
       "    <tr>\n",
       "      <td>5</td>\n",
       "      <td>0.520141</td>\n",
       "      <td>0.962780</td>\n",
       "      <td>0.714286</td>\n",
       "      <td>01:25</td>\n",
       "    </tr>\n",
       "    <tr>\n",
       "      <td>6</td>\n",
       "      <td>0.484368</td>\n",
       "      <td>0.304840</td>\n",
       "      <td>0.904762</td>\n",
       "      <td>01:26</td>\n",
       "    </tr>\n",
       "    <tr>\n",
       "      <td>7</td>\n",
       "      <td>0.489232</td>\n",
       "      <td>0.255278</td>\n",
       "      <td>0.904762</td>\n",
       "      <td>01:25</td>\n",
       "    </tr>\n",
       "    <tr>\n",
       "      <td>8</td>\n",
       "      <td>0.423299</td>\n",
       "      <td>0.215902</td>\n",
       "      <td>0.904762</td>\n",
       "      <td>01:26</td>\n",
       "    </tr>\n",
       "    <tr>\n",
       "      <td>9</td>\n",
       "      <td>0.407578</td>\n",
       "      <td>0.222195</td>\n",
       "      <td>0.904762</td>\n",
       "      <td>01:26</td>\n",
       "    </tr>\n",
       "    <tr>\n",
       "      <td>10</td>\n",
       "      <td>0.411970</td>\n",
       "      <td>0.535510</td>\n",
       "      <td>0.761905</td>\n",
       "      <td>01:26</td>\n",
       "    </tr>\n",
       "    <tr>\n",
       "      <td>11</td>\n",
       "      <td>0.389456</td>\n",
       "      <td>0.595699</td>\n",
       "      <td>0.809524</td>\n",
       "      <td>01:27</td>\n",
       "    </tr>\n",
       "    <tr>\n",
       "      <td>12</td>\n",
       "      <td>0.328471</td>\n",
       "      <td>0.250365</td>\n",
       "      <td>0.904762</td>\n",
       "      <td>01:26</td>\n",
       "    </tr>\n",
       "    <tr>\n",
       "      <td>13</td>\n",
       "      <td>0.302976</td>\n",
       "      <td>0.216338</td>\n",
       "      <td>0.952381</td>\n",
       "      <td>01:26</td>\n",
       "    </tr>\n",
       "    <tr>\n",
       "      <td>14</td>\n",
       "      <td>0.241160</td>\n",
       "      <td>0.317428</td>\n",
       "      <td>0.904762</td>\n",
       "      <td>01:26</td>\n",
       "    </tr>\n",
       "    <tr>\n",
       "      <td>15</td>\n",
       "      <td>0.215065</td>\n",
       "      <td>0.103464</td>\n",
       "      <td>0.904762</td>\n",
       "      <td>01:27</td>\n",
       "    </tr>\n",
       "    <tr>\n",
       "      <td>16</td>\n",
       "      <td>0.217671</td>\n",
       "      <td>0.172424</td>\n",
       "      <td>0.904762</td>\n",
       "      <td>01:27</td>\n",
       "    </tr>\n",
       "    <tr>\n",
       "      <td>17</td>\n",
       "      <td>0.234409</td>\n",
       "      <td>0.109202</td>\n",
       "      <td>0.904762</td>\n",
       "      <td>01:26</td>\n",
       "    </tr>\n",
       "    <tr>\n",
       "      <td>18</td>\n",
       "      <td>0.200410</td>\n",
       "      <td>0.107925</td>\n",
       "      <td>0.904762</td>\n",
       "      <td>01:27</td>\n",
       "    </tr>\n",
       "    <tr>\n",
       "      <td>19</td>\n",
       "      <td>0.182645</td>\n",
       "      <td>0.118065</td>\n",
       "      <td>0.904762</td>\n",
       "      <td>01:27</td>\n",
       "    </tr>\n",
       "  </tbody>\n",
       "</table>"
      ],
      "text/plain": [
       "<IPython.core.display.HTML object>"
      ]
     },
     "metadata": {
      "tags": []
     },
     "output_type": "display_data"
    },
    {
     "name": "stdout",
     "output_type": "stream",
     "text": [
      "\n",
      " `\n",
      " Unfreeze & Again Training ....\n"
     ]
    },
    {
     "data": {
      "text/html": [
       "<table border=\"1\" class=\"dataframe\">\n",
       "  <thead>\n",
       "    <tr style=\"text-align: left;\">\n",
       "      <th>epoch</th>\n",
       "      <th>train_loss</th>\n",
       "      <th>valid_loss</th>\n",
       "      <th>accuracy</th>\n",
       "      <th>time</th>\n",
       "    </tr>\n",
       "  </thead>\n",
       "  <tbody>\n",
       "    <tr>\n",
       "      <td>0</td>\n",
       "      <td>0.216248</td>\n",
       "      <td>0.092386</td>\n",
       "      <td>0.904762</td>\n",
       "      <td>01:26</td>\n",
       "    </tr>\n",
       "    <tr>\n",
       "      <td>1</td>\n",
       "      <td>0.214946</td>\n",
       "      <td>0.119812</td>\n",
       "      <td>0.904762</td>\n",
       "      <td>01:26</td>\n",
       "    </tr>\n",
       "    <tr>\n",
       "      <td>2</td>\n",
       "      <td>0.213089</td>\n",
       "      <td>0.171322</td>\n",
       "      <td>0.904762</td>\n",
       "      <td>01:26</td>\n",
       "    </tr>\n",
       "    <tr>\n",
       "      <td>3</td>\n",
       "      <td>0.201175</td>\n",
       "      <td>0.178572</td>\n",
       "      <td>0.904762</td>\n",
       "      <td>01:26</td>\n",
       "    </tr>\n",
       "    <tr>\n",
       "      <td>4</td>\n",
       "      <td>0.204729</td>\n",
       "      <td>0.174062</td>\n",
       "      <td>0.904762</td>\n",
       "      <td>01:27</td>\n",
       "    </tr>\n",
       "  </tbody>\n",
       "</table>"
      ],
      "text/plain": [
       "<IPython.core.display.HTML object>"
      ]
     },
     "metadata": {
      "tags": []
     },
     "output_type": "display_data"
    },
    {
     "name": "stdout",
     "output_type": "stream",
     "text": [
      "\n",
      " `\n",
      " Start PREDICTING ....\n"
     ]
    },
    {
     "data": {
      "text/html": [],
      "text/plain": [
       "<IPython.core.display.HTML object>"
      ]
     },
     "metadata": {
      "tags": []
     },
     "output_type": "display_data"
    }
   ],
   "source": [
    "submission = X_Rays_FASTAI_First_Place_Solution()\n",
    "submission.to_csv(\"effb0.csv\", index=False)"
   ]
  }
 ],
 "metadata": {
  "accelerator": "GPU",
  "colab": {
   "collapsed_sections": [],
   "name": "Zindi-X-Rays-competition-First-Place-Solution.ipynb",
   "provenance": []
  },
  "kernelspec": {
   "display_name": "Python 3",
   "language": "python",
   "name": "python3"
  },
  "language_info": {
   "codemirror_mode": {
    "name": "ipython",
    "version": 3
   },
   "file_extension": ".py",
   "mimetype": "text/x-python",
   "name": "python",
   "nbconvert_exporter": "python",
   "pygments_lexer": "ipython3",
   "version": "3.7.3"
  }
 },
 "nbformat": 4,
 "nbformat_minor": 1
}
