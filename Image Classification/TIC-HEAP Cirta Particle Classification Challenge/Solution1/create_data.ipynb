{
 "cells": [
  {
   "cell_type": "code",
   "execution_count": null,
   "metadata": {},
   "outputs": [],
   "source": [
    "import sys\n",
    "sys.path.append(\"../../\")\n",
    "from helper.utils import * \n",
    "from os import listdir \n",
    "from os.path import isfile, join, splitext\n",
    "from sklearn.model_selection import StratifiedKFold\n",
    "import pickle\n",
    "from tqdm import tqdm"
   ]
  },
  {
   "cell_type": "code",
   "execution_count": null,
   "metadata": {},
   "outputs": [],
   "source": [
    "data_dir=\"../../data/raw_data/\"\n",
    "test_pickle_path=\"../../data/raw_data/test_pickles/data_test_file.pkl\""
   ]
  },
  {
   "cell_type": "code",
   "execution_count": null,
   "metadata": {},
   "outputs": [],
   "source": [
    "train_pickle_paths = join(data_dir, \"train_pickles\")\n",
    "train_pickle_paths = [\n",
    "    join(train_pickle_paths,f)\n",
    "    for f in listdir(train_pickle_paths)\n",
    "    if isfile(join(train_pickle_paths, f)) and splitext(f)[1] == \".pkl\"\n",
    "]"
   ]
  },
  {
   "cell_type": "code",
   "execution_count": null,
   "metadata": {},
   "outputs": [],
   "source": [
    "def _read_pickle_(f):\n",
    "    pkl_path= open(f, 'rb')\n",
    "    return pickle.load(pkl_path)\n",
    "\n",
    "train_df=[]"
   ]
  },
  {
   "cell_type": "code",
   "execution_count": null,
   "metadata": {},
   "outputs": [],
   "source": [
    "images=[]\n",
    "event_ids=[]\n",
    "image_ids=[]\n",
    "targets=[]\n",
    "for path  in tqdm(train_pickle_paths) :\n",
    "    data,target=_read_pickle_(path) \n",
    "    event_id=int(path.split(\"/\")[-1].split(\".\")[0].replace(\"event\",\"\"))\n",
    "    image_id=lambda x : str(event_id)+\"_\"+str(x)\n",
    "    for i,image in enumerate(data) :\n",
    "        event_ids.append(event_id)\n",
    "        image_ids.append(image_id(i))\n",
    "        images.append(image)\n",
    "    targets.extend(target)   \n",
    "        \n",
    "images_arra=np.array(images).reshape((-1,100))        "
   ]
  },
  {
   "cell_type": "code",
   "execution_count": null,
   "metadata": {},
   "outputs": [],
   "source": [
    "train_data=pd.DataFrame(data=images_arra,columns=[\"feat_\"+str(i) for i in range(100)])\n",
    "train_data[\"target\"]=targets\n",
    "train_data[\"image_id\"]=image_ids\n",
    "train_data[\"event_id\"]=event_ids"
   ]
  },
  {
   "cell_type": "code",
   "execution_count": null,
   "metadata": {},
   "outputs": [],
   "source": [
    "dic_types={11: \"electron\", 13 : \"muon\", 211:\"pion\", 321:\"kaon\",2212 : \"proton\"}\n",
    "dic_types={11: 0, \n",
    "           13 : 1, \n",
    "           211:2, \n",
    "           321:3,\n",
    "           2212 : 4}\n",
    "\n",
    "train_data.target=train_data.target.map(dic_types)"
   ]
  },
  {
   "cell_type": "code",
   "execution_count": null,
   "metadata": {},
   "outputs": [],
   "source": [
    "np.random.seed(1994)"
   ]
  },
  {
   "cell_type": "code",
   "execution_count": null,
   "metadata": {},
   "outputs": [],
   "source": [
    "sample_number=3138\n",
    "balanced_train=train_data[train_data.target.isin([0,1])]\n",
    "pion_train=train_data[train_data.target==2]\n",
    "kaon_train=train_data[train_data.target==3]\n",
    "proton_train=train_data[train_data.target==4]\n",
    "pion_train=pion_train.sample(frac=sample_number/len(pion_train))\n",
    "kaon_train=kaon_train.sample(frac=sample_number/len(kaon_train))\n",
    "proton_train=proton_train.sample(frac=sample_number/len(proton_train))\n",
    "balanced_train=pd.concat([balanced_train,pion_train,kaon_train,proton_train])\n",
    "balanced_train=balanced_train.sample(frac=1).reset_index(drop=True)\n",
    "balanced_train.to_pickle(\"../proc_data/balanced_train.pkl\")\n",
    "len(balanced_train)"
   ]
  },
  {
   "cell_type": "code",
   "execution_count": null,
   "metadata": {},
   "outputs": [],
   "source": [
    "event_ids=[]\n",
    "images=[]\n",
    "image_ids=[]\n",
    "\n",
    "events=_read_pickle_(test_pickle_path) \n",
    "event_id=\"test_event\"\n",
    "for event in (events) : \n",
    "    image_id,image=event\n",
    "    event_ids.append(event_id)\n",
    "    images.append(image)\n",
    "    image_ids.append(image_id)\n",
    "images_arra=np.array(images).reshape((-1,100))        "
   ]
  },
  {
   "cell_type": "code",
   "execution_count": null,
   "metadata": {},
   "outputs": [],
   "source": [
    "test_data=pd.DataFrame(data=images_arra,columns=[\"feat_\"+str(i) for i in range(100)])\n",
    "test_data[\"image_id\"]=image_ids\n",
    "test_data[\"event_id\"]=event_ids\n",
    "test_data.to_pickle(\"../proc_data/test.pkl\")"
   ]
  },
  {
   "cell_type": "code",
   "execution_count": null,
   "metadata": {},
   "outputs": [],
   "source": []
  }
 ],
 "metadata": {
  "kernelspec": {
   "display_name": "Python 3",
   "language": "python",
   "name": "python3"
  },
  "language_info": {
   "codemirror_mode": {
    "name": "ipython",
    "version": 3
   },
   "file_extension": ".py",
   "mimetype": "text/x-python",
   "name": "python",
   "nbconvert_exporter": "python",
   "pygments_lexer": "ipython3",
   "version": "3.6.8"
  }
 },
 "nbformat": 4,
 "nbformat_minor": 4
}
