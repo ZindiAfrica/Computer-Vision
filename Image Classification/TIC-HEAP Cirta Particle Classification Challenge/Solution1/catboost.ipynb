{
 "cells": [
  {
   "cell_type": "code",
   "execution_count": null,
   "metadata": {},
   "outputs": [],
   "source": [
    "import sys\n",
    "\n",
    "sys.path.append(\"../\")\n",
    "from helper.utils import *\n",
    "\n",
    "from helper.catboost import *\n",
    "from config import *\n",
    "\n",
    "random_seed_cpu(RANDOM_STATE)"
   ]
  },
  {
   "cell_type": "code",
   "execution_count": null,
   "metadata": {},
   "outputs": [],
   "source": [
    "is_debug = False\n",
    "nrows = 1000"
   ]
  },
  {
   "cell_type": "code",
   "execution_count": null,
   "metadata": {},
   "outputs": [],
   "source": [
    "version = \"v1\""
   ]
  },
  {
   "cell_type": "code",
   "execution_count": null,
   "metadata": {},
   "outputs": [],
   "source": [
    "if is_debug:\n",
    "    train = pd.read_csv(\n",
    "        join(proc_data_path, \"train_{}.csv\".format(version)), nrows=nrows\n",
    "    )\n",
    "    test = pd.read_csv(\n",
    "        join(proc_data_path, \"test_{}.csv\".format(version)), nrows=nrows / 2\n",
    "    )\n",
    "else:\n",
    "    train = pd.read_csv(join(proc_data_path, \"train_{}.csv\".format(version)))\n",
    "    test = pd.read_csv(join(proc_data_path, \"test_{}.csv\".format(version)))"
   ]
  },
  {
   "cell_type": "code",
   "execution_count": null,
   "metadata": {},
   "outputs": [],
   "source": [
    "target_name = \"target\"\n",
    "Id_name = \"image_id\"\n",
    "prediction_names=[\"electron\", \"muon\", \"pion\", \"kaon\", \"proton\"]\n",
    "features_to_remove = [target_name, Id_name, \"validation\", \"fold\", \"event_id\",\n",
    "'count_=_zero_row_0','arg_max_column_0',\n",
    " 'arg_max_column_1',\n",
    " 'arg_max_column_8',\n",
    " 'arg_max_row_0',\n",
    " 'arg_max_row_1','feat_2count', 'feat_3count', 'feat_4count', 'feat_36count', 'feat_95count'\n",
    "                     ]+prediction_names\n",
    "features = [\n",
    "    feature for feature in train.columns.tolist() if feature not in features_to_remove\n",
    "]\n",
    "# data_characterization(train[features])"
   ]
  },
  {
   "cell_type": "code",
   "execution_count": null,
   "metadata": {},
   "outputs": [],
   "source": [
    "from sklearn.metrics import log_loss\n",
    "\n",
    "\n",
    "def metric(x, y):\n",
    "    return log_loss(x, y)"
   ]
  },
  {
   "cell_type": "markdown",
   "metadata": {},
   "source": [
    "[catboost params documentation](https://catboost.ai/docs/concepts/python-reference_parameters-list.html)"
   ]
  },
  {
   "cell_type": "code",
   "execution_count": null,
   "metadata": {},
   "outputs": [],
   "source": [
    "params = {\n",
    "    \"loss_function\": \"MultiClass\",\n",
    "    \"eval_metric\": \"MultiClass\",\n",
    "    \"learning_rate\": 0.1,\n",
    "    \"random_seed\": RANDOM_STATE,\n",
    "    \"l2_leaf_reg\": 3,\n",
    "    \"bagging_temperature\": 1,  # 0 inf\n",
    "    \"rsm\":0.9,\n",
    "    \"depth\":6,\n",
    "    \"od_type\": \"Iter\",\n",
    "    \"od_wait\": 50,\n",
    "    \"thread_count\": 8,\n",
    "    \"iterations\": 50000,\n",
    "    \"verbose_eval\": False,\n",
    "    \"use_best_model\": True,\n",
    "}"
   ]
  },
  {
   "cell_type": "code",
   "execution_count": null,
   "metadata": {},
   "outputs": [],
   "source": [
    "cat_features = []\n",
    "cat_features = [\n",
    "    train[features].columns.get_loc(c) for c in cat_features if c in train[features]\n",
    "]"
   ]
  },
  {
   "cell_type": "code",
   "execution_count": null,
   "metadata": {},
   "outputs": [],
   "source": [
    "other_params = {\n",
    "    \"prediction_type\": \"Probability\",  # it could be RawFormulaVal ,Class,Probability\n",
    "    \"cat_features\": cat_features,\n",
    "    \"print_result\": False,  # print result for a single model should be False whene use_kfold==True\n",
    "    \"plot_importance\": False,  # plot importance for single model should be false whene use_kfold==True\n",
    "    \"predict_train\": False,  # predict train for the single model funcation False only whene  use_kfold==True\n",
    "    \"num_class\": 5,\n",
    "    \"target_name\": target_name,\n",
    "    \"features\": features,\n",
    "    \"metric\": metric,\n",
    "    \"params\": params,\n",
    "    \"use_kfold\": True,  # condtion to use kfold or single model\n",
    "    \"plot_importance_kfold\": True,  # plot importance after K fold train\n",
    "    \"print_kfold_eval\": True,  # print evalation in kfold mode\n",
    "    \"weight\":None,\n",
    "    \"print_time\":True\n",
    "}"
   ]
  },
  {
   "cell_type": "code",
   "execution_count": null,
   "metadata": {},
   "outputs": [],
   "source": [
    "if other_params[\"use_kfold\"]:\n",
    "    oof_train, test_pred, final_train_score, oof_score, models = cat_train(\n",
    "        train, test, other_params\n",
    "    )\n",
    "    validation=fill_predictions_df(train,oof_train,prediction_names)\n",
    "    \n",
    "else:\n",
    "    train_pred, val_pred, test_pred, train_score, val_score, model = cat_train(\n",
    "        train, test, other_params\n",
    "    )\n",
    "    validation=fill_predictions_df(train[train.validation==1],val_pred.reshape((-1,1)),prediction_names)\n",
    "    "
   ]
  },
  {
   "cell_type": "code",
   "execution_count": null,
   "metadata": {},
   "outputs": [],
   "source": [
    "score = metric(validation[target_name], validation[prediction_names].values)\n",
    "print(score)\n",
    "print(\"Train\")\n",
    "print(\"train mean \", train[target_name].mean(), \"train std \", train[target_name].std())\n",
    "print(\"oof mean \", np.mean(validation[prediction_names].values), \"oof std \", np.std(validation[prediction_names].values))"
   ]
  },
  {
   "cell_type": "code",
   "execution_count": null,
   "metadata": {},
   "outputs": [],
   "source": [
    "target_names = [\"electron\", \"muon\", \"pion\", \"kaon\", \"proton\"]\n",
    "save_oof_multi_class(\n",
    "    train,\n",
    "    test,\n",
    "    oof_train,\n",
    "    test_pred,\n",
    "    prediction_names,\n",
    "    Id_name,\n",
    "    oof_train_path,\n",
    "    oof_test_path,\n",
    "    score,\n",
    "    model_name=\"cat\",\n",
    ")"
   ]
  },
  {
   "cell_type": "code",
   "execution_count": null,
   "metadata": {},
   "outputs": [],
   "source": [
    "sub_name = \"cat_{}_{}\".format(round(score, 3), str(\"Kfold\"))"
   ]
  },
  {
   "cell_type": "code",
   "execution_count": null,
   "metadata": {},
   "outputs": [],
   "source": [
    "target_names = [\"electron\", \"muon\", \"pion\", \"kaon\", \"proton\"]\n",
    "make_sub_multi_class(test, test_pred, Id_name, target_names, join(sub_path, sub_name))"
   ]
  }
 ],
 "metadata": {
  "kernelspec": {
   "display_name": "Python 3",
   "language": "python",
   "name": "python3"
  },
  "language_info": {
   "codemirror_mode": {
    "name": "ipython",
    "version": 3
   },
   "file_extension": ".py",
   "mimetype": "text/x-python",
   "name": "python",
   "nbconvert_exporter": "python",
   "pygments_lexer": "ipython3",
   "version": "3.6.8"
  }
 },
 "nbformat": 4,
 "nbformat_minor": 4
}
