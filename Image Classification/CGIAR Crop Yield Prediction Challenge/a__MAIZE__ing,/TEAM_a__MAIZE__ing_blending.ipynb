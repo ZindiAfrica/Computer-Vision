{
  "nbformat": 4,
  "nbformat_minor": 0,
  "metadata": {
    "colab": {
      "name": "TEAM_a__MAIZE__ing_blending.ipynb",
      "provenance": [],
      "collapsed_sections": []
    },
    "kernelspec": {
      "name": "python3",
      "display_name": "Python 3"
    }
  },
  "cells": [
    {
      "cell_type": "code",
      "metadata": {
        "id": "8J8siIgoQQYw"
      },
      "source": [
        "# Importing library\r\n",
        "import pandas as pd"
      ],
      "execution_count": 3,
      "outputs": []
    },
    {
      "cell_type": "code",
      "metadata": {
        "id": "tYrxFmMxQge2"
      },
      "source": [
        "# Loading LGBM and XGBOOST predictions\r\n",
        "lgbm = pd.read_csv('CGIAR_LGBM.csv')\r\n",
        "xgb = pd.read_csv('CGIAR_XGBOOST.csv')\r\n",
        "\r\n",
        "# Blending predictions\r\n",
        "blend = lgbm.Yield * 0.5 + xgb.Yield * 0.5\r\n",
        "sub = pd.DataFrame({'Field_ID': lgbm.Field_ID, 'Yield': blend})\r\n",
        "\r\n",
        "# Creating submission file\r\n",
        "sub.to_csv('Final_Submission.csv', index=False)"
      ],
      "execution_count": 5,
      "outputs": []
    },
    {
      "cell_type": "code",
      "metadata": {
        "id": "UbGUUnU-Qgb5"
      },
      "source": [
        ""
      ],
      "execution_count": 4,
      "outputs": []
    }
  ]
}