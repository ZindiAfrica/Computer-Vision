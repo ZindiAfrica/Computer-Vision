{
  "nbformat": 4,
  "nbformat_minor": 0,
  "metadata": {
    "colab": {
      "name": "TEAM_a__MAIZE__ing_XGBOOST_solution.ipynb",
      "provenance": [],
      "collapsed_sections": [
        "WXV6QDj91Bdz",
        "a1NgCJhD12wT",
        "-2RLczu94vPi",
        "OukE9O0y-r0m",
        "NhJJ7Ar8BIIJ"
      ],
      "toc_visible": true
    },
    "kernelspec": {
      "name": "python3",
      "display_name": "Python 3"
    },
    "widgets": {
      "application/vnd.jupyter.widget-state+json": {
        "707444aec67e467eae6c2da155ea50a4": {
          "model_module": "@jupyter-widgets/controls",
          "model_name": "HBoxModel",
          "state": {
            "_view_name": "HBoxView",
            "_dom_classes": [],
            "_model_name": "HBoxModel",
            "_view_module": "@jupyter-widgets/controls",
            "_model_module_version": "1.5.0",
            "_view_count": null,
            "_view_module_version": "1.5.0",
            "box_style": "",
            "layout": "IPY_MODEL_ce9ef44e275e4abda4a48323c7b92b98",
            "_model_module": "@jupyter-widgets/controls",
            "children": [
              "IPY_MODEL_0cb353ac163c4b108784f6c1784aa386",
              "IPY_MODEL_e784412be52a40fe90428725ab273fdb"
            ]
          }
        },
        "ce9ef44e275e4abda4a48323c7b92b98": {
          "model_module": "@jupyter-widgets/base",
          "model_name": "LayoutModel",
          "state": {
            "_view_name": "LayoutView",
            "grid_template_rows": null,
            "right": null,
            "justify_content": null,
            "_view_module": "@jupyter-widgets/base",
            "overflow": null,
            "_model_module_version": "1.2.0",
            "_view_count": null,
            "flex_flow": null,
            "width": null,
            "min_width": null,
            "border": null,
            "align_items": null,
            "bottom": null,
            "_model_module": "@jupyter-widgets/base",
            "top": null,
            "grid_column": null,
            "overflow_y": null,
            "overflow_x": null,
            "grid_auto_flow": null,
            "grid_area": null,
            "grid_template_columns": null,
            "flex": null,
            "_model_name": "LayoutModel",
            "justify_items": null,
            "grid_row": null,
            "max_height": null,
            "align_content": null,
            "visibility": null,
            "align_self": null,
            "height": null,
            "min_height": null,
            "padding": null,
            "grid_auto_rows": null,
            "grid_gap": null,
            "max_width": null,
            "order": null,
            "_view_module_version": "1.2.0",
            "grid_template_areas": null,
            "object_position": null,
            "object_fit": null,
            "grid_auto_columns": null,
            "margin": null,
            "display": null,
            "left": null
          }
        },
        "0cb353ac163c4b108784f6c1784aa386": {
          "model_module": "@jupyter-widgets/controls",
          "model_name": "FloatProgressModel",
          "state": {
            "_view_name": "ProgressView",
            "style": "IPY_MODEL_5bd02edaf3b741b9a5bf3fb37dca3458",
            "_dom_classes": [],
            "description": "100%",
            "_model_name": "FloatProgressModel",
            "bar_style": "success",
            "max": 1746,
            "_view_module": "@jupyter-widgets/controls",
            "_model_module_version": "1.5.0",
            "value": 1746,
            "_view_count": null,
            "_view_module_version": "1.5.0",
            "orientation": "horizontal",
            "min": 0,
            "description_tooltip": null,
            "_model_module": "@jupyter-widgets/controls",
            "layout": "IPY_MODEL_89e25efb79dd42c8b088d767ecf1ec7d"
          }
        },
        "e784412be52a40fe90428725ab273fdb": {
          "model_module": "@jupyter-widgets/controls",
          "model_name": "HTMLModel",
          "state": {
            "_view_name": "HTMLView",
            "style": "IPY_MODEL_335fd27f70fe4c8eade9d31dfb446add",
            "_dom_classes": [],
            "description": "",
            "_model_name": "HTMLModel",
            "placeholder": "​",
            "_view_module": "@jupyter-widgets/controls",
            "_model_module_version": "1.5.0",
            "value": " 1746/1746 [01:36&lt;00:00, 18.08it/s]",
            "_view_count": null,
            "_view_module_version": "1.5.0",
            "description_tooltip": null,
            "_model_module": "@jupyter-widgets/controls",
            "layout": "IPY_MODEL_91eed78ca07c447a9b8e055e997360b0"
          }
        },
        "5bd02edaf3b741b9a5bf3fb37dca3458": {
          "model_module": "@jupyter-widgets/controls",
          "model_name": "ProgressStyleModel",
          "state": {
            "_view_name": "StyleView",
            "_model_name": "ProgressStyleModel",
            "description_width": "initial",
            "_view_module": "@jupyter-widgets/base",
            "_model_module_version": "1.5.0",
            "_view_count": null,
            "_view_module_version": "1.2.0",
            "bar_color": null,
            "_model_module": "@jupyter-widgets/controls"
          }
        },
        "89e25efb79dd42c8b088d767ecf1ec7d": {
          "model_module": "@jupyter-widgets/base",
          "model_name": "LayoutModel",
          "state": {
            "_view_name": "LayoutView",
            "grid_template_rows": null,
            "right": null,
            "justify_content": null,
            "_view_module": "@jupyter-widgets/base",
            "overflow": null,
            "_model_module_version": "1.2.0",
            "_view_count": null,
            "flex_flow": null,
            "width": null,
            "min_width": null,
            "border": null,
            "align_items": null,
            "bottom": null,
            "_model_module": "@jupyter-widgets/base",
            "top": null,
            "grid_column": null,
            "overflow_y": null,
            "overflow_x": null,
            "grid_auto_flow": null,
            "grid_area": null,
            "grid_template_columns": null,
            "flex": null,
            "_model_name": "LayoutModel",
            "justify_items": null,
            "grid_row": null,
            "max_height": null,
            "align_content": null,
            "visibility": null,
            "align_self": null,
            "height": null,
            "min_height": null,
            "padding": null,
            "grid_auto_rows": null,
            "grid_gap": null,
            "max_width": null,
            "order": null,
            "_view_module_version": "1.2.0",
            "grid_template_areas": null,
            "object_position": null,
            "object_fit": null,
            "grid_auto_columns": null,
            "margin": null,
            "display": null,
            "left": null
          }
        },
        "335fd27f70fe4c8eade9d31dfb446add": {
          "model_module": "@jupyter-widgets/controls",
          "model_name": "DescriptionStyleModel",
          "state": {
            "_view_name": "StyleView",
            "_model_name": "DescriptionStyleModel",
            "description_width": "",
            "_view_module": "@jupyter-widgets/base",
            "_model_module_version": "1.5.0",
            "_view_count": null,
            "_view_module_version": "1.2.0",
            "_model_module": "@jupyter-widgets/controls"
          }
        },
        "91eed78ca07c447a9b8e055e997360b0": {
          "model_module": "@jupyter-widgets/base",
          "model_name": "LayoutModel",
          "state": {
            "_view_name": "LayoutView",
            "grid_template_rows": null,
            "right": null,
            "justify_content": null,
            "_view_module": "@jupyter-widgets/base",
            "overflow": null,
            "_model_module_version": "1.2.0",
            "_view_count": null,
            "flex_flow": null,
            "width": null,
            "min_width": null,
            "border": null,
            "align_items": null,
            "bottom": null,
            "_model_module": "@jupyter-widgets/base",
            "top": null,
            "grid_column": null,
            "overflow_y": null,
            "overflow_x": null,
            "grid_auto_flow": null,
            "grid_area": null,
            "grid_template_columns": null,
            "flex": null,
            "_model_name": "LayoutModel",
            "justify_items": null,
            "grid_row": null,
            "max_height": null,
            "align_content": null,
            "visibility": null,
            "align_self": null,
            "height": null,
            "min_height": null,
            "padding": null,
            "grid_auto_rows": null,
            "grid_gap": null,
            "max_width": null,
            "order": null,
            "_view_module_version": "1.2.0",
            "grid_template_areas": null,
            "object_position": null,
            "object_fit": null,
            "grid_auto_columns": null,
            "margin": null,
            "display": null,
            "left": null
          }
        },
        "213ccd0bf8b5411ab183830fab2d39a6": {
          "model_module": "@jupyter-widgets/controls",
          "model_name": "HBoxModel",
          "state": {
            "_view_name": "HBoxView",
            "_dom_classes": [],
            "_model_name": "HBoxModel",
            "_view_module": "@jupyter-widgets/controls",
            "_model_module_version": "1.5.0",
            "_view_count": null,
            "_view_module_version": "1.5.0",
            "box_style": "",
            "layout": "IPY_MODEL_cc1bab77df0e494cbc4543a96c442347",
            "_model_module": "@jupyter-widgets/controls",
            "children": [
              "IPY_MODEL_6e7158fb3e1842f683d51263853b51d3",
              "IPY_MODEL_8ca6017f33004f98833478e775880ca3"
            ]
          }
        },
        "cc1bab77df0e494cbc4543a96c442347": {
          "model_module": "@jupyter-widgets/base",
          "model_name": "LayoutModel",
          "state": {
            "_view_name": "LayoutView",
            "grid_template_rows": null,
            "right": null,
            "justify_content": null,
            "_view_module": "@jupyter-widgets/base",
            "overflow": null,
            "_model_module_version": "1.2.0",
            "_view_count": null,
            "flex_flow": null,
            "width": null,
            "min_width": null,
            "border": null,
            "align_items": null,
            "bottom": null,
            "_model_module": "@jupyter-widgets/base",
            "top": null,
            "grid_column": null,
            "overflow_y": null,
            "overflow_x": null,
            "grid_auto_flow": null,
            "grid_area": null,
            "grid_template_columns": null,
            "flex": null,
            "_model_name": "LayoutModel",
            "justify_items": null,
            "grid_row": null,
            "max_height": null,
            "align_content": null,
            "visibility": null,
            "align_self": null,
            "height": null,
            "min_height": null,
            "padding": null,
            "grid_auto_rows": null,
            "grid_gap": null,
            "max_width": null,
            "order": null,
            "_view_module_version": "1.2.0",
            "grid_template_areas": null,
            "object_position": null,
            "object_fit": null,
            "grid_auto_columns": null,
            "margin": null,
            "display": null,
            "left": null
          }
        },
        "6e7158fb3e1842f683d51263853b51d3": {
          "model_module": "@jupyter-widgets/controls",
          "model_name": "FloatProgressModel",
          "state": {
            "_view_name": "ProgressView",
            "style": "IPY_MODEL_4366e39e4cb843c98cea088e25f94781",
            "_dom_classes": [],
            "description": "100%",
            "_model_name": "FloatProgressModel",
            "bar_style": "success",
            "max": 1055,
            "_view_module": "@jupyter-widgets/controls",
            "_model_module_version": "1.5.0",
            "value": 1055,
            "_view_count": null,
            "_view_module_version": "1.5.0",
            "orientation": "horizontal",
            "min": 0,
            "description_tooltip": null,
            "_model_module": "@jupyter-widgets/controls",
            "layout": "IPY_MODEL_1f1948aa5aa646fe8fa666557c45c494"
          }
        },
        "8ca6017f33004f98833478e775880ca3": {
          "model_module": "@jupyter-widgets/controls",
          "model_name": "HTMLModel",
          "state": {
            "_view_name": "HTMLView",
            "style": "IPY_MODEL_dcdd1ef16475487d98448e8548d2c38b",
            "_dom_classes": [],
            "description": "",
            "_model_name": "HTMLModel",
            "placeholder": "​",
            "_view_module": "@jupyter-widgets/controls",
            "_model_module_version": "1.5.0",
            "value": " 1055/1055 [00:35&lt;00:00, 29.99it/s]",
            "_view_count": null,
            "_view_module_version": "1.5.0",
            "description_tooltip": null,
            "_model_module": "@jupyter-widgets/controls",
            "layout": "IPY_MODEL_da56be6b0458411aa1cc73ebcd4479c6"
          }
        },
        "4366e39e4cb843c98cea088e25f94781": {
          "model_module": "@jupyter-widgets/controls",
          "model_name": "ProgressStyleModel",
          "state": {
            "_view_name": "StyleView",
            "_model_name": "ProgressStyleModel",
            "description_width": "initial",
            "_view_module": "@jupyter-widgets/base",
            "_model_module_version": "1.5.0",
            "_view_count": null,
            "_view_module_version": "1.2.0",
            "bar_color": null,
            "_model_module": "@jupyter-widgets/controls"
          }
        },
        "1f1948aa5aa646fe8fa666557c45c494": {
          "model_module": "@jupyter-widgets/base",
          "model_name": "LayoutModel",
          "state": {
            "_view_name": "LayoutView",
            "grid_template_rows": null,
            "right": null,
            "justify_content": null,
            "_view_module": "@jupyter-widgets/base",
            "overflow": null,
            "_model_module_version": "1.2.0",
            "_view_count": null,
            "flex_flow": null,
            "width": null,
            "min_width": null,
            "border": null,
            "align_items": null,
            "bottom": null,
            "_model_module": "@jupyter-widgets/base",
            "top": null,
            "grid_column": null,
            "overflow_y": null,
            "overflow_x": null,
            "grid_auto_flow": null,
            "grid_area": null,
            "grid_template_columns": null,
            "flex": null,
            "_model_name": "LayoutModel",
            "justify_items": null,
            "grid_row": null,
            "max_height": null,
            "align_content": null,
            "visibility": null,
            "align_self": null,
            "height": null,
            "min_height": null,
            "padding": null,
            "grid_auto_rows": null,
            "grid_gap": null,
            "max_width": null,
            "order": null,
            "_view_module_version": "1.2.0",
            "grid_template_areas": null,
            "object_position": null,
            "object_fit": null,
            "grid_auto_columns": null,
            "margin": null,
            "display": null,
            "left": null
          }
        },
        "dcdd1ef16475487d98448e8548d2c38b": {
          "model_module": "@jupyter-widgets/controls",
          "model_name": "DescriptionStyleModel",
          "state": {
            "_view_name": "StyleView",
            "_model_name": "DescriptionStyleModel",
            "description_width": "",
            "_view_module": "@jupyter-widgets/base",
            "_model_module_version": "1.5.0",
            "_view_count": null,
            "_view_module_version": "1.2.0",
            "_model_module": "@jupyter-widgets/controls"
          }
        },
        "da56be6b0458411aa1cc73ebcd4479c6": {
          "model_module": "@jupyter-widgets/base",
          "model_name": "LayoutModel",
          "state": {
            "_view_name": "LayoutView",
            "grid_template_rows": null,
            "right": null,
            "justify_content": null,
            "_view_module": "@jupyter-widgets/base",
            "overflow": null,
            "_model_module_version": "1.2.0",
            "_view_count": null,
            "flex_flow": null,
            "width": null,
            "min_width": null,
            "border": null,
            "align_items": null,
            "bottom": null,
            "_model_module": "@jupyter-widgets/base",
            "top": null,
            "grid_column": null,
            "overflow_y": null,
            "overflow_x": null,
            "grid_auto_flow": null,
            "grid_area": null,
            "grid_template_columns": null,
            "flex": null,
            "_model_name": "LayoutModel",
            "justify_items": null,
            "grid_row": null,
            "max_height": null,
            "align_content": null,
            "visibility": null,
            "align_self": null,
            "height": null,
            "min_height": null,
            "padding": null,
            "grid_auto_rows": null,
            "grid_gap": null,
            "max_width": null,
            "order": null,
            "_view_module_version": "1.2.0",
            "grid_template_areas": null,
            "object_position": null,
            "object_fit": null,
            "grid_auto_columns": null,
            "margin": null,
            "display": null,
            "left": null
          }
        },
        "cfce5d82f8c8487794866cbd6208340e": {
          "model_module": "@jupyter-widgets/controls",
          "model_name": "HBoxModel",
          "state": {
            "_view_name": "HBoxView",
            "_dom_classes": [],
            "_model_name": "HBoxModel",
            "_view_module": "@jupyter-widgets/controls",
            "_model_module_version": "1.5.0",
            "_view_count": null,
            "_view_module_version": "1.5.0",
            "box_style": "",
            "layout": "IPY_MODEL_dfe449b103264c2e93f811511838f1f3",
            "_model_module": "@jupyter-widgets/controls",
            "children": [
              "IPY_MODEL_049328fbc69c49e2a3d150820b7e8c48",
              "IPY_MODEL_f43d46eaf5d44730b2e79801923e4556"
            ]
          }
        },
        "dfe449b103264c2e93f811511838f1f3": {
          "model_module": "@jupyter-widgets/base",
          "model_name": "LayoutModel",
          "state": {
            "_view_name": "LayoutView",
            "grid_template_rows": null,
            "right": null,
            "justify_content": null,
            "_view_module": "@jupyter-widgets/base",
            "overflow": null,
            "_model_module_version": "1.2.0",
            "_view_count": null,
            "flex_flow": null,
            "width": null,
            "min_width": null,
            "border": null,
            "align_items": null,
            "bottom": null,
            "_model_module": "@jupyter-widgets/base",
            "top": null,
            "grid_column": null,
            "overflow_y": null,
            "overflow_x": null,
            "grid_auto_flow": null,
            "grid_area": null,
            "grid_template_columns": null,
            "flex": null,
            "_model_name": "LayoutModel",
            "justify_items": null,
            "grid_row": null,
            "max_height": null,
            "align_content": null,
            "visibility": null,
            "align_self": null,
            "height": null,
            "min_height": null,
            "padding": null,
            "grid_auto_rows": null,
            "grid_gap": null,
            "max_width": null,
            "order": null,
            "_view_module_version": "1.2.0",
            "grid_template_areas": null,
            "object_position": null,
            "object_fit": null,
            "grid_auto_columns": null,
            "margin": null,
            "display": null,
            "left": null
          }
        },
        "049328fbc69c49e2a3d150820b7e8c48": {
          "model_module": "@jupyter-widgets/controls",
          "model_name": "FloatProgressModel",
          "state": {
            "_view_name": "ProgressView",
            "style": "IPY_MODEL_0c615db4d2c74308aac61bc5a38b48a1",
            "_dom_classes": [],
            "description": "100%",
            "_model_name": "FloatProgressModel",
            "bar_style": "success",
            "max": 1746,
            "_view_module": "@jupyter-widgets/controls",
            "_model_module_version": "1.5.0",
            "value": 1746,
            "_view_count": null,
            "_view_module_version": "1.5.0",
            "orientation": "horizontal",
            "min": 0,
            "description_tooltip": null,
            "_model_module": "@jupyter-widgets/controls",
            "layout": "IPY_MODEL_6a15a5ddf65e43ad9a2e2153f2c521ec"
          }
        },
        "f43d46eaf5d44730b2e79801923e4556": {
          "model_module": "@jupyter-widgets/controls",
          "model_name": "HTMLModel",
          "state": {
            "_view_name": "HTMLView",
            "style": "IPY_MODEL_48356ce279e74c8c9e78304cc012649e",
            "_dom_classes": [],
            "description": "",
            "_model_name": "HTMLModel",
            "placeholder": "​",
            "_view_module": "@jupyter-widgets/controls",
            "_model_module_version": "1.5.0",
            "value": " 1746/1746 [00:56&lt;00:00, 31.16it/s]",
            "_view_count": null,
            "_view_module_version": "1.5.0",
            "description_tooltip": null,
            "_model_module": "@jupyter-widgets/controls",
            "layout": "IPY_MODEL_592c7bfa952d428aad1c783710aa924f"
          }
        },
        "0c615db4d2c74308aac61bc5a38b48a1": {
          "model_module": "@jupyter-widgets/controls",
          "model_name": "ProgressStyleModel",
          "state": {
            "_view_name": "StyleView",
            "_model_name": "ProgressStyleModel",
            "description_width": "initial",
            "_view_module": "@jupyter-widgets/base",
            "_model_module_version": "1.5.0",
            "_view_count": null,
            "_view_module_version": "1.2.0",
            "bar_color": null,
            "_model_module": "@jupyter-widgets/controls"
          }
        },
        "6a15a5ddf65e43ad9a2e2153f2c521ec": {
          "model_module": "@jupyter-widgets/base",
          "model_name": "LayoutModel",
          "state": {
            "_view_name": "LayoutView",
            "grid_template_rows": null,
            "right": null,
            "justify_content": null,
            "_view_module": "@jupyter-widgets/base",
            "overflow": null,
            "_model_module_version": "1.2.0",
            "_view_count": null,
            "flex_flow": null,
            "width": null,
            "min_width": null,
            "border": null,
            "align_items": null,
            "bottom": null,
            "_model_module": "@jupyter-widgets/base",
            "top": null,
            "grid_column": null,
            "overflow_y": null,
            "overflow_x": null,
            "grid_auto_flow": null,
            "grid_area": null,
            "grid_template_columns": null,
            "flex": null,
            "_model_name": "LayoutModel",
            "justify_items": null,
            "grid_row": null,
            "max_height": null,
            "align_content": null,
            "visibility": null,
            "align_self": null,
            "height": null,
            "min_height": null,
            "padding": null,
            "grid_auto_rows": null,
            "grid_gap": null,
            "max_width": null,
            "order": null,
            "_view_module_version": "1.2.0",
            "grid_template_areas": null,
            "object_position": null,
            "object_fit": null,
            "grid_auto_columns": null,
            "margin": null,
            "display": null,
            "left": null
          }
        },
        "48356ce279e74c8c9e78304cc012649e": {
          "model_module": "@jupyter-widgets/controls",
          "model_name": "DescriptionStyleModel",
          "state": {
            "_view_name": "StyleView",
            "_model_name": "DescriptionStyleModel",
            "description_width": "",
            "_view_module": "@jupyter-widgets/base",
            "_model_module_version": "1.5.0",
            "_view_count": null,
            "_view_module_version": "1.2.0",
            "_model_module": "@jupyter-widgets/controls"
          }
        },
        "592c7bfa952d428aad1c783710aa924f": {
          "model_module": "@jupyter-widgets/base",
          "model_name": "LayoutModel",
          "state": {
            "_view_name": "LayoutView",
            "grid_template_rows": null,
            "right": null,
            "justify_content": null,
            "_view_module": "@jupyter-widgets/base",
            "overflow": null,
            "_model_module_version": "1.2.0",
            "_view_count": null,
            "flex_flow": null,
            "width": null,
            "min_width": null,
            "border": null,
            "align_items": null,
            "bottom": null,
            "_model_module": "@jupyter-widgets/base",
            "top": null,
            "grid_column": null,
            "overflow_y": null,
            "overflow_x": null,
            "grid_auto_flow": null,
            "grid_area": null,
            "grid_template_columns": null,
            "flex": null,
            "_model_name": "LayoutModel",
            "justify_items": null,
            "grid_row": null,
            "max_height": null,
            "align_content": null,
            "visibility": null,
            "align_self": null,
            "height": null,
            "min_height": null,
            "padding": null,
            "grid_auto_rows": null,
            "grid_gap": null,
            "max_width": null,
            "order": null,
            "_view_module_version": "1.2.0",
            "grid_template_areas": null,
            "object_position": null,
            "object_fit": null,
            "grid_auto_columns": null,
            "margin": null,
            "display": null,
            "left": null
          }
        },
        "8a0e4bf3acd34e8faf3cf50687045a61": {
          "model_module": "@jupyter-widgets/controls",
          "model_name": "HBoxModel",
          "state": {
            "_view_name": "HBoxView",
            "_dom_classes": [],
            "_model_name": "HBoxModel",
            "_view_module": "@jupyter-widgets/controls",
            "_model_module_version": "1.5.0",
            "_view_count": null,
            "_view_module_version": "1.5.0",
            "box_style": "",
            "layout": "IPY_MODEL_5f692bc44614402a844f8d7c37bb7ea3",
            "_model_module": "@jupyter-widgets/controls",
            "children": [
              "IPY_MODEL_e2e7149d19934284bc0f8aeae45177c4",
              "IPY_MODEL_adb85f3e68b64dc4a371705c7c329a55"
            ]
          }
        },
        "5f692bc44614402a844f8d7c37bb7ea3": {
          "model_module": "@jupyter-widgets/base",
          "model_name": "LayoutModel",
          "state": {
            "_view_name": "LayoutView",
            "grid_template_rows": null,
            "right": null,
            "justify_content": null,
            "_view_module": "@jupyter-widgets/base",
            "overflow": null,
            "_model_module_version": "1.2.0",
            "_view_count": null,
            "flex_flow": null,
            "width": null,
            "min_width": null,
            "border": null,
            "align_items": null,
            "bottom": null,
            "_model_module": "@jupyter-widgets/base",
            "top": null,
            "grid_column": null,
            "overflow_y": null,
            "overflow_x": null,
            "grid_auto_flow": null,
            "grid_area": null,
            "grid_template_columns": null,
            "flex": null,
            "_model_name": "LayoutModel",
            "justify_items": null,
            "grid_row": null,
            "max_height": null,
            "align_content": null,
            "visibility": null,
            "align_self": null,
            "height": null,
            "min_height": null,
            "padding": null,
            "grid_auto_rows": null,
            "grid_gap": null,
            "max_width": null,
            "order": null,
            "_view_module_version": "1.2.0",
            "grid_template_areas": null,
            "object_position": null,
            "object_fit": null,
            "grid_auto_columns": null,
            "margin": null,
            "display": null,
            "left": null
          }
        },
        "e2e7149d19934284bc0f8aeae45177c4": {
          "model_module": "@jupyter-widgets/controls",
          "model_name": "FloatProgressModel",
          "state": {
            "_view_name": "ProgressView",
            "style": "IPY_MODEL_92d23cfceba344bf8e459b6ca8d4e0d7",
            "_dom_classes": [],
            "description": "100%",
            "_model_name": "FloatProgressModel",
            "bar_style": "success",
            "max": 1055,
            "_view_module": "@jupyter-widgets/controls",
            "_model_module_version": "1.5.0",
            "value": 1055,
            "_view_count": null,
            "_view_module_version": "1.5.0",
            "orientation": "horizontal",
            "min": 0,
            "description_tooltip": null,
            "_model_module": "@jupyter-widgets/controls",
            "layout": "IPY_MODEL_825df6929d5d401789218732ed3f7160"
          }
        },
        "adb85f3e68b64dc4a371705c7c329a55": {
          "model_module": "@jupyter-widgets/controls",
          "model_name": "HTMLModel",
          "state": {
            "_view_name": "HTMLView",
            "style": "IPY_MODEL_b47a09d4aac34a1992489f171d7691aa",
            "_dom_classes": [],
            "description": "",
            "_model_name": "HTMLModel",
            "placeholder": "​",
            "_view_module": "@jupyter-widgets/controls",
            "_model_module_version": "1.5.0",
            "value": " 1055/1055 [00:14&lt;00:00, 71.91it/s]",
            "_view_count": null,
            "_view_module_version": "1.5.0",
            "description_tooltip": null,
            "_model_module": "@jupyter-widgets/controls",
            "layout": "IPY_MODEL_89837d56968e4e24ae88af6459d79cc3"
          }
        },
        "92d23cfceba344bf8e459b6ca8d4e0d7": {
          "model_module": "@jupyter-widgets/controls",
          "model_name": "ProgressStyleModel",
          "state": {
            "_view_name": "StyleView",
            "_model_name": "ProgressStyleModel",
            "description_width": "initial",
            "_view_module": "@jupyter-widgets/base",
            "_model_module_version": "1.5.0",
            "_view_count": null,
            "_view_module_version": "1.2.0",
            "bar_color": null,
            "_model_module": "@jupyter-widgets/controls"
          }
        },
        "825df6929d5d401789218732ed3f7160": {
          "model_module": "@jupyter-widgets/base",
          "model_name": "LayoutModel",
          "state": {
            "_view_name": "LayoutView",
            "grid_template_rows": null,
            "right": null,
            "justify_content": null,
            "_view_module": "@jupyter-widgets/base",
            "overflow": null,
            "_model_module_version": "1.2.0",
            "_view_count": null,
            "flex_flow": null,
            "width": null,
            "min_width": null,
            "border": null,
            "align_items": null,
            "bottom": null,
            "_model_module": "@jupyter-widgets/base",
            "top": null,
            "grid_column": null,
            "overflow_y": null,
            "overflow_x": null,
            "grid_auto_flow": null,
            "grid_area": null,
            "grid_template_columns": null,
            "flex": null,
            "_model_name": "LayoutModel",
            "justify_items": null,
            "grid_row": null,
            "max_height": null,
            "align_content": null,
            "visibility": null,
            "align_self": null,
            "height": null,
            "min_height": null,
            "padding": null,
            "grid_auto_rows": null,
            "grid_gap": null,
            "max_width": null,
            "order": null,
            "_view_module_version": "1.2.0",
            "grid_template_areas": null,
            "object_position": null,
            "object_fit": null,
            "grid_auto_columns": null,
            "margin": null,
            "display": null,
            "left": null
          }
        },
        "b47a09d4aac34a1992489f171d7691aa": {
          "model_module": "@jupyter-widgets/controls",
          "model_name": "DescriptionStyleModel",
          "state": {
            "_view_name": "StyleView",
            "_model_name": "DescriptionStyleModel",
            "description_width": "",
            "_view_module": "@jupyter-widgets/base",
            "_model_module_version": "1.5.0",
            "_view_count": null,
            "_view_module_version": "1.2.0",
            "_model_module": "@jupyter-widgets/controls"
          }
        },
        "89837d56968e4e24ae88af6459d79cc3": {
          "model_module": "@jupyter-widgets/base",
          "model_name": "LayoutModel",
          "state": {
            "_view_name": "LayoutView",
            "grid_template_rows": null,
            "right": null,
            "justify_content": null,
            "_view_module": "@jupyter-widgets/base",
            "overflow": null,
            "_model_module_version": "1.2.0",
            "_view_count": null,
            "flex_flow": null,
            "width": null,
            "min_width": null,
            "border": null,
            "align_items": null,
            "bottom": null,
            "_model_module": "@jupyter-widgets/base",
            "top": null,
            "grid_column": null,
            "overflow_y": null,
            "overflow_x": null,
            "grid_auto_flow": null,
            "grid_area": null,
            "grid_template_columns": null,
            "flex": null,
            "_model_name": "LayoutModel",
            "justify_items": null,
            "grid_row": null,
            "max_height": null,
            "align_content": null,
            "visibility": null,
            "align_self": null,
            "height": null,
            "min_height": null,
            "padding": null,
            "grid_auto_rows": null,
            "grid_gap": null,
            "max_width": null,
            "order": null,
            "_view_module_version": "1.2.0",
            "grid_template_areas": null,
            "object_position": null,
            "object_fit": null,
            "grid_auto_columns": null,
            "margin": null,
            "display": null,
            "left": null
          }
        },
        "ce9960ee5378462a8d2f46ee289b7d10": {
          "model_module": "@jupyter-widgets/controls",
          "model_name": "HBoxModel",
          "state": {
            "_view_name": "HBoxView",
            "_dom_classes": [],
            "_model_name": "HBoxModel",
            "_view_module": "@jupyter-widgets/controls",
            "_model_module_version": "1.5.0",
            "_view_count": null,
            "_view_module_version": "1.5.0",
            "box_style": "",
            "layout": "IPY_MODEL_3041b1b2b4d641a8ab85e336c66b5617",
            "_model_module": "@jupyter-widgets/controls",
            "children": [
              "IPY_MODEL_1d2541c3c5a8476484294e63d946fc17",
              "IPY_MODEL_5c627b05eb92491dad895cfba2d1f5de"
            ]
          }
        },
        "3041b1b2b4d641a8ab85e336c66b5617": {
          "model_module": "@jupyter-widgets/base",
          "model_name": "LayoutModel",
          "state": {
            "_view_name": "LayoutView",
            "grid_template_rows": null,
            "right": null,
            "justify_content": null,
            "_view_module": "@jupyter-widgets/base",
            "overflow": null,
            "_model_module_version": "1.2.0",
            "_view_count": null,
            "flex_flow": null,
            "width": null,
            "min_width": null,
            "border": null,
            "align_items": null,
            "bottom": null,
            "_model_module": "@jupyter-widgets/base",
            "top": null,
            "grid_column": null,
            "overflow_y": null,
            "overflow_x": null,
            "grid_auto_flow": null,
            "grid_area": null,
            "grid_template_columns": null,
            "flex": null,
            "_model_name": "LayoutModel",
            "justify_items": null,
            "grid_row": null,
            "max_height": null,
            "align_content": null,
            "visibility": null,
            "align_self": null,
            "height": null,
            "min_height": null,
            "padding": null,
            "grid_auto_rows": null,
            "grid_gap": null,
            "max_width": null,
            "order": null,
            "_view_module_version": "1.2.0",
            "grid_template_areas": null,
            "object_position": null,
            "object_fit": null,
            "grid_auto_columns": null,
            "margin": null,
            "display": null,
            "left": null
          }
        },
        "1d2541c3c5a8476484294e63d946fc17": {
          "model_module": "@jupyter-widgets/controls",
          "model_name": "FloatProgressModel",
          "state": {
            "_view_name": "ProgressView",
            "style": "IPY_MODEL_a6d15dd8a3184bfaabf3e8e5ceb46701",
            "_dom_classes": [],
            "description": "100%",
            "_model_name": "FloatProgressModel",
            "bar_style": "success",
            "max": 1746,
            "_view_module": "@jupyter-widgets/controls",
            "_model_module_version": "1.5.0",
            "value": 1746,
            "_view_count": null,
            "_view_module_version": "1.5.0",
            "orientation": "horizontal",
            "min": 0,
            "description_tooltip": null,
            "_model_module": "@jupyter-widgets/controls",
            "layout": "IPY_MODEL_907e173b056b4cf597b683cfde8c4290"
          }
        },
        "5c627b05eb92491dad895cfba2d1f5de": {
          "model_module": "@jupyter-widgets/controls",
          "model_name": "HTMLModel",
          "state": {
            "_view_name": "HTMLView",
            "style": "IPY_MODEL_e2f246516d164b038f0d55e1abb3aff2",
            "_dom_classes": [],
            "description": "",
            "_model_name": "HTMLModel",
            "placeholder": "​",
            "_view_module": "@jupyter-widgets/controls",
            "_model_module_version": "1.5.0",
            "value": " 1746/1746 [00:19&lt;00:00, 87.46it/s]",
            "_view_count": null,
            "_view_module_version": "1.5.0",
            "description_tooltip": null,
            "_model_module": "@jupyter-widgets/controls",
            "layout": "IPY_MODEL_d86247d1a2bf47c98b72ead3354e0ab6"
          }
        },
        "a6d15dd8a3184bfaabf3e8e5ceb46701": {
          "model_module": "@jupyter-widgets/controls",
          "model_name": "ProgressStyleModel",
          "state": {
            "_view_name": "StyleView",
            "_model_name": "ProgressStyleModel",
            "description_width": "initial",
            "_view_module": "@jupyter-widgets/base",
            "_model_module_version": "1.5.0",
            "_view_count": null,
            "_view_module_version": "1.2.0",
            "bar_color": null,
            "_model_module": "@jupyter-widgets/controls"
          }
        },
        "907e173b056b4cf597b683cfde8c4290": {
          "model_module": "@jupyter-widgets/base",
          "model_name": "LayoutModel",
          "state": {
            "_view_name": "LayoutView",
            "grid_template_rows": null,
            "right": null,
            "justify_content": null,
            "_view_module": "@jupyter-widgets/base",
            "overflow": null,
            "_model_module_version": "1.2.0",
            "_view_count": null,
            "flex_flow": null,
            "width": null,
            "min_width": null,
            "border": null,
            "align_items": null,
            "bottom": null,
            "_model_module": "@jupyter-widgets/base",
            "top": null,
            "grid_column": null,
            "overflow_y": null,
            "overflow_x": null,
            "grid_auto_flow": null,
            "grid_area": null,
            "grid_template_columns": null,
            "flex": null,
            "_model_name": "LayoutModel",
            "justify_items": null,
            "grid_row": null,
            "max_height": null,
            "align_content": null,
            "visibility": null,
            "align_self": null,
            "height": null,
            "min_height": null,
            "padding": null,
            "grid_auto_rows": null,
            "grid_gap": null,
            "max_width": null,
            "order": null,
            "_view_module_version": "1.2.0",
            "grid_template_areas": null,
            "object_position": null,
            "object_fit": null,
            "grid_auto_columns": null,
            "margin": null,
            "display": null,
            "left": null
          }
        },
        "e2f246516d164b038f0d55e1abb3aff2": {
          "model_module": "@jupyter-widgets/controls",
          "model_name": "DescriptionStyleModel",
          "state": {
            "_view_name": "StyleView",
            "_model_name": "DescriptionStyleModel",
            "description_width": "",
            "_view_module": "@jupyter-widgets/base",
            "_model_module_version": "1.5.0",
            "_view_count": null,
            "_view_module_version": "1.2.0",
            "_model_module": "@jupyter-widgets/controls"
          }
        },
        "d86247d1a2bf47c98b72ead3354e0ab6": {
          "model_module": "@jupyter-widgets/base",
          "model_name": "LayoutModel",
          "state": {
            "_view_name": "LayoutView",
            "grid_template_rows": null,
            "right": null,
            "justify_content": null,
            "_view_module": "@jupyter-widgets/base",
            "overflow": null,
            "_model_module_version": "1.2.0",
            "_view_count": null,
            "flex_flow": null,
            "width": null,
            "min_width": null,
            "border": null,
            "align_items": null,
            "bottom": null,
            "_model_module": "@jupyter-widgets/base",
            "top": null,
            "grid_column": null,
            "overflow_y": null,
            "overflow_x": null,
            "grid_auto_flow": null,
            "grid_area": null,
            "grid_template_columns": null,
            "flex": null,
            "_model_name": "LayoutModel",
            "justify_items": null,
            "grid_row": null,
            "max_height": null,
            "align_content": null,
            "visibility": null,
            "align_self": null,
            "height": null,
            "min_height": null,
            "padding": null,
            "grid_auto_rows": null,
            "grid_gap": null,
            "max_width": null,
            "order": null,
            "_view_module_version": "1.2.0",
            "grid_template_areas": null,
            "object_position": null,
            "object_fit": null,
            "grid_auto_columns": null,
            "margin": null,
            "display": null,
            "left": null
          }
        },
        "dc50da4c933c4f6eb5371da8f49cb9cf": {
          "model_module": "@jupyter-widgets/controls",
          "model_name": "HBoxModel",
          "state": {
            "_view_name": "HBoxView",
            "_dom_classes": [],
            "_model_name": "HBoxModel",
            "_view_module": "@jupyter-widgets/controls",
            "_model_module_version": "1.5.0",
            "_view_count": null,
            "_view_module_version": "1.5.0",
            "box_style": "",
            "layout": "IPY_MODEL_190fce310a504dc586913a193ca9fd7b",
            "_model_module": "@jupyter-widgets/controls",
            "children": [
              "IPY_MODEL_301249925016444f94315ffa937b3ff0",
              "IPY_MODEL_9fba175d9a72478aad247d1531a0b526"
            ]
          }
        },
        "190fce310a504dc586913a193ca9fd7b": {
          "model_module": "@jupyter-widgets/base",
          "model_name": "LayoutModel",
          "state": {
            "_view_name": "LayoutView",
            "grid_template_rows": null,
            "right": null,
            "justify_content": null,
            "_view_module": "@jupyter-widgets/base",
            "overflow": null,
            "_model_module_version": "1.2.0",
            "_view_count": null,
            "flex_flow": null,
            "width": null,
            "min_width": null,
            "border": null,
            "align_items": null,
            "bottom": null,
            "_model_module": "@jupyter-widgets/base",
            "top": null,
            "grid_column": null,
            "overflow_y": null,
            "overflow_x": null,
            "grid_auto_flow": null,
            "grid_area": null,
            "grid_template_columns": null,
            "flex": null,
            "_model_name": "LayoutModel",
            "justify_items": null,
            "grid_row": null,
            "max_height": null,
            "align_content": null,
            "visibility": null,
            "align_self": null,
            "height": null,
            "min_height": null,
            "padding": null,
            "grid_auto_rows": null,
            "grid_gap": null,
            "max_width": null,
            "order": null,
            "_view_module_version": "1.2.0",
            "grid_template_areas": null,
            "object_position": null,
            "object_fit": null,
            "grid_auto_columns": null,
            "margin": null,
            "display": null,
            "left": null
          }
        },
        "301249925016444f94315ffa937b3ff0": {
          "model_module": "@jupyter-widgets/controls",
          "model_name": "FloatProgressModel",
          "state": {
            "_view_name": "ProgressView",
            "style": "IPY_MODEL_024f4342348e45cc9ccee1fd4d7fa95d",
            "_dom_classes": [],
            "description": "100%",
            "_model_name": "FloatProgressModel",
            "bar_style": "success",
            "max": 1055,
            "_view_module": "@jupyter-widgets/controls",
            "_model_module_version": "1.5.0",
            "value": 1055,
            "_view_count": null,
            "_view_module_version": "1.5.0",
            "orientation": "horizontal",
            "min": 0,
            "description_tooltip": null,
            "_model_module": "@jupyter-widgets/controls",
            "layout": "IPY_MODEL_0fc95d3806aa438fac8c7fa6597df1a6"
          }
        },
        "9fba175d9a72478aad247d1531a0b526": {
          "model_module": "@jupyter-widgets/controls",
          "model_name": "HTMLModel",
          "state": {
            "_view_name": "HTMLView",
            "style": "IPY_MODEL_e48e61cbde2c4f39a190da9058072f25",
            "_dom_classes": [],
            "description": "",
            "_model_name": "HTMLModel",
            "placeholder": "​",
            "_view_module": "@jupyter-widgets/controls",
            "_model_module_version": "1.5.0",
            "value": " 1055/1055 [00:08&lt;00:00, 128.18it/s]",
            "_view_count": null,
            "_view_module_version": "1.5.0",
            "description_tooltip": null,
            "_model_module": "@jupyter-widgets/controls",
            "layout": "IPY_MODEL_d2b9e3ae587b4bfeab3ddba6c0056939"
          }
        },
        "024f4342348e45cc9ccee1fd4d7fa95d": {
          "model_module": "@jupyter-widgets/controls",
          "model_name": "ProgressStyleModel",
          "state": {
            "_view_name": "StyleView",
            "_model_name": "ProgressStyleModel",
            "description_width": "initial",
            "_view_module": "@jupyter-widgets/base",
            "_model_module_version": "1.5.0",
            "_view_count": null,
            "_view_module_version": "1.2.0",
            "bar_color": null,
            "_model_module": "@jupyter-widgets/controls"
          }
        },
        "0fc95d3806aa438fac8c7fa6597df1a6": {
          "model_module": "@jupyter-widgets/base",
          "model_name": "LayoutModel",
          "state": {
            "_view_name": "LayoutView",
            "grid_template_rows": null,
            "right": null,
            "justify_content": null,
            "_view_module": "@jupyter-widgets/base",
            "overflow": null,
            "_model_module_version": "1.2.0",
            "_view_count": null,
            "flex_flow": null,
            "width": null,
            "min_width": null,
            "border": null,
            "align_items": null,
            "bottom": null,
            "_model_module": "@jupyter-widgets/base",
            "top": null,
            "grid_column": null,
            "overflow_y": null,
            "overflow_x": null,
            "grid_auto_flow": null,
            "grid_area": null,
            "grid_template_columns": null,
            "flex": null,
            "_model_name": "LayoutModel",
            "justify_items": null,
            "grid_row": null,
            "max_height": null,
            "align_content": null,
            "visibility": null,
            "align_self": null,
            "height": null,
            "min_height": null,
            "padding": null,
            "grid_auto_rows": null,
            "grid_gap": null,
            "max_width": null,
            "order": null,
            "_view_module_version": "1.2.0",
            "grid_template_areas": null,
            "object_position": null,
            "object_fit": null,
            "grid_auto_columns": null,
            "margin": null,
            "display": null,
            "left": null
          }
        },
        "e48e61cbde2c4f39a190da9058072f25": {
          "model_module": "@jupyter-widgets/controls",
          "model_name": "DescriptionStyleModel",
          "state": {
            "_view_name": "StyleView",
            "_model_name": "DescriptionStyleModel",
            "description_width": "",
            "_view_module": "@jupyter-widgets/base",
            "_model_module_version": "1.5.0",
            "_view_count": null,
            "_view_module_version": "1.2.0",
            "_model_module": "@jupyter-widgets/controls"
          }
        },
        "d2b9e3ae587b4bfeab3ddba6c0056939": {
          "model_module": "@jupyter-widgets/base",
          "model_name": "LayoutModel",
          "state": {
            "_view_name": "LayoutView",
            "grid_template_rows": null,
            "right": null,
            "justify_content": null,
            "_view_module": "@jupyter-widgets/base",
            "overflow": null,
            "_model_module_version": "1.2.0",
            "_view_count": null,
            "flex_flow": null,
            "width": null,
            "min_width": null,
            "border": null,
            "align_items": null,
            "bottom": null,
            "_model_module": "@jupyter-widgets/base",
            "top": null,
            "grid_column": null,
            "overflow_y": null,
            "overflow_x": null,
            "grid_auto_flow": null,
            "grid_area": null,
            "grid_template_columns": null,
            "flex": null,
            "_model_name": "LayoutModel",
            "justify_items": null,
            "grid_row": null,
            "max_height": null,
            "align_content": null,
            "visibility": null,
            "align_self": null,
            "height": null,
            "min_height": null,
            "padding": null,
            "grid_auto_rows": null,
            "grid_gap": null,
            "max_width": null,
            "order": null,
            "_view_module_version": "1.2.0",
            "grid_template_areas": null,
            "object_position": null,
            "object_fit": null,
            "grid_auto_columns": null,
            "margin": null,
            "display": null,
            "left": null
          }
        },
        "6d57aeac8752497da8b02a5c9d77b19c": {
          "model_module": "@jupyter-widgets/controls",
          "model_name": "HBoxModel",
          "state": {
            "_view_name": "HBoxView",
            "_dom_classes": [],
            "_model_name": "HBoxModel",
            "_view_module": "@jupyter-widgets/controls",
            "_model_module_version": "1.5.0",
            "_view_count": null,
            "_view_module_version": "1.5.0",
            "box_style": "",
            "layout": "IPY_MODEL_152fef2d5c5a4f19895b26f2fe673c43",
            "_model_module": "@jupyter-widgets/controls",
            "children": [
              "IPY_MODEL_2d7a5c2a164d49079615fc0be78b2cd0",
              "IPY_MODEL_ec5c50a4c9b54839ac90bf5cb508457b"
            ]
          }
        },
        "152fef2d5c5a4f19895b26f2fe673c43": {
          "model_module": "@jupyter-widgets/base",
          "model_name": "LayoutModel",
          "state": {
            "_view_name": "LayoutView",
            "grid_template_rows": null,
            "right": null,
            "justify_content": null,
            "_view_module": "@jupyter-widgets/base",
            "overflow": null,
            "_model_module_version": "1.2.0",
            "_view_count": null,
            "flex_flow": null,
            "width": null,
            "min_width": null,
            "border": null,
            "align_items": null,
            "bottom": null,
            "_model_module": "@jupyter-widgets/base",
            "top": null,
            "grid_column": null,
            "overflow_y": null,
            "overflow_x": null,
            "grid_auto_flow": null,
            "grid_area": null,
            "grid_template_columns": null,
            "flex": null,
            "_model_name": "LayoutModel",
            "justify_items": null,
            "grid_row": null,
            "max_height": null,
            "align_content": null,
            "visibility": null,
            "align_self": null,
            "height": null,
            "min_height": null,
            "padding": null,
            "grid_auto_rows": null,
            "grid_gap": null,
            "max_width": null,
            "order": null,
            "_view_module_version": "1.2.0",
            "grid_template_areas": null,
            "object_position": null,
            "object_fit": null,
            "grid_auto_columns": null,
            "margin": null,
            "display": null,
            "left": null
          }
        },
        "2d7a5c2a164d49079615fc0be78b2cd0": {
          "model_module": "@jupyter-widgets/controls",
          "model_name": "FloatProgressModel",
          "state": {
            "_view_name": "ProgressView",
            "style": "IPY_MODEL_a04ecc92fa674c83b656974e1f464340",
            "_dom_classes": [],
            "description": "100%",
            "_model_name": "FloatProgressModel",
            "bar_style": "success",
            "max": 1746,
            "_view_module": "@jupyter-widgets/controls",
            "_model_module_version": "1.5.0",
            "value": 1746,
            "_view_count": null,
            "_view_module_version": "1.5.0",
            "orientation": "horizontal",
            "min": 0,
            "description_tooltip": null,
            "_model_module": "@jupyter-widgets/controls",
            "layout": "IPY_MODEL_32f405ca4d6b43a7afd2226f45ed6e99"
          }
        },
        "ec5c50a4c9b54839ac90bf5cb508457b": {
          "model_module": "@jupyter-widgets/controls",
          "model_name": "HTMLModel",
          "state": {
            "_view_name": "HTMLView",
            "style": "IPY_MODEL_a9472d1a5d184b249330457add943c59",
            "_dom_classes": [],
            "description": "",
            "_model_name": "HTMLModel",
            "placeholder": "​",
            "_view_module": "@jupyter-widgets/controls",
            "_model_module_version": "1.5.0",
            "value": " 1746/1746 [00:05&lt;00:00, 307.65it/s]",
            "_view_count": null,
            "_view_module_version": "1.5.0",
            "description_tooltip": null,
            "_model_module": "@jupyter-widgets/controls",
            "layout": "IPY_MODEL_ce96c7a249884d4bbaa1196fa67166bc"
          }
        },
        "a04ecc92fa674c83b656974e1f464340": {
          "model_module": "@jupyter-widgets/controls",
          "model_name": "ProgressStyleModel",
          "state": {
            "_view_name": "StyleView",
            "_model_name": "ProgressStyleModel",
            "description_width": "initial",
            "_view_module": "@jupyter-widgets/base",
            "_model_module_version": "1.5.0",
            "_view_count": null,
            "_view_module_version": "1.2.0",
            "bar_color": null,
            "_model_module": "@jupyter-widgets/controls"
          }
        },
        "32f405ca4d6b43a7afd2226f45ed6e99": {
          "model_module": "@jupyter-widgets/base",
          "model_name": "LayoutModel",
          "state": {
            "_view_name": "LayoutView",
            "grid_template_rows": null,
            "right": null,
            "justify_content": null,
            "_view_module": "@jupyter-widgets/base",
            "overflow": null,
            "_model_module_version": "1.2.0",
            "_view_count": null,
            "flex_flow": null,
            "width": null,
            "min_width": null,
            "border": null,
            "align_items": null,
            "bottom": null,
            "_model_module": "@jupyter-widgets/base",
            "top": null,
            "grid_column": null,
            "overflow_y": null,
            "overflow_x": null,
            "grid_auto_flow": null,
            "grid_area": null,
            "grid_template_columns": null,
            "flex": null,
            "_model_name": "LayoutModel",
            "justify_items": null,
            "grid_row": null,
            "max_height": null,
            "align_content": null,
            "visibility": null,
            "align_self": null,
            "height": null,
            "min_height": null,
            "padding": null,
            "grid_auto_rows": null,
            "grid_gap": null,
            "max_width": null,
            "order": null,
            "_view_module_version": "1.2.0",
            "grid_template_areas": null,
            "object_position": null,
            "object_fit": null,
            "grid_auto_columns": null,
            "margin": null,
            "display": null,
            "left": null
          }
        },
        "a9472d1a5d184b249330457add943c59": {
          "model_module": "@jupyter-widgets/controls",
          "model_name": "DescriptionStyleModel",
          "state": {
            "_view_name": "StyleView",
            "_model_name": "DescriptionStyleModel",
            "description_width": "",
            "_view_module": "@jupyter-widgets/base",
            "_model_module_version": "1.5.0",
            "_view_count": null,
            "_view_module_version": "1.2.0",
            "_model_module": "@jupyter-widgets/controls"
          }
        },
        "ce96c7a249884d4bbaa1196fa67166bc": {
          "model_module": "@jupyter-widgets/base",
          "model_name": "LayoutModel",
          "state": {
            "_view_name": "LayoutView",
            "grid_template_rows": null,
            "right": null,
            "justify_content": null,
            "_view_module": "@jupyter-widgets/base",
            "overflow": null,
            "_model_module_version": "1.2.0",
            "_view_count": null,
            "flex_flow": null,
            "width": null,
            "min_width": null,
            "border": null,
            "align_items": null,
            "bottom": null,
            "_model_module": "@jupyter-widgets/base",
            "top": null,
            "grid_column": null,
            "overflow_y": null,
            "overflow_x": null,
            "grid_auto_flow": null,
            "grid_area": null,
            "grid_template_columns": null,
            "flex": null,
            "_model_name": "LayoutModel",
            "justify_items": null,
            "grid_row": null,
            "max_height": null,
            "align_content": null,
            "visibility": null,
            "align_self": null,
            "height": null,
            "min_height": null,
            "padding": null,
            "grid_auto_rows": null,
            "grid_gap": null,
            "max_width": null,
            "order": null,
            "_view_module_version": "1.2.0",
            "grid_template_areas": null,
            "object_position": null,
            "object_fit": null,
            "grid_auto_columns": null,
            "margin": null,
            "display": null,
            "left": null
          }
        },
        "aeaa1cacfa6948c7907f8a24008b61f0": {
          "model_module": "@jupyter-widgets/controls",
          "model_name": "HBoxModel",
          "state": {
            "_view_name": "HBoxView",
            "_dom_classes": [],
            "_model_name": "HBoxModel",
            "_view_module": "@jupyter-widgets/controls",
            "_model_module_version": "1.5.0",
            "_view_count": null,
            "_view_module_version": "1.5.0",
            "box_style": "",
            "layout": "IPY_MODEL_661ea5faf14e4db8bfbaf529ff454a56",
            "_model_module": "@jupyter-widgets/controls",
            "children": [
              "IPY_MODEL_7397c81427954e0ea520bab6a714f97c",
              "IPY_MODEL_70eaab5ef7354d2ca0b22af6be017244"
            ]
          }
        },
        "661ea5faf14e4db8bfbaf529ff454a56": {
          "model_module": "@jupyter-widgets/base",
          "model_name": "LayoutModel",
          "state": {
            "_view_name": "LayoutView",
            "grid_template_rows": null,
            "right": null,
            "justify_content": null,
            "_view_module": "@jupyter-widgets/base",
            "overflow": null,
            "_model_module_version": "1.2.0",
            "_view_count": null,
            "flex_flow": null,
            "width": null,
            "min_width": null,
            "border": null,
            "align_items": null,
            "bottom": null,
            "_model_module": "@jupyter-widgets/base",
            "top": null,
            "grid_column": null,
            "overflow_y": null,
            "overflow_x": null,
            "grid_auto_flow": null,
            "grid_area": null,
            "grid_template_columns": null,
            "flex": null,
            "_model_name": "LayoutModel",
            "justify_items": null,
            "grid_row": null,
            "max_height": null,
            "align_content": null,
            "visibility": null,
            "align_self": null,
            "height": null,
            "min_height": null,
            "padding": null,
            "grid_auto_rows": null,
            "grid_gap": null,
            "max_width": null,
            "order": null,
            "_view_module_version": "1.2.0",
            "grid_template_areas": null,
            "object_position": null,
            "object_fit": null,
            "grid_auto_columns": null,
            "margin": null,
            "display": null,
            "left": null
          }
        },
        "7397c81427954e0ea520bab6a714f97c": {
          "model_module": "@jupyter-widgets/controls",
          "model_name": "FloatProgressModel",
          "state": {
            "_view_name": "ProgressView",
            "style": "IPY_MODEL_3250acde85434aecb54b1f32605ea30d",
            "_dom_classes": [],
            "description": "100%",
            "_model_name": "FloatProgressModel",
            "bar_style": "success",
            "max": 1055,
            "_view_module": "@jupyter-widgets/controls",
            "_model_module_version": "1.5.0",
            "value": 1055,
            "_view_count": null,
            "_view_module_version": "1.5.0",
            "orientation": "horizontal",
            "min": 0,
            "description_tooltip": null,
            "_model_module": "@jupyter-widgets/controls",
            "layout": "IPY_MODEL_ebb4dffad6fb4a6a81d5dd5c0a6b9768"
          }
        },
        "70eaab5ef7354d2ca0b22af6be017244": {
          "model_module": "@jupyter-widgets/controls",
          "model_name": "HTMLModel",
          "state": {
            "_view_name": "HTMLView",
            "style": "IPY_MODEL_e9056ea9364644e39b2d2a6627c87438",
            "_dom_classes": [],
            "description": "",
            "_model_name": "HTMLModel",
            "placeholder": "​",
            "_view_module": "@jupyter-widgets/controls",
            "_model_module_version": "1.5.0",
            "value": " 1055/1055 [00:03&lt;00:00, 317.01it/s]",
            "_view_count": null,
            "_view_module_version": "1.5.0",
            "description_tooltip": null,
            "_model_module": "@jupyter-widgets/controls",
            "layout": "IPY_MODEL_fbcdecf0f15641759fbe9d00eb4bfd94"
          }
        },
        "3250acde85434aecb54b1f32605ea30d": {
          "model_module": "@jupyter-widgets/controls",
          "model_name": "ProgressStyleModel",
          "state": {
            "_view_name": "StyleView",
            "_model_name": "ProgressStyleModel",
            "description_width": "initial",
            "_view_module": "@jupyter-widgets/base",
            "_model_module_version": "1.5.0",
            "_view_count": null,
            "_view_module_version": "1.2.0",
            "bar_color": null,
            "_model_module": "@jupyter-widgets/controls"
          }
        },
        "ebb4dffad6fb4a6a81d5dd5c0a6b9768": {
          "model_module": "@jupyter-widgets/base",
          "model_name": "LayoutModel",
          "state": {
            "_view_name": "LayoutView",
            "grid_template_rows": null,
            "right": null,
            "justify_content": null,
            "_view_module": "@jupyter-widgets/base",
            "overflow": null,
            "_model_module_version": "1.2.0",
            "_view_count": null,
            "flex_flow": null,
            "width": null,
            "min_width": null,
            "border": null,
            "align_items": null,
            "bottom": null,
            "_model_module": "@jupyter-widgets/base",
            "top": null,
            "grid_column": null,
            "overflow_y": null,
            "overflow_x": null,
            "grid_auto_flow": null,
            "grid_area": null,
            "grid_template_columns": null,
            "flex": null,
            "_model_name": "LayoutModel",
            "justify_items": null,
            "grid_row": null,
            "max_height": null,
            "align_content": null,
            "visibility": null,
            "align_self": null,
            "height": null,
            "min_height": null,
            "padding": null,
            "grid_auto_rows": null,
            "grid_gap": null,
            "max_width": null,
            "order": null,
            "_view_module_version": "1.2.0",
            "grid_template_areas": null,
            "object_position": null,
            "object_fit": null,
            "grid_auto_columns": null,
            "margin": null,
            "display": null,
            "left": null
          }
        },
        "e9056ea9364644e39b2d2a6627c87438": {
          "model_module": "@jupyter-widgets/controls",
          "model_name": "DescriptionStyleModel",
          "state": {
            "_view_name": "StyleView",
            "_model_name": "DescriptionStyleModel",
            "description_width": "",
            "_view_module": "@jupyter-widgets/base",
            "_model_module_version": "1.5.0",
            "_view_count": null,
            "_view_module_version": "1.2.0",
            "_model_module": "@jupyter-widgets/controls"
          }
        },
        "fbcdecf0f15641759fbe9d00eb4bfd94": {
          "model_module": "@jupyter-widgets/base",
          "model_name": "LayoutModel",
          "state": {
            "_view_name": "LayoutView",
            "grid_template_rows": null,
            "right": null,
            "justify_content": null,
            "_view_module": "@jupyter-widgets/base",
            "overflow": null,
            "_model_module_version": "1.2.0",
            "_view_count": null,
            "flex_flow": null,
            "width": null,
            "min_width": null,
            "border": null,
            "align_items": null,
            "bottom": null,
            "_model_module": "@jupyter-widgets/base",
            "top": null,
            "grid_column": null,
            "overflow_y": null,
            "overflow_x": null,
            "grid_auto_flow": null,
            "grid_area": null,
            "grid_template_columns": null,
            "flex": null,
            "_model_name": "LayoutModel",
            "justify_items": null,
            "grid_row": null,
            "max_height": null,
            "align_content": null,
            "visibility": null,
            "align_self": null,
            "height": null,
            "min_height": null,
            "padding": null,
            "grid_auto_rows": null,
            "grid_gap": null,
            "max_width": null,
            "order": null,
            "_view_module_version": "1.2.0",
            "grid_template_areas": null,
            "object_position": null,
            "object_fit": null,
            "grid_auto_columns": null,
            "margin": null,
            "display": null,
            "left": null
          }
        },
        "6af52721729449ac8c6dfc9f72da6b27": {
          "model_module": "@jupyter-widgets/controls",
          "model_name": "HBoxModel",
          "state": {
            "_view_name": "HBoxView",
            "_dom_classes": [],
            "_model_name": "HBoxModel",
            "_view_module": "@jupyter-widgets/controls",
            "_model_module_version": "1.5.0",
            "_view_count": null,
            "_view_module_version": "1.5.0",
            "box_style": "",
            "layout": "IPY_MODEL_9c2aca7307274c51b9e87018a7a98075",
            "_model_module": "@jupyter-widgets/controls",
            "children": [
              "IPY_MODEL_112982a41bc74dcf991c019cce2cee0f",
              "IPY_MODEL_c65e3a09b03649a7a7f98639abc6431c"
            ]
          }
        },
        "9c2aca7307274c51b9e87018a7a98075": {
          "model_module": "@jupyter-widgets/base",
          "model_name": "LayoutModel",
          "state": {
            "_view_name": "LayoutView",
            "grid_template_rows": null,
            "right": null,
            "justify_content": null,
            "_view_module": "@jupyter-widgets/base",
            "overflow": null,
            "_model_module_version": "1.2.0",
            "_view_count": null,
            "flex_flow": null,
            "width": null,
            "min_width": null,
            "border": null,
            "align_items": null,
            "bottom": null,
            "_model_module": "@jupyter-widgets/base",
            "top": null,
            "grid_column": null,
            "overflow_y": null,
            "overflow_x": null,
            "grid_auto_flow": null,
            "grid_area": null,
            "grid_template_columns": null,
            "flex": null,
            "_model_name": "LayoutModel",
            "justify_items": null,
            "grid_row": null,
            "max_height": null,
            "align_content": null,
            "visibility": null,
            "align_self": null,
            "height": null,
            "min_height": null,
            "padding": null,
            "grid_auto_rows": null,
            "grid_gap": null,
            "max_width": null,
            "order": null,
            "_view_module_version": "1.2.0",
            "grid_template_areas": null,
            "object_position": null,
            "object_fit": null,
            "grid_auto_columns": null,
            "margin": null,
            "display": null,
            "left": null
          }
        },
        "112982a41bc74dcf991c019cce2cee0f": {
          "model_module": "@jupyter-widgets/controls",
          "model_name": "FloatProgressModel",
          "state": {
            "_view_name": "ProgressView",
            "style": "IPY_MODEL_64f5644f13c243d1945059248eb01028",
            "_dom_classes": [],
            "description": "100%",
            "_model_name": "FloatProgressModel",
            "bar_style": "success",
            "max": 1746,
            "_view_module": "@jupyter-widgets/controls",
            "_model_module_version": "1.5.0",
            "value": 1746,
            "_view_count": null,
            "_view_module_version": "1.5.0",
            "orientation": "horizontal",
            "min": 0,
            "description_tooltip": null,
            "_model_module": "@jupyter-widgets/controls",
            "layout": "IPY_MODEL_6cea3cec25d843ceb472b15bc8cd40a2"
          }
        },
        "c65e3a09b03649a7a7f98639abc6431c": {
          "model_module": "@jupyter-widgets/controls",
          "model_name": "HTMLModel",
          "state": {
            "_view_name": "HTMLView",
            "style": "IPY_MODEL_688214fb501540188e8f6bd88ae9ba5b",
            "_dom_classes": [],
            "description": "",
            "_model_name": "HTMLModel",
            "placeholder": "​",
            "_view_module": "@jupyter-widgets/controls",
            "_model_module_version": "1.5.0",
            "value": " 1746/1746 [00:08&lt;00:00, 195.44it/s]",
            "_view_count": null,
            "_view_module_version": "1.5.0",
            "description_tooltip": null,
            "_model_module": "@jupyter-widgets/controls",
            "layout": "IPY_MODEL_e1103436858e4962838817a95f19e32a"
          }
        },
        "64f5644f13c243d1945059248eb01028": {
          "model_module": "@jupyter-widgets/controls",
          "model_name": "ProgressStyleModel",
          "state": {
            "_view_name": "StyleView",
            "_model_name": "ProgressStyleModel",
            "description_width": "initial",
            "_view_module": "@jupyter-widgets/base",
            "_model_module_version": "1.5.0",
            "_view_count": null,
            "_view_module_version": "1.2.0",
            "bar_color": null,
            "_model_module": "@jupyter-widgets/controls"
          }
        },
        "6cea3cec25d843ceb472b15bc8cd40a2": {
          "model_module": "@jupyter-widgets/base",
          "model_name": "LayoutModel",
          "state": {
            "_view_name": "LayoutView",
            "grid_template_rows": null,
            "right": null,
            "justify_content": null,
            "_view_module": "@jupyter-widgets/base",
            "overflow": null,
            "_model_module_version": "1.2.0",
            "_view_count": null,
            "flex_flow": null,
            "width": null,
            "min_width": null,
            "border": null,
            "align_items": null,
            "bottom": null,
            "_model_module": "@jupyter-widgets/base",
            "top": null,
            "grid_column": null,
            "overflow_y": null,
            "overflow_x": null,
            "grid_auto_flow": null,
            "grid_area": null,
            "grid_template_columns": null,
            "flex": null,
            "_model_name": "LayoutModel",
            "justify_items": null,
            "grid_row": null,
            "max_height": null,
            "align_content": null,
            "visibility": null,
            "align_self": null,
            "height": null,
            "min_height": null,
            "padding": null,
            "grid_auto_rows": null,
            "grid_gap": null,
            "max_width": null,
            "order": null,
            "_view_module_version": "1.2.0",
            "grid_template_areas": null,
            "object_position": null,
            "object_fit": null,
            "grid_auto_columns": null,
            "margin": null,
            "display": null,
            "left": null
          }
        },
        "688214fb501540188e8f6bd88ae9ba5b": {
          "model_module": "@jupyter-widgets/controls",
          "model_name": "DescriptionStyleModel",
          "state": {
            "_view_name": "StyleView",
            "_model_name": "DescriptionStyleModel",
            "description_width": "",
            "_view_module": "@jupyter-widgets/base",
            "_model_module_version": "1.5.0",
            "_view_count": null,
            "_view_module_version": "1.2.0",
            "_model_module": "@jupyter-widgets/controls"
          }
        },
        "e1103436858e4962838817a95f19e32a": {
          "model_module": "@jupyter-widgets/base",
          "model_name": "LayoutModel",
          "state": {
            "_view_name": "LayoutView",
            "grid_template_rows": null,
            "right": null,
            "justify_content": null,
            "_view_module": "@jupyter-widgets/base",
            "overflow": null,
            "_model_module_version": "1.2.0",
            "_view_count": null,
            "flex_flow": null,
            "width": null,
            "min_width": null,
            "border": null,
            "align_items": null,
            "bottom": null,
            "_model_module": "@jupyter-widgets/base",
            "top": null,
            "grid_column": null,
            "overflow_y": null,
            "overflow_x": null,
            "grid_auto_flow": null,
            "grid_area": null,
            "grid_template_columns": null,
            "flex": null,
            "_model_name": "LayoutModel",
            "justify_items": null,
            "grid_row": null,
            "max_height": null,
            "align_content": null,
            "visibility": null,
            "align_self": null,
            "height": null,
            "min_height": null,
            "padding": null,
            "grid_auto_rows": null,
            "grid_gap": null,
            "max_width": null,
            "order": null,
            "_view_module_version": "1.2.0",
            "grid_template_areas": null,
            "object_position": null,
            "object_fit": null,
            "grid_auto_columns": null,
            "margin": null,
            "display": null,
            "left": null
          }
        },
        "00d24c0ed5de4de2863ba2022d7edb8e": {
          "model_module": "@jupyter-widgets/controls",
          "model_name": "HBoxModel",
          "state": {
            "_view_name": "HBoxView",
            "_dom_classes": [],
            "_model_name": "HBoxModel",
            "_view_module": "@jupyter-widgets/controls",
            "_model_module_version": "1.5.0",
            "_view_count": null,
            "_view_module_version": "1.5.0",
            "box_style": "",
            "layout": "IPY_MODEL_685c266078a347dab0ea1368fa6dbdfe",
            "_model_module": "@jupyter-widgets/controls",
            "children": [
              "IPY_MODEL_d070a440e6fa4ba29c68410e3e035645",
              "IPY_MODEL_76cda63a1be0408ca73331a54b61067e"
            ]
          }
        },
        "685c266078a347dab0ea1368fa6dbdfe": {
          "model_module": "@jupyter-widgets/base",
          "model_name": "LayoutModel",
          "state": {
            "_view_name": "LayoutView",
            "grid_template_rows": null,
            "right": null,
            "justify_content": null,
            "_view_module": "@jupyter-widgets/base",
            "overflow": null,
            "_model_module_version": "1.2.0",
            "_view_count": null,
            "flex_flow": null,
            "width": null,
            "min_width": null,
            "border": null,
            "align_items": null,
            "bottom": null,
            "_model_module": "@jupyter-widgets/base",
            "top": null,
            "grid_column": null,
            "overflow_y": null,
            "overflow_x": null,
            "grid_auto_flow": null,
            "grid_area": null,
            "grid_template_columns": null,
            "flex": null,
            "_model_name": "LayoutModel",
            "justify_items": null,
            "grid_row": null,
            "max_height": null,
            "align_content": null,
            "visibility": null,
            "align_self": null,
            "height": null,
            "min_height": null,
            "padding": null,
            "grid_auto_rows": null,
            "grid_gap": null,
            "max_width": null,
            "order": null,
            "_view_module_version": "1.2.0",
            "grid_template_areas": null,
            "object_position": null,
            "object_fit": null,
            "grid_auto_columns": null,
            "margin": null,
            "display": null,
            "left": null
          }
        },
        "d070a440e6fa4ba29c68410e3e035645": {
          "model_module": "@jupyter-widgets/controls",
          "model_name": "FloatProgressModel",
          "state": {
            "_view_name": "ProgressView",
            "style": "IPY_MODEL_0a169ed984294bd1965804772d0e7a5a",
            "_dom_classes": [],
            "description": "100%",
            "_model_name": "FloatProgressModel",
            "bar_style": "success",
            "max": 1055,
            "_view_module": "@jupyter-widgets/controls",
            "_model_module_version": "1.5.0",
            "value": 1055,
            "_view_count": null,
            "_view_module_version": "1.5.0",
            "orientation": "horizontal",
            "min": 0,
            "description_tooltip": null,
            "_model_module": "@jupyter-widgets/controls",
            "layout": "IPY_MODEL_f4c2f8752b524250b2d5dc44c3f5b2b7"
          }
        },
        "76cda63a1be0408ca73331a54b61067e": {
          "model_module": "@jupyter-widgets/controls",
          "model_name": "HTMLModel",
          "state": {
            "_view_name": "HTMLView",
            "style": "IPY_MODEL_06a13b5ddc70490786fce737d60395c7",
            "_dom_classes": [],
            "description": "",
            "_model_name": "HTMLModel",
            "placeholder": "​",
            "_view_module": "@jupyter-widgets/controls",
            "_model_module_version": "1.5.0",
            "value": " 1055/1055 [00:03&lt;00:00, 270.80it/s]",
            "_view_count": null,
            "_view_module_version": "1.5.0",
            "description_tooltip": null,
            "_model_module": "@jupyter-widgets/controls",
            "layout": "IPY_MODEL_15c4491975b74ba1a3525bad5964fe7e"
          }
        },
        "0a169ed984294bd1965804772d0e7a5a": {
          "model_module": "@jupyter-widgets/controls",
          "model_name": "ProgressStyleModel",
          "state": {
            "_view_name": "StyleView",
            "_model_name": "ProgressStyleModel",
            "description_width": "initial",
            "_view_module": "@jupyter-widgets/base",
            "_model_module_version": "1.5.0",
            "_view_count": null,
            "_view_module_version": "1.2.0",
            "bar_color": null,
            "_model_module": "@jupyter-widgets/controls"
          }
        },
        "f4c2f8752b524250b2d5dc44c3f5b2b7": {
          "model_module": "@jupyter-widgets/base",
          "model_name": "LayoutModel",
          "state": {
            "_view_name": "LayoutView",
            "grid_template_rows": null,
            "right": null,
            "justify_content": null,
            "_view_module": "@jupyter-widgets/base",
            "overflow": null,
            "_model_module_version": "1.2.0",
            "_view_count": null,
            "flex_flow": null,
            "width": null,
            "min_width": null,
            "border": null,
            "align_items": null,
            "bottom": null,
            "_model_module": "@jupyter-widgets/base",
            "top": null,
            "grid_column": null,
            "overflow_y": null,
            "overflow_x": null,
            "grid_auto_flow": null,
            "grid_area": null,
            "grid_template_columns": null,
            "flex": null,
            "_model_name": "LayoutModel",
            "justify_items": null,
            "grid_row": null,
            "max_height": null,
            "align_content": null,
            "visibility": null,
            "align_self": null,
            "height": null,
            "min_height": null,
            "padding": null,
            "grid_auto_rows": null,
            "grid_gap": null,
            "max_width": null,
            "order": null,
            "_view_module_version": "1.2.0",
            "grid_template_areas": null,
            "object_position": null,
            "object_fit": null,
            "grid_auto_columns": null,
            "margin": null,
            "display": null,
            "left": null
          }
        },
        "06a13b5ddc70490786fce737d60395c7": {
          "model_module": "@jupyter-widgets/controls",
          "model_name": "DescriptionStyleModel",
          "state": {
            "_view_name": "StyleView",
            "_model_name": "DescriptionStyleModel",
            "description_width": "",
            "_view_module": "@jupyter-widgets/base",
            "_model_module_version": "1.5.0",
            "_view_count": null,
            "_view_module_version": "1.2.0",
            "_model_module": "@jupyter-widgets/controls"
          }
        },
        "15c4491975b74ba1a3525bad5964fe7e": {
          "model_module": "@jupyter-widgets/base",
          "model_name": "LayoutModel",
          "state": {
            "_view_name": "LayoutView",
            "grid_template_rows": null,
            "right": null,
            "justify_content": null,
            "_view_module": "@jupyter-widgets/base",
            "overflow": null,
            "_model_module_version": "1.2.0",
            "_view_count": null,
            "flex_flow": null,
            "width": null,
            "min_width": null,
            "border": null,
            "align_items": null,
            "bottom": null,
            "_model_module": "@jupyter-widgets/base",
            "top": null,
            "grid_column": null,
            "overflow_y": null,
            "overflow_x": null,
            "grid_auto_flow": null,
            "grid_area": null,
            "grid_template_columns": null,
            "flex": null,
            "_model_name": "LayoutModel",
            "justify_items": null,
            "grid_row": null,
            "max_height": null,
            "align_content": null,
            "visibility": null,
            "align_self": null,
            "height": null,
            "min_height": null,
            "padding": null,
            "grid_auto_rows": null,
            "grid_gap": null,
            "max_width": null,
            "order": null,
            "_view_module_version": "1.2.0",
            "grid_template_areas": null,
            "object_position": null,
            "object_fit": null,
            "grid_auto_columns": null,
            "margin": null,
            "display": null,
            "left": null
          }
        },
        "a78d5ec3a3494d8b88c6dd61669d61d1": {
          "model_module": "@jupyter-widgets/controls",
          "model_name": "HBoxModel",
          "state": {
            "_view_name": "HBoxView",
            "_dom_classes": [],
            "_model_name": "HBoxModel",
            "_view_module": "@jupyter-widgets/controls",
            "_model_module_version": "1.5.0",
            "_view_count": null,
            "_view_module_version": "1.5.0",
            "box_style": "",
            "layout": "IPY_MODEL_cf3e36d2c0ce4886b3a51ec2539ba2ec",
            "_model_module": "@jupyter-widgets/controls",
            "children": [
              "IPY_MODEL_7a07e1ff0ef547228d79da36c1c7a21a",
              "IPY_MODEL_0b9127a4017d470a92d08161c44a1a66"
            ]
          }
        },
        "cf3e36d2c0ce4886b3a51ec2539ba2ec": {
          "model_module": "@jupyter-widgets/base",
          "model_name": "LayoutModel",
          "state": {
            "_view_name": "LayoutView",
            "grid_template_rows": null,
            "right": null,
            "justify_content": null,
            "_view_module": "@jupyter-widgets/base",
            "overflow": null,
            "_model_module_version": "1.2.0",
            "_view_count": null,
            "flex_flow": null,
            "width": null,
            "min_width": null,
            "border": null,
            "align_items": null,
            "bottom": null,
            "_model_module": "@jupyter-widgets/base",
            "top": null,
            "grid_column": null,
            "overflow_y": null,
            "overflow_x": null,
            "grid_auto_flow": null,
            "grid_area": null,
            "grid_template_columns": null,
            "flex": null,
            "_model_name": "LayoutModel",
            "justify_items": null,
            "grid_row": null,
            "max_height": null,
            "align_content": null,
            "visibility": null,
            "align_self": null,
            "height": null,
            "min_height": null,
            "padding": null,
            "grid_auto_rows": null,
            "grid_gap": null,
            "max_width": null,
            "order": null,
            "_view_module_version": "1.2.0",
            "grid_template_areas": null,
            "object_position": null,
            "object_fit": null,
            "grid_auto_columns": null,
            "margin": null,
            "display": null,
            "left": null
          }
        },
        "7a07e1ff0ef547228d79da36c1c7a21a": {
          "model_module": "@jupyter-widgets/controls",
          "model_name": "FloatProgressModel",
          "state": {
            "_view_name": "ProgressView",
            "style": "IPY_MODEL_a697d5a835e34a8590f20f7f555296dc",
            "_dom_classes": [],
            "description": "100%",
            "_model_name": "FloatProgressModel",
            "bar_style": "success",
            "max": 1746,
            "_view_module": "@jupyter-widgets/controls",
            "_model_module_version": "1.5.0",
            "value": 1746,
            "_view_count": null,
            "_view_module_version": "1.5.0",
            "orientation": "horizontal",
            "min": 0,
            "description_tooltip": null,
            "_model_module": "@jupyter-widgets/controls",
            "layout": "IPY_MODEL_5588247aad584771a64f538901373b3a"
          }
        },
        "0b9127a4017d470a92d08161c44a1a66": {
          "model_module": "@jupyter-widgets/controls",
          "model_name": "HTMLModel",
          "state": {
            "_view_name": "HTMLView",
            "style": "IPY_MODEL_dd44274858584990afe102bb416af50c",
            "_dom_classes": [],
            "description": "",
            "_model_name": "HTMLModel",
            "placeholder": "​",
            "_view_module": "@jupyter-widgets/controls",
            "_model_module_version": "1.5.0",
            "value": " 1746/1746 [00:19&lt;00:00, 87.98it/s]",
            "_view_count": null,
            "_view_module_version": "1.5.0",
            "description_tooltip": null,
            "_model_module": "@jupyter-widgets/controls",
            "layout": "IPY_MODEL_45196ae3d2a64af0b6173c9324e51527"
          }
        },
        "a697d5a835e34a8590f20f7f555296dc": {
          "model_module": "@jupyter-widgets/controls",
          "model_name": "ProgressStyleModel",
          "state": {
            "_view_name": "StyleView",
            "_model_name": "ProgressStyleModel",
            "description_width": "initial",
            "_view_module": "@jupyter-widgets/base",
            "_model_module_version": "1.5.0",
            "_view_count": null,
            "_view_module_version": "1.2.0",
            "bar_color": null,
            "_model_module": "@jupyter-widgets/controls"
          }
        },
        "5588247aad584771a64f538901373b3a": {
          "model_module": "@jupyter-widgets/base",
          "model_name": "LayoutModel",
          "state": {
            "_view_name": "LayoutView",
            "grid_template_rows": null,
            "right": null,
            "justify_content": null,
            "_view_module": "@jupyter-widgets/base",
            "overflow": null,
            "_model_module_version": "1.2.0",
            "_view_count": null,
            "flex_flow": null,
            "width": null,
            "min_width": null,
            "border": null,
            "align_items": null,
            "bottom": null,
            "_model_module": "@jupyter-widgets/base",
            "top": null,
            "grid_column": null,
            "overflow_y": null,
            "overflow_x": null,
            "grid_auto_flow": null,
            "grid_area": null,
            "grid_template_columns": null,
            "flex": null,
            "_model_name": "LayoutModel",
            "justify_items": null,
            "grid_row": null,
            "max_height": null,
            "align_content": null,
            "visibility": null,
            "align_self": null,
            "height": null,
            "min_height": null,
            "padding": null,
            "grid_auto_rows": null,
            "grid_gap": null,
            "max_width": null,
            "order": null,
            "_view_module_version": "1.2.0",
            "grid_template_areas": null,
            "object_position": null,
            "object_fit": null,
            "grid_auto_columns": null,
            "margin": null,
            "display": null,
            "left": null
          }
        },
        "dd44274858584990afe102bb416af50c": {
          "model_module": "@jupyter-widgets/controls",
          "model_name": "DescriptionStyleModel",
          "state": {
            "_view_name": "StyleView",
            "_model_name": "DescriptionStyleModel",
            "description_width": "",
            "_view_module": "@jupyter-widgets/base",
            "_model_module_version": "1.5.0",
            "_view_count": null,
            "_view_module_version": "1.2.0",
            "_model_module": "@jupyter-widgets/controls"
          }
        },
        "45196ae3d2a64af0b6173c9324e51527": {
          "model_module": "@jupyter-widgets/base",
          "model_name": "LayoutModel",
          "state": {
            "_view_name": "LayoutView",
            "grid_template_rows": null,
            "right": null,
            "justify_content": null,
            "_view_module": "@jupyter-widgets/base",
            "overflow": null,
            "_model_module_version": "1.2.0",
            "_view_count": null,
            "flex_flow": null,
            "width": null,
            "min_width": null,
            "border": null,
            "align_items": null,
            "bottom": null,
            "_model_module": "@jupyter-widgets/base",
            "top": null,
            "grid_column": null,
            "overflow_y": null,
            "overflow_x": null,
            "grid_auto_flow": null,
            "grid_area": null,
            "grid_template_columns": null,
            "flex": null,
            "_model_name": "LayoutModel",
            "justify_items": null,
            "grid_row": null,
            "max_height": null,
            "align_content": null,
            "visibility": null,
            "align_self": null,
            "height": null,
            "min_height": null,
            "padding": null,
            "grid_auto_rows": null,
            "grid_gap": null,
            "max_width": null,
            "order": null,
            "_view_module_version": "1.2.0",
            "grid_template_areas": null,
            "object_position": null,
            "object_fit": null,
            "grid_auto_columns": null,
            "margin": null,
            "display": null,
            "left": null
          }
        },
        "b5d5d32d6cbe482b9e38597524ffa140": {
          "model_module": "@jupyter-widgets/controls",
          "model_name": "HBoxModel",
          "state": {
            "_view_name": "HBoxView",
            "_dom_classes": [],
            "_model_name": "HBoxModel",
            "_view_module": "@jupyter-widgets/controls",
            "_model_module_version": "1.5.0",
            "_view_count": null,
            "_view_module_version": "1.5.0",
            "box_style": "",
            "layout": "IPY_MODEL_57ae4b44dff44b16a460c8b227e29d49",
            "_model_module": "@jupyter-widgets/controls",
            "children": [
              "IPY_MODEL_5968ce13d94d4da2ab09e4abae101fd2",
              "IPY_MODEL_25ee6c2904894f7ca5d4dc0da226cbe4"
            ]
          }
        },
        "57ae4b44dff44b16a460c8b227e29d49": {
          "model_module": "@jupyter-widgets/base",
          "model_name": "LayoutModel",
          "state": {
            "_view_name": "LayoutView",
            "grid_template_rows": null,
            "right": null,
            "justify_content": null,
            "_view_module": "@jupyter-widgets/base",
            "overflow": null,
            "_model_module_version": "1.2.0",
            "_view_count": null,
            "flex_flow": null,
            "width": null,
            "min_width": null,
            "border": null,
            "align_items": null,
            "bottom": null,
            "_model_module": "@jupyter-widgets/base",
            "top": null,
            "grid_column": null,
            "overflow_y": null,
            "overflow_x": null,
            "grid_auto_flow": null,
            "grid_area": null,
            "grid_template_columns": null,
            "flex": null,
            "_model_name": "LayoutModel",
            "justify_items": null,
            "grid_row": null,
            "max_height": null,
            "align_content": null,
            "visibility": null,
            "align_self": null,
            "height": null,
            "min_height": null,
            "padding": null,
            "grid_auto_rows": null,
            "grid_gap": null,
            "max_width": null,
            "order": null,
            "_view_module_version": "1.2.0",
            "grid_template_areas": null,
            "object_position": null,
            "object_fit": null,
            "grid_auto_columns": null,
            "margin": null,
            "display": null,
            "left": null
          }
        },
        "5968ce13d94d4da2ab09e4abae101fd2": {
          "model_module": "@jupyter-widgets/controls",
          "model_name": "FloatProgressModel",
          "state": {
            "_view_name": "ProgressView",
            "style": "IPY_MODEL_9bc573e6684148b2a4ba5906cc1e7ed0",
            "_dom_classes": [],
            "description": "100%",
            "_model_name": "FloatProgressModel",
            "bar_style": "success",
            "max": 1055,
            "_view_module": "@jupyter-widgets/controls",
            "_model_module_version": "1.5.0",
            "value": 1055,
            "_view_count": null,
            "_view_module_version": "1.5.0",
            "orientation": "horizontal",
            "min": 0,
            "description_tooltip": null,
            "_model_module": "@jupyter-widgets/controls",
            "layout": "IPY_MODEL_ba296ccbfffa466781b751025518f79f"
          }
        },
        "25ee6c2904894f7ca5d4dc0da226cbe4": {
          "model_module": "@jupyter-widgets/controls",
          "model_name": "HTMLModel",
          "state": {
            "_view_name": "HTMLView",
            "style": "IPY_MODEL_f1baf20a0e894d4a97659dd9f697d260",
            "_dom_classes": [],
            "description": "",
            "_model_name": "HTMLModel",
            "placeholder": "​",
            "_view_module": "@jupyter-widgets/controls",
            "_model_module_version": "1.5.0",
            "value": " 1055/1055 [00:12&lt;00:00, 81.20it/s]",
            "_view_count": null,
            "_view_module_version": "1.5.0",
            "description_tooltip": null,
            "_model_module": "@jupyter-widgets/controls",
            "layout": "IPY_MODEL_9a96250c361742bc9e7a67a02ca9a28a"
          }
        },
        "9bc573e6684148b2a4ba5906cc1e7ed0": {
          "model_module": "@jupyter-widgets/controls",
          "model_name": "ProgressStyleModel",
          "state": {
            "_view_name": "StyleView",
            "_model_name": "ProgressStyleModel",
            "description_width": "initial",
            "_view_module": "@jupyter-widgets/base",
            "_model_module_version": "1.5.0",
            "_view_count": null,
            "_view_module_version": "1.2.0",
            "bar_color": null,
            "_model_module": "@jupyter-widgets/controls"
          }
        },
        "ba296ccbfffa466781b751025518f79f": {
          "model_module": "@jupyter-widgets/base",
          "model_name": "LayoutModel",
          "state": {
            "_view_name": "LayoutView",
            "grid_template_rows": null,
            "right": null,
            "justify_content": null,
            "_view_module": "@jupyter-widgets/base",
            "overflow": null,
            "_model_module_version": "1.2.0",
            "_view_count": null,
            "flex_flow": null,
            "width": null,
            "min_width": null,
            "border": null,
            "align_items": null,
            "bottom": null,
            "_model_module": "@jupyter-widgets/base",
            "top": null,
            "grid_column": null,
            "overflow_y": null,
            "overflow_x": null,
            "grid_auto_flow": null,
            "grid_area": null,
            "grid_template_columns": null,
            "flex": null,
            "_model_name": "LayoutModel",
            "justify_items": null,
            "grid_row": null,
            "max_height": null,
            "align_content": null,
            "visibility": null,
            "align_self": null,
            "height": null,
            "min_height": null,
            "padding": null,
            "grid_auto_rows": null,
            "grid_gap": null,
            "max_width": null,
            "order": null,
            "_view_module_version": "1.2.0",
            "grid_template_areas": null,
            "object_position": null,
            "object_fit": null,
            "grid_auto_columns": null,
            "margin": null,
            "display": null,
            "left": null
          }
        },
        "f1baf20a0e894d4a97659dd9f697d260": {
          "model_module": "@jupyter-widgets/controls",
          "model_name": "DescriptionStyleModel",
          "state": {
            "_view_name": "StyleView",
            "_model_name": "DescriptionStyleModel",
            "description_width": "",
            "_view_module": "@jupyter-widgets/base",
            "_model_module_version": "1.5.0",
            "_view_count": null,
            "_view_module_version": "1.2.0",
            "_model_module": "@jupyter-widgets/controls"
          }
        },
        "9a96250c361742bc9e7a67a02ca9a28a": {
          "model_module": "@jupyter-widgets/base",
          "model_name": "LayoutModel",
          "state": {
            "_view_name": "LayoutView",
            "grid_template_rows": null,
            "right": null,
            "justify_content": null,
            "_view_module": "@jupyter-widgets/base",
            "overflow": null,
            "_model_module_version": "1.2.0",
            "_view_count": null,
            "flex_flow": null,
            "width": null,
            "min_width": null,
            "border": null,
            "align_items": null,
            "bottom": null,
            "_model_module": "@jupyter-widgets/base",
            "top": null,
            "grid_column": null,
            "overflow_y": null,
            "overflow_x": null,
            "grid_auto_flow": null,
            "grid_area": null,
            "grid_template_columns": null,
            "flex": null,
            "_model_name": "LayoutModel",
            "justify_items": null,
            "grid_row": null,
            "max_height": null,
            "align_content": null,
            "visibility": null,
            "align_self": null,
            "height": null,
            "min_height": null,
            "padding": null,
            "grid_auto_rows": null,
            "grid_gap": null,
            "max_width": null,
            "order": null,
            "_view_module_version": "1.2.0",
            "grid_template_areas": null,
            "object_position": null,
            "object_fit": null,
            "grid_auto_columns": null,
            "margin": null,
            "display": null,
            "left": null
          }
        }
      }
    }
  },
  "cells": [
    {
      "cell_type": "markdown",
      "metadata": {
        "id": "5SQc6gRPqd_p"
      },
      "source": [
        "# **Setup**"
      ]
    },
    {
      "cell_type": "code",
      "metadata": {
        "colab": {
          "base_uri": "https://localhost:8080/"
        },
        "id": "3oBQvX59qcwx",
        "outputId": "2a5588f7-c0fa-4504-923e-82df2c4675a1"
      },
      "source": [
        "!gdown --id 13NfLMq7bgqNGeiaCCKRk--njjksIaRTy\r\n",
        "!unzip -q '/content/Crop_data.zip'"
      ],
      "execution_count": 1,
      "outputs": [
        {
          "output_type": "stream",
          "text": [
            "Downloading...\n",
            "From: https://drive.google.com/uc?id=13NfLMq7bgqNGeiaCCKRk--njjksIaRTy\n",
            "To: /content/Crop_data.zip\n",
            "858MB [00:06, 126MB/s]\n"
          ],
          "name": "stdout"
        }
      ]
    },
    {
      "cell_type": "code",
      "metadata": {
        "id": "FjwRW2FhqqCI",
        "colab": {
          "base_uri": "https://localhost:8080/"
        },
        "outputId": "df294cd7-1342-45a1-b3cc-d7ddcc1ba891"
      },
      "source": [
        "%%time\r\n",
        "# Extract\r\n",
        "!unzip -q '/content/Crop_data/image_arrays_test.zip'\r\n",
        "!unzip -q '/content/Crop_data/image_arrays_train.zip'"
      ],
      "execution_count": 2,
      "outputs": [
        {
          "output_type": "stream",
          "text": [
            "CPU times: user 227 ms, sys: 39.5 ms, total: 266 ms\n",
            "Wall time: 1min 15s\n"
          ],
          "name": "stdout"
        }
      ]
    },
    {
      "cell_type": "code",
      "metadata": {
        "id": "0T8M6qjRqriC"
      },
      "source": [
        "# Copying in the zip files from Google Drive (alternately just upload them)\r\n",
        "!cp '/content/Crop_data/Train.csv' .\r\n",
        "!cp '/content/Crop_data/SampleSubmission.csv' .\r\n",
        "!cp '/content/Crop_data/bandnames.txt' .\r\n",
        "!cp '/content/Crop_data/fields_w_additional_info.csv' .\r\n",
        "!cp '/content/Crop_data/test_field_ids_with_year.csv' ."
      ],
      "execution_count": 3,
      "outputs": []
    },
    {
      "cell_type": "markdown",
      "metadata": {
        "id": "r1BSbqVayyw8"
      },
      "source": [
        "# **Helpers**"
      ]
    },
    {
      "cell_type": "markdown",
      "metadata": {
        "id": "ob3NhJYr02i7"
      },
      "source": [
        "\r\n",
        "\r\n",
        "## 1.   **addtional_is_Useful**\r\n",
        "\r\n"
      ]
    },
    {
      "cell_type": "markdown",
      "metadata": {
        "id": "Y8BhyXTry6Sl"
      },
      "source": [
        "\r\n",
        "\r\n",
        "\r\n",
        "\r\n",
        " >  **Instead of using all the Adittional Data , we will use just some statictics over 4 Years :** \r\n",
        "```\r\n",
        "1.   Average Over 4 Years By Each Month in Maize Season in kenya for some Climat Variables \r\n",
        "2.   Select Specific Soil Features\r\n",
        "```\r\n",
        "\r\n",
        " \r\n",
        "\r\n",
        "\r\n",
        "\r\n",
        "\r\n",
        "\r\n",
        "\r\n"
      ]
    },
    {
      "cell_type": "code",
      "metadata": {
        "id": "aQa_SpftqtJx"
      },
      "source": [
        "def addtional_is_Useful(additional,soil_cols) : \r\n",
        "  \r\n",
        "  additional_ = pd.DataFrame()\r\n",
        "  climat = ['pr','tmmn','tmmx'] \r\n",
        "\r\n",
        "  for month in range(3,10) :  \r\n",
        "    for  climat_ in climat :\r\n",
        "      features_ = []\r\n",
        "      for year in [2016,2017,2018,2019] :\r\n",
        "          features_.append('climate_'+str(year) + '_' + str(month) + f'_{climat_}' )\r\n",
        "      additional_[f'ADDITIONAL_PER_4_YEARS_mean_{month-1}_{climat_}'] = additional[features_].mean(axis=1)\r\n",
        "  \r\n",
        "  # Soil Columns\r\n",
        "  for col in special_cols : \r\n",
        "    additional_[col] = additional[col]\r\n",
        "  return additional_"
      ],
      "execution_count": 4,
      "outputs": []
    },
    {
      "cell_type": "markdown",
      "metadata": {
        "id": "ZeZagQUx0ulE"
      },
      "source": [
        "## **Vegetation - Indexs**"
      ]
    },
    {
      "cell_type": "markdown",
      "metadata": {
        "id": "WXV6QDj91Bdz"
      },
      "source": [
        "### **1. NDVI (Normalized Difference Vegetation  Indexes)**"
      ]
    },
    {
      "cell_type": "markdown",
      "metadata": {
        "id": "om60P2Bx1Oob"
      },
      "source": [
        "\r\n",
        "\r\n",
        "> **General formula: (MIR - NIR) / (MIR + NIR)**\r\n",
        "\r\n"
      ]
    },
    {
      "cell_type": "code",
      "metadata": {
        "id": "jo1pqopn0oty"
      },
      "source": [
        "def get_NDVI_data(fid, folder='image_arrays_train') :\r\n",
        "  fn = f'{folder}/{fid}.npy'\r\n",
        "  arr = np.load(fn)\r\n",
        "  bands_of_interest = ['S2_B4', 'S2_B8']\r\n",
        "  values = {}\r\n",
        "  \r\n",
        "  for month in [1,2,11,0,3,4,5,6,7,8,9,10]: \r\n",
        "    bns = [str(month) + '_' + b for b in bands_of_interest] \r\n",
        "    idxs = np.where(np.isin(band_names, bns)) \r\n",
        "    \r\n",
        "    NDVI_arr = (arr[idxs][1].astype(int)-arr[idxs][0].astype(int)) / (arr[idxs][1].astype(int)+arr[idxs][0].astype(int))\r\n",
        "    values['NDVI_Median_'+str(month)] = np.median(NDVI_arr)\r\n",
        "  \r\n",
        "  for month in [0,3,4,5,6,7,8,9,10]: \r\n",
        "    bns = [str(month) + '_' + b for b in bands_of_interest] \r\n",
        "    idxs = np.where(np.isin(band_names, bns)) \r\n",
        "    \r\n",
        "    NDVI_arr = (arr[idxs][1].astype(int)-arr[idxs][0].astype(int)) / (arr[idxs][1].astype(int)+arr[idxs][0].astype(int))\r\n",
        "    values['NDVI_Min_'+str(month)] = NDVI_arr.min()\r\n",
        "    values['NDVI_Max_'+str(month)] = NDVI_arr.max()\r\n",
        "  return values"
      ],
      "execution_count": 5,
      "outputs": []
    },
    {
      "cell_type": "markdown",
      "metadata": {
        "id": "a1NgCJhD12wT"
      },
      "source": [
        "### **2. EVI (Enhanced Vegetation Index)**"
      ]
    },
    {
      "cell_type": "markdown",
      "metadata": {
        "id": "bNh1TpQu12wZ"
      },
      "source": [
        "\r\n",
        "\r\n",
        "> **General formula: 2.5 * (NIR - RED) / ((NIR + 6*RED - 7.5*BLUE) + 1)**\r\n",
        "\r\n"
      ]
    },
    {
      "cell_type": "code",
      "metadata": {
        "id": "v2BHkVe_12wZ"
      },
      "source": [
        "def get_EVI_data(fid, folder='image_arrays_train') :\r\n",
        "  fn = f'{folder}/{fid}.npy'\r\n",
        "  arr = np.load(fn)\r\n",
        "  bands_of_interest = ['S2_B4', 'S2_B8','S2_B2']\r\n",
        "  values = {}\r\n",
        "  \r\n",
        "  for month in [1,2,11,0,3,4,5,6,7,8,9,10]: \r\n",
        "    bns = [str(month) + '_' + b for b in bands_of_interest] \r\n",
        "    idxs = np.where(np.isin(band_names, bns)) \r\n",
        "    B08 = arr[idxs][1].astype(int)\r\n",
        "    B04 = arr[idxs][0].astype(int)\r\n",
        "    B02 = arr[idxs][2].astype(int)\r\n",
        "    \r\n",
        "    EVI_arr = 2.5 * (B08 - B04) / ((B08 + 6.0 * B04 - 7.5 * B02) + 1.0)\r\n",
        "    values['EVI_Median_'+str(month)] = np.median(EVI_arr)\r\n",
        "  \r\n",
        "  for month in [2,3,4,5,6,7,8,9,10,11]:\r\n",
        "    bns = [str(month) + '_' + b for b in bands_of_interest] \r\n",
        "    idxs = np.where(np.isin(band_names, bns)) \r\n",
        "    B08 = arr[idxs][1].astype(int)\r\n",
        "    B04 = arr[idxs][0].astype(int)\r\n",
        "    B02 = arr[idxs][2].astype(int)\r\n",
        "    \r\n",
        "    EVI_arr = 2.5 * (B08 - B04) / ((B08 + 6.0 * B04 - 7.5 * B02) + 1.0)\r\n",
        "    values['EVI_Max_'+str(month)] = EVI_arr.max()\r\n",
        "  return values"
      ],
      "execution_count": 6,
      "outputs": []
    },
    {
      "cell_type": "markdown",
      "metadata": {
        "id": "-2RLczu94vPi"
      },
      "source": [
        "### **3. SAVI (Soil Adjusted Vegetation Index)**"
      ]
    },
    {
      "cell_type": "markdown",
      "metadata": {
        "id": "I53WX20A4vPk"
      },
      "source": [
        "\r\n",
        "\r\n",
        "> **General formula : (B08 - B04) / (B08 + B04 + L) * (1.0 + L)**\r\n",
        "\r\n"
      ]
    },
    {
      "cell_type": "code",
      "metadata": {
        "id": "7UYm2OOd4vPk"
      },
      "source": [
        "def get_SAVI_data(fid, folder='image_arrays_train') :\r\n",
        "  fn = f'{folder}/{fid}.npy'\r\n",
        "  arr = np.load(fn)\r\n",
        "  bands_of_interest = ['S2_B4', 'S2_B8']\r\n",
        "  L = 0.725\r\n",
        "  values = {}\r\n",
        "  \r\n",
        "  for month in range(12): \r\n",
        "    bns = [str(month) + '_' + b for b in bands_of_interest] \r\n",
        "    idxs = np.where(np.isin(band_names, bns)) \r\n",
        "    B08 = arr[idxs][1].astype(int)\r\n",
        "    B04 = arr[idxs][0].astype(int)\r\n",
        "    \r\n",
        "    SAVI_arr = (B08 - B04) / (B08 + B04 + L) * (1.0 + L)\r\n",
        "    values['SAVI_Max_'+str(month)] = SAVI_arr.max()\r\n",
        "  return values"
      ],
      "execution_count": 7,
      "outputs": []
    },
    {
      "cell_type": "markdown",
      "metadata": {
        "id": "OukE9O0y-r0m"
      },
      "source": [
        "### **4. GRNDVI (Green-Red NDVI)**"
      ]
    },
    {
      "cell_type": "markdown",
      "metadata": {
        "id": "_3qdNJ__-r0s"
      },
      "source": [
        "\r\n",
        "\r\n",
        "> **General formula : (B08 - (B03 + B04)) / (B08 + (B03 + B04))**\r\n",
        "\r\n"
      ]
    },
    {
      "cell_type": "code",
      "metadata": {
        "id": "kjCZvBWD-r0t"
      },
      "source": [
        "def get_GRNDVI_data(fid, folder='image_arrays_train') :\r\n",
        "  fn = f'{folder}/{fid}.npy'\r\n",
        "  arr = np.load(fn)\r\n",
        "  bands_of_interest = ['S2_B3','S2_B4','S2_B8']\r\n",
        "  \r\n",
        "  values = {}\r\n",
        "  for month in [1,2,11,0,3,4,5,6,7,8,9,10]: \r\n",
        "    bns = [str(month) + '_' + b for b in bands_of_interest] \r\n",
        "    idxs = np.where(np.isin(band_names, bns)) \r\n",
        "    B03 = arr[idxs][0].astype(int)\r\n",
        "    B04 = arr[idxs][1].astype(int)\r\n",
        "    B08 = arr[idxs][2].astype(int)\r\n",
        "\r\n",
        "    GRNDVI_arr = (B08 - (B03 + B04)) / (B08 + (B03 + B04))\r\n",
        "    values['GRNDVI_Min_'+str(month)] = GRNDVI_arr.min()\r\n",
        "    values['GRNDVI_Max_'+str(month)] = GRNDVI_arr.max()\r\n",
        "    values['GRNDVI_Median_'+str(month)] = np.median(GRNDVI_arr)\r\n",
        "  \r\n",
        "  for month in [0,3,4,5,6,7,8,9,10]: \r\n",
        "    bns = [str(month) + '_' + b for b in bands_of_interest] \r\n",
        "    idxs = np.where(np.isin(band_names, bns)) \r\n",
        "    B03 = arr[idxs][0].astype(int)\r\n",
        "    B04 = arr[idxs][1].astype(int)\r\n",
        "    B08 = arr[idxs][2].astype(int)\r\n",
        "\r\n",
        "    GRNDVI_arr = (B08 - (B03 + B04)) / (B08 + (B03 + B04))\r\n",
        "    values['GRNDVI_Min_'+str(month)] = GRNDVI_arr.min()\r\n",
        "    values['GRNDVI_Max_'+str(month)] = GRNDVI_arr.max()\r\n",
        "  return values"
      ],
      "execution_count": 8,
      "outputs": []
    },
    {
      "cell_type": "markdown",
      "metadata": {
        "id": "NhJJ7Ar8BIIJ"
      },
      "source": [
        "### **5. CCCI (Canopy Chlorophyll Content Index)**"
      ]
    },
    {
      "cell_type": "markdown",
      "metadata": {
        "id": "9PLc74ThBIIR"
      },
      "source": [
        "\r\n",
        "\r\n",
        "> **General formula : ((B08 - B05) / (B08 + B05)) / ((B08 - B04) / (B08 + B04))**\r\n",
        "\r\n"
      ]
    },
    {
      "cell_type": "code",
      "metadata": {
        "id": "g6FYTbHvBIIS"
      },
      "source": [
        "def get_CCCI_data(fid, folder='image_arrays_train') :\r\n",
        "  fn = f'{folder}/{fid}.npy'\r\n",
        "  arr = np.load(fn)\r\n",
        "  bands_of_interest = ['S2_B8','S2_B5','S2_B4']\r\n",
        "  \r\n",
        "  values = {}\r\n",
        "  for month in range(12): \r\n",
        "    bns = [str(month) + '_' + b for b in bands_of_interest] \r\n",
        "    idxs = np.where(np.isin(band_names, bns)) \r\n",
        "    B08 = arr[idxs][0].astype(int)\r\n",
        "    B05 = arr[idxs][1].astype(int)\r\n",
        "    B04 = arr[idxs][2].astype(int)\r\n",
        "    \r\n",
        "    CCCI_arr = ((B08 - B05) / (B08 + B05)) / ((B08 - B04) / (B08 + B04))\r\n",
        "    values['CCCI_Max_'+str(month)] = CCCI_arr.max()\r\n",
        "  return values"
      ],
      "execution_count": 9,
      "outputs": []
    },
    {
      "cell_type": "markdown",
      "metadata": {
        "id": "P1CswNA67PTw"
      },
      "source": [
        "## **Features From Red Bands**"
      ]
    },
    {
      "cell_type": "code",
      "metadata": {
        "id": "8tTsYpEy6Vzs"
      },
      "source": [
        "def get_features_fromBands(fid, folder='image_arrays_train',bands=None,Band_Names=None) :\r\n",
        "  fn = f'{folder}/{fid}.npy'\r\n",
        "  arr = np.load(fn)\r\n",
        "  \r\n",
        "  final_values = {}\r\n",
        "  for bands_idx in range(len(bands)) : \r\n",
        "    bands_of_interest = bands[bands_idx]\r\n",
        "    Name = Band_Names[bands_idx]\r\n",
        "    values = {}\r\n",
        "    for month in range(12):\r\n",
        "      bns = [str(month) + '_' + b for b in bands_of_interest] \r\n",
        "      idxs = np.where(np.isin(band_names, bns)) \r\n",
        "      Relation_arr = arr[idxs][1].astype(int) / arr[idxs][0].astype(int) \r\n",
        "      \r\n",
        "      values[f'BANDS_FEATURES_Median_{Name}_'+str(month)] = np.median(Relation_arr)\r\n",
        "    final_values.update(values)\r\n",
        "  return final_values"
      ],
      "execution_count": 10,
      "outputs": []
    },
    {
      "cell_type": "markdown",
      "metadata": {
        "id": "Ja2BWU98B9eM"
      },
      "source": [
        "# **Data - Preparation**"
      ]
    },
    {
      "cell_type": "code",
      "metadata": {
        "id": "TFdgnFeX8cUn"
      },
      "source": [
        "import pandas as pd \r\n",
        "import numpy as np  \r\n",
        "from matplotlib import pyplot as plt  \r\n",
        "import seaborn as sns\r\n",
        "import warnings\r\n",
        "\r\n",
        "import tqdm \r\n",
        "from tqdm import tqdm_notebook as tqdm \r\n",
        "warnings.simplefilter('ignore')"
      ],
      "execution_count": 11,
      "outputs": []
    },
    {
      "cell_type": "code",
      "metadata": {
        "id": "YkEGwhtCtwYK"
      },
      "source": [
        "# Normal distribution \r\n",
        "from sklearn.preprocessing import PowerTransformer\r\n",
        "bc = PowerTransformer(method='box-cox')\r\n",
        "yj = PowerTransformer(method='yeo-johnson')"
      ],
      "execution_count": 12,
      "outputs": []
    },
    {
      "cell_type": "code",
      "metadata": {
        "colab": {
          "base_uri": "https://localhost:8080/"
        },
        "id": "yvu8HtnRCJte",
        "outputId": "8ae40d90-78b2-4567-be0e-b0771c4eed4b"
      },
      "source": [
        "# Load   -- Train | additional | sampleSubmission \r\n",
        "\r\n",
        "train = pd.read_csv('Train.csv')\r\n",
        "additional = pd.read_csv('fields_w_additional_info.csv')\r\n",
        "ss = pd.read_csv('SampleSubmission.csv')\r\n",
        "\r\n",
        "ss_year= pd.read_csv('test_field_ids_with_year.csv') \r\n",
        "\r\n",
        "\r\n",
        "print('| train shape :' , train.shape,'  |   test shape : ',ss.shape, '  |   addtional shape : ',additional.shape,'  |  ')\r\n"
      ],
      "execution_count": 13,
      "outputs": [
        {
          "output_type": "stream",
          "text": [
            "| train shape : (2977, 4)   |   test shape :  (1055, 2)   |   addtional shape :  (4032, 684)   |  \n"
          ],
          "name": "stdout"
        }
      ]
    },
    {
      "cell_type": "code",
      "metadata": {
        "colab": {
          "base_uri": "https://localhost:8080/",
          "height": 249
        },
        "id": "ELtQ-HtiCmbj",
        "outputId": "de175cdd-fca5-48c5-984d-91be40fa53fa"
      },
      "source": [
        "### Additional Data ###\r\n",
        "special_cols =   additional.columns[:12]   \r\n",
        "additional_ = addtional_is_Useful(additional,special_cols)\r\n",
        "\r\n",
        "print(additional_.shape)\r\n",
        "additional_.head()"
      ],
      "execution_count": 14,
      "outputs": [
        {
          "output_type": "stream",
          "text": [
            "(4032, 33)\n"
          ],
          "name": "stdout"
        },
        {
          "output_type": "execute_result",
          "data": {
            "text/html": [
              "<div>\n",
              "<style scoped>\n",
              "    .dataframe tbody tr th:only-of-type {\n",
              "        vertical-align: middle;\n",
              "    }\n",
              "\n",
              "    .dataframe tbody tr th {\n",
              "        vertical-align: top;\n",
              "    }\n",
              "\n",
              "    .dataframe thead th {\n",
              "        text-align: right;\n",
              "    }\n",
              "</style>\n",
              "<table border=\"1\" class=\"dataframe\">\n",
              "  <thead>\n",
              "    <tr style=\"text-align: right;\">\n",
              "      <th></th>\n",
              "      <th>ADDITIONAL_PER_4_YEARS_mean_2_pr</th>\n",
              "      <th>ADDITIONAL_PER_4_YEARS_mean_2_tmmn</th>\n",
              "      <th>ADDITIONAL_PER_4_YEARS_mean_2_tmmx</th>\n",
              "      <th>ADDITIONAL_PER_4_YEARS_mean_3_pr</th>\n",
              "      <th>ADDITIONAL_PER_4_YEARS_mean_3_tmmn</th>\n",
              "      <th>ADDITIONAL_PER_4_YEARS_mean_3_tmmx</th>\n",
              "      <th>ADDITIONAL_PER_4_YEARS_mean_4_pr</th>\n",
              "      <th>ADDITIONAL_PER_4_YEARS_mean_4_tmmn</th>\n",
              "      <th>ADDITIONAL_PER_4_YEARS_mean_4_tmmx</th>\n",
              "      <th>ADDITIONAL_PER_4_YEARS_mean_5_pr</th>\n",
              "      <th>ADDITIONAL_PER_4_YEARS_mean_5_tmmn</th>\n",
              "      <th>ADDITIONAL_PER_4_YEARS_mean_5_tmmx</th>\n",
              "      <th>ADDITIONAL_PER_4_YEARS_mean_6_pr</th>\n",
              "      <th>ADDITIONAL_PER_4_YEARS_mean_6_tmmn</th>\n",
              "      <th>ADDITIONAL_PER_4_YEARS_mean_6_tmmx</th>\n",
              "      <th>ADDITIONAL_PER_4_YEARS_mean_7_pr</th>\n",
              "      <th>ADDITIONAL_PER_4_YEARS_mean_7_tmmn</th>\n",
              "      <th>ADDITIONAL_PER_4_YEARS_mean_7_tmmx</th>\n",
              "      <th>ADDITIONAL_PER_4_YEARS_mean_8_pr</th>\n",
              "      <th>ADDITIONAL_PER_4_YEARS_mean_8_tmmn</th>\n",
              "      <th>ADDITIONAL_PER_4_YEARS_mean_8_tmmx</th>\n",
              "      <th>Field_ID</th>\n",
              "      <th>soil_bdod_5-15cm_mean</th>\n",
              "      <th>soil_cec_5-15cm_mean</th>\n",
              "      <th>soil_cfvo_5-15cm_mean</th>\n",
              "      <th>soil_clay_5-15cm_mean</th>\n",
              "      <th>soil_nitrogen_5-15cm_mean</th>\n",
              "      <th>soil_ocd_5-15cm_mean</th>\n",
              "      <th>soil_ocs_0-30cm_mean</th>\n",
              "      <th>soil_phh2o_5-15cm_mean</th>\n",
              "      <th>soil_sand_5-15cm_mean</th>\n",
              "      <th>soil_silt_5-15cm_mean</th>\n",
              "      <th>soil_soc_5-15cm_mean</th>\n",
              "    </tr>\n",
              "  </thead>\n",
              "  <tbody>\n",
              "    <tr>\n",
              "      <th>0</th>\n",
              "      <td>41.25</td>\n",
              "      <td>113.25</td>\n",
              "      <td>287.75</td>\n",
              "      <td>138.50</td>\n",
              "      <td>119.00</td>\n",
              "      <td>276.25</td>\n",
              "      <td>156.25</td>\n",
              "      <td>115.50</td>\n",
              "      <td>262.50</td>\n",
              "      <td>109.75</td>\n",
              "      <td>109.25</td>\n",
              "      <td>259.75</td>\n",
              "      <td>81.50</td>\n",
              "      <td>106.75</td>\n",
              "      <td>246.50</td>\n",
              "      <td>114.75</td>\n",
              "      <td>105.75</td>\n",
              "      <td>250.50</td>\n",
              "      <td>66.75</td>\n",
              "      <td>101.75</td>\n",
              "      <td>260.75</td>\n",
              "      <td>MH2O0YH</td>\n",
              "      <td>118.0</td>\n",
              "      <td>257.0</td>\n",
              "      <td>85.0</td>\n",
              "      <td>463.0</td>\n",
              "      <td>2458.0</td>\n",
              "      <td>323.0</td>\n",
              "      <td>57.0</td>\n",
              "      <td>59.0</td>\n",
              "      <td>308.0</td>\n",
              "      <td>229.0</td>\n",
              "      <td>330.0</td>\n",
              "    </tr>\n",
              "    <tr>\n",
              "      <th>1</th>\n",
              "      <td>39.75</td>\n",
              "      <td>112.50</td>\n",
              "      <td>296.00</td>\n",
              "      <td>127.25</td>\n",
              "      <td>113.75</td>\n",
              "      <td>282.25</td>\n",
              "      <td>133.25</td>\n",
              "      <td>111.25</td>\n",
              "      <td>271.75</td>\n",
              "      <td>106.25</td>\n",
              "      <td>106.50</td>\n",
              "      <td>266.75</td>\n",
              "      <td>75.25</td>\n",
              "      <td>101.25</td>\n",
              "      <td>255.00</td>\n",
              "      <td>113.25</td>\n",
              "      <td>101.50</td>\n",
              "      <td>259.00</td>\n",
              "      <td>66.50</td>\n",
              "      <td>97.25</td>\n",
              "      <td>266.75</td>\n",
              "      <td>O9TURWL</td>\n",
              "      <td>120.0</td>\n",
              "      <td>288.0</td>\n",
              "      <td>84.0</td>\n",
              "      <td>462.0</td>\n",
              "      <td>2108.0</td>\n",
              "      <td>306.0</td>\n",
              "      <td>58.0</td>\n",
              "      <td>61.0</td>\n",
              "      <td>243.0</td>\n",
              "      <td>295.0</td>\n",
              "      <td>280.0</td>\n",
              "    </tr>\n",
              "    <tr>\n",
              "      <th>2</th>\n",
              "      <td>40.25</td>\n",
              "      <td>114.50</td>\n",
              "      <td>296.75</td>\n",
              "      <td>130.25</td>\n",
              "      <td>116.25</td>\n",
              "      <td>283.25</td>\n",
              "      <td>133.25</td>\n",
              "      <td>112.50</td>\n",
              "      <td>272.50</td>\n",
              "      <td>103.75</td>\n",
              "      <td>107.75</td>\n",
              "      <td>267.75</td>\n",
              "      <td>74.75</td>\n",
              "      <td>103.00</td>\n",
              "      <td>255.75</td>\n",
              "      <td>111.50</td>\n",
              "      <td>103.50</td>\n",
              "      <td>260.25</td>\n",
              "      <td>64.25</td>\n",
              "      <td>99.25</td>\n",
              "      <td>268.25</td>\n",
              "      <td>35AFSDD</td>\n",
              "      <td>120.0</td>\n",
              "      <td>263.0</td>\n",
              "      <td>102.0</td>\n",
              "      <td>495.0</td>\n",
              "      <td>1991.0</td>\n",
              "      <td>288.0</td>\n",
              "      <td>58.0</td>\n",
              "      <td>60.0</td>\n",
              "      <td>271.0</td>\n",
              "      <td>234.0</td>\n",
              "      <td>284.0</td>\n",
              "    </tr>\n",
              "    <tr>\n",
              "      <th>3</th>\n",
              "      <td>40.00</td>\n",
              "      <td>114.25</td>\n",
              "      <td>286.00</td>\n",
              "      <td>139.00</td>\n",
              "      <td>119.00</td>\n",
              "      <td>274.25</td>\n",
              "      <td>162.75</td>\n",
              "      <td>116.75</td>\n",
              "      <td>261.50</td>\n",
              "      <td>112.00</td>\n",
              "      <td>109.25</td>\n",
              "      <td>256.75</td>\n",
              "      <td>82.75</td>\n",
              "      <td>107.75</td>\n",
              "      <td>243.25</td>\n",
              "      <td>114.00</td>\n",
              "      <td>106.25</td>\n",
              "      <td>248.75</td>\n",
              "      <td>67.75</td>\n",
              "      <td>101.50</td>\n",
              "      <td>258.50</td>\n",
              "      <td>PM05EG9</td>\n",
              "      <td>122.0</td>\n",
              "      <td>206.0</td>\n",
              "      <td>66.0</td>\n",
              "      <td>431.0</td>\n",
              "      <td>2432.0</td>\n",
              "      <td>337.0</td>\n",
              "      <td>65.0</td>\n",
              "      <td>57.0</td>\n",
              "      <td>332.0</td>\n",
              "      <td>237.0</td>\n",
              "      <td>335.0</td>\n",
              "    </tr>\n",
              "    <tr>\n",
              "      <th>4</th>\n",
              "      <td>78.50</td>\n",
              "      <td>161.75</td>\n",
              "      <td>311.25</td>\n",
              "      <td>228.75</td>\n",
              "      <td>162.75</td>\n",
              "      <td>295.25</td>\n",
              "      <td>214.50</td>\n",
              "      <td>157.00</td>\n",
              "      <td>285.25</td>\n",
              "      <td>120.75</td>\n",
              "      <td>153.50</td>\n",
              "      <td>285.00</td>\n",
              "      <td>41.00</td>\n",
              "      <td>151.00</td>\n",
              "      <td>280.75</td>\n",
              "      <td>85.25</td>\n",
              "      <td>149.25</td>\n",
              "      <td>283.00</td>\n",
              "      <td>96.00</td>\n",
              "      <td>148.25</td>\n",
              "      <td>291.25</td>\n",
              "      <td>V7PZBCG</td>\n",
              "      <td>124.0</td>\n",
              "      <td>167.0</td>\n",
              "      <td>116.0</td>\n",
              "      <td>439.0</td>\n",
              "      <td>566.0</td>\n",
              "      <td>302.0</td>\n",
              "      <td>53.0</td>\n",
              "      <td>56.0</td>\n",
              "      <td>326.0</td>\n",
              "      <td>235.0</td>\n",
              "      <td>187.0</td>\n",
              "    </tr>\n",
              "  </tbody>\n",
              "</table>\n",
              "</div>"
            ],
            "text/plain": [
              "   ADDITIONAL_PER_4_YEARS_mean_2_pr  ...  soil_soc_5-15cm_mean\n",
              "0                             41.25  ...                 330.0\n",
              "1                             39.75  ...                 280.0\n",
              "2                             40.25  ...                 284.0\n",
              "3                             40.00  ...                 335.0\n",
              "4                             78.50  ...                 187.0\n",
              "\n",
              "[5 rows x 33 columns]"
            ]
          },
          "metadata": {
            "tags": []
          },
          "execution_count": 14
        }
      ]
    },
    {
      "cell_type": "code",
      "metadata": {
        "id": "fTWLyM_BDET0"
      },
      "source": [
        "# working only with poor and good quality\r\n",
        "train = train[train['Quality'].isin([1,3])]  # only quality 1 - 3 "
      ],
      "execution_count": 15,
      "outputs": []
    },
    {
      "cell_type": "code",
      "metadata": {
        "colab": {
          "base_uri": "https://localhost:8080/"
        },
        "id": "yWWn-DARDQM0",
        "outputId": "99f2eb77-3711-4e0a-fc3a-cd139628bca5"
      },
      "source": [
        "band_names = [l.strip() for l in open('bandnames.txt', 'r').readlines()]\r\n",
        "print(band_names)"
      ],
      "execution_count": 16,
      "outputs": [
        {
          "output_type": "stream",
          "text": [
            "['0_S2_B1', '0_S2_B2', '0_S2_B3', '0_S2_B4', '0_S2_B5', '0_S2_B6', '0_S2_B7', '0_S2_B8', '0_S2_B8A', '0_S2_B9', '0_S2_B10', '0_S2_B11', '0_S2_B12', '0_S2_QA10', '0_S2_QA20', '0_S2_QA60', '0_CLIM_aet', '0_CLIM_def', '0_CLIM_pdsi', '0_CLIM_pet', '0_CLIM_pr', '0_CLIM_ro', '0_CLIM_soil', '0_CLIM_srad', '0_CLIM_swe', '0_CLIM_tmmn', '0_CLIM_tmmx', '0_CLIM_vap', '0_CLIM_vpd', '0_CLIM_vs', '1_S2_B1', '1_S2_B2', '1_S2_B3', '1_S2_B4', '1_S2_B5', '1_S2_B6', '1_S2_B7', '1_S2_B8', '1_S2_B8A', '1_S2_B9', '1_S2_B10', '1_S2_B11', '1_S2_B12', '1_S2_QA10', '1_S2_QA20', '1_S2_QA60', '1_CLIM_aet', '1_CLIM_def', '1_CLIM_pdsi', '1_CLIM_pet', '1_CLIM_pr', '1_CLIM_ro', '1_CLIM_soil', '1_CLIM_srad', '1_CLIM_swe', '1_CLIM_tmmn', '1_CLIM_tmmx', '1_CLIM_vap', '1_CLIM_vpd', '1_CLIM_vs', '2_S2_B1', '2_S2_B2', '2_S2_B3', '2_S2_B4', '2_S2_B5', '2_S2_B6', '2_S2_B7', '2_S2_B8', '2_S2_B8A', '2_S2_B9', '2_S2_B10', '2_S2_B11', '2_S2_B12', '2_S2_QA10', '2_S2_QA20', '2_S2_QA60', '2_CLIM_aet', '2_CLIM_def', '2_CLIM_pdsi', '2_CLIM_pet', '2_CLIM_pr', '2_CLIM_ro', '2_CLIM_soil', '2_CLIM_srad', '2_CLIM_swe', '2_CLIM_tmmn', '2_CLIM_tmmx', '2_CLIM_vap', '2_CLIM_vpd', '2_CLIM_vs', '3_S2_B1', '3_S2_B2', '3_S2_B3', '3_S2_B4', '3_S2_B5', '3_S2_B6', '3_S2_B7', '3_S2_B8', '3_S2_B8A', '3_S2_B9', '3_S2_B10', '3_S2_B11', '3_S2_B12', '3_S2_QA10', '3_S2_QA20', '3_S2_QA60', '3_CLIM_aet', '3_CLIM_def', '3_CLIM_pdsi', '3_CLIM_pet', '3_CLIM_pr', '3_CLIM_ro', '3_CLIM_soil', '3_CLIM_srad', '3_CLIM_swe', '3_CLIM_tmmn', '3_CLIM_tmmx', '3_CLIM_vap', '3_CLIM_vpd', '3_CLIM_vs', '4_S2_B1', '4_S2_B2', '4_S2_B3', '4_S2_B4', '4_S2_B5', '4_S2_B6', '4_S2_B7', '4_S2_B8', '4_S2_B8A', '4_S2_B9', '4_S2_B10', '4_S2_B11', '4_S2_B12', '4_S2_QA10', '4_S2_QA20', '4_S2_QA60', '4_CLIM_aet', '4_CLIM_def', '4_CLIM_pdsi', '4_CLIM_pet', '4_CLIM_pr', '4_CLIM_ro', '4_CLIM_soil', '4_CLIM_srad', '4_CLIM_swe', '4_CLIM_tmmn', '4_CLIM_tmmx', '4_CLIM_vap', '4_CLIM_vpd', '4_CLIM_vs', '5_S2_B1', '5_S2_B2', '5_S2_B3', '5_S2_B4', '5_S2_B5', '5_S2_B6', '5_S2_B7', '5_S2_B8', '5_S2_B8A', '5_S2_B9', '5_S2_B10', '5_S2_B11', '5_S2_B12', '5_S2_QA10', '5_S2_QA20', '5_S2_QA60', '5_CLIM_aet', '5_CLIM_def', '5_CLIM_pdsi', '5_CLIM_pet', '5_CLIM_pr', '5_CLIM_ro', '5_CLIM_soil', '5_CLIM_srad', '5_CLIM_swe', '5_CLIM_tmmn', '5_CLIM_tmmx', '5_CLIM_vap', '5_CLIM_vpd', '5_CLIM_vs', '6_S2_B1', '6_S2_B2', '6_S2_B3', '6_S2_B4', '6_S2_B5', '6_S2_B6', '6_S2_B7', '6_S2_B8', '6_S2_B8A', '6_S2_B9', '6_S2_B10', '6_S2_B11', '6_S2_B12', '6_S2_QA10', '6_S2_QA20', '6_S2_QA60', '6_CLIM_aet', '6_CLIM_def', '6_CLIM_pdsi', '6_CLIM_pet', '6_CLIM_pr', '6_CLIM_ro', '6_CLIM_soil', '6_CLIM_srad', '6_CLIM_swe', '6_CLIM_tmmn', '6_CLIM_tmmx', '6_CLIM_vap', '6_CLIM_vpd', '6_CLIM_vs', '7_S2_B1', '7_S2_B2', '7_S2_B3', '7_S2_B4', '7_S2_B5', '7_S2_B6', '7_S2_B7', '7_S2_B8', '7_S2_B8A', '7_S2_B9', '7_S2_B10', '7_S2_B11', '7_S2_B12', '7_S2_QA10', '7_S2_QA20', '7_S2_QA60', '7_CLIM_aet', '7_CLIM_def', '7_CLIM_pdsi', '7_CLIM_pet', '7_CLIM_pr', '7_CLIM_ro', '7_CLIM_soil', '7_CLIM_srad', '7_CLIM_swe', '7_CLIM_tmmn', '7_CLIM_tmmx', '7_CLIM_vap', '7_CLIM_vpd', '7_CLIM_vs', '8_S2_B1', '8_S2_B2', '8_S2_B3', '8_S2_B4', '8_S2_B5', '8_S2_B6', '8_S2_B7', '8_S2_B8', '8_S2_B8A', '8_S2_B9', '8_S2_B10', '8_S2_B11', '8_S2_B12', '8_S2_QA10', '8_S2_QA20', '8_S2_QA60', '8_CLIM_aet', '8_CLIM_def', '8_CLIM_pdsi', '8_CLIM_pet', '8_CLIM_pr', '8_CLIM_ro', '8_CLIM_soil', '8_CLIM_srad', '8_CLIM_swe', '8_CLIM_tmmn', '8_CLIM_tmmx', '8_CLIM_vap', '8_CLIM_vpd', '8_CLIM_vs', '9_S2_B1', '9_S2_B2', '9_S2_B3', '9_S2_B4', '9_S2_B5', '9_S2_B6', '9_S2_B7', '9_S2_B8', '9_S2_B8A', '9_S2_B9', '9_S2_B10', '9_S2_B11', '9_S2_B12', '9_S2_QA10', '9_S2_QA20', '9_S2_QA60', '9_CLIM_aet', '9_CLIM_def', '9_CLIM_pdsi', '9_CLIM_pet', '9_CLIM_pr', '9_CLIM_ro', '9_CLIM_soil', '9_CLIM_srad', '9_CLIM_swe', '9_CLIM_tmmn', '9_CLIM_tmmx', '9_CLIM_vap', '9_CLIM_vpd', '9_CLIM_vs', '10_S2_B1', '10_S2_B2', '10_S2_B3', '10_S2_B4', '10_S2_B5', '10_S2_B6', '10_S2_B7', '10_S2_B8', '10_S2_B8A', '10_S2_B9', '10_S2_B10', '10_S2_B11', '10_S2_B12', '10_S2_QA10', '10_S2_QA20', '10_S2_QA60', '10_CLIM_aet', '10_CLIM_def', '10_CLIM_pdsi', '10_CLIM_pet', '10_CLIM_pr', '10_CLIM_ro', '10_CLIM_soil', '10_CLIM_srad', '10_CLIM_swe', '10_CLIM_tmmn', '10_CLIM_tmmx', '10_CLIM_vap', '10_CLIM_vpd', '10_CLIM_vs', '11_S2_B1', '11_S2_B2', '11_S2_B3', '11_S2_B4', '11_S2_B5', '11_S2_B6', '11_S2_B7', '11_S2_B8', '11_S2_B8A', '11_S2_B9', '11_S2_B10', '11_S2_B11', '11_S2_B12', '11_S2_QA10', '11_S2_QA20', '11_S2_QA60', '11_CLIM_aet', '11_CLIM_def', '11_CLIM_pdsi', '11_CLIM_pet', '11_CLIM_pr', '11_CLIM_ro', '11_CLIM_soil', '11_CLIM_srad', '11_CLIM_swe', '11_CLIM_tmmn', '11_CLIM_tmmx', '11_CLIM_vap', '11_CLIM_vpd', '11_CLIM_vs']\n"
          ],
          "name": "stdout"
        }
      ]
    },
    {
      "cell_type": "markdown",
      "metadata": {
        "id": "vnEz73ZoF5FC"
      },
      "source": [
        "## 1 - **Vegetation Indexs**"
      ]
    },
    {
      "cell_type": "code",
      "metadata": {
        "colab": {
          "base_uri": "https://localhost:8080/",
          "height": 131,
          "referenced_widgets": [
            "707444aec67e467eae6c2da155ea50a4",
            "ce9ef44e275e4abda4a48323c7b92b98",
            "0cb353ac163c4b108784f6c1784aa386",
            "e784412be52a40fe90428725ab273fdb",
            "5bd02edaf3b741b9a5bf3fb37dca3458",
            "89e25efb79dd42c8b088d767ecf1ec7d",
            "335fd27f70fe4c8eade9d31dfb446add",
            "91eed78ca07c447a9b8e055e997360b0",
            "213ccd0bf8b5411ab183830fab2d39a6",
            "cc1bab77df0e494cbc4543a96c442347",
            "6e7158fb3e1842f683d51263853b51d3",
            "8ca6017f33004f98833478e775880ca3",
            "4366e39e4cb843c98cea088e25f94781",
            "1f1948aa5aa646fe8fa666557c45c494",
            "dcdd1ef16475487d98448e8548d2c38b",
            "da56be6b0458411aa1cc73ebcd4479c6"
          ]
        },
        "id": "YNIB6zMQDUuL",
        "outputId": "5ab546d5-ce1a-4b57-e8f5-882769a85eef"
      },
      "source": [
        "                                                      ###  Get NDVI Data    ###\r\n",
        "\r\n",
        "train_NDVI = pd.DataFrame([get_NDVI_data(train['Field_ID'].values[fid_idx]) for fid_idx in tqdm(range(len(train['Field_ID'].values))) ])\r\n",
        "train_NDVI['Field_ID'] = train['Field_ID'].values\r\n",
        "\r\n",
        "print()\r\n",
        "\r\n",
        "test_NDVI = pd.DataFrame([get_NDVI_data(ss['Field_ID'].values[fid_idx], folder='image_arrays_test') for fid_idx in tqdm(range(len(ss['Field_ID'].values)))])\r\n",
        "test_NDVI['Field_ID'] = ss['Field_ID'].values"
      ],
      "execution_count": 17,
      "outputs": [
        {
          "output_type": "display_data",
          "data": {
            "application/vnd.jupyter.widget-view+json": {
              "model_id": "707444aec67e467eae6c2da155ea50a4",
              "version_minor": 0,
              "version_major": 2
            },
            "text/plain": [
              "HBox(children=(FloatProgress(value=0.0, max=1746.0), HTML(value='')))"
            ]
          },
          "metadata": {
            "tags": []
          }
        },
        {
          "output_type": "stream",
          "text": [
            "\n",
            "\n"
          ],
          "name": "stdout"
        },
        {
          "output_type": "display_data",
          "data": {
            "application/vnd.jupyter.widget-view+json": {
              "model_id": "213ccd0bf8b5411ab183830fab2d39a6",
              "version_minor": 0,
              "version_major": 2
            },
            "text/plain": [
              "HBox(children=(FloatProgress(value=0.0, max=1055.0), HTML(value='')))"
            ]
          },
          "metadata": {
            "tags": []
          }
        },
        {
          "output_type": "stream",
          "text": [
            "\n"
          ],
          "name": "stdout"
        }
      ]
    },
    {
      "cell_type": "code",
      "metadata": {
        "colab": {
          "base_uri": "https://localhost:8080/",
          "height": 215
        },
        "id": "4wiCS4m4fltC",
        "outputId": "d6bdfa01-2b67-4bf2-fe54-8fde3c9960b9"
      },
      "source": [
        "train_NDVI.head()"
      ],
      "execution_count": 18,
      "outputs": [
        {
          "output_type": "execute_result",
          "data": {
            "text/html": [
              "<div>\n",
              "<style scoped>\n",
              "    .dataframe tbody tr th:only-of-type {\n",
              "        vertical-align: middle;\n",
              "    }\n",
              "\n",
              "    .dataframe tbody tr th {\n",
              "        vertical-align: top;\n",
              "    }\n",
              "\n",
              "    .dataframe thead th {\n",
              "        text-align: right;\n",
              "    }\n",
              "</style>\n",
              "<table border=\"1\" class=\"dataframe\">\n",
              "  <thead>\n",
              "    <tr style=\"text-align: right;\">\n",
              "      <th></th>\n",
              "      <th>NDVI_Median_1</th>\n",
              "      <th>NDVI_Median_2</th>\n",
              "      <th>NDVI_Median_11</th>\n",
              "      <th>NDVI_Median_0</th>\n",
              "      <th>NDVI_Median_3</th>\n",
              "      <th>NDVI_Median_4</th>\n",
              "      <th>NDVI_Median_5</th>\n",
              "      <th>NDVI_Median_6</th>\n",
              "      <th>NDVI_Median_7</th>\n",
              "      <th>NDVI_Median_8</th>\n",
              "      <th>NDVI_Median_9</th>\n",
              "      <th>NDVI_Median_10</th>\n",
              "      <th>NDVI_Min_0</th>\n",
              "      <th>NDVI_Max_0</th>\n",
              "      <th>NDVI_Min_3</th>\n",
              "      <th>NDVI_Max_3</th>\n",
              "      <th>NDVI_Min_4</th>\n",
              "      <th>NDVI_Max_4</th>\n",
              "      <th>NDVI_Min_5</th>\n",
              "      <th>NDVI_Max_5</th>\n",
              "      <th>NDVI_Min_6</th>\n",
              "      <th>NDVI_Max_6</th>\n",
              "      <th>NDVI_Min_7</th>\n",
              "      <th>NDVI_Max_7</th>\n",
              "      <th>NDVI_Min_8</th>\n",
              "      <th>NDVI_Max_8</th>\n",
              "      <th>NDVI_Min_9</th>\n",
              "      <th>NDVI_Max_9</th>\n",
              "      <th>NDVI_Min_10</th>\n",
              "      <th>NDVI_Max_10</th>\n",
              "      <th>Field_ID</th>\n",
              "    </tr>\n",
              "  </thead>\n",
              "  <tbody>\n",
              "    <tr>\n",
              "      <th>0</th>\n",
              "      <td>0.398194</td>\n",
              "      <td>0.342726</td>\n",
              "      <td>0.588992</td>\n",
              "      <td>0.514644</td>\n",
              "      <td>0.340072</td>\n",
              "      <td>0.458077</td>\n",
              "      <td>0.031556</td>\n",
              "      <td>0.589358</td>\n",
              "      <td>0.399567</td>\n",
              "      <td>0.673010</td>\n",
              "      <td>0.675813</td>\n",
              "      <td>0.674788</td>\n",
              "      <td>0.195285</td>\n",
              "      <td>0.804681</td>\n",
              "      <td>0.128743</td>\n",
              "      <td>0.730036</td>\n",
              "      <td>0.148721</td>\n",
              "      <td>0.758441</td>\n",
              "      <td>-0.063128</td>\n",
              "      <td>0.091383</td>\n",
              "      <td>0.226757</td>\n",
              "      <td>0.788367</td>\n",
              "      <td>0.114936</td>\n",
              "      <td>0.761976</td>\n",
              "      <td>0.189881</td>\n",
              "      <td>0.808649</td>\n",
              "      <td>0.331603</td>\n",
              "      <td>0.823542</td>\n",
              "      <td>0.343478</td>\n",
              "      <td>0.823981</td>\n",
              "      <td>MH2O0YH</td>\n",
              "    </tr>\n",
              "    <tr>\n",
              "      <th>1</th>\n",
              "      <td>0.297969</td>\n",
              "      <td>0.250628</td>\n",
              "      <td>0.262127</td>\n",
              "      <td>0.348010</td>\n",
              "      <td>0.237860</td>\n",
              "      <td>0.285620</td>\n",
              "      <td>0.025184</td>\n",
              "      <td>0.757973</td>\n",
              "      <td>0.664011</td>\n",
              "      <td>0.589613</td>\n",
              "      <td>0.565794</td>\n",
              "      <td>0.568910</td>\n",
              "      <td>0.119593</td>\n",
              "      <td>0.694646</td>\n",
              "      <td>0.108630</td>\n",
              "      <td>0.562234</td>\n",
              "      <td>0.131764</td>\n",
              "      <td>0.646889</td>\n",
              "      <td>-0.025408</td>\n",
              "      <td>0.205075</td>\n",
              "      <td>0.292278</td>\n",
              "      <td>0.824188</td>\n",
              "      <td>-0.006041</td>\n",
              "      <td>0.794096</td>\n",
              "      <td>0.175996</td>\n",
              "      <td>0.785395</td>\n",
              "      <td>0.271372</td>\n",
              "      <td>0.809500</td>\n",
              "      <td>0.200753</td>\n",
              "      <td>0.794067</td>\n",
              "      <td>35AFSDD</td>\n",
              "    </tr>\n",
              "    <tr>\n",
              "      <th>2</th>\n",
              "      <td>0.228688</td>\n",
              "      <td>0.256365</td>\n",
              "      <td>0.608094</td>\n",
              "      <td>0.356450</td>\n",
              "      <td>0.325984</td>\n",
              "      <td>0.679453</td>\n",
              "      <td>0.681313</td>\n",
              "      <td>0.645152</td>\n",
              "      <td>0.435045</td>\n",
              "      <td>0.503568</td>\n",
              "      <td>0.553453</td>\n",
              "      <td>0.298985</td>\n",
              "      <td>0.146573</td>\n",
              "      <td>0.639762</td>\n",
              "      <td>0.082912</td>\n",
              "      <td>0.678540</td>\n",
              "      <td>0.272483</td>\n",
              "      <td>0.823364</td>\n",
              "      <td>0.278783</td>\n",
              "      <td>0.800317</td>\n",
              "      <td>0.316924</td>\n",
              "      <td>0.759837</td>\n",
              "      <td>0.171462</td>\n",
              "      <td>0.713958</td>\n",
              "      <td>0.240765</td>\n",
              "      <td>0.749432</td>\n",
              "      <td>0.256592</td>\n",
              "      <td>0.787282</td>\n",
              "      <td>0.070945</td>\n",
              "      <td>0.608659</td>\n",
              "      <td>003GQB5</td>\n",
              "    </tr>\n",
              "    <tr>\n",
              "      <th>3</th>\n",
              "      <td>0.317039</td>\n",
              "      <td>0.373182</td>\n",
              "      <td>0.496388</td>\n",
              "      <td>0.425717</td>\n",
              "      <td>0.400500</td>\n",
              "      <td>0.669710</td>\n",
              "      <td>0.665569</td>\n",
              "      <td>0.632975</td>\n",
              "      <td>0.545375</td>\n",
              "      <td>0.586897</td>\n",
              "      <td>0.588719</td>\n",
              "      <td>0.339759</td>\n",
              "      <td>0.033939</td>\n",
              "      <td>0.720472</td>\n",
              "      <td>0.027373</td>\n",
              "      <td>0.689815</td>\n",
              "      <td>0.046584</td>\n",
              "      <td>0.830675</td>\n",
              "      <td>0.114997</td>\n",
              "      <td>0.791233</td>\n",
              "      <td>0.079291</td>\n",
              "      <td>0.743554</td>\n",
              "      <td>0.047642</td>\n",
              "      <td>0.749370</td>\n",
              "      <td>0.033887</td>\n",
              "      <td>0.787587</td>\n",
              "      <td>0.067895</td>\n",
              "      <td>0.799002</td>\n",
              "      <td>0.061938</td>\n",
              "      <td>0.523440</td>\n",
              "      <td>A6H2141</td>\n",
              "    </tr>\n",
              "    <tr>\n",
              "      <th>4</th>\n",
              "      <td>0.321937</td>\n",
              "      <td>0.308539</td>\n",
              "      <td>0.212645</td>\n",
              "      <td>0.382446</td>\n",
              "      <td>0.323252</td>\n",
              "      <td>0.655968</td>\n",
              "      <td>0.498312</td>\n",
              "      <td>0.637804</td>\n",
              "      <td>0.460905</td>\n",
              "      <td>0.498201</td>\n",
              "      <td>0.533890</td>\n",
              "      <td>0.548839</td>\n",
              "      <td>0.182600</td>\n",
              "      <td>0.604545</td>\n",
              "      <td>0.116511</td>\n",
              "      <td>0.650043</td>\n",
              "      <td>0.290998</td>\n",
              "      <td>0.833163</td>\n",
              "      <td>0.160805</td>\n",
              "      <td>0.749886</td>\n",
              "      <td>0.247578</td>\n",
              "      <td>0.752027</td>\n",
              "      <td>0.203966</td>\n",
              "      <td>0.697697</td>\n",
              "      <td>0.219638</td>\n",
              "      <td>0.753298</td>\n",
              "      <td>0.229847</td>\n",
              "      <td>0.742220</td>\n",
              "      <td>0.258270</td>\n",
              "      <td>0.711571</td>\n",
              "      <td>MHDYMRX</td>\n",
              "    </tr>\n",
              "  </tbody>\n",
              "</table>\n",
              "</div>"
            ],
            "text/plain": [
              "   NDVI_Median_1  NDVI_Median_2  ...  NDVI_Max_10  Field_ID\n",
              "0       0.398194       0.342726  ...     0.823981   MH2O0YH\n",
              "1       0.297969       0.250628  ...     0.794067   35AFSDD\n",
              "2       0.228688       0.256365  ...     0.608659   003GQB5\n",
              "3       0.317039       0.373182  ...     0.523440   A6H2141\n",
              "4       0.321937       0.308539  ...     0.711571   MHDYMRX\n",
              "\n",
              "[5 rows x 31 columns]"
            ]
          },
          "metadata": {
            "tags": []
          },
          "execution_count": 18
        }
      ]
    },
    {
      "cell_type": "code",
      "metadata": {
        "colab": {
          "base_uri": "https://localhost:8080/",
          "height": 131,
          "referenced_widgets": [
            "cfce5d82f8c8487794866cbd6208340e",
            "dfe449b103264c2e93f811511838f1f3",
            "049328fbc69c49e2a3d150820b7e8c48",
            "f43d46eaf5d44730b2e79801923e4556",
            "0c615db4d2c74308aac61bc5a38b48a1",
            "6a15a5ddf65e43ad9a2e2153f2c521ec",
            "48356ce279e74c8c9e78304cc012649e",
            "592c7bfa952d428aad1c783710aa924f",
            "8a0e4bf3acd34e8faf3cf50687045a61",
            "5f692bc44614402a844f8d7c37bb7ea3",
            "e2e7149d19934284bc0f8aeae45177c4",
            "adb85f3e68b64dc4a371705c7c329a55",
            "92d23cfceba344bf8e459b6ca8d4e0d7",
            "825df6929d5d401789218732ed3f7160",
            "b47a09d4aac34a1992489f171d7691aa",
            "89837d56968e4e24ae88af6459d79cc3"
          ]
        },
        "id": "MjXyi97yEX_G",
        "outputId": "9d7d3046-2101-4252-c88d-892c9300d586"
      },
      "source": [
        "                                                      ###  Get EVI Data    ###\r\n",
        "\r\n",
        "train_EVI = pd.DataFrame([get_EVI_data(train['Field_ID'].values[fid_idx]) for fid_idx in tqdm(range(len(train['Field_ID'].values))) ])\r\n",
        "train_EVI['Field_ID'] = train['Field_ID'].values\r\n",
        "\r\n",
        "print()\r\n",
        "\r\n",
        "test_EVI = pd.DataFrame([get_EVI_data(ss['Field_ID'].values[fid_idx], folder='image_arrays_test') for fid_idx in tqdm(range(len(ss['Field_ID'].values)))])\r\n",
        "test_EVI['Field_ID'] = ss['Field_ID'].values"
      ],
      "execution_count": 19,
      "outputs": [
        {
          "output_type": "display_data",
          "data": {
            "application/vnd.jupyter.widget-view+json": {
              "model_id": "cfce5d82f8c8487794866cbd6208340e",
              "version_minor": 0,
              "version_major": 2
            },
            "text/plain": [
              "HBox(children=(FloatProgress(value=0.0, max=1746.0), HTML(value='')))"
            ]
          },
          "metadata": {
            "tags": []
          }
        },
        {
          "output_type": "stream",
          "text": [
            "\n",
            "\n"
          ],
          "name": "stdout"
        },
        {
          "output_type": "display_data",
          "data": {
            "application/vnd.jupyter.widget-view+json": {
              "model_id": "8a0e4bf3acd34e8faf3cf50687045a61",
              "version_minor": 0,
              "version_major": 2
            },
            "text/plain": [
              "HBox(children=(FloatProgress(value=0.0, max=1055.0), HTML(value='')))"
            ]
          },
          "metadata": {
            "tags": []
          }
        },
        {
          "output_type": "stream",
          "text": [
            "\n"
          ],
          "name": "stdout"
        }
      ]
    },
    {
      "cell_type": "code",
      "metadata": {
        "colab": {
          "base_uri": "https://localhost:8080/",
          "height": 215
        },
        "id": "GIw-eVBLKyzE",
        "outputId": "4b336907-4c84-456f-d87c-30fb3e74ef83"
      },
      "source": [
        "train_EVI.head()"
      ],
      "execution_count": 20,
      "outputs": [
        {
          "output_type": "execute_result",
          "data": {
            "text/html": [
              "<div>\n",
              "<style scoped>\n",
              "    .dataframe tbody tr th:only-of-type {\n",
              "        vertical-align: middle;\n",
              "    }\n",
              "\n",
              "    .dataframe tbody tr th {\n",
              "        vertical-align: top;\n",
              "    }\n",
              "\n",
              "    .dataframe thead th {\n",
              "        text-align: right;\n",
              "    }\n",
              "</style>\n",
              "<table border=\"1\" class=\"dataframe\">\n",
              "  <thead>\n",
              "    <tr style=\"text-align: right;\">\n",
              "      <th></th>\n",
              "      <th>EVI_Median_1</th>\n",
              "      <th>EVI_Median_2</th>\n",
              "      <th>EVI_Median_11</th>\n",
              "      <th>EVI_Median_0</th>\n",
              "      <th>EVI_Median_3</th>\n",
              "      <th>EVI_Median_4</th>\n",
              "      <th>EVI_Median_5</th>\n",
              "      <th>EVI_Median_6</th>\n",
              "      <th>EVI_Median_7</th>\n",
              "      <th>EVI_Median_8</th>\n",
              "      <th>EVI_Median_9</th>\n",
              "      <th>EVI_Median_10</th>\n",
              "      <th>EVI_Max_2</th>\n",
              "      <th>EVI_Max_3</th>\n",
              "      <th>EVI_Max_4</th>\n",
              "      <th>EVI_Max_5</th>\n",
              "      <th>EVI_Max_6</th>\n",
              "      <th>EVI_Max_7</th>\n",
              "      <th>EVI_Max_8</th>\n",
              "      <th>EVI_Max_9</th>\n",
              "      <th>EVI_Max_10</th>\n",
              "      <th>EVI_Max_11</th>\n",
              "      <th>Field_ID</th>\n",
              "    </tr>\n",
              "  </thead>\n",
              "  <tbody>\n",
              "    <tr>\n",
              "      <th>0</th>\n",
              "      <td>-0.014700</td>\n",
              "      <td>-0.025601</td>\n",
              "      <td>0.112969</td>\n",
              "      <td>0.011392</td>\n",
              "      <td>-0.022997</td>\n",
              "      <td>0.011128</td>\n",
              "      <td>-0.073845</td>\n",
              "      <td>0.157672</td>\n",
              "      <td>0.051144</td>\n",
              "      <td>0.027857</td>\n",
              "      <td>0.026926</td>\n",
              "      <td>0.035279</td>\n",
              "      <td>0.063312</td>\n",
              "      <td>0.072925</td>\n",
              "      <td>0.091708</td>\n",
              "      <td>0.336533</td>\n",
              "      <td>0.661550</td>\n",
              "      <td>0.540337</td>\n",
              "      <td>0.091768</td>\n",
              "      <td>0.109226</td>\n",
              "      <td>0.140126</td>\n",
              "      <td>1.454623</td>\n",
              "      <td>MH2O0YH</td>\n",
              "    </tr>\n",
              "    <tr>\n",
              "      <th>1</th>\n",
              "      <td>-0.059792</td>\n",
              "      <td>-0.086052</td>\n",
              "      <td>0.018591</td>\n",
              "      <td>-0.036128</td>\n",
              "      <td>-0.070615</td>\n",
              "      <td>-0.044259</td>\n",
              "      <td>-0.087945</td>\n",
              "      <td>0.034176</td>\n",
              "      <td>0.037643</td>\n",
              "      <td>0.020576</td>\n",
              "      <td>0.015035</td>\n",
              "      <td>0.017818</td>\n",
              "      <td>0.044138</td>\n",
              "      <td>0.058378</td>\n",
              "      <td>0.094889</td>\n",
              "      <td>0.568373</td>\n",
              "      <td>0.090519</td>\n",
              "      <td>0.080588</td>\n",
              "      <td>0.089441</td>\n",
              "      <td>0.067995</td>\n",
              "      <td>0.064794</td>\n",
              "      <td>0.316553</td>\n",
              "      <td>35AFSDD</td>\n",
              "    </tr>\n",
              "    <tr>\n",
              "      <th>2</th>\n",
              "      <td>-0.095323</td>\n",
              "      <td>-0.087615</td>\n",
              "      <td>0.036738</td>\n",
              "      <td>-0.023970</td>\n",
              "      <td>-0.045102</td>\n",
              "      <td>0.036156</td>\n",
              "      <td>0.036662</td>\n",
              "      <td>0.037917</td>\n",
              "      <td>0.010020</td>\n",
              "      <td>0.004706</td>\n",
              "      <td>0.007825</td>\n",
              "      <td>0.047391</td>\n",
              "      <td>0.051878</td>\n",
              "      <td>0.064216</td>\n",
              "      <td>0.079021</td>\n",
              "      <td>0.068591</td>\n",
              "      <td>0.097185</td>\n",
              "      <td>0.166929</td>\n",
              "      <td>0.051491</td>\n",
              "      <td>0.119019</td>\n",
              "      <td>0.292084</td>\n",
              "      <td>0.752592</td>\n",
              "      <td>003GQB5</td>\n",
              "    </tr>\n",
              "    <tr>\n",
              "      <th>3</th>\n",
              "      <td>-0.032616</td>\n",
              "      <td>-0.021169</td>\n",
              "      <td>0.063584</td>\n",
              "      <td>0.007674</td>\n",
              "      <td>-0.006093</td>\n",
              "      <td>0.037565</td>\n",
              "      <td>0.038745</td>\n",
              "      <td>0.040024</td>\n",
              "      <td>0.030199</td>\n",
              "      <td>0.024119</td>\n",
              "      <td>0.022476</td>\n",
              "      <td>0.183233</td>\n",
              "      <td>0.169437</td>\n",
              "      <td>0.782186</td>\n",
              "      <td>0.921471</td>\n",
              "      <td>0.220758</td>\n",
              "      <td>0.214402</td>\n",
              "      <td>0.337069</td>\n",
              "      <td>0.256648</td>\n",
              "      <td>0.219630</td>\n",
              "      <td>4.056795</td>\n",
              "      <td>11.256158</td>\n",
              "      <td>A6H2141</td>\n",
              "    </tr>\n",
              "    <tr>\n",
              "      <th>4</th>\n",
              "      <td>-0.041784</td>\n",
              "      <td>-0.057120</td>\n",
              "      <td>0.034780</td>\n",
              "      <td>-0.010871</td>\n",
              "      <td>-0.035096</td>\n",
              "      <td>0.035926</td>\n",
              "      <td>0.036115</td>\n",
              "      <td>0.034557</td>\n",
              "      <td>0.019048</td>\n",
              "      <td>0.011620</td>\n",
              "      <td>0.010115</td>\n",
              "      <td>0.032340</td>\n",
              "      <td>0.042045</td>\n",
              "      <td>0.083985</td>\n",
              "      <td>0.093456</td>\n",
              "      <td>0.226337</td>\n",
              "      <td>0.088243</td>\n",
              "      <td>0.067544</td>\n",
              "      <td>0.080760</td>\n",
              "      <td>0.057059</td>\n",
              "      <td>0.072753</td>\n",
              "      <td>0.130955</td>\n",
              "      <td>MHDYMRX</td>\n",
              "    </tr>\n",
              "  </tbody>\n",
              "</table>\n",
              "</div>"
            ],
            "text/plain": [
              "   EVI_Median_1  EVI_Median_2  EVI_Median_11  ...  EVI_Max_10  EVI_Max_11  Field_ID\n",
              "0     -0.014700     -0.025601       0.112969  ...    0.140126    1.454623   MH2O0YH\n",
              "1     -0.059792     -0.086052       0.018591  ...    0.064794    0.316553   35AFSDD\n",
              "2     -0.095323     -0.087615       0.036738  ...    0.292084    0.752592   003GQB5\n",
              "3     -0.032616     -0.021169       0.063584  ...    4.056795   11.256158   A6H2141\n",
              "4     -0.041784     -0.057120       0.034780  ...    0.072753    0.130955   MHDYMRX\n",
              "\n",
              "[5 rows x 23 columns]"
            ]
          },
          "metadata": {
            "tags": []
          },
          "execution_count": 20
        }
      ]
    },
    {
      "cell_type": "code",
      "metadata": {
        "colab": {
          "base_uri": "https://localhost:8080/",
          "height": 131,
          "referenced_widgets": [
            "ce9960ee5378462a8d2f46ee289b7d10",
            "3041b1b2b4d641a8ab85e336c66b5617",
            "1d2541c3c5a8476484294e63d946fc17",
            "5c627b05eb92491dad895cfba2d1f5de",
            "a6d15dd8a3184bfaabf3e8e5ceb46701",
            "907e173b056b4cf597b683cfde8c4290",
            "e2f246516d164b038f0d55e1abb3aff2",
            "d86247d1a2bf47c98b72ead3354e0ab6",
            "dc50da4c933c4f6eb5371da8f49cb9cf",
            "190fce310a504dc586913a193ca9fd7b",
            "301249925016444f94315ffa937b3ff0",
            "9fba175d9a72478aad247d1531a0b526",
            "024f4342348e45cc9ccee1fd4d7fa95d",
            "0fc95d3806aa438fac8c7fa6597df1a6",
            "e48e61cbde2c4f39a190da9058072f25",
            "d2b9e3ae587b4bfeab3ddba6c0056939"
          ]
        },
        "id": "Xoa-5kVvDmHT",
        "outputId": "ae30f20d-094a-49ff-b725-7efc9939981c"
      },
      "source": [
        "                                                      ###  Get GRNDVI Data    ###\r\n",
        "\r\n",
        "train_GRNDVI = pd.DataFrame([get_GRNDVI_data(train['Field_ID'].values[fid_idx]) for fid_idx in tqdm(range(len(train['Field_ID'].values))) ])\r\n",
        "train_GRNDVI['Field_ID'] = train['Field_ID'].values\r\n",
        "\r\n",
        "print()\r\n",
        "\r\n",
        "test_GRNDVI = pd.DataFrame([get_GRNDVI_data(ss['Field_ID'].values[fid_idx], folder='image_arrays_test') for fid_idx in tqdm(range(len(ss['Field_ID'].values)))])\r\n",
        "test_GRNDVI['Field_ID'] = ss['Field_ID'].values"
      ],
      "execution_count": 21,
      "outputs": [
        {
          "output_type": "display_data",
          "data": {
            "application/vnd.jupyter.widget-view+json": {
              "model_id": "ce9960ee5378462a8d2f46ee289b7d10",
              "version_minor": 0,
              "version_major": 2
            },
            "text/plain": [
              "HBox(children=(FloatProgress(value=0.0, max=1746.0), HTML(value='')))"
            ]
          },
          "metadata": {
            "tags": []
          }
        },
        {
          "output_type": "stream",
          "text": [
            "\n",
            "\n"
          ],
          "name": "stdout"
        },
        {
          "output_type": "display_data",
          "data": {
            "application/vnd.jupyter.widget-view+json": {
              "model_id": "dc50da4c933c4f6eb5371da8f49cb9cf",
              "version_minor": 0,
              "version_major": 2
            },
            "text/plain": [
              "HBox(children=(FloatProgress(value=0.0, max=1055.0), HTML(value='')))"
            ]
          },
          "metadata": {
            "tags": []
          }
        },
        {
          "output_type": "stream",
          "text": [
            "\n"
          ],
          "name": "stdout"
        }
      ]
    },
    {
      "cell_type": "code",
      "metadata": {
        "colab": {
          "base_uri": "https://localhost:8080/",
          "height": 215
        },
        "id": "rrOFke4xlDDI",
        "outputId": "d523bf44-4acd-4731-ee22-3d65ac12bb5e"
      },
      "source": [
        "train_GRNDVI.head()"
      ],
      "execution_count": 22,
      "outputs": [
        {
          "output_type": "execute_result",
          "data": {
            "text/html": [
              "<div>\n",
              "<style scoped>\n",
              "    .dataframe tbody tr th:only-of-type {\n",
              "        vertical-align: middle;\n",
              "    }\n",
              "\n",
              "    .dataframe tbody tr th {\n",
              "        vertical-align: top;\n",
              "    }\n",
              "\n",
              "    .dataframe thead th {\n",
              "        text-align: right;\n",
              "    }\n",
              "</style>\n",
              "<table border=\"1\" class=\"dataframe\">\n",
              "  <thead>\n",
              "    <tr style=\"text-align: right;\">\n",
              "      <th></th>\n",
              "      <th>GRNDVI_Min_1</th>\n",
              "      <th>GRNDVI_Max_1</th>\n",
              "      <th>GRNDVI_Median_1</th>\n",
              "      <th>GRNDVI_Min_2</th>\n",
              "      <th>GRNDVI_Max_2</th>\n",
              "      <th>GRNDVI_Median_2</th>\n",
              "      <th>GRNDVI_Min_11</th>\n",
              "      <th>GRNDVI_Max_11</th>\n",
              "      <th>GRNDVI_Median_11</th>\n",
              "      <th>GRNDVI_Min_0</th>\n",
              "      <th>GRNDVI_Max_0</th>\n",
              "      <th>GRNDVI_Median_0</th>\n",
              "      <th>GRNDVI_Min_3</th>\n",
              "      <th>GRNDVI_Max_3</th>\n",
              "      <th>GRNDVI_Median_3</th>\n",
              "      <th>GRNDVI_Min_4</th>\n",
              "      <th>GRNDVI_Max_4</th>\n",
              "      <th>GRNDVI_Median_4</th>\n",
              "      <th>GRNDVI_Min_5</th>\n",
              "      <th>GRNDVI_Max_5</th>\n",
              "      <th>GRNDVI_Median_5</th>\n",
              "      <th>GRNDVI_Min_6</th>\n",
              "      <th>GRNDVI_Max_6</th>\n",
              "      <th>GRNDVI_Median_6</th>\n",
              "      <th>GRNDVI_Min_7</th>\n",
              "      <th>GRNDVI_Max_7</th>\n",
              "      <th>GRNDVI_Median_7</th>\n",
              "      <th>GRNDVI_Min_8</th>\n",
              "      <th>GRNDVI_Max_8</th>\n",
              "      <th>GRNDVI_Median_8</th>\n",
              "      <th>GRNDVI_Min_9</th>\n",
              "      <th>GRNDVI_Max_9</th>\n",
              "      <th>GRNDVI_Median_9</th>\n",
              "      <th>GRNDVI_Min_10</th>\n",
              "      <th>GRNDVI_Max_10</th>\n",
              "      <th>GRNDVI_Median_10</th>\n",
              "      <th>Field_ID</th>\n",
              "    </tr>\n",
              "  </thead>\n",
              "  <tbody>\n",
              "    <tr>\n",
              "      <th>0</th>\n",
              "      <td>-0.125506</td>\n",
              "      <td>0.489949</td>\n",
              "      <td>0.093019</td>\n",
              "      <td>-0.120085</td>\n",
              "      <td>0.448368</td>\n",
              "      <td>0.036549</td>\n",
              "      <td>-0.153803</td>\n",
              "      <td>0.514184</td>\n",
              "      <td>0.201823</td>\n",
              "      <td>-0.113120</td>\n",
              "      <td>0.525722</td>\n",
              "      <td>0.202092</td>\n",
              "      <td>-0.141381</td>\n",
              "      <td>0.424122</td>\n",
              "      <td>0.035228</td>\n",
              "      <td>-0.125125</td>\n",
              "      <td>0.447491</td>\n",
              "      <td>0.134959</td>\n",
              "      <td>-0.348803</td>\n",
              "      <td>-0.239975</td>\n",
              "      <td>-0.293591</td>\n",
              "      <td>-0.113160</td>\n",
              "      <td>0.509420</td>\n",
              "      <td>0.185962</td>\n",
              "      <td>-0.212339</td>\n",
              "      <td>0.468051</td>\n",
              "      <td>0.020877</td>\n",
              "      <td>-0.073679</td>\n",
              "      <td>0.541088</td>\n",
              "      <td>0.353063</td>\n",
              "      <td>0.013321</td>\n",
              "      <td>0.562070</td>\n",
              "      <td>0.356257</td>\n",
              "      <td>-0.007760</td>\n",
              "      <td>0.559814</td>\n",
              "      <td>0.345631</td>\n",
              "      <td>MH2O0YH</td>\n",
              "    </tr>\n",
              "    <tr>\n",
              "      <th>1</th>\n",
              "      <td>-0.161172</td>\n",
              "      <td>0.376339</td>\n",
              "      <td>0.003951</td>\n",
              "      <td>-0.170096</td>\n",
              "      <td>0.377175</td>\n",
              "      <td>-0.034561</td>\n",
              "      <td>-0.254467</td>\n",
              "      <td>0.527789</td>\n",
              "      <td>-0.089975</td>\n",
              "      <td>-0.210621</td>\n",
              "      <td>0.412612</td>\n",
              "      <td>0.048802</td>\n",
              "      <td>-0.179191</td>\n",
              "      <td>0.270054</td>\n",
              "      <td>-0.056793</td>\n",
              "      <td>-0.166667</td>\n",
              "      <td>0.360918</td>\n",
              "      <td>-0.018586</td>\n",
              "      <td>-0.331469</td>\n",
              "      <td>-0.167659</td>\n",
              "      <td>-0.297511</td>\n",
              "      <td>-0.004699</td>\n",
              "      <td>0.573019</td>\n",
              "      <td>0.468732</td>\n",
              "      <td>-0.308877</td>\n",
              "      <td>0.544309</td>\n",
              "      <td>0.342466</td>\n",
              "      <td>-0.162958</td>\n",
              "      <td>0.543152</td>\n",
              "      <td>0.266877</td>\n",
              "      <td>-0.073778</td>\n",
              "      <td>0.565954</td>\n",
              "      <td>0.241188</td>\n",
              "      <td>-0.140274</td>\n",
              "      <td>0.544534</td>\n",
              "      <td>0.243651</td>\n",
              "      <td>35AFSDD</td>\n",
              "    </tr>\n",
              "    <tr>\n",
              "      <th>2</th>\n",
              "      <td>-0.214990</td>\n",
              "      <td>0.335491</td>\n",
              "      <td>-0.054616</td>\n",
              "      <td>-0.217419</td>\n",
              "      <td>0.353217</td>\n",
              "      <td>-0.027300</td>\n",
              "      <td>-0.146467</td>\n",
              "      <td>0.566091</td>\n",
              "      <td>0.249049</td>\n",
              "      <td>-0.133876</td>\n",
              "      <td>0.336735</td>\n",
              "      <td>0.049595</td>\n",
              "      <td>-0.222424</td>\n",
              "      <td>0.384653</td>\n",
              "      <td>0.025859</td>\n",
              "      <td>-0.071800</td>\n",
              "      <td>0.567997</td>\n",
              "      <td>0.363983</td>\n",
              "      <td>-0.054424</td>\n",
              "      <td>0.538180</td>\n",
              "      <td>0.367690</td>\n",
              "      <td>-0.036635</td>\n",
              "      <td>0.489378</td>\n",
              "      <td>0.327354</td>\n",
              "      <td>-0.153971</td>\n",
              "      <td>0.416242</td>\n",
              "      <td>0.109112</td>\n",
              "      <td>-0.079038</td>\n",
              "      <td>0.456914</td>\n",
              "      <td>0.182020</td>\n",
              "      <td>-0.055433</td>\n",
              "      <td>0.526240</td>\n",
              "      <td>0.233693</td>\n",
              "      <td>-0.254999</td>\n",
              "      <td>0.269044</td>\n",
              "      <td>-0.061459</td>\n",
              "      <td>003GQB5</td>\n",
              "    </tr>\n",
              "    <tr>\n",
              "      <th>3</th>\n",
              "      <td>-0.322183</td>\n",
              "      <td>0.452185</td>\n",
              "      <td>0.007418</td>\n",
              "      <td>-0.323000</td>\n",
              "      <td>0.420534</td>\n",
              "      <td>0.059815</td>\n",
              "      <td>-0.295254</td>\n",
              "      <td>0.428350</td>\n",
              "      <td>0.114264</td>\n",
              "      <td>-0.297134</td>\n",
              "      <td>0.422295</td>\n",
              "      <td>0.100964</td>\n",
              "      <td>-0.312333</td>\n",
              "      <td>0.381703</td>\n",
              "      <td>0.079014</td>\n",
              "      <td>-0.304438</td>\n",
              "      <td>0.564793</td>\n",
              "      <td>0.344256</td>\n",
              "      <td>-0.230262</td>\n",
              "      <td>0.517182</td>\n",
              "      <td>0.339198</td>\n",
              "      <td>-0.256429</td>\n",
              "      <td>0.453140</td>\n",
              "      <td>0.305838</td>\n",
              "      <td>-0.298647</td>\n",
              "      <td>0.463404</td>\n",
              "      <td>0.210411</td>\n",
              "      <td>-0.303699</td>\n",
              "      <td>0.501619</td>\n",
              "      <td>0.257635</td>\n",
              "      <td>-0.278959</td>\n",
              "      <td>0.503724</td>\n",
              "      <td>0.263158</td>\n",
              "      <td>-0.261165</td>\n",
              "      <td>0.099304</td>\n",
              "      <td>-0.050798</td>\n",
              "      <td>A6H2141</td>\n",
              "    </tr>\n",
              "    <tr>\n",
              "      <th>4</th>\n",
              "      <td>-0.133239</td>\n",
              "      <td>0.298132</td>\n",
              "      <td>0.014873</td>\n",
              "      <td>-0.130101</td>\n",
              "      <td>0.278779</td>\n",
              "      <td>0.008796</td>\n",
              "      <td>-0.165813</td>\n",
              "      <td>-0.078497</td>\n",
              "      <td>-0.135551</td>\n",
              "      <td>-0.131001</td>\n",
              "      <td>0.285682</td>\n",
              "      <td>0.063672</td>\n",
              "      <td>-0.174384</td>\n",
              "      <td>0.344925</td>\n",
              "      <td>0.013478</td>\n",
              "      <td>-0.112993</td>\n",
              "      <td>0.581330</td>\n",
              "      <td>0.331303</td>\n",
              "      <td>-0.175583</td>\n",
              "      <td>0.463309</td>\n",
              "      <td>0.150886</td>\n",
              "      <td>-0.091155</td>\n",
              "      <td>0.460161</td>\n",
              "      <td>0.317745</td>\n",
              "      <td>-0.109015</td>\n",
              "      <td>0.386498</td>\n",
              "      <td>0.124731</td>\n",
              "      <td>-0.079710</td>\n",
              "      <td>0.437298</td>\n",
              "      <td>0.169004</td>\n",
              "      <td>-0.088147</td>\n",
              "      <td>0.440981</td>\n",
              "      <td>0.209754</td>\n",
              "      <td>-0.066394</td>\n",
              "      <td>0.393495</td>\n",
              "      <td>0.205719</td>\n",
              "      <td>MHDYMRX</td>\n",
              "    </tr>\n",
              "  </tbody>\n",
              "</table>\n",
              "</div>"
            ],
            "text/plain": [
              "   GRNDVI_Min_1  GRNDVI_Max_1  ...  GRNDVI_Median_10  Field_ID\n",
              "0     -0.125506      0.489949  ...          0.345631   MH2O0YH\n",
              "1     -0.161172      0.376339  ...          0.243651   35AFSDD\n",
              "2     -0.214990      0.335491  ...         -0.061459   003GQB5\n",
              "3     -0.322183      0.452185  ...         -0.050798   A6H2141\n",
              "4     -0.133239      0.298132  ...          0.205719   MHDYMRX\n",
              "\n",
              "[5 rows x 37 columns]"
            ]
          },
          "metadata": {
            "tags": []
          },
          "execution_count": 22
        }
      ]
    },
    {
      "cell_type": "code",
      "metadata": {
        "colab": {
          "base_uri": "https://localhost:8080/",
          "height": 131,
          "referenced_widgets": [
            "6d57aeac8752497da8b02a5c9d77b19c",
            "152fef2d5c5a4f19895b26f2fe673c43",
            "2d7a5c2a164d49079615fc0be78b2cd0",
            "ec5c50a4c9b54839ac90bf5cb508457b",
            "a04ecc92fa674c83b656974e1f464340",
            "32f405ca4d6b43a7afd2226f45ed6e99",
            "a9472d1a5d184b249330457add943c59",
            "ce96c7a249884d4bbaa1196fa67166bc",
            "aeaa1cacfa6948c7907f8a24008b61f0",
            "661ea5faf14e4db8bfbaf529ff454a56",
            "7397c81427954e0ea520bab6a714f97c",
            "70eaab5ef7354d2ca0b22af6be017244",
            "3250acde85434aecb54b1f32605ea30d",
            "ebb4dffad6fb4a6a81d5dd5c0a6b9768",
            "e9056ea9364644e39b2d2a6627c87438",
            "fbcdecf0f15641759fbe9d00eb4bfd94"
          ]
        },
        "id": "CehqHcfREeeo",
        "outputId": "103927e4-71c1-44c9-bf51-f365eb5d9ce4"
      },
      "source": [
        "                                                      ###  Get SAVI Data    ###\r\n",
        "\r\n",
        "train_SAVI = pd.DataFrame([get_SAVI_data(train['Field_ID'].values[fid_idx]) for fid_idx in tqdm(range(len(train['Field_ID'].values))) ])\r\n",
        "train_SAVI['Field_ID'] = train['Field_ID'].values\r\n",
        "\r\n",
        "print()\r\n",
        "\r\n",
        "test_SAVI = pd.DataFrame([get_SAVI_data(ss['Field_ID'].values[fid_idx], folder='image_arrays_test') for fid_idx in tqdm(range(len(ss['Field_ID'].values)))])\r\n",
        "test_SAVI['Field_ID'] = ss['Field_ID'].values"
      ],
      "execution_count": 23,
      "outputs": [
        {
          "output_type": "display_data",
          "data": {
            "application/vnd.jupyter.widget-view+json": {
              "model_id": "6d57aeac8752497da8b02a5c9d77b19c",
              "version_minor": 0,
              "version_major": 2
            },
            "text/plain": [
              "HBox(children=(FloatProgress(value=0.0, max=1746.0), HTML(value='')))"
            ]
          },
          "metadata": {
            "tags": []
          }
        },
        {
          "output_type": "stream",
          "text": [
            "\n",
            "\n"
          ],
          "name": "stdout"
        },
        {
          "output_type": "display_data",
          "data": {
            "application/vnd.jupyter.widget-view+json": {
              "model_id": "aeaa1cacfa6948c7907f8a24008b61f0",
              "version_minor": 0,
              "version_major": 2
            },
            "text/plain": [
              "HBox(children=(FloatProgress(value=0.0, max=1055.0), HTML(value='')))"
            ]
          },
          "metadata": {
            "tags": []
          }
        },
        {
          "output_type": "stream",
          "text": [
            "\n"
          ],
          "name": "stdout"
        }
      ]
    },
    {
      "cell_type": "code",
      "metadata": {
        "colab": {
          "base_uri": "https://localhost:8080/",
          "height": 215
        },
        "id": "Sa8IWDqAK4U9",
        "outputId": "a45ccc77-84dc-4831-9a68-7b9158428ba5"
      },
      "source": [
        "train_SAVI.head()"
      ],
      "execution_count": 24,
      "outputs": [
        {
          "output_type": "execute_result",
          "data": {
            "text/html": [
              "<div>\n",
              "<style scoped>\n",
              "    .dataframe tbody tr th:only-of-type {\n",
              "        vertical-align: middle;\n",
              "    }\n",
              "\n",
              "    .dataframe tbody tr th {\n",
              "        vertical-align: top;\n",
              "    }\n",
              "\n",
              "    .dataframe thead th {\n",
              "        text-align: right;\n",
              "    }\n",
              "</style>\n",
              "<table border=\"1\" class=\"dataframe\">\n",
              "  <thead>\n",
              "    <tr style=\"text-align: right;\">\n",
              "      <th></th>\n",
              "      <th>SAVI_Max_0</th>\n",
              "      <th>SAVI_Max_1</th>\n",
              "      <th>SAVI_Max_2</th>\n",
              "      <th>SAVI_Max_3</th>\n",
              "      <th>SAVI_Max_4</th>\n",
              "      <th>SAVI_Max_5</th>\n",
              "      <th>SAVI_Max_6</th>\n",
              "      <th>SAVI_Max_7</th>\n",
              "      <th>SAVI_Max_8</th>\n",
              "      <th>SAVI_Max_9</th>\n",
              "      <th>SAVI_Max_10</th>\n",
              "      <th>SAVI_Max_11</th>\n",
              "      <th>Field_ID</th>\n",
              "    </tr>\n",
              "  </thead>\n",
              "  <tbody>\n",
              "    <tr>\n",
              "      <th>0</th>\n",
              "      <td>1.387860</td>\n",
              "      <td>1.340256</td>\n",
              "      <td>1.297018</td>\n",
              "      <td>1.259120</td>\n",
              "      <td>1.308096</td>\n",
              "      <td>0.157630</td>\n",
              "      <td>1.359721</td>\n",
              "      <td>1.314205</td>\n",
              "      <td>1.394693</td>\n",
              "      <td>1.420397</td>\n",
              "      <td>1.421159</td>\n",
              "      <td>1.376860</td>\n",
              "      <td>MH2O0YH</td>\n",
              "    </tr>\n",
              "    <tr>\n",
              "      <th>1</th>\n",
              "      <td>1.197964</td>\n",
              "      <td>1.126216</td>\n",
              "      <td>1.106721</td>\n",
              "      <td>0.969667</td>\n",
              "      <td>1.115649</td>\n",
              "      <td>0.353729</td>\n",
              "      <td>1.421529</td>\n",
              "      <td>1.369574</td>\n",
              "      <td>1.354562</td>\n",
              "      <td>1.396139</td>\n",
              "      <td>1.369522</td>\n",
              "      <td>1.386767</td>\n",
              "      <td>35AFSDD</td>\n",
              "    </tr>\n",
              "    <tr>\n",
              "      <th>2</th>\n",
              "      <td>1.103363</td>\n",
              "      <td>1.109366</td>\n",
              "      <td>1.122095</td>\n",
              "      <td>1.170232</td>\n",
              "      <td>1.420081</td>\n",
              "      <td>1.380349</td>\n",
              "      <td>1.310504</td>\n",
              "      <td>1.231322</td>\n",
              "      <td>1.292504</td>\n",
              "      <td>1.357840</td>\n",
              "      <td>1.049775</td>\n",
              "      <td>1.423170</td>\n",
              "      <td>003GQB5</td>\n",
              "    </tr>\n",
              "    <tr>\n",
              "      <th>3</th>\n",
              "      <td>1.242593</td>\n",
              "      <td>1.275071</td>\n",
              "      <td>1.209281</td>\n",
              "      <td>1.189709</td>\n",
              "      <td>1.432710</td>\n",
              "      <td>1.364676</td>\n",
              "      <td>1.282412</td>\n",
              "      <td>1.292426</td>\n",
              "      <td>1.358397</td>\n",
              "      <td>1.378101</td>\n",
              "      <td>0.902722</td>\n",
              "      <td>1.266213</td>\n",
              "      <td>A6H2141</td>\n",
              "    </tr>\n",
              "    <tr>\n",
              "      <th>4</th>\n",
              "      <td>1.042626</td>\n",
              "      <td>1.074357</td>\n",
              "      <td>1.022653</td>\n",
              "      <td>1.121090</td>\n",
              "      <td>1.436992</td>\n",
              "      <td>1.293338</td>\n",
              "      <td>1.297022</td>\n",
              "      <td>1.203318</td>\n",
              "      <td>1.299221</td>\n",
              "      <td>1.280114</td>\n",
              "      <td>1.227244</td>\n",
              "      <td>0.494353</td>\n",
              "      <td>MHDYMRX</td>\n",
              "    </tr>\n",
              "  </tbody>\n",
              "</table>\n",
              "</div>"
            ],
            "text/plain": [
              "   SAVI_Max_0  SAVI_Max_1  SAVI_Max_2  ...  SAVI_Max_10  SAVI_Max_11  Field_ID\n",
              "0    1.387860    1.340256    1.297018  ...     1.421159     1.376860   MH2O0YH\n",
              "1    1.197964    1.126216    1.106721  ...     1.369522     1.386767   35AFSDD\n",
              "2    1.103363    1.109366    1.122095  ...     1.049775     1.423170   003GQB5\n",
              "3    1.242593    1.275071    1.209281  ...     0.902722     1.266213   A6H2141\n",
              "4    1.042626    1.074357    1.022653  ...     1.227244     0.494353   MHDYMRX\n",
              "\n",
              "[5 rows x 13 columns]"
            ]
          },
          "metadata": {
            "tags": []
          },
          "execution_count": 24
        }
      ]
    },
    {
      "cell_type": "code",
      "metadata": {
        "colab": {
          "base_uri": "https://localhost:8080/",
          "height": 131,
          "referenced_widgets": [
            "6af52721729449ac8c6dfc9f72da6b27",
            "9c2aca7307274c51b9e87018a7a98075",
            "112982a41bc74dcf991c019cce2cee0f",
            "c65e3a09b03649a7a7f98639abc6431c",
            "64f5644f13c243d1945059248eb01028",
            "6cea3cec25d843ceb472b15bc8cd40a2",
            "688214fb501540188e8f6bd88ae9ba5b",
            "e1103436858e4962838817a95f19e32a",
            "00d24c0ed5de4de2863ba2022d7edb8e",
            "685c266078a347dab0ea1368fa6dbdfe",
            "d070a440e6fa4ba29c68410e3e035645",
            "76cda63a1be0408ca73331a54b61067e",
            "0a169ed984294bd1965804772d0e7a5a",
            "f4c2f8752b524250b2d5dc44c3f5b2b7",
            "06a13b5ddc70490786fce737d60395c7",
            "15c4491975b74ba1a3525bad5964fe7e"
          ]
        },
        "id": "wbArY0hmLKz9",
        "outputId": "7973a241-def9-439c-91f5-3be5a48141cf"
      },
      "source": [
        "                                                      ###  Get CCCI Data    ###\r\n",
        "\r\n",
        "train_CCCI = pd.DataFrame([get_CCCI_data (train['Field_ID'].values[fid_idx]) for fid_idx in tqdm(range(len(train['Field_ID'].values))) ])\r\n",
        "train_CCCI['Field_ID'] = train['Field_ID'].values\r\n",
        "\r\n",
        "print()\r\n",
        "\r\n",
        "test_CCCI = pd.DataFrame([get_CCCI_data(ss['Field_ID'].values[fid_idx], folder='image_arrays_test') for fid_idx in tqdm(range(len(ss['Field_ID'].values)))])\r\n",
        "test_CCCI['Field_ID'] = ss['Field_ID'].values"
      ],
      "execution_count": 25,
      "outputs": [
        {
          "output_type": "display_data",
          "data": {
            "application/vnd.jupyter.widget-view+json": {
              "model_id": "6af52721729449ac8c6dfc9f72da6b27",
              "version_minor": 0,
              "version_major": 2
            },
            "text/plain": [
              "HBox(children=(FloatProgress(value=0.0, max=1746.0), HTML(value='')))"
            ]
          },
          "metadata": {
            "tags": []
          }
        },
        {
          "output_type": "stream",
          "text": [
            "\n",
            "\n"
          ],
          "name": "stdout"
        },
        {
          "output_type": "display_data",
          "data": {
            "application/vnd.jupyter.widget-view+json": {
              "model_id": "00d24c0ed5de4de2863ba2022d7edb8e",
              "version_minor": 0,
              "version_major": 2
            },
            "text/plain": [
              "HBox(children=(FloatProgress(value=0.0, max=1055.0), HTML(value='')))"
            ]
          },
          "metadata": {
            "tags": []
          }
        },
        {
          "output_type": "stream",
          "text": [
            "\n"
          ],
          "name": "stdout"
        }
      ]
    },
    {
      "cell_type": "code",
      "metadata": {
        "colab": {
          "base_uri": "https://localhost:8080/",
          "height": 215
        },
        "id": "lPHajmeLLK2b",
        "outputId": "1366b540-9aa4-4821-c052-03cd6466a39b"
      },
      "source": [
        "train_CCCI.head()"
      ],
      "execution_count": 26,
      "outputs": [
        {
          "output_type": "execute_result",
          "data": {
            "text/html": [
              "<div>\n",
              "<style scoped>\n",
              "    .dataframe tbody tr th:only-of-type {\n",
              "        vertical-align: middle;\n",
              "    }\n",
              "\n",
              "    .dataframe tbody tr th {\n",
              "        vertical-align: top;\n",
              "    }\n",
              "\n",
              "    .dataframe thead th {\n",
              "        text-align: right;\n",
              "    }\n",
              "</style>\n",
              "<table border=\"1\" class=\"dataframe\">\n",
              "  <thead>\n",
              "    <tr style=\"text-align: right;\">\n",
              "      <th></th>\n",
              "      <th>CCCI_Max_0</th>\n",
              "      <th>CCCI_Max_1</th>\n",
              "      <th>CCCI_Max_2</th>\n",
              "      <th>CCCI_Max_3</th>\n",
              "      <th>CCCI_Max_4</th>\n",
              "      <th>CCCI_Max_5</th>\n",
              "      <th>CCCI_Max_6</th>\n",
              "      <th>CCCI_Max_7</th>\n",
              "      <th>CCCI_Max_8</th>\n",
              "      <th>CCCI_Max_9</th>\n",
              "      <th>CCCI_Max_10</th>\n",
              "      <th>CCCI_Max_11</th>\n",
              "      <th>Field_ID</th>\n",
              "    </tr>\n",
              "  </thead>\n",
              "  <tbody>\n",
              "    <tr>\n",
              "      <th>0</th>\n",
              "      <td>0.639610</td>\n",
              "      <td>0.671894</td>\n",
              "      <td>0.624483</td>\n",
              "      <td>0.586932</td>\n",
              "      <td>0.617382</td>\n",
              "      <td>112.303512</td>\n",
              "      <td>0.572968</td>\n",
              "      <td>0.903003</td>\n",
              "      <td>0.624469</td>\n",
              "      <td>0.622169</td>\n",
              "      <td>0.602918</td>\n",
              "      <td>0.678058</td>\n",
              "      <td>MH2O0YH</td>\n",
              "    </tr>\n",
              "    <tr>\n",
              "      <th>1</th>\n",
              "      <td>1.315553</td>\n",
              "      <td>0.798333</td>\n",
              "      <td>0.893421</td>\n",
              "      <td>0.787016</td>\n",
              "      <td>0.628373</td>\n",
              "      <td>177.252892</td>\n",
              "      <td>0.535259</td>\n",
              "      <td>2.899362</td>\n",
              "      <td>0.690387</td>\n",
              "      <td>0.596173</td>\n",
              "      <td>0.687208</td>\n",
              "      <td>1.265496</td>\n",
              "      <td>35AFSDD</td>\n",
              "    </tr>\n",
              "    <tr>\n",
              "      <th>2</th>\n",
              "      <td>0.574168</td>\n",
              "      <td>0.750816</td>\n",
              "      <td>0.655203</td>\n",
              "      <td>0.750805</td>\n",
              "      <td>0.554316</td>\n",
              "      <td>0.502342</td>\n",
              "      <td>0.540349</td>\n",
              "      <td>0.566358</td>\n",
              "      <td>0.590865</td>\n",
              "      <td>0.592712</td>\n",
              "      <td>0.596220</td>\n",
              "      <td>0.601261</td>\n",
              "      <td>003GQB5</td>\n",
              "    </tr>\n",
              "    <tr>\n",
              "      <th>3</th>\n",
              "      <td>0.959354</td>\n",
              "      <td>0.870712</td>\n",
              "      <td>0.853718</td>\n",
              "      <td>0.881851</td>\n",
              "      <td>0.685500</td>\n",
              "      <td>0.662585</td>\n",
              "      <td>0.604673</td>\n",
              "      <td>1.102301</td>\n",
              "      <td>0.810593</td>\n",
              "      <td>0.671980</td>\n",
              "      <td>0.896368</td>\n",
              "      <td>0.832528</td>\n",
              "      <td>A6H2141</td>\n",
              "    </tr>\n",
              "    <tr>\n",
              "      <th>4</th>\n",
              "      <td>0.568518</td>\n",
              "      <td>0.695150</td>\n",
              "      <td>0.708137</td>\n",
              "      <td>0.669147</td>\n",
              "      <td>0.631758</td>\n",
              "      <td>0.567160</td>\n",
              "      <td>0.522904</td>\n",
              "      <td>0.546147</td>\n",
              "      <td>0.540011</td>\n",
              "      <td>0.641825</td>\n",
              "      <td>0.559277</td>\n",
              "      <td>0.311642</td>\n",
              "      <td>MHDYMRX</td>\n",
              "    </tr>\n",
              "  </tbody>\n",
              "</table>\n",
              "</div>"
            ],
            "text/plain": [
              "   CCCI_Max_0  CCCI_Max_1  CCCI_Max_2  ...  CCCI_Max_10  CCCI_Max_11  Field_ID\n",
              "0    0.639610    0.671894    0.624483  ...     0.602918     0.678058   MH2O0YH\n",
              "1    1.315553    0.798333    0.893421  ...     0.687208     1.265496   35AFSDD\n",
              "2    0.574168    0.750816    0.655203  ...     0.596220     0.601261   003GQB5\n",
              "3    0.959354    0.870712    0.853718  ...     0.896368     0.832528   A6H2141\n",
              "4    0.568518    0.695150    0.708137  ...     0.559277     0.311642   MHDYMRX\n",
              "\n",
              "[5 rows x 13 columns]"
            ]
          },
          "metadata": {
            "tags": []
          },
          "execution_count": 26
        }
      ]
    },
    {
      "cell_type": "markdown",
      "metadata": {
        "id": "MbNDKaN7CP48"
      },
      "source": [
        "* **std_mean_per_month_vegetation**"
      ]
    },
    {
      "cell_type": "code",
      "metadata": {
        "id": "eau3PE6cB4VL"
      },
      "source": [
        "def std_mean_product_per_month_vegetation(data_NDVI,data_GRNDVI,data_SAVI) : \r\n",
        "  std_Mean_dataset = pd.DataFrame()\r\n",
        "  std_Mean_dataset['Field_ID'] = data_NDVI['Field_ID']\r\n",
        "  for month in [0,3,4,5,6,7,8,9,10]: \r\n",
        "      local = pd.DataFrame()\r\n",
        "      features = []\r\n",
        "      feature_NDVI = 'NDVI_Max_' + str(month)\r\n",
        "      local[feature_NDVI] = data_NDVI[feature_NDVI]\r\n",
        "      features.append(feature_NDVI)\r\n",
        "      feature_GRNDVI = 'GRNDVI_Max_' + str(month)\r\n",
        "      local[feature_GRNDVI] = data_GRNDVI[feature_GRNDVI]\r\n",
        "      features.append(feature_GRNDVI)\r\n",
        "      feature_SAVI = 'SAVI_Max_' + str(month)\r\n",
        "      local[feature_SAVI] = data_SAVI[feature_SAVI]\r\n",
        "      features.append(feature_SAVI)\r\n",
        "      \r\n",
        "      std_feature = local[features].std(axis=1)\r\n",
        "      std_Mean_dataset[f'YEO_JOHNSON_STD_MAX_FOR_MONTH_{month}'] = yj.fit_transform(np.array(std_feature).reshape(-1, 1))\r\n",
        "\r\n",
        "      product_feature = local[features].prod(axis=1)\r\n",
        "      std_Mean_dataset[f'YEO_JOHNSON_PRODUCT_MAX_FOR_MONTH_{month}'] = yj.fit_transform(np.array(product_feature).reshape(-1, 1))\r\n",
        "      \r\n",
        "      mean_feature = local[features].mean(axis=1)\r\n",
        "      std_Mean_dataset[f'YEO_JOHNSON_MEAN_MAX_FOR_MONTH_{month}'] = yj.fit_transform(np.array(mean_feature).reshape(-1, 1))\r\n",
        "\r\n",
        "  return std_Mean_dataset"
      ],
      "execution_count": 27,
      "outputs": []
    },
    {
      "cell_type": "code",
      "metadata": {
        "colab": {
          "base_uri": "https://localhost:8080/"
        },
        "id": "PWdqTmwMFYHf",
        "outputId": "e21b0f15-9cbb-4c3a-b971-afa85d24d733"
      },
      "source": [
        "train_std_mean = std_mean_product_per_month_vegetation(train_NDVI,train_GRNDVI,train_SAVI)\r\n",
        "test_std_mean = std_mean_product_per_month_vegetation(test_NDVI,test_GRNDVI,test_SAVI)\r\n",
        "train_std_mean.shape , test_std_mean.shape"
      ],
      "execution_count": 28,
      "outputs": [
        {
          "output_type": "execute_result",
          "data": {
            "text/plain": [
              "((1746, 28), (1055, 28))"
            ]
          },
          "metadata": {
            "tags": []
          },
          "execution_count": 28
        }
      ]
    },
    {
      "cell_type": "markdown",
      "metadata": {
        "id": "71zEG5Z4CU3M"
      },
      "source": [
        "* **YEO-JHONSON TRANSFORMATION**"
      ]
    },
    {
      "cell_type": "code",
      "metadata": {
        "id": "zUph2Owizyyq"
      },
      "source": [
        "def transform_EVI(Data_EVI,cols) :\r\n",
        "  trsf_EVI =yj.fit_transform(Data_EVI[cols])\r\n",
        "\r\n",
        "  new_evi = pd.DataFrame(trsf_EVI,columns=cols)\r\n",
        "  new_evi[\"Field_ID\"] = Data_EVI['Field_ID']\r\n",
        "  return new_evi"
      ],
      "execution_count": 29,
      "outputs": []
    },
    {
      "cell_type": "code",
      "metadata": {
        "id": "NzMEboNZzywL"
      },
      "source": [
        "def  transform_CCCI(data_CCCI) : \r\n",
        "  data_CCCI_ = data_CCCI.drop('Field_ID',1).replace([np.inf, -np.inf], 1)\r\n",
        "  trsf_CCCI =yj.fit_transform(data_CCCI_)\r\n",
        "  new_ccci = pd.DataFrame(trsf_CCCI,columns=data_CCCI_.columns)\r\n",
        "  new_ccci[\"Field_ID\"] = data_CCCI['Field_ID']\r\n",
        "  return new_ccci"
      ],
      "execution_count": 30,
      "outputs": []
    },
    {
      "cell_type": "code",
      "metadata": {
        "id": "znz5d0aTzyt5"
      },
      "source": [
        "def transform_SAVI(data_SAVI) : \r\n",
        "  data_SAVI_ = data_SAVI.drop('Field_ID',1)\r\n",
        "  trsf_SAVI =yj.fit_transform(data_SAVI_)\r\n",
        "  new_SAVI = pd.DataFrame(trsf_SAVI,columns=data_SAVI_.columns)\r\n",
        "  new_SAVI[\"Field_ID\"] = data_SAVI['Field_ID']\r\n",
        "  return new_SAVI"
      ],
      "execution_count": 31,
      "outputs": []
    },
    {
      "cell_type": "code",
      "metadata": {
        "id": "_YHZs6FnzyrQ"
      },
      "source": [
        "def transform_GRNDVI(data_GRNDVI) : \r\n",
        "  data_GRNDVI_ = data_GRNDVI.drop('Field_ID',1)\r\n",
        "  trsf_GRNDVI =yj.fit_transform(data_GRNDVI_)\r\n",
        "  new_GRNDVI = pd.DataFrame(trsf_GRNDVI,columns=data_GRNDVI_.columns)\r\n",
        "  new_GRNDVI[\"Field_ID\"] = data_GRNDVI['Field_ID']\r\n",
        "  return new_GRNDVI"
      ],
      "execution_count": 32,
      "outputs": []
    },
    {
      "cell_type": "code",
      "metadata": {
        "id": "vA7F_1ZLzyon"
      },
      "source": [
        "def transform_NDVI(data_NDVI) : \r\n",
        "  data_NDVI_ = data_NDVI.drop('Field_ID',1)\r\n",
        "  trsf_NDVI =yj.fit_transform(data_NDVI_)\r\n",
        "  new_NDVI = pd.DataFrame(trsf_NDVI,columns=data_NDVI_.columns)\r\n",
        "  new_NDVI[\"Field_ID\"] = data_NDVI['Field_ID']\r\n",
        "  return new_NDVI"
      ],
      "execution_count": 33,
      "outputs": []
    },
    {
      "cell_type": "code",
      "metadata": {
        "id": "Jwv6tCHY39go"
      },
      "source": [
        "# 1 - NDVI\r\n",
        "train_NDVI_ = transform_NDVI(train_NDVI)\r\n",
        "test_NDVI_ = transform_NDVI(test_NDVI)\r\n",
        "\r\n",
        "# 1 - GRNDVI\r\n",
        "train_GRNDVI_ = transform_GRNDVI(train_GRNDVI)\r\n",
        "test_GRNDVI_ = transform_GRNDVI(test_GRNDVI)\r\n",
        "\r\n",
        "# 1 - EVI\r\n",
        "cols = ['EVI_Median_1', 'EVI_Median_2', 'EVI_Median_11', 'EVI_Median_0',\r\n",
        "       'EVI_Median_3', 'EVI_Median_4', 'EVI_Median_5', 'EVI_Median_6',\r\n",
        "       'EVI_Median_7', 'EVI_Median_8', 'EVI_Median_9', 'EVI_Median_10',\r\n",
        "        'EVI_Max_3', 'EVI_Max_4', 'EVI_Max_5', 'EVI_Max_6',\r\n",
        "       'EVI_Max_7', 'EVI_Max_8', 'EVI_Max_9', 'EVI_Max_10', 'EVI_Max_11']\r\n",
        "train_EVI_ = transform_EVI(train_EVI,cols)\r\n",
        "test_EVI_ = transform_EVI(test_EVI,cols)\r\n",
        "\r\n",
        "# 1 - SAVI\r\n",
        "train_SAVI_ = transform_SAVI(train_SAVI)\r\n",
        "test_SAVI_ = transform_SAVI(test_SAVI)\r\n",
        "\r\n",
        "# 1 - CCCI\r\n",
        "train_CCCI_ = transform_CCCI(train_CCCI)\r\n",
        "test_CCCI_ = transform_CCCI(test_CCCI)"
      ],
      "execution_count": 34,
      "outputs": []
    },
    {
      "cell_type": "markdown",
      "metadata": {
        "id": "d6PoclQCCc17"
      },
      "source": [
        "* **get_Vegetation_indexs_Data**"
      ]
    },
    {
      "cell_type": "code",
      "metadata": {
        "id": "RHY3xo1vEr6q"
      },
      "source": [
        "def get_Vegetation_indexs_Data() :\r\n",
        "\r\n",
        "  # TRAIN\r\n",
        "  NDVI_GRNDVI = pd.merge(train_NDVI_,train_GRNDVI_,on='Field_ID',how='left')\r\n",
        "  NDVI_GRNDVI_EVI = pd.merge(NDVI_GRNDVI,train_EVI_,on='Field_ID',how='left')\r\n",
        "  NDVI_GRNDVI_EVI_SAVI = pd.merge(NDVI_GRNDVI_EVI,train_SAVI_,on='Field_ID',how='left')\r\n",
        "  NDVI_GRNDVI_EVI_SAVI_CCCI = pd.merge(NDVI_GRNDVI_EVI_SAVI,train_CCCI_,on='Field_ID',how='left')\r\n",
        "  \r\n",
        "  \r\n",
        "  TRAIN = NDVI_GRNDVI_EVI_SAVI_CCCI.copy()\r\n",
        "  TRAIN = pd.merge(TRAIN,train_std_mean,on='Field_ID',how='left')\r\n",
        "  # TEST\r\n",
        "  NDVI_GRNDVI = pd.merge(test_NDVI_,test_GRNDVI_,on='Field_ID',how='left')\r\n",
        "  NDVI_GRNDVI_EVI = pd.merge(NDVI_GRNDVI,test_EVI_,on='Field_ID',how='left')\r\n",
        "  NDVI_GRNDVI_EVI_SAVI = pd.merge(NDVI_GRNDVI_EVI,test_SAVI_,on='Field_ID',how='left')\r\n",
        "  NDVI_GRNDVI_EVI_SAVI_CCCI = pd.merge(NDVI_GRNDVI_EVI_SAVI,test_CCCI_,on='Field_ID',how='left')\r\n",
        "\r\n",
        "  TEST = NDVI_GRNDVI_EVI_SAVI_CCCI.copy()\r\n",
        "  TEST = pd.merge(TEST,test_std_mean,on='Field_ID',how='left')\r\n",
        "  \r\n",
        "  return TRAIN, TEST"
      ],
      "execution_count": 35,
      "outputs": []
    },
    {
      "cell_type": "code",
      "metadata": {
        "id": "AAlPBsHyFhPk"
      },
      "source": [
        "train_vegetation_indexs , test_vegetation_indexs  = get_Vegetation_indexs_Data() "
      ],
      "execution_count": 36,
      "outputs": []
    },
    {
      "cell_type": "code",
      "metadata": {
        "colab": {
          "base_uri": "https://localhost:8080/"
        },
        "id": "Miwuk8fGMEH9",
        "outputId": "bfee2d26-36cc-4b94-ea9a-38384a91fdba"
      },
      "source": [
        "train_vegetation_indexs.shape, test_vegetation_indexs.shape"
      ],
      "execution_count": 37,
      "outputs": [
        {
          "output_type": "execute_result",
          "data": {
            "text/plain": [
              "((1746, 139), (1055, 139))"
            ]
          },
          "metadata": {
            "tags": []
          },
          "execution_count": 37
        }
      ]
    },
    {
      "cell_type": "code",
      "metadata": {
        "id": "uSt_0-KSDvIc"
      },
      "source": [
        "### Get mean and std of some vegetation indexes over year\r\n",
        "\r\n",
        "train_vegetation_indexs_ = train_vegetation_indexs.copy()\r\n",
        "train = train.reset_index(drop=True)\r\n",
        "train_vegetation_indexs_['Year'] = train['Year']\r\n",
        "\r\n",
        "train_vegetation_indexs['VEGETATION_STD_Per_Year_'+'NDVI_Max_8'] = train_vegetation_indexs_.groupby(['Year'])['NDVI_Max_5'].transform('std')\r\n",
        "train_vegetation_indexs['VEGETATION_STD_Per_Year_'+'GRNDVI_Max_6'] = train_vegetation_indexs_.groupby(['Year', ])['GRNDVI_Max_6'].transform('std')\r\n",
        "train_vegetation_indexs['VEGETATION_STD_Per_Year_'+'SAVI_Max_8'] = train_vegetation_indexs_.groupby(['Year', ])['SAVI_Max_7'].transform('std')"
      ],
      "execution_count": 38,
      "outputs": []
    },
    {
      "cell_type": "code",
      "metadata": {
        "id": "5Ye1P-7BDvFr"
      },
      "source": [
        "### Get mean and std of some vegetation indexes over year\r\n",
        "\r\n",
        "test_vegetation_indexs_ = test_vegetation_indexs.copy()\r\n",
        "test_vegetation_indexs_['Year'] = ss_year['Year']\r\n",
        "\r\n",
        "test_vegetation_indexs['VEGETATION_STD_Per_Year_'+'NDVI_Max_8'] = test_vegetation_indexs_.groupby(['Year'])['NDVI_Max_5'].transform('std')\r\n",
        "test_vegetation_indexs['VEGETATION_STD_Per_Year_'+'GRNDVI_Max_6'] = test_vegetation_indexs_.groupby(['Year', ])['GRNDVI_Max_6'].transform('std')\r\n",
        "test_vegetation_indexs['VEGETATION_STD_Per_Year_'+'SAVI_Max_8'] = test_vegetation_indexs_.groupby(['Year', ])['SAVI_Max_7'].transform('std')"
      ],
      "execution_count": 39,
      "outputs": []
    },
    {
      "cell_type": "code",
      "metadata": {
        "colab": {
          "base_uri": "https://localhost:8080/"
        },
        "id": "KOdIsmlCDxeQ",
        "outputId": "d128fb3a-3703-4303-92e8-1fee14b09970"
      },
      "source": [
        "train_vegetation_indexs.shape, test_vegetation_indexs.shape"
      ],
      "execution_count": 40,
      "outputs": [
        {
          "output_type": "execute_result",
          "data": {
            "text/plain": [
              "((1746, 142), (1055, 142))"
            ]
          },
          "metadata": {
            "tags": []
          },
          "execution_count": 40
        }
      ]
    },
    {
      "cell_type": "markdown",
      "metadata": {
        "id": "lBpwLQlVGALS"
      },
      "source": [
        "## 2 - **Bands Features**"
      ]
    },
    {
      "cell_type": "code",
      "metadata": {
        "id": "qT7mGTR3GTEi"
      },
      "source": [
        "bands = [ ['S2_B7','S2_B5'] ,['S2_B7','S2_B6'],['S2_B8A','S2_B5'],['S2_B6','S2_B5']]\r\n",
        "names = ['FEATURES_B7_B5','FEATURES_B7_B6','FEATURES_B8A_B5','FEATURES_B6_B5']"
      ],
      "execution_count": 41,
      "outputs": []
    },
    {
      "cell_type": "code",
      "metadata": {
        "colab": {
          "base_uri": "https://localhost:8080/",
          "height": 131,
          "referenced_widgets": [
            "a78d5ec3a3494d8b88c6dd61669d61d1",
            "cf3e36d2c0ce4886b3a51ec2539ba2ec",
            "7a07e1ff0ef547228d79da36c1c7a21a",
            "0b9127a4017d470a92d08161c44a1a66",
            "a697d5a835e34a8590f20f7f555296dc",
            "5588247aad584771a64f538901373b3a",
            "dd44274858584990afe102bb416af50c",
            "45196ae3d2a64af0b6173c9324e51527",
            "b5d5d32d6cbe482b9e38597524ffa140",
            "57ae4b44dff44b16a460c8b227e29d49",
            "5968ce13d94d4da2ab09e4abae101fd2",
            "25ee6c2904894f7ca5d4dc0da226cbe4",
            "9bc573e6684148b2a4ba5906cc1e7ed0",
            "ba296ccbfffa466781b751025518f79f",
            "f1baf20a0e894d4a97659dd9f697d260",
            "9a96250c361742bc9e7a67a02ca9a28a"
          ]
        },
        "id": "ynMrtr8LFpqL",
        "outputId": "ab809a43-1e5a-427a-8bcd-c5cb1b037940"
      },
      "source": [
        "train_Features = pd.DataFrame([get_features_fromBands(train['Field_ID'].values[fid_idx],bands=bands,Band_Names=names) for fid_idx in tqdm(range(len(train['Field_ID'].values))) ])\r\n",
        "train_Features['Field_ID'] = train['Field_ID'].values\r\n",
        "\r\n",
        "print()\r\n",
        "\r\n",
        "test_Features = pd.DataFrame([get_features_fromBands(ss['Field_ID'].values[fid_idx],folder='image_arrays_test',bands=bands,Band_Names=names) for fid_idx in tqdm(range(len(ss['Field_ID'].values))) ])\r\n",
        "test_Features['Field_ID'] = ss['Field_ID'].values"
      ],
      "execution_count": 42,
      "outputs": [
        {
          "output_type": "display_data",
          "data": {
            "application/vnd.jupyter.widget-view+json": {
              "model_id": "a78d5ec3a3494d8b88c6dd61669d61d1",
              "version_minor": 0,
              "version_major": 2
            },
            "text/plain": [
              "HBox(children=(FloatProgress(value=0.0, max=1746.0), HTML(value='')))"
            ]
          },
          "metadata": {
            "tags": []
          }
        },
        {
          "output_type": "stream",
          "text": [
            "\n",
            "\n"
          ],
          "name": "stdout"
        },
        {
          "output_type": "display_data",
          "data": {
            "application/vnd.jupyter.widget-view+json": {
              "model_id": "b5d5d32d6cbe482b9e38597524ffa140",
              "version_minor": 0,
              "version_major": 2
            },
            "text/plain": [
              "HBox(children=(FloatProgress(value=0.0, max=1055.0), HTML(value='')))"
            ]
          },
          "metadata": {
            "tags": []
          }
        },
        {
          "output_type": "stream",
          "text": [
            "\n"
          ],
          "name": "stdout"
        }
      ]
    },
    {
      "cell_type": "code",
      "metadata": {
        "colab": {
          "base_uri": "https://localhost:8080/"
        },
        "id": "CFpxuJf9JVfA",
        "outputId": "24620aeb-8a8e-4a38-acba-f1de9d600b51"
      },
      "source": [
        "train_Features.shape,test_Features.shape"
      ],
      "execution_count": 43,
      "outputs": [
        {
          "output_type": "execute_result",
          "data": {
            "text/plain": [
              "((1746, 49), (1055, 49))"
            ]
          },
          "metadata": {
            "tags": []
          },
          "execution_count": 43
        }
      ]
    },
    {
      "cell_type": "markdown",
      "metadata": {
        "id": "JEzUr1oxCwCD"
      },
      "source": [
        "* YEO-JHONSON TO transform_Bands"
      ]
    },
    {
      "cell_type": "code",
      "metadata": {
        "id": "nBg5pGfS5NVS"
      },
      "source": [
        "def transform_Bands(data_Bands) : \r\n",
        "  data_Bands_ = data_Bands.drop('Field_ID',1)\r\n",
        "  trsf_Bands =yj.fit_transform(data_Bands_)\r\n",
        "  new_Bands = pd.DataFrame(trsf_Bands,columns=data_Bands_.columns)\r\n",
        "  new_Bands[\"Field_ID\"] = data_Bands['Field_ID']\r\n",
        "  return new_Bands"
      ],
      "execution_count": 44,
      "outputs": []
    },
    {
      "cell_type": "code",
      "metadata": {
        "id": "SstEIvxo5lpa"
      },
      "source": [
        "train_Features = transform_Bands(train_Features)\r\n",
        "test_Features = transform_Bands(test_Features)"
      ],
      "execution_count": 45,
      "outputs": []
    },
    {
      "cell_type": "code",
      "metadata": {
        "colab": {
          "base_uri": "https://localhost:8080/"
        },
        "id": "FwADzSbw5tJT",
        "outputId": "80a1cacf-93d1-4ad5-851b-1cd1888fdc31"
      },
      "source": [
        "train_Features.shape,test_Features.shape"
      ],
      "execution_count": 46,
      "outputs": [
        {
          "output_type": "execute_result",
          "data": {
            "text/plain": [
              "((1746, 49), (1055, 49))"
            ]
          },
          "metadata": {
            "tags": []
          },
          "execution_count": 46
        }
      ]
    },
    {
      "cell_type": "markdown",
      "metadata": {
        "id": "xouroWBXHKp5"
      },
      "source": [
        "## **4 - Create Data**"
      ]
    },
    {
      "cell_type": "code",
      "metadata": {
        "id": "KgPQU7WKG-wR"
      },
      "source": [
        "def Create_data() :\r\n",
        "  train1 = pd.merge(train_vegetation_indexs,train_Features,on='Field_ID',how='left')\r\n",
        "  train2 = pd.merge(train1,additional_,on='Field_ID',how='left')\r\n",
        "\r\n",
        "  test1 = pd.merge(test_vegetation_indexs,test_Features,on='Field_ID',how='left')\r\n",
        "  test2 = pd.merge(test1,additional_,on='Field_ID',how='left')\r\n",
        "\r\n",
        "  return train2,test2"
      ],
      "execution_count": 47,
      "outputs": []
    },
    {
      "cell_type": "code",
      "metadata": {
        "id": "5iMB4-EBH8_R"
      },
      "source": [
        "final_train,final_test = Create_data()"
      ],
      "execution_count": 48,
      "outputs": []
    },
    {
      "cell_type": "code",
      "metadata": {
        "colab": {
          "base_uri": "https://localhost:8080/"
        },
        "id": "yoCpjMRbH_8x",
        "outputId": "ce492471-0b59-4851-d1ca-9cc97fd90638"
      },
      "source": [
        "final_train.shape , final_test.shape"
      ],
      "execution_count": 49,
      "outputs": [
        {
          "output_type": "execute_result",
          "data": {
            "text/plain": [
              "((1746, 222), (1055, 222))"
            ]
          },
          "metadata": {
            "tags": []
          },
          "execution_count": 49
        }
      ]
    },
    {
      "cell_type": "code",
      "metadata": {
        "id": "mkEp0U7BICTq"
      },
      "source": [
        "train = train.reset_index(drop=True)"
      ],
      "execution_count": 50,
      "outputs": []
    },
    {
      "cell_type": "markdown",
      "metadata": {
        "id": "5F0I7_f8IUxR"
      },
      "source": [
        "# **Modeling**"
      ]
    },
    {
      "cell_type": "markdown",
      "metadata": {
        "id": "wCCwyOqUJrOL"
      },
      "source": [
        "## **Xgboost**"
      ]
    },
    {
      "cell_type": "code",
      "metadata": {
        "colab": {
          "base_uri": "https://localhost:8080/"
        },
        "id": "LRILtRvpJrOM",
        "outputId": "9f246977-a621-4c4e-8bca-861068582aa0"
      },
      "source": [
        "from sklearn.model_selection import KFold\r\n",
        "import xgboost as xgb\r\n",
        "from sklearn.metrics import mean_squared_error\r\n",
        "X, y  = final_train.drop(['Field_ID'],axis=1), train['Yield']\r\n",
        "\r\n",
        "kf = KFold(n_splits =5,shuffle=True,random_state=160)\r\n",
        "feats = pd.DataFrame({'features': X.columns}) \r\n",
        "gbm_predictions = []\r\n",
        "cv_score_ = 0\r\n",
        "oof_preds = np.zeros((train.shape[0],))\r\n",
        "\r\n",
        "\r\n",
        "for i,(tr_index,test_index) in enumerate(kf.split(X,y)):\r\n",
        "  \r\n",
        "  print()\r\n",
        "  print(f'######### FOLD {i+1} / {kf.n_splits} ')\r\n",
        "  \r\n",
        "  X_train,y_train = X.iloc[tr_index,:],y[tr_index]\r\n",
        "  X_test,y_test = X.iloc[test_index,:],y[test_index]\r\n",
        "  \r\n",
        "  gbm = xgb.XGBRegressor(eval_metric = 'rmse',n_estimators = 2000,learning_rate = 0.01,seed=162,random_state = 162,colsample_bytree=0.65)\r\n",
        "\r\n",
        "  gbm.fit(X_train,y_train,eval_set = [(X_test, y_test)],early_stopping_rounds  = 200,verbose=100)\r\n",
        "  \r\n",
        "  cv_score_ += mean_squared_error(y_test, gbm.predict(X_test), squared=False) / kf.n_splits\r\n",
        "  oof_preds[test_index] = gbm.predict(X_test)\r\n",
        "  \r\n",
        "  preds = gbm.predict(final_test[X_train.columns])\r\n",
        "  gbm_predictions.append(preds)\r\n",
        "\r\n",
        "  feats[f'Fold {i}'] = gbm.feature_importances_\r\n",
        "\r\n",
        "feats['Importances'] = feats.mean(axis=1)\r\n",
        "print( ' CV RMSE : ',cv_score_)\r\n",
        "preds_xgb = np.average(gbm_predictions, axis=0)\r\n",
        "print(preds_xgb.shape)"
      ],
      "execution_count": 51,
      "outputs": [
        {
          "output_type": "stream",
          "text": [
            "\n",
            "######### FOLD 1 / 5 \n",
            "[20:09:41] WARNING: /workspace/src/objective/regression_obj.cu:152: reg:linear is now deprecated in favor of reg:squarederror.\n",
            "[0]\tvalidation_0-rmse:3.11249\n",
            "Will train until validation_0-rmse hasn't improved in 200 rounds.\n",
            "[100]\tvalidation_0-rmse:1.8568\n",
            "[200]\tvalidation_0-rmse:1.61496\n",
            "[300]\tvalidation_0-rmse:1.57916\n",
            "[400]\tvalidation_0-rmse:1.57878\n",
            "[500]\tvalidation_0-rmse:1.58041\n",
            "[600]\tvalidation_0-rmse:1.58221\n",
            "Stopping. Best iteration:\n",
            "[412]\tvalidation_0-rmse:1.57809\n",
            "\n",
            "\n",
            "######### FOLD 2 / 5 \n",
            "[20:09:50] WARNING: /workspace/src/objective/regression_obj.cu:152: reg:linear is now deprecated in favor of reg:squarederror.\n",
            "[0]\tvalidation_0-rmse:3.13388\n",
            "Will train until validation_0-rmse hasn't improved in 200 rounds.\n",
            "[100]\tvalidation_0-rmse:1.76433\n",
            "[200]\tvalidation_0-rmse:1.50226\n",
            "[300]\tvalidation_0-rmse:1.47273\n",
            "[400]\tvalidation_0-rmse:1.47247\n",
            "[500]\tvalidation_0-rmse:1.47675\n",
            "Stopping. Best iteration:\n",
            "[327]\tvalidation_0-rmse:1.47106\n",
            "\n",
            "\n",
            "######### FOLD 3 / 5 \n",
            "[20:09:57] WARNING: /workspace/src/objective/regression_obj.cu:152: reg:linear is now deprecated in favor of reg:squarederror.\n",
            "[0]\tvalidation_0-rmse:3.03774\n",
            "Will train until validation_0-rmse hasn't improved in 200 rounds.\n",
            "[100]\tvalidation_0-rmse:1.82429\n",
            "[200]\tvalidation_0-rmse:1.62974\n",
            "[300]\tvalidation_0-rmse:1.62025\n",
            "[400]\tvalidation_0-rmse:1.63003\n",
            "Stopping. Best iteration:\n",
            "[272]\tvalidation_0-rmse:1.61839\n",
            "\n",
            "\n",
            "######### FOLD 4 / 5 \n",
            "[20:10:04] WARNING: /workspace/src/objective/regression_obj.cu:152: reg:linear is now deprecated in favor of reg:squarederror.\n",
            "[0]\tvalidation_0-rmse:3.36488\n",
            "Will train until validation_0-rmse hasn't improved in 200 rounds.\n",
            "[100]\tvalidation_0-rmse:2.03389\n",
            "[200]\tvalidation_0-rmse:1.73611\n",
            "[300]\tvalidation_0-rmse:1.67461\n",
            "[400]\tvalidation_0-rmse:1.66167\n",
            "[500]\tvalidation_0-rmse:1.662\n",
            "[600]\tvalidation_0-rmse:1.66624\n",
            "Stopping. Best iteration:\n",
            "[433]\tvalidation_0-rmse:1.6602\n",
            "\n",
            "\n",
            "######### FOLD 5 / 5 \n",
            "[20:10:14] WARNING: /workspace/src/objective/regression_obj.cu:152: reg:linear is now deprecated in favor of reg:squarederror.\n",
            "[0]\tvalidation_0-rmse:3.31791\n",
            "Will train until validation_0-rmse hasn't improved in 200 rounds.\n",
            "[100]\tvalidation_0-rmse:1.99777\n",
            "[200]\tvalidation_0-rmse:1.70392\n",
            "[300]\tvalidation_0-rmse:1.65403\n",
            "[400]\tvalidation_0-rmse:1.64761\n",
            "[500]\tvalidation_0-rmse:1.64779\n",
            "[600]\tvalidation_0-rmse:1.65036\n",
            "Stopping. Best iteration:\n",
            "[405]\tvalidation_0-rmse:1.64698\n",
            "\n",
            " CV RMSE :  1.5949433861050992\n",
            "(1055,)\n"
          ],
          "name": "stdout"
        }
      ]
    },
    {
      "cell_type": "code",
      "metadata": {
        "colab": {
          "base_uri": "https://localhost:8080/",
          "height": 195
        },
        "id": "batBwlKoJrOM",
        "outputId": "6521c76b-cc38-4987-bea8-40f1b067598f"
      },
      "source": [
        "# Get model predictions\r\n",
        "ss['Yield'] = preds_xgb\r\n",
        "ss.to_csv('CGIAR_XGBOOST.csv', index=False)  \r\n",
        "ss.head()"
      ],
      "execution_count": 52,
      "outputs": [
        {
          "output_type": "execute_result",
          "data": {
            "text/html": [
              "<div>\n",
              "<style scoped>\n",
              "    .dataframe tbody tr th:only-of-type {\n",
              "        vertical-align: middle;\n",
              "    }\n",
              "\n",
              "    .dataframe tbody tr th {\n",
              "        vertical-align: top;\n",
              "    }\n",
              "\n",
              "    .dataframe thead th {\n",
              "        text-align: right;\n",
              "    }\n",
              "</style>\n",
              "<table border=\"1\" class=\"dataframe\">\n",
              "  <thead>\n",
              "    <tr style=\"text-align: right;\">\n",
              "      <th></th>\n",
              "      <th>Field_ID</th>\n",
              "      <th>Yield</th>\n",
              "    </tr>\n",
              "  </thead>\n",
              "  <tbody>\n",
              "    <tr>\n",
              "      <th>0</th>\n",
              "      <td>E9UZCEA</td>\n",
              "      <td>2.555167</td>\n",
              "    </tr>\n",
              "    <tr>\n",
              "      <th>1</th>\n",
              "      <td>1WGGS1Q</td>\n",
              "      <td>3.200317</td>\n",
              "    </tr>\n",
              "    <tr>\n",
              "      <th>2</th>\n",
              "      <td>EG2KXE2</td>\n",
              "      <td>2.989339</td>\n",
              "    </tr>\n",
              "    <tr>\n",
              "      <th>3</th>\n",
              "      <td>HC3GQXF</td>\n",
              "      <td>2.705096</td>\n",
              "    </tr>\n",
              "    <tr>\n",
              "      <th>4</th>\n",
              "      <td>7AK6GFK</td>\n",
              "      <td>2.881799</td>\n",
              "    </tr>\n",
              "  </tbody>\n",
              "</table>\n",
              "</div>"
            ],
            "text/plain": [
              "  Field_ID     Yield\n",
              "0  E9UZCEA  2.555167\n",
              "1  1WGGS1Q  3.200317\n",
              "2  EG2KXE2  2.989339\n",
              "3  HC3GQXF  2.705096\n",
              "4  7AK6GFK  2.881799"
            ]
          },
          "metadata": {
            "tags": []
          },
          "execution_count": 52
        }
      ]
    },
    {
      "cell_type": "markdown",
      "metadata": {
        "id": "oNOnsWI9JrON"
      },
      "source": [
        "### **Feature_selection**"
      ]
    },
    {
      "cell_type": "code",
      "metadata": {
        "colab": {
          "base_uri": "https://localhost:8080/",
          "height": 898
        },
        "id": "Q4rx0Hc3JrON",
        "outputId": "ad4619f2-4eb6-4aaf-c31c-dd20dc32f037"
      },
      "source": [
        "plt.figure(figsize=(16, 16))\r\n",
        "sns.barplot(data=feats.sort_values(by='Importances', ascending=False).head(70), x='Importances', y='features');\r\n",
        "plt.title('50 TOP feature importance');"
      ],
      "execution_count": 53,
      "outputs": [
        {
          "output_type": "display_data",
          "data": {
            "image/png": "[encoded data removed]",
            "text/plain": [
              "<Figure size 1152x1152 with 1 Axes>"
            ]
          },
          "metadata": {
            "tags": [],
            "needs_background": "light"
          }
        }
      ]
    }
  ]
}