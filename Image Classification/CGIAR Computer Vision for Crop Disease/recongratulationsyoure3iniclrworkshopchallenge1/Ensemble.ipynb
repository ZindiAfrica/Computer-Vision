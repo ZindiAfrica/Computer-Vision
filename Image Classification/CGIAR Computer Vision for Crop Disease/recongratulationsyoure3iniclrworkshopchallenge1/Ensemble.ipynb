{
  "nbformat": 4,
  "nbformat_minor": 0,
  "metadata": {
    "colab": {
      "name": "Untitled8_191.ipynb",
      "provenance": []
    },
    "kernelspec": {
      "name": "python3",
      "display_name": "Python 3"
    }
  },
  "cells": [
    {
      "cell_type": "code",
      "metadata": {
        "id": "QCK8_YZTX5Dm",
        "colab_type": "code",
        "colab": {}
      },
      "source": [
        "import os\n",
        "import numpy as np\n",
        "import pandas as pd"
      ],
      "execution_count": 0,
      "outputs": []
    },
    {
      "cell_type": "code",
      "metadata": {
        "id": "bQHPQEPdW9aC",
        "colab_type": "code",
        "colab": {}
      },
      "source": [
        "dl = []\n",
        "for filename in os.listdir(\"../content\"):\n",
        "    if filename.endswith(\"csv\"): \n",
        "        df = pd.read_csv (r\"../content/\" + filename) \n",
        "        dl.append(df)"
      ],
      "execution_count": 0,
      "outputs": []
    },
    {
      "cell_type": "code",
      "metadata": {
        "id": "Gm86w0J4e8iX",
        "colab_type": "code",
        "colab": {}
      },
      "source": [
        "r = pd.concat(dl).groupby(['ID']).mean()"
      ],
      "execution_count": 0,
      "outputs": []
    },
    {
      "cell_type": "code",
      "metadata": {
        "id": "LZTA5t4Nc6sY",
        "colab_type": "code",
        "colab": {}
      },
      "source": [
        "r.to_csv('submission_ensemble.csv', index=True)"
      ],
      "execution_count": 0,
      "outputs": []
    }
  ]
}