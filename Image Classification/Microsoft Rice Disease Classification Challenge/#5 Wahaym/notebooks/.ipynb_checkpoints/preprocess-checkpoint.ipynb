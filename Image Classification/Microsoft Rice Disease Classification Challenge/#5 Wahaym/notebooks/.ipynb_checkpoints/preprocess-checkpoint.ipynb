{
 "cells": [
  {
   "cell_type": "code",
   "execution_count": null,
   "id": "550076a3-2cc2-4dd7-b84e-7ac8dd618aa1",
   "metadata": {},
   "outputs": [],
   "source": [
    "\n",
    "\n",
    "# Libraries\n",
    "import os\n",
    "import sys\n",
    "import time\n",
    "import random\n",
    "from tqdm.notebook import tqdm\n",
    "import warnings\n",
    "import cv2\n",
    "import pandas as pd\n",
    "import numpy as np\n",
    "\n",
    "from IPython.display import display_html\n",
    "from PIL import Image\n"
   ]
  },
  {
   "cell_type": "code",
   "execution_count": null,
   "id": "07484eda-4350-463b-a48a-56c6f20ae17d",
   "metadata": {},
   "outputs": [],
   "source": [
    "train=pd.read_csv(\"../input/Train.csv\")\n",
    "test=pd.read_csv(\"../input/Test.csv\")\n"
   ]
  },
  {
   "cell_type": "code",
   "execution_count": null,
   "id": "34d09f92-0fca-4c1d-b445-d2e0fa1134a7",
   "metadata": {},
   "outputs": [],
   "source": [
    "train['path'] = train['Image_id'].map(lambda x:str(f'../input/Images/{x}'))\n",
    "test['path'] = test['Image_id'].map(lambda x:str(f'../input/Images/{x}'))"
   ]
  },
  {
   "cell_type": "code",
   "execution_count": null,
   "id": "e0d5db26-06da-4a66-bfeb-c20ff8866163",
   "metadata": {},
   "outputs": [],
   "source": [
    "train_rgb=train[train[\"Image_id\"].str[-7:-4]!=\"rgn\"]\n",
    "test_rgb=test[test[\"Image_id\"].str[-7:-4]!=\"rgn\"]"
   ]
  },
  {
   "cell_type": "code",
   "execution_count": null,
   "id": "aa429c89-c978-4fd8-9645-8921cb7d93d3",
   "metadata": {},
   "outputs": [],
   "source": [
    "duplicated=['id_1aczad1o67.jpg',\n",
    " 'id_1z9w9s4gut.jpg',\n",
    " 'id_5yg6t6le0p.jpg',\n",
    " 'id_6v14vafjk9.jpg',\n",
    " 'id_7aief6gqiu.jpg',\n",
    " 'id_7lcxpvsbao.jpg',\n",
    " 'id_94fon68m7f.jpg',\n",
    " 'id_cs8lt3m2d0.jpg',\n",
    " 'id_f6zkky8owc.jpg',\n",
    " 'id_ifw9lyq4ae.jpg',\n",
    " 'id_maxde0k0gu.jpg',\n",
    " 'id_mckthvulqn.jpg',\n",
    " 'id_n1s3llxvc6.jpg',\n",
    " 'id_o6l938cj8h.jpg',\n",
    " 'id_poq5ahn2ow.jpg',\n",
    " 'id_ps464gg2ua.jpg',\n",
    " 'id_r7jmdrew1f.jpg',\n",
    " 'id_sfnwxlkrbv.jpg',\n",
    " 'id_spt74lr3du.jpg',\n",
    " 'id_u0ke1sghec.jpg',\n",
    " 'id_uhl8t55vbf.jpg',\n",
    " 'id_uvhkdagdgh.jpg',\n",
    " 'id_xopwepvln7.jpg',\n",
    " 'id_zil68oveco.jpg',\n",
    " 'id_zj26sxb7iu.jpg']"
   ]
  },
  {
   "cell_type": "code",
   "execution_count": null,
   "id": "82b52f9e-3cb9-4ff7-ba2a-2ba05bf9a16a",
   "metadata": {},
   "outputs": [],
   "source": [
    "train_rgb_purged=train_rgb[~train_rgb[\"Image_id\"].isin(duplicated)].reset_index(drop=True)"
   ]
  },
  {
   "cell_type": "code",
   "execution_count": null,
   "id": "95291f30-e5db-4631-9d74-ff7564eaad4f",
   "metadata": {},
   "outputs": [],
   "source": [
    "train_rgb_purged[[\"Image_id\",\"Label\",\"path\"]].to_csv(\"../input/train_rgb_purged.csv\",index=False)"
   ]
  },
  {
   "cell_type": "code",
   "execution_count": null,
   "id": "11cd20cb-7495-4a7a-a449-8950cf724691",
   "metadata": {},
   "outputs": [],
   "source": []
  }
 ],
 "metadata": {
  "kernelspec": {
   "display_name": "Python 3 (ipykernel)",
   "language": "python",
   "name": "python3"
  },
  "language_info": {
   "codemirror_mode": {
    "name": "ipython",
    "version": 3
   },
   "file_extension": ".py",
   "mimetype": "text/x-python",
   "name": "python",
   "nbconvert_exporter": "python",
   "pygments_lexer": "ipython3",
   "version": "3.9.13"
  }
 },
 "nbformat": 4,
 "nbformat_minor": 5
}
