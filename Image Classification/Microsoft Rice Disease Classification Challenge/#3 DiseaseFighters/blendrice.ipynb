{
 "cells": [
  {
   "cell_type": "code",
   "execution_count": 1,
   "id": "ede655d8",
   "metadata": {
    "_cell_guid": "b1076dfc-b9ad-4769-8c92-a6c4dae69d19",
    "_uuid": "8f2839f25d086af736a60e9eeb907d3b93b6e0e5",
    "execution": {
     "iopub.execute_input": "2022-08-16T09:34:35.054004Z",
     "iopub.status.busy": "2022-08-16T09:34:35.052865Z",
     "iopub.status.idle": "2022-08-16T09:34:35.064954Z",
     "shell.execute_reply": "2022-08-16T09:34:35.063889Z"
    },
    "papermill": {
     "duration": 0.019259,
     "end_time": "2022-08-16T09:34:35.067404",
     "exception": false,
     "start_time": "2022-08-16T09:34:35.048145",
     "status": "completed"
    },
    "tags": []
   },
   "outputs": [],
   "source": [
    "import numpy as np \n",
    "import pandas as pd "
   ]
  },
  {
   "cell_type": "code",
   "execution_count": 2,
   "id": "94243a87",
   "metadata": {
    "execution": {
     "iopub.execute_input": "2022-08-16T09:34:35.073748Z",
     "iopub.status.busy": "2022-08-16T09:34:35.072998Z",
     "iopub.status.idle": "2022-08-16T09:34:35.109511Z",
     "shell.execute_reply": "2022-08-16T09:34:35.108437Z"
    },
    "papermill": {
     "duration": 0.043865,
     "end_time": "2022-08-16T09:34:35.113575",
     "exception": false,
     "start_time": "2022-08-16T09:34:35.069710",
     "status": "completed"
    },
    "tags": []
   },
   "outputs": [],
   "source": [
    "lbls = ['blast', 'brown', 'healthy']\n",
    "subs = pd.read_csv(f'../input/microsoft-rice-disease-classification-challenge/SampleSubmission.csv')"
   ]
  },
  {
   "cell_type": "code",
   "execution_count": 3,
   "id": "e6f87e6a",
   "metadata": {
    "execution": {
     "iopub.execute_input": "2022-08-16T09:34:35.122852Z",
     "iopub.status.busy": "2022-08-16T09:34:35.122261Z",
     "iopub.status.idle": "2022-08-16T09:34:35.151351Z",
     "shell.execute_reply": "2022-08-16T09:34:35.150093Z"
    },
    "papermill": {
     "duration": 0.036697,
     "end_time": "2022-08-16T09:34:35.153966",
     "exception": false,
     "start_time": "2022-08-16T09:34:35.117269",
     "status": "completed"
    },
    "tags": []
   },
   "outputs": [],
   "source": [
    "# Tset predictions\n",
    "subs_1 = pd.read_csv('../input/notebook1/subs.csv')\n",
    "subs_2 = pd.read_csv('../input/notebook2/subs.csv')\n"
   ]
  },
  {
   "cell_type": "code",
   "execution_count": 4,
   "id": "3f365924",
   "metadata": {
    "execution": {
     "iopub.execute_input": "2022-08-16T09:34:35.160528Z",
     "iopub.status.busy": "2022-08-16T09:34:35.160094Z",
     "iopub.status.idle": "2022-08-16T09:34:35.192892Z",
     "shell.execute_reply": "2022-08-16T09:34:35.191772Z"
    },
    "papermill": {
     "duration": 0.039309,
     "end_time": "2022-08-16T09:34:35.195570",
     "exception": false,
     "start_time": "2022-08-16T09:34:35.156261",
     "status": "completed"
    },
    "tags": []
   },
   "outputs": [],
   "source": [
    "subs[lbls] = 0.50*subs_1[lbls] + 0.50*subs_2[lbls]\n",
    "subs.to_csv('./final_submission.csv', index=False)"
   ]
  }
 ],
 "metadata": {
  "kernelspec": {
   "display_name": "Python 3",
   "language": "python",
   "name": "python3"
  },
  "language_info": {
   "codemirror_mode": {
    "name": "ipython",
    "version": 3
   },
   "file_extension": ".py",
   "mimetype": "text/x-python",
   "name": "python",
   "nbconvert_exporter": "python",
   "pygments_lexer": "ipython3",
   "version": "3.7.12"
  },
  "papermill": {
   "default_parameters": {},
   "duration": 10.381552,
   "end_time": "2022-08-16T09:34:35.922205",
   "environment_variables": {},
   "exception": null,
   "input_path": "__notebook__.ipynb",
   "output_path": "__notebook__.ipynb",
   "parameters": {},
   "start_time": "2022-08-16T09:34:25.540653",
   "version": "2.3.4"
  }
 },
 "nbformat": 4,
 "nbformat_minor": 5
}
