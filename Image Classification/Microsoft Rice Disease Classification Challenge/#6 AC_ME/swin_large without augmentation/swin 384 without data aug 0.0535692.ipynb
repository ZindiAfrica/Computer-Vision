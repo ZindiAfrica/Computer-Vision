{
 "cells": [
  {
   "cell_type": "code",
   "execution_count": 1,
   "id": "7e5d34de",
   "metadata": {
    "_cell_guid": "b1076dfc-b9ad-4769-8c92-a6c4dae69d19",
    "_uuid": "8f2839f25d086af736a60e9eeb907d3b93b6e0e5",
    "execution": {
     "iopub.execute_input": "2022-06-11T22:53:31.437052Z",
     "iopub.status.busy": "2022-06-11T22:53:31.436161Z",
     "iopub.status.idle": "2022-06-11T22:53:31.446706Z",
     "shell.execute_reply": "2022-06-11T22:53:31.446075Z"
    },
    "papermill": {
     "duration": 0.036496,
     "end_time": "2022-06-11T22:53:31.448649",
     "exception": false,
     "start_time": "2022-06-11T22:53:31.412153",
     "status": "completed"
    },
    "tags": []
   },
   "outputs": [],
   "source": [
    "import pandas as pd"
   ]
  },
  {
   "cell_type": "code",
   "execution_count": 2,
   "id": "b858172d",
   "metadata": {
    "execution": {
     "iopub.execute_input": "2022-06-11T22:53:31.493145Z",
     "iopub.status.busy": "2022-06-11T22:53:31.492914Z",
     "iopub.status.idle": "2022-06-11T22:53:46.337285Z",
     "shell.execute_reply": "2022-06-11T22:53:46.336380Z"
    },
    "papermill": {
     "duration": 14.869925,
     "end_time": "2022-06-11T22:53:46.339988",
     "exception": false,
     "start_time": "2022-06-11T22:53:31.470063",
     "status": "completed"
    },
    "tags": []
   },
   "outputs": [
    {
     "name": "stdout",
     "output_type": "stream",
     "text": [
      "Collecting efficientnet-pytorch\r\n",
      "  Downloading efficientnet_pytorch-0.7.1.tar.gz (21 kB)\r\n",
      "  Preparing metadata (setup.py) ... \u001B[?25l-\b \bdone\r\n",
      "\u001B[?25hRequirement already satisfied: torch in /opt/conda/lib/python3.7/site-packages (from efficientnet-pytorch) (1.11.0)\r\n",
      "Requirement already satisfied: typing-extensions in /opt/conda/lib/python3.7/site-packages (from torch->efficientnet-pytorch) (4.2.0)\r\n",
      "Building wheels for collected packages: efficientnet-pytorch\r\n",
      "  Building wheel for efficientnet-pytorch (setup.py) ... \u001B[?25l-\b \b\\\b \bdone\r\n",
      "\u001B[?25h  Created wheel for efficientnet-pytorch: filename=efficientnet_pytorch-0.7.1-py3-none-any.whl size=16446 sha256=47a4e7364f0f270ce5fdbdd4b01cb76e78226f39129901d6288f02afadc2486c\r\n",
      "  Stored in directory: /root/.cache/pip/wheels/0e/cc/b2/49e74588263573ff778da58cc99b9c6349b496636a7e165be6\r\n",
      "Successfully built efficientnet-pytorch\r\n",
      "Installing collected packages: efficientnet-pytorch\r\n",
      "Successfully installed efficientnet-pytorch-0.7.1\r\n",
      "\u001B[33mWARNING: Running pip as the 'root' user can result in broken permissions and conflicting behaviour with the system package manager. It is recommended to use a virtual environment instead: https://pip.pypa.io/warnings/venv\u001B[0m\u001B[33m\r\n",
      "\u001B[0m"
     ]
    }
   ],
   "source": [
    "!pip install efficientnet-pytorch\n",
    "from efficientnet_pytorch import EfficientNet "
   ]
  },
  {
   "cell_type": "code",
   "execution_count": 3,
   "id": "c7ca326b",
   "metadata": {
    "execution": {
     "iopub.execute_input": "2022-06-11T22:53:46.392882Z",
     "iopub.status.busy": "2022-06-11T22:53:46.392166Z",
     "iopub.status.idle": "2022-06-11T22:54:15.458736Z",
     "shell.execute_reply": "2022-06-11T22:54:15.457916Z"
    },
    "papermill": {
     "duration": 29.094256,
     "end_time": "2022-06-11T22:54:15.460629",
     "exception": false,
     "start_time": "2022-06-11T22:53:46.366373",
     "status": "completed"
    },
    "tags": []
   },
   "outputs": [
    {
     "name": "stdout",
     "output_type": "stream",
     "text": [
      "\u001B[31mERROR: pip's dependency resolver does not currently take into account all the packages that are installed. This behaviour is the source of the following dependency conflicts.\r\n",
      "tensorflow-io 0.21.0 requires tensorflow-io-gcs-filesystem==0.21.0, which is not installed.\r\n",
      "tensorflow 2.6.3 requires absl-py~=0.10, but you have absl-py 1.0.0 which is incompatible.\r\n",
      "tensorflow 2.6.3 requires numpy~=1.19.2, but you have numpy 1.21.6 which is incompatible.\r\n",
      "tensorflow 2.6.3 requires six~=1.15.0, but you have six 1.16.0 which is incompatible.\r\n",
      "tensorflow 2.6.3 requires wrapt~=1.12.1, but you have wrapt 1.14.0 which is incompatible.\r\n",
      "tensorflow-transform 1.7.0 requires pyarrow<6,>=1, but you have pyarrow 7.0.0 which is incompatible.\r\n",
      "tensorflow-transform 1.7.0 requires tensorflow!=2.0.*,!=2.1.*,!=2.2.*,!=2.3.*,!=2.4.*,!=2.5.*,!=2.6.*,!=2.7.*,<2.9,>=1.15.5, but you have tensorflow 2.6.3 which is incompatible.\r\n",
      "tensorflow-serving-api 2.8.0 requires tensorflow<3,>=2.8.0, but you have tensorflow 2.6.3 which is incompatible.\r\n",
      "rich 12.4.1 requires typing-extensions<5.0,>=4.0.0; python_version < \"3.9\", but you have typing-extensions 3.10.0.2 which is incompatible.\r\n",
      "pytorch-lightning 1.6.3 requires typing-extensions>=4.0.0, but you have typing-extensions 3.10.0.2 which is incompatible.\r\n",
      "pytools 2022.1.7 requires typing-extensions>=4.0; python_version < \"3.11\", but you have typing-extensions 3.10.0.2 which is incompatible.\r\n",
      "flax 0.4.2 requires typing-extensions>=4.1.1, but you have typing-extensions 3.10.0.2 which is incompatible.\r\n",
      "flake8 4.0.1 requires importlib-metadata<4.3; python_version < \"3.8\", but you have importlib-metadata 4.11.3 which is incompatible.\r\n",
      "apache-beam 2.37.0 requires dill<0.3.2,>=0.3.1.1, but you have dill 0.3.4 which is incompatible.\r\n",
      "apache-beam 2.37.0 requires httplib2<0.20.0,>=0.8, but you have httplib2 0.20.4 which is incompatible.\r\n",
      "apache-beam 2.37.0 requires pyarrow<7.0.0,>=0.15.1, but you have pyarrow 7.0.0 which is incompatible.\r\n",
      "aioitertools 0.10.0 requires typing_extensions>=4.0; python_version < \"3.10\", but you have typing-extensions 3.10.0.2 which is incompatible.\r\n",
      "aiobotocore 2.2.0 requires botocore<1.24.22,>=1.24.21, but you have botocore 1.25.12 which is incompatible.\u001B[0m\u001B[31m\r\n",
      "\u001B[0m\u001B[33mWARNING: Running pip as the 'root' user can result in broken permissions and conflicting behaviour with the system package manager. It is recommended to use a virtual environment instead: https://pip.pypa.io/warnings/venv\u001B[0m\u001B[33m\r\n",
      "\u001B[0mRequirement already satisfied: torch in /opt/conda/lib/python3.7/site-packages (1.11.0)\r\n",
      "Requirement already satisfied: typing-extensions in /opt/conda/lib/python3.7/site-packages (from torch) (3.10.0.2)\r\n",
      "\u001B[33mWARNING: Running pip as the 'root' user can result in broken permissions and conflicting behaviour with the system package manager. It is recommended to use a virtual environment instead: https://pip.pypa.io/warnings/venv\u001B[0m\u001B[33m\r\n",
      "\u001B[0m"
     ]
    }
   ],
   "source": [
    "!pip install -q --upgrade fastcore fastai\n",
    "!pip install --upgrade torch"
   ]
  },
  {
   "cell_type": "code",
   "execution_count": 4,
   "id": "6fa67db8",
   "metadata": {
    "execution": {
     "iopub.execute_input": "2022-06-11T22:54:15.513912Z",
     "iopub.status.busy": "2022-06-11T22:54:15.513675Z",
     "iopub.status.idle": "2022-06-11T22:54:15.520735Z",
     "shell.execute_reply": "2022-06-11T22:54:15.520024Z"
    },
    "papermill": {
     "duration": 0.035736,
     "end_time": "2022-06-11T22:54:15.522548",
     "exception": false,
     "start_time": "2022-06-11T22:54:15.486812",
     "status": "completed"
    },
    "tags": []
   },
   "outputs": [],
   "source": [
    "import random \n",
    "import numpy as np\n",
    "import torch\n",
    "    \n",
    "def random_seed(dls,seed_value):\n",
    "    random.seed(seed_value)\n",
    "    os.environ['PYTHONHASHSEED'] = str(seed_value)\n",
    "    np.random.seed(seed_value)\n",
    "    torch.manual_seed(seed_value)\n",
    "    torch.cuda.manual_seed(seed_value)\n",
    "    torch.cuda.manual_seed_all(seed_value) # if you are using multi-GPU.\n",
    "    torch.backends.cudnn.benchmark = False\n",
    "    torch.backends.cudnn.deterministic = True\n",
    "    dls.rng.seed(seed_value)\n",
    "    if torch.cuda.is_available(): \n",
    "        torch.cuda.manual_seed(seed_value)\n",
    "        torch.cuda.manual_seed_all(seed_value) # gpu vars\n",
    "        torch.backends.cudnn.deterministic = True  #needed\n",
    "        torch.backends.cudnn.benchmark = False"
   ]
  },
  {
   "cell_type": "code",
   "execution_count": 5,
   "id": "4ced2b8a",
   "metadata": {
    "execution": {
     "iopub.execute_input": "2022-06-11T22:54:15.578323Z",
     "iopub.status.busy": "2022-06-11T22:54:15.578101Z",
     "iopub.status.idle": "2022-06-11T22:54:17.039733Z",
     "shell.execute_reply": "2022-06-11T22:54:17.038959Z"
    },
    "papermill": {
     "duration": 1.49275,
     "end_time": "2022-06-11T22:54:17.042477",
     "exception": false,
     "start_time": "2022-06-11T22:54:15.549727",
     "status": "completed"
    },
    "tags": []
   },
   "outputs": [],
   "source": [
    "from fastai.vision.all import *\n",
    "pd.options.mode.chained_assignment = None\n",
    "train = pd.read_csv('../input/csv-files-for-microsoft-rice-disease/Train.csv')\n",
    "test = pd.read_csv('../input/csv-files-for-microsoft-rice-disease/Test.csv')\n",
    "submission = pd.read_csv(\"../input/csv-files-for-microsoft-rice-disease/SampleSubmission.csv\")"
   ]
  },
  {
   "cell_type": "code",
   "execution_count": 6,
   "id": "530986b3",
   "metadata": {
    "execution": {
     "iopub.execute_input": "2022-06-11T22:54:17.097680Z",
     "iopub.status.busy": "2022-06-11T22:54:17.097413Z",
     "iopub.status.idle": "2022-06-11T22:54:17.115960Z",
     "shell.execute_reply": "2022-06-11T22:54:17.115153Z"
    },
    "papermill": {
     "duration": 0.048435,
     "end_time": "2022-06-11T22:54:17.118371",
     "exception": false,
     "start_time": "2022-06-11T22:54:17.069936",
     "status": "completed"
    },
    "tags": []
   },
   "outputs": [
    {
     "data": {
      "text/html": [
       "<div>\n",
       "<style scoped>\n",
       "    .dataframe tbody tr th:only-of-type {\n",
       "        vertical-align: middle;\n",
       "    }\n",
       "\n",
       "    .dataframe tbody tr th {\n",
       "        vertical-align: top;\n",
       "    }\n",
       "\n",
       "    .dataframe thead th {\n",
       "        text-align: right;\n",
       "    }\n",
       "</style>\n",
       "<table border=\"1\" class=\"dataframe\">\n",
       "  <thead>\n",
       "    <tr style=\"text-align: right;\">\n",
       "      <th></th>\n",
       "      <th>Image_id</th>\n",
       "      <th>Label</th>\n",
       "    </tr>\n",
       "  </thead>\n",
       "  <tbody>\n",
       "    <tr>\n",
       "      <th>0</th>\n",
       "      <td>id_004wknd7qd.jpg</td>\n",
       "      <td>blast</td>\n",
       "    </tr>\n",
       "    <tr>\n",
       "      <th>1</th>\n",
       "      <td>id_004wknd7qd_rgn.jpg</td>\n",
       "      <td>blast</td>\n",
       "    </tr>\n",
       "    <tr>\n",
       "      <th>2</th>\n",
       "      <td>id_005sitfgr2.jpg</td>\n",
       "      <td>brown</td>\n",
       "    </tr>\n",
       "    <tr>\n",
       "      <th>3</th>\n",
       "      <td>id_005sitfgr2_rgn.jpg</td>\n",
       "      <td>brown</td>\n",
       "    </tr>\n",
       "    <tr>\n",
       "      <th>4</th>\n",
       "      <td>id_00stp9t6m6.jpg</td>\n",
       "      <td>blast</td>\n",
       "    </tr>\n",
       "    <tr>\n",
       "      <th>...</th>\n",
       "      <td>...</td>\n",
       "      <td>...</td>\n",
       "    </tr>\n",
       "    <tr>\n",
       "      <th>5335</th>\n",
       "      <td>id_zz6gzk7p97_rgn.jpg</td>\n",
       "      <td>brown</td>\n",
       "    </tr>\n",
       "    <tr>\n",
       "      <th>5336</th>\n",
       "      <td>id_zz8ca2p67e.jpg</td>\n",
       "      <td>blast</td>\n",
       "    </tr>\n",
       "    <tr>\n",
       "      <th>5337</th>\n",
       "      <td>id_zz8ca2p67e_rgn.jpg</td>\n",
       "      <td>blast</td>\n",
       "    </tr>\n",
       "    <tr>\n",
       "      <th>5338</th>\n",
       "      <td>id_zzt8y9q0x0.jpg</td>\n",
       "      <td>brown</td>\n",
       "    </tr>\n",
       "    <tr>\n",
       "      <th>5339</th>\n",
       "      <td>id_zzt8y9q0x0_rgn.jpg</td>\n",
       "      <td>brown</td>\n",
       "    </tr>\n",
       "  </tbody>\n",
       "</table>\n",
       "<p>5340 rows × 2 columns</p>\n",
       "</div>"
      ],
      "text/plain": [
       "                   Image_id  Label\n",
       "0         id_004wknd7qd.jpg  blast\n",
       "1     id_004wknd7qd_rgn.jpg  blast\n",
       "2         id_005sitfgr2.jpg  brown\n",
       "3     id_005sitfgr2_rgn.jpg  brown\n",
       "4         id_00stp9t6m6.jpg  blast\n",
       "...                     ...    ...\n",
       "5335  id_zz6gzk7p97_rgn.jpg  brown\n",
       "5336      id_zz8ca2p67e.jpg  blast\n",
       "5337  id_zz8ca2p67e_rgn.jpg  blast\n",
       "5338      id_zzt8y9q0x0.jpg  brown\n",
       "5339  id_zzt8y9q0x0_rgn.jpg  brown\n",
       "\n",
       "[5340 rows x 2 columns]"
      ]
     },
     "execution_count": 6,
     "metadata": {},
     "output_type": "execute_result"
    }
   ],
   "source": [
    "train"
   ]
  },
  {
   "cell_type": "code",
   "execution_count": 7,
   "id": "991e581a",
   "metadata": {
    "execution": {
     "iopub.execute_input": "2022-06-11T22:54:17.173497Z",
     "iopub.status.busy": "2022-06-11T22:54:17.173008Z",
     "iopub.status.idle": "2022-06-11T22:54:17.184253Z",
     "shell.execute_reply": "2022-06-11T22:54:17.183441Z"
    },
    "papermill": {
     "duration": 0.042163,
     "end_time": "2022-06-11T22:54:17.187045",
     "exception": false,
     "start_time": "2022-06-11T22:54:17.144882",
     "status": "completed"
    },
    "tags": []
   },
   "outputs": [
    {
     "data": {
      "text/plain": [
       "array(['blast', 'brown', 'healthy'], dtype=object)"
      ]
     },
     "execution_count": 7,
     "metadata": {},
     "output_type": "execute_result"
    }
   ],
   "source": [
    "unique_label = train['Label'].unique()\n",
    "unique_label"
   ]
  },
  {
   "cell_type": "code",
   "execution_count": 8,
   "id": "3178d5d0",
   "metadata": {
    "execution": {
     "iopub.execute_input": "2022-06-11T22:54:17.243996Z",
     "iopub.status.busy": "2022-06-11T22:54:17.243743Z",
     "iopub.status.idle": "2022-06-11T22:54:17.254760Z",
     "shell.execute_reply": "2022-06-11T22:54:17.253976Z"
    },
    "papermill": {
     "duration": 0.041329,
     "end_time": "2022-06-11T22:54:17.256553",
     "exception": false,
     "start_time": "2022-06-11T22:54:17.215224",
     "status": "completed"
    },
    "tags": []
   },
   "outputs": [
    {
     "data": {
      "text/plain": [
       "blast      2988\n",
       "brown      1532\n",
       "healthy     820\n",
       "Name: Label, dtype: int64"
      ]
     },
     "execution_count": 8,
     "metadata": {},
     "output_type": "execute_result"
    }
   ],
   "source": [
    "train['Label'].value_counts()"
   ]
  },
  {
   "cell_type": "code",
   "execution_count": 9,
   "id": "d63b5817",
   "metadata": {
    "execution": {
     "iopub.execute_input": "2022-06-11T22:54:17.313539Z",
     "iopub.status.busy": "2022-06-11T22:54:17.313291Z",
     "iopub.status.idle": "2022-06-11T22:54:17.327029Z",
     "shell.execute_reply": "2022-06-11T22:54:17.326373Z"
    },
    "papermill": {
     "duration": 0.04533,
     "end_time": "2022-06-11T22:54:17.328963",
     "exception": false,
     "start_time": "2022-06-11T22:54:17.283633",
     "status": "completed"
    },
    "tags": []
   },
   "outputs": [],
   "source": [
    "train = train[~train.Image_id.str.contains('_rgn')]\n",
    "train.reset_index(inplace=True,drop=True)\n",
    "test = test[~test.Image_id.str.contains('_rgn')]\n",
    "test.reset_index(inplace=True,drop=True)"
   ]
  },
  {
   "cell_type": "code",
   "execution_count": 10,
   "id": "4b383629",
   "metadata": {
    "execution": {
     "iopub.execute_input": "2022-06-11T22:54:17.384265Z",
     "iopub.status.busy": "2022-06-11T22:54:17.384024Z",
     "iopub.status.idle": "2022-06-11T22:54:17.389382Z",
     "shell.execute_reply": "2022-06-11T22:54:17.388621Z"
    },
    "papermill": {
     "duration": 0.034745,
     "end_time": "2022-06-11T22:54:17.390977",
     "exception": false,
     "start_time": "2022-06-11T22:54:17.356232",
     "status": "completed"
    },
    "tags": []
   },
   "outputs": [],
   "source": [
    "from sklearn import preprocessing\n",
    "le = preprocessing.LabelEncoder()\n",
    "train['Label']=le.fit_transform(train['Label'])"
   ]
  },
  {
   "cell_type": "code",
   "execution_count": 11,
   "id": "cc04f39e",
   "metadata": {
    "execution": {
     "iopub.execute_input": "2022-06-11T22:54:17.446623Z",
     "iopub.status.busy": "2022-06-11T22:54:17.446413Z",
     "iopub.status.idle": "2022-06-11T22:54:17.471360Z",
     "shell.execute_reply": "2022-06-11T22:54:17.470737Z"
    },
    "papermill": {
     "duration": 0.054846,
     "end_time": "2022-06-11T22:54:17.473052",
     "exception": false,
     "start_time": "2022-06-11T22:54:17.418206",
     "status": "completed"
    },
    "tags": []
   },
   "outputs": [
    {
     "data": {
      "text/plain": [
       "(1500, 2000)"
      ]
     },
     "execution_count": 11,
     "metadata": {},
     "output_type": "execute_result"
    }
   ],
   "source": [
    "img=Image.open('../input/microsoft-rice-disease-classification-challenge/id_004wknd7qd_rgn.jpg') # View one image and check the files are present\n",
    "img.shape"
   ]
  },
  {
   "cell_type": "code",
   "execution_count": 12,
   "id": "2f2264d8",
   "metadata": {
    "execution": {
     "iopub.execute_input": "2022-06-11T22:54:17.531160Z",
     "iopub.status.busy": "2022-06-11T22:54:17.530923Z",
     "iopub.status.idle": "2022-06-11T22:54:17.654756Z",
     "shell.execute_reply": "2022-06-11T22:54:17.654018Z"
    },
    "papermill": {
     "duration": 0.155415,
     "end_time": "2022-06-11T22:54:17.656566",
     "exception": false,
     "start_time": "2022-06-11T22:54:17.501151",
     "status": "completed"
    },
    "tags": []
   },
   "outputs": [
    {
     "data": {
      "text/plain": [
       "133"
      ]
     },
     "execution_count": 12,
     "metadata": {},
     "output_type": "execute_result"
    }
   ],
   "source": [
    "import torch\n",
    "torch.cuda.empty_cache()\n",
    "torch.cuda.memory_allocated()\n",
    "import gc; gc.collect()"
   ]
  },
  {
   "cell_type": "code",
   "execution_count": 13,
   "id": "d0fa54b9",
   "metadata": {
    "execution": {
     "iopub.execute_input": "2022-06-11T22:54:17.718571Z",
     "iopub.status.busy": "2022-06-11T22:54:17.718302Z",
     "iopub.status.idle": "2022-06-11T22:54:18.431013Z",
     "shell.execute_reply": "2022-06-11T22:54:18.430156Z"
    },
    "papermill": {
     "duration": 0.748096,
     "end_time": "2022-06-11T22:54:18.433203",
     "exception": false,
     "start_time": "2022-06-11T22:54:17.685107",
     "status": "completed"
    },
    "tags": []
   },
   "outputs": [
    {
     "name": "stdout",
     "output_type": "stream",
     "text": [
      "Sat Jun 11 22:54:18 2022       \r\n",
      "+-----------------------------------------------------------------------------+\r\n",
      "| NVIDIA-SMI 470.82.01    Driver Version: 470.82.01    CUDA Version: 11.4     |\r\n",
      "|-------------------------------+----------------------+----------------------+\r\n",
      "| GPU  Name        Persistence-M| Bus-Id        Disp.A | Volatile Uncorr. ECC |\r\n",
      "| Fan  Temp  Perf  Pwr:Usage/Cap|         Memory-Usage | GPU-Util  Compute M. |\r\n",
      "|                               |                      |               MIG M. |\r\n",
      "|===============================+======================+======================|\r\n",
      "|   0  Tesla P100-PCIE...  Off  | 00000000:00:04.0 Off |                    0 |\r\n",
      "| N/A   35C    P0    27W / 250W |      2MiB / 16280MiB |      0%      Default |\r\n",
      "|                               |                      |                  N/A |\r\n",
      "+-------------------------------+----------------------+----------------------+\r\n",
      "                                                                               \r\n",
      "+-----------------------------------------------------------------------------+\r\n",
      "| Processes:                                                                  |\r\n",
      "|  GPU   GI   CI        PID   Type   Process name                  GPU Memory |\r\n",
      "|        ID   ID                                                   Usage      |\r\n",
      "|=============================================================================|\r\n",
      "|  No running processes found                                                 |\r\n",
      "+-----------------------------------------------------------------------------+\r\n"
     ]
    }
   ],
   "source": [
    "!nvidia-smi"
   ]
  },
  {
   "cell_type": "code",
   "execution_count": 14,
   "id": "0910f9ff",
   "metadata": {
    "execution": {
     "iopub.execute_input": "2022-06-11T22:54:18.491523Z",
     "iopub.status.busy": "2022-06-11T22:54:18.490778Z",
     "iopub.status.idle": "2022-06-11T22:54:32.639906Z",
     "shell.execute_reply": "2022-06-11T22:54:32.639042Z"
    },
    "papermill": {
     "duration": 14.180581,
     "end_time": "2022-06-11T22:54:32.642033",
     "exception": false,
     "start_time": "2022-06-11T22:54:18.461452",
     "status": "completed"
    },
    "tags": []
   },
   "outputs": [
    {
     "name": "stdout",
     "output_type": "stream",
     "text": [
      "Collecting timm\r\n",
      "  Downloading timm-0.5.4-py3-none-any.whl (431 kB)\r\n",
      "\u001B[2K     \u001B[90m━━━━━━━━━━━━━━━━━━━━━━━━━━━━━━━━━━━━━━━\u001B[0m \u001B[32m431.5/431.5 KB\u001B[0m \u001B[31m7.2 MB/s\u001B[0m eta \u001B[36m0:00:00\u001B[0m\r\n",
      "\u001B[?25hRequirement already satisfied: torchvision in /opt/conda/lib/python3.7/site-packages (from timm) (0.12.0)\r\n",
      "Requirement already satisfied: torch>=1.4 in /opt/conda/lib/python3.7/site-packages (from timm) (1.11.0)\r\n",
      "Requirement already satisfied: typing-extensions in /opt/conda/lib/python3.7/site-packages (from torch>=1.4->timm) (3.10.0.2)\r\n",
      "Requirement already satisfied: numpy in /opt/conda/lib/python3.7/site-packages (from torchvision->timm) (1.21.6)\r\n",
      "Requirement already satisfied: pillow!=8.3.*,>=5.3.0 in /opt/conda/lib/python3.7/site-packages (from torchvision->timm) (9.0.1)\r\n",
      "Requirement already satisfied: requests in /opt/conda/lib/python3.7/site-packages (from torchvision->timm) (2.27.1)\r\n",
      "Requirement already satisfied: certifi>=2017.4.17 in /opt/conda/lib/python3.7/site-packages (from requests->torchvision->timm) (2021.10.8)\r\n",
      "Requirement already satisfied: idna<4,>=2.5 in /opt/conda/lib/python3.7/site-packages (from requests->torchvision->timm) (3.3)\r\n",
      "Requirement already satisfied: urllib3<1.27,>=1.21.1 in /opt/conda/lib/python3.7/site-packages (from requests->torchvision->timm) (1.26.8)\r\n",
      "Requirement already satisfied: charset-normalizer~=2.0.0 in /opt/conda/lib/python3.7/site-packages (from requests->torchvision->timm) (2.0.12)\r\n",
      "Installing collected packages: timm\r\n",
      "Successfully installed timm-0.5.4\r\n",
      "\u001B[33mWARNING: Running pip as the 'root' user can result in broken permissions and conflicting behaviour with the system package manager. It is recommended to use a virtual environment instead: https://pip.pypa.io/warnings/venv\u001B[0m\u001B[33m\r\n",
      "\u001B[0m"
     ]
    }
   ],
   "source": [
    "!pip install timm\n",
    "from timm import create_model"
   ]
  },
  {
   "cell_type": "code",
   "execution_count": 15,
   "id": "8839c6d3",
   "metadata": {
    "execution": {
     "iopub.execute_input": "2022-06-11T22:54:32.703966Z",
     "iopub.status.busy": "2022-06-11T22:54:32.703708Z",
     "iopub.status.idle": "2022-06-12T08:49:33.092659Z",
     "shell.execute_reply": "2022-06-12T08:49:33.091958Z"
    },
    "papermill": {
     "duration": 35700.422177,
     "end_time": "2022-06-12T08:49:33.094528",
     "exception": false,
     "start_time": "2022-06-11T22:54:32.672351",
     "status": "completed"
    },
    "scrolled": true,
    "tags": []
   },
   "outputs": [
    {
     "name": "stderr",
     "output_type": "stream",
     "text": [
      "/opt/conda/lib/python3.7/site-packages/torch/functional.py:568: UserWarning: torch.meshgrid: in an upcoming release, it will be required to pass the indexing argument. (Triggered internally at  /usr/local/src/pytorch/aten/src/ATen/native/TensorShape.cpp:2227.)\n",
      "  return _VF.meshgrid(tensors, **kwargs)  # type: ignore[attr-defined]\n",
      "Downloading: \"https://github.com/SwinTransformer/storage/releases/download/v1.0.0/swin_large_patch4_window12_384_22kto1k.pth\" to /root/.cache/torch/hub/checkpoints/swin_large_patch4_window12_384_22kto1k.pth\n"
     ]
    },
    {
     "data": {
      "text/html": [
       "\n",
       "<style>\n",
       "    /* Turns off some styling */\n",
       "    progress {\n",
       "        /* gets rid of default border in Firefox and Opera. */\n",
       "        border: none;\n",
       "        /* Needs to be in here for Safari polyfill so background images work as expected. */\n",
       "        background-size: auto;\n",
       "    }\n",
       "    .progress-bar-interrupted, .progress-bar-interrupted::-webkit-progress-bar {\n",
       "        background: #F44336;\n",
       "    }\n",
       "</style>\n"
      ],
      "text/plain": [
       "<IPython.core.display.HTML object>"
      ]
     },
     "metadata": {},
     "output_type": "display_data"
    },
    {
     "data": {
      "text/html": [],
      "text/plain": [
       "<IPython.core.display.HTML object>"
      ]
     },
     "metadata": {},
     "output_type": "display_data"
    },
    {
     "data": {
      "text/html": [
       "\n",
       "<style>\n",
       "    /* Turns off some styling */\n",
       "    progress {\n",
       "        /* gets rid of default border in Firefox and Opera. */\n",
       "        border: none;\n",
       "        /* Needs to be in here for Safari polyfill so background images work as expected. */\n",
       "        background-size: auto;\n",
       "    }\n",
       "    .progress-bar-interrupted, .progress-bar-interrupted::-webkit-progress-bar {\n",
       "        background: #F44336;\n",
       "    }\n",
       "</style>\n"
      ],
      "text/plain": [
       "<IPython.core.display.HTML object>"
      ]
     },
     "metadata": {},
     "output_type": "display_data"
    },
    {
     "data": {
      "text/html": [
       "<table border=\"1\" class=\"dataframe\">\n",
       "  <thead>\n",
       "    <tr style=\"text-align: left;\">\n",
       "      <th>epoch</th>\n",
       "      <th>train_loss</th>\n",
       "      <th>valid_loss</th>\n",
       "      <th>error_rate</th>\n",
       "      <th>accuracy</th>\n",
       "      <th>time</th>\n",
       "    </tr>\n",
       "  </thead>\n",
       "  <tbody>\n",
       "    <tr>\n",
       "      <td>0</td>\n",
       "      <td>0.386038</td>\n",
       "      <td>0.239365</td>\n",
       "      <td>0.076779</td>\n",
       "      <td>0.923221</td>\n",
       "      <td>05:14</td>\n",
       "    </tr>\n",
       "  </tbody>\n",
       "</table>"
      ],
      "text/plain": [
       "<IPython.core.display.HTML object>"
      ]
     },
     "metadata": {},
     "output_type": "display_data"
    },
    {
     "name": "stdout",
     "output_type": "stream",
     "text": [
      "Better model found at epoch 0 with valid_loss value: 0.23936507105827332.\n"
     ]
    },
    {
     "data": {
      "text/html": [
       "\n",
       "<style>\n",
       "    /* Turns off some styling */\n",
       "    progress {\n",
       "        /* gets rid of default border in Firefox and Opera. */\n",
       "        border: none;\n",
       "        /* Needs to be in here for Safari polyfill so background images work as expected. */\n",
       "        background-size: auto;\n",
       "    }\n",
       "    .progress-bar-interrupted, .progress-bar-interrupted::-webkit-progress-bar {\n",
       "        background: #F44336;\n",
       "    }\n",
       "</style>\n"
      ],
      "text/plain": [
       "<IPython.core.display.HTML object>"
      ]
     },
     "metadata": {},
     "output_type": "display_data"
    },
    {
     "data": {
      "text/html": [
       "<table border=\"1\" class=\"dataframe\">\n",
       "  <thead>\n",
       "    <tr style=\"text-align: left;\">\n",
       "      <th>epoch</th>\n",
       "      <th>train_loss</th>\n",
       "      <th>valid_loss</th>\n",
       "      <th>error_rate</th>\n",
       "      <th>accuracy</th>\n",
       "      <th>time</th>\n",
       "    </tr>\n",
       "  </thead>\n",
       "  <tbody>\n",
       "    <tr>\n",
       "      <td>0</td>\n",
       "      <td>0.194449</td>\n",
       "      <td>0.151177</td>\n",
       "      <td>0.056180</td>\n",
       "      <td>0.943820</td>\n",
       "      <td>05:15</td>\n",
       "    </tr>\n",
       "    <tr>\n",
       "      <td>1</td>\n",
       "      <td>0.128322</td>\n",
       "      <td>0.124825</td>\n",
       "      <td>0.048689</td>\n",
       "      <td>0.951311</td>\n",
       "      <td>05:15</td>\n",
       "    </tr>\n",
       "    <tr>\n",
       "      <td>2</td>\n",
       "      <td>0.129251</td>\n",
       "      <td>0.130805</td>\n",
       "      <td>0.050562</td>\n",
       "      <td>0.949438</td>\n",
       "      <td>05:14</td>\n",
       "    </tr>\n",
       "    <tr>\n",
       "      <td>3</td>\n",
       "      <td>0.092015</td>\n",
       "      <td>0.113076</td>\n",
       "      <td>0.046816</td>\n",
       "      <td>0.953184</td>\n",
       "      <td>05:15</td>\n",
       "    </tr>\n",
       "    <tr>\n",
       "      <td>4</td>\n",
       "      <td>0.069698</td>\n",
       "      <td>0.134044</td>\n",
       "      <td>0.044944</td>\n",
       "      <td>0.955056</td>\n",
       "      <td>05:15</td>\n",
       "    </tr>\n",
       "    <tr>\n",
       "      <td>5</td>\n",
       "      <td>0.023290</td>\n",
       "      <td>0.068412</td>\n",
       "      <td>0.026217</td>\n",
       "      <td>0.973783</td>\n",
       "      <td>05:15</td>\n",
       "    </tr>\n",
       "    <tr>\n",
       "      <td>6</td>\n",
       "      <td>0.052300</td>\n",
       "      <td>0.074572</td>\n",
       "      <td>0.031835</td>\n",
       "      <td>0.968165</td>\n",
       "      <td>05:14</td>\n",
       "    </tr>\n",
       "    <tr>\n",
       "      <td>7</td>\n",
       "      <td>0.016256</td>\n",
       "      <td>0.081758</td>\n",
       "      <td>0.026217</td>\n",
       "      <td>0.973783</td>\n",
       "      <td>05:15</td>\n",
       "    </tr>\n",
       "    <tr>\n",
       "      <td>8</td>\n",
       "      <td>0.027533</td>\n",
       "      <td>0.069836</td>\n",
       "      <td>0.016854</td>\n",
       "      <td>0.983146</td>\n",
       "      <td>05:16</td>\n",
       "    </tr>\n",
       "    <tr>\n",
       "      <td>9</td>\n",
       "      <td>0.011680</td>\n",
       "      <td>0.093545</td>\n",
       "      <td>0.029963</td>\n",
       "      <td>0.970037</td>\n",
       "      <td>05:15</td>\n",
       "    </tr>\n",
       "    <tr>\n",
       "      <td>10</td>\n",
       "      <td>0.026878</td>\n",
       "      <td>0.060384</td>\n",
       "      <td>0.013109</td>\n",
       "      <td>0.986891</td>\n",
       "      <td>05:14</td>\n",
       "    </tr>\n",
       "    <tr>\n",
       "      <td>11</td>\n",
       "      <td>0.011317</td>\n",
       "      <td>0.054429</td>\n",
       "      <td>0.014981</td>\n",
       "      <td>0.985019</td>\n",
       "      <td>05:14</td>\n",
       "    </tr>\n",
       "    <tr>\n",
       "      <td>12</td>\n",
       "      <td>0.004545</td>\n",
       "      <td>0.074888</td>\n",
       "      <td>0.020599</td>\n",
       "      <td>0.979401</td>\n",
       "      <td>05:15</td>\n",
       "    </tr>\n",
       "    <tr>\n",
       "      <td>13</td>\n",
       "      <td>0.002199</td>\n",
       "      <td>0.053611</td>\n",
       "      <td>0.013109</td>\n",
       "      <td>0.986891</td>\n",
       "      <td>05:15</td>\n",
       "    </tr>\n",
       "    <tr>\n",
       "      <td>14</td>\n",
       "      <td>0.003381</td>\n",
       "      <td>0.056018</td>\n",
       "      <td>0.014981</td>\n",
       "      <td>0.985019</td>\n",
       "      <td>05:15</td>\n",
       "    </tr>\n",
       "    <tr>\n",
       "      <td>15</td>\n",
       "      <td>0.000622</td>\n",
       "      <td>0.062405</td>\n",
       "      <td>0.014981</td>\n",
       "      <td>0.985019</td>\n",
       "      <td>05:15</td>\n",
       "    </tr>\n",
       "    <tr>\n",
       "      <td>16</td>\n",
       "      <td>0.003170</td>\n",
       "      <td>0.057125</td>\n",
       "      <td>0.014981</td>\n",
       "      <td>0.985019</td>\n",
       "      <td>05:15</td>\n",
       "    </tr>\n",
       "    <tr>\n",
       "      <td>17</td>\n",
       "      <td>0.001569</td>\n",
       "      <td>0.051826</td>\n",
       "      <td>0.011236</td>\n",
       "      <td>0.988764</td>\n",
       "      <td>05:15</td>\n",
       "    </tr>\n",
       "    <tr>\n",
       "      <td>18</td>\n",
       "      <td>0.001360</td>\n",
       "      <td>0.053091</td>\n",
       "      <td>0.013109</td>\n",
       "      <td>0.986891</td>\n",
       "      <td>05:15</td>\n",
       "    </tr>\n",
       "    <tr>\n",
       "      <td>19</td>\n",
       "      <td>0.000636</td>\n",
       "      <td>0.053191</td>\n",
       "      <td>0.013109</td>\n",
       "      <td>0.986891</td>\n",
       "      <td>05:16</td>\n",
       "    </tr>\n",
       "  </tbody>\n",
       "</table>"
      ],
      "text/plain": [
       "<IPython.core.display.HTML object>"
      ]
     },
     "metadata": {},
     "output_type": "display_data"
    },
    {
     "name": "stdout",
     "output_type": "stream",
     "text": [
      "Better model found at epoch 0 with valid_loss value: 0.151177316904068.\n",
      "Better model found at epoch 1 with valid_loss value: 0.12482519447803497.\n",
      "Better model found at epoch 3 with valid_loss value: 0.11307583004236221.\n",
      "Better model found at epoch 5 with valid_loss value: 0.06841208785772324.\n",
      "Better model found at epoch 10 with valid_loss value: 0.06038447842001915.\n",
      "Better model found at epoch 11 with valid_loss value: 0.05442935600876808.\n",
      "Better model found at epoch 13 with valid_loss value: 0.05361083149909973.\n",
      "Better model found at epoch 17 with valid_loss value: 0.051826220005750656.\n"
     ]
    },
    {
     "data": {
      "text/html": [
       "\n",
       "<style>\n",
       "    /* Turns off some styling */\n",
       "    progress {\n",
       "        /* gets rid of default border in Firefox and Opera. */\n",
       "        border: none;\n",
       "        /* Needs to be in here for Safari polyfill so background images work as expected. */\n",
       "        background-size: auto;\n",
       "    }\n",
       "    .progress-bar-interrupted, .progress-bar-interrupted::-webkit-progress-bar {\n",
       "        background: #F44336;\n",
       "    }\n",
       "</style>\n"
      ],
      "text/plain": [
       "<IPython.core.display.HTML object>"
      ]
     },
     "metadata": {},
     "output_type": "display_data"
    },
    {
     "data": {
      "text/html": [
       "\n",
       "    <div>\n",
       "      <progress value='0' class='' max='20' style='width:300px; height:20px; vertical-align: middle;'></progress>\n",
       "      \n",
       "    </div>\n",
       "    \n"
      ],
      "text/plain": [
       "<IPython.core.display.HTML object>"
      ]
     },
     "metadata": {},
     "output_type": "display_data"
    },
    {
     "data": {
      "text/html": [
       "\n",
       "<style>\n",
       "    /* Turns off some styling */\n",
       "    progress {\n",
       "        /* gets rid of default border in Firefox and Opera. */\n",
       "        border: none;\n",
       "        /* Needs to be in here for Safari polyfill so background images work as expected. */\n",
       "        background-size: auto;\n",
       "    }\n",
       "    .progress-bar-interrupted, .progress-bar-interrupted::-webkit-progress-bar {\n",
       "        background: #F44336;\n",
       "    }\n",
       "</style>\n"
      ],
      "text/plain": [
       "<IPython.core.display.HTML object>"
      ]
     },
     "metadata": {},
     "output_type": "display_data"
    },
    {
     "data": {
      "text/html": [],
      "text/plain": [
       "<IPython.core.display.HTML object>"
      ]
     },
     "metadata": {},
     "output_type": "display_data"
    },
    {
     "name": "stdout",
     "output_type": "stream",
     "text": [
      "0.046339785304136426\n"
     ]
    },
    {
     "data": {
      "text/html": [
       "\n",
       "<style>\n",
       "    /* Turns off some styling */\n",
       "    progress {\n",
       "        /* gets rid of default border in Firefox and Opera. */\n",
       "        border: none;\n",
       "        /* Needs to be in here for Safari polyfill so background images work as expected. */\n",
       "        background-size: auto;\n",
       "    }\n",
       "    .progress-bar-interrupted, .progress-bar-interrupted::-webkit-progress-bar {\n",
       "        background: #F44336;\n",
       "    }\n",
       "</style>\n"
      ],
      "text/plain": [
       "<IPython.core.display.HTML object>"
      ]
     },
     "metadata": {},
     "output_type": "display_data"
    },
    {
     "data": {
      "text/html": [
       "\n",
       "    <div>\n",
       "      <progress value='0' class='' max='20' style='width:300px; height:20px; vertical-align: middle;'></progress>\n",
       "      \n",
       "    </div>\n",
       "    \n"
      ],
      "text/plain": [
       "<IPython.core.display.HTML object>"
      ]
     },
     "metadata": {},
     "output_type": "display_data"
    },
    {
     "data": {
      "text/html": [
       "\n",
       "<style>\n",
       "    /* Turns off some styling */\n",
       "    progress {\n",
       "        /* gets rid of default border in Firefox and Opera. */\n",
       "        border: none;\n",
       "        /* Needs to be in here for Safari polyfill so background images work as expected. */\n",
       "        background-size: auto;\n",
       "    }\n",
       "    .progress-bar-interrupted, .progress-bar-interrupted::-webkit-progress-bar {\n",
       "        background: #F44336;\n",
       "    }\n",
       "</style>\n"
      ],
      "text/plain": [
       "<IPython.core.display.HTML object>"
      ]
     },
     "metadata": {},
     "output_type": "display_data"
    },
    {
     "data": {
      "text/html": [],
      "text/plain": [
       "<IPython.core.display.HTML object>"
      ]
     },
     "metadata": {},
     "output_type": "display_data"
    },
    {
     "name": "stdout",
     "output_type": "stream",
     "text": [
      "fold fineshed\n"
     ]
    },
    {
     "data": {
      "text/html": [
       "\n",
       "<style>\n",
       "    /* Turns off some styling */\n",
       "    progress {\n",
       "        /* gets rid of default border in Firefox and Opera. */\n",
       "        border: none;\n",
       "        /* Needs to be in here for Safari polyfill so background images work as expected. */\n",
       "        background-size: auto;\n",
       "    }\n",
       "    .progress-bar-interrupted, .progress-bar-interrupted::-webkit-progress-bar {\n",
       "        background: #F44336;\n",
       "    }\n",
       "</style>\n"
      ],
      "text/plain": [
       "<IPython.core.display.HTML object>"
      ]
     },
     "metadata": {},
     "output_type": "display_data"
    },
    {
     "data": {
      "text/html": [],
      "text/plain": [
       "<IPython.core.display.HTML object>"
      ]
     },
     "metadata": {},
     "output_type": "display_data"
    },
    {
     "data": {
      "text/html": [
       "\n",
       "<style>\n",
       "    /* Turns off some styling */\n",
       "    progress {\n",
       "        /* gets rid of default border in Firefox and Opera. */\n",
       "        border: none;\n",
       "        /* Needs to be in here for Safari polyfill so background images work as expected. */\n",
       "        background-size: auto;\n",
       "    }\n",
       "    .progress-bar-interrupted, .progress-bar-interrupted::-webkit-progress-bar {\n",
       "        background: #F44336;\n",
       "    }\n",
       "</style>\n"
      ],
      "text/plain": [
       "<IPython.core.display.HTML object>"
      ]
     },
     "metadata": {},
     "output_type": "display_data"
    },
    {
     "data": {
      "text/html": [
       "<table border=\"1\" class=\"dataframe\">\n",
       "  <thead>\n",
       "    <tr style=\"text-align: left;\">\n",
       "      <th>epoch</th>\n",
       "      <th>train_loss</th>\n",
       "      <th>valid_loss</th>\n",
       "      <th>error_rate</th>\n",
       "      <th>accuracy</th>\n",
       "      <th>time</th>\n",
       "    </tr>\n",
       "  </thead>\n",
       "  <tbody>\n",
       "    <tr>\n",
       "      <td>0</td>\n",
       "      <td>0.392641</td>\n",
       "      <td>0.516611</td>\n",
       "      <td>0.205993</td>\n",
       "      <td>0.794007</td>\n",
       "      <td>05:14</td>\n",
       "    </tr>\n",
       "  </tbody>\n",
       "</table>"
      ],
      "text/plain": [
       "<IPython.core.display.HTML object>"
      ]
     },
     "metadata": {},
     "output_type": "display_data"
    },
    {
     "name": "stdout",
     "output_type": "stream",
     "text": [
      "Better model found at epoch 0 with valid_loss value: 0.5166109800338745.\n"
     ]
    },
    {
     "data": {
      "text/html": [
       "\n",
       "<style>\n",
       "    /* Turns off some styling */\n",
       "    progress {\n",
       "        /* gets rid of default border in Firefox and Opera. */\n",
       "        border: none;\n",
       "        /* Needs to be in here for Safari polyfill so background images work as expected. */\n",
       "        background-size: auto;\n",
       "    }\n",
       "    .progress-bar-interrupted, .progress-bar-interrupted::-webkit-progress-bar {\n",
       "        background: #F44336;\n",
       "    }\n",
       "</style>\n"
      ],
      "text/plain": [
       "<IPython.core.display.HTML object>"
      ]
     },
     "metadata": {},
     "output_type": "display_data"
    },
    {
     "data": {
      "text/html": [
       "<table border=\"1\" class=\"dataframe\">\n",
       "  <thead>\n",
       "    <tr style=\"text-align: left;\">\n",
       "      <th>epoch</th>\n",
       "      <th>train_loss</th>\n",
       "      <th>valid_loss</th>\n",
       "      <th>error_rate</th>\n",
       "      <th>accuracy</th>\n",
       "      <th>time</th>\n",
       "    </tr>\n",
       "  </thead>\n",
       "  <tbody>\n",
       "    <tr>\n",
       "      <td>0</td>\n",
       "      <td>0.222872</td>\n",
       "      <td>0.193422</td>\n",
       "      <td>0.059925</td>\n",
       "      <td>0.940075</td>\n",
       "      <td>05:14</td>\n",
       "    </tr>\n",
       "    <tr>\n",
       "      <td>1</td>\n",
       "      <td>0.150816</td>\n",
       "      <td>0.163557</td>\n",
       "      <td>0.052434</td>\n",
       "      <td>0.947566</td>\n",
       "      <td>05:14</td>\n",
       "    </tr>\n",
       "    <tr>\n",
       "      <td>2</td>\n",
       "      <td>0.116491</td>\n",
       "      <td>0.129642</td>\n",
       "      <td>0.046816</td>\n",
       "      <td>0.953184</td>\n",
       "      <td>05:14</td>\n",
       "    </tr>\n",
       "    <tr>\n",
       "      <td>3</td>\n",
       "      <td>0.081413</td>\n",
       "      <td>0.117679</td>\n",
       "      <td>0.041199</td>\n",
       "      <td>0.958802</td>\n",
       "      <td>05:15</td>\n",
       "    </tr>\n",
       "    <tr>\n",
       "      <td>4</td>\n",
       "      <td>0.073236</td>\n",
       "      <td>0.109016</td>\n",
       "      <td>0.035581</td>\n",
       "      <td>0.964419</td>\n",
       "      <td>05:15</td>\n",
       "    </tr>\n",
       "    <tr>\n",
       "      <td>5</td>\n",
       "      <td>0.043161</td>\n",
       "      <td>0.101670</td>\n",
       "      <td>0.024345</td>\n",
       "      <td>0.975655</td>\n",
       "      <td>05:16</td>\n",
       "    </tr>\n",
       "    <tr>\n",
       "      <td>6</td>\n",
       "      <td>0.027983</td>\n",
       "      <td>0.071370</td>\n",
       "      <td>0.018727</td>\n",
       "      <td>0.981273</td>\n",
       "      <td>05:17</td>\n",
       "    </tr>\n",
       "    <tr>\n",
       "      <td>7</td>\n",
       "      <td>0.019387</td>\n",
       "      <td>0.070016</td>\n",
       "      <td>0.018727</td>\n",
       "      <td>0.981273</td>\n",
       "      <td>05:16</td>\n",
       "    </tr>\n",
       "    <tr>\n",
       "      <td>8</td>\n",
       "      <td>0.014075</td>\n",
       "      <td>0.070415</td>\n",
       "      <td>0.018727</td>\n",
       "      <td>0.981273</td>\n",
       "      <td>05:15</td>\n",
       "    </tr>\n",
       "    <tr>\n",
       "      <td>9</td>\n",
       "      <td>0.019399</td>\n",
       "      <td>0.088149</td>\n",
       "      <td>0.026217</td>\n",
       "      <td>0.973783</td>\n",
       "      <td>05:15</td>\n",
       "    </tr>\n",
       "    <tr>\n",
       "      <td>10</td>\n",
       "      <td>0.006059</td>\n",
       "      <td>0.071746</td>\n",
       "      <td>0.014981</td>\n",
       "      <td>0.985019</td>\n",
       "      <td>05:15</td>\n",
       "    </tr>\n",
       "    <tr>\n",
       "      <td>11</td>\n",
       "      <td>0.004734</td>\n",
       "      <td>0.066592</td>\n",
       "      <td>0.013109</td>\n",
       "      <td>0.986891</td>\n",
       "      <td>05:15</td>\n",
       "    </tr>\n",
       "    <tr>\n",
       "      <td>12</td>\n",
       "      <td>0.012179</td>\n",
       "      <td>0.106617</td>\n",
       "      <td>0.020599</td>\n",
       "      <td>0.979401</td>\n",
       "      <td>05:15</td>\n",
       "    </tr>\n",
       "    <tr>\n",
       "      <td>13</td>\n",
       "      <td>0.003071</td>\n",
       "      <td>0.081827</td>\n",
       "      <td>0.016854</td>\n",
       "      <td>0.983146</td>\n",
       "      <td>05:16</td>\n",
       "    </tr>\n",
       "    <tr>\n",
       "      <td>14</td>\n",
       "      <td>0.000643</td>\n",
       "      <td>0.083417</td>\n",
       "      <td>0.016854</td>\n",
       "      <td>0.983146</td>\n",
       "      <td>05:15</td>\n",
       "    </tr>\n",
       "    <tr>\n",
       "      <td>15</td>\n",
       "      <td>0.001350</td>\n",
       "      <td>0.081782</td>\n",
       "      <td>0.016854</td>\n",
       "      <td>0.983146</td>\n",
       "      <td>05:16</td>\n",
       "    </tr>\n",
       "    <tr>\n",
       "      <td>16</td>\n",
       "      <td>0.004883</td>\n",
       "      <td>0.082499</td>\n",
       "      <td>0.014981</td>\n",
       "      <td>0.985019</td>\n",
       "      <td>05:14</td>\n",
       "    </tr>\n",
       "    <tr>\n",
       "      <td>17</td>\n",
       "      <td>0.002419</td>\n",
       "      <td>0.085189</td>\n",
       "      <td>0.016854</td>\n",
       "      <td>0.983146</td>\n",
       "      <td>05:15</td>\n",
       "    </tr>\n",
       "    <tr>\n",
       "      <td>18</td>\n",
       "      <td>0.000662</td>\n",
       "      <td>0.088961</td>\n",
       "      <td>0.016854</td>\n",
       "      <td>0.983146</td>\n",
       "      <td>05:15</td>\n",
       "    </tr>\n",
       "    <tr>\n",
       "      <td>19</td>\n",
       "      <td>0.000400</td>\n",
       "      <td>0.088222</td>\n",
       "      <td>0.016854</td>\n",
       "      <td>0.983146</td>\n",
       "      <td>05:15</td>\n",
       "    </tr>\n",
       "  </tbody>\n",
       "</table>"
      ],
      "text/plain": [
       "<IPython.core.display.HTML object>"
      ]
     },
     "metadata": {},
     "output_type": "display_data"
    },
    {
     "name": "stdout",
     "output_type": "stream",
     "text": [
      "Better model found at epoch 0 with valid_loss value: 0.19342225790023804.\n",
      "Better model found at epoch 1 with valid_loss value: 0.16355670988559723.\n",
      "Better model found at epoch 2 with valid_loss value: 0.12964209914207458.\n",
      "Better model found at epoch 3 with valid_loss value: 0.11767929792404175.\n",
      "Better model found at epoch 4 with valid_loss value: 0.10901571810245514.\n",
      "Better model found at epoch 5 with valid_loss value: 0.10167036205530167.\n",
      "Better model found at epoch 6 with valid_loss value: 0.07136978209018707.\n",
      "Better model found at epoch 7 with valid_loss value: 0.07001584768295288.\n",
      "Better model found at epoch 11 with valid_loss value: 0.06659217178821564.\n"
     ]
    },
    {
     "data": {
      "text/html": [
       "\n",
       "<style>\n",
       "    /* Turns off some styling */\n",
       "    progress {\n",
       "        /* gets rid of default border in Firefox and Opera. */\n",
       "        border: none;\n",
       "        /* Needs to be in here for Safari polyfill so background images work as expected. */\n",
       "        background-size: auto;\n",
       "    }\n",
       "    .progress-bar-interrupted, .progress-bar-interrupted::-webkit-progress-bar {\n",
       "        background: #F44336;\n",
       "    }\n",
       "</style>\n"
      ],
      "text/plain": [
       "<IPython.core.display.HTML object>"
      ]
     },
     "metadata": {},
     "output_type": "display_data"
    },
    {
     "data": {
      "text/html": [
       "\n",
       "    <div>\n",
       "      <progress value='0' class='' max='20' style='width:300px; height:20px; vertical-align: middle;'></progress>\n",
       "      \n",
       "    </div>\n",
       "    \n"
      ],
      "text/plain": [
       "<IPython.core.display.HTML object>"
      ]
     },
     "metadata": {},
     "output_type": "display_data"
    },
    {
     "data": {
      "text/html": [
       "\n",
       "<style>\n",
       "    /* Turns off some styling */\n",
       "    progress {\n",
       "        /* gets rid of default border in Firefox and Opera. */\n",
       "        border: none;\n",
       "        /* Needs to be in here for Safari polyfill so background images work as expected. */\n",
       "        background-size: auto;\n",
       "    }\n",
       "    .progress-bar-interrupted, .progress-bar-interrupted::-webkit-progress-bar {\n",
       "        background: #F44336;\n",
       "    }\n",
       "</style>\n"
      ],
      "text/plain": [
       "<IPython.core.display.HTML object>"
      ]
     },
     "metadata": {},
     "output_type": "display_data"
    },
    {
     "data": {
      "text/html": [],
      "text/plain": [
       "<IPython.core.display.HTML object>"
      ]
     },
     "metadata": {},
     "output_type": "display_data"
    },
    {
     "name": "stdout",
     "output_type": "stream",
     "text": [
      "0.051504831775397074\n"
     ]
    },
    {
     "data": {
      "text/html": [
       "\n",
       "<style>\n",
       "    /* Turns off some styling */\n",
       "    progress {\n",
       "        /* gets rid of default border in Firefox and Opera. */\n",
       "        border: none;\n",
       "        /* Needs to be in here for Safari polyfill so background images work as expected. */\n",
       "        background-size: auto;\n",
       "    }\n",
       "    .progress-bar-interrupted, .progress-bar-interrupted::-webkit-progress-bar {\n",
       "        background: #F44336;\n",
       "    }\n",
       "</style>\n"
      ],
      "text/plain": [
       "<IPython.core.display.HTML object>"
      ]
     },
     "metadata": {},
     "output_type": "display_data"
    },
    {
     "data": {
      "text/html": [
       "\n",
       "    <div>\n",
       "      <progress value='0' class='' max='20' style='width:300px; height:20px; vertical-align: middle;'></progress>\n",
       "      \n",
       "    </div>\n",
       "    \n"
      ],
      "text/plain": [
       "<IPython.core.display.HTML object>"
      ]
     },
     "metadata": {},
     "output_type": "display_data"
    },
    {
     "data": {
      "text/html": [
       "\n",
       "<style>\n",
       "    /* Turns off some styling */\n",
       "    progress {\n",
       "        /* gets rid of default border in Firefox and Opera. */\n",
       "        border: none;\n",
       "        /* Needs to be in here for Safari polyfill so background images work as expected. */\n",
       "        background-size: auto;\n",
       "    }\n",
       "    .progress-bar-interrupted, .progress-bar-interrupted::-webkit-progress-bar {\n",
       "        background: #F44336;\n",
       "    }\n",
       "</style>\n"
      ],
      "text/plain": [
       "<IPython.core.display.HTML object>"
      ]
     },
     "metadata": {},
     "output_type": "display_data"
    },
    {
     "data": {
      "text/html": [],
      "text/plain": [
       "<IPython.core.display.HTML object>"
      ]
     },
     "metadata": {},
     "output_type": "display_data"
    },
    {
     "name": "stdout",
     "output_type": "stream",
     "text": [
      "fold fineshed\n"
     ]
    },
    {
     "data": {
      "text/html": [
       "\n",
       "<style>\n",
       "    /* Turns off some styling */\n",
       "    progress {\n",
       "        /* gets rid of default border in Firefox and Opera. */\n",
       "        border: none;\n",
       "        /* Needs to be in here for Safari polyfill so background images work as expected. */\n",
       "        background-size: auto;\n",
       "    }\n",
       "    .progress-bar-interrupted, .progress-bar-interrupted::-webkit-progress-bar {\n",
       "        background: #F44336;\n",
       "    }\n",
       "</style>\n"
      ],
      "text/plain": [
       "<IPython.core.display.HTML object>"
      ]
     },
     "metadata": {},
     "output_type": "display_data"
    },
    {
     "data": {
      "text/html": [],
      "text/plain": [
       "<IPython.core.display.HTML object>"
      ]
     },
     "metadata": {},
     "output_type": "display_data"
    },
    {
     "data": {
      "text/html": [
       "\n",
       "<style>\n",
       "    /* Turns off some styling */\n",
       "    progress {\n",
       "        /* gets rid of default border in Firefox and Opera. */\n",
       "        border: none;\n",
       "        /* Needs to be in here for Safari polyfill so background images work as expected. */\n",
       "        background-size: auto;\n",
       "    }\n",
       "    .progress-bar-interrupted, .progress-bar-interrupted::-webkit-progress-bar {\n",
       "        background: #F44336;\n",
       "    }\n",
       "</style>\n"
      ],
      "text/plain": [
       "<IPython.core.display.HTML object>"
      ]
     },
     "metadata": {},
     "output_type": "display_data"
    },
    {
     "data": {
      "text/html": [
       "<table border=\"1\" class=\"dataframe\">\n",
       "  <thead>\n",
       "    <tr style=\"text-align: left;\">\n",
       "      <th>epoch</th>\n",
       "      <th>train_loss</th>\n",
       "      <th>valid_loss</th>\n",
       "      <th>error_rate</th>\n",
       "      <th>accuracy</th>\n",
       "      <th>time</th>\n",
       "    </tr>\n",
       "  </thead>\n",
       "  <tbody>\n",
       "    <tr>\n",
       "      <td>0</td>\n",
       "      <td>0.451454</td>\n",
       "      <td>0.392822</td>\n",
       "      <td>0.142322</td>\n",
       "      <td>0.857678</td>\n",
       "      <td>05:15</td>\n",
       "    </tr>\n",
       "  </tbody>\n",
       "</table>"
      ],
      "text/plain": [
       "<IPython.core.display.HTML object>"
      ]
     },
     "metadata": {},
     "output_type": "display_data"
    },
    {
     "name": "stdout",
     "output_type": "stream",
     "text": [
      "Better model found at epoch 0 with valid_loss value: 0.3928218483924866.\n"
     ]
    },
    {
     "data": {
      "text/html": [
       "\n",
       "<style>\n",
       "    /* Turns off some styling */\n",
       "    progress {\n",
       "        /* gets rid of default border in Firefox and Opera. */\n",
       "        border: none;\n",
       "        /* Needs to be in here for Safari polyfill so background images work as expected. */\n",
       "        background-size: auto;\n",
       "    }\n",
       "    .progress-bar-interrupted, .progress-bar-interrupted::-webkit-progress-bar {\n",
       "        background: #F44336;\n",
       "    }\n",
       "</style>\n"
      ],
      "text/plain": [
       "<IPython.core.display.HTML object>"
      ]
     },
     "metadata": {},
     "output_type": "display_data"
    },
    {
     "data": {
      "text/html": [
       "<table border=\"1\" class=\"dataframe\">\n",
       "  <thead>\n",
       "    <tr style=\"text-align: left;\">\n",
       "      <th>epoch</th>\n",
       "      <th>train_loss</th>\n",
       "      <th>valid_loss</th>\n",
       "      <th>error_rate</th>\n",
       "      <th>accuracy</th>\n",
       "      <th>time</th>\n",
       "    </tr>\n",
       "  </thead>\n",
       "  <tbody>\n",
       "    <tr>\n",
       "      <td>0</td>\n",
       "      <td>0.113558</td>\n",
       "      <td>0.159996</td>\n",
       "      <td>0.052434</td>\n",
       "      <td>0.947566</td>\n",
       "      <td>05:15</td>\n",
       "    </tr>\n",
       "    <tr>\n",
       "      <td>1</td>\n",
       "      <td>0.100432</td>\n",
       "      <td>0.140388</td>\n",
       "      <td>0.048689</td>\n",
       "      <td>0.951311</td>\n",
       "      <td>05:15</td>\n",
       "    </tr>\n",
       "    <tr>\n",
       "      <td>2</td>\n",
       "      <td>0.112966</td>\n",
       "      <td>0.162882</td>\n",
       "      <td>0.052434</td>\n",
       "      <td>0.947566</td>\n",
       "      <td>05:15</td>\n",
       "    </tr>\n",
       "    <tr>\n",
       "      <td>3</td>\n",
       "      <td>0.073801</td>\n",
       "      <td>0.209974</td>\n",
       "      <td>0.056180</td>\n",
       "      <td>0.943820</td>\n",
       "      <td>05:15</td>\n",
       "    </tr>\n",
       "    <tr>\n",
       "      <td>4</td>\n",
       "      <td>0.083179</td>\n",
       "      <td>0.150689</td>\n",
       "      <td>0.043071</td>\n",
       "      <td>0.956929</td>\n",
       "      <td>05:17</td>\n",
       "    </tr>\n",
       "    <tr>\n",
       "      <td>5</td>\n",
       "      <td>0.089531</td>\n",
       "      <td>0.211402</td>\n",
       "      <td>0.061798</td>\n",
       "      <td>0.938202</td>\n",
       "      <td>05:16</td>\n",
       "    </tr>\n",
       "    <tr>\n",
       "      <td>6</td>\n",
       "      <td>0.057187</td>\n",
       "      <td>0.182363</td>\n",
       "      <td>0.052434</td>\n",
       "      <td>0.947566</td>\n",
       "      <td>05:16</td>\n",
       "    </tr>\n",
       "    <tr>\n",
       "      <td>7</td>\n",
       "      <td>0.022233</td>\n",
       "      <td>0.226056</td>\n",
       "      <td>0.054307</td>\n",
       "      <td>0.945693</td>\n",
       "      <td>05:19</td>\n",
       "    </tr>\n",
       "    <tr>\n",
       "      <td>8</td>\n",
       "      <td>0.007426</td>\n",
       "      <td>0.307772</td>\n",
       "      <td>0.041199</td>\n",
       "      <td>0.958802</td>\n",
       "      <td>05:17</td>\n",
       "    </tr>\n",
       "    <tr>\n",
       "      <td>9</td>\n",
       "      <td>0.022685</td>\n",
       "      <td>0.305345</td>\n",
       "      <td>0.052434</td>\n",
       "      <td>0.947566</td>\n",
       "      <td>05:15</td>\n",
       "    </tr>\n",
       "    <tr>\n",
       "      <td>10</td>\n",
       "      <td>0.016228</td>\n",
       "      <td>0.187178</td>\n",
       "      <td>0.041199</td>\n",
       "      <td>0.958802</td>\n",
       "      <td>05:15</td>\n",
       "    </tr>\n",
       "    <tr>\n",
       "      <td>11</td>\n",
       "      <td>0.002545</td>\n",
       "      <td>0.233391</td>\n",
       "      <td>0.039326</td>\n",
       "      <td>0.960674</td>\n",
       "      <td>05:14</td>\n",
       "    </tr>\n",
       "    <tr>\n",
       "      <td>12</td>\n",
       "      <td>0.012792</td>\n",
       "      <td>0.113311</td>\n",
       "      <td>0.026217</td>\n",
       "      <td>0.973783</td>\n",
       "      <td>05:15</td>\n",
       "    </tr>\n",
       "    <tr>\n",
       "      <td>13</td>\n",
       "      <td>0.000393</td>\n",
       "      <td>0.134981</td>\n",
       "      <td>0.028090</td>\n",
       "      <td>0.971910</td>\n",
       "      <td>05:15</td>\n",
       "    </tr>\n",
       "    <tr>\n",
       "      <td>14</td>\n",
       "      <td>0.000057</td>\n",
       "      <td>0.145687</td>\n",
       "      <td>0.024345</td>\n",
       "      <td>0.975655</td>\n",
       "      <td>05:15</td>\n",
       "    </tr>\n",
       "    <tr>\n",
       "      <td>15</td>\n",
       "      <td>0.000032</td>\n",
       "      <td>0.178554</td>\n",
       "      <td>0.031835</td>\n",
       "      <td>0.968165</td>\n",
       "      <td>05:14</td>\n",
       "    </tr>\n",
       "    <tr>\n",
       "      <td>16</td>\n",
       "      <td>0.000018</td>\n",
       "      <td>0.181802</td>\n",
       "      <td>0.028090</td>\n",
       "      <td>0.971910</td>\n",
       "      <td>05:14</td>\n",
       "    </tr>\n",
       "    <tr>\n",
       "      <td>17</td>\n",
       "      <td>0.000012</td>\n",
       "      <td>0.181912</td>\n",
       "      <td>0.033708</td>\n",
       "      <td>0.966292</td>\n",
       "      <td>05:15</td>\n",
       "    </tr>\n",
       "    <tr>\n",
       "      <td>18</td>\n",
       "      <td>0.000010</td>\n",
       "      <td>0.182454</td>\n",
       "      <td>0.028090</td>\n",
       "      <td>0.971910</td>\n",
       "      <td>05:14</td>\n",
       "    </tr>\n",
       "    <tr>\n",
       "      <td>19</td>\n",
       "      <td>0.000042</td>\n",
       "      <td>0.182654</td>\n",
       "      <td>0.028090</td>\n",
       "      <td>0.971910</td>\n",
       "      <td>05:14</td>\n",
       "    </tr>\n",
       "  </tbody>\n",
       "</table>"
      ],
      "text/plain": [
       "<IPython.core.display.HTML object>"
      ]
     },
     "metadata": {},
     "output_type": "display_data"
    },
    {
     "name": "stdout",
     "output_type": "stream",
     "text": [
      "Better model found at epoch 0 with valid_loss value: 0.1599964201450348.\n",
      "Better model found at epoch 1 with valid_loss value: 0.14038842916488647.\n",
      "Better model found at epoch 12 with valid_loss value: 0.1133112981915474.\n"
     ]
    },
    {
     "data": {
      "text/html": [
       "\n",
       "<style>\n",
       "    /* Turns off some styling */\n",
       "    progress {\n",
       "        /* gets rid of default border in Firefox and Opera. */\n",
       "        border: none;\n",
       "        /* Needs to be in here for Safari polyfill so background images work as expected. */\n",
       "        background-size: auto;\n",
       "    }\n",
       "    .progress-bar-interrupted, .progress-bar-interrupted::-webkit-progress-bar {\n",
       "        background: #F44336;\n",
       "    }\n",
       "</style>\n"
      ],
      "text/plain": [
       "<IPython.core.display.HTML object>"
      ]
     },
     "metadata": {},
     "output_type": "display_data"
    },
    {
     "data": {
      "text/html": [
       "\n",
       "    <div>\n",
       "      <progress value='0' class='' max='20' style='width:300px; height:20px; vertical-align: middle;'></progress>\n",
       "      \n",
       "    </div>\n",
       "    \n"
      ],
      "text/plain": [
       "<IPython.core.display.HTML object>"
      ]
     },
     "metadata": {},
     "output_type": "display_data"
    },
    {
     "data": {
      "text/html": [
       "\n",
       "<style>\n",
       "    /* Turns off some styling */\n",
       "    progress {\n",
       "        /* gets rid of default border in Firefox and Opera. */\n",
       "        border: none;\n",
       "        /* Needs to be in here for Safari polyfill so background images work as expected. */\n",
       "        background-size: auto;\n",
       "    }\n",
       "    .progress-bar-interrupted, .progress-bar-interrupted::-webkit-progress-bar {\n",
       "        background: #F44336;\n",
       "    }\n",
       "</style>\n"
      ],
      "text/plain": [
       "<IPython.core.display.HTML object>"
      ]
     },
     "metadata": {},
     "output_type": "display_data"
    },
    {
     "data": {
      "text/html": [],
      "text/plain": [
       "<IPython.core.display.HTML object>"
      ]
     },
     "metadata": {},
     "output_type": "display_data"
    },
    {
     "name": "stdout",
     "output_type": "stream",
     "text": [
      "0.11007728546555767\n"
     ]
    },
    {
     "data": {
      "text/html": [
       "\n",
       "<style>\n",
       "    /* Turns off some styling */\n",
       "    progress {\n",
       "        /* gets rid of default border in Firefox and Opera. */\n",
       "        border: none;\n",
       "        /* Needs to be in here for Safari polyfill so background images work as expected. */\n",
       "        background-size: auto;\n",
       "    }\n",
       "    .progress-bar-interrupted, .progress-bar-interrupted::-webkit-progress-bar {\n",
       "        background: #F44336;\n",
       "    }\n",
       "</style>\n"
      ],
      "text/plain": [
       "<IPython.core.display.HTML object>"
      ]
     },
     "metadata": {},
     "output_type": "display_data"
    },
    {
     "data": {
      "text/html": [
       "\n",
       "    <div>\n",
       "      <progress value='0' class='' max='20' style='width:300px; height:20px; vertical-align: middle;'></progress>\n",
       "      \n",
       "    </div>\n",
       "    \n"
      ],
      "text/plain": [
       "<IPython.core.display.HTML object>"
      ]
     },
     "metadata": {},
     "output_type": "display_data"
    },
    {
     "data": {
      "text/html": [
       "\n",
       "<style>\n",
       "    /* Turns off some styling */\n",
       "    progress {\n",
       "        /* gets rid of default border in Firefox and Opera. */\n",
       "        border: none;\n",
       "        /* Needs to be in here for Safari polyfill so background images work as expected. */\n",
       "        background-size: auto;\n",
       "    }\n",
       "    .progress-bar-interrupted, .progress-bar-interrupted::-webkit-progress-bar {\n",
       "        background: #F44336;\n",
       "    }\n",
       "</style>\n"
      ],
      "text/plain": [
       "<IPython.core.display.HTML object>"
      ]
     },
     "metadata": {},
     "output_type": "display_data"
    },
    {
     "data": {
      "text/html": [],
      "text/plain": [
       "<IPython.core.display.HTML object>"
      ]
     },
     "metadata": {},
     "output_type": "display_data"
    },
    {
     "name": "stdout",
     "output_type": "stream",
     "text": [
      "fold fineshed\n"
     ]
    },
    {
     "data": {
      "text/html": [
       "\n",
       "<style>\n",
       "    /* Turns off some styling */\n",
       "    progress {\n",
       "        /* gets rid of default border in Firefox and Opera. */\n",
       "        border: none;\n",
       "        /* Needs to be in here for Safari polyfill so background images work as expected. */\n",
       "        background-size: auto;\n",
       "    }\n",
       "    .progress-bar-interrupted, .progress-bar-interrupted::-webkit-progress-bar {\n",
       "        background: #F44336;\n",
       "    }\n",
       "</style>\n"
      ],
      "text/plain": [
       "<IPython.core.display.HTML object>"
      ]
     },
     "metadata": {},
     "output_type": "display_data"
    },
    {
     "data": {
      "text/html": [],
      "text/plain": [
       "<IPython.core.display.HTML object>"
      ]
     },
     "metadata": {},
     "output_type": "display_data"
    },
    {
     "data": {
      "text/html": [
       "\n",
       "<style>\n",
       "    /* Turns off some styling */\n",
       "    progress {\n",
       "        /* gets rid of default border in Firefox and Opera. */\n",
       "        border: none;\n",
       "        /* Needs to be in here for Safari polyfill so background images work as expected. */\n",
       "        background-size: auto;\n",
       "    }\n",
       "    .progress-bar-interrupted, .progress-bar-interrupted::-webkit-progress-bar {\n",
       "        background: #F44336;\n",
       "    }\n",
       "</style>\n"
      ],
      "text/plain": [
       "<IPython.core.display.HTML object>"
      ]
     },
     "metadata": {},
     "output_type": "display_data"
    },
    {
     "data": {
      "text/html": [
       "<table border=\"1\" class=\"dataframe\">\n",
       "  <thead>\n",
       "    <tr style=\"text-align: left;\">\n",
       "      <th>epoch</th>\n",
       "      <th>train_loss</th>\n",
       "      <th>valid_loss</th>\n",
       "      <th>error_rate</th>\n",
       "      <th>accuracy</th>\n",
       "      <th>time</th>\n",
       "    </tr>\n",
       "  </thead>\n",
       "  <tbody>\n",
       "    <tr>\n",
       "      <td>0</td>\n",
       "      <td>0.474312</td>\n",
       "      <td>0.351321</td>\n",
       "      <td>0.140449</td>\n",
       "      <td>0.859551</td>\n",
       "      <td>05:14</td>\n",
       "    </tr>\n",
       "  </tbody>\n",
       "</table>"
      ],
      "text/plain": [
       "<IPython.core.display.HTML object>"
      ]
     },
     "metadata": {},
     "output_type": "display_data"
    },
    {
     "name": "stdout",
     "output_type": "stream",
     "text": [
      "Better model found at epoch 0 with valid_loss value: 0.35132139921188354.\n"
     ]
    },
    {
     "data": {
      "text/html": [
       "\n",
       "<style>\n",
       "    /* Turns off some styling */\n",
       "    progress {\n",
       "        /* gets rid of default border in Firefox and Opera. */\n",
       "        border: none;\n",
       "        /* Needs to be in here for Safari polyfill so background images work as expected. */\n",
       "        background-size: auto;\n",
       "    }\n",
       "    .progress-bar-interrupted, .progress-bar-interrupted::-webkit-progress-bar {\n",
       "        background: #F44336;\n",
       "    }\n",
       "</style>\n"
      ],
      "text/plain": [
       "<IPython.core.display.HTML object>"
      ]
     },
     "metadata": {},
     "output_type": "display_data"
    },
    {
     "data": {
      "text/html": [
       "<table border=\"1\" class=\"dataframe\">\n",
       "  <thead>\n",
       "    <tr style=\"text-align: left;\">\n",
       "      <th>epoch</th>\n",
       "      <th>train_loss</th>\n",
       "      <th>valid_loss</th>\n",
       "      <th>error_rate</th>\n",
       "      <th>accuracy</th>\n",
       "      <th>time</th>\n",
       "    </tr>\n",
       "  </thead>\n",
       "  <tbody>\n",
       "    <tr>\n",
       "      <td>0</td>\n",
       "      <td>0.108034</td>\n",
       "      <td>0.159819</td>\n",
       "      <td>0.067416</td>\n",
       "      <td>0.932584</td>\n",
       "      <td>05:14</td>\n",
       "    </tr>\n",
       "    <tr>\n",
       "      <td>1</td>\n",
       "      <td>0.078607</td>\n",
       "      <td>0.164582</td>\n",
       "      <td>0.054307</td>\n",
       "      <td>0.945693</td>\n",
       "      <td>05:14</td>\n",
       "    </tr>\n",
       "    <tr>\n",
       "      <td>2</td>\n",
       "      <td>0.055801</td>\n",
       "      <td>0.301977</td>\n",
       "      <td>0.102996</td>\n",
       "      <td>0.897004</td>\n",
       "      <td>05:13</td>\n",
       "    </tr>\n",
       "    <tr>\n",
       "      <td>3</td>\n",
       "      <td>0.028218</td>\n",
       "      <td>0.143901</td>\n",
       "      <td>0.035581</td>\n",
       "      <td>0.964419</td>\n",
       "      <td>05:13</td>\n",
       "    </tr>\n",
       "    <tr>\n",
       "      <td>4</td>\n",
       "      <td>0.068701</td>\n",
       "      <td>0.262821</td>\n",
       "      <td>0.067416</td>\n",
       "      <td>0.932584</td>\n",
       "      <td>05:14</td>\n",
       "    </tr>\n",
       "    <tr>\n",
       "      <td>5</td>\n",
       "      <td>0.149465</td>\n",
       "      <td>0.237883</td>\n",
       "      <td>0.078652</td>\n",
       "      <td>0.921348</td>\n",
       "      <td>05:14</td>\n",
       "    </tr>\n",
       "    <tr>\n",
       "      <td>6</td>\n",
       "      <td>0.069803</td>\n",
       "      <td>0.136614</td>\n",
       "      <td>0.052434</td>\n",
       "      <td>0.947566</td>\n",
       "      <td>05:14</td>\n",
       "    </tr>\n",
       "    <tr>\n",
       "      <td>7</td>\n",
       "      <td>0.040304</td>\n",
       "      <td>0.182878</td>\n",
       "      <td>0.048689</td>\n",
       "      <td>0.951311</td>\n",
       "      <td>05:14</td>\n",
       "    </tr>\n",
       "    <tr>\n",
       "      <td>8</td>\n",
       "      <td>0.041394</td>\n",
       "      <td>0.161445</td>\n",
       "      <td>0.048689</td>\n",
       "      <td>0.951311</td>\n",
       "      <td>05:13</td>\n",
       "    </tr>\n",
       "    <tr>\n",
       "      <td>9</td>\n",
       "      <td>0.034741</td>\n",
       "      <td>0.181016</td>\n",
       "      <td>0.039326</td>\n",
       "      <td>0.960674</td>\n",
       "      <td>05:13</td>\n",
       "    </tr>\n",
       "    <tr>\n",
       "      <td>10</td>\n",
       "      <td>0.020470</td>\n",
       "      <td>0.140606</td>\n",
       "      <td>0.029963</td>\n",
       "      <td>0.970037</td>\n",
       "      <td>05:13</td>\n",
       "    </tr>\n",
       "    <tr>\n",
       "      <td>11</td>\n",
       "      <td>0.000112</td>\n",
       "      <td>0.167074</td>\n",
       "      <td>0.031835</td>\n",
       "      <td>0.968165</td>\n",
       "      <td>05:13</td>\n",
       "    </tr>\n",
       "    <tr>\n",
       "      <td>12</td>\n",
       "      <td>0.012440</td>\n",
       "      <td>0.173240</td>\n",
       "      <td>0.033708</td>\n",
       "      <td>0.966292</td>\n",
       "      <td>05:14</td>\n",
       "    </tr>\n",
       "    <tr>\n",
       "      <td>13</td>\n",
       "      <td>0.000071</td>\n",
       "      <td>0.177716</td>\n",
       "      <td>0.028090</td>\n",
       "      <td>0.971910</td>\n",
       "      <td>05:14</td>\n",
       "    </tr>\n",
       "    <tr>\n",
       "      <td>14</td>\n",
       "      <td>0.002365</td>\n",
       "      <td>0.184520</td>\n",
       "      <td>0.026217</td>\n",
       "      <td>0.973783</td>\n",
       "      <td>05:13</td>\n",
       "    </tr>\n",
       "    <tr>\n",
       "      <td>15</td>\n",
       "      <td>0.000006</td>\n",
       "      <td>0.168477</td>\n",
       "      <td>0.024345</td>\n",
       "      <td>0.975655</td>\n",
       "      <td>05:13</td>\n",
       "    </tr>\n",
       "    <tr>\n",
       "      <td>16</td>\n",
       "      <td>0.000022</td>\n",
       "      <td>0.177559</td>\n",
       "      <td>0.026217</td>\n",
       "      <td>0.973783</td>\n",
       "      <td>05:13</td>\n",
       "    </tr>\n",
       "    <tr>\n",
       "      <td>17</td>\n",
       "      <td>0.000046</td>\n",
       "      <td>0.183435</td>\n",
       "      <td>0.026217</td>\n",
       "      <td>0.973783</td>\n",
       "      <td>05:14</td>\n",
       "    </tr>\n",
       "    <tr>\n",
       "      <td>18</td>\n",
       "      <td>0.000055</td>\n",
       "      <td>0.183437</td>\n",
       "      <td>0.026217</td>\n",
       "      <td>0.973783</td>\n",
       "      <td>05:14</td>\n",
       "    </tr>\n",
       "    <tr>\n",
       "      <td>19</td>\n",
       "      <td>0.000014</td>\n",
       "      <td>0.183547</td>\n",
       "      <td>0.026217</td>\n",
       "      <td>0.973783</td>\n",
       "      <td>05:14</td>\n",
       "    </tr>\n",
       "  </tbody>\n",
       "</table>"
      ],
      "text/plain": [
       "<IPython.core.display.HTML object>"
      ]
     },
     "metadata": {},
     "output_type": "display_data"
    },
    {
     "name": "stdout",
     "output_type": "stream",
     "text": [
      "Better model found at epoch 0 with valid_loss value: 0.15981876850128174.\n",
      "Better model found at epoch 3 with valid_loss value: 0.14390085637569427.\n",
      "Better model found at epoch 6 with valid_loss value: 0.13661405444145203.\n"
     ]
    },
    {
     "data": {
      "text/html": [
       "\n",
       "<style>\n",
       "    /* Turns off some styling */\n",
       "    progress {\n",
       "        /* gets rid of default border in Firefox and Opera. */\n",
       "        border: none;\n",
       "        /* Needs to be in here for Safari polyfill so background images work as expected. */\n",
       "        background-size: auto;\n",
       "    }\n",
       "    .progress-bar-interrupted, .progress-bar-interrupted::-webkit-progress-bar {\n",
       "        background: #F44336;\n",
       "    }\n",
       "</style>\n"
      ],
      "text/plain": [
       "<IPython.core.display.HTML object>"
      ]
     },
     "metadata": {},
     "output_type": "display_data"
    },
    {
     "data": {
      "text/html": [
       "\n",
       "    <div>\n",
       "      <progress value='0' class='' max='20' style='width:300px; height:20px; vertical-align: middle;'></progress>\n",
       "      \n",
       "    </div>\n",
       "    \n"
      ],
      "text/plain": [
       "<IPython.core.display.HTML object>"
      ]
     },
     "metadata": {},
     "output_type": "display_data"
    },
    {
     "data": {
      "text/html": [
       "\n",
       "<style>\n",
       "    /* Turns off some styling */\n",
       "    progress {\n",
       "        /* gets rid of default border in Firefox and Opera. */\n",
       "        border: none;\n",
       "        /* Needs to be in here for Safari polyfill so background images work as expected. */\n",
       "        background-size: auto;\n",
       "    }\n",
       "    .progress-bar-interrupted, .progress-bar-interrupted::-webkit-progress-bar {\n",
       "        background: #F44336;\n",
       "    }\n",
       "</style>\n"
      ],
      "text/plain": [
       "<IPython.core.display.HTML object>"
      ]
     },
     "metadata": {},
     "output_type": "display_data"
    },
    {
     "data": {
      "text/html": [],
      "text/plain": [
       "<IPython.core.display.HTML object>"
      ]
     },
     "metadata": {},
     "output_type": "display_data"
    },
    {
     "name": "stdout",
     "output_type": "stream",
     "text": [
      "0.1323132754417272\n"
     ]
    },
    {
     "data": {
      "text/html": [
       "\n",
       "<style>\n",
       "    /* Turns off some styling */\n",
       "    progress {\n",
       "        /* gets rid of default border in Firefox and Opera. */\n",
       "        border: none;\n",
       "        /* Needs to be in here for Safari polyfill so background images work as expected. */\n",
       "        background-size: auto;\n",
       "    }\n",
       "    .progress-bar-interrupted, .progress-bar-interrupted::-webkit-progress-bar {\n",
       "        background: #F44336;\n",
       "    }\n",
       "</style>\n"
      ],
      "text/plain": [
       "<IPython.core.display.HTML object>"
      ]
     },
     "metadata": {},
     "output_type": "display_data"
    },
    {
     "data": {
      "text/html": [
       "\n",
       "    <div>\n",
       "      <progress value='0' class='' max='20' style='width:300px; height:20px; vertical-align: middle;'></progress>\n",
       "      \n",
       "    </div>\n",
       "    \n"
      ],
      "text/plain": [
       "<IPython.core.display.HTML object>"
      ]
     },
     "metadata": {},
     "output_type": "display_data"
    },
    {
     "data": {
      "text/html": [
       "\n",
       "<style>\n",
       "    /* Turns off some styling */\n",
       "    progress {\n",
       "        /* gets rid of default border in Firefox and Opera. */\n",
       "        border: none;\n",
       "        /* Needs to be in here for Safari polyfill so background images work as expected. */\n",
       "        background-size: auto;\n",
       "    }\n",
       "    .progress-bar-interrupted, .progress-bar-interrupted::-webkit-progress-bar {\n",
       "        background: #F44336;\n",
       "    }\n",
       "</style>\n"
      ],
      "text/plain": [
       "<IPython.core.display.HTML object>"
      ]
     },
     "metadata": {},
     "output_type": "display_data"
    },
    {
     "data": {
      "text/html": [],
      "text/plain": [
       "<IPython.core.display.HTML object>"
      ]
     },
     "metadata": {},
     "output_type": "display_data"
    },
    {
     "name": "stdout",
     "output_type": "stream",
     "text": [
      "fold fineshed\n"
     ]
    },
    {
     "data": {
      "text/html": [
       "\n",
       "<style>\n",
       "    /* Turns off some styling */\n",
       "    progress {\n",
       "        /* gets rid of default border in Firefox and Opera. */\n",
       "        border: none;\n",
       "        /* Needs to be in here for Safari polyfill so background images work as expected. */\n",
       "        background-size: auto;\n",
       "    }\n",
       "    .progress-bar-interrupted, .progress-bar-interrupted::-webkit-progress-bar {\n",
       "        background: #F44336;\n",
       "    }\n",
       "</style>\n"
      ],
      "text/plain": [
       "<IPython.core.display.HTML object>"
      ]
     },
     "metadata": {},
     "output_type": "display_data"
    },
    {
     "data": {
      "text/html": [],
      "text/plain": [
       "<IPython.core.display.HTML object>"
      ]
     },
     "metadata": {},
     "output_type": "display_data"
    },
    {
     "data": {
      "text/html": [
       "\n",
       "<style>\n",
       "    /* Turns off some styling */\n",
       "    progress {\n",
       "        /* gets rid of default border in Firefox and Opera. */\n",
       "        border: none;\n",
       "        /* Needs to be in here for Safari polyfill so background images work as expected. */\n",
       "        background-size: auto;\n",
       "    }\n",
       "    .progress-bar-interrupted, .progress-bar-interrupted::-webkit-progress-bar {\n",
       "        background: #F44336;\n",
       "    }\n",
       "</style>\n"
      ],
      "text/plain": [
       "<IPython.core.display.HTML object>"
      ]
     },
     "metadata": {},
     "output_type": "display_data"
    },
    {
     "data": {
      "text/html": [
       "<table border=\"1\" class=\"dataframe\">\n",
       "  <thead>\n",
       "    <tr style=\"text-align: left;\">\n",
       "      <th>epoch</th>\n",
       "      <th>train_loss</th>\n",
       "      <th>valid_loss</th>\n",
       "      <th>error_rate</th>\n",
       "      <th>accuracy</th>\n",
       "      <th>time</th>\n",
       "    </tr>\n",
       "  </thead>\n",
       "  <tbody>\n",
       "    <tr>\n",
       "      <td>0</td>\n",
       "      <td>0.902092</td>\n",
       "      <td>1.015094</td>\n",
       "      <td>0.441948</td>\n",
       "      <td>0.558052</td>\n",
       "      <td>05:13</td>\n",
       "    </tr>\n",
       "  </tbody>\n",
       "</table>"
      ],
      "text/plain": [
       "<IPython.core.display.HTML object>"
      ]
     },
     "metadata": {},
     "output_type": "display_data"
    },
    {
     "name": "stdout",
     "output_type": "stream",
     "text": [
      "Better model found at epoch 0 with valid_loss value: 1.0150943994522095.\n"
     ]
    },
    {
     "data": {
      "text/html": [
       "\n",
       "<style>\n",
       "    /* Turns off some styling */\n",
       "    progress {\n",
       "        /* gets rid of default border in Firefox and Opera. */\n",
       "        border: none;\n",
       "        /* Needs to be in here for Safari polyfill so background images work as expected. */\n",
       "        background-size: auto;\n",
       "    }\n",
       "    .progress-bar-interrupted, .progress-bar-interrupted::-webkit-progress-bar {\n",
       "        background: #F44336;\n",
       "    }\n",
       "</style>\n"
      ],
      "text/plain": [
       "<IPython.core.display.HTML object>"
      ]
     },
     "metadata": {},
     "output_type": "display_data"
    },
    {
     "data": {
      "text/html": [
       "<table border=\"1\" class=\"dataframe\">\n",
       "  <thead>\n",
       "    <tr style=\"text-align: left;\">\n",
       "      <th>epoch</th>\n",
       "      <th>train_loss</th>\n",
       "      <th>valid_loss</th>\n",
       "      <th>error_rate</th>\n",
       "      <th>accuracy</th>\n",
       "      <th>time</th>\n",
       "    </tr>\n",
       "  </thead>\n",
       "  <tbody>\n",
       "    <tr>\n",
       "      <td>0</td>\n",
       "      <td>0.182877</td>\n",
       "      <td>0.181462</td>\n",
       "      <td>0.067416</td>\n",
       "      <td>0.932584</td>\n",
       "      <td>05:14</td>\n",
       "    </tr>\n",
       "    <tr>\n",
       "      <td>1</td>\n",
       "      <td>0.087646</td>\n",
       "      <td>0.392925</td>\n",
       "      <td>0.116105</td>\n",
       "      <td>0.883895</td>\n",
       "      <td>05:13</td>\n",
       "    </tr>\n",
       "    <tr>\n",
       "      <td>2</td>\n",
       "      <td>0.145976</td>\n",
       "      <td>0.237968</td>\n",
       "      <td>0.073034</td>\n",
       "      <td>0.926966</td>\n",
       "      <td>05:13</td>\n",
       "    </tr>\n",
       "    <tr>\n",
       "      <td>3</td>\n",
       "      <td>0.182961</td>\n",
       "      <td>0.128655</td>\n",
       "      <td>0.043071</td>\n",
       "      <td>0.956929</td>\n",
       "      <td>05:13</td>\n",
       "    </tr>\n",
       "    <tr>\n",
       "      <td>4</td>\n",
       "      <td>0.140885</td>\n",
       "      <td>0.218360</td>\n",
       "      <td>0.076779</td>\n",
       "      <td>0.923221</td>\n",
       "      <td>05:13</td>\n",
       "    </tr>\n",
       "    <tr>\n",
       "      <td>5</td>\n",
       "      <td>0.097708</td>\n",
       "      <td>0.156261</td>\n",
       "      <td>0.037453</td>\n",
       "      <td>0.962547</td>\n",
       "      <td>05:14</td>\n",
       "    </tr>\n",
       "    <tr>\n",
       "      <td>6</td>\n",
       "      <td>0.016202</td>\n",
       "      <td>0.182085</td>\n",
       "      <td>0.041199</td>\n",
       "      <td>0.958802</td>\n",
       "      <td>05:14</td>\n",
       "    </tr>\n",
       "    <tr>\n",
       "      <td>7</td>\n",
       "      <td>0.022996</td>\n",
       "      <td>0.224908</td>\n",
       "      <td>0.054307</td>\n",
       "      <td>0.945693</td>\n",
       "      <td>05:14</td>\n",
       "    </tr>\n",
       "    <tr>\n",
       "      <td>8</td>\n",
       "      <td>0.039483</td>\n",
       "      <td>0.171890</td>\n",
       "      <td>0.048689</td>\n",
       "      <td>0.951311</td>\n",
       "      <td>05:14</td>\n",
       "    </tr>\n",
       "    <tr>\n",
       "      <td>9</td>\n",
       "      <td>0.030724</td>\n",
       "      <td>0.167371</td>\n",
       "      <td>0.041199</td>\n",
       "      <td>0.958802</td>\n",
       "      <td>05:13</td>\n",
       "    </tr>\n",
       "    <tr>\n",
       "      <td>10</td>\n",
       "      <td>0.053208</td>\n",
       "      <td>0.317400</td>\n",
       "      <td>0.056180</td>\n",
       "      <td>0.943820</td>\n",
       "      <td>05:14</td>\n",
       "    </tr>\n",
       "    <tr>\n",
       "      <td>11</td>\n",
       "      <td>0.026132</td>\n",
       "      <td>0.289311</td>\n",
       "      <td>0.059925</td>\n",
       "      <td>0.940075</td>\n",
       "      <td>05:15</td>\n",
       "    </tr>\n",
       "    <tr>\n",
       "      <td>12</td>\n",
       "      <td>0.038500</td>\n",
       "      <td>0.317459</td>\n",
       "      <td>0.046816</td>\n",
       "      <td>0.953184</td>\n",
       "      <td>05:14</td>\n",
       "    </tr>\n",
       "    <tr>\n",
       "      <td>13</td>\n",
       "      <td>0.014795</td>\n",
       "      <td>0.269899</td>\n",
       "      <td>0.041199</td>\n",
       "      <td>0.958802</td>\n",
       "      <td>05:14</td>\n",
       "    </tr>\n",
       "    <tr>\n",
       "      <td>14</td>\n",
       "      <td>0.005490</td>\n",
       "      <td>0.215563</td>\n",
       "      <td>0.041199</td>\n",
       "      <td>0.958802</td>\n",
       "      <td>05:14</td>\n",
       "    </tr>\n",
       "    <tr>\n",
       "      <td>15</td>\n",
       "      <td>0.000226</td>\n",
       "      <td>0.217842</td>\n",
       "      <td>0.033708</td>\n",
       "      <td>0.966292</td>\n",
       "      <td>05:14</td>\n",
       "    </tr>\n",
       "    <tr>\n",
       "      <td>16</td>\n",
       "      <td>0.000045</td>\n",
       "      <td>0.239710</td>\n",
       "      <td>0.035581</td>\n",
       "      <td>0.964419</td>\n",
       "      <td>05:14</td>\n",
       "    </tr>\n",
       "    <tr>\n",
       "      <td>17</td>\n",
       "      <td>0.000021</td>\n",
       "      <td>0.222678</td>\n",
       "      <td>0.029963</td>\n",
       "      <td>0.970037</td>\n",
       "      <td>05:14</td>\n",
       "    </tr>\n",
       "    <tr>\n",
       "      <td>18</td>\n",
       "      <td>0.000015</td>\n",
       "      <td>0.224914</td>\n",
       "      <td>0.029963</td>\n",
       "      <td>0.970037</td>\n",
       "      <td>05:14</td>\n",
       "    </tr>\n",
       "    <tr>\n",
       "      <td>19</td>\n",
       "      <td>0.000051</td>\n",
       "      <td>0.225096</td>\n",
       "      <td>0.029963</td>\n",
       "      <td>0.970037</td>\n",
       "      <td>05:13</td>\n",
       "    </tr>\n",
       "  </tbody>\n",
       "</table>"
      ],
      "text/plain": [
       "<IPython.core.display.HTML object>"
      ]
     },
     "metadata": {},
     "output_type": "display_data"
    },
    {
     "name": "stdout",
     "output_type": "stream",
     "text": [
      "Better model found at epoch 0 with valid_loss value: 0.18146170675754547.\n",
      "Better model found at epoch 3 with valid_loss value: 0.12865452468395233.\n"
     ]
    },
    {
     "data": {
      "text/html": [
       "\n",
       "<style>\n",
       "    /* Turns off some styling */\n",
       "    progress {\n",
       "        /* gets rid of default border in Firefox and Opera. */\n",
       "        border: none;\n",
       "        /* Needs to be in here for Safari polyfill so background images work as expected. */\n",
       "        background-size: auto;\n",
       "    }\n",
       "    .progress-bar-interrupted, .progress-bar-interrupted::-webkit-progress-bar {\n",
       "        background: #F44336;\n",
       "    }\n",
       "</style>\n"
      ],
      "text/plain": [
       "<IPython.core.display.HTML object>"
      ]
     },
     "metadata": {},
     "output_type": "display_data"
    },
    {
     "data": {
      "text/html": [
       "\n",
       "    <div>\n",
       "      <progress value='0' class='' max='20' style='width:300px; height:20px; vertical-align: middle;'></progress>\n",
       "      \n",
       "    </div>\n",
       "    \n"
      ],
      "text/plain": [
       "<IPython.core.display.HTML object>"
      ]
     },
     "metadata": {},
     "output_type": "display_data"
    },
    {
     "data": {
      "text/html": [
       "\n",
       "<style>\n",
       "    /* Turns off some styling */\n",
       "    progress {\n",
       "        /* gets rid of default border in Firefox and Opera. */\n",
       "        border: none;\n",
       "        /* Needs to be in here for Safari polyfill so background images work as expected. */\n",
       "        background-size: auto;\n",
       "    }\n",
       "    .progress-bar-interrupted, .progress-bar-interrupted::-webkit-progress-bar {\n",
       "        background: #F44336;\n",
       "    }\n",
       "</style>\n"
      ],
      "text/plain": [
       "<IPython.core.display.HTML object>"
      ]
     },
     "metadata": {},
     "output_type": "display_data"
    },
    {
     "data": {
      "text/html": [],
      "text/plain": [
       "<IPython.core.display.HTML object>"
      ]
     },
     "metadata": {},
     "output_type": "display_data"
    },
    {
     "name": "stdout",
     "output_type": "stream",
     "text": [
      "0.12197610083461817\n"
     ]
    },
    {
     "data": {
      "text/html": [
       "\n",
       "<style>\n",
       "    /* Turns off some styling */\n",
       "    progress {\n",
       "        /* gets rid of default border in Firefox and Opera. */\n",
       "        border: none;\n",
       "        /* Needs to be in here for Safari polyfill so background images work as expected. */\n",
       "        background-size: auto;\n",
       "    }\n",
       "    .progress-bar-interrupted, .progress-bar-interrupted::-webkit-progress-bar {\n",
       "        background: #F44336;\n",
       "    }\n",
       "</style>\n"
      ],
      "text/plain": [
       "<IPython.core.display.HTML object>"
      ]
     },
     "metadata": {},
     "output_type": "display_data"
    },
    {
     "data": {
      "text/html": [
       "\n",
       "    <div>\n",
       "      <progress value='0' class='' max='20' style='width:300px; height:20px; vertical-align: middle;'></progress>\n",
       "      \n",
       "    </div>\n",
       "    \n"
      ],
      "text/plain": [
       "<IPython.core.display.HTML object>"
      ]
     },
     "metadata": {},
     "output_type": "display_data"
    },
    {
     "data": {
      "text/html": [
       "\n",
       "<style>\n",
       "    /* Turns off some styling */\n",
       "    progress {\n",
       "        /* gets rid of default border in Firefox and Opera. */\n",
       "        border: none;\n",
       "        /* Needs to be in here for Safari polyfill so background images work as expected. */\n",
       "        background-size: auto;\n",
       "    }\n",
       "    .progress-bar-interrupted, .progress-bar-interrupted::-webkit-progress-bar {\n",
       "        background: #F44336;\n",
       "    }\n",
       "</style>\n"
      ],
      "text/plain": [
       "<IPython.core.display.HTML object>"
      ]
     },
     "metadata": {},
     "output_type": "display_data"
    },
    {
     "data": {
      "text/html": [],
      "text/plain": [
       "<IPython.core.display.HTML object>"
      ]
     },
     "metadata": {},
     "output_type": "display_data"
    },
    {
     "name": "stdout",
     "output_type": "stream",
     "text": [
      "fold fineshed\n"
     ]
    },
    {
     "data": {
      "image/png": "[encoded data removed]",
      "text/plain": [
       "<Figure size 432x288 with 1 Axes>"
      ]
     },
     "metadata": {
      "needs_background": "light"
     },
     "output_type": "display_data"
    },
    {
     "data": {
      "image/png": "[encoded data removed]",
      "text/plain": [
       "<Figure size 432x288 with 1 Axes>"
      ]
     },
     "metadata": {
      "needs_background": "light"
     },
     "output_type": "display_data"
    },
    {
     "data": {
      "image/png": "[encoded data removed]",
      "text/plain": [
       "<Figure size 432x288 with 1 Axes>"
      ]
     },
     "metadata": {
      "needs_background": "light"
     },
     "output_type": "display_data"
    },
    {
     "data": {
      "image/png": "[encoded data removed]",
      "text/plain": [
       "<Figure size 432x288 with 1 Axes>"
      ]
     },
     "metadata": {
      "needs_background": "light"
     },
     "output_type": "display_data"
    },
    {
     "data": {
      "image/png": "[encoded data removed]",
      "text/plain": [
       "<Figure size 432x288 with 1 Axes>"
      ]
     },
     "metadata": {
      "needs_background": "light"
     },
     "output_type": "display_data"
    }
   ],
   "source": [
    "from sklearn.model_selection import StratifiedKFold\n",
    "from fastai.callback.tracker import SaveModelCallback,EarlyStoppingCallback\n",
    "import sklearn\n",
    "from sklearn.metrics import log_loss\n",
    "tfms = aug_transforms(do_flip = True, flip_vert = False, mult=.0,size=384)\n",
    "skf=StratifiedKFold(n_splits=5, random_state=None, shuffle=False)\n",
    "y_pred_tot=[]\n",
    "valid_loglos=[]\n",
    "i=0\n",
    "oof = np.zeros((train.shape[0],3))\n",
    "for train_index, test_index in skf.split(train, train['Label']): \n",
    "    train['val_col']=False\n",
    "    train.loc[test_index,'val_col']=True\n",
    "    dls = ImageDataLoaders.from_df(train, path='../input/microsoft-rice-disease-classification-challenge',item_tfms=Resize(384),batch_tfms=[Normalize.from_stats(*imagenet_stats)],valid_col='val_col',seed=50,num_workers=1,val_pct=0,bs=4)\n",
    "    random_seed(dls,50)\n",
    "    #model = EfficientNet.from_pretrained(\"efficientnet-b7\")\n",
    "    #model._fc = nn.Linear(model._fc.in_features,3)\n",
    "    model = create_model('swin_large_patch4_window12_384', pretrained=True, num_classes=3)\n",
    "    learn = Learner(dls,model,metrics=[error_rate,accuracy],path='.',cbs=[SaveModelCallback(monitor='valid_loss')])\n",
    "#         learn = cnn_learner(dls,vgg19_bn,metrics=[error_rate,accuracy],path='.',cbs=[EarlyStoppingCallback(monitor='valid_loss',min_delta=0.001, patience=10),SaveModelCallback(monitor='valid_loss')])\n",
    "    random_seed(dls,50)\n",
    "    best_lr = learn.lr_find()\n",
    "    learn.fine_tune(20,best_lr.valley)\n",
    "    #val\n",
    "    valid =learn.dls.test_dl(train.iloc[test_index]['Image_id'].map(lambda s: '../input/microsoft-rice-disease-classification-challenge/'+s).values)\n",
    "    val_preds = learn.get_preds(dl=valid)\n",
    "    print(log_loss(train.iloc[test_index]['Label'],val_preds[0]))\n",
    "    oof[test_index]=val_preds[0]\n",
    "    #test\n",
    "    tdl = learn.dls.test_dl(test['Image_id'].map(lambda s: '../input/microsoft-rice-disease-classification-challenge/'+s).values)\n",
    "    learn.save(\"model\"+str(i))\n",
    "    preds = learn.get_preds(dl=tdl)\n",
    "    y_pred_tot.append(preds)\n",
    "    print('fold fineshed')\n",
    "    i=i+1"
   ]
  },
  {
   "cell_type": "code",
   "execution_count": 16,
   "id": "b2878409",
   "metadata": {
    "execution": {
     "iopub.execute_input": "2022-06-12T08:49:33.395702Z",
     "iopub.status.busy": "2022-06-12T08:49:33.395446Z",
     "iopub.status.idle": "2022-06-12T08:49:33.417772Z",
     "shell.execute_reply": "2022-06-12T08:49:33.417060Z"
    },
    "papermill": {
     "duration": 0.164569,
     "end_time": "2022-06-12T08:49:33.420060",
     "exception": false,
     "start_time": "2022-06-12T08:49:33.255491",
     "status": "completed"
    },
    "tags": []
   },
   "outputs": [
    {
     "data": {
      "text/plain": [
       "0.09244226422295101"
      ]
     },
     "execution_count": 16,
     "metadata": {},
     "output_type": "execute_result"
    }
   ],
   "source": [
    "from sklearn.metrics import log_loss\n",
    "log_loss(train['Label'].values,oof)"
   ]
  },
  {
   "cell_type": "code",
   "execution_count": 17,
   "id": "5e473850",
   "metadata": {
    "execution": {
     "iopub.execute_input": "2022-06-12T08:49:33.695547Z",
     "iopub.status.busy": "2022-06-12T08:49:33.695113Z",
     "iopub.status.idle": "2022-06-12T08:49:33.704494Z",
     "shell.execute_reply": "2022-06-12T08:49:33.703766Z"
    },
    "papermill": {
     "duration": 0.146452,
     "end_time": "2022-06-12T08:49:33.706184",
     "exception": false,
     "start_time": "2022-06-12T08:49:33.559732",
     "status": "completed"
    },
    "tags": []
   },
   "outputs": [
    {
     "data": {
      "text/plain": [
       "[array([[1.0000000e+00, 2.1407025e-10, 7.9386397e-10],\n",
       "        [7.3480085e-05, 9.9992645e-01, 9.3086733e-08],\n",
       "        [8.6936760e-01, 1.3063049e-01, 1.8847780e-06],\n",
       "        ...,\n",
       "        [9.9999827e-01, 1.7596160e-06, 8.9663381e-11],\n",
       "        [9.9999976e-01, 9.4674633e-09, 2.2082133e-07],\n",
       "        [3.2183330e-04, 2.4625064e-07, 9.9967790e-01]], dtype=float32),\n",
       " array([[1.0000000e+00, 2.2483331e-08, 3.1178338e-08],\n",
       "        [1.3006566e-01, 8.6974454e-01, 1.8979950e-04],\n",
       "        [9.5056325e-01, 4.9434274e-02, 2.5177176e-06],\n",
       "        ...,\n",
       "        [9.8937225e-01, 1.0627754e-02, 4.3241535e-09],\n",
       "        [9.9998915e-01, 1.6597018e-07, 1.0671119e-05],\n",
       "        [8.4518990e-04, 8.1597227e-06, 9.9914670e-01]], dtype=float32),\n",
       " array([[9.9970889e-01, 2.8950992e-04, 1.6004252e-06],\n",
       "        [1.1616076e-03, 9.9882495e-01, 1.3402181e-05],\n",
       "        [9.9491596e-01, 5.0811842e-03, 2.8065222e-06],\n",
       "        ...,\n",
       "        [9.9759597e-01, 2.4023945e-03, 1.6521811e-06],\n",
       "        [9.9999416e-01, 5.3931376e-06, 4.6703178e-07],\n",
       "        [1.2324233e-02, 8.9444744e-04, 9.8678136e-01]], dtype=float32),\n",
       " array([[9.9974668e-01, 9.4468836e-05, 1.5883832e-04],\n",
       "        [1.7638101e-03, 9.9590838e-01, 2.3278764e-03],\n",
       "        [9.1642356e-01, 8.1080958e-02, 2.4954937e-03],\n",
       "        ...,\n",
       "        [9.9830151e-01, 1.6887246e-03, 9.7553238e-06],\n",
       "        [9.9989295e-01, 1.8049177e-05, 8.8894565e-05],\n",
       "        [2.1120459e-03, 6.8676489e-04, 9.9720120e-01]], dtype=float32),\n",
       " array([[9.9940538e-01, 5.0706929e-04, 8.7552195e-05],\n",
       "        [6.8016717e-04, 9.9919808e-01, 1.2180782e-04],\n",
       "        [9.9991214e-01, 8.4989661e-05, 2.8396953e-06],\n",
       "        ...,\n",
       "        [9.9113214e-01, 8.4944423e-03, 3.7335494e-04],\n",
       "        [9.9943352e-01, 4.6947313e-04, 9.7016804e-05],\n",
       "        [6.3506621e-01, 6.5402396e-04, 3.6427978e-01]], dtype=float32)]"
      ]
     },
     "execution_count": 17,
     "metadata": {},
     "output_type": "execute_result"
    }
   ],
   "source": [
    "predss=[to_np(x[0])for x in y_pred_tot]\n",
    "predss\n"
   ]
  },
  {
   "cell_type": "code",
   "execution_count": 18,
   "id": "1440a3cb",
   "metadata": {
    "execution": {
     "iopub.execute_input": "2022-06-12T08:49:33.884000Z",
     "iopub.status.busy": "2022-06-12T08:49:33.883768Z",
     "iopub.status.idle": "2022-06-12T08:49:33.889986Z",
     "shell.execute_reply": "2022-06-12T08:49:33.889149Z"
    },
    "papermill": {
     "duration": 0.095776,
     "end_time": "2022-06-12T08:49:33.892804",
     "exception": false,
     "start_time": "2022-06-12T08:49:33.797028",
     "status": "completed"
    },
    "tags": []
   },
   "outputs": [
    {
     "data": {
      "text/plain": [
       "array([[9.9977219e-01, 1.7821415e-04, 4.9604580e-05],\n",
       "       [2.6748944e-02, 9.7272044e-01, 5.3059577e-04],\n",
       "       [9.4623649e-01, 5.3262375e-02, 5.0110847e-04],\n",
       "       ...,\n",
       "       [9.9528009e-01, 4.6430146e-03, 7.6953373e-05],\n",
       "       [9.9986190e-01, 9.8618177e-05, 3.9454066e-05],\n",
       "       [1.3013390e-01, 4.4872845e-04, 8.6941737e-01]], dtype=float32)"
      ]
     },
     "execution_count": 18,
     "metadata": {},
     "output_type": "execute_result"
    }
   ],
   "source": [
    "preds=np.mean(predss,0)\n",
    "preds"
   ]
  },
  {
   "cell_type": "code",
   "execution_count": 19,
   "id": "8e46d472",
   "metadata": {
    "execution": {
     "iopub.execute_input": "2022-06-12T08:49:34.072112Z",
     "iopub.status.busy": "2022-06-12T08:49:34.071857Z",
     "iopub.status.idle": "2022-06-12T08:49:34.086927Z",
     "shell.execute_reply": "2022-06-12T08:49:34.086158Z"
    },
    "papermill": {
     "duration": 0.10631,
     "end_time": "2022-06-12T08:49:34.089698",
     "exception": false,
     "start_time": "2022-06-12T08:49:33.983388",
     "status": "completed"
    },
    "tags": []
   },
   "outputs": [
    {
     "data": {
      "text/html": [
       "<div>\n",
       "<style scoped>\n",
       "    .dataframe tbody tr th:only-of-type {\n",
       "        vertical-align: middle;\n",
       "    }\n",
       "\n",
       "    .dataframe tbody tr th {\n",
       "        vertical-align: top;\n",
       "    }\n",
       "\n",
       "    .dataframe thead th {\n",
       "        text-align: right;\n",
       "    }\n",
       "</style>\n",
       "<table border=\"1\" class=\"dataframe\">\n",
       "  <thead>\n",
       "    <tr style=\"text-align: right;\">\n",
       "      <th></th>\n",
       "      <th>Image_id</th>\n",
       "    </tr>\n",
       "  </thead>\n",
       "  <tbody>\n",
       "    <tr>\n",
       "      <th>0</th>\n",
       "      <td>id_00vl5wvxq3.jpg</td>\n",
       "    </tr>\n",
       "    <tr>\n",
       "      <th>1</th>\n",
       "      <td>id_01hu05mtch.jpg</td>\n",
       "    </tr>\n",
       "    <tr>\n",
       "      <th>2</th>\n",
       "      <td>id_030ln10ewn.jpg</td>\n",
       "    </tr>\n",
       "    <tr>\n",
       "      <th>3</th>\n",
       "      <td>id_03z57m8xht.jpg</td>\n",
       "    </tr>\n",
       "    <tr>\n",
       "      <th>4</th>\n",
       "      <td>id_04ngep1w4b.jpg</td>\n",
       "    </tr>\n",
       "    <tr>\n",
       "      <th>...</th>\n",
       "      <td>...</td>\n",
       "    </tr>\n",
       "    <tr>\n",
       "      <th>1140</th>\n",
       "      <td>id_zrdlgjrq3r.jpg</td>\n",
       "    </tr>\n",
       "    <tr>\n",
       "      <th>1141</th>\n",
       "      <td>id_zsfayxwipp.jpg</td>\n",
       "    </tr>\n",
       "    <tr>\n",
       "      <th>1142</th>\n",
       "      <td>id_ztvp2l9k3h.jpg</td>\n",
       "    </tr>\n",
       "    <tr>\n",
       "      <th>1143</th>\n",
       "      <td>id_zwwcma7hlt.jpg</td>\n",
       "    </tr>\n",
       "    <tr>\n",
       "      <th>1144</th>\n",
       "      <td>id_zyo7m4fj8h.jpg</td>\n",
       "    </tr>\n",
       "  </tbody>\n",
       "</table>\n",
       "<p>1145 rows × 1 columns</p>\n",
       "</div>"
      ],
      "text/plain": [
       "               Image_id\n",
       "0     id_00vl5wvxq3.jpg\n",
       "1     id_01hu05mtch.jpg\n",
       "2     id_030ln10ewn.jpg\n",
       "3     id_03z57m8xht.jpg\n",
       "4     id_04ngep1w4b.jpg\n",
       "...                 ...\n",
       "1140  id_zrdlgjrq3r.jpg\n",
       "1141  id_zsfayxwipp.jpg\n",
       "1142  id_ztvp2l9k3h.jpg\n",
       "1143  id_zwwcma7hlt.jpg\n",
       "1144  id_zyo7m4fj8h.jpg\n",
       "\n",
       "[1145 rows x 1 columns]"
      ]
     },
     "execution_count": 19,
     "metadata": {},
     "output_type": "execute_result"
    }
   ],
   "source": [
    "submission_from_test = test[['Image_id']]\n",
    "submission_from_test"
   ]
  },
  {
   "cell_type": "code",
   "execution_count": 20,
   "id": "bee18662",
   "metadata": {
    "execution": {
     "iopub.execute_input": "2022-06-12T08:49:34.267217Z",
     "iopub.status.busy": "2022-06-12T08:49:34.266985Z",
     "iopub.status.idle": "2022-06-12T08:49:34.272513Z",
     "shell.execute_reply": "2022-06-12T08:49:34.271825Z"
    },
    "papermill": {
     "duration": 0.096311,
     "end_time": "2022-06-12T08:49:34.274682",
     "exception": false,
     "start_time": "2022-06-12T08:49:34.178371",
     "status": "completed"
    },
    "tags": []
   },
   "outputs": [
    {
     "data": {
      "text/plain": [
       "array(['blast', 'brown', 'healthy'], dtype=object)"
      ]
     },
     "execution_count": 20,
     "metadata": {},
     "output_type": "execute_result"
    }
   ],
   "source": [
    "le.inverse_transform([0,1,2])"
   ]
  },
  {
   "cell_type": "code",
   "execution_count": 21,
   "id": "2f4f55e6",
   "metadata": {
    "execution": {
     "iopub.execute_input": "2022-06-12T08:49:34.451771Z",
     "iopub.status.busy": "2022-06-12T08:49:34.451257Z",
     "iopub.status.idle": "2022-06-12T08:49:34.457689Z",
     "shell.execute_reply": "2022-06-12T08:49:34.457002Z"
    },
    "papermill": {
     "duration": 0.097712,
     "end_time": "2022-06-12T08:49:34.459466",
     "exception": false,
     "start_time": "2022-06-12T08:49:34.361754",
     "status": "completed"
    },
    "tags": []
   },
   "outputs": [],
   "source": [
    "submission_from_test['blast'] = preds[:,0]\n",
    "submission_from_test['brown'] = preds[:,1]\n",
    "submission_from_test['healthy'] = preds[:,2]"
   ]
  },
  {
   "cell_type": "code",
   "execution_count": 22,
   "id": "f8e6dc06",
   "metadata": {
    "execution": {
     "iopub.execute_input": "2022-06-12T08:49:34.636947Z",
     "iopub.status.busy": "2022-06-12T08:49:34.636731Z",
     "iopub.status.idle": "2022-06-12T08:49:34.650320Z",
     "shell.execute_reply": "2022-06-12T08:49:34.649400Z"
    },
    "papermill": {
     "duration": 0.106181,
     "end_time": "2022-06-12T08:49:34.653168",
     "exception": false,
     "start_time": "2022-06-12T08:49:34.546987",
     "status": "completed"
    },
    "tags": []
   },
   "outputs": [
    {
     "data": {
      "text/html": [
       "<div>\n",
       "<style scoped>\n",
       "    .dataframe tbody tr th:only-of-type {\n",
       "        vertical-align: middle;\n",
       "    }\n",
       "\n",
       "    .dataframe tbody tr th {\n",
       "        vertical-align: top;\n",
       "    }\n",
       "\n",
       "    .dataframe thead th {\n",
       "        text-align: right;\n",
       "    }\n",
       "</style>\n",
       "<table border=\"1\" class=\"dataframe\">\n",
       "  <thead>\n",
       "    <tr style=\"text-align: right;\">\n",
       "      <th></th>\n",
       "      <th>Image_id</th>\n",
       "      <th>blast</th>\n",
       "      <th>brown</th>\n",
       "      <th>healthy</th>\n",
       "    </tr>\n",
       "  </thead>\n",
       "  <tbody>\n",
       "    <tr>\n",
       "      <th>0</th>\n",
       "      <td>id_00vl5wvxq3.jpg</td>\n",
       "      <td>0.999772</td>\n",
       "      <td>0.000178</td>\n",
       "      <td>0.000050</td>\n",
       "    </tr>\n",
       "    <tr>\n",
       "      <th>1</th>\n",
       "      <td>id_01hu05mtch.jpg</td>\n",
       "      <td>0.026749</td>\n",
       "      <td>0.972720</td>\n",
       "      <td>0.000531</td>\n",
       "    </tr>\n",
       "    <tr>\n",
       "      <th>2</th>\n",
       "      <td>id_030ln10ewn.jpg</td>\n",
       "      <td>0.946236</td>\n",
       "      <td>0.053262</td>\n",
       "      <td>0.000501</td>\n",
       "    </tr>\n",
       "    <tr>\n",
       "      <th>3</th>\n",
       "      <td>id_03z57m8xht.jpg</td>\n",
       "      <td>0.999993</td>\n",
       "      <td>0.000006</td>\n",
       "      <td>0.000001</td>\n",
       "    </tr>\n",
       "    <tr>\n",
       "      <th>4</th>\n",
       "      <td>id_04ngep1w4b.jpg</td>\n",
       "      <td>0.999069</td>\n",
       "      <td>0.000589</td>\n",
       "      <td>0.000343</td>\n",
       "    </tr>\n",
       "    <tr>\n",
       "      <th>...</th>\n",
       "      <td>...</td>\n",
       "      <td>...</td>\n",
       "      <td>...</td>\n",
       "      <td>...</td>\n",
       "    </tr>\n",
       "    <tr>\n",
       "      <th>1140</th>\n",
       "      <td>id_zrdlgjrq3r.jpg</td>\n",
       "      <td>0.000069</td>\n",
       "      <td>0.002445</td>\n",
       "      <td>0.997486</td>\n",
       "    </tr>\n",
       "    <tr>\n",
       "      <th>1141</th>\n",
       "      <td>id_zsfayxwipp.jpg</td>\n",
       "      <td>0.000054</td>\n",
       "      <td>0.999862</td>\n",
       "      <td>0.000084</td>\n",
       "    </tr>\n",
       "    <tr>\n",
       "      <th>1142</th>\n",
       "      <td>id_ztvp2l9k3h.jpg</td>\n",
       "      <td>0.995280</td>\n",
       "      <td>0.004643</td>\n",
       "      <td>0.000077</td>\n",
       "    </tr>\n",
       "    <tr>\n",
       "      <th>1143</th>\n",
       "      <td>id_zwwcma7hlt.jpg</td>\n",
       "      <td>0.999862</td>\n",
       "      <td>0.000099</td>\n",
       "      <td>0.000039</td>\n",
       "    </tr>\n",
       "    <tr>\n",
       "      <th>1144</th>\n",
       "      <td>id_zyo7m4fj8h.jpg</td>\n",
       "      <td>0.130134</td>\n",
       "      <td>0.000449</td>\n",
       "      <td>0.869417</td>\n",
       "    </tr>\n",
       "  </tbody>\n",
       "</table>\n",
       "<p>1145 rows × 4 columns</p>\n",
       "</div>"
      ],
      "text/plain": [
       "               Image_id     blast     brown   healthy\n",
       "0     id_00vl5wvxq3.jpg  0.999772  0.000178  0.000050\n",
       "1     id_01hu05mtch.jpg  0.026749  0.972720  0.000531\n",
       "2     id_030ln10ewn.jpg  0.946236  0.053262  0.000501\n",
       "3     id_03z57m8xht.jpg  0.999993  0.000006  0.000001\n",
       "4     id_04ngep1w4b.jpg  0.999069  0.000589  0.000343\n",
       "...                 ...       ...       ...       ...\n",
       "1140  id_zrdlgjrq3r.jpg  0.000069  0.002445  0.997486\n",
       "1141  id_zsfayxwipp.jpg  0.000054  0.999862  0.000084\n",
       "1142  id_ztvp2l9k3h.jpg  0.995280  0.004643  0.000077\n",
       "1143  id_zwwcma7hlt.jpg  0.999862  0.000099  0.000039\n",
       "1144  id_zyo7m4fj8h.jpg  0.130134  0.000449  0.869417\n",
       "\n",
       "[1145 rows x 4 columns]"
      ]
     },
     "execution_count": 22,
     "metadata": {},
     "output_type": "execute_result"
    }
   ],
   "source": [
    "submission_from_test"
   ]
  },
  {
   "cell_type": "code",
   "execution_count": 23,
   "id": "367085ec",
   "metadata": {
    "execution": {
     "iopub.execute_input": "2022-06-12T08:49:34.835814Z",
     "iopub.status.busy": "2022-06-12T08:49:34.835579Z",
     "iopub.status.idle": "2022-06-12T08:49:34.853286Z",
     "shell.execute_reply": "2022-06-12T08:49:34.852592Z"
    },
    "papermill": {
     "duration": 0.11016,
     "end_time": "2022-06-12T08:49:34.855040",
     "exception": false,
     "start_time": "2022-06-12T08:49:34.744880",
     "status": "completed"
    },
    "tags": []
   },
   "outputs": [],
   "source": [
    "submission_from_test.to_csv(\"without tta 0.0524.csv\",index=False)"
   ]
  },
  {
   "cell_type": "code",
   "execution_count": 24,
   "id": "9cb8b305",
   "metadata": {
    "execution": {
     "iopub.execute_input": "2022-06-12T08:49:35.036144Z",
     "iopub.status.busy": "2022-06-12T08:49:35.035907Z",
     "iopub.status.idle": "2022-06-12T08:49:35.047753Z",
     "shell.execute_reply": "2022-06-12T08:49:35.046938Z"
    },
    "papermill": {
     "duration": 0.103663,
     "end_time": "2022-06-12T08:49:35.049807",
     "exception": false,
     "start_time": "2022-06-12T08:49:34.946144",
     "status": "completed"
    },
    "tags": []
   },
   "outputs": [
    {
     "name": "stderr",
     "output_type": "stream",
     "text": [
      "/opt/conda/lib/python3.7/site-packages/numpy/lib/npyio.py:528: FutureWarning: The input object of type 'TensorImage' is an array-like implementing one of the corresponding protocols (`__array__`, `__array_interface__` or `__array_struct__`); but not a sequence (or 0-D). In the future, this object will be coerced as if it was first converted using `np.array(obj)`. To retain the old behaviour, you have to either modify the type 'TensorImage', or assign to an empty array created with `np.empty(correct_shape, dtype=object)`.\n",
      "  arr = np.asanyarray(arr)\n",
      "/opt/conda/lib/python3.7/site-packages/numpy/lib/npyio.py:528: VisibleDeprecationWarning: Creating an ndarray from ragged nested sequences (which is a list-or-tuple of lists-or-tuples-or ndarrays with different lengths or shapes) is deprecated. If you meant to do this, you must specify 'dtype=object' when creating the ndarray.\n",
      "  arr = np.asanyarray(arr)\n"
     ]
    }
   ],
   "source": [
    "np.save('y_pred_tot.npy', y_pred_tot)"
   ]
  },
  {
   "cell_type": "code",
   "execution_count": 25,
   "id": "21188ce4",
   "metadata": {
    "execution": {
     "iopub.execute_input": "2022-06-12T08:49:35.226729Z",
     "iopub.status.busy": "2022-06-12T08:49:35.226518Z",
     "iopub.status.idle": "2022-06-12T08:49:35.241926Z",
     "shell.execute_reply": "2022-06-12T08:49:35.241153Z"
    },
    "papermill": {
     "duration": 0.105758,
     "end_time": "2022-06-12T08:49:35.243658",
     "exception": false,
     "start_time": "2022-06-12T08:49:35.137900",
     "status": "completed"
    },
    "tags": []
   },
   "outputs": [
    {
     "data": {
      "text/html": [
       "<div>\n",
       "<style scoped>\n",
       "    .dataframe tbody tr th:only-of-type {\n",
       "        vertical-align: middle;\n",
       "    }\n",
       "\n",
       "    .dataframe tbody tr th {\n",
       "        vertical-align: top;\n",
       "    }\n",
       "\n",
       "    .dataframe thead th {\n",
       "        text-align: right;\n",
       "    }\n",
       "</style>\n",
       "<table border=\"1\" class=\"dataframe\">\n",
       "  <thead>\n",
       "    <tr style=\"text-align: right;\">\n",
       "      <th></th>\n",
       "      <th>Image_id</th>\n",
       "      <th>blast</th>\n",
       "      <th>brown</th>\n",
       "      <th>healthy</th>\n",
       "    </tr>\n",
       "  </thead>\n",
       "  <tbody>\n",
       "    <tr>\n",
       "      <th>0</th>\n",
       "      <td>id_00vl5wvxq3.jpg</td>\n",
       "      <td>0.0</td>\n",
       "      <td>0.0</td>\n",
       "      <td>0.0</td>\n",
       "    </tr>\n",
       "    <tr>\n",
       "      <th>1</th>\n",
       "      <td>id_01hu05mtch.jpg</td>\n",
       "      <td>0.0</td>\n",
       "      <td>0.0</td>\n",
       "      <td>0.0</td>\n",
       "    </tr>\n",
       "    <tr>\n",
       "      <th>2</th>\n",
       "      <td>id_030ln10ewn.jpg</td>\n",
       "      <td>0.0</td>\n",
       "      <td>0.0</td>\n",
       "      <td>0.0</td>\n",
       "    </tr>\n",
       "    <tr>\n",
       "      <th>3</th>\n",
       "      <td>id_03z57m8xht.jpg</td>\n",
       "      <td>0.0</td>\n",
       "      <td>0.0</td>\n",
       "      <td>0.0</td>\n",
       "    </tr>\n",
       "    <tr>\n",
       "      <th>4</th>\n",
       "      <td>id_04ngep1w4b.jpg</td>\n",
       "      <td>0.0</td>\n",
       "      <td>0.0</td>\n",
       "      <td>0.0</td>\n",
       "    </tr>\n",
       "    <tr>\n",
       "      <th>...</th>\n",
       "      <td>...</td>\n",
       "      <td>...</td>\n",
       "      <td>...</td>\n",
       "      <td>...</td>\n",
       "    </tr>\n",
       "    <tr>\n",
       "      <th>1140</th>\n",
       "      <td>id_zrdlgjrq3r.jpg</td>\n",
       "      <td>0.0</td>\n",
       "      <td>0.0</td>\n",
       "      <td>0.0</td>\n",
       "    </tr>\n",
       "    <tr>\n",
       "      <th>1141</th>\n",
       "      <td>id_zsfayxwipp.jpg</td>\n",
       "      <td>0.0</td>\n",
       "      <td>0.0</td>\n",
       "      <td>0.0</td>\n",
       "    </tr>\n",
       "    <tr>\n",
       "      <th>1142</th>\n",
       "      <td>id_ztvp2l9k3h.jpg</td>\n",
       "      <td>0.0</td>\n",
       "      <td>0.0</td>\n",
       "      <td>0.0</td>\n",
       "    </tr>\n",
       "    <tr>\n",
       "      <th>1143</th>\n",
       "      <td>id_zwwcma7hlt.jpg</td>\n",
       "      <td>0.0</td>\n",
       "      <td>0.0</td>\n",
       "      <td>0.0</td>\n",
       "    </tr>\n",
       "    <tr>\n",
       "      <th>1144</th>\n",
       "      <td>id_zyo7m4fj8h.jpg</td>\n",
       "      <td>0.0</td>\n",
       "      <td>0.0</td>\n",
       "      <td>0.0</td>\n",
       "    </tr>\n",
       "  </tbody>\n",
       "</table>\n",
       "<p>1145 rows × 4 columns</p>\n",
       "</div>"
      ],
      "text/plain": [
       "               Image_id  blast  brown  healthy\n",
       "0     id_00vl5wvxq3.jpg    0.0    0.0      0.0\n",
       "1     id_01hu05mtch.jpg    0.0    0.0      0.0\n",
       "2     id_030ln10ewn.jpg    0.0    0.0      0.0\n",
       "3     id_03z57m8xht.jpg    0.0    0.0      0.0\n",
       "4     id_04ngep1w4b.jpg    0.0    0.0      0.0\n",
       "...                 ...    ...    ...      ...\n",
       "1140  id_zrdlgjrq3r.jpg    0.0    0.0      0.0\n",
       "1141  id_zsfayxwipp.jpg    0.0    0.0      0.0\n",
       "1142  id_ztvp2l9k3h.jpg    0.0    0.0      0.0\n",
       "1143  id_zwwcma7hlt.jpg    0.0    0.0      0.0\n",
       "1144  id_zyo7m4fj8h.jpg    0.0    0.0      0.0\n",
       "\n",
       "[1145 rows x 4 columns]"
      ]
     },
     "execution_count": 25,
     "metadata": {},
     "output_type": "execute_result"
    }
   ],
   "source": [
    "submission\n"
   ]
  },
  {
   "cell_type": "code",
   "execution_count": null,
   "id": "6e11ad04",
   "metadata": {
    "papermill": {
     "duration": 0.088681,
     "end_time": "2022-06-12T08:49:35.428542",
     "exception": false,
     "start_time": "2022-06-12T08:49:35.339861",
     "status": "completed"
    },
    "tags": []
   },
   "outputs": [],
   "source": []
  }
 ],
 "metadata": {
  "kernelspec": {
   "display_name": "Python 3",
   "language": "python",
   "name": "python3"
  },
  "language_info": {
   "codemirror_mode": {
    "name": "ipython",
    "version": 3
   },
   "file_extension": ".py",
   "mimetype": "text/x-python",
   "name": "python",
   "nbconvert_exporter": "python",
   "pygments_lexer": "ipython3",
   "version": "3.7.12"
  },
  "papermill": {
   "default_parameters": {},
   "duration": 35775.722731,
   "end_time": "2022-06-12T08:49:38.768815",
   "environment_variables": {},
   "exception": null,
   "input_path": "__notebook__.ipynb",
   "output_path": "__notebook__.ipynb",
   "parameters": {},
   "start_time": "2022-06-11T22:53:23.046084",
   "version": "2.3.4"
  }
 },
 "nbformat": 4,
 "nbformat_minor": 5
}