{
 "cells": [
  {
   "cell_type": "code",
   "execution_count": 1,
   "id": "5c704e44",
   "metadata": {
    "_cell_guid": "b1076dfc-b9ad-4769-8c92-a6c4dae69d19",
    "_uuid": "8f2839f25d086af736a60e9eeb907d3b93b6e0e5",
    "execution": {
     "iopub.execute_input": "2022-06-11T10:40:07.836054Z",
     "iopub.status.busy": "2022-06-11T10:40:07.835646Z",
     "iopub.status.idle": "2022-06-11T10:40:07.846537Z",
     "shell.execute_reply": "2022-06-11T10:40:07.845886Z"
    },
    "papermill": {
     "duration": 0.037618,
     "end_time": "2022-06-11T10:40:07.848430",
     "exception": false,
     "start_time": "2022-06-11T10:40:07.810812",
     "status": "completed"
    },
    "tags": []
   },
   "outputs": [],
   "source": [
    "import pandas as pd"
   ]
  },
  {
   "cell_type": "code",
   "execution_count": 2,
   "id": "53bdfa57",
   "metadata": {
    "execution": {
     "iopub.execute_input": "2022-06-11T10:40:07.893761Z",
     "iopub.status.busy": "2022-06-11T10:40:07.893169Z",
     "iopub.status.idle": "2022-06-11T10:40:23.331025Z",
     "shell.execute_reply": "2022-06-11T10:40:23.330206Z"
    },
    "papermill": {
     "duration": 15.462144,
     "end_time": "2022-06-11T10:40:23.333172",
     "exception": false,
     "start_time": "2022-06-11T10:40:07.871028",
     "status": "completed"
    },
    "tags": []
   },
   "outputs": [
    {
     "name": "stdout",
     "output_type": "stream",
     "text": [
      "Collecting efficientnet-pytorch\r\n",
      "  Downloading efficientnet_pytorch-0.7.1.tar.gz (21 kB)\r\n",
      "  Preparing metadata (setup.py) ... \u001B[?25l-\b \bdone\r\n",
      "\u001B[?25hRequirement already satisfied: torch in /opt/conda/lib/python3.7/site-packages (from efficientnet-pytorch) (1.11.0)\r\n",
      "Requirement already satisfied: typing-extensions in /opt/conda/lib/python3.7/site-packages (from torch->efficientnet-pytorch) (4.2.0)\r\n",
      "Building wheels for collected packages: efficientnet-pytorch\r\n",
      "  Building wheel for efficientnet-pytorch (setup.py) ... \u001B[?25l-\b \b\\\b \bdone\r\n",
      "\u001B[?25h  Created wheel for efficientnet-pytorch: filename=efficientnet_pytorch-0.7.1-py3-none-any.whl size=16446 sha256=fe494bd3f520a5ee42d956239f8e72c898eb6fbd5618705b01e31f0d6b91afe4\r\n",
      "  Stored in directory: /root/.cache/pip/wheels/0e/cc/b2/49e74588263573ff778da58cc99b9c6349b496636a7e165be6\r\n",
      "Successfully built efficientnet-pytorch\r\n",
      "Installing collected packages: efficientnet-pytorch\r\n",
      "Successfully installed efficientnet-pytorch-0.7.1\r\n",
      "\u001B[33mWARNING: Running pip as the 'root' user can result in broken permissions and conflicting behaviour with the system package manager. It is recommended to use a virtual environment instead: https://pip.pypa.io/warnings/venv\u001B[0m\u001B[33m\r\n",
      "\u001B[0m"
     ]
    }
   ],
   "source": [
    "!pip install efficientnet-pytorch\n",
    "from efficientnet_pytorch import EfficientNet "
   ]
  },
  {
   "cell_type": "code",
   "execution_count": 3,
   "id": "ca3cde82",
   "metadata": {
    "execution": {
     "iopub.execute_input": "2022-06-11T10:40:23.383439Z",
     "iopub.status.busy": "2022-06-11T10:40:23.382840Z",
     "iopub.status.idle": "2022-06-11T10:40:53.499764Z",
     "shell.execute_reply": "2022-06-11T10:40:53.498921Z"
    },
    "papermill": {
     "duration": 30.1438,
     "end_time": "2022-06-11T10:40:53.501910",
     "exception": false,
     "start_time": "2022-06-11T10:40:23.358110",
     "status": "completed"
    },
    "tags": []
   },
   "outputs": [
    {
     "name": "stdout",
     "output_type": "stream",
     "text": [
      "\u001B[31mERROR: pip's dependency resolver does not currently take into account all the packages that are installed. This behaviour is the source of the following dependency conflicts.\r\n",
      "tensorflow-io 0.21.0 requires tensorflow-io-gcs-filesystem==0.21.0, which is not installed.\r\n",
      "tensorflow 2.6.3 requires absl-py~=0.10, but you have absl-py 1.0.0 which is incompatible.\r\n",
      "tensorflow 2.6.3 requires numpy~=1.19.2, but you have numpy 1.21.6 which is incompatible.\r\n",
      "tensorflow 2.6.3 requires six~=1.15.0, but you have six 1.16.0 which is incompatible.\r\n",
      "tensorflow 2.6.3 requires wrapt~=1.12.1, but you have wrapt 1.14.0 which is incompatible.\r\n",
      "tensorflow-transform 1.7.0 requires pyarrow<6,>=1, but you have pyarrow 7.0.0 which is incompatible.\r\n",
      "tensorflow-transform 1.7.0 requires tensorflow!=2.0.*,!=2.1.*,!=2.2.*,!=2.3.*,!=2.4.*,!=2.5.*,!=2.6.*,!=2.7.*,<2.9,>=1.15.5, but you have tensorflow 2.6.3 which is incompatible.\r\n",
      "tensorflow-serving-api 2.8.0 requires tensorflow<3,>=2.8.0, but you have tensorflow 2.6.3 which is incompatible.\r\n",
      "rich 12.4.1 requires typing-extensions<5.0,>=4.0.0; python_version < \"3.9\", but you have typing-extensions 3.10.0.2 which is incompatible.\r\n",
      "pytorch-lightning 1.6.3 requires typing-extensions>=4.0.0, but you have typing-extensions 3.10.0.2 which is incompatible.\r\n",
      "pytools 2022.1.7 requires typing-extensions>=4.0; python_version < \"3.11\", but you have typing-extensions 3.10.0.2 which is incompatible.\r\n",
      "flax 0.4.2 requires typing-extensions>=4.1.1, but you have typing-extensions 3.10.0.2 which is incompatible.\r\n",
      "flake8 4.0.1 requires importlib-metadata<4.3; python_version < \"3.8\", but you have importlib-metadata 4.11.3 which is incompatible.\r\n",
      "apache-beam 2.37.0 requires dill<0.3.2,>=0.3.1.1, but you have dill 0.3.4 which is incompatible.\r\n",
      "apache-beam 2.37.0 requires httplib2<0.20.0,>=0.8, but you have httplib2 0.20.4 which is incompatible.\r\n",
      "apache-beam 2.37.0 requires pyarrow<7.0.0,>=0.15.1, but you have pyarrow 7.0.0 which is incompatible.\r\n",
      "aioitertools 0.10.0 requires typing_extensions>=4.0; python_version < \"3.10\", but you have typing-extensions 3.10.0.2 which is incompatible.\r\n",
      "aiobotocore 2.2.0 requires botocore<1.24.22,>=1.24.21, but you have botocore 1.25.12 which is incompatible.\u001B[0m\u001B[31m\r\n",
      "\u001B[0m\u001B[33mWARNING: Running pip as the 'root' user can result in broken permissions and conflicting behaviour with the system package manager. It is recommended to use a virtual environment instead: https://pip.pypa.io/warnings/venv\u001B[0m\u001B[33m\r\n",
      "\u001B[0mRequirement already satisfied: torch in /opt/conda/lib/python3.7/site-packages (1.11.0)\r\n",
      "Requirement already satisfied: typing-extensions in /opt/conda/lib/python3.7/site-packages (from torch) (3.10.0.2)\r\n",
      "\u001B[33mWARNING: Running pip as the 'root' user can result in broken permissions and conflicting behaviour with the system package manager. It is recommended to use a virtual environment instead: https://pip.pypa.io/warnings/venv\u001B[0m\u001B[33m\r\n",
      "\u001B[0m"
     ]
    }
   ],
   "source": [
    "!pip install -q --upgrade fastcore fastai\n",
    "!pip install --upgrade torch"
   ]
  },
  {
   "cell_type": "code",
   "execution_count": 4,
   "id": "fec00ef7",
   "metadata": {
    "execution": {
     "iopub.execute_input": "2022-06-11T10:40:53.555379Z",
     "iopub.status.busy": "2022-06-11T10:40:53.554708Z",
     "iopub.status.idle": "2022-06-11T10:40:53.561895Z",
     "shell.execute_reply": "2022-06-11T10:40:53.561187Z"
    },
    "papermill": {
     "duration": 0.035688,
     "end_time": "2022-06-11T10:40:53.563654",
     "exception": false,
     "start_time": "2022-06-11T10:40:53.527966",
     "status": "completed"
    },
    "tags": []
   },
   "outputs": [],
   "source": [
    "import random \n",
    "import numpy as np\n",
    "import torch\n",
    "    \n",
    "def random_seed(dls,seed_value):\n",
    "    random.seed(seed_value)\n",
    "    os.environ['PYTHONHASHSEED'] = str(seed_value)\n",
    "    np.random.seed(seed_value)\n",
    "    torch.manual_seed(seed_value)\n",
    "    torch.cuda.manual_seed(seed_value)\n",
    "    torch.cuda.manual_seed_all(seed_value) # if you are using multi-GPU.\n",
    "    torch.backends.cudnn.benchmark = False\n",
    "    torch.backends.cudnn.deterministic = True\n",
    "    dls.rng.seed(seed_value)\n",
    "    if torch.cuda.is_available(): \n",
    "        torch.cuda.manual_seed(seed_value)\n",
    "        torch.cuda.manual_seed_all(seed_value) # gpu vars\n",
    "        torch.backends.cudnn.deterministic = True  #needed\n",
    "        torch.backends.cudnn.benchmark = False"
   ]
  },
  {
   "cell_type": "code",
   "execution_count": 5,
   "id": "852d862c",
   "metadata": {
    "execution": {
     "iopub.execute_input": "2022-06-11T10:40:53.617685Z",
     "iopub.status.busy": "2022-06-11T10:40:53.617489Z",
     "iopub.status.idle": "2022-06-11T10:40:55.079635Z",
     "shell.execute_reply": "2022-06-11T10:40:55.078920Z"
    },
    "papermill": {
     "duration": 1.492597,
     "end_time": "2022-06-11T10:40:55.081681",
     "exception": false,
     "start_time": "2022-06-11T10:40:53.589084",
     "status": "completed"
    },
    "tags": []
   },
   "outputs": [],
   "source": [
    "from fastai.vision.all import *\n",
    "pd.options.mode.chained_assignment = None\n",
    "train = pd.read_csv('../input/csv-files-for-microsoft-rice-disease/Train.csv')\n",
    "test = pd.read_csv('../input/csv-files-for-microsoft-rice-disease/Test.csv')\n",
    "submission = pd.read_csv(\"../input/csv-files-for-microsoft-rice-disease/SampleSubmission.csv\")"
   ]
  },
  {
   "cell_type": "code",
   "execution_count": 6,
   "id": "56e361ef",
   "metadata": {
    "execution": {
     "iopub.execute_input": "2022-06-11T10:40:55.133789Z",
     "iopub.status.busy": "2022-06-11T10:40:55.133153Z",
     "iopub.status.idle": "2022-06-11T10:40:55.150509Z",
     "shell.execute_reply": "2022-06-11T10:40:55.149853Z"
    },
    "papermill": {
     "duration": 0.04489,
     "end_time": "2022-06-11T10:40:55.152233",
     "exception": false,
     "start_time": "2022-06-11T10:40:55.107343",
     "status": "completed"
    },
    "tags": []
   },
   "outputs": [
    {
     "data": {
      "text/html": [
       "<div>\n",
       "<style scoped>\n",
       "    .dataframe tbody tr th:only-of-type {\n",
       "        vertical-align: middle;\n",
       "    }\n",
       "\n",
       "    .dataframe tbody tr th {\n",
       "        vertical-align: top;\n",
       "    }\n",
       "\n",
       "    .dataframe thead th {\n",
       "        text-align: right;\n",
       "    }\n",
       "</style>\n",
       "<table border=\"1\" class=\"dataframe\">\n",
       "  <thead>\n",
       "    <tr style=\"text-align: right;\">\n",
       "      <th></th>\n",
       "      <th>Image_id</th>\n",
       "      <th>Label</th>\n",
       "    </tr>\n",
       "  </thead>\n",
       "  <tbody>\n",
       "    <tr>\n",
       "      <th>0</th>\n",
       "      <td>id_004wknd7qd.jpg</td>\n",
       "      <td>blast</td>\n",
       "    </tr>\n",
       "    <tr>\n",
       "      <th>1</th>\n",
       "      <td>id_004wknd7qd_rgn.jpg</td>\n",
       "      <td>blast</td>\n",
       "    </tr>\n",
       "    <tr>\n",
       "      <th>2</th>\n",
       "      <td>id_005sitfgr2.jpg</td>\n",
       "      <td>brown</td>\n",
       "    </tr>\n",
       "    <tr>\n",
       "      <th>3</th>\n",
       "      <td>id_005sitfgr2_rgn.jpg</td>\n",
       "      <td>brown</td>\n",
       "    </tr>\n",
       "    <tr>\n",
       "      <th>4</th>\n",
       "      <td>id_00stp9t6m6.jpg</td>\n",
       "      <td>blast</td>\n",
       "    </tr>\n",
       "    <tr>\n",
       "      <th>...</th>\n",
       "      <td>...</td>\n",
       "      <td>...</td>\n",
       "    </tr>\n",
       "    <tr>\n",
       "      <th>5335</th>\n",
       "      <td>id_zz6gzk7p97_rgn.jpg</td>\n",
       "      <td>brown</td>\n",
       "    </tr>\n",
       "    <tr>\n",
       "      <th>5336</th>\n",
       "      <td>id_zz8ca2p67e.jpg</td>\n",
       "      <td>blast</td>\n",
       "    </tr>\n",
       "    <tr>\n",
       "      <th>5337</th>\n",
       "      <td>id_zz8ca2p67e_rgn.jpg</td>\n",
       "      <td>blast</td>\n",
       "    </tr>\n",
       "    <tr>\n",
       "      <th>5338</th>\n",
       "      <td>id_zzt8y9q0x0.jpg</td>\n",
       "      <td>brown</td>\n",
       "    </tr>\n",
       "    <tr>\n",
       "      <th>5339</th>\n",
       "      <td>id_zzt8y9q0x0_rgn.jpg</td>\n",
       "      <td>brown</td>\n",
       "    </tr>\n",
       "  </tbody>\n",
       "</table>\n",
       "<p>5340 rows × 2 columns</p>\n",
       "</div>"
      ],
      "text/plain": [
       "                   Image_id  Label\n",
       "0         id_004wknd7qd.jpg  blast\n",
       "1     id_004wknd7qd_rgn.jpg  blast\n",
       "2         id_005sitfgr2.jpg  brown\n",
       "3     id_005sitfgr2_rgn.jpg  brown\n",
       "4         id_00stp9t6m6.jpg  blast\n",
       "...                     ...    ...\n",
       "5335  id_zz6gzk7p97_rgn.jpg  brown\n",
       "5336      id_zz8ca2p67e.jpg  blast\n",
       "5337  id_zz8ca2p67e_rgn.jpg  blast\n",
       "5338      id_zzt8y9q0x0.jpg  brown\n",
       "5339  id_zzt8y9q0x0_rgn.jpg  brown\n",
       "\n",
       "[5340 rows x 2 columns]"
      ]
     },
     "execution_count": 6,
     "metadata": {},
     "output_type": "execute_result"
    }
   ],
   "source": [
    "train"
   ]
  },
  {
   "cell_type": "code",
   "execution_count": 7,
   "id": "8e2b6447",
   "metadata": {
    "execution": {
     "iopub.execute_input": "2022-06-11T10:40:55.204397Z",
     "iopub.status.busy": "2022-06-11T10:40:55.204203Z",
     "iopub.status.idle": "2022-06-11T10:40:55.215461Z",
     "shell.execute_reply": "2022-06-11T10:40:55.214544Z"
    },
    "papermill": {
     "duration": 0.039102,
     "end_time": "2022-06-11T10:40:55.217064",
     "exception": false,
     "start_time": "2022-06-11T10:40:55.177962",
     "status": "completed"
    },
    "tags": []
   },
   "outputs": [
    {
     "data": {
      "text/plain": [
       "array(['blast', 'brown', 'healthy'], dtype=object)"
      ]
     },
     "execution_count": 7,
     "metadata": {},
     "output_type": "execute_result"
    }
   ],
   "source": [
    "unique_label = train['Label'].unique()\n",
    "unique_label"
   ]
  },
  {
   "cell_type": "code",
   "execution_count": 8,
   "id": "65e17f50",
   "metadata": {
    "execution": {
     "iopub.execute_input": "2022-06-11T10:40:55.270026Z",
     "iopub.status.busy": "2022-06-11T10:40:55.269817Z",
     "iopub.status.idle": "2022-06-11T10:40:55.278379Z",
     "shell.execute_reply": "2022-06-11T10:40:55.277725Z"
    },
    "papermill": {
     "duration": 0.036825,
     "end_time": "2022-06-11T10:40:55.279966",
     "exception": false,
     "start_time": "2022-06-11T10:40:55.243141",
     "status": "completed"
    },
    "tags": []
   },
   "outputs": [
    {
     "data": {
      "text/plain": [
       "blast      2988\n",
       "brown      1532\n",
       "healthy     820\n",
       "Name: Label, dtype: int64"
      ]
     },
     "execution_count": 8,
     "metadata": {},
     "output_type": "execute_result"
    }
   ],
   "source": [
    "train['Label'].value_counts()"
   ]
  },
  {
   "cell_type": "code",
   "execution_count": 9,
   "id": "9bc831ce",
   "metadata": {
    "execution": {
     "iopub.execute_input": "2022-06-11T10:40:55.333869Z",
     "iopub.status.busy": "2022-06-11T10:40:55.333315Z",
     "iopub.status.idle": "2022-06-11T10:40:55.345597Z",
     "shell.execute_reply": "2022-06-11T10:40:55.345009Z"
    },
    "papermill": {
     "duration": 0.041164,
     "end_time": "2022-06-11T10:40:55.347346",
     "exception": false,
     "start_time": "2022-06-11T10:40:55.306182",
     "status": "completed"
    },
    "tags": []
   },
   "outputs": [],
   "source": [
    "train = train[~train.Image_id.str.contains('_rgn')]\n",
    "train.reset_index(inplace=True,drop=True)\n",
    "test = test[~test.Image_id.str.contains('_rgn')]\n",
    "test.reset_index(inplace=True,drop=True)"
   ]
  },
  {
   "cell_type": "code",
   "execution_count": 10,
   "id": "9a25c823",
   "metadata": {
    "execution": {
     "iopub.execute_input": "2022-06-11T10:40:55.400797Z",
     "iopub.status.busy": "2022-06-11T10:40:55.400603Z",
     "iopub.status.idle": "2022-06-11T10:40:55.405584Z",
     "shell.execute_reply": "2022-06-11T10:40:55.404940Z"
    },
    "papermill": {
     "duration": 0.033442,
     "end_time": "2022-06-11T10:40:55.407169",
     "exception": false,
     "start_time": "2022-06-11T10:40:55.373727",
     "status": "completed"
    },
    "tags": []
   },
   "outputs": [],
   "source": [
    "from sklearn import preprocessing\n",
    "le = preprocessing.LabelEncoder()\n",
    "train['Label']=le.fit_transform(train['Label'])"
   ]
  },
  {
   "cell_type": "code",
   "execution_count": 11,
   "id": "4549ce87",
   "metadata": {
    "execution": {
     "iopub.execute_input": "2022-06-11T10:40:55.461333Z",
     "iopub.status.busy": "2022-06-11T10:40:55.461150Z",
     "iopub.status.idle": "2022-06-11T10:40:55.507498Z",
     "shell.execute_reply": "2022-06-11T10:40:55.506767Z"
    },
    "papermill": {
     "duration": 0.075854,
     "end_time": "2022-06-11T10:40:55.509169",
     "exception": false,
     "start_time": "2022-06-11T10:40:55.433315",
     "status": "completed"
    },
    "tags": []
   },
   "outputs": [
    {
     "data": {
      "text/plain": [
       "(1500, 2000)"
      ]
     },
     "execution_count": 11,
     "metadata": {},
     "output_type": "execute_result"
    }
   ],
   "source": [
    "img=Image.open('../input/microsoft-rice-disease-classification-challenge/id_004wknd7qd_rgn.jpg') # View one image and check the files are present\n",
    "img.shape"
   ]
  },
  {
   "cell_type": "code",
   "execution_count": 12,
   "id": "755e2d75",
   "metadata": {
    "execution": {
     "iopub.execute_input": "2022-06-11T10:40:55.564153Z",
     "iopub.status.busy": "2022-06-11T10:40:55.563769Z",
     "iopub.status.idle": "2022-06-11T10:40:55.680471Z",
     "shell.execute_reply": "2022-06-11T10:40:55.679828Z"
    },
    "papermill": {
     "duration": 0.146293,
     "end_time": "2022-06-11T10:40:55.682126",
     "exception": false,
     "start_time": "2022-06-11T10:40:55.535833",
     "status": "completed"
    },
    "tags": []
   },
   "outputs": [
    {
     "data": {
      "text/plain": [
       "133"
      ]
     },
     "execution_count": 12,
     "metadata": {},
     "output_type": "execute_result"
    }
   ],
   "source": [
    "import torch\n",
    "torch.cuda.empty_cache()\n",
    "torch.cuda.memory_allocated()\n",
    "import gc; gc.collect()"
   ]
  },
  {
   "cell_type": "code",
   "execution_count": 13,
   "id": "ec3a5cf6",
   "metadata": {
    "execution": {
     "iopub.execute_input": "2022-06-11T10:40:55.737640Z",
     "iopub.status.busy": "2022-06-11T10:40:55.737116Z",
     "iopub.status.idle": "2022-06-11T10:40:56.438641Z",
     "shell.execute_reply": "2022-06-11T10:40:56.437811Z"
    },
    "papermill": {
     "duration": 0.731608,
     "end_time": "2022-06-11T10:40:56.440838",
     "exception": false,
     "start_time": "2022-06-11T10:40:55.709230",
     "status": "completed"
    },
    "tags": []
   },
   "outputs": [
    {
     "name": "stdout",
     "output_type": "stream",
     "text": [
      "Sat Jun 11 10:40:56 2022       \r\n",
      "+-----------------------------------------------------------------------------+\r\n",
      "| NVIDIA-SMI 470.82.01    Driver Version: 470.82.01    CUDA Version: 11.4     |\r\n",
      "|-------------------------------+----------------------+----------------------+\r\n",
      "| GPU  Name        Persistence-M| Bus-Id        Disp.A | Volatile Uncorr. ECC |\r\n",
      "| Fan  Temp  Perf  Pwr:Usage/Cap|         Memory-Usage | GPU-Util  Compute M. |\r\n",
      "|                               |                      |               MIG M. |\r\n",
      "|===============================+======================+======================|\r\n",
      "|   0  Tesla P100-PCIE...  Off  | 00000000:00:04.0 Off |                    0 |\r\n",
      "| N/A   37C    P0    27W / 250W |      2MiB / 16280MiB |      0%      Default |\r\n",
      "|                               |                      |                  N/A |\r\n",
      "+-------------------------------+----------------------+----------------------+\r\n",
      "                                                                               \r\n",
      "+-----------------------------------------------------------------------------+\r\n",
      "| Processes:                                                                  |\r\n",
      "|  GPU   GI   CI        PID   Type   Process name                  GPU Memory |\r\n",
      "|        ID   ID                                                   Usage      |\r\n",
      "|=============================================================================|\r\n",
      "|  No running processes found                                                 |\r\n",
      "+-----------------------------------------------------------------------------+\r\n"
     ]
    }
   ],
   "source": [
    "!nvidia-smi"
   ]
  },
  {
   "cell_type": "code",
   "execution_count": 14,
   "id": "78158455",
   "metadata": {
    "execution": {
     "iopub.execute_input": "2022-06-11T10:40:56.497347Z",
     "iopub.status.busy": "2022-06-11T10:40:56.497120Z",
     "iopub.status.idle": "2022-06-11T10:41:11.972629Z",
     "shell.execute_reply": "2022-06-11T10:41:11.971763Z"
    },
    "papermill": {
     "duration": 15.506094,
     "end_time": "2022-06-11T10:41:11.974966",
     "exception": false,
     "start_time": "2022-06-11T10:40:56.468872",
     "status": "completed"
    },
    "tags": []
   },
   "outputs": [
    {
     "name": "stdout",
     "output_type": "stream",
     "text": [
      "Collecting timm\r\n",
      "  Downloading timm-0.5.4-py3-none-any.whl (431 kB)\r\n",
      "\u001B[2K     \u001B[90m━━━━━━━━━━━━━━━━━━━━━━━━━━━━━━━━━━━━━\u001B[0m \u001B[32m431.5/431.5 KB\u001B[0m \u001B[31m697.6 kB/s\u001B[0m eta \u001B[36m0:00:00\u001B[0m\r\n",
      "\u001B[?25hRequirement already satisfied: torch>=1.4 in /opt/conda/lib/python3.7/site-packages (from timm) (1.11.0)\r\n",
      "Requirement already satisfied: torchvision in /opt/conda/lib/python3.7/site-packages (from timm) (0.12.0)\r\n",
      "Requirement already satisfied: typing-extensions in /opt/conda/lib/python3.7/site-packages (from torch>=1.4->timm) (3.10.0.2)\r\n",
      "Requirement already satisfied: pillow!=8.3.*,>=5.3.0 in /opt/conda/lib/python3.7/site-packages (from torchvision->timm) (9.0.1)\r\n",
      "Requirement already satisfied: requests in /opt/conda/lib/python3.7/site-packages (from torchvision->timm) (2.27.1)\r\n",
      "Requirement already satisfied: numpy in /opt/conda/lib/python3.7/site-packages (from torchvision->timm) (1.21.6)\r\n",
      "Requirement already satisfied: idna<4,>=2.5 in /opt/conda/lib/python3.7/site-packages (from requests->torchvision->timm) (3.3)\r\n",
      "Requirement already satisfied: charset-normalizer~=2.0.0 in /opt/conda/lib/python3.7/site-packages (from requests->torchvision->timm) (2.0.12)\r\n",
      "Requirement already satisfied: urllib3<1.27,>=1.21.1 in /opt/conda/lib/python3.7/site-packages (from requests->torchvision->timm) (1.26.8)\r\n",
      "Requirement already satisfied: certifi>=2017.4.17 in /opt/conda/lib/python3.7/site-packages (from requests->torchvision->timm) (2021.10.8)\r\n",
      "Installing collected packages: timm\r\n",
      "Successfully installed timm-0.5.4\r\n",
      "\u001B[33mWARNING: Running pip as the 'root' user can result in broken permissions and conflicting behaviour with the system package manager. It is recommended to use a virtual environment instead: https://pip.pypa.io/warnings/venv\u001B[0m\u001B[33m\r\n",
      "\u001B[0m"
     ]
    }
   ],
   "source": [
    "!pip install timm\n",
    "from timm import create_model"
   ]
  },
  {
   "cell_type": "code",
   "execution_count": 15,
   "id": "e86ef34d",
   "metadata": {
    "execution": {
     "iopub.execute_input": "2022-06-11T10:41:12.043392Z",
     "iopub.status.busy": "2022-06-11T10:41:12.043118Z",
     "iopub.status.idle": "2022-06-11T20:52:06.211768Z",
     "shell.execute_reply": "2022-06-11T20:52:06.210856Z"
    },
    "papermill": {
     "duration": 36654.204749,
     "end_time": "2022-06-11T20:52:06.213903",
     "exception": false,
     "start_time": "2022-06-11T10:41:12.009154",
     "status": "completed"
    },
    "scrolled": true,
    "tags": []
   },
   "outputs": [
    {
     "name": "stderr",
     "output_type": "stream",
     "text": [
      "/opt/conda/lib/python3.7/site-packages/torch/functional.py:568: UserWarning: torch.meshgrid: in an upcoming release, it will be required to pass the indexing argument. (Triggered internally at  /usr/local/src/pytorch/aten/src/ATen/native/TensorShape.cpp:2227.)\n",
      "  return _VF.meshgrid(tensors, **kwargs)  # type: ignore[attr-defined]\n",
      "Downloading: \"https://github.com/SwinTransformer/storage/releases/download/v1.0.0/swin_large_patch4_window12_384_22kto1k.pth\" to /root/.cache/torch/hub/checkpoints/swin_large_patch4_window12_384_22kto1k.pth\n"
     ]
    },
    {
     "data": {
      "text/html": [
       "\n",
       "<style>\n",
       "    /* Turns off some styling */\n",
       "    progress {\n",
       "        /* gets rid of default border in Firefox and Opera. */\n",
       "        border: none;\n",
       "        /* Needs to be in here for Safari polyfill so background images work as expected. */\n",
       "        background-size: auto;\n",
       "    }\n",
       "    .progress-bar-interrupted, .progress-bar-interrupted::-webkit-progress-bar {\n",
       "        background: #F44336;\n",
       "    }\n",
       "</style>\n"
      ],
      "text/plain": [
       "<IPython.core.display.HTML object>"
      ]
     },
     "metadata": {},
     "output_type": "display_data"
    },
    {
     "data": {
      "text/html": [],
      "text/plain": [
       "<IPython.core.display.HTML object>"
      ]
     },
     "metadata": {},
     "output_type": "display_data"
    },
    {
     "data": {
      "text/html": [
       "\n",
       "<style>\n",
       "    /* Turns off some styling */\n",
       "    progress {\n",
       "        /* gets rid of default border in Firefox and Opera. */\n",
       "        border: none;\n",
       "        /* Needs to be in here for Safari polyfill so background images work as expected. */\n",
       "        background-size: auto;\n",
       "    }\n",
       "    .progress-bar-interrupted, .progress-bar-interrupted::-webkit-progress-bar {\n",
       "        background: #F44336;\n",
       "    }\n",
       "</style>\n"
      ],
      "text/plain": [
       "<IPython.core.display.HTML object>"
      ]
     },
     "metadata": {},
     "output_type": "display_data"
    },
    {
     "data": {
      "text/html": [
       "<table border=\"1\" class=\"dataframe\">\n",
       "  <thead>\n",
       "    <tr style=\"text-align: left;\">\n",
       "      <th>epoch</th>\n",
       "      <th>train_loss</th>\n",
       "      <th>valid_loss</th>\n",
       "      <th>error_rate</th>\n",
       "      <th>accuracy</th>\n",
       "      <th>time</th>\n",
       "    </tr>\n",
       "  </thead>\n",
       "  <tbody>\n",
       "    <tr>\n",
       "      <td>0</td>\n",
       "      <td>0.449264</td>\n",
       "      <td>0.257072</td>\n",
       "      <td>0.078652</td>\n",
       "      <td>0.921348</td>\n",
       "      <td>05:19</td>\n",
       "    </tr>\n",
       "  </tbody>\n",
       "</table>"
      ],
      "text/plain": [
       "<IPython.core.display.HTML object>"
      ]
     },
     "metadata": {},
     "output_type": "display_data"
    },
    {
     "name": "stdout",
     "output_type": "stream",
     "text": [
      "Better model found at epoch 0 with valid_loss value: 0.2570720314979553.\n"
     ]
    },
    {
     "data": {
      "text/html": [
       "\n",
       "<style>\n",
       "    /* Turns off some styling */\n",
       "    progress {\n",
       "        /* gets rid of default border in Firefox and Opera. */\n",
       "        border: none;\n",
       "        /* Needs to be in here for Safari polyfill so background images work as expected. */\n",
       "        background-size: auto;\n",
       "    }\n",
       "    .progress-bar-interrupted, .progress-bar-interrupted::-webkit-progress-bar {\n",
       "        background: #F44336;\n",
       "    }\n",
       "</style>\n"
      ],
      "text/plain": [
       "<IPython.core.display.HTML object>"
      ]
     },
     "metadata": {},
     "output_type": "display_data"
    },
    {
     "data": {
      "text/html": [
       "<table border=\"1\" class=\"dataframe\">\n",
       "  <thead>\n",
       "    <tr style=\"text-align: left;\">\n",
       "      <th>epoch</th>\n",
       "      <th>train_loss</th>\n",
       "      <th>valid_loss</th>\n",
       "      <th>error_rate</th>\n",
       "      <th>accuracy</th>\n",
       "      <th>time</th>\n",
       "    </tr>\n",
       "  </thead>\n",
       "  <tbody>\n",
       "    <tr>\n",
       "      <td>0</td>\n",
       "      <td>0.285871</td>\n",
       "      <td>0.196237</td>\n",
       "      <td>0.069288</td>\n",
       "      <td>0.930712</td>\n",
       "      <td>05:21</td>\n",
       "    </tr>\n",
       "    <tr>\n",
       "      <td>1</td>\n",
       "      <td>0.225487</td>\n",
       "      <td>0.156537</td>\n",
       "      <td>0.063670</td>\n",
       "      <td>0.936330</td>\n",
       "      <td>05:21</td>\n",
       "    </tr>\n",
       "    <tr>\n",
       "      <td>2</td>\n",
       "      <td>0.211283</td>\n",
       "      <td>0.136751</td>\n",
       "      <td>0.050562</td>\n",
       "      <td>0.949438</td>\n",
       "      <td>05:21</td>\n",
       "    </tr>\n",
       "    <tr>\n",
       "      <td>3</td>\n",
       "      <td>0.156795</td>\n",
       "      <td>0.120233</td>\n",
       "      <td>0.050562</td>\n",
       "      <td>0.949438</td>\n",
       "      <td>05:21</td>\n",
       "    </tr>\n",
       "    <tr>\n",
       "      <td>4</td>\n",
       "      <td>0.144458</td>\n",
       "      <td>0.092388</td>\n",
       "      <td>0.029963</td>\n",
       "      <td>0.970037</td>\n",
       "      <td>05:21</td>\n",
       "    </tr>\n",
       "    <tr>\n",
       "      <td>5</td>\n",
       "      <td>0.084509</td>\n",
       "      <td>0.119639</td>\n",
       "      <td>0.041199</td>\n",
       "      <td>0.958802</td>\n",
       "      <td>05:21</td>\n",
       "    </tr>\n",
       "    <tr>\n",
       "      <td>6</td>\n",
       "      <td>0.091866</td>\n",
       "      <td>0.111341</td>\n",
       "      <td>0.033708</td>\n",
       "      <td>0.966292</td>\n",
       "      <td>05:22</td>\n",
       "    </tr>\n",
       "    <tr>\n",
       "      <td>7</td>\n",
       "      <td>0.075633</td>\n",
       "      <td>0.068702</td>\n",
       "      <td>0.022472</td>\n",
       "      <td>0.977528</td>\n",
       "      <td>05:22</td>\n",
       "    </tr>\n",
       "    <tr>\n",
       "      <td>8</td>\n",
       "      <td>0.059676</td>\n",
       "      <td>0.071996</td>\n",
       "      <td>0.020599</td>\n",
       "      <td>0.979401</td>\n",
       "      <td>05:21</td>\n",
       "    </tr>\n",
       "    <tr>\n",
       "      <td>9</td>\n",
       "      <td>0.090643</td>\n",
       "      <td>0.101031</td>\n",
       "      <td>0.035581</td>\n",
       "      <td>0.964419</td>\n",
       "      <td>05:22</td>\n",
       "    </tr>\n",
       "    <tr>\n",
       "      <td>10</td>\n",
       "      <td>0.044445</td>\n",
       "      <td>0.071991</td>\n",
       "      <td>0.020599</td>\n",
       "      <td>0.979401</td>\n",
       "      <td>05:22</td>\n",
       "    </tr>\n",
       "    <tr>\n",
       "      <td>11</td>\n",
       "      <td>0.040157</td>\n",
       "      <td>0.061144</td>\n",
       "      <td>0.016854</td>\n",
       "      <td>0.983146</td>\n",
       "      <td>05:22</td>\n",
       "    </tr>\n",
       "    <tr>\n",
       "      <td>12</td>\n",
       "      <td>0.012202</td>\n",
       "      <td>0.080915</td>\n",
       "      <td>0.018727</td>\n",
       "      <td>0.981273</td>\n",
       "      <td>05:22</td>\n",
       "    </tr>\n",
       "    <tr>\n",
       "      <td>13</td>\n",
       "      <td>0.012898</td>\n",
       "      <td>0.088127</td>\n",
       "      <td>0.018727</td>\n",
       "      <td>0.981273</td>\n",
       "      <td>05:22</td>\n",
       "    </tr>\n",
       "    <tr>\n",
       "      <td>14</td>\n",
       "      <td>0.032319</td>\n",
       "      <td>0.093649</td>\n",
       "      <td>0.026217</td>\n",
       "      <td>0.973783</td>\n",
       "      <td>05:21</td>\n",
       "    </tr>\n",
       "    <tr>\n",
       "      <td>15</td>\n",
       "      <td>0.008362</td>\n",
       "      <td>0.088991</td>\n",
       "      <td>0.022472</td>\n",
       "      <td>0.977528</td>\n",
       "      <td>05:21</td>\n",
       "    </tr>\n",
       "    <tr>\n",
       "      <td>16</td>\n",
       "      <td>0.003714</td>\n",
       "      <td>0.077954</td>\n",
       "      <td>0.016854</td>\n",
       "      <td>0.983146</td>\n",
       "      <td>05:21</td>\n",
       "    </tr>\n",
       "    <tr>\n",
       "      <td>17</td>\n",
       "      <td>0.007354</td>\n",
       "      <td>0.079642</td>\n",
       "      <td>0.018727</td>\n",
       "      <td>0.981273</td>\n",
       "      <td>05:21</td>\n",
       "    </tr>\n",
       "    <tr>\n",
       "      <td>18</td>\n",
       "      <td>0.017197</td>\n",
       "      <td>0.072375</td>\n",
       "      <td>0.016854</td>\n",
       "      <td>0.983146</td>\n",
       "      <td>05:21</td>\n",
       "    </tr>\n",
       "    <tr>\n",
       "      <td>19</td>\n",
       "      <td>0.009826</td>\n",
       "      <td>0.070910</td>\n",
       "      <td>0.016854</td>\n",
       "      <td>0.983146</td>\n",
       "      <td>05:22</td>\n",
       "    </tr>\n",
       "  </tbody>\n",
       "</table>"
      ],
      "text/plain": [
       "<IPython.core.display.HTML object>"
      ]
     },
     "metadata": {},
     "output_type": "display_data"
    },
    {
     "name": "stdout",
     "output_type": "stream",
     "text": [
      "Better model found at epoch 0 with valid_loss value: 0.1962365210056305.\n",
      "Better model found at epoch 1 with valid_loss value: 0.1565372496843338.\n",
      "Better model found at epoch 2 with valid_loss value: 0.13675080239772797.\n",
      "Better model found at epoch 3 with valid_loss value: 0.12023250013589859.\n",
      "Better model found at epoch 4 with valid_loss value: 0.09238844364881516.\n",
      "Better model found at epoch 7 with valid_loss value: 0.06870204955339432.\n",
      "Better model found at epoch 11 with valid_loss value: 0.06114393100142479.\n"
     ]
    },
    {
     "data": {
      "text/html": [
       "\n",
       "<style>\n",
       "    /* Turns off some styling */\n",
       "    progress {\n",
       "        /* gets rid of default border in Firefox and Opera. */\n",
       "        border: none;\n",
       "        /* Needs to be in here for Safari polyfill so background images work as expected. */\n",
       "        background-size: auto;\n",
       "    }\n",
       "    .progress-bar-interrupted, .progress-bar-interrupted::-webkit-progress-bar {\n",
       "        background: #F44336;\n",
       "    }\n",
       "</style>\n"
      ],
      "text/plain": [
       "<IPython.core.display.HTML object>"
      ]
     },
     "metadata": {},
     "output_type": "display_data"
    },
    {
     "data": {
      "text/html": [
       "\n",
       "    <div>\n",
       "      <progress value='0' class='' max='20' style='width:300px; height:20px; vertical-align: middle;'></progress>\n",
       "      \n",
       "    </div>\n",
       "    \n"
      ],
      "text/plain": [
       "<IPython.core.display.HTML object>"
      ]
     },
     "metadata": {},
     "output_type": "display_data"
    },
    {
     "data": {
      "text/html": [
       "\n",
       "<style>\n",
       "    /* Turns off some styling */\n",
       "    progress {\n",
       "        /* gets rid of default border in Firefox and Opera. */\n",
       "        border: none;\n",
       "        /* Needs to be in here for Safari polyfill so background images work as expected. */\n",
       "        background-size: auto;\n",
       "    }\n",
       "    .progress-bar-interrupted, .progress-bar-interrupted::-webkit-progress-bar {\n",
       "        background: #F44336;\n",
       "    }\n",
       "</style>\n"
      ],
      "text/plain": [
       "<IPython.core.display.HTML object>"
      ]
     },
     "metadata": {},
     "output_type": "display_data"
    },
    {
     "data": {
      "text/html": [],
      "text/plain": [
       "<IPython.core.display.HTML object>"
      ]
     },
     "metadata": {},
     "output_type": "display_data"
    },
    {
     "name": "stdout",
     "output_type": "stream",
     "text": [
      "0.055498897888639265\n"
     ]
    },
    {
     "data": {
      "text/html": [
       "\n",
       "<style>\n",
       "    /* Turns off some styling */\n",
       "    progress {\n",
       "        /* gets rid of default border in Firefox and Opera. */\n",
       "        border: none;\n",
       "        /* Needs to be in here for Safari polyfill so background images work as expected. */\n",
       "        background-size: auto;\n",
       "    }\n",
       "    .progress-bar-interrupted, .progress-bar-interrupted::-webkit-progress-bar {\n",
       "        background: #F44336;\n",
       "    }\n",
       "</style>\n"
      ],
      "text/plain": [
       "<IPython.core.display.HTML object>"
      ]
     },
     "metadata": {},
     "output_type": "display_data"
    },
    {
     "data": {
      "text/html": [
       "\n",
       "    <div>\n",
       "      <progress value='0' class='' max='20' style='width:300px; height:20px; vertical-align: middle;'></progress>\n",
       "      \n",
       "    </div>\n",
       "    \n"
      ],
      "text/plain": [
       "<IPython.core.display.HTML object>"
      ]
     },
     "metadata": {},
     "output_type": "display_data"
    },
    {
     "data": {
      "text/html": [
       "\n",
       "<style>\n",
       "    /* Turns off some styling */\n",
       "    progress {\n",
       "        /* gets rid of default border in Firefox and Opera. */\n",
       "        border: none;\n",
       "        /* Needs to be in here for Safari polyfill so background images work as expected. */\n",
       "        background-size: auto;\n",
       "    }\n",
       "    .progress-bar-interrupted, .progress-bar-interrupted::-webkit-progress-bar {\n",
       "        background: #F44336;\n",
       "    }\n",
       "</style>\n"
      ],
      "text/plain": [
       "<IPython.core.display.HTML object>"
      ]
     },
     "metadata": {},
     "output_type": "display_data"
    },
    {
     "data": {
      "text/html": [],
      "text/plain": [
       "<IPython.core.display.HTML object>"
      ]
     },
     "metadata": {},
     "output_type": "display_data"
    },
    {
     "name": "stdout",
     "output_type": "stream",
     "text": [
      "fold fineshed\n"
     ]
    },
    {
     "data": {
      "text/html": [
       "\n",
       "<style>\n",
       "    /* Turns off some styling */\n",
       "    progress {\n",
       "        /* gets rid of default border in Firefox and Opera. */\n",
       "        border: none;\n",
       "        /* Needs to be in here for Safari polyfill so background images work as expected. */\n",
       "        background-size: auto;\n",
       "    }\n",
       "    .progress-bar-interrupted, .progress-bar-interrupted::-webkit-progress-bar {\n",
       "        background: #F44336;\n",
       "    }\n",
       "</style>\n"
      ],
      "text/plain": [
       "<IPython.core.display.HTML object>"
      ]
     },
     "metadata": {},
     "output_type": "display_data"
    },
    {
     "data": {
      "text/html": [],
      "text/plain": [
       "<IPython.core.display.HTML object>"
      ]
     },
     "metadata": {},
     "output_type": "display_data"
    },
    {
     "data": {
      "text/html": [
       "\n",
       "<style>\n",
       "    /* Turns off some styling */\n",
       "    progress {\n",
       "        /* gets rid of default border in Firefox and Opera. */\n",
       "        border: none;\n",
       "        /* Needs to be in here for Safari polyfill so background images work as expected. */\n",
       "        background-size: auto;\n",
       "    }\n",
       "    .progress-bar-interrupted, .progress-bar-interrupted::-webkit-progress-bar {\n",
       "        background: #F44336;\n",
       "    }\n",
       "</style>\n"
      ],
      "text/plain": [
       "<IPython.core.display.HTML object>"
      ]
     },
     "metadata": {},
     "output_type": "display_data"
    },
    {
     "data": {
      "text/html": [
       "<table border=\"1\" class=\"dataframe\">\n",
       "  <thead>\n",
       "    <tr style=\"text-align: left;\">\n",
       "      <th>epoch</th>\n",
       "      <th>train_loss</th>\n",
       "      <th>valid_loss</th>\n",
       "      <th>error_rate</th>\n",
       "      <th>accuracy</th>\n",
       "      <th>time</th>\n",
       "    </tr>\n",
       "  </thead>\n",
       "  <tbody>\n",
       "    <tr>\n",
       "      <td>0</td>\n",
       "      <td>0.473062</td>\n",
       "      <td>0.452837</td>\n",
       "      <td>0.177903</td>\n",
       "      <td>0.822097</td>\n",
       "      <td>05:21</td>\n",
       "    </tr>\n",
       "  </tbody>\n",
       "</table>"
      ],
      "text/plain": [
       "<IPython.core.display.HTML object>"
      ]
     },
     "metadata": {},
     "output_type": "display_data"
    },
    {
     "name": "stdout",
     "output_type": "stream",
     "text": [
      "Better model found at epoch 0 with valid_loss value: 0.45283713936805725.\n"
     ]
    },
    {
     "data": {
      "text/html": [
       "\n",
       "<style>\n",
       "    /* Turns off some styling */\n",
       "    progress {\n",
       "        /* gets rid of default border in Firefox and Opera. */\n",
       "        border: none;\n",
       "        /* Needs to be in here for Safari polyfill so background images work as expected. */\n",
       "        background-size: auto;\n",
       "    }\n",
       "    .progress-bar-interrupted, .progress-bar-interrupted::-webkit-progress-bar {\n",
       "        background: #F44336;\n",
       "    }\n",
       "</style>\n"
      ],
      "text/plain": [
       "<IPython.core.display.HTML object>"
      ]
     },
     "metadata": {},
     "output_type": "display_data"
    },
    {
     "data": {
      "text/html": [
       "<table border=\"1\" class=\"dataframe\">\n",
       "  <thead>\n",
       "    <tr style=\"text-align: left;\">\n",
       "      <th>epoch</th>\n",
       "      <th>train_loss</th>\n",
       "      <th>valid_loss</th>\n",
       "      <th>error_rate</th>\n",
       "      <th>accuracy</th>\n",
       "      <th>time</th>\n",
       "    </tr>\n",
       "  </thead>\n",
       "  <tbody>\n",
       "    <tr>\n",
       "      <td>0</td>\n",
       "      <td>0.300348</td>\n",
       "      <td>0.250379</td>\n",
       "      <td>0.082397</td>\n",
       "      <td>0.917603</td>\n",
       "      <td>05:22</td>\n",
       "    </tr>\n",
       "    <tr>\n",
       "      <td>1</td>\n",
       "      <td>0.232791</td>\n",
       "      <td>0.208746</td>\n",
       "      <td>0.082397</td>\n",
       "      <td>0.917603</td>\n",
       "      <td>05:22</td>\n",
       "    </tr>\n",
       "    <tr>\n",
       "      <td>2</td>\n",
       "      <td>0.202042</td>\n",
       "      <td>0.157869</td>\n",
       "      <td>0.056180</td>\n",
       "      <td>0.943820</td>\n",
       "      <td>05:22</td>\n",
       "    </tr>\n",
       "    <tr>\n",
       "      <td>3</td>\n",
       "      <td>0.132419</td>\n",
       "      <td>0.148517</td>\n",
       "      <td>0.054307</td>\n",
       "      <td>0.945693</td>\n",
       "      <td>05:20</td>\n",
       "    </tr>\n",
       "    <tr>\n",
       "      <td>4</td>\n",
       "      <td>0.126238</td>\n",
       "      <td>0.122299</td>\n",
       "      <td>0.039326</td>\n",
       "      <td>0.960674</td>\n",
       "      <td>05:21</td>\n",
       "    </tr>\n",
       "    <tr>\n",
       "      <td>5</td>\n",
       "      <td>0.109336</td>\n",
       "      <td>0.122701</td>\n",
       "      <td>0.041199</td>\n",
       "      <td>0.958802</td>\n",
       "      <td>05:21</td>\n",
       "    </tr>\n",
       "    <tr>\n",
       "      <td>6</td>\n",
       "      <td>0.089740</td>\n",
       "      <td>0.134561</td>\n",
       "      <td>0.046816</td>\n",
       "      <td>0.953184</td>\n",
       "      <td>05:21</td>\n",
       "    </tr>\n",
       "    <tr>\n",
       "      <td>7</td>\n",
       "      <td>0.053350</td>\n",
       "      <td>0.073679</td>\n",
       "      <td>0.020599</td>\n",
       "      <td>0.979401</td>\n",
       "      <td>05:22</td>\n",
       "    </tr>\n",
       "    <tr>\n",
       "      <td>8</td>\n",
       "      <td>0.064626</td>\n",
       "      <td>0.062388</td>\n",
       "      <td>0.024345</td>\n",
       "      <td>0.975655</td>\n",
       "      <td>05:23</td>\n",
       "    </tr>\n",
       "    <tr>\n",
       "      <td>9</td>\n",
       "      <td>0.053128</td>\n",
       "      <td>0.070709</td>\n",
       "      <td>0.020599</td>\n",
       "      <td>0.979401</td>\n",
       "      <td>05:21</td>\n",
       "    </tr>\n",
       "    <tr>\n",
       "      <td>10</td>\n",
       "      <td>0.026674</td>\n",
       "      <td>0.078853</td>\n",
       "      <td>0.018727</td>\n",
       "      <td>0.981273</td>\n",
       "      <td>05:21</td>\n",
       "    </tr>\n",
       "    <tr>\n",
       "      <td>11</td>\n",
       "      <td>0.042762</td>\n",
       "      <td>0.062238</td>\n",
       "      <td>0.020599</td>\n",
       "      <td>0.979401</td>\n",
       "      <td>05:21</td>\n",
       "    </tr>\n",
       "    <tr>\n",
       "      <td>12</td>\n",
       "      <td>0.015798</td>\n",
       "      <td>0.074586</td>\n",
       "      <td>0.016854</td>\n",
       "      <td>0.983146</td>\n",
       "      <td>05:22</td>\n",
       "    </tr>\n",
       "    <tr>\n",
       "      <td>13</td>\n",
       "      <td>0.014555</td>\n",
       "      <td>0.055253</td>\n",
       "      <td>0.013109</td>\n",
       "      <td>0.986891</td>\n",
       "      <td>05:22</td>\n",
       "    </tr>\n",
       "    <tr>\n",
       "      <td>14</td>\n",
       "      <td>0.033919</td>\n",
       "      <td>0.080154</td>\n",
       "      <td>0.013109</td>\n",
       "      <td>0.986891</td>\n",
       "      <td>05:22</td>\n",
       "    </tr>\n",
       "    <tr>\n",
       "      <td>15</td>\n",
       "      <td>0.011276</td>\n",
       "      <td>0.067026</td>\n",
       "      <td>0.013109</td>\n",
       "      <td>0.986891</td>\n",
       "      <td>05:23</td>\n",
       "    </tr>\n",
       "    <tr>\n",
       "      <td>16</td>\n",
       "      <td>0.008196</td>\n",
       "      <td>0.073889</td>\n",
       "      <td>0.014981</td>\n",
       "      <td>0.985019</td>\n",
       "      <td>05:23</td>\n",
       "    </tr>\n",
       "    <tr>\n",
       "      <td>17</td>\n",
       "      <td>0.008048</td>\n",
       "      <td>0.070101</td>\n",
       "      <td>0.014981</td>\n",
       "      <td>0.985019</td>\n",
       "      <td>05:23</td>\n",
       "    </tr>\n",
       "    <tr>\n",
       "      <td>18</td>\n",
       "      <td>0.004036</td>\n",
       "      <td>0.068772</td>\n",
       "      <td>0.013109</td>\n",
       "      <td>0.986891</td>\n",
       "      <td>05:23</td>\n",
       "    </tr>\n",
       "    <tr>\n",
       "      <td>19</td>\n",
       "      <td>0.006391</td>\n",
       "      <td>0.068605</td>\n",
       "      <td>0.013109</td>\n",
       "      <td>0.986891</td>\n",
       "      <td>05:23</td>\n",
       "    </tr>\n",
       "  </tbody>\n",
       "</table>"
      ],
      "text/plain": [
       "<IPython.core.display.HTML object>"
      ]
     },
     "metadata": {},
     "output_type": "display_data"
    },
    {
     "name": "stdout",
     "output_type": "stream",
     "text": [
      "Better model found at epoch 0 with valid_loss value: 0.25037893652915955.\n",
      "Better model found at epoch 1 with valid_loss value: 0.20874623954296112.\n",
      "Better model found at epoch 2 with valid_loss value: 0.15786901116371155.\n",
      "Better model found at epoch 3 with valid_loss value: 0.1485167145729065.\n",
      "Better model found at epoch 4 with valid_loss value: 0.12229899317026138.\n",
      "Better model found at epoch 7 with valid_loss value: 0.07367932796478271.\n",
      "Better model found at epoch 8 with valid_loss value: 0.06238812208175659.\n",
      "Better model found at epoch 11 with valid_loss value: 0.06223775073885918.\n",
      "Better model found at epoch 13 with valid_loss value: 0.05525321513414383.\n"
     ]
    },
    {
     "data": {
      "text/html": [
       "\n",
       "<style>\n",
       "    /* Turns off some styling */\n",
       "    progress {\n",
       "        /* gets rid of default border in Firefox and Opera. */\n",
       "        border: none;\n",
       "        /* Needs to be in here for Safari polyfill so background images work as expected. */\n",
       "        background-size: auto;\n",
       "    }\n",
       "    .progress-bar-interrupted, .progress-bar-interrupted::-webkit-progress-bar {\n",
       "        background: #F44336;\n",
       "    }\n",
       "</style>\n"
      ],
      "text/plain": [
       "<IPython.core.display.HTML object>"
      ]
     },
     "metadata": {},
     "output_type": "display_data"
    },
    {
     "data": {
      "text/html": [
       "\n",
       "    <div>\n",
       "      <progress value='0' class='' max='20' style='width:300px; height:20px; vertical-align: middle;'></progress>\n",
       "      \n",
       "    </div>\n",
       "    \n"
      ],
      "text/plain": [
       "<IPython.core.display.HTML object>"
      ]
     },
     "metadata": {},
     "output_type": "display_data"
    },
    {
     "data": {
      "text/html": [
       "\n",
       "<style>\n",
       "    /* Turns off some styling */\n",
       "    progress {\n",
       "        /* gets rid of default border in Firefox and Opera. */\n",
       "        border: none;\n",
       "        /* Needs to be in here for Safari polyfill so background images work as expected. */\n",
       "        background-size: auto;\n",
       "    }\n",
       "    .progress-bar-interrupted, .progress-bar-interrupted::-webkit-progress-bar {\n",
       "        background: #F44336;\n",
       "    }\n",
       "</style>\n"
      ],
      "text/plain": [
       "<IPython.core.display.HTML object>"
      ]
     },
     "metadata": {},
     "output_type": "display_data"
    },
    {
     "data": {
      "text/html": [],
      "text/plain": [
       "<IPython.core.display.HTML object>"
      ]
     },
     "metadata": {},
     "output_type": "display_data"
    },
    {
     "name": "stdout",
     "output_type": "stream",
     "text": [
      "0.05904018770900363\n"
     ]
    },
    {
     "data": {
      "text/html": [
       "\n",
       "<style>\n",
       "    /* Turns off some styling */\n",
       "    progress {\n",
       "        /* gets rid of default border in Firefox and Opera. */\n",
       "        border: none;\n",
       "        /* Needs to be in here for Safari polyfill so background images work as expected. */\n",
       "        background-size: auto;\n",
       "    }\n",
       "    .progress-bar-interrupted, .progress-bar-interrupted::-webkit-progress-bar {\n",
       "        background: #F44336;\n",
       "    }\n",
       "</style>\n"
      ],
      "text/plain": [
       "<IPython.core.display.HTML object>"
      ]
     },
     "metadata": {},
     "output_type": "display_data"
    },
    {
     "data": {
      "text/html": [
       "\n",
       "    <div>\n",
       "      <progress value='0' class='' max='20' style='width:300px; height:20px; vertical-align: middle;'></progress>\n",
       "      \n",
       "    </div>\n",
       "    \n"
      ],
      "text/plain": [
       "<IPython.core.display.HTML object>"
      ]
     },
     "metadata": {},
     "output_type": "display_data"
    },
    {
     "data": {
      "text/html": [
       "\n",
       "<style>\n",
       "    /* Turns off some styling */\n",
       "    progress {\n",
       "        /* gets rid of default border in Firefox and Opera. */\n",
       "        border: none;\n",
       "        /* Needs to be in here for Safari polyfill so background images work as expected. */\n",
       "        background-size: auto;\n",
       "    }\n",
       "    .progress-bar-interrupted, .progress-bar-interrupted::-webkit-progress-bar {\n",
       "        background: #F44336;\n",
       "    }\n",
       "</style>\n"
      ],
      "text/plain": [
       "<IPython.core.display.HTML object>"
      ]
     },
     "metadata": {},
     "output_type": "display_data"
    },
    {
     "data": {
      "text/html": [],
      "text/plain": [
       "<IPython.core.display.HTML object>"
      ]
     },
     "metadata": {},
     "output_type": "display_data"
    },
    {
     "name": "stdout",
     "output_type": "stream",
     "text": [
      "fold fineshed\n"
     ]
    },
    {
     "data": {
      "text/html": [
       "\n",
       "<style>\n",
       "    /* Turns off some styling */\n",
       "    progress {\n",
       "        /* gets rid of default border in Firefox and Opera. */\n",
       "        border: none;\n",
       "        /* Needs to be in here for Safari polyfill so background images work as expected. */\n",
       "        background-size: auto;\n",
       "    }\n",
       "    .progress-bar-interrupted, .progress-bar-interrupted::-webkit-progress-bar {\n",
       "        background: #F44336;\n",
       "    }\n",
       "</style>\n"
      ],
      "text/plain": [
       "<IPython.core.display.HTML object>"
      ]
     },
     "metadata": {},
     "output_type": "display_data"
    },
    {
     "data": {
      "text/html": [],
      "text/plain": [
       "<IPython.core.display.HTML object>"
      ]
     },
     "metadata": {},
     "output_type": "display_data"
    },
    {
     "data": {
      "text/html": [
       "\n",
       "<style>\n",
       "    /* Turns off some styling */\n",
       "    progress {\n",
       "        /* gets rid of default border in Firefox and Opera. */\n",
       "        border: none;\n",
       "        /* Needs to be in here for Safari polyfill so background images work as expected. */\n",
       "        background-size: auto;\n",
       "    }\n",
       "    .progress-bar-interrupted, .progress-bar-interrupted::-webkit-progress-bar {\n",
       "        background: #F44336;\n",
       "    }\n",
       "</style>\n"
      ],
      "text/plain": [
       "<IPython.core.display.HTML object>"
      ]
     },
     "metadata": {},
     "output_type": "display_data"
    },
    {
     "data": {
      "text/html": [
       "<table border=\"1\" class=\"dataframe\">\n",
       "  <thead>\n",
       "    <tr style=\"text-align: left;\">\n",
       "      <th>epoch</th>\n",
       "      <th>train_loss</th>\n",
       "      <th>valid_loss</th>\n",
       "      <th>error_rate</th>\n",
       "      <th>accuracy</th>\n",
       "      <th>time</th>\n",
       "    </tr>\n",
       "  </thead>\n",
       "  <tbody>\n",
       "    <tr>\n",
       "      <td>0</td>\n",
       "      <td>0.426805</td>\n",
       "      <td>0.384286</td>\n",
       "      <td>0.132959</td>\n",
       "      <td>0.867041</td>\n",
       "      <td>05:21</td>\n",
       "    </tr>\n",
       "  </tbody>\n",
       "</table>"
      ],
      "text/plain": [
       "<IPython.core.display.HTML object>"
      ]
     },
     "metadata": {},
     "output_type": "display_data"
    },
    {
     "name": "stdout",
     "output_type": "stream",
     "text": [
      "Better model found at epoch 0 with valid_loss value: 0.3842856287956238.\n"
     ]
    },
    {
     "data": {
      "text/html": [
       "\n",
       "<style>\n",
       "    /* Turns off some styling */\n",
       "    progress {\n",
       "        /* gets rid of default border in Firefox and Opera. */\n",
       "        border: none;\n",
       "        /* Needs to be in here for Safari polyfill so background images work as expected. */\n",
       "        background-size: auto;\n",
       "    }\n",
       "    .progress-bar-interrupted, .progress-bar-interrupted::-webkit-progress-bar {\n",
       "        background: #F44336;\n",
       "    }\n",
       "</style>\n"
      ],
      "text/plain": [
       "<IPython.core.display.HTML object>"
      ]
     },
     "metadata": {},
     "output_type": "display_data"
    },
    {
     "data": {
      "text/html": [
       "<table border=\"1\" class=\"dataframe\">\n",
       "  <thead>\n",
       "    <tr style=\"text-align: left;\">\n",
       "      <th>epoch</th>\n",
       "      <th>train_loss</th>\n",
       "      <th>valid_loss</th>\n",
       "      <th>error_rate</th>\n",
       "      <th>accuracy</th>\n",
       "      <th>time</th>\n",
       "    </tr>\n",
       "  </thead>\n",
       "  <tbody>\n",
       "    <tr>\n",
       "      <td>0</td>\n",
       "      <td>0.181080</td>\n",
       "      <td>0.206136</td>\n",
       "      <td>0.067416</td>\n",
       "      <td>0.932584</td>\n",
       "      <td>05:21</td>\n",
       "    </tr>\n",
       "    <tr>\n",
       "      <td>1</td>\n",
       "      <td>0.106609</td>\n",
       "      <td>0.153685</td>\n",
       "      <td>0.043071</td>\n",
       "      <td>0.956929</td>\n",
       "      <td>05:21</td>\n",
       "    </tr>\n",
       "    <tr>\n",
       "      <td>2</td>\n",
       "      <td>0.099741</td>\n",
       "      <td>0.148744</td>\n",
       "      <td>0.044944</td>\n",
       "      <td>0.955056</td>\n",
       "      <td>05:21</td>\n",
       "    </tr>\n",
       "    <tr>\n",
       "      <td>3</td>\n",
       "      <td>0.089301</td>\n",
       "      <td>0.168883</td>\n",
       "      <td>0.035581</td>\n",
       "      <td>0.964419</td>\n",
       "      <td>05:21</td>\n",
       "    </tr>\n",
       "    <tr>\n",
       "      <td>4</td>\n",
       "      <td>0.103612</td>\n",
       "      <td>0.160395</td>\n",
       "      <td>0.035581</td>\n",
       "      <td>0.964419</td>\n",
       "      <td>05:21</td>\n",
       "    </tr>\n",
       "    <tr>\n",
       "      <td>5</td>\n",
       "      <td>0.072483</td>\n",
       "      <td>0.223269</td>\n",
       "      <td>0.056180</td>\n",
       "      <td>0.943820</td>\n",
       "      <td>05:21</td>\n",
       "    </tr>\n",
       "    <tr>\n",
       "      <td>6</td>\n",
       "      <td>0.037997</td>\n",
       "      <td>0.126426</td>\n",
       "      <td>0.028090</td>\n",
       "      <td>0.971910</td>\n",
       "      <td>05:21</td>\n",
       "    </tr>\n",
       "    <tr>\n",
       "      <td>7</td>\n",
       "      <td>0.023630</td>\n",
       "      <td>0.149396</td>\n",
       "      <td>0.024345</td>\n",
       "      <td>0.975655</td>\n",
       "      <td>05:21</td>\n",
       "    </tr>\n",
       "    <tr>\n",
       "      <td>8</td>\n",
       "      <td>0.024319</td>\n",
       "      <td>0.184533</td>\n",
       "      <td>0.037453</td>\n",
       "      <td>0.962547</td>\n",
       "      <td>05:21</td>\n",
       "    </tr>\n",
       "    <tr>\n",
       "      <td>9</td>\n",
       "      <td>0.012462</td>\n",
       "      <td>0.204089</td>\n",
       "      <td>0.035581</td>\n",
       "      <td>0.964419</td>\n",
       "      <td>05:21</td>\n",
       "    </tr>\n",
       "    <tr>\n",
       "      <td>10</td>\n",
       "      <td>0.007765</td>\n",
       "      <td>0.156376</td>\n",
       "      <td>0.024345</td>\n",
       "      <td>0.975655</td>\n",
       "      <td>05:21</td>\n",
       "    </tr>\n",
       "    <tr>\n",
       "      <td>11</td>\n",
       "      <td>0.017601</td>\n",
       "      <td>0.158489</td>\n",
       "      <td>0.029963</td>\n",
       "      <td>0.970037</td>\n",
       "      <td>05:21</td>\n",
       "    </tr>\n",
       "    <tr>\n",
       "      <td>12</td>\n",
       "      <td>0.003700</td>\n",
       "      <td>0.156447</td>\n",
       "      <td>0.024345</td>\n",
       "      <td>0.975655</td>\n",
       "      <td>05:21</td>\n",
       "    </tr>\n",
       "    <tr>\n",
       "      <td>13</td>\n",
       "      <td>0.006013</td>\n",
       "      <td>0.180904</td>\n",
       "      <td>0.028090</td>\n",
       "      <td>0.971910</td>\n",
       "      <td>05:21</td>\n",
       "    </tr>\n",
       "    <tr>\n",
       "      <td>14</td>\n",
       "      <td>0.002168</td>\n",
       "      <td>0.194706</td>\n",
       "      <td>0.020599</td>\n",
       "      <td>0.979401</td>\n",
       "      <td>05:21</td>\n",
       "    </tr>\n",
       "    <tr>\n",
       "      <td>15</td>\n",
       "      <td>0.002233</td>\n",
       "      <td>0.154135</td>\n",
       "      <td>0.024345</td>\n",
       "      <td>0.975655</td>\n",
       "      <td>05:22</td>\n",
       "    </tr>\n",
       "    <tr>\n",
       "      <td>16</td>\n",
       "      <td>0.000525</td>\n",
       "      <td>0.164479</td>\n",
       "      <td>0.022472</td>\n",
       "      <td>0.977528</td>\n",
       "      <td>05:21</td>\n",
       "    </tr>\n",
       "    <tr>\n",
       "      <td>17</td>\n",
       "      <td>0.000838</td>\n",
       "      <td>0.167515</td>\n",
       "      <td>0.022472</td>\n",
       "      <td>0.977528</td>\n",
       "      <td>05:21</td>\n",
       "    </tr>\n",
       "    <tr>\n",
       "      <td>18</td>\n",
       "      <td>0.000134</td>\n",
       "      <td>0.167271</td>\n",
       "      <td>0.020599</td>\n",
       "      <td>0.979401</td>\n",
       "      <td>05:21</td>\n",
       "    </tr>\n",
       "    <tr>\n",
       "      <td>19</td>\n",
       "      <td>0.003114</td>\n",
       "      <td>0.168614</td>\n",
       "      <td>0.020599</td>\n",
       "      <td>0.979401</td>\n",
       "      <td>05:22</td>\n",
       "    </tr>\n",
       "  </tbody>\n",
       "</table>"
      ],
      "text/plain": [
       "<IPython.core.display.HTML object>"
      ]
     },
     "metadata": {},
     "output_type": "display_data"
    },
    {
     "name": "stdout",
     "output_type": "stream",
     "text": [
      "Better model found at epoch 0 with valid_loss value: 0.20613619685173035.\n",
      "Better model found at epoch 1 with valid_loss value: 0.15368546545505524.\n",
      "Better model found at epoch 2 with valid_loss value: 0.14874380826950073.\n",
      "Better model found at epoch 6 with valid_loss value: 0.12642638385295868.\n"
     ]
    },
    {
     "data": {
      "text/html": [
       "\n",
       "<style>\n",
       "    /* Turns off some styling */\n",
       "    progress {\n",
       "        /* gets rid of default border in Firefox and Opera. */\n",
       "        border: none;\n",
       "        /* Needs to be in here for Safari polyfill so background images work as expected. */\n",
       "        background-size: auto;\n",
       "    }\n",
       "    .progress-bar-interrupted, .progress-bar-interrupted::-webkit-progress-bar {\n",
       "        background: #F44336;\n",
       "    }\n",
       "</style>\n"
      ],
      "text/plain": [
       "<IPython.core.display.HTML object>"
      ]
     },
     "metadata": {},
     "output_type": "display_data"
    },
    {
     "data": {
      "text/html": [
       "\n",
       "    <div>\n",
       "      <progress value='0' class='' max='20' style='width:300px; height:20px; vertical-align: middle;'></progress>\n",
       "      \n",
       "    </div>\n",
       "    \n"
      ],
      "text/plain": [
       "<IPython.core.display.HTML object>"
      ]
     },
     "metadata": {},
     "output_type": "display_data"
    },
    {
     "data": {
      "text/html": [
       "\n",
       "<style>\n",
       "    /* Turns off some styling */\n",
       "    progress {\n",
       "        /* gets rid of default border in Firefox and Opera. */\n",
       "        border: none;\n",
       "        /* Needs to be in here for Safari polyfill so background images work as expected. */\n",
       "        background-size: auto;\n",
       "    }\n",
       "    .progress-bar-interrupted, .progress-bar-interrupted::-webkit-progress-bar {\n",
       "        background: #F44336;\n",
       "    }\n",
       "</style>\n"
      ],
      "text/plain": [
       "<IPython.core.display.HTML object>"
      ]
     },
     "metadata": {},
     "output_type": "display_data"
    },
    {
     "data": {
      "text/html": [],
      "text/plain": [
       "<IPython.core.display.HTML object>"
      ]
     },
     "metadata": {},
     "output_type": "display_data"
    },
    {
     "name": "stdout",
     "output_type": "stream",
     "text": [
      "0.1274632299162415\n"
     ]
    },
    {
     "data": {
      "text/html": [
       "\n",
       "<style>\n",
       "    /* Turns off some styling */\n",
       "    progress {\n",
       "        /* gets rid of default border in Firefox and Opera. */\n",
       "        border: none;\n",
       "        /* Needs to be in here for Safari polyfill so background images work as expected. */\n",
       "        background-size: auto;\n",
       "    }\n",
       "    .progress-bar-interrupted, .progress-bar-interrupted::-webkit-progress-bar {\n",
       "        background: #F44336;\n",
       "    }\n",
       "</style>\n"
      ],
      "text/plain": [
       "<IPython.core.display.HTML object>"
      ]
     },
     "metadata": {},
     "output_type": "display_data"
    },
    {
     "data": {
      "text/html": [
       "\n",
       "    <div>\n",
       "      <progress value='0' class='' max='20' style='width:300px; height:20px; vertical-align: middle;'></progress>\n",
       "      \n",
       "    </div>\n",
       "    \n"
      ],
      "text/plain": [
       "<IPython.core.display.HTML object>"
      ]
     },
     "metadata": {},
     "output_type": "display_data"
    },
    {
     "data": {
      "text/html": [
       "\n",
       "<style>\n",
       "    /* Turns off some styling */\n",
       "    progress {\n",
       "        /* gets rid of default border in Firefox and Opera. */\n",
       "        border: none;\n",
       "        /* Needs to be in here for Safari polyfill so background images work as expected. */\n",
       "        background-size: auto;\n",
       "    }\n",
       "    .progress-bar-interrupted, .progress-bar-interrupted::-webkit-progress-bar {\n",
       "        background: #F44336;\n",
       "    }\n",
       "</style>\n"
      ],
      "text/plain": [
       "<IPython.core.display.HTML object>"
      ]
     },
     "metadata": {},
     "output_type": "display_data"
    },
    {
     "data": {
      "text/html": [],
      "text/plain": [
       "<IPython.core.display.HTML object>"
      ]
     },
     "metadata": {},
     "output_type": "display_data"
    },
    {
     "name": "stdout",
     "output_type": "stream",
     "text": [
      "fold fineshed\n"
     ]
    },
    {
     "data": {
      "text/html": [
       "\n",
       "<style>\n",
       "    /* Turns off some styling */\n",
       "    progress {\n",
       "        /* gets rid of default border in Firefox and Opera. */\n",
       "        border: none;\n",
       "        /* Needs to be in here for Safari polyfill so background images work as expected. */\n",
       "        background-size: auto;\n",
       "    }\n",
       "    .progress-bar-interrupted, .progress-bar-interrupted::-webkit-progress-bar {\n",
       "        background: #F44336;\n",
       "    }\n",
       "</style>\n"
      ],
      "text/plain": [
       "<IPython.core.display.HTML object>"
      ]
     },
     "metadata": {},
     "output_type": "display_data"
    },
    {
     "data": {
      "text/html": [],
      "text/plain": [
       "<IPython.core.display.HTML object>"
      ]
     },
     "metadata": {},
     "output_type": "display_data"
    },
    {
     "data": {
      "text/html": [
       "\n",
       "<style>\n",
       "    /* Turns off some styling */\n",
       "    progress {\n",
       "        /* gets rid of default border in Firefox and Opera. */\n",
       "        border: none;\n",
       "        /* Needs to be in here for Safari polyfill so background images work as expected. */\n",
       "        background-size: auto;\n",
       "    }\n",
       "    .progress-bar-interrupted, .progress-bar-interrupted::-webkit-progress-bar {\n",
       "        background: #F44336;\n",
       "    }\n",
       "</style>\n"
      ],
      "text/plain": [
       "<IPython.core.display.HTML object>"
      ]
     },
     "metadata": {},
     "output_type": "display_data"
    },
    {
     "data": {
      "text/html": [
       "<table border=\"1\" class=\"dataframe\">\n",
       "  <thead>\n",
       "    <tr style=\"text-align: left;\">\n",
       "      <th>epoch</th>\n",
       "      <th>train_loss</th>\n",
       "      <th>valid_loss</th>\n",
       "      <th>error_rate</th>\n",
       "      <th>accuracy</th>\n",
       "      <th>time</th>\n",
       "    </tr>\n",
       "  </thead>\n",
       "  <tbody>\n",
       "    <tr>\n",
       "      <td>0</td>\n",
       "      <td>0.430223</td>\n",
       "      <td>0.387481</td>\n",
       "      <td>0.157303</td>\n",
       "      <td>0.842697</td>\n",
       "      <td>05:21</td>\n",
       "    </tr>\n",
       "  </tbody>\n",
       "</table>"
      ],
      "text/plain": [
       "<IPython.core.display.HTML object>"
      ]
     },
     "metadata": {},
     "output_type": "display_data"
    },
    {
     "name": "stdout",
     "output_type": "stream",
     "text": [
      "Better model found at epoch 0 with valid_loss value: 0.38748133182525635.\n"
     ]
    },
    {
     "data": {
      "text/html": [
       "\n",
       "<style>\n",
       "    /* Turns off some styling */\n",
       "    progress {\n",
       "        /* gets rid of default border in Firefox and Opera. */\n",
       "        border: none;\n",
       "        /* Needs to be in here for Safari polyfill so background images work as expected. */\n",
       "        background-size: auto;\n",
       "    }\n",
       "    .progress-bar-interrupted, .progress-bar-interrupted::-webkit-progress-bar {\n",
       "        background: #F44336;\n",
       "    }\n",
       "</style>\n"
      ],
      "text/plain": [
       "<IPython.core.display.HTML object>"
      ]
     },
     "metadata": {},
     "output_type": "display_data"
    },
    {
     "data": {
      "text/html": [
       "<table border=\"1\" class=\"dataframe\">\n",
       "  <thead>\n",
       "    <tr style=\"text-align: left;\">\n",
       "      <th>epoch</th>\n",
       "      <th>train_loss</th>\n",
       "      <th>valid_loss</th>\n",
       "      <th>error_rate</th>\n",
       "      <th>accuracy</th>\n",
       "      <th>time</th>\n",
       "    </tr>\n",
       "  </thead>\n",
       "  <tbody>\n",
       "    <tr>\n",
       "      <td>0</td>\n",
       "      <td>0.147248</td>\n",
       "      <td>0.163153</td>\n",
       "      <td>0.065543</td>\n",
       "      <td>0.934457</td>\n",
       "      <td>05:21</td>\n",
       "    </tr>\n",
       "    <tr>\n",
       "      <td>1</td>\n",
       "      <td>0.150280</td>\n",
       "      <td>0.164830</td>\n",
       "      <td>0.059925</td>\n",
       "      <td>0.940075</td>\n",
       "      <td>05:21</td>\n",
       "    </tr>\n",
       "    <tr>\n",
       "      <td>2</td>\n",
       "      <td>0.151820</td>\n",
       "      <td>0.276822</td>\n",
       "      <td>0.108614</td>\n",
       "      <td>0.891386</td>\n",
       "      <td>05:21</td>\n",
       "    </tr>\n",
       "    <tr>\n",
       "      <td>3</td>\n",
       "      <td>0.100036</td>\n",
       "      <td>0.161020</td>\n",
       "      <td>0.058052</td>\n",
       "      <td>0.941948</td>\n",
       "      <td>05:21</td>\n",
       "    </tr>\n",
       "    <tr>\n",
       "      <td>4</td>\n",
       "      <td>0.103399</td>\n",
       "      <td>0.306874</td>\n",
       "      <td>0.101124</td>\n",
       "      <td>0.898876</td>\n",
       "      <td>05:21</td>\n",
       "    </tr>\n",
       "    <tr>\n",
       "      <td>5</td>\n",
       "      <td>0.134148</td>\n",
       "      <td>0.097766</td>\n",
       "      <td>0.039326</td>\n",
       "      <td>0.960674</td>\n",
       "      <td>05:21</td>\n",
       "    </tr>\n",
       "    <tr>\n",
       "      <td>6</td>\n",
       "      <td>0.048795</td>\n",
       "      <td>0.126181</td>\n",
       "      <td>0.039326</td>\n",
       "      <td>0.960674</td>\n",
       "      <td>05:21</td>\n",
       "    </tr>\n",
       "    <tr>\n",
       "      <td>7</td>\n",
       "      <td>0.078756</td>\n",
       "      <td>0.108113</td>\n",
       "      <td>0.039326</td>\n",
       "      <td>0.960674</td>\n",
       "      <td>05:21</td>\n",
       "    </tr>\n",
       "    <tr>\n",
       "      <td>8</td>\n",
       "      <td>0.068282</td>\n",
       "      <td>0.157498</td>\n",
       "      <td>0.054307</td>\n",
       "      <td>0.945693</td>\n",
       "      <td>05:21</td>\n",
       "    </tr>\n",
       "    <tr>\n",
       "      <td>9</td>\n",
       "      <td>0.037125</td>\n",
       "      <td>0.101153</td>\n",
       "      <td>0.031835</td>\n",
       "      <td>0.968165</td>\n",
       "      <td>05:21</td>\n",
       "    </tr>\n",
       "    <tr>\n",
       "      <td>10</td>\n",
       "      <td>0.071048</td>\n",
       "      <td>0.130288</td>\n",
       "      <td>0.035581</td>\n",
       "      <td>0.964419</td>\n",
       "      <td>05:21</td>\n",
       "    </tr>\n",
       "    <tr>\n",
       "      <td>11</td>\n",
       "      <td>0.043993</td>\n",
       "      <td>0.160051</td>\n",
       "      <td>0.033708</td>\n",
       "      <td>0.966292</td>\n",
       "      <td>05:21</td>\n",
       "    </tr>\n",
       "    <tr>\n",
       "      <td>12</td>\n",
       "      <td>0.006831</td>\n",
       "      <td>0.161265</td>\n",
       "      <td>0.029963</td>\n",
       "      <td>0.970037</td>\n",
       "      <td>05:21</td>\n",
       "    </tr>\n",
       "    <tr>\n",
       "      <td>13</td>\n",
       "      <td>0.001933</td>\n",
       "      <td>0.119960</td>\n",
       "      <td>0.026217</td>\n",
       "      <td>0.973783</td>\n",
       "      <td>05:21</td>\n",
       "    </tr>\n",
       "    <tr>\n",
       "      <td>14</td>\n",
       "      <td>0.003111</td>\n",
       "      <td>0.099026</td>\n",
       "      <td>0.018727</td>\n",
       "      <td>0.981273</td>\n",
       "      <td>05:21</td>\n",
       "    </tr>\n",
       "    <tr>\n",
       "      <td>15</td>\n",
       "      <td>0.002787</td>\n",
       "      <td>0.079488</td>\n",
       "      <td>0.018727</td>\n",
       "      <td>0.981273</td>\n",
       "      <td>05:21</td>\n",
       "    </tr>\n",
       "    <tr>\n",
       "      <td>16</td>\n",
       "      <td>0.000071</td>\n",
       "      <td>0.084820</td>\n",
       "      <td>0.016854</td>\n",
       "      <td>0.983146</td>\n",
       "      <td>05:21</td>\n",
       "    </tr>\n",
       "    <tr>\n",
       "      <td>17</td>\n",
       "      <td>0.000402</td>\n",
       "      <td>0.079868</td>\n",
       "      <td>0.016854</td>\n",
       "      <td>0.983146</td>\n",
       "      <td>05:21</td>\n",
       "    </tr>\n",
       "    <tr>\n",
       "      <td>18</td>\n",
       "      <td>0.000178</td>\n",
       "      <td>0.076965</td>\n",
       "      <td>0.014981</td>\n",
       "      <td>0.985019</td>\n",
       "      <td>05:21</td>\n",
       "    </tr>\n",
       "    <tr>\n",
       "      <td>19</td>\n",
       "      <td>0.000844</td>\n",
       "      <td>0.077181</td>\n",
       "      <td>0.013109</td>\n",
       "      <td>0.986891</td>\n",
       "      <td>05:21</td>\n",
       "    </tr>\n",
       "  </tbody>\n",
       "</table>"
      ],
      "text/plain": [
       "<IPython.core.display.HTML object>"
      ]
     },
     "metadata": {},
     "output_type": "display_data"
    },
    {
     "name": "stdout",
     "output_type": "stream",
     "text": [
      "Better model found at epoch 0 with valid_loss value: 0.16315282881259918.\n",
      "Better model found at epoch 3 with valid_loss value: 0.1610199362039566.\n",
      "Better model found at epoch 5 with valid_loss value: 0.09776642173528671.\n",
      "Better model found at epoch 15 with valid_loss value: 0.07948753982782364.\n",
      "Better model found at epoch 18 with valid_loss value: 0.07696528732776642.\n"
     ]
    },
    {
     "data": {
      "text/html": [
       "\n",
       "<style>\n",
       "    /* Turns off some styling */\n",
       "    progress {\n",
       "        /* gets rid of default border in Firefox and Opera. */\n",
       "        border: none;\n",
       "        /* Needs to be in here for Safari polyfill so background images work as expected. */\n",
       "        background-size: auto;\n",
       "    }\n",
       "    .progress-bar-interrupted, .progress-bar-interrupted::-webkit-progress-bar {\n",
       "        background: #F44336;\n",
       "    }\n",
       "</style>\n"
      ],
      "text/plain": [
       "<IPython.core.display.HTML object>"
      ]
     },
     "metadata": {},
     "output_type": "display_data"
    },
    {
     "data": {
      "text/html": [
       "\n",
       "    <div>\n",
       "      <progress value='0' class='' max='20' style='width:300px; height:20px; vertical-align: middle;'></progress>\n",
       "      \n",
       "    </div>\n",
       "    \n"
      ],
      "text/plain": [
       "<IPython.core.display.HTML object>"
      ]
     },
     "metadata": {},
     "output_type": "display_data"
    },
    {
     "data": {
      "text/html": [
       "\n",
       "<style>\n",
       "    /* Turns off some styling */\n",
       "    progress {\n",
       "        /* gets rid of default border in Firefox and Opera. */\n",
       "        border: none;\n",
       "        /* Needs to be in here for Safari polyfill so background images work as expected. */\n",
       "        background-size: auto;\n",
       "    }\n",
       "    .progress-bar-interrupted, .progress-bar-interrupted::-webkit-progress-bar {\n",
       "        background: #F44336;\n",
       "    }\n",
       "</style>\n"
      ],
      "text/plain": [
       "<IPython.core.display.HTML object>"
      ]
     },
     "metadata": {},
     "output_type": "display_data"
    },
    {
     "data": {
      "text/html": [],
      "text/plain": [
       "<IPython.core.display.HTML object>"
      ]
     },
     "metadata": {},
     "output_type": "display_data"
    },
    {
     "name": "stdout",
     "output_type": "stream",
     "text": [
      "0.06425615800276391\n"
     ]
    },
    {
     "data": {
      "text/html": [
       "\n",
       "<style>\n",
       "    /* Turns off some styling */\n",
       "    progress {\n",
       "        /* gets rid of default border in Firefox and Opera. */\n",
       "        border: none;\n",
       "        /* Needs to be in here for Safari polyfill so background images work as expected. */\n",
       "        background-size: auto;\n",
       "    }\n",
       "    .progress-bar-interrupted, .progress-bar-interrupted::-webkit-progress-bar {\n",
       "        background: #F44336;\n",
       "    }\n",
       "</style>\n"
      ],
      "text/plain": [
       "<IPython.core.display.HTML object>"
      ]
     },
     "metadata": {},
     "output_type": "display_data"
    },
    {
     "data": {
      "text/html": [
       "\n",
       "    <div>\n",
       "      <progress value='0' class='' max='20' style='width:300px; height:20px; vertical-align: middle;'></progress>\n",
       "      \n",
       "    </div>\n",
       "    \n"
      ],
      "text/plain": [
       "<IPython.core.display.HTML object>"
      ]
     },
     "metadata": {},
     "output_type": "display_data"
    },
    {
     "data": {
      "text/html": [
       "\n",
       "<style>\n",
       "    /* Turns off some styling */\n",
       "    progress {\n",
       "        /* gets rid of default border in Firefox and Opera. */\n",
       "        border: none;\n",
       "        /* Needs to be in here for Safari polyfill so background images work as expected. */\n",
       "        background-size: auto;\n",
       "    }\n",
       "    .progress-bar-interrupted, .progress-bar-interrupted::-webkit-progress-bar {\n",
       "        background: #F44336;\n",
       "    }\n",
       "</style>\n"
      ],
      "text/plain": [
       "<IPython.core.display.HTML object>"
      ]
     },
     "metadata": {},
     "output_type": "display_data"
    },
    {
     "data": {
      "text/html": [],
      "text/plain": [
       "<IPython.core.display.HTML object>"
      ]
     },
     "metadata": {},
     "output_type": "display_data"
    },
    {
     "name": "stdout",
     "output_type": "stream",
     "text": [
      "fold fineshed\n"
     ]
    },
    {
     "data": {
      "text/html": [
       "\n",
       "<style>\n",
       "    /* Turns off some styling */\n",
       "    progress {\n",
       "        /* gets rid of default border in Firefox and Opera. */\n",
       "        border: none;\n",
       "        /* Needs to be in here for Safari polyfill so background images work as expected. */\n",
       "        background-size: auto;\n",
       "    }\n",
       "    .progress-bar-interrupted, .progress-bar-interrupted::-webkit-progress-bar {\n",
       "        background: #F44336;\n",
       "    }\n",
       "</style>\n"
      ],
      "text/plain": [
       "<IPython.core.display.HTML object>"
      ]
     },
     "metadata": {},
     "output_type": "display_data"
    },
    {
     "data": {
      "text/html": [],
      "text/plain": [
       "<IPython.core.display.HTML object>"
      ]
     },
     "metadata": {},
     "output_type": "display_data"
    },
    {
     "data": {
      "text/html": [
       "\n",
       "<style>\n",
       "    /* Turns off some styling */\n",
       "    progress {\n",
       "        /* gets rid of default border in Firefox and Opera. */\n",
       "        border: none;\n",
       "        /* Needs to be in here for Safari polyfill so background images work as expected. */\n",
       "        background-size: auto;\n",
       "    }\n",
       "    .progress-bar-interrupted, .progress-bar-interrupted::-webkit-progress-bar {\n",
       "        background: #F44336;\n",
       "    }\n",
       "</style>\n"
      ],
      "text/plain": [
       "<IPython.core.display.HTML object>"
      ]
     },
     "metadata": {},
     "output_type": "display_data"
    },
    {
     "data": {
      "text/html": [
       "<table border=\"1\" class=\"dataframe\">\n",
       "  <thead>\n",
       "    <tr style=\"text-align: left;\">\n",
       "      <th>epoch</th>\n",
       "      <th>train_loss</th>\n",
       "      <th>valid_loss</th>\n",
       "      <th>error_rate</th>\n",
       "      <th>accuracy</th>\n",
       "      <th>time</th>\n",
       "    </tr>\n",
       "  </thead>\n",
       "  <tbody>\n",
       "    <tr>\n",
       "      <td>0</td>\n",
       "      <td>0.613611</td>\n",
       "      <td>0.341670</td>\n",
       "      <td>0.131086</td>\n",
       "      <td>0.868914</td>\n",
       "      <td>05:22</td>\n",
       "    </tr>\n",
       "  </tbody>\n",
       "</table>"
      ],
      "text/plain": [
       "<IPython.core.display.HTML object>"
      ]
     },
     "metadata": {},
     "output_type": "display_data"
    },
    {
     "name": "stdout",
     "output_type": "stream",
     "text": [
      "Better model found at epoch 0 with valid_loss value: 0.34166955947875977.\n"
     ]
    },
    {
     "data": {
      "text/html": [
       "\n",
       "<style>\n",
       "    /* Turns off some styling */\n",
       "    progress {\n",
       "        /* gets rid of default border in Firefox and Opera. */\n",
       "        border: none;\n",
       "        /* Needs to be in here for Safari polyfill so background images work as expected. */\n",
       "        background-size: auto;\n",
       "    }\n",
       "    .progress-bar-interrupted, .progress-bar-interrupted::-webkit-progress-bar {\n",
       "        background: #F44336;\n",
       "    }\n",
       "</style>\n"
      ],
      "text/plain": [
       "<IPython.core.display.HTML object>"
      ]
     },
     "metadata": {},
     "output_type": "display_data"
    },
    {
     "data": {
      "text/html": [
       "<table border=\"1\" class=\"dataframe\">\n",
       "  <thead>\n",
       "    <tr style=\"text-align: left;\">\n",
       "      <th>epoch</th>\n",
       "      <th>train_loss</th>\n",
       "      <th>valid_loss</th>\n",
       "      <th>error_rate</th>\n",
       "      <th>accuracy</th>\n",
       "      <th>time</th>\n",
       "    </tr>\n",
       "  </thead>\n",
       "  <tbody>\n",
       "    <tr>\n",
       "      <td>0</td>\n",
       "      <td>0.219683</td>\n",
       "      <td>0.194786</td>\n",
       "      <td>0.063670</td>\n",
       "      <td>0.936330</td>\n",
       "      <td>05:21</td>\n",
       "    </tr>\n",
       "    <tr>\n",
       "      <td>1</td>\n",
       "      <td>0.151429</td>\n",
       "      <td>0.383031</td>\n",
       "      <td>0.132959</td>\n",
       "      <td>0.867041</td>\n",
       "      <td>05:22</td>\n",
       "    </tr>\n",
       "    <tr>\n",
       "      <td>2</td>\n",
       "      <td>0.176837</td>\n",
       "      <td>0.172449</td>\n",
       "      <td>0.054307</td>\n",
       "      <td>0.945693</td>\n",
       "      <td>05:22</td>\n",
       "    </tr>\n",
       "    <tr>\n",
       "      <td>3</td>\n",
       "      <td>0.192607</td>\n",
       "      <td>0.146729</td>\n",
       "      <td>0.044944</td>\n",
       "      <td>0.955056</td>\n",
       "      <td>05:22</td>\n",
       "    </tr>\n",
       "    <tr>\n",
       "      <td>4</td>\n",
       "      <td>0.174543</td>\n",
       "      <td>0.198221</td>\n",
       "      <td>0.065543</td>\n",
       "      <td>0.934457</td>\n",
       "      <td>05:23</td>\n",
       "    </tr>\n",
       "    <tr>\n",
       "      <td>5</td>\n",
       "      <td>0.176213</td>\n",
       "      <td>0.186229</td>\n",
       "      <td>0.058052</td>\n",
       "      <td>0.941948</td>\n",
       "      <td>05:23</td>\n",
       "    </tr>\n",
       "    <tr>\n",
       "      <td>6</td>\n",
       "      <td>0.125493</td>\n",
       "      <td>0.154663</td>\n",
       "      <td>0.044944</td>\n",
       "      <td>0.955056</td>\n",
       "      <td>05:23</td>\n",
       "    </tr>\n",
       "    <tr>\n",
       "      <td>7</td>\n",
       "      <td>0.133016</td>\n",
       "      <td>0.236613</td>\n",
       "      <td>0.082397</td>\n",
       "      <td>0.917603</td>\n",
       "      <td>05:23</td>\n",
       "    </tr>\n",
       "    <tr>\n",
       "      <td>8</td>\n",
       "      <td>0.106351</td>\n",
       "      <td>0.118206</td>\n",
       "      <td>0.043071</td>\n",
       "      <td>0.956929</td>\n",
       "      <td>05:22</td>\n",
       "    </tr>\n",
       "    <tr>\n",
       "      <td>9</td>\n",
       "      <td>0.111343</td>\n",
       "      <td>0.207960</td>\n",
       "      <td>0.069288</td>\n",
       "      <td>0.930712</td>\n",
       "      <td>05:22</td>\n",
       "    </tr>\n",
       "    <tr>\n",
       "      <td>10</td>\n",
       "      <td>0.037798</td>\n",
       "      <td>0.140004</td>\n",
       "      <td>0.028090</td>\n",
       "      <td>0.971910</td>\n",
       "      <td>05:22</td>\n",
       "    </tr>\n",
       "    <tr>\n",
       "      <td>11</td>\n",
       "      <td>0.077727</td>\n",
       "      <td>0.178379</td>\n",
       "      <td>0.048689</td>\n",
       "      <td>0.951311</td>\n",
       "      <td>05:22</td>\n",
       "    </tr>\n",
       "    <tr>\n",
       "      <td>12</td>\n",
       "      <td>0.042728</td>\n",
       "      <td>0.134119</td>\n",
       "      <td>0.033708</td>\n",
       "      <td>0.966292</td>\n",
       "      <td>05:22</td>\n",
       "    </tr>\n",
       "    <tr>\n",
       "      <td>13</td>\n",
       "      <td>0.011012</td>\n",
       "      <td>0.182199</td>\n",
       "      <td>0.037453</td>\n",
       "      <td>0.962547</td>\n",
       "      <td>05:22</td>\n",
       "    </tr>\n",
       "    <tr>\n",
       "      <td>14</td>\n",
       "      <td>0.001763</td>\n",
       "      <td>0.220342</td>\n",
       "      <td>0.028090</td>\n",
       "      <td>0.971910</td>\n",
       "      <td>05:22</td>\n",
       "    </tr>\n",
       "    <tr>\n",
       "      <td>15</td>\n",
       "      <td>0.001058</td>\n",
       "      <td>0.183789</td>\n",
       "      <td>0.029963</td>\n",
       "      <td>0.970037</td>\n",
       "      <td>05:22</td>\n",
       "    </tr>\n",
       "    <tr>\n",
       "      <td>16</td>\n",
       "      <td>0.012155</td>\n",
       "      <td>0.213650</td>\n",
       "      <td>0.029963</td>\n",
       "      <td>0.970037</td>\n",
       "      <td>05:22</td>\n",
       "    </tr>\n",
       "    <tr>\n",
       "      <td>17</td>\n",
       "      <td>0.000879</td>\n",
       "      <td>0.205150</td>\n",
       "      <td>0.026217</td>\n",
       "      <td>0.973783</td>\n",
       "      <td>05:22</td>\n",
       "    </tr>\n",
       "    <tr>\n",
       "      <td>18</td>\n",
       "      <td>0.000870</td>\n",
       "      <td>0.198086</td>\n",
       "      <td>0.028090</td>\n",
       "      <td>0.971910</td>\n",
       "      <td>05:22</td>\n",
       "    </tr>\n",
       "    <tr>\n",
       "      <td>19</td>\n",
       "      <td>0.003371</td>\n",
       "      <td>0.198147</td>\n",
       "      <td>0.028090</td>\n",
       "      <td>0.971910</td>\n",
       "      <td>05:22</td>\n",
       "    </tr>\n",
       "  </tbody>\n",
       "</table>"
      ],
      "text/plain": [
       "<IPython.core.display.HTML object>"
      ]
     },
     "metadata": {},
     "output_type": "display_data"
    },
    {
     "name": "stdout",
     "output_type": "stream",
     "text": [
      "Better model found at epoch 0 with valid_loss value: 0.19478556513786316.\n",
      "Better model found at epoch 2 with valid_loss value: 0.17244930565357208.\n",
      "Better model found at epoch 3 with valid_loss value: 0.14672869443893433.\n",
      "Better model found at epoch 8 with valid_loss value: 0.11820570379495621.\n"
     ]
    },
    {
     "data": {
      "text/html": [
       "\n",
       "<style>\n",
       "    /* Turns off some styling */\n",
       "    progress {\n",
       "        /* gets rid of default border in Firefox and Opera. */\n",
       "        border: none;\n",
       "        /* Needs to be in here for Safari polyfill so background images work as expected. */\n",
       "        background-size: auto;\n",
       "    }\n",
       "    .progress-bar-interrupted, .progress-bar-interrupted::-webkit-progress-bar {\n",
       "        background: #F44336;\n",
       "    }\n",
       "</style>\n"
      ],
      "text/plain": [
       "<IPython.core.display.HTML object>"
      ]
     },
     "metadata": {},
     "output_type": "display_data"
    },
    {
     "data": {
      "text/html": [
       "\n",
       "    <div>\n",
       "      <progress value='0' class='' max='20' style='width:300px; height:20px; vertical-align: middle;'></progress>\n",
       "      \n",
       "    </div>\n",
       "    \n"
      ],
      "text/plain": [
       "<IPython.core.display.HTML object>"
      ]
     },
     "metadata": {},
     "output_type": "display_data"
    },
    {
     "data": {
      "text/html": [
       "\n",
       "<style>\n",
       "    /* Turns off some styling */\n",
       "    progress {\n",
       "        /* gets rid of default border in Firefox and Opera. */\n",
       "        border: none;\n",
       "        /* Needs to be in here for Safari polyfill so background images work as expected. */\n",
       "        background-size: auto;\n",
       "    }\n",
       "    .progress-bar-interrupted, .progress-bar-interrupted::-webkit-progress-bar {\n",
       "        background: #F44336;\n",
       "    }\n",
       "</style>\n"
      ],
      "text/plain": [
       "<IPython.core.display.HTML object>"
      ]
     },
     "metadata": {},
     "output_type": "display_data"
    },
    {
     "data": {
      "text/html": [],
      "text/plain": [
       "<IPython.core.display.HTML object>"
      ]
     },
     "metadata": {},
     "output_type": "display_data"
    },
    {
     "name": "stdout",
     "output_type": "stream",
     "text": [
      "0.10382438535347947\n"
     ]
    },
    {
     "data": {
      "text/html": [
       "\n",
       "<style>\n",
       "    /* Turns off some styling */\n",
       "    progress {\n",
       "        /* gets rid of default border in Firefox and Opera. */\n",
       "        border: none;\n",
       "        /* Needs to be in here for Safari polyfill so background images work as expected. */\n",
       "        background-size: auto;\n",
       "    }\n",
       "    .progress-bar-interrupted, .progress-bar-interrupted::-webkit-progress-bar {\n",
       "        background: #F44336;\n",
       "    }\n",
       "</style>\n"
      ],
      "text/plain": [
       "<IPython.core.display.HTML object>"
      ]
     },
     "metadata": {},
     "output_type": "display_data"
    },
    {
     "data": {
      "text/html": [
       "\n",
       "    <div>\n",
       "      <progress value='0' class='' max='20' style='width:300px; height:20px; vertical-align: middle;'></progress>\n",
       "      \n",
       "    </div>\n",
       "    \n"
      ],
      "text/plain": [
       "<IPython.core.display.HTML object>"
      ]
     },
     "metadata": {},
     "output_type": "display_data"
    },
    {
     "data": {
      "text/html": [
       "\n",
       "<style>\n",
       "    /* Turns off some styling */\n",
       "    progress {\n",
       "        /* gets rid of default border in Firefox and Opera. */\n",
       "        border: none;\n",
       "        /* Needs to be in here for Safari polyfill so background images work as expected. */\n",
       "        background-size: auto;\n",
       "    }\n",
       "    .progress-bar-interrupted, .progress-bar-interrupted::-webkit-progress-bar {\n",
       "        background: #F44336;\n",
       "    }\n",
       "</style>\n"
      ],
      "text/plain": [
       "<IPython.core.display.HTML object>"
      ]
     },
     "metadata": {},
     "output_type": "display_data"
    },
    {
     "data": {
      "text/html": [],
      "text/plain": [
       "<IPython.core.display.HTML object>"
      ]
     },
     "metadata": {},
     "output_type": "display_data"
    },
    {
     "name": "stdout",
     "output_type": "stream",
     "text": [
      "fold fineshed\n"
     ]
    },
    {
     "data": {
      "image/png": "[encoded data removed]",
      "text/plain": [
       "<Figure size 432x288 with 1 Axes>"
      ]
     },
     "metadata": {
      "needs_background": "light"
     },
     "output_type": "display_data"
    },
    {
     "data": {
      "image/png": "[encoded data removed]",
      "text/plain": [
       "<Figure size 432x288 with 1 Axes>"
      ]
     },
     "metadata": {
      "needs_background": "light"
     },
     "output_type": "display_data"
    },
    {
     "data": {
      "image/png": "[encoded data removed]",
      "text/plain": [
       "<Figure size 432x288 with 1 Axes>"
      ]
     },
     "metadata": {
      "needs_background": "light"
     },
     "output_type": "display_data"
    },
    {
     "data": {
      "image/png": "[encoded data removed]",
      "text/plain": [
       "<Figure size 432x288 with 1 Axes>"
      ]
     },
     "metadata": {
      "needs_background": "light"
     },
     "output_type": "display_data"
    },
    {
     "data": {
      "image/png": "[encoded data removed]",
      "text/plain": [
       "<Figure size 432x288 with 1 Axes>"
      ]
     },
     "metadata": {
      "needs_background": "light"
     },
     "output_type": "display_data"
    }
   ],
   "source": [
    "from sklearn.model_selection import StratifiedKFold\n",
    "from fastai.callback.tracker import SaveModelCallback,EarlyStoppingCallback\n",
    "import sklearn\n",
    "from sklearn.metrics import log_loss\n",
    "tfms = aug_transforms(do_flip = True, flip_vert = False, mult=2.0,size=384)\n",
    "skf=StratifiedKFold(n_splits=5, random_state=None, shuffle=False)\n",
    "y_pred_tot=[]\n",
    "valid_loglos=[]\n",
    "i=0\n",
    "oof = np.zeros((train.shape[0],3))\n",
    "for train_index, test_index in skf.split(train, train['Label']): \n",
    "    train['val_col']=False\n",
    "    train.loc[test_index,'val_col']=True\n",
    "    dls = ImageDataLoaders.from_df(train, path='../input/microsoft-rice-disease-classification-challenge',item_tfms=Resize(384),batch_tfms=[*tfms,Normalize.from_stats(*imagenet_stats)],valid_col='val_col',seed=50,num_workers=1,val_pct=0,bs=4)\n",
    "    random_seed(dls,50)\n",
    "    #model = EfficientNet.from_pretrained(\"efficientnet-b7\")\n",
    "    #model._fc = nn.Linear(model._fc.in_features,3)\n",
    "    model = create_model('swin_large_patch4_window12_384', pretrained=True, num_classes=3)\n",
    "    learn = Learner(dls,model,metrics=[error_rate,accuracy],path='.',cbs=[SaveModelCallback(monitor='valid_loss')])\n",
    "#         learn = cnn_learner(dls,vgg19_bn,metrics=[error_rate,accuracy],path='.',cbs=[EarlyStoppingCallback(monitor='valid_loss',min_delta=0.001, patience=10),SaveModelCallback(monitor='valid_loss')])\n",
    "    random_seed(dls,50)\n",
    "    best_lr = learn.lr_find()\n",
    "    learn.fine_tune(20,best_lr.valley)\n",
    "    #val\n",
    "    valid =learn.dls.test_dl(train.iloc[test_index]['Image_id'].map(lambda s: '../input/microsoft-rice-disease-classification-challenge/'+s).values)\n",
    "    val_preds = learn.get_preds(dl=valid)\n",
    "    print(log_loss(train.iloc[test_index]['Label'],val_preds[0]))\n",
    "    oof[test_index]=val_preds[0]\n",
    "    #test\n",
    "    tdl = learn.dls.test_dl(test['Image_id'].map(lambda s: '../input/microsoft-rice-disease-classification-challenge/'+s).values)\n",
    "    learn.save(\"model\"+str(i))\n",
    "    preds = learn.get_preds(dl=tdl)\n",
    "    y_pred_tot.append(preds)\n",
    "    print('fold fineshed')\n",
    "    i=i+1"
   ]
  },
  {
   "cell_type": "code",
   "execution_count": 16,
   "id": "4280806b",
   "metadata": {
    "execution": {
     "iopub.execute_input": "2022-06-11T20:52:06.394529Z",
     "iopub.status.busy": "2022-06-11T20:52:06.394265Z",
     "iopub.status.idle": "2022-06-11T20:52:06.404557Z",
     "shell.execute_reply": "2022-06-11T20:52:06.403886Z"
    },
    "papermill": {
     "duration": 0.102995,
     "end_time": "2022-06-11T20:52:06.406361",
     "exception": false,
     "start_time": "2022-06-11T20:52:06.303366",
     "status": "completed"
    },
    "tags": []
   },
   "outputs": [
    {
     "data": {
      "text/plain": [
       "0.08201657980457178"
      ]
     },
     "execution_count": 16,
     "metadata": {},
     "output_type": "execute_result"
    }
   ],
   "source": [
    "from sklearn.metrics import log_loss\n",
    "log_loss(train['Label'].values,oof)"
   ]
  },
  {
   "cell_type": "code",
   "execution_count": 17,
   "id": "54e4dc04",
   "metadata": {
    "execution": {
     "iopub.execute_input": "2022-06-11T20:52:06.586898Z",
     "iopub.status.busy": "2022-06-11T20:52:06.586628Z",
     "iopub.status.idle": "2022-06-11T20:52:06.595197Z",
     "shell.execute_reply": "2022-06-11T20:52:06.594451Z"
    },
    "papermill": {
     "duration": 0.101897,
     "end_time": "2022-06-11T20:52:06.597392",
     "exception": false,
     "start_time": "2022-06-11T20:52:06.495495",
     "status": "completed"
    },
    "tags": []
   },
   "outputs": [
    {
     "data": {
      "text/plain": [
       "[array([[9.9999976e-01, 4.6847241e-08, 2.7565073e-07],\n",
       "        [1.4974238e-02, 9.8502058e-01, 5.1891184e-06],\n",
       "        [9.9197292e-01, 8.0147646e-03, 1.2356300e-05],\n",
       "        ...,\n",
       "        [9.9986768e-01, 1.3232716e-04, 2.2548257e-09],\n",
       "        [9.9995601e-01, 1.1411120e-05, 3.2579195e-05],\n",
       "        [1.4046719e-03, 6.0675742e-05, 9.9853468e-01]], dtype=float32),\n",
       " array([[9.9999988e-01, 4.0167563e-08, 1.0524448e-07],\n",
       "        [2.3681711e-01, 7.6313078e-01, 5.2169562e-05],\n",
       "        [9.9213219e-01, 7.7920933e-03, 7.5755030e-05],\n",
       "        ...,\n",
       "        [9.9943715e-01, 5.6281884e-04, 3.1344465e-09],\n",
       "        [9.9999678e-01, 6.2738496e-07, 2.6377027e-06],\n",
       "        [4.3689664e-03, 4.8807879e-06, 9.9562615e-01]], dtype=float32),\n",
       " array([[9.9999952e-01, 2.1153916e-07, 3.1404150e-07],\n",
       "        [4.5601708e-01, 5.4198462e-01, 1.9983561e-03],\n",
       "        [9.8741102e-01, 1.2266656e-02, 3.2232516e-04],\n",
       "        ...,\n",
       "        [9.9987531e-01, 1.2442142e-04, 2.9962587e-07],\n",
       "        [9.9999475e-01, 2.3036912e-06, 2.9669482e-06],\n",
       "        [5.7115830e-02, 1.2629452e-04, 9.4275784e-01]], dtype=float32),\n",
       " array([[1.0000000e+00, 1.7541488e-10, 1.4561996e-10],\n",
       "        [1.9872232e-04, 9.9980086e-01, 3.8826641e-07],\n",
       "        [9.9999952e-01, 4.0887994e-07, 4.1044030e-09],\n",
       "        ...,\n",
       "        [9.9990213e-01, 9.7799551e-05, 4.7318166e-10],\n",
       "        [9.9999869e-01, 1.2536003e-06, 6.3559789e-08],\n",
       "        [1.5303366e-02, 1.5694864e-06, 9.8469508e-01]], dtype=float32),\n",
       " array([[9.9996102e-01, 3.8488499e-05, 5.2246941e-07],\n",
       "        [7.1492133e-04, 9.9923122e-01, 5.3822256e-05],\n",
       "        [9.6016622e-01, 3.8994156e-02, 8.3967444e-04],\n",
       "        ...,\n",
       "        [7.6040292e-01, 2.3948693e-01, 1.1012995e-04],\n",
       "        [9.9984670e-01, 1.5023602e-04, 3.0103020e-06],\n",
       "        [1.5110402e-02, 4.7762934e-03, 9.8011333e-01]], dtype=float32)]"
      ]
     },
     "execution_count": 17,
     "metadata": {},
     "output_type": "execute_result"
    }
   ],
   "source": [
    "predss=[to_np(x[0])for x in y_pred_tot]\n",
    "predss\n"
   ]
  },
  {
   "cell_type": "code",
   "execution_count": 18,
   "id": "af8a60aa",
   "metadata": {
    "execution": {
     "iopub.execute_input": "2022-06-11T20:52:06.780026Z",
     "iopub.status.busy": "2022-06-11T20:52:06.779747Z",
     "iopub.status.idle": "2022-06-11T20:52:06.788007Z",
     "shell.execute_reply": "2022-06-11T20:52:06.787042Z"
    },
    "papermill": {
     "duration": 0.100372,
     "end_time": "2022-06-11T20:52:06.789888",
     "exception": false,
     "start_time": "2022-06-11T20:52:06.689516",
     "status": "completed"
    },
    "tags": []
   },
   "outputs": [
    {
     "data": {
      "text/plain": [
       "array([[9.99992013e-01, 7.75744593e-06, 2.43510328e-07],\n",
       "       [1.41744405e-01, 8.57833564e-01, 4.21985111e-04],\n",
       "       [9.86336350e-01, 1.34136155e-02, 2.50023004e-04],\n",
       "       ...,\n",
       "       [9.51897025e-01, 4.80808578e-02, 2.20870879e-05],\n",
       "       [9.99958634e-01, 3.31663650e-05, 8.25154166e-06],\n",
       "       [1.86606478e-02, 9.93942725e-04, 9.80345428e-01]], dtype=float32)"
      ]
     },
     "execution_count": 18,
     "metadata": {},
     "output_type": "execute_result"
    }
   ],
   "source": [
    "preds=np.mean(predss,0)\n",
    "preds"
   ]
  },
  {
   "cell_type": "code",
   "execution_count": 19,
   "id": "d98f2831",
   "metadata": {
    "execution": {
     "iopub.execute_input": "2022-06-11T20:52:06.971847Z",
     "iopub.status.busy": "2022-06-11T20:52:06.971589Z",
     "iopub.status.idle": "2022-06-11T20:52:06.996608Z",
     "shell.execute_reply": "2022-06-11T20:52:06.995891Z"
    },
    "papermill": {
     "duration": 0.118233,
     "end_time": "2022-06-11T20:52:06.998406",
     "exception": false,
     "start_time": "2022-06-11T20:52:06.880173",
     "status": "completed"
    },
    "tags": []
   },
   "outputs": [
    {
     "data": {
      "text/html": [
       "<div>\n",
       "<style scoped>\n",
       "    .dataframe tbody tr th:only-of-type {\n",
       "        vertical-align: middle;\n",
       "    }\n",
       "\n",
       "    .dataframe tbody tr th {\n",
       "        vertical-align: top;\n",
       "    }\n",
       "\n",
       "    .dataframe thead th {\n",
       "        text-align: right;\n",
       "    }\n",
       "</style>\n",
       "<table border=\"1\" class=\"dataframe\">\n",
       "  <thead>\n",
       "    <tr style=\"text-align: right;\">\n",
       "      <th></th>\n",
       "      <th>Image_id</th>\n",
       "    </tr>\n",
       "  </thead>\n",
       "  <tbody>\n",
       "    <tr>\n",
       "      <th>0</th>\n",
       "      <td>id_00vl5wvxq3.jpg</td>\n",
       "    </tr>\n",
       "    <tr>\n",
       "      <th>1</th>\n",
       "      <td>id_01hu05mtch.jpg</td>\n",
       "    </tr>\n",
       "    <tr>\n",
       "      <th>2</th>\n",
       "      <td>id_030ln10ewn.jpg</td>\n",
       "    </tr>\n",
       "    <tr>\n",
       "      <th>3</th>\n",
       "      <td>id_03z57m8xht.jpg</td>\n",
       "    </tr>\n",
       "    <tr>\n",
       "      <th>4</th>\n",
       "      <td>id_04ngep1w4b.jpg</td>\n",
       "    </tr>\n",
       "    <tr>\n",
       "      <th>...</th>\n",
       "      <td>...</td>\n",
       "    </tr>\n",
       "    <tr>\n",
       "      <th>1140</th>\n",
       "      <td>id_zrdlgjrq3r.jpg</td>\n",
       "    </tr>\n",
       "    <tr>\n",
       "      <th>1141</th>\n",
       "      <td>id_zsfayxwipp.jpg</td>\n",
       "    </tr>\n",
       "    <tr>\n",
       "      <th>1142</th>\n",
       "      <td>id_ztvp2l9k3h.jpg</td>\n",
       "    </tr>\n",
       "    <tr>\n",
       "      <th>1143</th>\n",
       "      <td>id_zwwcma7hlt.jpg</td>\n",
       "    </tr>\n",
       "    <tr>\n",
       "      <th>1144</th>\n",
       "      <td>id_zyo7m4fj8h.jpg</td>\n",
       "    </tr>\n",
       "  </tbody>\n",
       "</table>\n",
       "<p>1145 rows × 1 columns</p>\n",
       "</div>"
      ],
      "text/plain": [
       "               Image_id\n",
       "0     id_00vl5wvxq3.jpg\n",
       "1     id_01hu05mtch.jpg\n",
       "2     id_030ln10ewn.jpg\n",
       "3     id_03z57m8xht.jpg\n",
       "4     id_04ngep1w4b.jpg\n",
       "...                 ...\n",
       "1140  id_zrdlgjrq3r.jpg\n",
       "1141  id_zsfayxwipp.jpg\n",
       "1142  id_ztvp2l9k3h.jpg\n",
       "1143  id_zwwcma7hlt.jpg\n",
       "1144  id_zyo7m4fj8h.jpg\n",
       "\n",
       "[1145 rows x 1 columns]"
      ]
     },
     "execution_count": 19,
     "metadata": {},
     "output_type": "execute_result"
    }
   ],
   "source": [
    "submission_from_test = test[['Image_id']]\n",
    "submission_from_test"
   ]
  },
  {
   "cell_type": "code",
   "execution_count": 20,
   "id": "bec6fae8",
   "metadata": {
    "execution": {
     "iopub.execute_input": "2022-06-11T20:52:07.182087Z",
     "iopub.status.busy": "2022-06-11T20:52:07.181797Z",
     "iopub.status.idle": "2022-06-11T20:52:07.187467Z",
     "shell.execute_reply": "2022-06-11T20:52:07.186785Z"
    },
    "papermill": {
     "duration": 0.099242,
     "end_time": "2022-06-11T20:52:07.189395",
     "exception": false,
     "start_time": "2022-06-11T20:52:07.090153",
     "status": "completed"
    },
    "tags": []
   },
   "outputs": [
    {
     "data": {
      "text/plain": [
       "array(['blast', 'brown', 'healthy'], dtype=object)"
      ]
     },
     "execution_count": 20,
     "metadata": {},
     "output_type": "execute_result"
    }
   ],
   "source": [
    "le.inverse_transform([0,1,2])"
   ]
  },
  {
   "cell_type": "code",
   "execution_count": 21,
   "id": "788a5d2e",
   "metadata": {
    "execution": {
     "iopub.execute_input": "2022-06-11T20:52:07.372968Z",
     "iopub.status.busy": "2022-06-11T20:52:07.372252Z",
     "iopub.status.idle": "2022-06-11T20:52:07.380279Z",
     "shell.execute_reply": "2022-06-11T20:52:07.379425Z"
    },
    "papermill": {
     "duration": 0.10211,
     "end_time": "2022-06-11T20:52:07.382423",
     "exception": false,
     "start_time": "2022-06-11T20:52:07.280313",
     "status": "completed"
    },
    "tags": []
   },
   "outputs": [],
   "source": [
    "submission_from_test['blast'] = preds[:,0]\n",
    "submission_from_test['brown'] = preds[:,1]\n",
    "submission_from_test['healthy'] = preds[:,2]"
   ]
  },
  {
   "cell_type": "code",
   "execution_count": 22,
   "id": "f8afe7a5",
   "metadata": {
    "execution": {
     "iopub.execute_input": "2022-06-11T20:52:07.565407Z",
     "iopub.status.busy": "2022-06-11T20:52:07.565145Z",
     "iopub.status.idle": "2022-06-11T20:52:07.579606Z",
     "shell.execute_reply": "2022-06-11T20:52:07.578945Z"
    },
    "papermill": {
     "duration": 0.10806,
     "end_time": "2022-06-11T20:52:07.581387",
     "exception": false,
     "start_time": "2022-06-11T20:52:07.473327",
     "status": "completed"
    },
    "tags": []
   },
   "outputs": [
    {
     "data": {
      "text/html": [
       "<div>\n",
       "<style scoped>\n",
       "    .dataframe tbody tr th:only-of-type {\n",
       "        vertical-align: middle;\n",
       "    }\n",
       "\n",
       "    .dataframe tbody tr th {\n",
       "        vertical-align: top;\n",
       "    }\n",
       "\n",
       "    .dataframe thead th {\n",
       "        text-align: right;\n",
       "    }\n",
       "</style>\n",
       "<table border=\"1\" class=\"dataframe\">\n",
       "  <thead>\n",
       "    <tr style=\"text-align: right;\">\n",
       "      <th></th>\n",
       "      <th>Image_id</th>\n",
       "      <th>blast</th>\n",
       "      <th>brown</th>\n",
       "      <th>healthy</th>\n",
       "    </tr>\n",
       "  </thead>\n",
       "  <tbody>\n",
       "    <tr>\n",
       "      <th>0</th>\n",
       "      <td>id_00vl5wvxq3.jpg</td>\n",
       "      <td>0.999992</td>\n",
       "      <td>7.757446e-06</td>\n",
       "      <td>2.435103e-07</td>\n",
       "    </tr>\n",
       "    <tr>\n",
       "      <th>1</th>\n",
       "      <td>id_01hu05mtch.jpg</td>\n",
       "      <td>0.141744</td>\n",
       "      <td>8.578336e-01</td>\n",
       "      <td>4.219851e-04</td>\n",
       "    </tr>\n",
       "    <tr>\n",
       "      <th>2</th>\n",
       "      <td>id_030ln10ewn.jpg</td>\n",
       "      <td>0.986336</td>\n",
       "      <td>1.341362e-02</td>\n",
       "      <td>2.500230e-04</td>\n",
       "    </tr>\n",
       "    <tr>\n",
       "      <th>3</th>\n",
       "      <td>id_03z57m8xht.jpg</td>\n",
       "      <td>1.000000</td>\n",
       "      <td>2.506917e-07</td>\n",
       "      <td>3.869648e-08</td>\n",
       "    </tr>\n",
       "    <tr>\n",
       "      <th>4</th>\n",
       "      <td>id_04ngep1w4b.jpg</td>\n",
       "      <td>0.999017</td>\n",
       "      <td>2.626616e-04</td>\n",
       "      <td>7.204509e-04</td>\n",
       "    </tr>\n",
       "    <tr>\n",
       "      <th>...</th>\n",
       "      <td>...</td>\n",
       "      <td>...</td>\n",
       "      <td>...</td>\n",
       "      <td>...</td>\n",
       "    </tr>\n",
       "    <tr>\n",
       "      <th>1140</th>\n",
       "      <td>id_zrdlgjrq3r.jpg</td>\n",
       "      <td>0.000084</td>\n",
       "      <td>3.092706e-02</td>\n",
       "      <td>9.689886e-01</td>\n",
       "    </tr>\n",
       "    <tr>\n",
       "      <th>1141</th>\n",
       "      <td>id_zsfayxwipp.jpg</td>\n",
       "      <td>0.000060</td>\n",
       "      <td>9.996690e-01</td>\n",
       "      <td>2.706031e-04</td>\n",
       "    </tr>\n",
       "    <tr>\n",
       "      <th>1142</th>\n",
       "      <td>id_ztvp2l9k3h.jpg</td>\n",
       "      <td>0.951897</td>\n",
       "      <td>4.808086e-02</td>\n",
       "      <td>2.208709e-05</td>\n",
       "    </tr>\n",
       "    <tr>\n",
       "      <th>1143</th>\n",
       "      <td>id_zwwcma7hlt.jpg</td>\n",
       "      <td>0.999959</td>\n",
       "      <td>3.316637e-05</td>\n",
       "      <td>8.251542e-06</td>\n",
       "    </tr>\n",
       "    <tr>\n",
       "      <th>1144</th>\n",
       "      <td>id_zyo7m4fj8h.jpg</td>\n",
       "      <td>0.018661</td>\n",
       "      <td>9.939427e-04</td>\n",
       "      <td>9.803454e-01</td>\n",
       "    </tr>\n",
       "  </tbody>\n",
       "</table>\n",
       "<p>1145 rows × 4 columns</p>\n",
       "</div>"
      ],
      "text/plain": [
       "               Image_id     blast         brown       healthy\n",
       "0     id_00vl5wvxq3.jpg  0.999992  7.757446e-06  2.435103e-07\n",
       "1     id_01hu05mtch.jpg  0.141744  8.578336e-01  4.219851e-04\n",
       "2     id_030ln10ewn.jpg  0.986336  1.341362e-02  2.500230e-04\n",
       "3     id_03z57m8xht.jpg  1.000000  2.506917e-07  3.869648e-08\n",
       "4     id_04ngep1w4b.jpg  0.999017  2.626616e-04  7.204509e-04\n",
       "...                 ...       ...           ...           ...\n",
       "1140  id_zrdlgjrq3r.jpg  0.000084  3.092706e-02  9.689886e-01\n",
       "1141  id_zsfayxwipp.jpg  0.000060  9.996690e-01  2.706031e-04\n",
       "1142  id_ztvp2l9k3h.jpg  0.951897  4.808086e-02  2.208709e-05\n",
       "1143  id_zwwcma7hlt.jpg  0.999959  3.316637e-05  8.251542e-06\n",
       "1144  id_zyo7m4fj8h.jpg  0.018661  9.939427e-04  9.803454e-01\n",
       "\n",
       "[1145 rows x 4 columns]"
      ]
     },
     "execution_count": 22,
     "metadata": {},
     "output_type": "execute_result"
    }
   ],
   "source": [
    "submission_from_test"
   ]
  },
  {
   "cell_type": "code",
   "execution_count": 23,
   "id": "14cc758c",
   "metadata": {
    "execution": {
     "iopub.execute_input": "2022-06-11T20:52:07.768568Z",
     "iopub.status.busy": "2022-06-11T20:52:07.768314Z",
     "iopub.status.idle": "2022-06-11T20:52:07.785002Z",
     "shell.execute_reply": "2022-06-11T20:52:07.784302Z"
    },
    "papermill": {
     "duration": 0.112913,
     "end_time": "2022-06-11T20:52:07.786832",
     "exception": false,
     "start_time": "2022-06-11T20:52:07.673919",
     "status": "completed"
    },
    "tags": []
   },
   "outputs": [],
   "source": [
    "submission_from_test.to_csv(\"submit_test0.0875_0.0449.csv\",index=False)"
   ]
  },
  {
   "cell_type": "code",
   "execution_count": 24,
   "id": "60f0e4b0",
   "metadata": {
    "execution": {
     "iopub.execute_input": "2022-06-11T20:52:07.969682Z",
     "iopub.status.busy": "2022-06-11T20:52:07.969425Z",
     "iopub.status.idle": "2022-06-11T20:52:07.986815Z",
     "shell.execute_reply": "2022-06-11T20:52:07.986025Z"
    },
    "papermill": {
     "duration": 0.118063,
     "end_time": "2022-06-11T20:52:07.995705",
     "exception": false,
     "start_time": "2022-06-11T20:52:07.877642",
     "status": "completed"
    },
    "tags": []
   },
   "outputs": [
    {
     "name": "stderr",
     "output_type": "stream",
     "text": [
      "/opt/conda/lib/python3.7/site-packages/numpy/lib/npyio.py:528: FutureWarning: The input object of type 'TensorImage' is an array-like implementing one of the corresponding protocols (`__array__`, `__array_interface__` or `__array_struct__`); but not a sequence (or 0-D). In the future, this object will be coerced as if it was first converted using `np.array(obj)`. To retain the old behaviour, you have to either modify the type 'TensorImage', or assign to an empty array created with `np.empty(correct_shape, dtype=object)`.\n",
      "  arr = np.asanyarray(arr)\n",
      "/opt/conda/lib/python3.7/site-packages/numpy/lib/npyio.py:528: VisibleDeprecationWarning: Creating an ndarray from ragged nested sequences (which is a list-or-tuple of lists-or-tuples-or ndarrays with different lengths or shapes) is deprecated. If you meant to do this, you must specify 'dtype=object' when creating the ndarray.\n",
      "  arr = np.asanyarray(arr)\n"
     ]
    }
   ],
   "source": [
    "np.save('y_pred_tot.npy', y_pred_tot, allow_pickle=True)"
   ]
  },
  {
   "cell_type": "code",
   "execution_count": 25,
   "id": "592d69ae",
   "metadata": {
    "execution": {
     "iopub.execute_input": "2022-06-11T20:52:08.323491Z",
     "iopub.status.busy": "2022-06-11T20:52:08.323127Z",
     "iopub.status.idle": "2022-06-11T20:52:08.345562Z",
     "shell.execute_reply": "2022-06-11T20:52:08.344910Z"
    },
    "papermill": {
     "duration": 0.176377,
     "end_time": "2022-06-11T20:52:08.347893",
     "exception": false,
     "start_time": "2022-06-11T20:52:08.171516",
     "status": "completed"
    },
    "tags": []
   },
   "outputs": [
    {
     "data": {
      "text/html": [
       "<div>\n",
       "<style scoped>\n",
       "    .dataframe tbody tr th:only-of-type {\n",
       "        vertical-align: middle;\n",
       "    }\n",
       "\n",
       "    .dataframe tbody tr th {\n",
       "        vertical-align: top;\n",
       "    }\n",
       "\n",
       "    .dataframe thead th {\n",
       "        text-align: right;\n",
       "    }\n",
       "</style>\n",
       "<table border=\"1\" class=\"dataframe\">\n",
       "  <thead>\n",
       "    <tr style=\"text-align: right;\">\n",
       "      <th></th>\n",
       "      <th>Image_id</th>\n",
       "      <th>blast</th>\n",
       "      <th>brown</th>\n",
       "      <th>healthy</th>\n",
       "    </tr>\n",
       "  </thead>\n",
       "  <tbody>\n",
       "    <tr>\n",
       "      <th>0</th>\n",
       "      <td>id_00vl5wvxq3.jpg</td>\n",
       "      <td>0.0</td>\n",
       "      <td>0.0</td>\n",
       "      <td>0.0</td>\n",
       "    </tr>\n",
       "    <tr>\n",
       "      <th>1</th>\n",
       "      <td>id_01hu05mtch.jpg</td>\n",
       "      <td>0.0</td>\n",
       "      <td>0.0</td>\n",
       "      <td>0.0</td>\n",
       "    </tr>\n",
       "    <tr>\n",
       "      <th>2</th>\n",
       "      <td>id_030ln10ewn.jpg</td>\n",
       "      <td>0.0</td>\n",
       "      <td>0.0</td>\n",
       "      <td>0.0</td>\n",
       "    </tr>\n",
       "    <tr>\n",
       "      <th>3</th>\n",
       "      <td>id_03z57m8xht.jpg</td>\n",
       "      <td>0.0</td>\n",
       "      <td>0.0</td>\n",
       "      <td>0.0</td>\n",
       "    </tr>\n",
       "    <tr>\n",
       "      <th>4</th>\n",
       "      <td>id_04ngep1w4b.jpg</td>\n",
       "      <td>0.0</td>\n",
       "      <td>0.0</td>\n",
       "      <td>0.0</td>\n",
       "    </tr>\n",
       "    <tr>\n",
       "      <th>...</th>\n",
       "      <td>...</td>\n",
       "      <td>...</td>\n",
       "      <td>...</td>\n",
       "      <td>...</td>\n",
       "    </tr>\n",
       "    <tr>\n",
       "      <th>1140</th>\n",
       "      <td>id_zrdlgjrq3r.jpg</td>\n",
       "      <td>0.0</td>\n",
       "      <td>0.0</td>\n",
       "      <td>0.0</td>\n",
       "    </tr>\n",
       "    <tr>\n",
       "      <th>1141</th>\n",
       "      <td>id_zsfayxwipp.jpg</td>\n",
       "      <td>0.0</td>\n",
       "      <td>0.0</td>\n",
       "      <td>0.0</td>\n",
       "    </tr>\n",
       "    <tr>\n",
       "      <th>1142</th>\n",
       "      <td>id_ztvp2l9k3h.jpg</td>\n",
       "      <td>0.0</td>\n",
       "      <td>0.0</td>\n",
       "      <td>0.0</td>\n",
       "    </tr>\n",
       "    <tr>\n",
       "      <th>1143</th>\n",
       "      <td>id_zwwcma7hlt.jpg</td>\n",
       "      <td>0.0</td>\n",
       "      <td>0.0</td>\n",
       "      <td>0.0</td>\n",
       "    </tr>\n",
       "    <tr>\n",
       "      <th>1144</th>\n",
       "      <td>id_zyo7m4fj8h.jpg</td>\n",
       "      <td>0.0</td>\n",
       "      <td>0.0</td>\n",
       "      <td>0.0</td>\n",
       "    </tr>\n",
       "  </tbody>\n",
       "</table>\n",
       "<p>1145 rows × 4 columns</p>\n",
       "</div>"
      ],
      "text/plain": [
       "               Image_id  blast  brown  healthy\n",
       "0     id_00vl5wvxq3.jpg    0.0    0.0      0.0\n",
       "1     id_01hu05mtch.jpg    0.0    0.0      0.0\n",
       "2     id_030ln10ewn.jpg    0.0    0.0      0.0\n",
       "3     id_03z57m8xht.jpg    0.0    0.0      0.0\n",
       "4     id_04ngep1w4b.jpg    0.0    0.0      0.0\n",
       "...                 ...    ...    ...      ...\n",
       "1140  id_zrdlgjrq3r.jpg    0.0    0.0      0.0\n",
       "1141  id_zsfayxwipp.jpg    0.0    0.0      0.0\n",
       "1142  id_ztvp2l9k3h.jpg    0.0    0.0      0.0\n",
       "1143  id_zwwcma7hlt.jpg    0.0    0.0      0.0\n",
       "1144  id_zyo7m4fj8h.jpg    0.0    0.0      0.0\n",
       "\n",
       "[1145 rows x 4 columns]"
      ]
     },
     "execution_count": 25,
     "metadata": {},
     "output_type": "execute_result"
    }
   ],
   "source": [
    "submission\n"
   ]
  },
  {
   "cell_type": "code",
   "execution_count": null,
   "id": "d6751c97",
   "metadata": {
    "papermill": {
     "duration": 0.129403,
     "end_time": "2022-06-11T20:52:08.632511",
     "exception": false,
     "start_time": "2022-06-11T20:52:08.503108",
     "status": "completed"
    },
    "tags": []
   },
   "outputs": [],
   "source": []
  }
 ],
 "metadata": {
  "kernelspec": {
   "display_name": "Python 3",
   "language": "python",
   "name": "python3"
  },
  "language_info": {
   "codemirror_mode": {
    "name": "ipython",
    "version": 3
   },
   "file_extension": ".py",
   "mimetype": "text/x-python",
   "name": "python",
   "nbconvert_exporter": "python",
   "pygments_lexer": "ipython3",
   "version": "3.7.12"
  },
  "papermill": {
   "default_parameters": {},
   "duration": 36732.154822,
   "end_time": "2022-06-11T20:52:11.694242",
   "environment_variables": {},
   "exception": null,
   "input_path": "__notebook__.ipynb",
   "output_path": "__notebook__.ipynb",
   "parameters": {},
   "start_time": "2022-06-11T10:39:59.539420",
   "version": "2.3.4"
  }
 },
 "nbformat": 4,
 "nbformat_minor": 5
}