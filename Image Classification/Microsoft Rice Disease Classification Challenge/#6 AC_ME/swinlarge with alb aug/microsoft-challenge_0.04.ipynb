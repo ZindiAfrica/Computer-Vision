{
 "cells": [
  {
   "cell_type": "code",
   "execution_count": 1,
   "id": "b855793d",
   "metadata": {
    "_cell_guid": "b1076dfc-b9ad-4769-8c92-a6c4dae69d19",
    "_uuid": "8f2839f25d086af736a60e9eeb907d3b93b6e0e5",
    "execution": {
     "iopub.execute_input": "2022-08-03T20:58:08.122705Z",
     "iopub.status.busy": "2022-08-03T20:58:08.122289Z",
     "iopub.status.idle": "2022-08-03T20:58:08.132038Z",
     "shell.execute_reply": "2022-08-03T20:58:08.131296Z"
    },
    "papermill": {
     "duration": 0.03719,
     "end_time": "2022-08-03T20:58:08.133831",
     "exception": false,
     "start_time": "2022-08-03T20:58:08.096641",
     "status": "completed"
    },
    "tags": []
   },
   "outputs": [],
   "source": [
    "import pandas as pd"
   ]
  },
  {
   "cell_type": "code",
   "execution_count": 2,
   "id": "7641ef11",
   "metadata": {
    "execution": {
     "iopub.execute_input": "2022-08-03T20:58:08.178774Z",
     "iopub.status.busy": "2022-08-03T20:58:08.178566Z",
     "iopub.status.idle": "2022-08-03T20:58:22.999938Z",
     "shell.execute_reply": "2022-08-03T20:58:22.999075Z"
    },
    "papermill": {
     "duration": 14.846849,
     "end_time": "2022-08-03T20:58:23.002401",
     "exception": false,
     "start_time": "2022-08-03T20:58:08.155552",
     "status": "completed"
    },
    "tags": []
   },
   "outputs": [
    {
     "name": "stdout",
     "output_type": "stream",
     "text": [
      "Collecting efficientnet-pytorch\r\n",
      "  Downloading efficientnet_pytorch-0.7.1.tar.gz (21 kB)\r\n",
      "  Preparing metadata (setup.py) ... \u001B[?25l-\b \bdone\r\n",
      "\u001B[?25hRequirement already satisfied: torch in /opt/conda/lib/python3.7/site-packages (from efficientnet-pytorch) (1.11.0)\r\n",
      "Requirement already satisfied: typing-extensions in /opt/conda/lib/python3.7/site-packages (from torch->efficientnet-pytorch) (4.2.0)\r\n",
      "Building wheels for collected packages: efficientnet-pytorch\r\n",
      "  Building wheel for efficientnet-pytorch (setup.py) ... \u001B[?25l-\b \b\\\b \bdone\r\n",
      "\u001B[?25h  Created wheel for efficientnet-pytorch: filename=efficientnet_pytorch-0.7.1-py3-none-any.whl size=16446 sha256=2d971534d987a5d850fe9a3a75c918cc03f0521d4288e8376676a13f492c278d\r\n",
      "  Stored in directory: /root/.cache/pip/wheels/0e/cc/b2/49e74588263573ff778da58cc99b9c6349b496636a7e165be6\r\n",
      "Successfully built efficientnet-pytorch\r\n",
      "Installing collected packages: efficientnet-pytorch\r\n",
      "Successfully installed efficientnet-pytorch-0.7.1\r\n",
      "\u001B[33mWARNING: Running pip as the 'root' user can result in broken permissions and conflicting behaviour with the system package manager. It is recommended to use a virtual environment instead: https://pip.pypa.io/warnings/venv\u001B[0m\u001B[33m\r\n",
      "\u001B[0m"
     ]
    }
   ],
   "source": [
    "!pip install efficientnet-pytorch\n",
    "from efficientnet_pytorch import EfficientNet"
   ]
  },
  {
   "cell_type": "code",
   "execution_count": 4,
   "id": "7dbe39fd",
   "metadata": {
    "execution": {
     "iopub.execute_input": "2022-08-03T20:58:23.121080Z",
     "iopub.status.busy": "2022-08-03T20:58:23.120388Z",
     "iopub.status.idle": "2022-08-03T20:58:23.127496Z",
     "shell.execute_reply": "2022-08-03T20:58:23.126701Z"
    },
    "papermill": {
     "duration": 0.037381,
     "end_time": "2022-08-03T20:58:23.129505",
     "exception": false,
     "start_time": "2022-08-03T20:58:23.092124",
     "status": "completed"
    },
    "tags": []
   },
   "outputs": [],
   "source": [
    "import random \n",
    "import numpy as np\n",
    "import torch\n",
    "    \n",
    "def random_seed(dls,seed_value):\n",
    "    random.seed(seed_value)\n",
    "    os.environ['PYTHONHASHSEED'] = str(seed_value)\n",
    "    np.random.seed(seed_value)\n",
    "    torch.manual_seed(seed_value)\n",
    "    torch.cuda.manual_seed(seed_value)\n",
    "    torch.cuda.manual_seed_all(seed_value) # if you are using multi-GPU.\n",
    "    torch.backends.cudnn.benchmark = False\n",
    "    torch.backends.cudnn.deterministic = True\n",
    "    dls.rng.seed(seed_value)\n",
    "    if torch.cuda.is_available(): \n",
    "        torch.cuda.manual_seed(seed_value)\n",
    "        torch.cuda.manual_seed_all(seed_value) # gpu vars\n",
    "        torch.backends.cudnn.deterministic = True  #needed\n",
    "        torch.backends.cudnn.benchmark = False"
   ]
  },
  {
   "cell_type": "code",
   "execution_count": 5,
   "id": "f6c19bdb",
   "metadata": {
    "execution": {
     "iopub.execute_input": "2022-08-03T20:58:23.187413Z",
     "iopub.status.busy": "2022-08-03T20:58:23.186701Z",
     "iopub.status.idle": "2022-08-03T20:58:24.697966Z",
     "shell.execute_reply": "2022-08-03T20:58:24.697108Z"
    },
    "papermill": {
     "duration": 1.542882,
     "end_time": "2022-08-03T20:58:24.700445",
     "exception": false,
     "start_time": "2022-08-03T20:58:23.157563",
     "status": "completed"
    },
    "tags": []
   },
   "outputs": [],
   "source": [
    "from fastai.vision.all import *\n",
    "pd.options.mode.chained_assignment = None\n",
    "train = pd.read_csv('../input/csv-files-for-microsoft-rice-disease/Train.csv')\n",
    "test = pd.read_csv('../input/csv-files-for-microsoft-rice-disease/Test.csv')\n",
    "submission = pd.read_csv(\"../input/csv-files-for-microsoft-rice-disease/SampleSubmission.csv\")"
   ]
  },
  {
   "cell_type": "code",
   "execution_count": 6,
   "id": "b7b751fd",
   "metadata": {
    "execution": {
     "iopub.execute_input": "2022-08-03T20:58:24.756745Z",
     "iopub.status.busy": "2022-08-03T20:58:24.755848Z",
     "iopub.status.idle": "2022-08-03T20:58:24.776146Z",
     "shell.execute_reply": "2022-08-03T20:58:24.775148Z"
    },
    "papermill": {
     "duration": 0.051352,
     "end_time": "2022-08-03T20:58:24.778884",
     "exception": false,
     "start_time": "2022-08-03T20:58:24.727532",
     "status": "completed"
    },
    "tags": []
   },
   "outputs": [
    {
     "data": {
      "text/html": [
       "<div>\n",
       "<style scoped>\n",
       "    .dataframe tbody tr th:only-of-type {\n",
       "        vertical-align: middle;\n",
       "    }\n",
       "\n",
       "    .dataframe tbody tr th {\n",
       "        vertical-align: top;\n",
       "    }\n",
       "\n",
       "    .dataframe thead th {\n",
       "        text-align: right;\n",
       "    }\n",
       "</style>\n",
       "<table border=\"1\" class=\"dataframe\">\n",
       "  <thead>\n",
       "    <tr style=\"text-align: right;\">\n",
       "      <th></th>\n",
       "      <th>Image_id</th>\n",
       "      <th>Label</th>\n",
       "    </tr>\n",
       "  </thead>\n",
       "  <tbody>\n",
       "    <tr>\n",
       "      <th>0</th>\n",
       "      <td>id_004wknd7qd.jpg</td>\n",
       "      <td>blast</td>\n",
       "    </tr>\n",
       "    <tr>\n",
       "      <th>1</th>\n",
       "      <td>id_004wknd7qd_rgn.jpg</td>\n",
       "      <td>blast</td>\n",
       "    </tr>\n",
       "    <tr>\n",
       "      <th>2</th>\n",
       "      <td>id_005sitfgr2.jpg</td>\n",
       "      <td>brown</td>\n",
       "    </tr>\n",
       "    <tr>\n",
       "      <th>3</th>\n",
       "      <td>id_005sitfgr2_rgn.jpg</td>\n",
       "      <td>brown</td>\n",
       "    </tr>\n",
       "    <tr>\n",
       "      <th>4</th>\n",
       "      <td>id_00stp9t6m6.jpg</td>\n",
       "      <td>blast</td>\n",
       "    </tr>\n",
       "    <tr>\n",
       "      <th>...</th>\n",
       "      <td>...</td>\n",
       "      <td>...</td>\n",
       "    </tr>\n",
       "    <tr>\n",
       "      <th>5335</th>\n",
       "      <td>id_zz6gzk7p97_rgn.jpg</td>\n",
       "      <td>brown</td>\n",
       "    </tr>\n",
       "    <tr>\n",
       "      <th>5336</th>\n",
       "      <td>id_zz8ca2p67e.jpg</td>\n",
       "      <td>blast</td>\n",
       "    </tr>\n",
       "    <tr>\n",
       "      <th>5337</th>\n",
       "      <td>id_zz8ca2p67e_rgn.jpg</td>\n",
       "      <td>blast</td>\n",
       "    </tr>\n",
       "    <tr>\n",
       "      <th>5338</th>\n",
       "      <td>id_zzt8y9q0x0.jpg</td>\n",
       "      <td>brown</td>\n",
       "    </tr>\n",
       "    <tr>\n",
       "      <th>5339</th>\n",
       "      <td>id_zzt8y9q0x0_rgn.jpg</td>\n",
       "      <td>brown</td>\n",
       "    </tr>\n",
       "  </tbody>\n",
       "</table>\n",
       "<p>5340 rows × 2 columns</p>\n",
       "</div>"
      ],
      "text/plain": [
       "                   Image_id  Label\n",
       "0         id_004wknd7qd.jpg  blast\n",
       "1     id_004wknd7qd_rgn.jpg  blast\n",
       "2         id_005sitfgr2.jpg  brown\n",
       "3     id_005sitfgr2_rgn.jpg  brown\n",
       "4         id_00stp9t6m6.jpg  blast\n",
       "...                     ...    ...\n",
       "5335  id_zz6gzk7p97_rgn.jpg  brown\n",
       "5336      id_zz8ca2p67e.jpg  blast\n",
       "5337  id_zz8ca2p67e_rgn.jpg  blast\n",
       "5338      id_zzt8y9q0x0.jpg  brown\n",
       "5339  id_zzt8y9q0x0_rgn.jpg  brown\n",
       "\n",
       "[5340 rows x 2 columns]"
      ]
     },
     "execution_count": 6,
     "metadata": {},
     "output_type": "execute_result"
    }
   ],
   "source": [
    "train"
   ]
  },
  {
   "cell_type": "code",
   "execution_count": 7,
   "id": "21b86ebb",
   "metadata": {
    "execution": {
     "iopub.execute_input": "2022-08-03T20:58:24.838520Z",
     "iopub.status.busy": "2022-08-03T20:58:24.838240Z",
     "iopub.status.idle": "2022-08-03T20:58:24.849729Z",
     "shell.execute_reply": "2022-08-03T20:58:24.848983Z"
    },
    "papermill": {
     "duration": 0.044081,
     "end_time": "2022-08-03T20:58:24.851607",
     "exception": false,
     "start_time": "2022-08-03T20:58:24.807526",
     "status": "completed"
    },
    "tags": []
   },
   "outputs": [
    {
     "data": {
      "text/plain": [
       "array(['blast', 'brown', 'healthy'], dtype=object)"
      ]
     },
     "execution_count": 7,
     "metadata": {},
     "output_type": "execute_result"
    }
   ],
   "source": [
    "unique_label = train['Label'].unique()\n",
    "unique_label"
   ]
  },
  {
   "cell_type": "code",
   "execution_count": 8,
   "id": "bc74cd7e",
   "metadata": {
    "execution": {
     "iopub.execute_input": "2022-08-03T20:58:24.910527Z",
     "iopub.status.busy": "2022-08-03T20:58:24.909811Z",
     "iopub.status.idle": "2022-08-03T20:58:24.921874Z",
     "shell.execute_reply": "2022-08-03T20:58:24.921009Z"
    },
    "papermill": {
     "duration": 0.043242,
     "end_time": "2022-08-03T20:58:24.924125",
     "exception": false,
     "start_time": "2022-08-03T20:58:24.880883",
     "status": "completed"
    },
    "tags": []
   },
   "outputs": [
    {
     "data": {
      "text/plain": [
       "blast      2988\n",
       "brown      1532\n",
       "healthy     820\n",
       "Name: Label, dtype: int64"
      ]
     },
     "execution_count": 8,
     "metadata": {},
     "output_type": "execute_result"
    }
   ],
   "source": [
    "train['Label'].value_counts()"
   ]
  },
  {
   "cell_type": "code",
   "execution_count": 9,
   "id": "f25773db",
   "metadata": {
    "execution": {
     "iopub.execute_input": "2022-08-03T20:58:24.985576Z",
     "iopub.status.busy": "2022-08-03T20:58:24.984867Z",
     "iopub.status.idle": "2022-08-03T20:58:24.998462Z",
     "shell.execute_reply": "2022-08-03T20:58:24.997778Z"
    },
    "papermill": {
     "duration": 0.046565,
     "end_time": "2022-08-03T20:58:25.000370",
     "exception": false,
     "start_time": "2022-08-03T20:58:24.953805",
     "status": "completed"
    },
    "tags": []
   },
   "outputs": [],
   "source": [
    "train = train[~train.Image_id.str.contains('_rgn')]\n",
    "train.reset_index(inplace=True,drop=True)\n",
    "test = test[~test.Image_id.str.contains('_rgn')]\n",
    "test.reset_index(inplace=True,drop=True)"
   ]
  },
  {
   "cell_type": "code",
   "execution_count": 10,
   "id": "e46ec913",
   "metadata": {
    "execution": {
     "iopub.execute_input": "2022-08-03T20:58:25.060021Z",
     "iopub.status.busy": "2022-08-03T20:58:25.059304Z",
     "iopub.status.idle": "2022-08-03T20:58:25.064966Z",
     "shell.execute_reply": "2022-08-03T20:58:25.064216Z"
    },
    "papermill": {
     "duration": 0.037468,
     "end_time": "2022-08-03T20:58:25.066818",
     "exception": false,
     "start_time": "2022-08-03T20:58:25.029350",
     "status": "completed"
    },
    "tags": []
   },
   "outputs": [],
   "source": [
    "from sklearn import preprocessing\n",
    "le = preprocessing.LabelEncoder()\n",
    "train['Label']=le.fit_transform(train['Label'])"
   ]
  },
  {
   "cell_type": "code",
   "execution_count": 11,
   "id": "992b2671",
   "metadata": {
    "execution": {
     "iopub.execute_input": "2022-08-03T20:58:25.126110Z",
     "iopub.status.busy": "2022-08-03T20:58:25.125727Z",
     "iopub.status.idle": "2022-08-03T20:58:25.171648Z",
     "shell.execute_reply": "2022-08-03T20:58:25.170851Z"
    },
    "papermill": {
     "duration": 0.078224,
     "end_time": "2022-08-03T20:58:25.173739",
     "exception": false,
     "start_time": "2022-08-03T20:58:25.095515",
     "status": "completed"
    },
    "tags": []
   },
   "outputs": [
    {
     "data": {
      "text/plain": [
       "(1500, 2000)"
      ]
     },
     "execution_count": 11,
     "metadata": {},
     "output_type": "execute_result"
    }
   ],
   "source": [
    "img=Image.open('../input/microsoft-rice-disease-classification-challenge/id_004wknd7qd_rgn.jpg') # View one image and check the files are present\n",
    "img.shape"
   ]
  },
  {
   "cell_type": "code",
   "execution_count": 12,
   "id": "6cbf8d96",
   "metadata": {
    "execution": {
     "iopub.execute_input": "2022-08-03T20:58:25.233795Z",
     "iopub.status.busy": "2022-08-03T20:58:25.233225Z",
     "iopub.status.idle": "2022-08-03T20:58:25.361912Z",
     "shell.execute_reply": "2022-08-03T20:58:25.361057Z"
    },
    "papermill": {
     "duration": 0.160676,
     "end_time": "2022-08-03T20:58:25.363890",
     "exception": false,
     "start_time": "2022-08-03T20:58:25.203214",
     "status": "completed"
    },
    "tags": []
   },
   "outputs": [
    {
     "data": {
      "text/plain": [
       "133"
      ]
     },
     "execution_count": 12,
     "metadata": {},
     "output_type": "execute_result"
    }
   ],
   "source": [
    "import torch\n",
    "torch.cuda.empty_cache()\n",
    "torch.cuda.memory_allocated()\n",
    "import gc; gc.collect()"
   ]
  },
  {
   "cell_type": "code",
   "execution_count": 13,
   "id": "1eadf658",
   "metadata": {
    "execution": {
     "iopub.execute_input": "2022-08-03T20:58:25.424495Z",
     "iopub.status.busy": "2022-08-03T20:58:25.423761Z",
     "iopub.status.idle": "2022-08-03T20:58:26.522136Z",
     "shell.execute_reply": "2022-08-03T20:58:26.521118Z"
    },
    "papermill": {
     "duration": 1.131456,
     "end_time": "2022-08-03T20:58:26.524787",
     "exception": false,
     "start_time": "2022-08-03T20:58:25.393331",
     "status": "completed"
    },
    "tags": []
   },
   "outputs": [
    {
     "name": "stdout",
     "output_type": "stream",
     "text": [
      "Wed Aug  3 20:58:26 2022       \r\n",
      "+-----------------------------------------------------------------------------+\r\n",
      "| NVIDIA-SMI 470.82.01    Driver Version: 470.82.01    CUDA Version: 11.4     |\r\n",
      "|-------------------------------+----------------------+----------------------+\r\n",
      "| GPU  Name        Persistence-M| Bus-Id        Disp.A | Volatile Uncorr. ECC |\r\n",
      "| Fan  Temp  Perf  Pwr:Usage/Cap|         Memory-Usage | GPU-Util  Compute M. |\r\n",
      "|                               |                      |               MIG M. |\r\n",
      "|===============================+======================+======================|\r\n",
      "|   0  Tesla P100-PCIE...  Off  | 00000000:00:04.0 Off |                    0 |\r\n",
      "| N/A   35C    P0    28W / 250W |      2MiB / 16280MiB |      0%      Default |\r\n",
      "|                               |                      |                  N/A |\r\n",
      "+-------------------------------+----------------------+----------------------+\r\n",
      "                                                                               \r\n",
      "+-----------------------------------------------------------------------------+\r\n",
      "| Processes:                                                                  |\r\n",
      "|  GPU   GI   CI        PID   Type   Process name                  GPU Memory |\r\n",
      "|        ID   ID                                                   Usage      |\r\n",
      "|=============================================================================|\r\n",
      "|  No running processes found                                                 |\r\n",
      "+-----------------------------------------------------------------------------+\r\n"
     ]
    }
   ],
   "source": [
    "!nvidia-smi"
   ]
  },
  {
   "cell_type": "code",
   "execution_count": 14,
   "id": "77b88d82",
   "metadata": {
    "execution": {
     "iopub.execute_input": "2022-08-03T20:58:26.586905Z",
     "iopub.status.busy": "2022-08-03T20:58:26.586295Z",
     "iopub.status.idle": "2022-08-03T20:58:42.040435Z",
     "shell.execute_reply": "2022-08-03T20:58:42.039062Z"
    },
    "papermill": {
     "duration": 15.491061,
     "end_time": "2022-08-03T20:58:42.046432",
     "exception": false,
     "start_time": "2022-08-03T20:58:26.555371",
     "status": "completed"
    },
    "tags": []
   },
   "outputs": [
    {
     "name": "stdout",
     "output_type": "stream",
     "text": [
      "Collecting timm\r\n",
      "  Downloading timm-0.6.7-py3-none-any.whl (509 kB)\r\n",
      "\u001B[2K     \u001B[90m━━━━━━━━━━━━━━━━━━━━━━━━━━━━━━━━━━━━━━━\u001B[0m \u001B[32m510.0/510.0 KB\u001B[0m \u001B[31m9.4 MB/s\u001B[0m eta \u001B[36m0:00:00\u001B[0m\r\n",
      "\u001B[?25hRequirement already satisfied: torch>=1.4 in /opt/conda/lib/python3.7/site-packages (from timm) (1.11.0)\r\n",
      "Requirement already satisfied: torchvision in /opt/conda/lib/python3.7/site-packages (from timm) (0.12.0)\r\n",
      "Requirement already satisfied: typing-extensions in /opt/conda/lib/python3.7/site-packages (from torch>=1.4->timm) (4.2.0)\r\n",
      "Requirement already satisfied: pillow!=8.3.*,>=5.3.0 in /opt/conda/lib/python3.7/site-packages (from torchvision->timm) (9.0.1)\r\n",
      "Requirement already satisfied: requests in /opt/conda/lib/python3.7/site-packages (from torchvision->timm) (2.27.1)\r\n",
      "Requirement already satisfied: numpy in /opt/conda/lib/python3.7/site-packages (from torchvision->timm) (1.21.6)\r\n",
      "Requirement already satisfied: idna<4,>=2.5 in /opt/conda/lib/python3.7/site-packages (from requests->torchvision->timm) (3.3)\r\n",
      "Requirement already satisfied: certifi>=2017.4.17 in /opt/conda/lib/python3.7/site-packages (from requests->torchvision->timm) (2021.10.8)\r\n",
      "Requirement already satisfied: urllib3<1.27,>=1.21.1 in /opt/conda/lib/python3.7/site-packages (from requests->torchvision->timm) (1.26.8)\r\n",
      "Requirement already satisfied: charset-normalizer~=2.0.0 in /opt/conda/lib/python3.7/site-packages (from requests->torchvision->timm) (2.0.12)\r\n",
      "Installing collected packages: timm\r\n",
      "Successfully installed timm-0.6.7\r\n",
      "\u001B[33mWARNING: Running pip as the 'root' user can result in broken permissions and conflicting behaviour with the system package manager. It is recommended to use a virtual environment instead: https://pip.pypa.io/warnings/venv\u001B[0m\u001B[33m\r\n",
      "\u001B[0m"
     ]
    }
   ],
   "source": [
    "!pip install timm\n",
    "from timm import create_model"
   ]
  },
  {
   "cell_type": "code",
   "execution_count": 15,
   "id": "10403cef",
   "metadata": {
    "execution": {
     "iopub.execute_input": "2022-08-03T20:58:42.203537Z",
     "iopub.status.busy": "2022-08-03T20:58:42.203208Z",
     "iopub.status.idle": "2022-08-03T20:58:42.211658Z",
     "shell.execute_reply": "2022-08-03T20:58:42.210859Z"
    },
    "papermill": {
     "duration": 0.080434,
     "end_time": "2022-08-03T20:58:42.216399",
     "exception": false,
     "start_time": "2022-08-03T20:58:42.135965",
     "status": "completed"
    },
    "tags": []
   },
   "outputs": [],
   "source": [
    "class AlbumentationsTransform(DisplayedTransform):\n",
    "    split_idx,order=0,2\n",
    "    def __init__(self, train_aug): store_attr()\n",
    "    \n",
    "    def encodes(self, img: PILImage):\n",
    "        aug_img = self.train_aug(image=np.array(img))['image']\n",
    "        return PILImage.create(aug_img)"
   ]
  },
  {
   "cell_type": "code",
   "execution_count": 16,
   "id": "361f9f02",
   "metadata": {
    "execution": {
     "iopub.execute_input": "2022-08-03T20:58:42.330903Z",
     "iopub.status.busy": "2022-08-03T20:58:42.330608Z",
     "iopub.status.idle": "2022-08-03T20:58:43.729031Z",
     "shell.execute_reply": "2022-08-03T20:58:43.728120Z"
    },
    "papermill": {
     "duration": 1.458092,
     "end_time": "2022-08-03T20:58:43.731500",
     "exception": false,
     "start_time": "2022-08-03T20:58:42.273408",
     "status": "completed"
    },
    "tags": []
   },
   "outputs": [],
   "source": [
    "import albumentations\n",
    "def get_train_aug(): return albumentations.Compose([\n",
    "            #albumentations.HueSaturationValue(\n",
    "                #hue_shift_limit=0.2, \n",
    "                #sat_shift_limit=0.2, \n",
    "                #val_shift_limit=0.2, \n",
    "                #p=0.5\n",
    "            #),\n",
    "            albumentations.CoarseDropout(p=0.5),\n",
    "            albumentations.RandomContrast(p = 0.6)\n",
    "])"
   ]
  },
  {
   "cell_type": "code",
   "execution_count": 17,
   "id": "2d27ef5f",
   "metadata": {
    "execution": {
     "iopub.execute_input": "2022-08-03T20:58:43.798075Z",
     "iopub.status.busy": "2022-08-03T20:58:43.797751Z",
     "iopub.status.idle": "2022-08-04T07:18:42.250952Z",
     "shell.execute_reply": "2022-08-04T07:18:42.250084Z"
    },
    "papermill": {
     "duration": 37198.48953,
     "end_time": "2022-08-04T07:18:42.253206",
     "exception": false,
     "start_time": "2022-08-03T20:58:43.763676",
     "status": "completed"
    },
    "scrolled": true,
    "tags": []
   },
   "outputs": [
    {
     "name": "stderr",
     "output_type": "stream",
     "text": [
      "/opt/conda/lib/python3.7/site-packages/albumentations/augmentations/transforms.py:1828: FutureWarning: This class has been deprecated. Please use RandomBrightnessContrast\n",
      "  FutureWarning,\n",
      "/opt/conda/lib/python3.7/site-packages/torch/functional.py:568: UserWarning: torch.meshgrid: in an upcoming release, it will be required to pass the indexing argument. (Triggered internally at  /usr/local/src/pytorch/aten/src/ATen/native/TensorShape.cpp:2227.)\n",
      "  return _VF.meshgrid(tensors, **kwargs)  # type: ignore[attr-defined]\n",
      "Downloading: \"https://github.com/SwinTransformer/storage/releases/download/v1.0.0/swin_large_patch4_window12_384_22kto1k.pth\" to /root/.cache/torch/hub/checkpoints/swin_large_patch4_window12_384_22kto1k.pth\n"
     ]
    },
    {
     "data": {
      "text/html": [
       "\n",
       "<style>\n",
       "    /* Turns off some styling */\n",
       "    progress {\n",
       "        /* gets rid of default border in Firefox and Opera. */\n",
       "        border: none;\n",
       "        /* Needs to be in here for Safari polyfill so background images work as expected. */\n",
       "        background-size: auto;\n",
       "    }\n",
       "    .progress-bar-interrupted, .progress-bar-interrupted::-webkit-progress-bar {\n",
       "        background: #F44336;\n",
       "    }\n",
       "</style>\n"
      ],
      "text/plain": [
       "<IPython.core.display.HTML object>"
      ]
     },
     "metadata": {},
     "output_type": "display_data"
    },
    {
     "data": {
      "text/html": [],
      "text/plain": [
       "<IPython.core.display.HTML object>"
      ]
     },
     "metadata": {},
     "output_type": "display_data"
    },
    {
     "data": {
      "text/html": [
       "\n",
       "<style>\n",
       "    /* Turns off some styling */\n",
       "    progress {\n",
       "        /* gets rid of default border in Firefox and Opera. */\n",
       "        border: none;\n",
       "        /* Needs to be in here for Safari polyfill so background images work as expected. */\n",
       "        background-size: auto;\n",
       "    }\n",
       "    .progress-bar-interrupted, .progress-bar-interrupted::-webkit-progress-bar {\n",
       "        background: #F44336;\n",
       "    }\n",
       "</style>\n"
      ],
      "text/plain": [
       "<IPython.core.display.HTML object>"
      ]
     },
     "metadata": {},
     "output_type": "display_data"
    },
    {
     "data": {
      "text/html": [
       "<table border=\"1\" class=\"dataframe\">\n",
       "  <thead>\n",
       "    <tr style=\"text-align: left;\">\n",
       "      <th>epoch</th>\n",
       "      <th>train_loss</th>\n",
       "      <th>valid_loss</th>\n",
       "      <th>error_rate</th>\n",
       "      <th>accuracy</th>\n",
       "      <th>time</th>\n",
       "    </tr>\n",
       "  </thead>\n",
       "  <tbody>\n",
       "    <tr>\n",
       "      <td>0</td>\n",
       "      <td>0.472987</td>\n",
       "      <td>0.276216</td>\n",
       "      <td>0.089888</td>\n",
       "      <td>0.910112</td>\n",
       "      <td>05:23</td>\n",
       "    </tr>\n",
       "  </tbody>\n",
       "</table>"
      ],
      "text/plain": [
       "<IPython.core.display.HTML object>"
      ]
     },
     "metadata": {},
     "output_type": "display_data"
    },
    {
     "name": "stdout",
     "output_type": "stream",
     "text": [
      "Better model found at epoch 0 with valid_loss value: 0.27621570229530334.\n"
     ]
    },
    {
     "data": {
      "text/html": [
       "\n",
       "<style>\n",
       "    /* Turns off some styling */\n",
       "    progress {\n",
       "        /* gets rid of default border in Firefox and Opera. */\n",
       "        border: none;\n",
       "        /* Needs to be in here for Safari polyfill so background images work as expected. */\n",
       "        background-size: auto;\n",
       "    }\n",
       "    .progress-bar-interrupted, .progress-bar-interrupted::-webkit-progress-bar {\n",
       "        background: #F44336;\n",
       "    }\n",
       "</style>\n"
      ],
      "text/plain": [
       "<IPython.core.display.HTML object>"
      ]
     },
     "metadata": {},
     "output_type": "display_data"
    },
    {
     "data": {
      "text/html": [
       "<table border=\"1\" class=\"dataframe\">\n",
       "  <thead>\n",
       "    <tr style=\"text-align: left;\">\n",
       "      <th>epoch</th>\n",
       "      <th>train_loss</th>\n",
       "      <th>valid_loss</th>\n",
       "      <th>error_rate</th>\n",
       "      <th>accuracy</th>\n",
       "      <th>time</th>\n",
       "    </tr>\n",
       "  </thead>\n",
       "  <tbody>\n",
       "    <tr>\n",
       "      <td>0</td>\n",
       "      <td>0.300329</td>\n",
       "      <td>0.213575</td>\n",
       "      <td>0.076779</td>\n",
       "      <td>0.923221</td>\n",
       "      <td>05:24</td>\n",
       "    </tr>\n",
       "    <tr>\n",
       "      <td>1</td>\n",
       "      <td>0.241219</td>\n",
       "      <td>0.162120</td>\n",
       "      <td>0.061798</td>\n",
       "      <td>0.938202</td>\n",
       "      <td>05:24</td>\n",
       "    </tr>\n",
       "    <tr>\n",
       "      <td>2</td>\n",
       "      <td>0.250311</td>\n",
       "      <td>0.148619</td>\n",
       "      <td>0.052434</td>\n",
       "      <td>0.947566</td>\n",
       "      <td>05:24</td>\n",
       "    </tr>\n",
       "    <tr>\n",
       "      <td>3</td>\n",
       "      <td>0.167350</td>\n",
       "      <td>0.126633</td>\n",
       "      <td>0.043071</td>\n",
       "      <td>0.956929</td>\n",
       "      <td>05:24</td>\n",
       "    </tr>\n",
       "    <tr>\n",
       "      <td>4</td>\n",
       "      <td>0.148244</td>\n",
       "      <td>0.111628</td>\n",
       "      <td>0.041199</td>\n",
       "      <td>0.958802</td>\n",
       "      <td>05:24</td>\n",
       "    </tr>\n",
       "    <tr>\n",
       "      <td>5</td>\n",
       "      <td>0.127174</td>\n",
       "      <td>0.104761</td>\n",
       "      <td>0.039326</td>\n",
       "      <td>0.960674</td>\n",
       "      <td>05:25</td>\n",
       "    </tr>\n",
       "    <tr>\n",
       "      <td>6</td>\n",
       "      <td>0.106361</td>\n",
       "      <td>0.108227</td>\n",
       "      <td>0.031835</td>\n",
       "      <td>0.968165</td>\n",
       "      <td>05:24</td>\n",
       "    </tr>\n",
       "    <tr>\n",
       "      <td>7</td>\n",
       "      <td>0.066143</td>\n",
       "      <td>0.084010</td>\n",
       "      <td>0.031835</td>\n",
       "      <td>0.968165</td>\n",
       "      <td>05:25</td>\n",
       "    </tr>\n",
       "    <tr>\n",
       "      <td>8</td>\n",
       "      <td>0.076948</td>\n",
       "      <td>0.066891</td>\n",
       "      <td>0.022472</td>\n",
       "      <td>0.977528</td>\n",
       "      <td>05:24</td>\n",
       "    </tr>\n",
       "    <tr>\n",
       "      <td>9</td>\n",
       "      <td>0.080886</td>\n",
       "      <td>0.072824</td>\n",
       "      <td>0.020599</td>\n",
       "      <td>0.979401</td>\n",
       "      <td>05:24</td>\n",
       "    </tr>\n",
       "    <tr>\n",
       "      <td>10</td>\n",
       "      <td>0.039066</td>\n",
       "      <td>0.060352</td>\n",
       "      <td>0.013109</td>\n",
       "      <td>0.986891</td>\n",
       "      <td>05:25</td>\n",
       "    </tr>\n",
       "    <tr>\n",
       "      <td>11</td>\n",
       "      <td>0.035354</td>\n",
       "      <td>0.064003</td>\n",
       "      <td>0.016854</td>\n",
       "      <td>0.983146</td>\n",
       "      <td>05:24</td>\n",
       "    </tr>\n",
       "    <tr>\n",
       "      <td>12</td>\n",
       "      <td>0.021861</td>\n",
       "      <td>0.059453</td>\n",
       "      <td>0.016854</td>\n",
       "      <td>0.983146</td>\n",
       "      <td>05:24</td>\n",
       "    </tr>\n",
       "    <tr>\n",
       "      <td>13</td>\n",
       "      <td>0.018999</td>\n",
       "      <td>0.067544</td>\n",
       "      <td>0.016854</td>\n",
       "      <td>0.983146</td>\n",
       "      <td>05:25</td>\n",
       "    </tr>\n",
       "    <tr>\n",
       "      <td>14</td>\n",
       "      <td>0.038057</td>\n",
       "      <td>0.064157</td>\n",
       "      <td>0.011236</td>\n",
       "      <td>0.988764</td>\n",
       "      <td>05:24</td>\n",
       "    </tr>\n",
       "    <tr>\n",
       "      <td>15</td>\n",
       "      <td>0.014258</td>\n",
       "      <td>0.061127</td>\n",
       "      <td>0.013109</td>\n",
       "      <td>0.986891</td>\n",
       "      <td>05:24</td>\n",
       "    </tr>\n",
       "    <tr>\n",
       "      <td>16</td>\n",
       "      <td>0.009000</td>\n",
       "      <td>0.057903</td>\n",
       "      <td>0.013109</td>\n",
       "      <td>0.986891</td>\n",
       "      <td>05:24</td>\n",
       "    </tr>\n",
       "    <tr>\n",
       "      <td>17</td>\n",
       "      <td>0.015142</td>\n",
       "      <td>0.063060</td>\n",
       "      <td>0.014981</td>\n",
       "      <td>0.985019</td>\n",
       "      <td>05:25</td>\n",
       "    </tr>\n",
       "    <tr>\n",
       "      <td>18</td>\n",
       "      <td>0.035206</td>\n",
       "      <td>0.060690</td>\n",
       "      <td>0.013109</td>\n",
       "      <td>0.986891</td>\n",
       "      <td>05:24</td>\n",
       "    </tr>\n",
       "    <tr>\n",
       "      <td>19</td>\n",
       "      <td>0.007661</td>\n",
       "      <td>0.061318</td>\n",
       "      <td>0.013109</td>\n",
       "      <td>0.986891</td>\n",
       "      <td>05:25</td>\n",
       "    </tr>\n",
       "  </tbody>\n",
       "</table>"
      ],
      "text/plain": [
       "<IPython.core.display.HTML object>"
      ]
     },
     "metadata": {},
     "output_type": "display_data"
    },
    {
     "name": "stdout",
     "output_type": "stream",
     "text": [
      "Better model found at epoch 0 with valid_loss value: 0.21357540786266327.\n",
      "Better model found at epoch 1 with valid_loss value: 0.16211996972560883.\n",
      "Better model found at epoch 2 with valid_loss value: 0.1486193984746933.\n",
      "Better model found at epoch 3 with valid_loss value: 0.12663280963897705.\n",
      "Better model found at epoch 4 with valid_loss value: 0.11162836849689484.\n",
      "Better model found at epoch 5 with valid_loss value: 0.10476129502058029.\n",
      "Better model found at epoch 7 with valid_loss value: 0.08401039987802505.\n",
      "Better model found at epoch 8 with valid_loss value: 0.06689105182886124.\n",
      "Better model found at epoch 10 with valid_loss value: 0.06035209074616432.\n",
      "Better model found at epoch 12 with valid_loss value: 0.059453096240758896.\n",
      "Better model found at epoch 16 with valid_loss value: 0.05790266767144203.\n"
     ]
    },
    {
     "data": {
      "text/html": [
       "\n",
       "<style>\n",
       "    /* Turns off some styling */\n",
       "    progress {\n",
       "        /* gets rid of default border in Firefox and Opera. */\n",
       "        border: none;\n",
       "        /* Needs to be in here for Safari polyfill so background images work as expected. */\n",
       "        background-size: auto;\n",
       "    }\n",
       "    .progress-bar-interrupted, .progress-bar-interrupted::-webkit-progress-bar {\n",
       "        background: #F44336;\n",
       "    }\n",
       "</style>\n"
      ],
      "text/plain": [
       "<IPython.core.display.HTML object>"
      ]
     },
     "metadata": {},
     "output_type": "display_data"
    },
    {
     "data": {
      "text/html": [
       "\n",
       "    <div>\n",
       "      <progress value='0' class='' max='20' style='width:300px; height:20px; vertical-align: middle;'></progress>\n",
       "      \n",
       "    </div>\n",
       "    \n"
      ],
      "text/plain": [
       "<IPython.core.display.HTML object>"
      ]
     },
     "metadata": {},
     "output_type": "display_data"
    },
    {
     "data": {
      "text/html": [
       "\n",
       "<style>\n",
       "    /* Turns off some styling */\n",
       "    progress {\n",
       "        /* gets rid of default border in Firefox and Opera. */\n",
       "        border: none;\n",
       "        /* Needs to be in here for Safari polyfill so background images work as expected. */\n",
       "        background-size: auto;\n",
       "    }\n",
       "    .progress-bar-interrupted, .progress-bar-interrupted::-webkit-progress-bar {\n",
       "        background: #F44336;\n",
       "    }\n",
       "</style>\n"
      ],
      "text/plain": [
       "<IPython.core.display.HTML object>"
      ]
     },
     "metadata": {},
     "output_type": "display_data"
    },
    {
     "data": {
      "text/html": [],
      "text/plain": [
       "<IPython.core.display.HTML object>"
      ]
     },
     "metadata": {},
     "output_type": "display_data"
    },
    {
     "name": "stdout",
     "output_type": "stream",
     "text": [
      "0.07425337033945852\n"
     ]
    },
    {
     "data": {
      "text/html": [
       "\n",
       "<style>\n",
       "    /* Turns off some styling */\n",
       "    progress {\n",
       "        /* gets rid of default border in Firefox and Opera. */\n",
       "        border: none;\n",
       "        /* Needs to be in here for Safari polyfill so background images work as expected. */\n",
       "        background-size: auto;\n",
       "    }\n",
       "    .progress-bar-interrupted, .progress-bar-interrupted::-webkit-progress-bar {\n",
       "        background: #F44336;\n",
       "    }\n",
       "</style>\n"
      ],
      "text/plain": [
       "<IPython.core.display.HTML object>"
      ]
     },
     "metadata": {},
     "output_type": "display_data"
    },
    {
     "data": {
      "text/html": [
       "\n",
       "    <div>\n",
       "      <progress value='0' class='' max='20' style='width:300px; height:20px; vertical-align: middle;'></progress>\n",
       "      \n",
       "    </div>\n",
       "    \n"
      ],
      "text/plain": [
       "<IPython.core.display.HTML object>"
      ]
     },
     "metadata": {},
     "output_type": "display_data"
    },
    {
     "data": {
      "text/html": [
       "\n",
       "<style>\n",
       "    /* Turns off some styling */\n",
       "    progress {\n",
       "        /* gets rid of default border in Firefox and Opera. */\n",
       "        border: none;\n",
       "        /* Needs to be in here for Safari polyfill so background images work as expected. */\n",
       "        background-size: auto;\n",
       "    }\n",
       "    .progress-bar-interrupted, .progress-bar-interrupted::-webkit-progress-bar {\n",
       "        background: #F44336;\n",
       "    }\n",
       "</style>\n"
      ],
      "text/plain": [
       "<IPython.core.display.HTML object>"
      ]
     },
     "metadata": {},
     "output_type": "display_data"
    },
    {
     "data": {
      "text/html": [],
      "text/plain": [
       "<IPython.core.display.HTML object>"
      ]
     },
     "metadata": {},
     "output_type": "display_data"
    },
    {
     "data": {
      "text/html": [
       "\n",
       "<style>\n",
       "    /* Turns off some styling */\n",
       "    progress {\n",
       "        /* gets rid of default border in Firefox and Opera. */\n",
       "        border: none;\n",
       "        /* Needs to be in here for Safari polyfill so background images work as expected. */\n",
       "        background-size: auto;\n",
       "    }\n",
       "    .progress-bar-interrupted, .progress-bar-interrupted::-webkit-progress-bar {\n",
       "        background: #F44336;\n",
       "    }\n",
       "</style>\n"
      ],
      "text/plain": [
       "<IPython.core.display.HTML object>"
      ]
     },
     "metadata": {},
     "output_type": "display_data"
    },
    {
     "data": {
      "text/html": [],
      "text/plain": [
       "<IPython.core.display.HTML object>"
      ]
     },
     "metadata": {},
     "output_type": "display_data"
    },
    {
     "name": "stdout",
     "output_type": "stream",
     "text": [
      "fold fineshed\n"
     ]
    },
    {
     "name": "stderr",
     "output_type": "stream",
     "text": [
      "/opt/conda/lib/python3.7/site-packages/albumentations/augmentations/transforms.py:1828: FutureWarning: This class has been deprecated. Please use RandomBrightnessContrast\n",
      "  FutureWarning,\n"
     ]
    },
    {
     "data": {
      "text/html": [
       "\n",
       "<style>\n",
       "    /* Turns off some styling */\n",
       "    progress {\n",
       "        /* gets rid of default border in Firefox and Opera. */\n",
       "        border: none;\n",
       "        /* Needs to be in here for Safari polyfill so background images work as expected. */\n",
       "        background-size: auto;\n",
       "    }\n",
       "    .progress-bar-interrupted, .progress-bar-interrupted::-webkit-progress-bar {\n",
       "        background: #F44336;\n",
       "    }\n",
       "</style>\n"
      ],
      "text/plain": [
       "<IPython.core.display.HTML object>"
      ]
     },
     "metadata": {},
     "output_type": "display_data"
    },
    {
     "data": {
      "text/html": [],
      "text/plain": [
       "<IPython.core.display.HTML object>"
      ]
     },
     "metadata": {},
     "output_type": "display_data"
    },
    {
     "data": {
      "text/html": [
       "\n",
       "<style>\n",
       "    /* Turns off some styling */\n",
       "    progress {\n",
       "        /* gets rid of default border in Firefox and Opera. */\n",
       "        border: none;\n",
       "        /* Needs to be in here for Safari polyfill so background images work as expected. */\n",
       "        background-size: auto;\n",
       "    }\n",
       "    .progress-bar-interrupted, .progress-bar-interrupted::-webkit-progress-bar {\n",
       "        background: #F44336;\n",
       "    }\n",
       "</style>\n"
      ],
      "text/plain": [
       "<IPython.core.display.HTML object>"
      ]
     },
     "metadata": {},
     "output_type": "display_data"
    },
    {
     "data": {
      "text/html": [
       "<table border=\"1\" class=\"dataframe\">\n",
       "  <thead>\n",
       "    <tr style=\"text-align: left;\">\n",
       "      <th>epoch</th>\n",
       "      <th>train_loss</th>\n",
       "      <th>valid_loss</th>\n",
       "      <th>error_rate</th>\n",
       "      <th>accuracy</th>\n",
       "      <th>time</th>\n",
       "    </tr>\n",
       "  </thead>\n",
       "  <tbody>\n",
       "    <tr>\n",
       "      <td>0</td>\n",
       "      <td>0.443247</td>\n",
       "      <td>0.414007</td>\n",
       "      <td>0.161049</td>\n",
       "      <td>0.838951</td>\n",
       "      <td>05:25</td>\n",
       "    </tr>\n",
       "  </tbody>\n",
       "</table>"
      ],
      "text/plain": [
       "<IPython.core.display.HTML object>"
      ]
     },
     "metadata": {},
     "output_type": "display_data"
    },
    {
     "name": "stdout",
     "output_type": "stream",
     "text": [
      "Better model found at epoch 0 with valid_loss value: 0.41400742530822754.\n"
     ]
    },
    {
     "data": {
      "text/html": [
       "\n",
       "<style>\n",
       "    /* Turns off some styling */\n",
       "    progress {\n",
       "        /* gets rid of default border in Firefox and Opera. */\n",
       "        border: none;\n",
       "        /* Needs to be in here for Safari polyfill so background images work as expected. */\n",
       "        background-size: auto;\n",
       "    }\n",
       "    .progress-bar-interrupted, .progress-bar-interrupted::-webkit-progress-bar {\n",
       "        background: #F44336;\n",
       "    }\n",
       "</style>\n"
      ],
      "text/plain": [
       "<IPython.core.display.HTML object>"
      ]
     },
     "metadata": {},
     "output_type": "display_data"
    },
    {
     "data": {
      "text/html": [
       "<table border=\"1\" class=\"dataframe\">\n",
       "  <thead>\n",
       "    <tr style=\"text-align: left;\">\n",
       "      <th>epoch</th>\n",
       "      <th>train_loss</th>\n",
       "      <th>valid_loss</th>\n",
       "      <th>error_rate</th>\n",
       "      <th>accuracy</th>\n",
       "      <th>time</th>\n",
       "    </tr>\n",
       "  </thead>\n",
       "  <tbody>\n",
       "    <tr>\n",
       "      <td>0</td>\n",
       "      <td>0.248423</td>\n",
       "      <td>0.204991</td>\n",
       "      <td>0.071161</td>\n",
       "      <td>0.928839</td>\n",
       "      <td>05:25</td>\n",
       "    </tr>\n",
       "    <tr>\n",
       "      <td>1</td>\n",
       "      <td>0.200906</td>\n",
       "      <td>0.159650</td>\n",
       "      <td>0.054307</td>\n",
       "      <td>0.945693</td>\n",
       "      <td>05:24</td>\n",
       "    </tr>\n",
       "    <tr>\n",
       "      <td>2</td>\n",
       "      <td>0.187353</td>\n",
       "      <td>0.129657</td>\n",
       "      <td>0.050562</td>\n",
       "      <td>0.949438</td>\n",
       "      <td>05:26</td>\n",
       "    </tr>\n",
       "    <tr>\n",
       "      <td>3</td>\n",
       "      <td>0.152109</td>\n",
       "      <td>0.103816</td>\n",
       "      <td>0.037453</td>\n",
       "      <td>0.962547</td>\n",
       "      <td>05:25</td>\n",
       "    </tr>\n",
       "    <tr>\n",
       "      <td>4</td>\n",
       "      <td>0.134454</td>\n",
       "      <td>0.160668</td>\n",
       "      <td>0.059925</td>\n",
       "      <td>0.940075</td>\n",
       "      <td>05:25</td>\n",
       "    </tr>\n",
       "    <tr>\n",
       "      <td>5</td>\n",
       "      <td>0.106386</td>\n",
       "      <td>0.101644</td>\n",
       "      <td>0.033708</td>\n",
       "      <td>0.966292</td>\n",
       "      <td>05:26</td>\n",
       "    </tr>\n",
       "    <tr>\n",
       "      <td>6</td>\n",
       "      <td>0.114463</td>\n",
       "      <td>0.129447</td>\n",
       "      <td>0.043071</td>\n",
       "      <td>0.956929</td>\n",
       "      <td>05:26</td>\n",
       "    </tr>\n",
       "    <tr>\n",
       "      <td>7</td>\n",
       "      <td>0.062189</td>\n",
       "      <td>0.085069</td>\n",
       "      <td>0.022472</td>\n",
       "      <td>0.977528</td>\n",
       "      <td>05:26</td>\n",
       "    </tr>\n",
       "    <tr>\n",
       "      <td>8</td>\n",
       "      <td>0.035902</td>\n",
       "      <td>0.060517</td>\n",
       "      <td>0.020599</td>\n",
       "      <td>0.979401</td>\n",
       "      <td>05:25</td>\n",
       "    </tr>\n",
       "    <tr>\n",
       "      <td>9</td>\n",
       "      <td>0.029939</td>\n",
       "      <td>0.074301</td>\n",
       "      <td>0.026217</td>\n",
       "      <td>0.973783</td>\n",
       "      <td>05:25</td>\n",
       "    </tr>\n",
       "    <tr>\n",
       "      <td>10</td>\n",
       "      <td>0.032751</td>\n",
       "      <td>0.059550</td>\n",
       "      <td>0.016854</td>\n",
       "      <td>0.983146</td>\n",
       "      <td>05:24</td>\n",
       "    </tr>\n",
       "    <tr>\n",
       "      <td>11</td>\n",
       "      <td>0.034254</td>\n",
       "      <td>0.078687</td>\n",
       "      <td>0.026217</td>\n",
       "      <td>0.973783</td>\n",
       "      <td>05:24</td>\n",
       "    </tr>\n",
       "    <tr>\n",
       "      <td>12</td>\n",
       "      <td>0.012828</td>\n",
       "      <td>0.080366</td>\n",
       "      <td>0.020599</td>\n",
       "      <td>0.979401</td>\n",
       "      <td>05:24</td>\n",
       "    </tr>\n",
       "    <tr>\n",
       "      <td>13</td>\n",
       "      <td>0.013112</td>\n",
       "      <td>0.056042</td>\n",
       "      <td>0.014981</td>\n",
       "      <td>0.985019</td>\n",
       "      <td>05:24</td>\n",
       "    </tr>\n",
       "    <tr>\n",
       "      <td>14</td>\n",
       "      <td>0.031349</td>\n",
       "      <td>0.075201</td>\n",
       "      <td>0.013109</td>\n",
       "      <td>0.986891</td>\n",
       "      <td>05:24</td>\n",
       "    </tr>\n",
       "    <tr>\n",
       "      <td>15</td>\n",
       "      <td>0.009757</td>\n",
       "      <td>0.078360</td>\n",
       "      <td>0.016854</td>\n",
       "      <td>0.983146</td>\n",
       "      <td>05:25</td>\n",
       "    </tr>\n",
       "    <tr>\n",
       "      <td>16</td>\n",
       "      <td>0.004919</td>\n",
       "      <td>0.078034</td>\n",
       "      <td>0.014981</td>\n",
       "      <td>0.985019</td>\n",
       "      <td>05:24</td>\n",
       "    </tr>\n",
       "    <tr>\n",
       "      <td>17</td>\n",
       "      <td>0.019579</td>\n",
       "      <td>0.065375</td>\n",
       "      <td>0.016854</td>\n",
       "      <td>0.983146</td>\n",
       "      <td>05:26</td>\n",
       "    </tr>\n",
       "    <tr>\n",
       "      <td>18</td>\n",
       "      <td>0.002865</td>\n",
       "      <td>0.063477</td>\n",
       "      <td>0.018727</td>\n",
       "      <td>0.981273</td>\n",
       "      <td>05:24</td>\n",
       "    </tr>\n",
       "    <tr>\n",
       "      <td>19</td>\n",
       "      <td>0.003890</td>\n",
       "      <td>0.062523</td>\n",
       "      <td>0.018727</td>\n",
       "      <td>0.981273</td>\n",
       "      <td>05:24</td>\n",
       "    </tr>\n",
       "  </tbody>\n",
       "</table>"
      ],
      "text/plain": [
       "<IPython.core.display.HTML object>"
      ]
     },
     "metadata": {},
     "output_type": "display_data"
    },
    {
     "name": "stdout",
     "output_type": "stream",
     "text": [
      "Better model found at epoch 0 with valid_loss value: 0.20499134063720703.\n",
      "Better model found at epoch 1 with valid_loss value: 0.15965020656585693.\n",
      "Better model found at epoch 2 with valid_loss value: 0.1296573132276535.\n",
      "Better model found at epoch 3 with valid_loss value: 0.1038157194852829.\n",
      "Better model found at epoch 5 with valid_loss value: 0.10164408385753632.\n",
      "Better model found at epoch 7 with valid_loss value: 0.08506939560174942.\n",
      "Better model found at epoch 8 with valid_loss value: 0.060516927391290665.\n",
      "Better model found at epoch 10 with valid_loss value: 0.05955030396580696.\n",
      "Better model found at epoch 13 with valid_loss value: 0.056041818112134933.\n"
     ]
    },
    {
     "data": {
      "text/html": [
       "\n",
       "<style>\n",
       "    /* Turns off some styling */\n",
       "    progress {\n",
       "        /* gets rid of default border in Firefox and Opera. */\n",
       "        border: none;\n",
       "        /* Needs to be in here for Safari polyfill so background images work as expected. */\n",
       "        background-size: auto;\n",
       "    }\n",
       "    .progress-bar-interrupted, .progress-bar-interrupted::-webkit-progress-bar {\n",
       "        background: #F44336;\n",
       "    }\n",
       "</style>\n"
      ],
      "text/plain": [
       "<IPython.core.display.HTML object>"
      ]
     },
     "metadata": {},
     "output_type": "display_data"
    },
    {
     "data": {
      "text/html": [
       "\n",
       "    <div>\n",
       "      <progress value='0' class='' max='20' style='width:300px; height:20px; vertical-align: middle;'></progress>\n",
       "      \n",
       "    </div>\n",
       "    \n"
      ],
      "text/plain": [
       "<IPython.core.display.HTML object>"
      ]
     },
     "metadata": {},
     "output_type": "display_data"
    },
    {
     "data": {
      "text/html": [
       "\n",
       "<style>\n",
       "    /* Turns off some styling */\n",
       "    progress {\n",
       "        /* gets rid of default border in Firefox and Opera. */\n",
       "        border: none;\n",
       "        /* Needs to be in here for Safari polyfill so background images work as expected. */\n",
       "        background-size: auto;\n",
       "    }\n",
       "    .progress-bar-interrupted, .progress-bar-interrupted::-webkit-progress-bar {\n",
       "        background: #F44336;\n",
       "    }\n",
       "</style>\n"
      ],
      "text/plain": [
       "<IPython.core.display.HTML object>"
      ]
     },
     "metadata": {},
     "output_type": "display_data"
    },
    {
     "data": {
      "text/html": [],
      "text/plain": [
       "<IPython.core.display.HTML object>"
      ]
     },
     "metadata": {},
     "output_type": "display_data"
    },
    {
     "name": "stdout",
     "output_type": "stream",
     "text": [
      "0.060362221822390975\n"
     ]
    },
    {
     "data": {
      "text/html": [
       "\n",
       "<style>\n",
       "    /* Turns off some styling */\n",
       "    progress {\n",
       "        /* gets rid of default border in Firefox and Opera. */\n",
       "        border: none;\n",
       "        /* Needs to be in here for Safari polyfill so background images work as expected. */\n",
       "        background-size: auto;\n",
       "    }\n",
       "    .progress-bar-interrupted, .progress-bar-interrupted::-webkit-progress-bar {\n",
       "        background: #F44336;\n",
       "    }\n",
       "</style>\n"
      ],
      "text/plain": [
       "<IPython.core.display.HTML object>"
      ]
     },
     "metadata": {},
     "output_type": "display_data"
    },
    {
     "data": {
      "text/html": [
       "\n",
       "    <div>\n",
       "      <progress value='0' class='' max='20' style='width:300px; height:20px; vertical-align: middle;'></progress>\n",
       "      \n",
       "    </div>\n",
       "    \n"
      ],
      "text/plain": [
       "<IPython.core.display.HTML object>"
      ]
     },
     "metadata": {},
     "output_type": "display_data"
    },
    {
     "data": {
      "text/html": [
       "\n",
       "<style>\n",
       "    /* Turns off some styling */\n",
       "    progress {\n",
       "        /* gets rid of default border in Firefox and Opera. */\n",
       "        border: none;\n",
       "        /* Needs to be in here for Safari polyfill so background images work as expected. */\n",
       "        background-size: auto;\n",
       "    }\n",
       "    .progress-bar-interrupted, .progress-bar-interrupted::-webkit-progress-bar {\n",
       "        background: #F44336;\n",
       "    }\n",
       "</style>\n"
      ],
      "text/plain": [
       "<IPython.core.display.HTML object>"
      ]
     },
     "metadata": {},
     "output_type": "display_data"
    },
    {
     "data": {
      "text/html": [],
      "text/plain": [
       "<IPython.core.display.HTML object>"
      ]
     },
     "metadata": {},
     "output_type": "display_data"
    },
    {
     "data": {
      "text/html": [
       "\n",
       "<style>\n",
       "    /* Turns off some styling */\n",
       "    progress {\n",
       "        /* gets rid of default border in Firefox and Opera. */\n",
       "        border: none;\n",
       "        /* Needs to be in here for Safari polyfill so background images work as expected. */\n",
       "        background-size: auto;\n",
       "    }\n",
       "    .progress-bar-interrupted, .progress-bar-interrupted::-webkit-progress-bar {\n",
       "        background: #F44336;\n",
       "    }\n",
       "</style>\n"
      ],
      "text/plain": [
       "<IPython.core.display.HTML object>"
      ]
     },
     "metadata": {},
     "output_type": "display_data"
    },
    {
     "data": {
      "text/html": [],
      "text/plain": [
       "<IPython.core.display.HTML object>"
      ]
     },
     "metadata": {},
     "output_type": "display_data"
    },
    {
     "name": "stdout",
     "output_type": "stream",
     "text": [
      "fold fineshed\n"
     ]
    },
    {
     "name": "stderr",
     "output_type": "stream",
     "text": [
      "/opt/conda/lib/python3.7/site-packages/albumentations/augmentations/transforms.py:1828: FutureWarning: This class has been deprecated. Please use RandomBrightnessContrast\n",
      "  FutureWarning,\n"
     ]
    },
    {
     "data": {
      "text/html": [
       "\n",
       "<style>\n",
       "    /* Turns off some styling */\n",
       "    progress {\n",
       "        /* gets rid of default border in Firefox and Opera. */\n",
       "        border: none;\n",
       "        /* Needs to be in here for Safari polyfill so background images work as expected. */\n",
       "        background-size: auto;\n",
       "    }\n",
       "    .progress-bar-interrupted, .progress-bar-interrupted::-webkit-progress-bar {\n",
       "        background: #F44336;\n",
       "    }\n",
       "</style>\n"
      ],
      "text/plain": [
       "<IPython.core.display.HTML object>"
      ]
     },
     "metadata": {},
     "output_type": "display_data"
    },
    {
     "data": {
      "text/html": [],
      "text/plain": [
       "<IPython.core.display.HTML object>"
      ]
     },
     "metadata": {},
     "output_type": "display_data"
    },
    {
     "data": {
      "text/html": [
       "\n",
       "<style>\n",
       "    /* Turns off some styling */\n",
       "    progress {\n",
       "        /* gets rid of default border in Firefox and Opera. */\n",
       "        border: none;\n",
       "        /* Needs to be in here for Safari polyfill so background images work as expected. */\n",
       "        background-size: auto;\n",
       "    }\n",
       "    .progress-bar-interrupted, .progress-bar-interrupted::-webkit-progress-bar {\n",
       "        background: #F44336;\n",
       "    }\n",
       "</style>\n"
      ],
      "text/plain": [
       "<IPython.core.display.HTML object>"
      ]
     },
     "metadata": {},
     "output_type": "display_data"
    },
    {
     "data": {
      "text/html": [
       "<table border=\"1\" class=\"dataframe\">\n",
       "  <thead>\n",
       "    <tr style=\"text-align: left;\">\n",
       "      <th>epoch</th>\n",
       "      <th>train_loss</th>\n",
       "      <th>valid_loss</th>\n",
       "      <th>error_rate</th>\n",
       "      <th>accuracy</th>\n",
       "      <th>time</th>\n",
       "    </tr>\n",
       "  </thead>\n",
       "  <tbody>\n",
       "    <tr>\n",
       "      <td>0</td>\n",
       "      <td>0.555988</td>\n",
       "      <td>0.425958</td>\n",
       "      <td>0.132959</td>\n",
       "      <td>0.867041</td>\n",
       "      <td>05:26</td>\n",
       "    </tr>\n",
       "  </tbody>\n",
       "</table>"
      ],
      "text/plain": [
       "<IPython.core.display.HTML object>"
      ]
     },
     "metadata": {},
     "output_type": "display_data"
    },
    {
     "name": "stdout",
     "output_type": "stream",
     "text": [
      "Better model found at epoch 0 with valid_loss value: 0.42595821619033813.\n"
     ]
    },
    {
     "data": {
      "text/html": [
       "\n",
       "<style>\n",
       "    /* Turns off some styling */\n",
       "    progress {\n",
       "        /* gets rid of default border in Firefox and Opera. */\n",
       "        border: none;\n",
       "        /* Needs to be in here for Safari polyfill so background images work as expected. */\n",
       "        background-size: auto;\n",
       "    }\n",
       "    .progress-bar-interrupted, .progress-bar-interrupted::-webkit-progress-bar {\n",
       "        background: #F44336;\n",
       "    }\n",
       "</style>\n"
      ],
      "text/plain": [
       "<IPython.core.display.HTML object>"
      ]
     },
     "metadata": {},
     "output_type": "display_data"
    },
    {
     "data": {
      "text/html": [
       "<table border=\"1\" class=\"dataframe\">\n",
       "  <thead>\n",
       "    <tr style=\"text-align: left;\">\n",
       "      <th>epoch</th>\n",
       "      <th>train_loss</th>\n",
       "      <th>valid_loss</th>\n",
       "      <th>error_rate</th>\n",
       "      <th>accuracy</th>\n",
       "      <th>time</th>\n",
       "    </tr>\n",
       "  </thead>\n",
       "  <tbody>\n",
       "    <tr>\n",
       "      <td>0</td>\n",
       "      <td>0.189801</td>\n",
       "      <td>0.188555</td>\n",
       "      <td>0.067416</td>\n",
       "      <td>0.932584</td>\n",
       "      <td>05:26</td>\n",
       "    </tr>\n",
       "    <tr>\n",
       "      <td>1</td>\n",
       "      <td>0.120381</td>\n",
       "      <td>0.142183</td>\n",
       "      <td>0.039326</td>\n",
       "      <td>0.960674</td>\n",
       "      <td>05:25</td>\n",
       "    </tr>\n",
       "    <tr>\n",
       "      <td>2</td>\n",
       "      <td>0.130293</td>\n",
       "      <td>0.152614</td>\n",
       "      <td>0.050562</td>\n",
       "      <td>0.949438</td>\n",
       "      <td>05:25</td>\n",
       "    </tr>\n",
       "    <tr>\n",
       "      <td>3</td>\n",
       "      <td>0.156937</td>\n",
       "      <td>0.156992</td>\n",
       "      <td>0.044944</td>\n",
       "      <td>0.955056</td>\n",
       "      <td>05:25</td>\n",
       "    </tr>\n",
       "    <tr>\n",
       "      <td>4</td>\n",
       "      <td>0.094237</td>\n",
       "      <td>0.149823</td>\n",
       "      <td>0.052434</td>\n",
       "      <td>0.947566</td>\n",
       "      <td>05:24</td>\n",
       "    </tr>\n",
       "    <tr>\n",
       "      <td>5</td>\n",
       "      <td>0.126701</td>\n",
       "      <td>0.176493</td>\n",
       "      <td>0.048689</td>\n",
       "      <td>0.951311</td>\n",
       "      <td>05:24</td>\n",
       "    </tr>\n",
       "    <tr>\n",
       "      <td>6</td>\n",
       "      <td>0.096509</td>\n",
       "      <td>0.174988</td>\n",
       "      <td>0.056180</td>\n",
       "      <td>0.943820</td>\n",
       "      <td>05:24</td>\n",
       "    </tr>\n",
       "    <tr>\n",
       "      <td>7</td>\n",
       "      <td>0.100703</td>\n",
       "      <td>0.130228</td>\n",
       "      <td>0.044944</td>\n",
       "      <td>0.955056</td>\n",
       "      <td>05:25</td>\n",
       "    </tr>\n",
       "    <tr>\n",
       "      <td>8</td>\n",
       "      <td>0.065539</td>\n",
       "      <td>0.170402</td>\n",
       "      <td>0.043071</td>\n",
       "      <td>0.956929</td>\n",
       "      <td>05:24</td>\n",
       "    </tr>\n",
       "    <tr>\n",
       "      <td>9</td>\n",
       "      <td>0.035867</td>\n",
       "      <td>0.259837</td>\n",
       "      <td>0.058052</td>\n",
       "      <td>0.941948</td>\n",
       "      <td>05:24</td>\n",
       "    </tr>\n",
       "    <tr>\n",
       "      <td>10</td>\n",
       "      <td>0.015847</td>\n",
       "      <td>0.165320</td>\n",
       "      <td>0.035581</td>\n",
       "      <td>0.964419</td>\n",
       "      <td>05:24</td>\n",
       "    </tr>\n",
       "    <tr>\n",
       "      <td>11</td>\n",
       "      <td>0.034637</td>\n",
       "      <td>0.122649</td>\n",
       "      <td>0.033708</td>\n",
       "      <td>0.966292</td>\n",
       "      <td>05:24</td>\n",
       "    </tr>\n",
       "    <tr>\n",
       "      <td>12</td>\n",
       "      <td>0.015449</td>\n",
       "      <td>0.155572</td>\n",
       "      <td>0.026217</td>\n",
       "      <td>0.973783</td>\n",
       "      <td>05:24</td>\n",
       "    </tr>\n",
       "    <tr>\n",
       "      <td>13</td>\n",
       "      <td>0.013448</td>\n",
       "      <td>0.179464</td>\n",
       "      <td>0.037453</td>\n",
       "      <td>0.962547</td>\n",
       "      <td>05:24</td>\n",
       "    </tr>\n",
       "    <tr>\n",
       "      <td>14</td>\n",
       "      <td>0.006291</td>\n",
       "      <td>0.140851</td>\n",
       "      <td>0.028090</td>\n",
       "      <td>0.971910</td>\n",
       "      <td>05:24</td>\n",
       "    </tr>\n",
       "    <tr>\n",
       "      <td>15</td>\n",
       "      <td>0.001426</td>\n",
       "      <td>0.158657</td>\n",
       "      <td>0.024345</td>\n",
       "      <td>0.975655</td>\n",
       "      <td>05:24</td>\n",
       "    </tr>\n",
       "    <tr>\n",
       "      <td>16</td>\n",
       "      <td>0.001420</td>\n",
       "      <td>0.170774</td>\n",
       "      <td>0.024345</td>\n",
       "      <td>0.975655</td>\n",
       "      <td>05:24</td>\n",
       "    </tr>\n",
       "    <tr>\n",
       "      <td>17</td>\n",
       "      <td>0.001402</td>\n",
       "      <td>0.184476</td>\n",
       "      <td>0.026217</td>\n",
       "      <td>0.973783</td>\n",
       "      <td>05:25</td>\n",
       "    </tr>\n",
       "    <tr>\n",
       "      <td>18</td>\n",
       "      <td>0.001159</td>\n",
       "      <td>0.177804</td>\n",
       "      <td>0.024345</td>\n",
       "      <td>0.975655</td>\n",
       "      <td>05:25</td>\n",
       "    </tr>\n",
       "    <tr>\n",
       "      <td>19</td>\n",
       "      <td>0.000968</td>\n",
       "      <td>0.178986</td>\n",
       "      <td>0.024345</td>\n",
       "      <td>0.975655</td>\n",
       "      <td>05:24</td>\n",
       "    </tr>\n",
       "  </tbody>\n",
       "</table>"
      ],
      "text/plain": [
       "<IPython.core.display.HTML object>"
      ]
     },
     "metadata": {},
     "output_type": "display_data"
    },
    {
     "name": "stdout",
     "output_type": "stream",
     "text": [
      "Better model found at epoch 0 with valid_loss value: 0.18855473399162292.\n",
      "Better model found at epoch 1 with valid_loss value: 0.14218296110630035.\n",
      "Better model found at epoch 7 with valid_loss value: 0.13022756576538086.\n",
      "Better model found at epoch 11 with valid_loss value: 0.122648686170578.\n"
     ]
    },
    {
     "data": {
      "text/html": [
       "\n",
       "<style>\n",
       "    /* Turns off some styling */\n",
       "    progress {\n",
       "        /* gets rid of default border in Firefox and Opera. */\n",
       "        border: none;\n",
       "        /* Needs to be in here for Safari polyfill so background images work as expected. */\n",
       "        background-size: auto;\n",
       "    }\n",
       "    .progress-bar-interrupted, .progress-bar-interrupted::-webkit-progress-bar {\n",
       "        background: #F44336;\n",
       "    }\n",
       "</style>\n"
      ],
      "text/plain": [
       "<IPython.core.display.HTML object>"
      ]
     },
     "metadata": {},
     "output_type": "display_data"
    },
    {
     "data": {
      "text/html": [
       "\n",
       "    <div>\n",
       "      <progress value='0' class='' max='20' style='width:300px; height:20px; vertical-align: middle;'></progress>\n",
       "      \n",
       "    </div>\n",
       "    \n"
      ],
      "text/plain": [
       "<IPython.core.display.HTML object>"
      ]
     },
     "metadata": {},
     "output_type": "display_data"
    },
    {
     "data": {
      "text/html": [
       "\n",
       "<style>\n",
       "    /* Turns off some styling */\n",
       "    progress {\n",
       "        /* gets rid of default border in Firefox and Opera. */\n",
       "        border: none;\n",
       "        /* Needs to be in here for Safari polyfill so background images work as expected. */\n",
       "        background-size: auto;\n",
       "    }\n",
       "    .progress-bar-interrupted, .progress-bar-interrupted::-webkit-progress-bar {\n",
       "        background: #F44336;\n",
       "    }\n",
       "</style>\n"
      ],
      "text/plain": [
       "<IPython.core.display.HTML object>"
      ]
     },
     "metadata": {},
     "output_type": "display_data"
    },
    {
     "data": {
      "text/html": [],
      "text/plain": [
       "<IPython.core.display.HTML object>"
      ]
     },
     "metadata": {},
     "output_type": "display_data"
    },
    {
     "name": "stdout",
     "output_type": "stream",
     "text": [
      "0.12753398584065356\n"
     ]
    },
    {
     "data": {
      "text/html": [
       "\n",
       "<style>\n",
       "    /* Turns off some styling */\n",
       "    progress {\n",
       "        /* gets rid of default border in Firefox and Opera. */\n",
       "        border: none;\n",
       "        /* Needs to be in here for Safari polyfill so background images work as expected. */\n",
       "        background-size: auto;\n",
       "    }\n",
       "    .progress-bar-interrupted, .progress-bar-interrupted::-webkit-progress-bar {\n",
       "        background: #F44336;\n",
       "    }\n",
       "</style>\n"
      ],
      "text/plain": [
       "<IPython.core.display.HTML object>"
      ]
     },
     "metadata": {},
     "output_type": "display_data"
    },
    {
     "data": {
      "text/html": [
       "\n",
       "    <div>\n",
       "      <progress value='0' class='' max='20' style='width:300px; height:20px; vertical-align: middle;'></progress>\n",
       "      \n",
       "    </div>\n",
       "    \n"
      ],
      "text/plain": [
       "<IPython.core.display.HTML object>"
      ]
     },
     "metadata": {},
     "output_type": "display_data"
    },
    {
     "data": {
      "text/html": [
       "\n",
       "<style>\n",
       "    /* Turns off some styling */\n",
       "    progress {\n",
       "        /* gets rid of default border in Firefox and Opera. */\n",
       "        border: none;\n",
       "        /* Needs to be in here for Safari polyfill so background images work as expected. */\n",
       "        background-size: auto;\n",
       "    }\n",
       "    .progress-bar-interrupted, .progress-bar-interrupted::-webkit-progress-bar {\n",
       "        background: #F44336;\n",
       "    }\n",
       "</style>\n"
      ],
      "text/plain": [
       "<IPython.core.display.HTML object>"
      ]
     },
     "metadata": {},
     "output_type": "display_data"
    },
    {
     "data": {
      "text/html": [],
      "text/plain": [
       "<IPython.core.display.HTML object>"
      ]
     },
     "metadata": {},
     "output_type": "display_data"
    },
    {
     "data": {
      "text/html": [
       "\n",
       "<style>\n",
       "    /* Turns off some styling */\n",
       "    progress {\n",
       "        /* gets rid of default border in Firefox and Opera. */\n",
       "        border: none;\n",
       "        /* Needs to be in here for Safari polyfill so background images work as expected. */\n",
       "        background-size: auto;\n",
       "    }\n",
       "    .progress-bar-interrupted, .progress-bar-interrupted::-webkit-progress-bar {\n",
       "        background: #F44336;\n",
       "    }\n",
       "</style>\n"
      ],
      "text/plain": [
       "<IPython.core.display.HTML object>"
      ]
     },
     "metadata": {},
     "output_type": "display_data"
    },
    {
     "data": {
      "text/html": [],
      "text/plain": [
       "<IPython.core.display.HTML object>"
      ]
     },
     "metadata": {},
     "output_type": "display_data"
    },
    {
     "name": "stdout",
     "output_type": "stream",
     "text": [
      "fold fineshed\n"
     ]
    },
    {
     "name": "stderr",
     "output_type": "stream",
     "text": [
      "/opt/conda/lib/python3.7/site-packages/albumentations/augmentations/transforms.py:1828: FutureWarning: This class has been deprecated. Please use RandomBrightnessContrast\n",
      "  FutureWarning,\n"
     ]
    },
    {
     "data": {
      "text/html": [
       "\n",
       "<style>\n",
       "    /* Turns off some styling */\n",
       "    progress {\n",
       "        /* gets rid of default border in Firefox and Opera. */\n",
       "        border: none;\n",
       "        /* Needs to be in here for Safari polyfill so background images work as expected. */\n",
       "        background-size: auto;\n",
       "    }\n",
       "    .progress-bar-interrupted, .progress-bar-interrupted::-webkit-progress-bar {\n",
       "        background: #F44336;\n",
       "    }\n",
       "</style>\n"
      ],
      "text/plain": [
       "<IPython.core.display.HTML object>"
      ]
     },
     "metadata": {},
     "output_type": "display_data"
    },
    {
     "data": {
      "text/html": [],
      "text/plain": [
       "<IPython.core.display.HTML object>"
      ]
     },
     "metadata": {},
     "output_type": "display_data"
    },
    {
     "data": {
      "text/html": [
       "\n",
       "<style>\n",
       "    /* Turns off some styling */\n",
       "    progress {\n",
       "        /* gets rid of default border in Firefox and Opera. */\n",
       "        border: none;\n",
       "        /* Needs to be in here for Safari polyfill so background images work as expected. */\n",
       "        background-size: auto;\n",
       "    }\n",
       "    .progress-bar-interrupted, .progress-bar-interrupted::-webkit-progress-bar {\n",
       "        background: #F44336;\n",
       "    }\n",
       "</style>\n"
      ],
      "text/plain": [
       "<IPython.core.display.HTML object>"
      ]
     },
     "metadata": {},
     "output_type": "display_data"
    },
    {
     "data": {
      "text/html": [
       "<table border=\"1\" class=\"dataframe\">\n",
       "  <thead>\n",
       "    <tr style=\"text-align: left;\">\n",
       "      <th>epoch</th>\n",
       "      <th>train_loss</th>\n",
       "      <th>valid_loss</th>\n",
       "      <th>error_rate</th>\n",
       "      <th>accuracy</th>\n",
       "      <th>time</th>\n",
       "    </tr>\n",
       "  </thead>\n",
       "  <tbody>\n",
       "    <tr>\n",
       "      <td>0</td>\n",
       "      <td>0.519955</td>\n",
       "      <td>0.389280</td>\n",
       "      <td>0.131086</td>\n",
       "      <td>0.868914</td>\n",
       "      <td>05:24</td>\n",
       "    </tr>\n",
       "  </tbody>\n",
       "</table>"
      ],
      "text/plain": [
       "<IPython.core.display.HTML object>"
      ]
     },
     "metadata": {},
     "output_type": "display_data"
    },
    {
     "name": "stdout",
     "output_type": "stream",
     "text": [
      "Better model found at epoch 0 with valid_loss value: 0.38928014039993286.\n"
     ]
    },
    {
     "data": {
      "text/html": [
       "\n",
       "<style>\n",
       "    /* Turns off some styling */\n",
       "    progress {\n",
       "        /* gets rid of default border in Firefox and Opera. */\n",
       "        border: none;\n",
       "        /* Needs to be in here for Safari polyfill so background images work as expected. */\n",
       "        background-size: auto;\n",
       "    }\n",
       "    .progress-bar-interrupted, .progress-bar-interrupted::-webkit-progress-bar {\n",
       "        background: #F44336;\n",
       "    }\n",
       "</style>\n"
      ],
      "text/plain": [
       "<IPython.core.display.HTML object>"
      ]
     },
     "metadata": {},
     "output_type": "display_data"
    },
    {
     "data": {
      "text/html": [
       "<table border=\"1\" class=\"dataframe\">\n",
       "  <thead>\n",
       "    <tr style=\"text-align: left;\">\n",
       "      <th>epoch</th>\n",
       "      <th>train_loss</th>\n",
       "      <th>valid_loss</th>\n",
       "      <th>error_rate</th>\n",
       "      <th>accuracy</th>\n",
       "      <th>time</th>\n",
       "    </tr>\n",
       "  </thead>\n",
       "  <tbody>\n",
       "    <tr>\n",
       "      <td>0</td>\n",
       "      <td>0.187276</td>\n",
       "      <td>0.164013</td>\n",
       "      <td>0.058052</td>\n",
       "      <td>0.941948</td>\n",
       "      <td>05:24</td>\n",
       "    </tr>\n",
       "    <tr>\n",
       "      <td>1</td>\n",
       "      <td>0.207747</td>\n",
       "      <td>0.130225</td>\n",
       "      <td>0.050562</td>\n",
       "      <td>0.949438</td>\n",
       "      <td>05:24</td>\n",
       "    </tr>\n",
       "    <tr>\n",
       "      <td>2</td>\n",
       "      <td>0.185381</td>\n",
       "      <td>0.138699</td>\n",
       "      <td>0.054307</td>\n",
       "      <td>0.945693</td>\n",
       "      <td>05:24</td>\n",
       "    </tr>\n",
       "    <tr>\n",
       "      <td>3</td>\n",
       "      <td>0.135185</td>\n",
       "      <td>0.580192</td>\n",
       "      <td>0.144195</td>\n",
       "      <td>0.855805</td>\n",
       "      <td>05:25</td>\n",
       "    </tr>\n",
       "    <tr>\n",
       "      <td>4</td>\n",
       "      <td>0.144903</td>\n",
       "      <td>0.246821</td>\n",
       "      <td>0.084270</td>\n",
       "      <td>0.915730</td>\n",
       "      <td>05:24</td>\n",
       "    </tr>\n",
       "    <tr>\n",
       "      <td>5</td>\n",
       "      <td>0.169280</td>\n",
       "      <td>0.208475</td>\n",
       "      <td>0.088015</td>\n",
       "      <td>0.911985</td>\n",
       "      <td>05:24</td>\n",
       "    </tr>\n",
       "    <tr>\n",
       "      <td>6</td>\n",
       "      <td>0.144111</td>\n",
       "      <td>0.125341</td>\n",
       "      <td>0.041199</td>\n",
       "      <td>0.958802</td>\n",
       "      <td>05:24</td>\n",
       "    </tr>\n",
       "    <tr>\n",
       "      <td>7</td>\n",
       "      <td>0.107088</td>\n",
       "      <td>0.164164</td>\n",
       "      <td>0.052434</td>\n",
       "      <td>0.947566</td>\n",
       "      <td>05:25</td>\n",
       "    </tr>\n",
       "    <tr>\n",
       "      <td>8</td>\n",
       "      <td>0.134604</td>\n",
       "      <td>0.105768</td>\n",
       "      <td>0.033708</td>\n",
       "      <td>0.966292</td>\n",
       "      <td>05:25</td>\n",
       "    </tr>\n",
       "    <tr>\n",
       "      <td>9</td>\n",
       "      <td>0.112888</td>\n",
       "      <td>0.213334</td>\n",
       "      <td>0.043071</td>\n",
       "      <td>0.956929</td>\n",
       "      <td>05:25</td>\n",
       "    </tr>\n",
       "    <tr>\n",
       "      <td>10</td>\n",
       "      <td>0.066400</td>\n",
       "      <td>0.210377</td>\n",
       "      <td>0.063670</td>\n",
       "      <td>0.936330</td>\n",
       "      <td>05:24</td>\n",
       "    </tr>\n",
       "    <tr>\n",
       "      <td>11</td>\n",
       "      <td>0.058773</td>\n",
       "      <td>0.124486</td>\n",
       "      <td>0.024345</td>\n",
       "      <td>0.975655</td>\n",
       "      <td>05:24</td>\n",
       "    </tr>\n",
       "    <tr>\n",
       "      <td>12</td>\n",
       "      <td>0.021109</td>\n",
       "      <td>0.125345</td>\n",
       "      <td>0.029963</td>\n",
       "      <td>0.970037</td>\n",
       "      <td>05:24</td>\n",
       "    </tr>\n",
       "    <tr>\n",
       "      <td>13</td>\n",
       "      <td>0.025446</td>\n",
       "      <td>0.123727</td>\n",
       "      <td>0.037453</td>\n",
       "      <td>0.962547</td>\n",
       "      <td>05:25</td>\n",
       "    </tr>\n",
       "    <tr>\n",
       "      <td>14</td>\n",
       "      <td>0.009731</td>\n",
       "      <td>0.166605</td>\n",
       "      <td>0.033708</td>\n",
       "      <td>0.966292</td>\n",
       "      <td>05:24</td>\n",
       "    </tr>\n",
       "    <tr>\n",
       "      <td>15</td>\n",
       "      <td>0.012335</td>\n",
       "      <td>0.120849</td>\n",
       "      <td>0.020599</td>\n",
       "      <td>0.979401</td>\n",
       "      <td>05:24</td>\n",
       "    </tr>\n",
       "    <tr>\n",
       "      <td>16</td>\n",
       "      <td>0.001990</td>\n",
       "      <td>0.105152</td>\n",
       "      <td>0.020599</td>\n",
       "      <td>0.979401</td>\n",
       "      <td>05:24</td>\n",
       "    </tr>\n",
       "    <tr>\n",
       "      <td>17</td>\n",
       "      <td>0.001083</td>\n",
       "      <td>0.117211</td>\n",
       "      <td>0.020599</td>\n",
       "      <td>0.979401</td>\n",
       "      <td>05:24</td>\n",
       "    </tr>\n",
       "    <tr>\n",
       "      <td>18</td>\n",
       "      <td>0.001603</td>\n",
       "      <td>0.115530</td>\n",
       "      <td>0.020599</td>\n",
       "      <td>0.979401</td>\n",
       "      <td>05:24</td>\n",
       "    </tr>\n",
       "    <tr>\n",
       "      <td>19</td>\n",
       "      <td>0.001196</td>\n",
       "      <td>0.116587</td>\n",
       "      <td>0.020599</td>\n",
       "      <td>0.979401</td>\n",
       "      <td>05:25</td>\n",
       "    </tr>\n",
       "  </tbody>\n",
       "</table>"
      ],
      "text/plain": [
       "<IPython.core.display.HTML object>"
      ]
     },
     "metadata": {},
     "output_type": "display_data"
    },
    {
     "name": "stdout",
     "output_type": "stream",
     "text": [
      "Better model found at epoch 0 with valid_loss value: 0.16401250660419464.\n",
      "Better model found at epoch 1 with valid_loss value: 0.13022483885288239.\n",
      "Better model found at epoch 6 with valid_loss value: 0.12534087896347046.\n",
      "Better model found at epoch 8 with valid_loss value: 0.10576831549406052.\n",
      "Better model found at epoch 16 with valid_loss value: 0.10515189170837402.\n"
     ]
    },
    {
     "data": {
      "text/html": [
       "\n",
       "<style>\n",
       "    /* Turns off some styling */\n",
       "    progress {\n",
       "        /* gets rid of default border in Firefox and Opera. */\n",
       "        border: none;\n",
       "        /* Needs to be in here for Safari polyfill so background images work as expected. */\n",
       "        background-size: auto;\n",
       "    }\n",
       "    .progress-bar-interrupted, .progress-bar-interrupted::-webkit-progress-bar {\n",
       "        background: #F44336;\n",
       "    }\n",
       "</style>\n"
      ],
      "text/plain": [
       "<IPython.core.display.HTML object>"
      ]
     },
     "metadata": {},
     "output_type": "display_data"
    },
    {
     "data": {
      "text/html": [
       "\n",
       "    <div>\n",
       "      <progress value='0' class='' max='20' style='width:300px; height:20px; vertical-align: middle;'></progress>\n",
       "      \n",
       "    </div>\n",
       "    \n"
      ],
      "text/plain": [
       "<IPython.core.display.HTML object>"
      ]
     },
     "metadata": {},
     "output_type": "display_data"
    },
    {
     "data": {
      "text/html": [
       "\n",
       "<style>\n",
       "    /* Turns off some styling */\n",
       "    progress {\n",
       "        /* gets rid of default border in Firefox and Opera. */\n",
       "        border: none;\n",
       "        /* Needs to be in here for Safari polyfill so background images work as expected. */\n",
       "        background-size: auto;\n",
       "    }\n",
       "    .progress-bar-interrupted, .progress-bar-interrupted::-webkit-progress-bar {\n",
       "        background: #F44336;\n",
       "    }\n",
       "</style>\n"
      ],
      "text/plain": [
       "<IPython.core.display.HTML object>"
      ]
     },
     "metadata": {},
     "output_type": "display_data"
    },
    {
     "data": {
      "text/html": [],
      "text/plain": [
       "<IPython.core.display.HTML object>"
      ]
     },
     "metadata": {},
     "output_type": "display_data"
    },
    {
     "name": "stdout",
     "output_type": "stream",
     "text": [
      "0.07615005724809923\n"
     ]
    },
    {
     "data": {
      "text/html": [
       "\n",
       "<style>\n",
       "    /* Turns off some styling */\n",
       "    progress {\n",
       "        /* gets rid of default border in Firefox and Opera. */\n",
       "        border: none;\n",
       "        /* Needs to be in here for Safari polyfill so background images work as expected. */\n",
       "        background-size: auto;\n",
       "    }\n",
       "    .progress-bar-interrupted, .progress-bar-interrupted::-webkit-progress-bar {\n",
       "        background: #F44336;\n",
       "    }\n",
       "</style>\n"
      ],
      "text/plain": [
       "<IPython.core.display.HTML object>"
      ]
     },
     "metadata": {},
     "output_type": "display_data"
    },
    {
     "data": {
      "text/html": [
       "\n",
       "    <div>\n",
       "      <progress value='0' class='' max='20' style='width:300px; height:20px; vertical-align: middle;'></progress>\n",
       "      \n",
       "    </div>\n",
       "    \n"
      ],
      "text/plain": [
       "<IPython.core.display.HTML object>"
      ]
     },
     "metadata": {},
     "output_type": "display_data"
    },
    {
     "data": {
      "text/html": [
       "\n",
       "<style>\n",
       "    /* Turns off some styling */\n",
       "    progress {\n",
       "        /* gets rid of default border in Firefox and Opera. */\n",
       "        border: none;\n",
       "        /* Needs to be in here for Safari polyfill so background images work as expected. */\n",
       "        background-size: auto;\n",
       "    }\n",
       "    .progress-bar-interrupted, .progress-bar-interrupted::-webkit-progress-bar {\n",
       "        background: #F44336;\n",
       "    }\n",
       "</style>\n"
      ],
      "text/plain": [
       "<IPython.core.display.HTML object>"
      ]
     },
     "metadata": {},
     "output_type": "display_data"
    },
    {
     "data": {
      "text/html": [],
      "text/plain": [
       "<IPython.core.display.HTML object>"
      ]
     },
     "metadata": {},
     "output_type": "display_data"
    },
    {
     "data": {
      "text/html": [
       "\n",
       "<style>\n",
       "    /* Turns off some styling */\n",
       "    progress {\n",
       "        /* gets rid of default border in Firefox and Opera. */\n",
       "        border: none;\n",
       "        /* Needs to be in here for Safari polyfill so background images work as expected. */\n",
       "        background-size: auto;\n",
       "    }\n",
       "    .progress-bar-interrupted, .progress-bar-interrupted::-webkit-progress-bar {\n",
       "        background: #F44336;\n",
       "    }\n",
       "</style>\n"
      ],
      "text/plain": [
       "<IPython.core.display.HTML object>"
      ]
     },
     "metadata": {},
     "output_type": "display_data"
    },
    {
     "data": {
      "text/html": [],
      "text/plain": [
       "<IPython.core.display.HTML object>"
      ]
     },
     "metadata": {},
     "output_type": "display_data"
    },
    {
     "name": "stdout",
     "output_type": "stream",
     "text": [
      "fold fineshed\n"
     ]
    },
    {
     "name": "stderr",
     "output_type": "stream",
     "text": [
      "/opt/conda/lib/python3.7/site-packages/albumentations/augmentations/transforms.py:1828: FutureWarning: This class has been deprecated. Please use RandomBrightnessContrast\n",
      "  FutureWarning,\n"
     ]
    },
    {
     "data": {
      "text/html": [
       "\n",
       "<style>\n",
       "    /* Turns off some styling */\n",
       "    progress {\n",
       "        /* gets rid of default border in Firefox and Opera. */\n",
       "        border: none;\n",
       "        /* Needs to be in here for Safari polyfill so background images work as expected. */\n",
       "        background-size: auto;\n",
       "    }\n",
       "    .progress-bar-interrupted, .progress-bar-interrupted::-webkit-progress-bar {\n",
       "        background: #F44336;\n",
       "    }\n",
       "</style>\n"
      ],
      "text/plain": [
       "<IPython.core.display.HTML object>"
      ]
     },
     "metadata": {},
     "output_type": "display_data"
    },
    {
     "data": {
      "text/html": [],
      "text/plain": [
       "<IPython.core.display.HTML object>"
      ]
     },
     "metadata": {},
     "output_type": "display_data"
    },
    {
     "data": {
      "text/html": [
       "\n",
       "<style>\n",
       "    /* Turns off some styling */\n",
       "    progress {\n",
       "        /* gets rid of default border in Firefox and Opera. */\n",
       "        border: none;\n",
       "        /* Needs to be in here for Safari polyfill so background images work as expected. */\n",
       "        background-size: auto;\n",
       "    }\n",
       "    .progress-bar-interrupted, .progress-bar-interrupted::-webkit-progress-bar {\n",
       "        background: #F44336;\n",
       "    }\n",
       "</style>\n"
      ],
      "text/plain": [
       "<IPython.core.display.HTML object>"
      ]
     },
     "metadata": {},
     "output_type": "display_data"
    },
    {
     "data": {
      "text/html": [
       "<table border=\"1\" class=\"dataframe\">\n",
       "  <thead>\n",
       "    <tr style=\"text-align: left;\">\n",
       "      <th>epoch</th>\n",
       "      <th>train_loss</th>\n",
       "      <th>valid_loss</th>\n",
       "      <th>error_rate</th>\n",
       "      <th>accuracy</th>\n",
       "      <th>time</th>\n",
       "    </tr>\n",
       "  </thead>\n",
       "  <tbody>\n",
       "    <tr>\n",
       "      <td>0</td>\n",
       "      <td>0.524956</td>\n",
       "      <td>0.398747</td>\n",
       "      <td>0.159176</td>\n",
       "      <td>0.840824</td>\n",
       "      <td>05:25</td>\n",
       "    </tr>\n",
       "  </tbody>\n",
       "</table>"
      ],
      "text/plain": [
       "<IPython.core.display.HTML object>"
      ]
     },
     "metadata": {},
     "output_type": "display_data"
    },
    {
     "name": "stdout",
     "output_type": "stream",
     "text": [
      "Better model found at epoch 0 with valid_loss value: 0.3987474739551544.\n"
     ]
    },
    {
     "data": {
      "text/html": [
       "\n",
       "<style>\n",
       "    /* Turns off some styling */\n",
       "    progress {\n",
       "        /* gets rid of default border in Firefox and Opera. */\n",
       "        border: none;\n",
       "        /* Needs to be in here for Safari polyfill so background images work as expected. */\n",
       "        background-size: auto;\n",
       "    }\n",
       "    .progress-bar-interrupted, .progress-bar-interrupted::-webkit-progress-bar {\n",
       "        background: #F44336;\n",
       "    }\n",
       "</style>\n"
      ],
      "text/plain": [
       "<IPython.core.display.HTML object>"
      ]
     },
     "metadata": {},
     "output_type": "display_data"
    },
    {
     "data": {
      "text/html": [
       "<table border=\"1\" class=\"dataframe\">\n",
       "  <thead>\n",
       "    <tr style=\"text-align: left;\">\n",
       "      <th>epoch</th>\n",
       "      <th>train_loss</th>\n",
       "      <th>valid_loss</th>\n",
       "      <th>error_rate</th>\n",
       "      <th>accuracy</th>\n",
       "      <th>time</th>\n",
       "    </tr>\n",
       "  </thead>\n",
       "  <tbody>\n",
       "    <tr>\n",
       "      <td>0</td>\n",
       "      <td>0.215048</td>\n",
       "      <td>0.181239</td>\n",
       "      <td>0.076779</td>\n",
       "      <td>0.923221</td>\n",
       "      <td>05:25</td>\n",
       "    </tr>\n",
       "    <tr>\n",
       "      <td>1</td>\n",
       "      <td>0.161332</td>\n",
       "      <td>0.190147</td>\n",
       "      <td>0.067416</td>\n",
       "      <td>0.932584</td>\n",
       "      <td>05:25</td>\n",
       "    </tr>\n",
       "    <tr>\n",
       "      <td>2</td>\n",
       "      <td>0.163507</td>\n",
       "      <td>0.159246</td>\n",
       "      <td>0.048689</td>\n",
       "      <td>0.951311</td>\n",
       "      <td>05:26</td>\n",
       "    </tr>\n",
       "    <tr>\n",
       "      <td>3</td>\n",
       "      <td>0.126952</td>\n",
       "      <td>0.164418</td>\n",
       "      <td>0.050562</td>\n",
       "      <td>0.949438</td>\n",
       "      <td>05:25</td>\n",
       "    </tr>\n",
       "    <tr>\n",
       "      <td>4</td>\n",
       "      <td>0.173356</td>\n",
       "      <td>0.164746</td>\n",
       "      <td>0.058052</td>\n",
       "      <td>0.941948</td>\n",
       "      <td>05:25</td>\n",
       "    </tr>\n",
       "    <tr>\n",
       "      <td>5</td>\n",
       "      <td>0.111320</td>\n",
       "      <td>0.186071</td>\n",
       "      <td>0.050562</td>\n",
       "      <td>0.949438</td>\n",
       "      <td>05:26</td>\n",
       "    </tr>\n",
       "    <tr>\n",
       "      <td>6</td>\n",
       "      <td>0.092723</td>\n",
       "      <td>0.151766</td>\n",
       "      <td>0.037453</td>\n",
       "      <td>0.962547</td>\n",
       "      <td>05:25</td>\n",
       "    </tr>\n",
       "    <tr>\n",
       "      <td>7</td>\n",
       "      <td>0.072542</td>\n",
       "      <td>0.141351</td>\n",
       "      <td>0.039326</td>\n",
       "      <td>0.960674</td>\n",
       "      <td>05:24</td>\n",
       "    </tr>\n",
       "    <tr>\n",
       "      <td>8</td>\n",
       "      <td>0.080329</td>\n",
       "      <td>0.181097</td>\n",
       "      <td>0.059925</td>\n",
       "      <td>0.940075</td>\n",
       "      <td>05:25</td>\n",
       "    </tr>\n",
       "    <tr>\n",
       "      <td>9</td>\n",
       "      <td>0.053726</td>\n",
       "      <td>0.118733</td>\n",
       "      <td>0.031835</td>\n",
       "      <td>0.968165</td>\n",
       "      <td>05:25</td>\n",
       "    </tr>\n",
       "    <tr>\n",
       "      <td>10</td>\n",
       "      <td>0.020497</td>\n",
       "      <td>0.189090</td>\n",
       "      <td>0.035581</td>\n",
       "      <td>0.964419</td>\n",
       "      <td>05:25</td>\n",
       "    </tr>\n",
       "    <tr>\n",
       "      <td>11</td>\n",
       "      <td>0.034900</td>\n",
       "      <td>0.176866</td>\n",
       "      <td>0.043071</td>\n",
       "      <td>0.956929</td>\n",
       "      <td>05:25</td>\n",
       "    </tr>\n",
       "    <tr>\n",
       "      <td>12</td>\n",
       "      <td>0.009450</td>\n",
       "      <td>0.156309</td>\n",
       "      <td>0.035581</td>\n",
       "      <td>0.964419</td>\n",
       "      <td>05:25</td>\n",
       "    </tr>\n",
       "    <tr>\n",
       "      <td>13</td>\n",
       "      <td>0.018815</td>\n",
       "      <td>0.170377</td>\n",
       "      <td>0.031835</td>\n",
       "      <td>0.968165</td>\n",
       "      <td>05:25</td>\n",
       "    </tr>\n",
       "    <tr>\n",
       "      <td>14</td>\n",
       "      <td>0.002728</td>\n",
       "      <td>0.168610</td>\n",
       "      <td>0.035581</td>\n",
       "      <td>0.964419</td>\n",
       "      <td>05:24</td>\n",
       "    </tr>\n",
       "    <tr>\n",
       "      <td>15</td>\n",
       "      <td>0.002387</td>\n",
       "      <td>0.146435</td>\n",
       "      <td>0.020599</td>\n",
       "      <td>0.979401</td>\n",
       "      <td>05:25</td>\n",
       "    </tr>\n",
       "    <tr>\n",
       "      <td>16</td>\n",
       "      <td>0.009591</td>\n",
       "      <td>0.172642</td>\n",
       "      <td>0.028090</td>\n",
       "      <td>0.971910</td>\n",
       "      <td>05:25</td>\n",
       "    </tr>\n",
       "    <tr>\n",
       "      <td>17</td>\n",
       "      <td>0.000992</td>\n",
       "      <td>0.155570</td>\n",
       "      <td>0.024345</td>\n",
       "      <td>0.975655</td>\n",
       "      <td>05:25</td>\n",
       "    </tr>\n",
       "    <tr>\n",
       "      <td>18</td>\n",
       "      <td>0.009316</td>\n",
       "      <td>0.150613</td>\n",
       "      <td>0.022472</td>\n",
       "      <td>0.977528</td>\n",
       "      <td>05:24</td>\n",
       "    </tr>\n",
       "    <tr>\n",
       "      <td>19</td>\n",
       "      <td>0.000647</td>\n",
       "      <td>0.150983</td>\n",
       "      <td>0.020599</td>\n",
       "      <td>0.979401</td>\n",
       "      <td>05:25</td>\n",
       "    </tr>\n",
       "  </tbody>\n",
       "</table>"
      ],
      "text/plain": [
       "<IPython.core.display.HTML object>"
      ]
     },
     "metadata": {},
     "output_type": "display_data"
    },
    {
     "name": "stdout",
     "output_type": "stream",
     "text": [
      "Better model found at epoch 0 with valid_loss value: 0.1812392622232437.\n",
      "Better model found at epoch 2 with valid_loss value: 0.15924616158008575.\n",
      "Better model found at epoch 6 with valid_loss value: 0.15176628530025482.\n",
      "Better model found at epoch 7 with valid_loss value: 0.14135147631168365.\n",
      "Better model found at epoch 9 with valid_loss value: 0.11873260140419006.\n"
     ]
    },
    {
     "data": {
      "text/html": [
       "\n",
       "<style>\n",
       "    /* Turns off some styling */\n",
       "    progress {\n",
       "        /* gets rid of default border in Firefox and Opera. */\n",
       "        border: none;\n",
       "        /* Needs to be in here for Safari polyfill so background images work as expected. */\n",
       "        background-size: auto;\n",
       "    }\n",
       "    .progress-bar-interrupted, .progress-bar-interrupted::-webkit-progress-bar {\n",
       "        background: #F44336;\n",
       "    }\n",
       "</style>\n"
      ],
      "text/plain": [
       "<IPython.core.display.HTML object>"
      ]
     },
     "metadata": {},
     "output_type": "display_data"
    },
    {
     "data": {
      "text/html": [
       "\n",
       "    <div>\n",
       "      <progress value='0' class='' max='20' style='width:300px; height:20px; vertical-align: middle;'></progress>\n",
       "      \n",
       "    </div>\n",
       "    \n"
      ],
      "text/plain": [
       "<IPython.core.display.HTML object>"
      ]
     },
     "metadata": {},
     "output_type": "display_data"
    },
    {
     "data": {
      "text/html": [
       "\n",
       "<style>\n",
       "    /* Turns off some styling */\n",
       "    progress {\n",
       "        /* gets rid of default border in Firefox and Opera. */\n",
       "        border: none;\n",
       "        /* Needs to be in here for Safari polyfill so background images work as expected. */\n",
       "        background-size: auto;\n",
       "    }\n",
       "    .progress-bar-interrupted, .progress-bar-interrupted::-webkit-progress-bar {\n",
       "        background: #F44336;\n",
       "    }\n",
       "</style>\n"
      ],
      "text/plain": [
       "<IPython.core.display.HTML object>"
      ]
     },
     "metadata": {},
     "output_type": "display_data"
    },
    {
     "data": {
      "text/html": [],
      "text/plain": [
       "<IPython.core.display.HTML object>"
      ]
     },
     "metadata": {},
     "output_type": "display_data"
    },
    {
     "name": "stdout",
     "output_type": "stream",
     "text": [
      "0.10781922411949482\n"
     ]
    },
    {
     "data": {
      "text/html": [
       "\n",
       "<style>\n",
       "    /* Turns off some styling */\n",
       "    progress {\n",
       "        /* gets rid of default border in Firefox and Opera. */\n",
       "        border: none;\n",
       "        /* Needs to be in here for Safari polyfill so background images work as expected. */\n",
       "        background-size: auto;\n",
       "    }\n",
       "    .progress-bar-interrupted, .progress-bar-interrupted::-webkit-progress-bar {\n",
       "        background: #F44336;\n",
       "    }\n",
       "</style>\n"
      ],
      "text/plain": [
       "<IPython.core.display.HTML object>"
      ]
     },
     "metadata": {},
     "output_type": "display_data"
    },
    {
     "data": {
      "text/html": [
       "\n",
       "    <div>\n",
       "      <progress value='0' class='' max='20' style='width:300px; height:20px; vertical-align: middle;'></progress>\n",
       "      \n",
       "    </div>\n",
       "    \n"
      ],
      "text/plain": [
       "<IPython.core.display.HTML object>"
      ]
     },
     "metadata": {},
     "output_type": "display_data"
    },
    {
     "data": {
      "text/html": [
       "\n",
       "<style>\n",
       "    /* Turns off some styling */\n",
       "    progress {\n",
       "        /* gets rid of default border in Firefox and Opera. */\n",
       "        border: none;\n",
       "        /* Needs to be in here for Safari polyfill so background images work as expected. */\n",
       "        background-size: auto;\n",
       "    }\n",
       "    .progress-bar-interrupted, .progress-bar-interrupted::-webkit-progress-bar {\n",
       "        background: #F44336;\n",
       "    }\n",
       "</style>\n"
      ],
      "text/plain": [
       "<IPython.core.display.HTML object>"
      ]
     },
     "metadata": {},
     "output_type": "display_data"
    },
    {
     "data": {
      "text/html": [],
      "text/plain": [
       "<IPython.core.display.HTML object>"
      ]
     },
     "metadata": {},
     "output_type": "display_data"
    },
    {
     "data": {
      "text/html": [
       "\n",
       "<style>\n",
       "    /* Turns off some styling */\n",
       "    progress {\n",
       "        /* gets rid of default border in Firefox and Opera. */\n",
       "        border: none;\n",
       "        /* Needs to be in here for Safari polyfill so background images work as expected. */\n",
       "        background-size: auto;\n",
       "    }\n",
       "    .progress-bar-interrupted, .progress-bar-interrupted::-webkit-progress-bar {\n",
       "        background: #F44336;\n",
       "    }\n",
       "</style>\n"
      ],
      "text/plain": [
       "<IPython.core.display.HTML object>"
      ]
     },
     "metadata": {},
     "output_type": "display_data"
    },
    {
     "data": {
      "text/html": [],
      "text/plain": [
       "<IPython.core.display.HTML object>"
      ]
     },
     "metadata": {},
     "output_type": "display_data"
    },
    {
     "name": "stdout",
     "output_type": "stream",
     "text": [
      "fold fineshed\n"
     ]
    },
    {
     "data": {
      "image/png": "[encoded data removed]",
      "text/plain": [
       "<Figure size 432x288 with 1 Axes>"
      ]
     },
     "metadata": {
      "needs_background": "light"
     },
     "output_type": "display_data"
    },
    {
     "data": {
      "image/png": "[encoded data removed]",
      "text/plain": [
       "<Figure size 432x288 with 1 Axes>"
      ]
     },
     "metadata": {
      "needs_background": "light"
     },
     "output_type": "display_data"
    },
    {
     "data": {
      "image/png": "[encoded data removed]",
      "text/plain": [
       "<Figure size 432x288 with 1 Axes>"
      ]
     },
     "metadata": {
      "needs_background": "light"
     },
     "output_type": "display_data"
    },
    {
     "data": {
      "image/png": "[encoded data removed]",
      "text/plain": [
       "<Figure size 432x288 with 1 Axes>"
      ]
     },
     "metadata": {
      "needs_background": "light"
     },
     "output_type": "display_data"
    },
    {
     "data": {
      "image/png": "[encoded data removed]",
      "text/plain": [
       "<Figure size 432x288 with 1 Axes>"
      ]
     },
     "metadata": {
      "needs_background": "light"
     },
     "output_type": "display_data"
    }
   ],
   "source": [
    "from sklearn.model_selection import StratifiedKFold\n",
    "from fastai.callback.tracker import SaveModelCallback,EarlyStoppingCallback\n",
    "import sklearn\n",
    "from sklearn.metrics import log_loss\n",
    "tfms = aug_transforms(do_flip = True, flip_vert = False, mult=2.0,size=384,max_rotate=30.0, min_zoom=1.0, max_zoom=1.3, max_lighting=0.2, max_warp=0.2, p_affine=0.75, p_lighting=0.1)\n",
    "skf=StratifiedKFold(n_splits=5, random_state=None, shuffle=False)\n",
    "y_pred_tot=[]\n",
    "y_pred_tot_5 = []\n",
    "valid_loglos=[]\n",
    "i=0\n",
    "oof = np.zeros((train.shape[0],3))\n",
    "for train_index, test_index in skf.split(train, train['Label']): \n",
    "    train['val_col']=False\n",
    "    train.loc[test_index,'val_col']=True\n",
    "    dls = ImageDataLoaders.from_df(train, path='../input/microsoft-rice-disease-classification-challenge',item_tfms=[Resize(384),AlbumentationsTransform(get_train_aug())],batch_tfms=[*tfms,Normalize.from_stats(*imagenet_stats)],valid_col='val_col',seed=50,num_workers=1,val_pct=0,bs=4)\n",
    "    random_seed(dls,50)\n",
    "    model = create_model('swin_large_patch4_window12_384', pretrained=True, num_classes=3)\n",
    "    learn = Learner(dls,model,metrics=[error_rate,accuracy],path='.',cbs=[SaveModelCallback(monitor='valid_loss')])\n",
    "    random_seed(dls,50)\n",
    "    best_lr = learn.lr_find()\n",
    "    learn.fine_tune(20,best_lr.valley)\n",
    "    #val\n",
    "    valid =learn.dls.test_dl(train.iloc[test_index]['Image_id'].map(lambda s: '../input/microsoft-rice-disease-classification-challenge/'+s).values)\n",
    "    val_preds = learn.tta(dl=valid,n=5,use_max=True)\n",
    "    print(log_loss(train.iloc[test_index]['Label'],val_preds[0]))\n",
    "    oof[test_index]=val_preds[0]\n",
    "    #test\n",
    "    tdl = learn.dls.test_dl(test['Image_id'].map(lambda s: '../input/microsoft-rice-disease-classification-challenge/'+s).values)\n",
    "    learn.save(\"model\"+str(i))\n",
    "    preds = learn.tta(dl=tdl,n=5,use_max=True)\n",
    "    y_pred_tot_5.append(preds)\n",
    "    y_pred_tot.append(learn.get_preds(dl=tdl))\n",
    "    print('fold fineshed')\n",
    "    i=i+1"
   ]
  },
  {
   "cell_type": "code",
   "execution_count": 18,
   "id": "5c976952",
   "metadata": {
    "execution": {
     "iopub.execute_input": "2022-08-04T07:18:42.445872Z",
     "iopub.status.busy": "2022-08-04T07:18:42.445568Z",
     "iopub.status.idle": "2022-08-04T07:18:42.456074Z",
     "shell.execute_reply": "2022-08-04T07:18:42.455173Z"
    },
    "papermill": {
     "duration": 0.112762,
     "end_time": "2022-08-04T07:18:42.458056",
     "exception": false,
     "start_time": "2022-08-04T07:18:42.345294",
     "status": "completed"
    },
    "tags": []
   },
   "outputs": [
    {
     "data": {
      "text/plain": [
       "0.08922377233375586"
      ]
     },
     "execution_count": 18,
     "metadata": {},
     "output_type": "execute_result"
    }
   ],
   "source": [
    "from sklearn.metrics import log_loss\n",
    "log_loss(train['Label'].values,oof)"
   ]
  },
  {
   "cell_type": "code",
   "execution_count": 19,
   "id": "ff932f39",
   "metadata": {
    "execution": {
     "iopub.execute_input": "2022-08-04T07:18:42.663026Z",
     "iopub.status.busy": "2022-08-04T07:18:42.662724Z",
     "iopub.status.idle": "2022-08-04T07:18:42.673036Z",
     "shell.execute_reply": "2022-08-04T07:18:42.672005Z"
    },
    "papermill": {
     "duration": 0.113278,
     "end_time": "2022-08-04T07:18:42.675176",
     "exception": false,
     "start_time": "2022-08-04T07:18:42.561898",
     "status": "completed"
    },
    "tags": []
   },
   "outputs": [
    {
     "data": {
      "text/plain": [
       "[array([[1.0000000e+00, 1.3519961e-08, 3.4201946e-09],\n",
       "        [4.7703819e-05, 9.9995184e-01, 4.7680211e-07],\n",
       "        [9.0546668e-01, 9.4522320e-02, 1.0968833e-05],\n",
       "        ...,\n",
       "        [9.9999285e-01, 7.1573645e-06, 5.6388610e-10],\n",
       "        [9.9999833e-01, 5.8598675e-07, 1.0636207e-06],\n",
       "        [4.4980694e-02, 8.8803936e-05, 9.5493048e-01]], dtype=float32),\n",
       " array([[1.00000000e+00, 1.39385721e-08, 1.81643672e-10],\n",
       "        [1.04853185e-02, 9.89513993e-01, 7.32038131e-07],\n",
       "        [9.99234915e-01, 7.64017401e-04, 1.06371738e-06],\n",
       "        ...,\n",
       "        [9.99974251e-01, 2.57307365e-05, 1.62700631e-10],\n",
       "        [9.99999881e-01, 1.38881035e-07, 2.83698913e-08],\n",
       "        [3.37935588e-03, 5.19672767e-06, 9.96615469e-01]], dtype=float32),\n",
       " array([[9.9999797e-01, 1.9540282e-06, 9.6404335e-08],\n",
       "        [7.9582003e-07, 9.9999917e-01, 4.4965462e-09],\n",
       "        [9.9985158e-01, 1.4635322e-04, 1.9935610e-06],\n",
       "        ...,\n",
       "        [9.9921858e-01, 7.8125542e-04, 8.2916237e-08],\n",
       "        [9.9984717e-01, 1.5239842e-04, 3.4295908e-07],\n",
       "        [1.9169037e-01, 2.0771661e-04, 8.0810195e-01]], dtype=float32),\n",
       " array([[1.0000000e+00, 5.3494926e-08, 2.0535772e-08],\n",
       "        [2.4208898e-06, 9.9999726e-01, 3.7312071e-07],\n",
       "        [9.9989963e-01, 1.0036464e-04, 1.8674381e-08],\n",
       "        ...,\n",
       "        [9.9996364e-01, 3.6416637e-05, 4.2647024e-08],\n",
       "        [9.9999797e-01, 1.9360023e-06, 1.1404513e-07],\n",
       "        [3.6279846e-04, 6.5610599e-05, 9.9957162e-01]], dtype=float32),\n",
       " array([[9.9982798e-01, 9.5992531e-05, 7.6070726e-05],\n",
       "        [3.5867572e-05, 9.9993205e-01, 3.2047796e-05],\n",
       "        [9.8942381e-01, 1.0522678e-02, 5.3562137e-05],\n",
       "        ...,\n",
       "        [9.9683040e-01, 3.1426975e-03, 2.6857457e-05],\n",
       "        [9.9987316e-01, 6.2163985e-05, 6.4612577e-05],\n",
       "        [5.3259081e-01, 2.5872805e-04, 4.6715045e-01]], dtype=float32)]"
      ]
     },
     "execution_count": 19,
     "metadata": {},
     "output_type": "execute_result"
    }
   ],
   "source": [
    "predss=[to_np(x[0])for x in y_pred_tot]\n",
    "predss\n"
   ]
  },
  {
   "cell_type": "code",
   "execution_count": 20,
   "id": "86313236",
   "metadata": {
    "execution": {
     "iopub.execute_input": "2022-08-04T07:18:42.879097Z",
     "iopub.status.busy": "2022-08-04T07:18:42.876732Z",
     "iopub.status.idle": "2022-08-04T07:18:42.887567Z",
     "shell.execute_reply": "2022-08-04T07:18:42.886811Z"
    },
    "papermill": {
     "duration": 0.115929,
     "end_time": "2022-08-04T07:18:42.889599",
     "exception": false,
     "start_time": "2022-08-04T07:18:42.773670",
     "status": "completed"
    },
    "tags": []
   },
   "outputs": [
    {
     "data": {
      "text/plain": [
       "array([[9.9996519e-01, 1.9605503e-05, 1.5238254e-05],\n",
       "       [2.1144215e-03, 9.9787885e-01, 6.7268506e-06],\n",
       "       [9.7877532e-01, 2.1211147e-02, 1.3521385e-05],\n",
       "       ...,\n",
       "       [9.9919593e-01, 7.9865160e-04, 5.3967497e-06],\n",
       "       [9.9994338e-01, 4.3444656e-05, 1.3232314e-05],\n",
       "       [1.5460081e-01, 1.2521118e-04, 8.4527397e-01]], dtype=float32)"
      ]
     },
     "execution_count": 20,
     "metadata": {},
     "output_type": "execute_result"
    }
   ],
   "source": [
    "preds=np.mean(predss,0)\n",
    "preds"
   ]
  },
  {
   "cell_type": "code",
   "execution_count": 21,
   "id": "f48f311a",
   "metadata": {
    "execution": {
     "iopub.execute_input": "2022-08-04T07:18:43.084887Z",
     "iopub.status.busy": "2022-08-04T07:18:43.084097Z",
     "iopub.status.idle": "2022-08-04T07:18:43.101581Z",
     "shell.execute_reply": "2022-08-04T07:18:43.100826Z"
    },
    "papermill": {
     "duration": 0.114347,
     "end_time": "2022-08-04T07:18:43.103740",
     "exception": false,
     "start_time": "2022-08-04T07:18:42.989393",
     "status": "completed"
    },
    "tags": []
   },
   "outputs": [
    {
     "data": {
      "text/html": [
       "<div>\n",
       "<style scoped>\n",
       "    .dataframe tbody tr th:only-of-type {\n",
       "        vertical-align: middle;\n",
       "    }\n",
       "\n",
       "    .dataframe tbody tr th {\n",
       "        vertical-align: top;\n",
       "    }\n",
       "\n",
       "    .dataframe thead th {\n",
       "        text-align: right;\n",
       "    }\n",
       "</style>\n",
       "<table border=\"1\" class=\"dataframe\">\n",
       "  <thead>\n",
       "    <tr style=\"text-align: right;\">\n",
       "      <th></th>\n",
       "      <th>Image_id</th>\n",
       "    </tr>\n",
       "  </thead>\n",
       "  <tbody>\n",
       "    <tr>\n",
       "      <th>0</th>\n",
       "      <td>id_00vl5wvxq3.jpg</td>\n",
       "    </tr>\n",
       "    <tr>\n",
       "      <th>1</th>\n",
       "      <td>id_01hu05mtch.jpg</td>\n",
       "    </tr>\n",
       "    <tr>\n",
       "      <th>2</th>\n",
       "      <td>id_030ln10ewn.jpg</td>\n",
       "    </tr>\n",
       "    <tr>\n",
       "      <th>3</th>\n",
       "      <td>id_03z57m8xht.jpg</td>\n",
       "    </tr>\n",
       "    <tr>\n",
       "      <th>4</th>\n",
       "      <td>id_04ngep1w4b.jpg</td>\n",
       "    </tr>\n",
       "    <tr>\n",
       "      <th>...</th>\n",
       "      <td>...</td>\n",
       "    </tr>\n",
       "    <tr>\n",
       "      <th>1140</th>\n",
       "      <td>id_zrdlgjrq3r.jpg</td>\n",
       "    </tr>\n",
       "    <tr>\n",
       "      <th>1141</th>\n",
       "      <td>id_zsfayxwipp.jpg</td>\n",
       "    </tr>\n",
       "    <tr>\n",
       "      <th>1142</th>\n",
       "      <td>id_ztvp2l9k3h.jpg</td>\n",
       "    </tr>\n",
       "    <tr>\n",
       "      <th>1143</th>\n",
       "      <td>id_zwwcma7hlt.jpg</td>\n",
       "    </tr>\n",
       "    <tr>\n",
       "      <th>1144</th>\n",
       "      <td>id_zyo7m4fj8h.jpg</td>\n",
       "    </tr>\n",
       "  </tbody>\n",
       "</table>\n",
       "<p>1145 rows × 1 columns</p>\n",
       "</div>"
      ],
      "text/plain": [
       "               Image_id\n",
       "0     id_00vl5wvxq3.jpg\n",
       "1     id_01hu05mtch.jpg\n",
       "2     id_030ln10ewn.jpg\n",
       "3     id_03z57m8xht.jpg\n",
       "4     id_04ngep1w4b.jpg\n",
       "...                 ...\n",
       "1140  id_zrdlgjrq3r.jpg\n",
       "1141  id_zsfayxwipp.jpg\n",
       "1142  id_ztvp2l9k3h.jpg\n",
       "1143  id_zwwcma7hlt.jpg\n",
       "1144  id_zyo7m4fj8h.jpg\n",
       "\n",
       "[1145 rows x 1 columns]"
      ]
     },
     "execution_count": 21,
     "metadata": {},
     "output_type": "execute_result"
    }
   ],
   "source": [
    "submission_from_test = test[['Image_id']]\n",
    "submission_from_test"
   ]
  },
  {
   "cell_type": "code",
   "execution_count": 22,
   "id": "4abe6d0b",
   "metadata": {
    "execution": {
     "iopub.execute_input": "2022-08-04T07:18:43.293050Z",
     "iopub.status.busy": "2022-08-04T07:18:43.292744Z",
     "iopub.status.idle": "2022-08-04T07:18:43.298823Z",
     "shell.execute_reply": "2022-08-04T07:18:43.298130Z"
    },
    "papermill": {
     "duration": 0.104125,
     "end_time": "2022-08-04T07:18:43.301303",
     "exception": false,
     "start_time": "2022-08-04T07:18:43.197178",
     "status": "completed"
    },
    "tags": []
   },
   "outputs": [
    {
     "data": {
      "text/plain": [
       "array(['blast', 'brown', 'healthy'], dtype=object)"
      ]
     },
     "execution_count": 22,
     "metadata": {},
     "output_type": "execute_result"
    }
   ],
   "source": [
    "le.inverse_transform([0,1,2])"
   ]
  },
  {
   "cell_type": "code",
   "execution_count": 23,
   "id": "9bcd9fb9",
   "metadata": {
    "execution": {
     "iopub.execute_input": "2022-08-04T07:18:43.491774Z",
     "iopub.status.busy": "2022-08-04T07:18:43.491177Z",
     "iopub.status.idle": "2022-08-04T07:18:43.497683Z",
     "shell.execute_reply": "2022-08-04T07:18:43.496815Z"
    },
    "papermill": {
     "duration": 0.104473,
     "end_time": "2022-08-04T07:18:43.500006",
     "exception": false,
     "start_time": "2022-08-04T07:18:43.395533",
     "status": "completed"
    },
    "tags": []
   },
   "outputs": [],
   "source": [
    "submission_from_test['blast'] = preds[:,0]\n",
    "submission_from_test['brown'] = preds[:,1]\n",
    "submission_from_test['healthy'] = preds[:,2]"
   ]
  },
  {
   "cell_type": "code",
   "execution_count": 24,
   "id": "b0528c11",
   "metadata": {
    "execution": {
     "iopub.execute_input": "2022-08-04T07:18:43.695866Z",
     "iopub.status.busy": "2022-08-04T07:18:43.695606Z",
     "iopub.status.idle": "2022-08-04T07:18:43.711688Z",
     "shell.execute_reply": "2022-08-04T07:18:43.710991Z"
    },
    "papermill": {
     "duration": 0.159654,
     "end_time": "2022-08-04T07:18:43.758462",
     "exception": false,
     "start_time": "2022-08-04T07:18:43.598808",
     "status": "completed"
    },
    "tags": []
   },
   "outputs": [
    {
     "data": {
      "text/html": [
       "<div>\n",
       "<style scoped>\n",
       "    .dataframe tbody tr th:only-of-type {\n",
       "        vertical-align: middle;\n",
       "    }\n",
       "\n",
       "    .dataframe tbody tr th {\n",
       "        vertical-align: top;\n",
       "    }\n",
       "\n",
       "    .dataframe thead th {\n",
       "        text-align: right;\n",
       "    }\n",
       "</style>\n",
       "<table border=\"1\" class=\"dataframe\">\n",
       "  <thead>\n",
       "    <tr style=\"text-align: right;\">\n",
       "      <th></th>\n",
       "      <th>Image_id</th>\n",
       "      <th>blast</th>\n",
       "      <th>brown</th>\n",
       "      <th>healthy</th>\n",
       "    </tr>\n",
       "  </thead>\n",
       "  <tbody>\n",
       "    <tr>\n",
       "      <th>0</th>\n",
       "      <td>id_00vl5wvxq3.jpg</td>\n",
       "      <td>9.999652e-01</td>\n",
       "      <td>1.960550e-05</td>\n",
       "      <td>1.523825e-05</td>\n",
       "    </tr>\n",
       "    <tr>\n",
       "      <th>1</th>\n",
       "      <td>id_01hu05mtch.jpg</td>\n",
       "      <td>2.114421e-03</td>\n",
       "      <td>9.978788e-01</td>\n",
       "      <td>6.726851e-06</td>\n",
       "    </tr>\n",
       "    <tr>\n",
       "      <th>2</th>\n",
       "      <td>id_030ln10ewn.jpg</td>\n",
       "      <td>9.787753e-01</td>\n",
       "      <td>2.121115e-02</td>\n",
       "      <td>1.352138e-05</td>\n",
       "    </tr>\n",
       "    <tr>\n",
       "      <th>3</th>\n",
       "      <td>id_03z57m8xht.jpg</td>\n",
       "      <td>9.999997e-01</td>\n",
       "      <td>9.225378e-08</td>\n",
       "      <td>1.694033e-07</td>\n",
       "    </tr>\n",
       "    <tr>\n",
       "      <th>4</th>\n",
       "      <td>id_04ngep1w4b.jpg</td>\n",
       "      <td>9.969406e-01</td>\n",
       "      <td>2.088984e-04</td>\n",
       "      <td>2.850557e-03</td>\n",
       "    </tr>\n",
       "    <tr>\n",
       "      <th>...</th>\n",
       "      <td>...</td>\n",
       "      <td>...</td>\n",
       "      <td>...</td>\n",
       "      <td>...</td>\n",
       "    </tr>\n",
       "    <tr>\n",
       "      <th>1140</th>\n",
       "      <td>id_zrdlgjrq3r.jpg</td>\n",
       "      <td>5.549293e-07</td>\n",
       "      <td>3.715392e-04</td>\n",
       "      <td>9.996279e-01</td>\n",
       "    </tr>\n",
       "    <tr>\n",
       "      <th>1141</th>\n",
       "      <td>id_zsfayxwipp.jpg</td>\n",
       "      <td>5.276918e-07</td>\n",
       "      <td>9.999938e-01</td>\n",
       "      <td>5.689202e-06</td>\n",
       "    </tr>\n",
       "    <tr>\n",
       "      <th>1142</th>\n",
       "      <td>id_ztvp2l9k3h.jpg</td>\n",
       "      <td>9.991959e-01</td>\n",
       "      <td>7.986516e-04</td>\n",
       "      <td>5.396750e-06</td>\n",
       "    </tr>\n",
       "    <tr>\n",
       "      <th>1143</th>\n",
       "      <td>id_zwwcma7hlt.jpg</td>\n",
       "      <td>9.999434e-01</td>\n",
       "      <td>4.344466e-05</td>\n",
       "      <td>1.323231e-05</td>\n",
       "    </tr>\n",
       "    <tr>\n",
       "      <th>1144</th>\n",
       "      <td>id_zyo7m4fj8h.jpg</td>\n",
       "      <td>1.546008e-01</td>\n",
       "      <td>1.252112e-04</td>\n",
       "      <td>8.452740e-01</td>\n",
       "    </tr>\n",
       "  </tbody>\n",
       "</table>\n",
       "<p>1145 rows × 4 columns</p>\n",
       "</div>"
      ],
      "text/plain": [
       "               Image_id         blast         brown       healthy\n",
       "0     id_00vl5wvxq3.jpg  9.999652e-01  1.960550e-05  1.523825e-05\n",
       "1     id_01hu05mtch.jpg  2.114421e-03  9.978788e-01  6.726851e-06\n",
       "2     id_030ln10ewn.jpg  9.787753e-01  2.121115e-02  1.352138e-05\n",
       "3     id_03z57m8xht.jpg  9.999997e-01  9.225378e-08  1.694033e-07\n",
       "4     id_04ngep1w4b.jpg  9.969406e-01  2.088984e-04  2.850557e-03\n",
       "...                 ...           ...           ...           ...\n",
       "1140  id_zrdlgjrq3r.jpg  5.549293e-07  3.715392e-04  9.996279e-01\n",
       "1141  id_zsfayxwipp.jpg  5.276918e-07  9.999938e-01  5.689202e-06\n",
       "1142  id_ztvp2l9k3h.jpg  9.991959e-01  7.986516e-04  5.396750e-06\n",
       "1143  id_zwwcma7hlt.jpg  9.999434e-01  4.344466e-05  1.323231e-05\n",
       "1144  id_zyo7m4fj8h.jpg  1.546008e-01  1.252112e-04  8.452740e-01\n",
       "\n",
       "[1145 rows x 4 columns]"
      ]
     },
     "execution_count": 24,
     "metadata": {},
     "output_type": "execute_result"
    }
   ],
   "source": [
    "submission_from_test"
   ]
  },
  {
   "cell_type": "code",
   "execution_count": 25,
   "id": "2345c4fd",
   "metadata": {
    "execution": {
     "iopub.execute_input": "2022-08-04T07:18:43.960434Z",
     "iopub.status.busy": "2022-08-04T07:18:43.959692Z",
     "iopub.status.idle": "2022-08-04T07:18:43.982755Z",
     "shell.execute_reply": "2022-08-04T07:18:43.981869Z"
    },
    "papermill": {
     "duration": 0.127557,
     "end_time": "2022-08-04T07:18:43.984841",
     "exception": false,
     "start_time": "2022-08-04T07:18:43.857284",
     "status": "completed"
    },
    "tags": []
   },
   "outputs": [],
   "source": [
    "submission_from_test.to_csv(\"submit_test_0.04.csv\",index=False)"
   ]
  },
  {
   "cell_type": "code",
   "execution_count": 26,
   "id": "b0f12c87",
   "metadata": {
    "execution": {
     "iopub.execute_input": "2022-08-04T07:18:44.177383Z",
     "iopub.status.busy": "2022-08-04T07:18:44.176891Z",
     "iopub.status.idle": "2022-08-04T07:18:44.193792Z",
     "shell.execute_reply": "2022-08-04T07:18:44.192846Z"
    },
    "papermill": {
     "duration": 0.115569,
     "end_time": "2022-08-04T07:18:44.196357",
     "exception": false,
     "start_time": "2022-08-04T07:18:44.080788",
     "status": "completed"
    },
    "tags": []
   },
   "outputs": [
    {
     "name": "stderr",
     "output_type": "stream",
     "text": [
      "/opt/conda/lib/python3.7/site-packages/numpy/lib/npyio.py:528: FutureWarning: The input object of type 'TensorImage' is an array-like implementing one of the corresponding protocols (`__array__`, `__array_interface__` or `__array_struct__`); but not a sequence (or 0-D). In the future, this object will be coerced as if it was first converted using `np.array(obj)`. To retain the old behaviour, you have to either modify the type 'TensorImage', or assign to an empty array created with `np.empty(correct_shape, dtype=object)`.\n",
      "  arr = np.asanyarray(arr)\n",
      "/opt/conda/lib/python3.7/site-packages/numpy/lib/npyio.py:528: VisibleDeprecationWarning: Creating an ndarray from ragged nested sequences (which is a list-or-tuple of lists-or-tuples-or ndarrays with different lengths or shapes) is deprecated. If you meant to do this, you must specify 'dtype=object' when creating the ndarray.\n",
      "  arr = np.asanyarray(arr)\n"
     ]
    }
   ],
   "source": [
    "np.save('y_pred_tot.npy', y_pred_tot)"
   ]
  },
  {
   "cell_type": "code",
   "execution_count": 27,
   "id": "5a3fce24",
   "metadata": {
    "execution": {
     "iopub.execute_input": "2022-08-04T07:18:44.408638Z",
     "iopub.status.busy": "2022-08-04T07:18:44.408349Z",
     "iopub.status.idle": "2022-08-04T07:18:44.415392Z",
     "shell.execute_reply": "2022-08-04T07:18:44.414688Z"
    },
    "papermill": {
     "duration": 0.110398,
     "end_time": "2022-08-04T07:18:44.417225",
     "exception": false,
     "start_time": "2022-08-04T07:18:44.306827",
     "status": "completed"
    },
    "tags": []
   },
   "outputs": [],
   "source": [
    "np.save('y_pred_tot_5.npy', y_pred_tot_5)"
   ]
  },
  {
   "cell_type": "code",
   "execution_count": 28,
   "id": "9395ea32",
   "metadata": {
    "execution": {
     "iopub.execute_input": "2022-08-04T07:18:44.609330Z",
     "iopub.status.busy": "2022-08-04T07:18:44.609030Z",
     "iopub.status.idle": "2022-08-04T07:18:44.624537Z",
     "shell.execute_reply": "2022-08-04T07:18:44.623853Z"
    },
    "papermill": {
     "duration": 0.113958,
     "end_time": "2022-08-04T07:18:44.626356",
     "exception": false,
     "start_time": "2022-08-04T07:18:44.512398",
     "status": "completed"
    },
    "tags": []
   },
   "outputs": [
    {
     "data": {
      "text/html": [
       "<div>\n",
       "<style scoped>\n",
       "    .dataframe tbody tr th:only-of-type {\n",
       "        vertical-align: middle;\n",
       "    }\n",
       "\n",
       "    .dataframe tbody tr th {\n",
       "        vertical-align: top;\n",
       "    }\n",
       "\n",
       "    .dataframe thead th {\n",
       "        text-align: right;\n",
       "    }\n",
       "</style>\n",
       "<table border=\"1\" class=\"dataframe\">\n",
       "  <thead>\n",
       "    <tr style=\"text-align: right;\">\n",
       "      <th></th>\n",
       "      <th>Image_id</th>\n",
       "      <th>blast</th>\n",
       "      <th>brown</th>\n",
       "      <th>healthy</th>\n",
       "    </tr>\n",
       "  </thead>\n",
       "  <tbody>\n",
       "    <tr>\n",
       "      <th>0</th>\n",
       "      <td>id_00vl5wvxq3.jpg</td>\n",
       "      <td>0.0</td>\n",
       "      <td>0.0</td>\n",
       "      <td>0.0</td>\n",
       "    </tr>\n",
       "    <tr>\n",
       "      <th>1</th>\n",
       "      <td>id_01hu05mtch.jpg</td>\n",
       "      <td>0.0</td>\n",
       "      <td>0.0</td>\n",
       "      <td>0.0</td>\n",
       "    </tr>\n",
       "    <tr>\n",
       "      <th>2</th>\n",
       "      <td>id_030ln10ewn.jpg</td>\n",
       "      <td>0.0</td>\n",
       "      <td>0.0</td>\n",
       "      <td>0.0</td>\n",
       "    </tr>\n",
       "    <tr>\n",
       "      <th>3</th>\n",
       "      <td>id_03z57m8xht.jpg</td>\n",
       "      <td>0.0</td>\n",
       "      <td>0.0</td>\n",
       "      <td>0.0</td>\n",
       "    </tr>\n",
       "    <tr>\n",
       "      <th>4</th>\n",
       "      <td>id_04ngep1w4b.jpg</td>\n",
       "      <td>0.0</td>\n",
       "      <td>0.0</td>\n",
       "      <td>0.0</td>\n",
       "    </tr>\n",
       "    <tr>\n",
       "      <th>...</th>\n",
       "      <td>...</td>\n",
       "      <td>...</td>\n",
       "      <td>...</td>\n",
       "      <td>...</td>\n",
       "    </tr>\n",
       "    <tr>\n",
       "      <th>1140</th>\n",
       "      <td>id_zrdlgjrq3r.jpg</td>\n",
       "      <td>0.0</td>\n",
       "      <td>0.0</td>\n",
       "      <td>0.0</td>\n",
       "    </tr>\n",
       "    <tr>\n",
       "      <th>1141</th>\n",
       "      <td>id_zsfayxwipp.jpg</td>\n",
       "      <td>0.0</td>\n",
       "      <td>0.0</td>\n",
       "      <td>0.0</td>\n",
       "    </tr>\n",
       "    <tr>\n",
       "      <th>1142</th>\n",
       "      <td>id_ztvp2l9k3h.jpg</td>\n",
       "      <td>0.0</td>\n",
       "      <td>0.0</td>\n",
       "      <td>0.0</td>\n",
       "    </tr>\n",
       "    <tr>\n",
       "      <th>1143</th>\n",
       "      <td>id_zwwcma7hlt.jpg</td>\n",
       "      <td>0.0</td>\n",
       "      <td>0.0</td>\n",
       "      <td>0.0</td>\n",
       "    </tr>\n",
       "    <tr>\n",
       "      <th>1144</th>\n",
       "      <td>id_zyo7m4fj8h.jpg</td>\n",
       "      <td>0.0</td>\n",
       "      <td>0.0</td>\n",
       "      <td>0.0</td>\n",
       "    </tr>\n",
       "  </tbody>\n",
       "</table>\n",
       "<p>1145 rows × 4 columns</p>\n",
       "</div>"
      ],
      "text/plain": [
       "               Image_id  blast  brown  healthy\n",
       "0     id_00vl5wvxq3.jpg    0.0    0.0      0.0\n",
       "1     id_01hu05mtch.jpg    0.0    0.0      0.0\n",
       "2     id_030ln10ewn.jpg    0.0    0.0      0.0\n",
       "3     id_03z57m8xht.jpg    0.0    0.0      0.0\n",
       "4     id_04ngep1w4b.jpg    0.0    0.0      0.0\n",
       "...                 ...    ...    ...      ...\n",
       "1140  id_zrdlgjrq3r.jpg    0.0    0.0      0.0\n",
       "1141  id_zsfayxwipp.jpg    0.0    0.0      0.0\n",
       "1142  id_ztvp2l9k3h.jpg    0.0    0.0      0.0\n",
       "1143  id_zwwcma7hlt.jpg    0.0    0.0      0.0\n",
       "1144  id_zyo7m4fj8h.jpg    0.0    0.0      0.0\n",
       "\n",
       "[1145 rows x 4 columns]"
      ]
     },
     "execution_count": 28,
     "metadata": {},
     "output_type": "execute_result"
    }
   ],
   "source": [
    "submission\n"
   ]
  },
  {
   "cell_type": "code",
   "execution_count": null,
   "id": "64a697dd",
   "metadata": {
    "papermill": {
     "duration": 0.099435,
     "end_time": "2022-08-04T07:18:44.824259",
     "exception": false,
     "start_time": "2022-08-04T07:18:44.724824",
     "status": "completed"
    },
    "tags": []
   },
   "outputs": [],
   "source": []
  }
 ],
 "metadata": {
  "kernelspec": {
   "display_name": "Python 3",
   "language": "python",
   "name": "python3"
  },
  "language_info": {
   "codemirror_mode": {
    "name": "ipython",
    "version": 3
   },
   "file_extension": ".py",
   "mimetype": "text/x-python",
   "name": "python",
   "nbconvert_exporter": "python",
   "pygments_lexer": "ipython3",
   "version": "3.7.12"
  },
  "papermill": {
   "default_parameters": {},
   "duration": 37248.871138,
   "end_time": "2022-08-04T07:18:48.623999",
   "environment_variables": {},
   "exception": null,
   "input_path": "__notebook__.ipynb",
   "output_path": "__notebook__.ipynb",
   "parameters": {},
   "start_time": "2022-08-03T20:57:59.752861",
   "version": "2.3.4"
  }
 },
 "nbformat": 4,
 "nbformat_minor": 5
}