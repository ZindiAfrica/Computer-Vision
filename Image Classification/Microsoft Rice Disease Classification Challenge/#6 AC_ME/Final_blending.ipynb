{
  "nbformat": 4,
  "nbformat_minor": 0,
  "metadata": {
    "colab": {
      "name": "Final_blending.ipynb",
      "provenance": []
    },
    "kernelspec": {
      "name": "python3",
      "display_name": "Python 3"
    },
    "language_info": {
      "name": "python"
    }
  },
  "cells": [
    {
      "cell_type": "markdown",
      "source": [
        "# Final Blending"
      ],
      "metadata": {
        "id": "hgQOlkgmPm-l"
      }
    },
    {
      "cell_type": "code",
      "source": [
        "import pandas as pd\n",
        "test_0_04448 = pd.read_csv(\"/content/drive/MyDrive/microsoft_challenge/submit_test_0.04.csv\") \n",
        "test_0_044964 = pd.read_csv(\"/content/drive/MyDrive/microsoft_challenge/submit_test0.0875_0.0449.csv\") \n",
        "test_0_0529 = pd.read_csv(\"/content/drive/MyDrive/microsoft_challenge/without tta 0.0524.csv\") \n",
        "test_0_04 = pd.read_csv('/content/drive/MyDrive/microsoft_challenge/rice_cv_pseudo.csv')\n",
        "new_scheduler = pd.read_csv(\"/content/drive/MyDrive/microsoft_challenge/new_scheduler0.0582.csv\")\n",
        "test_0_06 = pd.read_csv(\"/content/drive/MyDrive/microsoft_challenge/rice_cv_0.0694.csv\")\n",
        "test_convnext = pd.read_csv(\"/content/drive/MyDrive/microsoft_challenge/rice_cv_0.0919 convnext.csv\") \n",
        "test_last_caleb = pd.read_csv(\"/content/drive/MyDrive/microsoft_challenge/rice_cv_0.0020epoch.csv\") "
      ],
      "metadata": {
        "id": "27TdZZWE9eu3"
      },
      "execution_count": 2,
      "outputs": []
    },
    {
      "cell_type": "code",
      "source": [
        "ensemble = test_0_04448.copy()"
      ],
      "metadata": {
        "id": "0jfdtZQ9-SAL"
      },
      "execution_count": 3,
      "outputs": []
    },
    {
      "cell_type": "code",
      "source": [
        "ensemble.iloc[:,2:] =(test_convnext.iloc[:,2:]*test_0_0529.iloc[:,2:]*test_0_04448.iloc[:,2:]*test_0_044964.iloc[:,2:]*test_last_caleb.iloc[:,2:]*new_scheduler.iloc[:,2:]*test_0_04.iloc[:,2:]*test_0_06.iloc[:,2:])**0.125\n"
      ],
      "metadata": {
        "id": "SN9pvfJL-ox8"
      },
      "execution_count": 6,
      "outputs": []
    },
    {
      "cell_type": "code",
      "source": [
        "ensemble"
      ],
      "metadata": {
        "colab": {
          "base_uri": "https://localhost:8080/",
          "height": 424
        },
        "id": "IYyYn130QM5O",
        "outputId": "41707d5f-9d1f-47cc-edfd-86cb91dfdd24"
      },
      "execution_count": 7,
      "outputs": [
        {
          "output_type": "execute_result",
          "data": {
            "text/plain": [
              "               Image_id         blast         brown       healthy\n",
              "0     id_00vl5wvxq3.jpg  9.999652e-01  7.091305e-06  1.031367e-06\n",
              "1     id_01hu05mtch.jpg  2.114422e-03  9.830528e-01  3.315733e-05\n",
              "2     id_030ln10ewn.jpg  9.787753e-01  6.803751e-02  2.504970e-04\n",
              "3     id_03z57m8xht.jpg  9.999997e-01  5.443729e-07  9.911935e-08\n",
              "4     id_04ngep1w4b.jpg  9.969406e-01  2.902458e-04  1.259308e-04\n",
              "...                 ...           ...           ...           ...\n",
              "1140  id_zrdlgjrq3r.jpg  5.549293e-07  3.321957e-03  9.811941e-01\n",
              "1141  id_zsfayxwipp.jpg  5.276918e-07  9.993265e-01  1.317688e-04\n",
              "1142  id_ztvp2l9k3h.jpg  9.991959e-01  4.771520e-03  5.643609e-06\n",
              "1143  id_zwwcma7hlt.jpg  9.999434e-01  2.432312e-05  2.123618e-05\n",
              "1144  id_zyo7m4fj8h.jpg  1.546008e-01  5.449370e-04  9.233823e-01\n",
              "\n",
              "[1145 rows x 4 columns]"
            ],
            "text/html": [
              "\n",
              "  <div id=\"df-7efe618c-bce8-4ef6-a185-17c4d21bd119\">\n",
              "    <div class=\"colab-df-container\">\n",
              "      <div>\n",
              "<style scoped>\n",
              "    .dataframe tbody tr th:only-of-type {\n",
              "        vertical-align: middle;\n",
              "    }\n",
              "\n",
              "    .dataframe tbody tr th {\n",
              "        vertical-align: top;\n",
              "    }\n",
              "\n",
              "    .dataframe thead th {\n",
              "        text-align: right;\n",
              "    }\n",
              "</style>\n",
              "<table border=\"1\" class=\"dataframe\">\n",
              "  <thead>\n",
              "    <tr style=\"text-align: right;\">\n",
              "      <th></th>\n",
              "      <th>Image_id</th>\n",
              "      <th>blast</th>\n",
              "      <th>brown</th>\n",
              "      <th>healthy</th>\n",
              "    </tr>\n",
              "  </thead>\n",
              "  <tbody>\n",
              "    <tr>\n",
              "      <th>0</th>\n",
              "      <td>id_00vl5wvxq3.jpg</td>\n",
              "      <td>9.999652e-01</td>\n",
              "      <td>7.091305e-06</td>\n",
              "      <td>1.031367e-06</td>\n",
              "    </tr>\n",
              "    <tr>\n",
              "      <th>1</th>\n",
              "      <td>id_01hu05mtch.jpg</td>\n",
              "      <td>2.114422e-03</td>\n",
              "      <td>9.830528e-01</td>\n",
              "      <td>3.315733e-05</td>\n",
              "    </tr>\n",
              "    <tr>\n",
              "      <th>2</th>\n",
              "      <td>id_030ln10ewn.jpg</td>\n",
              "      <td>9.787753e-01</td>\n",
              "      <td>6.803751e-02</td>\n",
              "      <td>2.504970e-04</td>\n",
              "    </tr>\n",
              "    <tr>\n",
              "      <th>3</th>\n",
              "      <td>id_03z57m8xht.jpg</td>\n",
              "      <td>9.999997e-01</td>\n",
              "      <td>5.443729e-07</td>\n",
              "      <td>9.911935e-08</td>\n",
              "    </tr>\n",
              "    <tr>\n",
              "      <th>4</th>\n",
              "      <td>id_04ngep1w4b.jpg</td>\n",
              "      <td>9.969406e-01</td>\n",
              "      <td>2.902458e-04</td>\n",
              "      <td>1.259308e-04</td>\n",
              "    </tr>\n",
              "    <tr>\n",
              "      <th>...</th>\n",
              "      <td>...</td>\n",
              "      <td>...</td>\n",
              "      <td>...</td>\n",
              "      <td>...</td>\n",
              "    </tr>\n",
              "    <tr>\n",
              "      <th>1140</th>\n",
              "      <td>id_zrdlgjrq3r.jpg</td>\n",
              "      <td>5.549293e-07</td>\n",
              "      <td>3.321957e-03</td>\n",
              "      <td>9.811941e-01</td>\n",
              "    </tr>\n",
              "    <tr>\n",
              "      <th>1141</th>\n",
              "      <td>id_zsfayxwipp.jpg</td>\n",
              "      <td>5.276918e-07</td>\n",
              "      <td>9.993265e-01</td>\n",
              "      <td>1.317688e-04</td>\n",
              "    </tr>\n",
              "    <tr>\n",
              "      <th>1142</th>\n",
              "      <td>id_ztvp2l9k3h.jpg</td>\n",
              "      <td>9.991959e-01</td>\n",
              "      <td>4.771520e-03</td>\n",
              "      <td>5.643609e-06</td>\n",
              "    </tr>\n",
              "    <tr>\n",
              "      <th>1143</th>\n",
              "      <td>id_zwwcma7hlt.jpg</td>\n",
              "      <td>9.999434e-01</td>\n",
              "      <td>2.432312e-05</td>\n",
              "      <td>2.123618e-05</td>\n",
              "    </tr>\n",
              "    <tr>\n",
              "      <th>1144</th>\n",
              "      <td>id_zyo7m4fj8h.jpg</td>\n",
              "      <td>1.546008e-01</td>\n",
              "      <td>5.449370e-04</td>\n",
              "      <td>9.233823e-01</td>\n",
              "    </tr>\n",
              "  </tbody>\n",
              "</table>\n",
              "<p>1145 rows × 4 columns</p>\n",
              "</div>\n",
              "      <button class=\"colab-df-convert\" onclick=\"convertToInteractive('df-7efe618c-bce8-4ef6-a185-17c4d21bd119')\"\n",
              "              title=\"Convert this dataframe to an interactive table.\"\n",
              "              style=\"display:none;\">\n",
              "        \n",
              "  <svg xmlns=\"http://www.w3.org/2000/svg\" height=\"24px\"viewBox=\"0 0 24 24\"\n",
              "       width=\"24px\">\n",
              "    <path d=\"M0 0h24v24H0V0z\" fill=\"none\"/>\n",
              "    <path d=\"M18.56 5.44l.94 2.06.94-2.06 2.06-.94-2.06-.94-.94-2.06-.94 2.06-2.06.94zm-11 1L8.5 8.5l.94-2.06 2.06-.94-2.06-.94L8.5 2.5l-.94 2.06-2.06.94zm10 10l.94 2.06.94-2.06 2.06-.94-2.06-.94-.94-2.06-.94 2.06-2.06.94z\"/><path d=\"M17.41 7.96l-1.37-1.37c-.4-.4-.92-.59-1.43-.59-.52 0-1.04.2-1.43.59L10.3 9.45l-7.72 7.72c-.78.78-.78 2.05 0 2.83L4 21.41c.39.39.9.59 1.41.59.51 0 1.02-.2 1.41-.59l7.78-7.78 2.81-2.81c.8-.78.8-2.07 0-2.86zM5.41 20L4 18.59l7.72-7.72 1.47 1.35L5.41 20z\"/>\n",
              "  </svg>\n",
              "      </button>\n",
              "      \n",
              "  <style>\n",
              "    .colab-df-container {\n",
              "      display:flex;\n",
              "      flex-wrap:wrap;\n",
              "      gap: 12px;\n",
              "    }\n",
              "\n",
              "    .colab-df-convert {\n",
              "      background-color: #E8F0FE;\n",
              "      border: none;\n",
              "      border-radius: 50%;\n",
              "      cursor: pointer;\n",
              "      display: none;\n",
              "      fill: #1967D2;\n",
              "      height: 32px;\n",
              "      padding: 0 0 0 0;\n",
              "      width: 32px;\n",
              "    }\n",
              "\n",
              "    .colab-df-convert:hover {\n",
              "      background-color: #E2EBFA;\n",
              "      box-shadow: 0px 1px 2px rgba(60, 64, 67, 0.3), 0px 1px 3px 1px rgba(60, 64, 67, 0.15);\n",
              "      fill: #174EA6;\n",
              "    }\n",
              "\n",
              "    [theme=dark] .colab-df-convert {\n",
              "      background-color: #3B4455;\n",
              "      fill: #D2E3FC;\n",
              "    }\n",
              "\n",
              "    [theme=dark] .colab-df-convert:hover {\n",
              "      background-color: #434B5C;\n",
              "      box-shadow: 0px 1px 3px 1px rgba(0, 0, 0, 0.15);\n",
              "      filter: drop-shadow(0px 1px 2px rgba(0, 0, 0, 0.3));\n",
              "      fill: #FFFFFF;\n",
              "    }\n",
              "  </style>\n",
              "\n",
              "      <script>\n",
              "        const buttonEl =\n",
              "          document.querySelector('#df-7efe618c-bce8-4ef6-a185-17c4d21bd119 button.colab-df-convert');\n",
              "        buttonEl.style.display =\n",
              "          google.colab.kernel.accessAllowed ? 'block' : 'none';\n",
              "\n",
              "        async function convertToInteractive(key) {\n",
              "          const element = document.querySelector('#df-7efe618c-bce8-4ef6-a185-17c4d21bd119');\n",
              "          const dataTable =\n",
              "            await google.colab.kernel.invokeFunction('convertToInteractive',\n",
              "                                                     [key], {});\n",
              "          if (!dataTable) return;\n",
              "\n",
              "          const docLinkHtml = 'Like what you see? Visit the ' +\n",
              "            '<a target=\"_blank\" href=https://colab.research.google.com/notebooks/data_table.ipynb>data table notebook</a>'\n",
              "            + ' to learn more about interactive tables.';\n",
              "          element.innerHTML = '';\n",
              "          dataTable['output_type'] = 'display_data';\n",
              "          await google.colab.output.renderOutput(dataTable, element);\n",
              "          const docLink = document.createElement('div');\n",
              "          docLink.innerHTML = docLinkHtml;\n",
              "          element.appendChild(docLink);\n",
              "        }\n",
              "      </script>\n",
              "    </div>\n",
              "  </div>\n",
              "  "
            ]
          },
          "metadata": {},
          "execution_count": 7
        }
      ]
    },
    {
      "cell_type": "code",
      "source": [
        "ensemble.to_csv(\"final_solution.csv\",index=False)"
      ],
      "metadata": {
        "id": "QnS-vRd-QNol"
      },
      "execution_count": 8,
      "outputs": []
    },
    {
      "cell_type": "code",
      "source": [
        ""
      ],
      "metadata": {
        "id": "Tn4qirv0QbW3"
      },
      "execution_count": null,
      "outputs": []
    }
  ]
}