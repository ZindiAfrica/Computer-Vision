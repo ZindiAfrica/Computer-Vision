{
  "nbformat": 4,
  "nbformat_minor": 0,
  "metadata": {
    "colab": {
      "name": "MicrosoftRice - Solution - Blend ",
      "provenance": [],
      "collapsed_sections": []
    },
    "kernelspec": {
      "name": "python3",
      "display_name": "Python 3"
    },
    "language_info": {
      "name": "python"
    }
  },
  "cells": [
    {
      "cell_type": "markdown",
      "metadata": {
        "id": "PQxavDuzHcKZ"
      },
      "source": [
        "# IMPORTS"
      ]
    },
    {
      "cell_type": "code",
      "metadata": {
        "id": "0OL8BbrTG3cZ"
      },
      "source": [
        "#import necessary dependecies\n",
        "import os\n",
        "import warnings\n",
        "import numpy as np  \n",
        "import pandas as pd, os, gc , random\n",
        "from tqdm import tqdm_notebook as tqdm \n",
        "warnings.filterwarnings('ignore') \n",
        "np.random.seed(111)\n",
        "random.seed(111)\n",
        "from sklearn.model_selection import  StratifiedKFold"
      ],
      "execution_count": null,
      "outputs": []
    },
    {
      "cell_type": "code",
      "metadata": {
        "id": "SHZ1faNdG36c"
      },
      "source": [
        "import datetime\n",
        "import pandas as pd\n",
        "from time import time\n",
        "# from autograd import grad\n",
        "# import autograd.numpy as np\n",
        "import numpy as np\n",
        "from numba import njit\n",
        "from scipy.optimize import minimize, fsolve\n",
        "from sklearn.metrics import log_loss"
      ],
      "execution_count": null,
      "outputs": []
    },
    {
      "cell_type": "markdown",
      "metadata": {
        "id": "vrzYxyaJHr6Y"
      },
      "source": [
        "# Get Data"
      ]
    },
    {
      "cell_type": "code",
      "metadata": {
        "colab": {
          "base_uri": "https://localhost:8080/",
          "height": 206
        },
        "id": "9dDe2sEZG1f5",
        "outputId": "48a29a25-6767-452f-9887-a21c3c41ac37"
      },
      "source": [
        "Train = pd.read_csv('Train.csv')\n",
        "Train = Train[~Train.Image_id.str.contains('_rgn')].reset_index(drop=True) # Just the RGB images\n",
        "Train.head()"
      ],
      "execution_count": null,
      "outputs": [
        {
          "output_type": "execute_result",
          "data": {
            "text/plain": [
              "            Image_id    Label\n",
              "0  id_004wknd7qd.jpg    blast\n",
              "1  id_005sitfgr2.jpg    brown\n",
              "2  id_00stp9t6m6.jpg    blast\n",
              "3  id_012zxewnhx.jpg    blast\n",
              "4  id_0186qwq2at.jpg  healthy"
            ],
            "text/html": [
              "\n",
              "  <div id=\"df-41ebcd7c-2e02-4c77-bf74-41978fc15f3f\">\n",
              "    <div class=\"colab-df-container\">\n",
              "      <div>\n",
              "<style scoped>\n",
              "    .dataframe tbody tr th:only-of-type {\n",
              "        vertical-align: middle;\n",
              "    }\n",
              "\n",
              "    .dataframe tbody tr th {\n",
              "        vertical-align: top;\n",
              "    }\n",
              "\n",
              "    .dataframe thead th {\n",
              "        text-align: right;\n",
              "    }\n",
              "</style>\n",
              "<table border=\"1\" class=\"dataframe\">\n",
              "  <thead>\n",
              "    <tr style=\"text-align: right;\">\n",
              "      <th></th>\n",
              "      <th>Image_id</th>\n",
              "      <th>Label</th>\n",
              "    </tr>\n",
              "  </thead>\n",
              "  <tbody>\n",
              "    <tr>\n",
              "      <th>0</th>\n",
              "      <td>id_004wknd7qd.jpg</td>\n",
              "      <td>blast</td>\n",
              "    </tr>\n",
              "    <tr>\n",
              "      <th>1</th>\n",
              "      <td>id_005sitfgr2.jpg</td>\n",
              "      <td>brown</td>\n",
              "    </tr>\n",
              "    <tr>\n",
              "      <th>2</th>\n",
              "      <td>id_00stp9t6m6.jpg</td>\n",
              "      <td>blast</td>\n",
              "    </tr>\n",
              "    <tr>\n",
              "      <th>3</th>\n",
              "      <td>id_012zxewnhx.jpg</td>\n",
              "      <td>blast</td>\n",
              "    </tr>\n",
              "    <tr>\n",
              "      <th>4</th>\n",
              "      <td>id_0186qwq2at.jpg</td>\n",
              "      <td>healthy</td>\n",
              "    </tr>\n",
              "  </tbody>\n",
              "</table>\n",
              "</div>\n",
              "      <button class=\"colab-df-convert\" onclick=\"convertToInteractive('df-41ebcd7c-2e02-4c77-bf74-41978fc15f3f')\"\n",
              "              title=\"Convert this dataframe to an interactive table.\"\n",
              "              style=\"display:none;\">\n",
              "        \n",
              "  <svg xmlns=\"http://www.w3.org/2000/svg\" height=\"24px\"viewBox=\"0 0 24 24\"\n",
              "       width=\"24px\">\n",
              "    <path d=\"M0 0h24v24H0V0z\" fill=\"none\"/>\n",
              "    <path d=\"M18.56 5.44l.94 2.06.94-2.06 2.06-.94-2.06-.94-.94-2.06-.94 2.06-2.06.94zm-11 1L8.5 8.5l.94-2.06 2.06-.94-2.06-.94L8.5 2.5l-.94 2.06-2.06.94zm10 10l.94 2.06.94-2.06 2.06-.94-2.06-.94-.94-2.06-.94 2.06-2.06.94z\"/><path d=\"M17.41 7.96l-1.37-1.37c-.4-.4-.92-.59-1.43-.59-.52 0-1.04.2-1.43.59L10.3 9.45l-7.72 7.72c-.78.78-.78 2.05 0 2.83L4 21.41c.39.39.9.59 1.41.59.51 0 1.02-.2 1.41-.59l7.78-7.78 2.81-2.81c.8-.78.8-2.07 0-2.86zM5.41 20L4 18.59l7.72-7.72 1.47 1.35L5.41 20z\"/>\n",
              "  </svg>\n",
              "      </button>\n",
              "      \n",
              "  <style>\n",
              "    .colab-df-container {\n",
              "      display:flex;\n",
              "      flex-wrap:wrap;\n",
              "      gap: 12px;\n",
              "    }\n",
              "\n",
              "    .colab-df-convert {\n",
              "      background-color: #E8F0FE;\n",
              "      border: none;\n",
              "      border-radius: 50%;\n",
              "      cursor: pointer;\n",
              "      display: none;\n",
              "      fill: #1967D2;\n",
              "      height: 32px;\n",
              "      padding: 0 0 0 0;\n",
              "      width: 32px;\n",
              "    }\n",
              "\n",
              "    .colab-df-convert:hover {\n",
              "      background-color: #E2EBFA;\n",
              "      box-shadow: 0px 1px 2px rgba(60, 64, 67, 0.3), 0px 1px 3px 1px rgba(60, 64, 67, 0.15);\n",
              "      fill: #174EA6;\n",
              "    }\n",
              "\n",
              "    [theme=dark] .colab-df-convert {\n",
              "      background-color: #3B4455;\n",
              "      fill: #D2E3FC;\n",
              "    }\n",
              "\n",
              "    [theme=dark] .colab-df-convert:hover {\n",
              "      background-color: #434B5C;\n",
              "      box-shadow: 0px 1px 3px 1px rgba(0, 0, 0, 0.15);\n",
              "      filter: drop-shadow(0px 1px 2px rgba(0, 0, 0, 0.3));\n",
              "      fill: #FFFFFF;\n",
              "    }\n",
              "  </style>\n",
              "\n",
              "      <script>\n",
              "        const buttonEl =\n",
              "          document.querySelector('#df-41ebcd7c-2e02-4c77-bf74-41978fc15f3f button.colab-df-convert');\n",
              "        buttonEl.style.display =\n",
              "          google.colab.kernel.accessAllowed ? 'block' : 'none';\n",
              "\n",
              "        async function convertToInteractive(key) {\n",
              "          const element = document.querySelector('#df-41ebcd7c-2e02-4c77-bf74-41978fc15f3f');\n",
              "          const dataTable =\n",
              "            await google.colab.kernel.invokeFunction('convertToInteractive',\n",
              "                                                     [key], {});\n",
              "          if (!dataTable) return;\n",
              "\n",
              "          const docLinkHtml = 'Like what you see? Visit the ' +\n",
              "            '<a target=\"_blank\" href=https://colab.research.google.com/notebooks/data_table.ipynb>data table notebook</a>'\n",
              "            + ' to learn more about interactive tables.';\n",
              "          element.innerHTML = '';\n",
              "          dataTable['output_type'] = 'display_data';\n",
              "          await google.colab.output.renderOutput(dataTable, element);\n",
              "          const docLink = document.createElement('div');\n",
              "          docLink.innerHTML = docLinkHtml;\n",
              "          element.appendChild(docLink);\n",
              "        }\n",
              "      </script>\n",
              "    </div>\n",
              "  </div>\n",
              "  "
            ]
          },
          "metadata": {},
          "execution_count": 3
        }
      ]
    },
    {
      "cell_type": "code",
      "metadata": {
        "id": "sXjfGppbG1dh"
      },
      "source": [
        "targets = Train.Label.unique().tolist()\n",
        "\n",
        "Target_Mapper = dict(zip(targets,[i for i in range(len(targets))]))\n",
        "InverseTarget_Mapper = dict(zip([i for i in range(len(targets))],targets))"
      ],
      "execution_count": null,
      "outputs": []
    },
    {
      "cell_type": "code",
      "metadata": {
        "id": "iquar2iaG1bA"
      },
      "source": [
        "Train.Label = Train.Label.map(Target_Mapper)"
      ],
      "execution_count": null,
      "outputs": []
    },
    {
      "cell_type": "code",
      "metadata": {
        "id": "5F5HBzFp5J6P"
      },
      "source": [
        "Test = pd.read_csv('Test.csv')\n",
        "Test = Test[~Test.Image_id.str.contains('_rgn')].reset_index(drop=True) # Just the RGB images"
      ],
      "execution_count": null,
      "outputs": []
    },
    {
      "cell_type": "markdown",
      "metadata": {
        "id": "VIpjOL90H_v3"
      },
      "source": [
        "# Weighted Blend"
      ]
    },
    {
      "cell_type": "markdown",
      "metadata": {
        "id": "ewWqoomZIFlh"
      },
      "source": [
        "## Utils"
      ]
    },
    {
      "cell_type": "code",
      "source": [
        "test_dict = {\n",
        "            'SwinLarge384': 'preds/AssazzinBaseline_swin_large_patch4_window12_384_Preds_gmean_10Folds.npy', \n",
        "            'SwinLarge256_V2': 'preds/AssazzinBaseline_swinv2_large_window12to16_192to256_22kft1k_Preds_gmean_10Folds.npy', \n",
        "            'SwinLarge384_V2': 'preds/AssazzinBaseline_swinv2_base_window12to24_192to384_22kft1k_gmean_10Folds.npy', \n",
        "           }\n",
        "\n",
        "BlendTest = np.zeros((len(test_dict), Test.shape[0],y_true.shape[1]))\n",
        "for i in range(BlendTest.shape[0]):\n",
        "    BlendTest[i] = np.load(list(test_dict.values())[i])"
      ],
      "metadata": {
        "id": "5Dm5wOIFBbj4"
      },
      "execution_count": null,
      "outputs": []
    },
    {
      "cell_type": "code",
      "metadata": {
        "id": "HRfXFwLOMMCH"
      },
      "source": [
        "meanPreds = np.average(BlendTest , weights = np.array([0.34520169, 0.31686492, 0.33793339]), axis = 0) "
      ],
      "execution_count": null,
      "outputs": []
    },
    {
      "cell_type": "code",
      "metadata": {
        "id": "NTDP2jHLMNbJ"
      },
      "source": [
        "sub = pd.DataFrame(meanPreds)\n",
        "sub = sub.rename(columns=InverseTarget_Mapper)\n",
        "sub['Image_id'] = Test['Image_id'].values\n",
        "\n",
        "submission = pd.read_csv('SampleSubmission.csv')\n",
        "sub = pd.merge(sub,submission[['Image_id']],on='Image_id',how='right')\n",
        "for col in submission.columns[1:] :\n",
        "  submission[col] = sub[col]"
      ],
      "execution_count": null,
      "outputs": []
    },
    {
      "cell_type": "code",
      "metadata": {
        "colab": {
          "base_uri": "https://localhost:8080/",
          "height": 206
        },
        "id": "Kl27GoTeMSGv",
        "outputId": "551c826e-2da5-46ba-f4bc-ef627b31ce6b"
      },
      "source": [
        "submission.head()"
      ],
      "execution_count": null,
      "outputs": [
        {
          "output_type": "execute_result",
          "data": {
            "text/plain": [
              "            Image_id     blast         brown       healthy\n",
              "0  id_00vl5wvxq3.jpg  0.999999  2.173010e-07  5.848037e-08\n",
              "1  id_01hu05mtch.jpg  0.000044  9.992781e-01  1.434188e-06\n",
              "2  id_030ln10ewn.jpg  0.805992  1.189005e-02  2.510919e-05\n",
              "3  id_03z57m8xht.jpg  0.999999  9.121373e-08  3.935138e-08\n",
              "4  id_04ngep1w4b.jpg  0.999948  3.914551e-06  5.811045e-06"
            ],
            "text/html": [
              "\n",
              "  <div id=\"df-80aa3cf4-6d14-49aa-9042-dd35e277b609\">\n",
              "    <div class=\"colab-df-container\">\n",
              "      <div>\n",
              "<style scoped>\n",
              "    .dataframe tbody tr th:only-of-type {\n",
              "        vertical-align: middle;\n",
              "    }\n",
              "\n",
              "    .dataframe tbody tr th {\n",
              "        vertical-align: top;\n",
              "    }\n",
              "\n",
              "    .dataframe thead th {\n",
              "        text-align: right;\n",
              "    }\n",
              "</style>\n",
              "<table border=\"1\" class=\"dataframe\">\n",
              "  <thead>\n",
              "    <tr style=\"text-align: right;\">\n",
              "      <th></th>\n",
              "      <th>Image_id</th>\n",
              "      <th>blast</th>\n",
              "      <th>brown</th>\n",
              "      <th>healthy</th>\n",
              "    </tr>\n",
              "  </thead>\n",
              "  <tbody>\n",
              "    <tr>\n",
              "      <th>0</th>\n",
              "      <td>id_00vl5wvxq3.jpg</td>\n",
              "      <td>0.999999</td>\n",
              "      <td>2.173010e-07</td>\n",
              "      <td>5.848037e-08</td>\n",
              "    </tr>\n",
              "    <tr>\n",
              "      <th>1</th>\n",
              "      <td>id_01hu05mtch.jpg</td>\n",
              "      <td>0.000044</td>\n",
              "      <td>9.992781e-01</td>\n",
              "      <td>1.434188e-06</td>\n",
              "    </tr>\n",
              "    <tr>\n",
              "      <th>2</th>\n",
              "      <td>id_030ln10ewn.jpg</td>\n",
              "      <td>0.805992</td>\n",
              "      <td>1.189005e-02</td>\n",
              "      <td>2.510919e-05</td>\n",
              "    </tr>\n",
              "    <tr>\n",
              "      <th>3</th>\n",
              "      <td>id_03z57m8xht.jpg</td>\n",
              "      <td>0.999999</td>\n",
              "      <td>9.121373e-08</td>\n",
              "      <td>3.935138e-08</td>\n",
              "    </tr>\n",
              "    <tr>\n",
              "      <th>4</th>\n",
              "      <td>id_04ngep1w4b.jpg</td>\n",
              "      <td>0.999948</td>\n",
              "      <td>3.914551e-06</td>\n",
              "      <td>5.811045e-06</td>\n",
              "    </tr>\n",
              "  </tbody>\n",
              "</table>\n",
              "</div>\n",
              "      <button class=\"colab-df-convert\" onclick=\"convertToInteractive('df-80aa3cf4-6d14-49aa-9042-dd35e277b609')\"\n",
              "              title=\"Convert this dataframe to an interactive table.\"\n",
              "              style=\"display:none;\">\n",
              "        \n",
              "  <svg xmlns=\"http://www.w3.org/2000/svg\" height=\"24px\"viewBox=\"0 0 24 24\"\n",
              "       width=\"24px\">\n",
              "    <path d=\"M0 0h24v24H0V0z\" fill=\"none\"/>\n",
              "    <path d=\"M18.56 5.44l.94 2.06.94-2.06 2.06-.94-2.06-.94-.94-2.06-.94 2.06-2.06.94zm-11 1L8.5 8.5l.94-2.06 2.06-.94-2.06-.94L8.5 2.5l-.94 2.06-2.06.94zm10 10l.94 2.06.94-2.06 2.06-.94-2.06-.94-.94-2.06-.94 2.06-2.06.94z\"/><path d=\"M17.41 7.96l-1.37-1.37c-.4-.4-.92-.59-1.43-.59-.52 0-1.04.2-1.43.59L10.3 9.45l-7.72 7.72c-.78.78-.78 2.05 0 2.83L4 21.41c.39.39.9.59 1.41.59.51 0 1.02-.2 1.41-.59l7.78-7.78 2.81-2.81c.8-.78.8-2.07 0-2.86zM5.41 20L4 18.59l7.72-7.72 1.47 1.35L5.41 20z\"/>\n",
              "  </svg>\n",
              "      </button>\n",
              "      \n",
              "  <style>\n",
              "    .colab-df-container {\n",
              "      display:flex;\n",
              "      flex-wrap:wrap;\n",
              "      gap: 12px;\n",
              "    }\n",
              "\n",
              "    .colab-df-convert {\n",
              "      background-color: #E8F0FE;\n",
              "      border: none;\n",
              "      border-radius: 50%;\n",
              "      cursor: pointer;\n",
              "      display: none;\n",
              "      fill: #1967D2;\n",
              "      height: 32px;\n",
              "      padding: 0 0 0 0;\n",
              "      width: 32px;\n",
              "    }\n",
              "\n",
              "    .colab-df-convert:hover {\n",
              "      background-color: #E2EBFA;\n",
              "      box-shadow: 0px 1px 2px rgba(60, 64, 67, 0.3), 0px 1px 3px 1px rgba(60, 64, 67, 0.15);\n",
              "      fill: #174EA6;\n",
              "    }\n",
              "\n",
              "    [theme=dark] .colab-df-convert {\n",
              "      background-color: #3B4455;\n",
              "      fill: #D2E3FC;\n",
              "    }\n",
              "\n",
              "    [theme=dark] .colab-df-convert:hover {\n",
              "      background-color: #434B5C;\n",
              "      box-shadow: 0px 1px 3px 1px rgba(0, 0, 0, 0.15);\n",
              "      filter: drop-shadow(0px 1px 2px rgba(0, 0, 0, 0.3));\n",
              "      fill: #FFFFFF;\n",
              "    }\n",
              "  </style>\n",
              "\n",
              "      <script>\n",
              "        const buttonEl =\n",
              "          document.querySelector('#df-80aa3cf4-6d14-49aa-9042-dd35e277b609 button.colab-df-convert');\n",
              "        buttonEl.style.display =\n",
              "          google.colab.kernel.accessAllowed ? 'block' : 'none';\n",
              "\n",
              "        async function convertToInteractive(key) {\n",
              "          const element = document.querySelector('#df-80aa3cf4-6d14-49aa-9042-dd35e277b609');\n",
              "          const dataTable =\n",
              "            await google.colab.kernel.invokeFunction('convertToInteractive',\n",
              "                                                     [key], {});\n",
              "          if (!dataTable) return;\n",
              "\n",
              "          const docLinkHtml = 'Like what you see? Visit the ' +\n",
              "            '<a target=\"_blank\" href=https://colab.research.google.com/notebooks/data_table.ipynb>data table notebook</a>'\n",
              "            + ' to learn more about interactive tables.';\n",
              "          element.innerHTML = '';\n",
              "          dataTable['output_type'] = 'display_data';\n",
              "          await google.colab.output.renderOutput(dataTable, element);\n",
              "          const docLink = document.createElement('div');\n",
              "          docLink.innerHTML = docLinkHtml;\n",
              "          element.appendChild(docLink);\n",
              "        }\n",
              "      </script>\n",
              "    </div>\n",
              "  </div>\n",
              "  "
            ]
          },
          "metadata": {},
          "execution_count": 29
        }
      ]
    },
    {
      "cell_type": "code",
      "metadata": {
        "id": "q5N_9sLRMOZv"
      },
      "source": [
        "submission.to_csv(f'AssazzinSolution.csv',index=False)"
      ],
      "execution_count": null,
      "outputs": []
    }
  ]
}