{
 "cells": [
  {
   "cell_type": "code",
   "execution_count": 1,
   "metadata": {
    "collapsed": true,
    "pycharm": {
     "name": "#%%\n"
    }
   },
   "outputs": [],
   "source": [
    "import matplotlib.pyplot as plt\n",
    "import cv2\n",
    "import numpy as np\n",
    "import pandas as pd\n",
    "import random\n",
    "\n",
    "train = pd.read_csv('/home/mithil/PycharmProjects/Rice/data/train.csv')\n",
    "train = train[train['Label'] == 'healthy']\n",
    "image_to_label = dict(zip(train['Image_id'].values, train['Label'].values))\n",
    "path = '/home/mithil/PycharmProjects/Rice/data/images'"
   ]
  },
  {
   "cell_type": "code",
   "execution_count": null,
   "outputs": [],
   "source": [
    "def showImages(images):\n",
    "    # Extract 9 random images from it\n",
    "    random_images = [np.random.choice(images) for i in range(9)]\n",
    "\n",
    "    # Adjust the size of your images\n",
    "\n",
    "    # Iterate and plot random images\n",
    "    for i in range(9):\n",
    "        plt.figure(figsize=(20, 20))\n",
    "        img = plt.imread(f\"{path}/{random_images[i]}\")\n",
    "        plt.imshow(img, cmap='gray')\n",
    "        plt.title(image_to_label[random_images[i]])\n",
    "        plt.axis('off')\n",
    "\n",
    "    # Adjust subplot parameters to give specified padding\n",
    "    plt.tight_layout()\n",
    "\n",
    "\n",
    "showImages(train['Image_id'].values)"
   ],
   "metadata": {
    "collapsed": false,
    "pycharm": {
     "name": "#%%\n",
     "is_executing": true
    }
   }
  },
  {
   "cell_type": "code",
   "execution_count": 4,
   "outputs": [],
   "source": [],
   "metadata": {
    "collapsed": false,
    "pycharm": {
     "name": "#%%\n"
    }
   }
  }
 ],
 "metadata": {
  "kernelspec": {
   "display_name": "Python 3",
   "language": "python",
   "name": "python3"
  },
  "language_info": {
   "codemirror_mode": {
    "name": "ipython",
    "version": 2
   },
   "file_extension": ".py",
   "mimetype": "text/x-python",
   "name": "python",
   "nbconvert_exporter": "python",
   "pygments_lexer": "ipython2",
   "version": "2.7.6"
  }
 },
 "nbformat": 4,
 "nbformat_minor": 0
}