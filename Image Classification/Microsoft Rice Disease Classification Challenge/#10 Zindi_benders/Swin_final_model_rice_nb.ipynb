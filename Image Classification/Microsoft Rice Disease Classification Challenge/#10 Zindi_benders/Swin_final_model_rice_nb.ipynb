{
 "cells": [
  {
   "cell_type": "markdown",
   "metadata": {},
   "source": [
    "## Model 1"
   ]
  },
  {
   "cell_type": "markdown",
   "metadata": {},
   "source": [
    "### Install and Import Necessary libraries"
   ]
  },
  {
   "cell_type": "code",
   "execution_count": 1,
   "metadata": {
    "_cell_guid": "b1076dfc-b9ad-4769-8c92-a6c4dae69d19",
    "_uuid": "8f2839f25d086af736a60e9eeb907d3b93b6e0e5",
    "execution": {
     "iopub.execute_input": "2022-08-09T18:40:36.847613Z",
     "iopub.status.busy": "2022-08-09T18:40:36.846961Z",
     "iopub.status.idle": "2022-08-09T18:41:28.729446Z",
     "shell.execute_reply": "2022-08-09T18:41:28.728607Z",
     "shell.execute_reply.started": "2022-08-09T18:40:36.847489Z"
    }
   },
   "outputs": [],
   "source": [
    "!pip install -U albumentations\n",
    "!pip install opencv-python==4.5.4.60\n",
    "!pip install timm==0.6.2.dev0"
   ]
  },
  {
   "cell_type": "code",
   "execution_count": 2,
   "metadata": {
    "execution": {
     "iopub.execute_input": "2022-08-09T18:41:28.732130Z",
     "iopub.status.busy": "2022-08-09T18:41:28.731409Z",
     "iopub.status.idle": "2022-08-09T18:41:30.552946Z",
     "shell.execute_reply": "2022-08-09T18:41:30.552191Z",
     "shell.execute_reply.started": "2022-08-09T18:41:28.732092Z"
    }
   },
   "outputs": [],
   "source": [
    "\n",
    "import torch\n",
    "torch.cuda.empty_cache()"
   ]
  },
  {
   "cell_type": "code",
   "execution_count": 3,
   "metadata": {
    "execution": {
     "iopub.execute_input": "2022-08-09T18:41:30.554468Z",
     "iopub.status.busy": "2022-08-09T18:41:30.554202Z",
     "iopub.status.idle": "2022-08-09T18:41:36.646214Z",
     "shell.execute_reply": "2022-08-09T18:41:36.645280Z",
     "shell.execute_reply.started": "2022-08-09T18:41:30.554434Z"
    }
   },
   "outputs": [],
   "source": [
    "import os\n",
    "import albumentations\n",
    "from albumentations.pytorch import ToTensorV2\n",
    "import pandas as pd\n",
    "import numpy as np\n",
    "import gc\n",
    "import timm"
   ]
  },
  {
   "cell_type": "code",
   "execution_count": 5,
   "metadata": {
    "execution": {
     "iopub.execute_input": "2022-08-09T18:41:36.830872Z",
     "iopub.status.busy": "2022-08-09T18:41:36.830623Z",
     "iopub.status.idle": "2022-08-09T18:41:36.836746Z",
     "shell.execute_reply": "2022-08-09T18:41:36.835908Z",
     "shell.execute_reply.started": "2022-08-09T18:41:36.830838Z"
    }
   },
   "outputs": [],
   "source": [
    "from fastai.vision.all import *"
   ]
  },
  {
   "cell_type": "markdown",
   "metadata": {},
   "source": [
    "### Seed For Reproducibility"
   ]
  },
  {
   "cell_type": "code",
   "execution_count": 6,
   "metadata": {
    "execution": {
     "iopub.execute_input": "2022-08-09T18:41:36.838642Z",
     "iopub.status.busy": "2022-08-09T18:41:36.838227Z",
     "iopub.status.idle": "2022-08-09T18:41:36.846309Z",
     "shell.execute_reply": "2022-08-09T18:41:36.845570Z",
     "shell.execute_reply.started": "2022-08-09T18:41:36.838608Z"
    }
   },
   "outputs": [],
   "source": [
    "def random_seed(seed_value, use_cuda): \n",
    "    np.random.seed(seed_value)\n",
    " #cpu vars\n",
    "    torch.manual_seed(seed_value) \n",
    "# cpu  vars\n",
    "    random.seed(seed_value)\n",
    " # Python \n",
    "    if use_cuda: \n",
    "        torch.cuda.manual_seed(seed_value) \n",
    "        torch.cuda.manual_seed_all(seed_value) \n",
    "# gpu vars\n",
    "        torch.backends.cudnn.deterministic = True \n",
    " #needed\n",
    "        torch.backends.cudnn.benchmark = False \n",
    "#Remember to use num_workers=0 when creating the DataBunch.\n",
    "\n"
   ]
  },
  {
   "cell_type": "code",
   "execution_count": 7,
   "metadata": {
    "execution": {
     "iopub.execute_input": "2022-08-09T18:41:36.850194Z",
     "iopub.status.busy": "2022-08-09T18:41:36.847589Z",
     "iopub.status.idle": "2022-08-09T18:41:36.869369Z",
     "shell.execute_reply": "2022-08-09T18:41:36.868706Z",
     "shell.execute_reply.started": "2022-08-09T18:41:36.849140Z"
    }
   },
   "outputs": [],
   "source": [
    "random_seed(2022,True)"
   ]
  },
  {
   "cell_type": "code",
   "execution_count": 8,
   "metadata": {
    "execution": {
     "iopub.execute_input": "2022-08-09T18:41:36.875015Z",
     "iopub.status.busy": "2022-08-09T18:41:36.870625Z",
     "iopub.status.idle": "2022-08-09T18:41:36.878676Z",
     "shell.execute_reply": "2022-08-09T18:41:36.877633Z",
     "shell.execute_reply.started": "2022-08-09T18:41:36.874967Z"
    }
   },
   "outputs": [],
   "source": [
    "#Start by connecting gdrive into the google colab\n",
    "\n",
    "from google.colab import drive\n",
    "\n",
    "drive.mount('/content/gdrive')"
   ]
  },
  {
   "cell_type": "markdown",
   "metadata": {},
   "source": [
    "### Load the Data"
   ]
  },
  {
   "cell_type": "code",
   "execution_count": 9,
   "metadata": {
    "execution": {
     "iopub.execute_input": "2022-08-09T18:41:36.882788Z",
     "iopub.status.busy": "2022-08-09T18:41:36.880122Z",
     "iopub.status.idle": "2022-08-09T18:41:36.941767Z",
     "shell.execute_reply": "2022-08-09T18:41:36.941102Z",
     "shell.execute_reply.started": "2022-08-09T18:41:36.882742Z"
    }
   },
   "outputs": [],
   "source": [
    "path = Path('../input/ricediseasedetection/Rice disease detector/Rice disease detector')\n",
    "\n",
    "df = pd.read_csv('../input/ricediseasedetection/normaltrain.csv')\n",
    "\n",
    "\n",
    "df['Image_id'] = \"../input/ricediseasedetection/Rice disease detector/Rice disease detector/Images/\" + df['Image_id']\n",
    "\n",
    "df.head()"
   ]
  },
  {
   "cell_type": "code",
   "execution_count": 15,
   "metadata": {
    "execution": {
     "iopub.execute_input": "2022-08-09T18:41:37.018950Z",
     "iopub.status.busy": "2022-08-09T18:41:37.018483Z",
     "iopub.status.idle": "2022-08-09T18:41:37.027497Z",
     "shell.execute_reply": "2022-08-09T18:41:37.026593Z",
     "shell.execute_reply.started": "2022-08-09T18:41:37.018901Z"
    }
   },
   "outputs": [],
   "source": [
    "df.Label.value_counts()"
   ]
  },
  {
   "cell_type": "code",
   "execution_count": 16,
   "metadata": {
    "execution": {
     "iopub.execute_input": "2022-08-09T18:41:37.029402Z",
     "iopub.status.busy": "2022-08-09T18:41:37.028967Z",
     "iopub.status.idle": "2022-08-09T18:41:37.033352Z",
     "shell.execute_reply": "2022-08-09T18:41:37.032605Z",
     "shell.execute_reply.started": "2022-08-09T18:41:37.029367Z"
    }
   },
   "outputs": [],
   "source": [
    "data_path =Path('../input/ricediseasedetection/Rice disease detector/Rice disease detector')"
   ]
  },
  {
   "cell_type": "markdown",
   "metadata": {},
   "source": [
    "### Augmentations using Albumentations"
   ]
  },
  {
   "cell_type": "code",
   "execution_count": 17,
   "metadata": {
    "execution": {
     "iopub.execute_input": "2022-08-09T18:41:37.035082Z",
     "iopub.status.busy": "2022-08-09T18:41:37.034615Z",
     "iopub.status.idle": "2022-08-09T18:41:37.045158Z",
     "shell.execute_reply": "2022-08-09T18:41:37.044355Z",
     "shell.execute_reply.started": "2022-08-09T18:41:37.035042Z"
    }
   },
   "outputs": [],
   "source": [
    "class AlbumentationsTransform (RandTransform):\n",
    "    split_idx,order=None,2\n",
    "    def __init__(self, train_aug, valid_aug): store_attr()\n",
    "    \n",
    "    def before_call(self, b, split_idx):\n",
    "        self.idx = split_idx\n",
    "    \n",
    "    def encodes(self, img: PILImage):\n",
    "        if self.idx == 0:\n",
    "            aug_img = self.train_aug(image=np.array(img))['image']\n",
    "        else:\n",
    "            aug_img = self.valid_aug(image=np.array(img))['image']\n",
    "        return PILImage.create(aug_img)"
   ]
  },
  {
   "cell_type": "code",
   "execution_count": 19,
   "metadata": {
    "execution": {
     "iopub.execute_input": "2022-08-09T18:41:37.100294Z",
     "iopub.status.busy": "2022-08-09T18:41:37.099939Z",
     "iopub.status.idle": "2022-08-09T18:41:42.063240Z",
     "shell.execute_reply": "2022-08-09T18:41:42.062496Z",
     "shell.execute_reply.started": "2022-08-09T18:41:37.100261Z"
    }
   },
   "outputs": [],
   "source": [
    "def get_train_aug(): return albumentations.Compose([\n",
    "            albumentations.Resize(224, 224), #Extra tip, use size that's suitable for the efficentNetwork you are using.\n",
    "            albumentations.Rotate(limit=(-90, 90)),\n",
    "            albumentations.HorizontalFlip(p=0.5),\n",
    "            albumentations.VerticalFlip(p=0.5),\n",
    "            albumentations.ShiftScaleRotate(p=0.5),\n",
    "            albumentations.HueSaturationValue(\n",
    "                hue_shift_limit=0.2, \n",
    "                sat_shift_limit=0.2, \n",
    "                val_shift_limit=0.2, \n",
    "                p=0.5\n",
    "            ),\n",
    "            albumentations.RandomBrightnessContrast(\n",
    "                brightness_limit=(-0.1,0.1), \n",
    "                contrast_limit=(-0.1, 0.1), \n",
    "                p=0.5\n",
    "            ),\n",
    "            albumentations.RandomGamma(),\n",
    "            albumentations.RandomGridShuffle(p=0.5)\n",
    "            ], p=1.)\n",
    "\n",
    "\n",
    "\n",
    "def get_valid_aug(): return albumentations.Compose([\n",
    "            albumentations.Resize(224, 224),\n",
    "            ], p=1.0)\n",
    "\n",
    "item_tfms = AlbumentationsTransform(get_train_aug(), get_valid_aug())\n",
    "batch_tfms = [Normalize.from_stats(*imagenet_stats)]"
   ]
  },
  {
   "cell_type": "code",
   "execution_count": 20,
   "metadata": {
    "execution": {
     "iopub.execute_input": "2022-08-09T18:41:42.065949Z",
     "iopub.status.busy": "2022-08-09T18:41:42.065538Z",
     "iopub.status.idle": "2022-08-09T18:41:42.076655Z",
     "shell.execute_reply": "2022-08-09T18:41:42.075579Z",
     "shell.execute_reply.started": "2022-08-09T18:41:42.065913Z"
    }
   },
   "outputs": [],
   "source": [
    "df.head()"
   ]
  },
  {
   "cell_type": "markdown",
   "metadata": {},
   "source": [
    "### DataLoader"
   ]
  },
  {
   "cell_type": "code",
   "execution_count": 21,
   "metadata": {
    "execution": {
     "iopub.execute_input": "2022-08-09T18:41:42.078697Z",
     "iopub.status.busy": "2022-08-09T18:41:42.078158Z",
     "iopub.status.idle": "2022-08-09T18:41:42.086609Z",
     "shell.execute_reply": "2022-08-09T18:41:42.085863Z",
     "shell.execute_reply.started": "2022-08-09T18:41:42.078660Z"
    }
   },
   "outputs": [],
   "source": [
    "blocks = (ImageBlock, MultiCategoryBlock)\n",
    "splitter = TrainTestSplitter(0.1, stratify=df[\"Label\"],random_state=42,shuffle=True)\n",
    "block = DataBlock(blocks = blocks,\n",
    "                 get_x=ColReader(0),\n",
    "                 get_y=ColReader(1,label_delim=' '),\n",
    "                 splitter = splitter,\n",
    "                 item_tfms = item_tfms,\n",
    "                 batch_tfms = batch_tfms)"
   ]
  },
  {
   "cell_type": "code",
   "execution_count": 23,
   "metadata": {
    "execution": {
     "iopub.execute_input": "2022-08-09T18:41:42.102266Z",
     "iopub.status.busy": "2022-08-09T18:41:42.101645Z",
     "iopub.status.idle": "2022-08-09T18:41:42.366581Z",
     "shell.execute_reply": "2022-08-09T18:41:42.365844Z",
     "shell.execute_reply.started": "2022-08-09T18:41:42.102231Z"
    }
   },
   "outputs": [],
   "source": [
    "dls = block.dataloaders(df, bs=16)"
   ]
  },
  {
   "cell_type": "code",
   "execution_count": 24,
   "metadata": {
    "execution": {
     "iopub.execute_input": "2022-08-09T18:41:42.368813Z",
     "iopub.status.busy": "2022-08-09T18:41:42.368308Z",
     "iopub.status.idle": "2022-08-09T18:41:43.298164Z",
     "shell.execute_reply": "2022-08-09T18:41:43.297508Z",
     "shell.execute_reply.started": "2022-08-09T18:41:42.368773Z"
    }
   },
   "outputs": [],
   "source": [
    "dls.show_batch(figsize=(12,12))"
   ]
  },
  {
   "cell_type": "code",
   "execution_count": 25,
   "metadata": {
    "execution": {
     "iopub.execute_input": "2022-08-09T18:41:43.299267Z",
     "iopub.status.busy": "2022-08-09T18:41:43.299063Z",
     "iopub.status.idle": "2022-08-09T18:41:43.303470Z",
     "shell.execute_reply": "2022-08-09T18:41:43.302560Z",
     "shell.execute_reply.started": "2022-08-09T18:41:43.299240Z"
    }
   },
   "outputs": [],
   "source": [
    "from fastai.metrics import accuracy_multi"
   ]
  },
  {
   "cell_type": "code",
   "execution_count": 26,
   "metadata": {
    "execution": {
     "iopub.execute_input": "2022-08-09T18:41:43.305128Z",
     "iopub.status.busy": "2022-08-09T18:41:43.304718Z",
     "iopub.status.idle": "2022-08-09T18:41:43.317978Z",
     "shell.execute_reply": "2022-08-09T18:41:43.317111Z",
     "shell.execute_reply.started": "2022-08-09T18:41:43.305094Z"
    }
   },
   "outputs": [],
   "source": [
    "# timm.list_models('efficient*')"
   ]
  },
  {
   "cell_type": "markdown",
   "metadata": {},
   "source": [
    "### Training and Ealuation"
   ]
  },
  {
   "cell_type": "code",
   "execution_count": 27,
   "metadata": {
    "execution": {
     "iopub.execute_input": "2022-08-09T18:41:43.319851Z",
     "iopub.status.busy": "2022-08-09T18:41:43.319441Z",
     "iopub.status.idle": "2022-08-09T18:43:07.387844Z",
     "shell.execute_reply": "2022-08-09T18:43:07.386972Z",
     "shell.execute_reply.started": "2022-08-09T18:41:43.319773Z"
    }
   },
   "outputs": [],
   "source": [
    "learn = vision_learner(dls, 'swin_large_patch4_window7_224',  metrics=[accuracy_multi], cbs=[GradientAccumulation(),SaveModelCallback(),EarlyStoppingCallback(patience=3)])\n",
    "learn.to_fp16()"
   ]
  },
  {
   "cell_type": "code",
   "execution_count": 28,
   "metadata": {
    "execution": {
     "iopub.execute_input": "2022-08-09T18:43:07.392267Z",
     "iopub.status.busy": "2022-08-09T18:43:07.392058Z",
     "iopub.status.idle": "2022-08-09T18:43:07.640888Z",
     "shell.execute_reply": "2022-08-09T18:43:07.640120Z",
     "shell.execute_reply.started": "2022-08-09T18:43:07.392242Z"
    }
   },
   "outputs": [],
   "source": [
    "# del variables\n",
    "gc.collect()"
   ]
  },
  {
   "cell_type": "code",
   "execution_count": 29,
   "metadata": {
    "execution": {
     "iopub.execute_input": "2022-08-09T18:43:07.642591Z",
     "iopub.status.busy": "2022-08-09T18:43:07.642160Z",
     "iopub.status.idle": "2022-08-09T18:44:00.844584Z",
     "shell.execute_reply": "2022-08-09T18:44:00.842754Z",
     "shell.execute_reply.started": "2022-08-09T18:43:07.642530Z"
    }
   },
   "outputs": [],
   "source": [
    "learn.lr_find()"
   ]
  },
  {
   "cell_type": "code",
   "execution_count": 30,
   "metadata": {
    "execution": {
     "iopub.execute_input": "2022-08-09T18:44:00.846578Z",
     "iopub.status.busy": "2022-08-09T18:44:00.846042Z",
     "iopub.status.idle": "2022-08-09T19:11:30.999471Z",
     "shell.execute_reply": "2022-08-09T19:11:30.998604Z",
     "shell.execute_reply.started": "2022-08-09T18:44:00.846523Z"
    }
   },
   "outputs": [],
   "source": [
    "learn.fine_tune(15,0.009120108559727669)"
   ]
  },
  {
   "cell_type": "markdown",
   "metadata": {},
   "source": [
    "Better model found at epoch 13 with valid_loss value: 0.011384588666260242"
   ]
  },
  {
   "cell_type": "code",
   "execution_count": 38,
   "metadata": {
    "execution": {
     "iopub.execute_input": "2022-08-09T19:11:31.072338Z",
     "iopub.status.busy": "2022-08-09T19:11:31.072079Z",
     "iopub.status.idle": "2022-08-09T19:11:31.087803Z",
     "shell.execute_reply": "2022-08-09T19:11:31.087096Z",
     "shell.execute_reply.started": "2022-08-09T19:11:31.072306Z"
    }
   },
   "outputs": [],
   "source": [
    "learn.to_fp32()"
   ]
  },
  {
   "cell_type": "markdown",
   "metadata": {},
   "source": [
    "### Inference"
   ]
  },
  {
   "cell_type": "code",
   "execution_count": 39,
   "metadata": {
    "execution": {
     "iopub.execute_input": "2022-08-09T19:11:31.089312Z",
     "iopub.status.busy": "2022-08-09T19:11:31.088962Z",
     "iopub.status.idle": "2022-08-09T19:11:31.114149Z",
     "shell.execute_reply": "2022-08-09T19:11:31.113428Z",
     "shell.execute_reply.started": "2022-08-09T19:11:31.089278Z"
    }
   },
   "outputs": [],
   "source": [
    "sample_df = pd.read_csv(data_path/'SampleSubmission.csv')\n",
    "sample_df.head()"
   ]
  },
  {
   "cell_type": "code",
   "execution_count": 40,
   "metadata": {
    "execution": {
     "iopub.execute_input": "2022-08-09T19:11:31.115475Z",
     "iopub.status.busy": "2022-08-09T19:11:31.115170Z",
     "iopub.status.idle": "2022-08-09T19:11:31.129281Z",
     "shell.execute_reply": "2022-08-09T19:11:31.128567Z",
     "shell.execute_reply.started": "2022-08-09T19:11:31.115438Z"
    }
   },
   "outputs": [],
   "source": [
    "sample_copy = sample_df.copy()\n",
    "\n",
    "\n",
    "\n",
    "sample_df['Image_id'] = \"../input/ricediseasedetection/Rice disease detector/Rice disease detector/Images/\" + sample_df['Image_id']\n",
    "\n",
    "sample_df.head()"
   ]
  },
  {
   "cell_type": "code",
   "execution_count": 41,
   "metadata": {
    "execution": {
     "iopub.execute_input": "2022-08-09T19:11:31.130879Z",
     "iopub.status.busy": "2022-08-09T19:11:31.130496Z",
     "iopub.status.idle": "2022-08-09T19:11:31.138461Z",
     "shell.execute_reply": "2022-08-09T19:11:31.137592Z",
     "shell.execute_reply.started": "2022-08-09T19:11:31.130844Z"
    }
   },
   "outputs": [],
   "source": [
    "test_dl = learn.dls.test_dl(sample_df)"
   ]
  },
  {
   "cell_type": "code",
   "execution_count": 42,
   "metadata": {
    "execution": {
     "iopub.execute_input": "2022-08-09T19:11:31.141469Z",
     "iopub.status.busy": "2022-08-09T19:11:31.141233Z",
     "iopub.status.idle": "2022-08-09T19:15:45.948980Z",
     "shell.execute_reply": "2022-08-09T19:15:45.947672Z",
     "shell.execute_reply.started": "2022-08-09T19:11:31.141414Z"
    }
   },
   "outputs": [],
   "source": [
    "preds, _ = learn.tta(dl=test_dl, n=15)\n",
    "preds[:,1]"
   ]
  },
  {
   "cell_type": "code",
   "execution_count": 43,
   "metadata": {
    "execution": {
     "iopub.execute_input": "2022-08-09T19:15:45.951463Z",
     "iopub.status.busy": "2022-08-09T19:15:45.950947Z",
     "iopub.status.idle": "2022-08-09T19:15:45.958957Z",
     "shell.execute_reply": "2022-08-09T19:15:45.958018Z",
     "shell.execute_reply.started": "2022-08-09T19:15:45.951423Z"
    }
   },
   "outputs": [],
   "source": [
    "k=[]\n",
    "for col in sample_df.columns: \n",
    "  k.append(col) # creating list of the label\n",
    "\n",
    "k"
   ]
  },
  {
   "cell_type": "code",
   "execution_count": 44,
   "metadata": {
    "execution": {
     "iopub.execute_input": "2022-08-09T19:15:45.960578Z",
     "iopub.status.busy": "2022-08-09T19:15:45.960187Z",
     "iopub.status.idle": "2022-08-09T19:15:45.984423Z",
     "shell.execute_reply": "2022-08-09T19:15:45.983581Z",
     "shell.execute_reply.started": "2022-08-09T19:15:45.960529Z"
    }
   },
   "outputs": [],
   "source": [
    "import os\n",
    "submission = pd.DataFrame()\n",
    "submission[\"Image_id\"] = sample_copy[\"Image_id\"]\n",
    "for i, c in enumerate(learn.dls.vocab):\n",
    "  print(c)\n",
    "  submission[c] = preds[:,i]\n",
    "submission.head()"
   ]
  },
  {
   "cell_type": "code",
   "execution_count": 45,
   "metadata": {
    "execution": {
     "iopub.execute_input": "2022-08-09T19:15:45.986999Z",
     "iopub.status.busy": "2022-08-09T19:15:45.986174Z",
     "iopub.status.idle": "2022-08-09T19:15:45.999985Z",
     "shell.execute_reply": "2022-08-09T19:15:45.999147Z",
     "shell.execute_reply.started": "2022-08-09T19:15:45.986964Z"
    }
   },
   "outputs": [],
   "source": [
    "submission.to_csv('./swin_final.csv', index=False)"
   ]
  },
  {
   "cell_type": "code",
   "execution_count": 46,
   "metadata": {
    "execution": {
     "iopub.execute_input": "2022-08-09T19:15:46.001496Z",
     "iopub.status.busy": "2022-08-09T19:15:46.001243Z",
     "iopub.status.idle": "2022-08-09T19:15:46.006929Z",
     "shell.execute_reply": "2022-08-09T19:15:46.006141Z",
     "shell.execute_reply.started": "2022-08-09T19:15:46.001461Z"
    }
   },
   "outputs": [],
   "source": [
    "learn.recorder.final_record "
   ]
  }
 ],
 "metadata": {
  "kernelspec": {
   "display_name": "Python 3 (ipykernel)",
   "language": "python",
   "name": "python3"
  },
  "language_info": {
   "codemirror_mode": {
    "name": "ipython",
    "version": 3
   },
   "file_extension": ".py",
   "mimetype": "text/x-python",
   "name": "python",
   "nbconvert_exporter": "python",
   "pygments_lexer": "ipython3",
   "version": "3.8.10"
  }
 },
 "nbformat": 4,
 "nbformat_minor": 4
}
