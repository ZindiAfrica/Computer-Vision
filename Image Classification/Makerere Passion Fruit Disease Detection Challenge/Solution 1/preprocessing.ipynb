{
 "cells": [
  {
   "cell_type": "code",
   "execution_count": 1,
   "metadata": {},
   "outputs": [],
   "source": [
    "import pandas as pd\n",
    "import numpy as np\n",
    "from glob import glob"
   ]
  },
  {
   "cell_type": "code",
   "execution_count": 2,
   "metadata": {},
   "outputs": [],
   "source": [
    "np.random.seed(0)"
   ]
  },
  {
   "cell_type": "code",
   "execution_count": 3,
   "metadata": {},
   "outputs": [],
   "source": [
    "train = pd.read_csv('data/Train.csv')"
   ]
  },
  {
   "cell_type": "markdown",
   "metadata": {},
   "source": [
    "## Preprocessing and val split"
   ]
  },
  {
   "cell_type": "code",
   "execution_count": 4,
   "metadata": {},
   "outputs": [],
   "source": [
    "train_ = pd.DataFrame(columns = ['filename', 'width', 'height', 'class', 'xmin', 'ymin', 'xmax', 'ymax', 'image_id','folder'])"
   ]
  },
  {
   "cell_type": "code",
   "execution_count": 5,
   "metadata": {},
   "outputs": [],
   "source": [
    "img_name = ''\n",
    "counter = -1\n",
    "for i in range(len(train)):\n",
    "    row = train.iloc[i]\n",
    "    if img_name != row.Image_ID:\n",
    "        counter += 1\n",
    "        img_name = row.Image_ID\n",
    "    train_.loc[i] = [f'{row.Image_ID}.jpg',\n",
    "                     512,\n",
    "                     512,\n",
    "                     row['class'],\n",
    "                     row.xmin,\n",
    "                     row.ymin,\n",
    "                     (row.xmin+row.width),\n",
    "                     (row.ymin+row.height),\n",
    "                     counter,\n",
    "                    'Train']"
   ]
  },
  {
   "cell_type": "code",
   "execution_count": 6,
   "metadata": {},
   "outputs": [],
   "source": [
    "val_index = [True if i in [i for i in range(0,3000,3000//600)] else False for i in train_.image_id]\n",
    "\n",
    "test_ = train_.loc[val_index]\n",
    "train_ = train_.drop([i for i in range(len(train_)) if val_index[i]],0)"
   ]
  },
  {
   "cell_type": "code",
   "execution_count": 7,
   "metadata": {},
   "outputs": [
    {
     "name": "stderr",
     "output_type": "stream",
     "text": [
      "C:\\Users\\chenp\\anaconda3\\envs\\ml\\lib\\site-packages\\pandas\\core\\indexing.py:671: SettingWithCopyWarning: \n",
      "A value is trying to be set on a copy of a slice from a DataFrame\n",
      "\n",
      "See the caveats in the documentation: https://pandas.pydata.org/pandas-docs/stable/user_guide/indexing.html#returning-a-view-versus-a-copy\n",
      "  self._setitem_with_indexer(indexer, value)\n"
     ]
    }
   ],
   "source": [
    "temp = train_.iloc[0].image_id\n",
    "counter = 0\n",
    "for i in range(len(train_)):\n",
    "    iid = train_.iloc[i].image_id\n",
    "    if temp == iid:\n",
    "        train_.image_id.iloc[i] = counter\n",
    "    else:\n",
    "        counter += 1\n",
    "        temp = iid\n",
    "        train_.image_id.iloc[i] = counter\n",
    "        \n",
    "temp = test_.iloc[0].image_id\n",
    "counter = 0\n",
    "for i in range(len(test_)):\n",
    "    iid = test_.iloc[i].image_id\n",
    "    if temp == iid:\n",
    "        test_.image_id.iloc[i] = counter\n",
    "    else:\n",
    "        counter += 1\n",
    "        temp = iid\n",
    "        test_.image_id.iloc[i] = counter"
   ]
  },
  {
   "cell_type": "code",
   "execution_count": 8,
   "metadata": {},
   "outputs": [],
   "source": [
    "for col in train_.columns[4:8]:\n",
    "    train_[col] = train_[col].astype('int')\n",
    "for col in test_.columns[4:8]:\n",
    "    test_[col] = test_[col].astype('int')"
   ]
  },
  {
   "cell_type": "code",
   "execution_count": 9,
   "metadata": {},
   "outputs": [],
   "source": [
    "train_.to_csv('data/labels_train.csv',index = False)\n",
    "test_.to_csv('data/labels_test.csv',index = False)"
   ]
  },
  {
   "cell_type": "code",
   "execution_count": null,
   "metadata": {},
   "outputs": [],
   "source": []
  }
 ],
 "metadata": {
  "kernelspec": {
   "display_name": "Python [conda env:ml]",
   "language": "python",
   "name": "conda-env-ml-py"
  },
  "language_info": {
   "codemirror_mode": {
    "name": "ipython",
    "version": 3
   },
   "file_extension": ".py",
   "mimetype": "text/x-python",
   "name": "python",
   "nbconvert_exporter": "python",
   "pygments_lexer": "ipython3",
   "version": "3.8.3"
  }
 },
 "nbformat": 4,
 "nbformat_minor": 4
}
