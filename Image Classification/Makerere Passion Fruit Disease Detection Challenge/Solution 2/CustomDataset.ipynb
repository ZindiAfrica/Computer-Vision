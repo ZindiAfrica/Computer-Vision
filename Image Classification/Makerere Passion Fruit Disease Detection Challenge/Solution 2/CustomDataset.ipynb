{
 "cells": [
  {
   "cell_type": "code",
   "execution_count": 1,
   "metadata": {
    "id": "0K0MLf5KNM86"
   },
   "outputs": [],
   "source": [
    "import glob\n",
    "import pandas as pd\n",
    "import numpy as np\n",
    "import pickle"
   ]
  },
  {
   "cell_type": "code",
   "execution_count": 2,
   "metadata": {
    "colab": {
     "base_uri": "https://localhost:8080/"
    },
    "id": "VF1RreCJNUm9",
    "outputId": "50d2d6a3-0b41-4b17-a76f-dc873e1b6720"
   },
   "outputs": [
    {
     "name": "stdout",
     "output_type": "stream",
     "text": [
      "Collecting iterative-stratification\n",
      "  Downloading iterative_stratification-0.1.7-py3-none-any.whl (8.5 kB)\n",
      "Requirement already satisfied: scikit-learn in /data/ubingazhibov/anaconda3/lib/python3.8/site-packages (from iterative-stratification) (0.23.2)\n",
      "Requirement already satisfied: numpy in /data/ubingazhibov/anaconda3/lib/python3.8/site-packages (from iterative-stratification) (1.19.2)\n",
      "Requirement already satisfied: scipy in /data/ubingazhibov/anaconda3/lib/python3.8/site-packages (from iterative-stratification) (1.5.2)\n",
      "Requirement already satisfied: threadpoolctl>=2.0.0 in /data/ubingazhibov/anaconda3/lib/python3.8/site-packages (from scikit-learn->iterative-stratification) (2.1.0)\n",
      "Requirement already satisfied: joblib>=0.11 in /data/ubingazhibov/anaconda3/lib/python3.8/site-packages (from scikit-learn->iterative-stratification) (0.17.0)\n",
      "Installing collected packages: iterative-stratification\n",
      "Successfully installed iterative-stratification-0.1.7\n"
     ]
    }
   ],
   "source": [
    "!pip install iterative-stratification"
   ]
  },
  {
   "cell_type": "code",
   "execution_count": 2,
   "metadata": {
    "id": "ImgPrAsRNQPQ"
   },
   "outputs": [],
   "source": [
    "from iterstrat.ml_stratifiers import MultilabelStratifiedKFold"
   ]
  },
  {
   "cell_type": "code",
   "execution_count": 6,
   "metadata": {
    "colab": {
     "base_uri": "https://localhost:8080/"
    },
    "id": "mHyd0vHdNTUO",
    "outputId": "23407c76-ec75-4ce7-89fb-59f677d00ac7"
   },
   "outputs": [
    {
     "name": "stdout",
     "output_type": "stream",
     "text": [
      "Drive already mounted at /content/gdrive; to attempt to forcibly remount, call drive.mount(\"/content/gdrive\", force_remount=True).\n"
     ]
    }
   ],
   "source": [
    "from google.colab import drive\n",
    "\n",
    "drive.mount('/content/gdrive')"
   ]
  },
  {
   "cell_type": "code",
   "execution_count": 3,
   "metadata": {
    "id": "lrG7ntTbOFHT"
   },
   "outputs": [],
   "source": [
    "train = pd.read_csv(\"./project/Train.csv\")\n",
    "test = pd.read_csv(\"./project/Test.csv\")"
   ]
  },
  {
   "cell_type": "code",
   "execution_count": 4,
   "metadata": {
    "colab": {
     "base_uri": "https://localhost:8080/",
     "height": 419
    },
    "id": "_kkcQkf9OVeB",
    "outputId": "a0cb0ebd-7be5-4f26-810a-a2121852d88c"
   },
   "outputs": [
    {
     "data": {
      "text/html": [
       "<div>\n",
       "<style scoped>\n",
       "    .dataframe tbody tr th:only-of-type {\n",
       "        vertical-align: middle;\n",
       "    }\n",
       "\n",
       "    .dataframe tbody tr th {\n",
       "        vertical-align: top;\n",
       "    }\n",
       "\n",
       "    .dataframe thead th {\n",
       "        text-align: right;\n",
       "    }\n",
       "</style>\n",
       "<table border=\"1\" class=\"dataframe\">\n",
       "  <thead>\n",
       "    <tr style=\"text-align: right;\">\n",
       "      <th></th>\n",
       "      <th>Image_ID</th>\n",
       "      <th>class</th>\n",
       "      <th>xmin</th>\n",
       "      <th>ymin</th>\n",
       "      <th>width</th>\n",
       "      <th>height</th>\n",
       "    </tr>\n",
       "  </thead>\n",
       "  <tbody>\n",
       "    <tr>\n",
       "      <th>0</th>\n",
       "      <td>ID_007FAIEI</td>\n",
       "      <td>fruit_woodiness</td>\n",
       "      <td>87.0</td>\n",
       "      <td>87.5</td>\n",
       "      <td>228.0</td>\n",
       "      <td>311.0</td>\n",
       "    </tr>\n",
       "    <tr>\n",
       "      <th>1</th>\n",
       "      <td>ID_00G8K1V3</td>\n",
       "      <td>fruit_brownspot</td>\n",
       "      <td>97.5</td>\n",
       "      <td>17.5</td>\n",
       "      <td>245.0</td>\n",
       "      <td>354.5</td>\n",
       "    </tr>\n",
       "    <tr>\n",
       "      <th>2</th>\n",
       "      <td>ID_00WROUT9</td>\n",
       "      <td>fruit_brownspot</td>\n",
       "      <td>156.5</td>\n",
       "      <td>209.5</td>\n",
       "      <td>248.0</td>\n",
       "      <td>302.5</td>\n",
       "    </tr>\n",
       "    <tr>\n",
       "      <th>3</th>\n",
       "      <td>ID_00ZJEEK3</td>\n",
       "      <td>fruit_healthy</td>\n",
       "      <td>125.0</td>\n",
       "      <td>193.0</td>\n",
       "      <td>254.5</td>\n",
       "      <td>217.0</td>\n",
       "    </tr>\n",
       "    <tr>\n",
       "      <th>4</th>\n",
       "      <td>ID_018UIENR</td>\n",
       "      <td>fruit_brownspot</td>\n",
       "      <td>79.5</td>\n",
       "      <td>232.5</td>\n",
       "      <td>233.5</td>\n",
       "      <td>182.0</td>\n",
       "    </tr>\n",
       "    <tr>\n",
       "      <th>...</th>\n",
       "      <td>...</td>\n",
       "      <td>...</td>\n",
       "      <td>...</td>\n",
       "      <td>...</td>\n",
       "      <td>...</td>\n",
       "      <td>...</td>\n",
       "    </tr>\n",
       "    <tr>\n",
       "      <th>3901</th>\n",
       "      <td>ID_ZZAB1FH1</td>\n",
       "      <td>fruit_healthy</td>\n",
       "      <td>96.0</td>\n",
       "      <td>175.5</td>\n",
       "      <td>289.5</td>\n",
       "      <td>222.0</td>\n",
       "    </tr>\n",
       "    <tr>\n",
       "      <th>3902</th>\n",
       "      <td>ID_ZZAB1FH1</td>\n",
       "      <td>fruit_healthy</td>\n",
       "      <td>330.0</td>\n",
       "      <td>241.0</td>\n",
       "      <td>182.0</td>\n",
       "      <td>180.5</td>\n",
       "    </tr>\n",
       "    <tr>\n",
       "      <th>3903</th>\n",
       "      <td>ID_ZZJZ2CV6</td>\n",
       "      <td>fruit_healthy</td>\n",
       "      <td>358.0</td>\n",
       "      <td>234.0</td>\n",
       "      <td>134.5</td>\n",
       "      <td>107.0</td>\n",
       "    </tr>\n",
       "    <tr>\n",
       "      <th>3904</th>\n",
       "      <td>ID_ZZJZ2CV6</td>\n",
       "      <td>fruit_healthy</td>\n",
       "      <td>98.5</td>\n",
       "      <td>135.0</td>\n",
       "      <td>275.5</td>\n",
       "      <td>213.5</td>\n",
       "    </tr>\n",
       "    <tr>\n",
       "      <th>3905</th>\n",
       "      <td>ID_ZZO9KIH9</td>\n",
       "      <td>fruit_woodiness</td>\n",
       "      <td>123.5</td>\n",
       "      <td>218.5</td>\n",
       "      <td>197.5</td>\n",
       "      <td>153.5</td>\n",
       "    </tr>\n",
       "  </tbody>\n",
       "</table>\n",
       "<p>3906 rows × 6 columns</p>\n",
       "</div>"
      ],
      "text/plain": [
       "         Image_ID            class   xmin   ymin  width  height\n",
       "0     ID_007FAIEI  fruit_woodiness   87.0   87.5  228.0   311.0\n",
       "1     ID_00G8K1V3  fruit_brownspot   97.5   17.5  245.0   354.5\n",
       "2     ID_00WROUT9  fruit_brownspot  156.5  209.5  248.0   302.5\n",
       "3     ID_00ZJEEK3    fruit_healthy  125.0  193.0  254.5   217.0\n",
       "4     ID_018UIENR  fruit_brownspot   79.5  232.5  233.5   182.0\n",
       "...           ...              ...    ...    ...    ...     ...\n",
       "3901  ID_ZZAB1FH1    fruit_healthy   96.0  175.5  289.5   222.0\n",
       "3902  ID_ZZAB1FH1    fruit_healthy  330.0  241.0  182.0   180.5\n",
       "3903  ID_ZZJZ2CV6    fruit_healthy  358.0  234.0  134.5   107.0\n",
       "3904  ID_ZZJZ2CV6    fruit_healthy   98.5  135.0  275.5   213.5\n",
       "3905  ID_ZZO9KIH9  fruit_woodiness  123.5  218.5  197.5   153.5\n",
       "\n",
       "[3906 rows x 6 columns]"
      ]
     },
     "execution_count": 4,
     "metadata": {},
     "output_type": "execute_result"
    }
   ],
   "source": [
    "train"
   ]
  },
  {
   "cell_type": "code",
   "execution_count": 5,
   "metadata": {
    "id": "OTw8qUhNZH7i"
   },
   "outputs": [],
   "source": [
    "class_dict = { \n",
    "    'fruit_healthy': 0, \n",
    "    'fruit_woodiness': 1, \n",
    "    'fruit_brownspot': 2  \n",
    "}"
   ]
  },
  {
   "cell_type": "code",
   "execution_count": 6,
   "metadata": {
    "id": "ZKLwqRb5PwrN"
   },
   "outputs": [],
   "source": [
    "X = set(train[\"Image_ID\"])\n",
    "classes = [[] for i in range(len(X))]\n",
    "bbox_data = [{} for i in range(len(X))]\n",
    "\n",
    "prev = \"nothing\"\n",
    "idx = 0\n",
    "\n",
    "for i in range(len(train)):\n",
    "  bbox_info = train.iloc[i]\n",
    "  \n",
    "  if i == 0 or bbox_info[\"Image_ID\"] == prev:\n",
    "    classes[idx].append(class_dict[bbox_info[\"class\"]])\n",
    "\n",
    "    if i == 0:\n",
    "      bbox_data[idx][\"ann\"] = dict()\n",
    "      bbox_data[idx][\"ann\"][\"bboxes\"] = []\n",
    "      bbox_data[idx][\"ann\"][\"labels\"] = []\n",
    "      bbox_data[idx][\"filename\"] = bbox_info[\"Image_ID\"] + '.jpg'\n",
    "      bbox_data[idx][\"height\"] = 512\n",
    "      bbox_data[idx][\"width\"] = 512\n",
    "    \n",
    "    bbox_data[idx][\"ann\"][\"bboxes\"].append([bbox_info[\"xmin\"], bbox_info[\"ymin\"], bbox_info[\"xmin\"] + bbox_info[\"width\"], bbox_info[\"ymin\"] + bbox_info[\"height\"]])\n",
    "    bbox_data[idx][\"ann\"][\"labels\"].append(class_dict[bbox_info[\"class\"]])\n",
    "\n",
    "  else:\n",
    "    idx += 1\n",
    "    \n",
    "    bbox_data[idx][\"ann\"] = dict()\n",
    "    bbox_data[idx][\"ann\"][\"bboxes\"] = []\n",
    "    bbox_data[idx][\"ann\"][\"labels\"] = []\n",
    "    bbox_data[idx][\"filename\"] = bbox_info[\"Image_ID\"] + '.jpg'\n",
    "    bbox_data[idx][\"height\"] = 512\n",
    "    bbox_data[idx][\"width\"] = 512\n",
    "\n",
    "    if idx != len(classes):\n",
    "      classes[idx].append(class_dict[bbox_info[\"class\"]])\n",
    "      bbox_data[idx][\"ann\"][\"bboxes\"].append([bbox_info[\"xmin\"], bbox_info[\"ymin\"], bbox_info[\"xmin\"] + bbox_info[\"width\"], bbox_info[\"ymin\"] + bbox_info[\"height\"]])\n",
    "      bbox_data[idx][\"ann\"][\"labels\"].append(class_dict[bbox_info[\"class\"]])\n",
    "\n",
    "  prev = bbox_info[\"Image_ID\"]"
   ]
  },
  {
   "cell_type": "code",
   "execution_count": 7,
   "metadata": {
    "id": "vjgkUPMLoWiZ"
   },
   "outputs": [],
   "source": [
    "for i in range(len(X)):\n",
    "  bbox_data[i][\"ann\"][\"bboxes\"] = np.array(bbox_data[i][\"ann\"][\"bboxes\"])\n",
    "  bbox_data[i][\"ann\"][\"labels\"] = np.array(bbox_data[i][\"ann\"][\"labels\"])"
   ]
  },
  {
   "cell_type": "code",
   "execution_count": 8,
   "metadata": {
    "id": "dO_OHZHcgcsd"
   },
   "outputs": [],
   "source": [
    "class_counts = [[] for i in range(len(X))]\n",
    "\n",
    "for i, class_list in enumerate(classes):\n",
    "  for cls in range(3):\n",
    "    class_counts[i].append((np.array(class_list) == cls).sum())"
   ]
  },
  {
   "cell_type": "code",
   "execution_count": 9,
   "metadata": {
    "id": "ULoTaKDdf_uP"
   },
   "outputs": [],
   "source": [
    "#stratify by the class counts\n",
    "\n",
    "mskf = MultilabelStratifiedKFold(n_splits=5, shuffle=True, random_state=0)\n",
    "X = np.array(list(X))\n",
    "y = np.array(class_counts)\n",
    "\n",
    "fold = 0\n",
    "\n",
    "for train_index, test_index in mskf.split(X, y):\n",
    "   with open(f\"dcm_folds/train_fold{fold}.pickle\", 'wb') as f:\n",
    "     pickle.dump(list(np.array(bbox_data)[train_index]), f, protocol=pickle.HIGHEST_PROTOCOL)\n",
    "   \n",
    "   with open(f\"dcm_folds/val_fold{fold}.pickle\", 'wb') as f:\n",
    "     pickle.dump(list(np.array(bbox_data)[test_index]), f, protocol=pickle.HIGHEST_PROTOCOL)\n",
    "   \n",
    "   fold += 1"
   ]
  },
  {
   "cell_type": "code",
   "execution_count": 147,
   "metadata": {
    "id": "eBfk8lS0sI3W"
   },
   "outputs": [],
   "source": []
  },
  {
   "cell_type": "code",
   "execution_count": 157,
   "metadata": {
    "colab": {
     "base_uri": "https://localhost:8080/",
     "height": 419
    },
    "id": "pEoMG4_eYob2",
    "outputId": "0eba32ff-ac5a-465d-a556-7f2df1a9b4a2"
   },
   "outputs": [
    {
     "data": {
      "text/html": [
       "<div>\n",
       "<style scoped>\n",
       "    .dataframe tbody tr th:only-of-type {\n",
       "        vertical-align: middle;\n",
       "    }\n",
       "\n",
       "    .dataframe tbody tr th {\n",
       "        vertical-align: top;\n",
       "    }\n",
       "\n",
       "    .dataframe thead th {\n",
       "        text-align: right;\n",
       "    }\n",
       "</style>\n",
       "<table border=\"1\" class=\"dataframe\">\n",
       "  <thead>\n",
       "    <tr style=\"text-align: right;\">\n",
       "      <th></th>\n",
       "      <th>Image_ID</th>\n",
       "    </tr>\n",
       "  </thead>\n",
       "  <tbody>\n",
       "    <tr>\n",
       "      <th>0</th>\n",
       "      <td>ID_IUJJG62B</td>\n",
       "    </tr>\n",
       "    <tr>\n",
       "      <th>1</th>\n",
       "      <td>ID_ZPNDRD4T</td>\n",
       "    </tr>\n",
       "    <tr>\n",
       "      <th>2</th>\n",
       "      <td>ID_AHFYB64P</td>\n",
       "    </tr>\n",
       "    <tr>\n",
       "      <th>3</th>\n",
       "      <td>ID_L8JZLNTF</td>\n",
       "    </tr>\n",
       "    <tr>\n",
       "      <th>4</th>\n",
       "      <td>ID_IFMUXGPL</td>\n",
       "    </tr>\n",
       "    <tr>\n",
       "      <th>...</th>\n",
       "      <td>...</td>\n",
       "    </tr>\n",
       "    <tr>\n",
       "      <th>926</th>\n",
       "      <td>ID_77MDJGMZ</td>\n",
       "    </tr>\n",
       "    <tr>\n",
       "      <th>927</th>\n",
       "      <td>ID_PG3E6NQT</td>\n",
       "    </tr>\n",
       "    <tr>\n",
       "      <th>928</th>\n",
       "      <td>ID_038S0ONN</td>\n",
       "    </tr>\n",
       "    <tr>\n",
       "      <th>929</th>\n",
       "      <td>ID_D5YBIDDT</td>\n",
       "    </tr>\n",
       "    <tr>\n",
       "      <th>930</th>\n",
       "      <td>ID_2XGXT7SJ</td>\n",
       "    </tr>\n",
       "  </tbody>\n",
       "</table>\n",
       "<p>931 rows × 1 columns</p>\n",
       "</div>"
      ],
      "text/plain": [
       "        Image_ID\n",
       "0    ID_IUJJG62B\n",
       "1    ID_ZPNDRD4T\n",
       "2    ID_AHFYB64P\n",
       "3    ID_L8JZLNTF\n",
       "4    ID_IFMUXGPL\n",
       "..           ...\n",
       "926  ID_77MDJGMZ\n",
       "927  ID_PG3E6NQT\n",
       "928  ID_038S0ONN\n",
       "929  ID_D5YBIDDT\n",
       "930  ID_2XGXT7SJ\n",
       "\n",
       "[931 rows x 1 columns]"
      ]
     },
     "execution_count": 157,
     "metadata": {},
     "output_type": "execute_result"
    }
   ],
   "source": [
    "test"
   ]
  },
  {
   "cell_type": "code",
   "execution_count": 10,
   "metadata": {
    "id": "rUhb-Nw7uyYJ"
   },
   "outputs": [],
   "source": [
    "test_data = [{\"filename\": test.iloc[i][\"Image_ID\"] + '.jpg', \"width\": 512, \"height\": 512} for i in range(len(test))]"
   ]
  },
  {
   "cell_type": "code",
   "execution_count": 160,
   "metadata": {
    "colab": {
     "base_uri": "https://localhost:8080/"
    },
    "id": "nUeGTNCXvkyz",
    "outputId": "4b976ed5-f0b2-4418-dfb3-807971a27147"
   },
   "outputs": [
    {
     "data": {
      "text/plain": [
       "931"
      ]
     },
     "execution_count": 160,
     "metadata": {},
     "output_type": "execute_result"
    }
   ],
   "source": [
    "len(test_data)"
   ]
  },
  {
   "cell_type": "code",
   "execution_count": 11,
   "metadata": {
    "id": "VRxuasoFvlS2"
   },
   "outputs": [],
   "source": [
    "with open(f\"dcm_folds/test.pickle\", 'wb') as f:\n",
    "     pickle.dump(test_data, f, protocol=pickle.HIGHEST_PROTOCOL)"
   ]
  },
  {
   "cell_type": "code",
   "execution_count": null,
   "metadata": {
    "id": "r1Yd6zinvv4t"
   },
   "outputs": [],
   "source": []
  },
  {
   "cell_type": "code",
   "execution_count": null,
   "metadata": {},
   "outputs": [],
   "source": []
  },
  {
   "cell_type": "code",
   "execution_count": null,
   "metadata": {},
   "outputs": [],
   "source": []
  },
  {
   "cell_type": "code",
   "execution_count": null,
   "metadata": {},
   "outputs": [],
   "source": []
  },
  {
   "cell_type": "code",
   "execution_count": null,
   "metadata": {},
   "outputs": [],
   "source": []
  },
  {
   "cell_type": "code",
   "execution_count": null,
   "metadata": {},
   "outputs": [],
   "source": []
  },
  {
   "cell_type": "code",
   "execution_count": null,
   "metadata": {},
   "outputs": [],
   "source": []
  },
  {
   "cell_type": "code",
   "execution_count": null,
   "metadata": {},
   "outputs": [],
   "source": []
  },
  {
   "cell_type": "code",
   "execution_count": null,
   "metadata": {},
   "outputs": [],
   "source": []
  },
  {
   "cell_type": "code",
   "execution_count": null,
   "metadata": {},
   "outputs": [],
   "source": []
  },
  {
   "cell_type": "code",
   "execution_count": null,
   "metadata": {},
   "outputs": [],
   "source": []
  },
  {
   "cell_type": "code",
   "execution_count": null,
   "metadata": {},
   "outputs": [],
   "source": []
  },
  {
   "cell_type": "code",
   "execution_count": null,
   "metadata": {},
   "outputs": [],
   "source": []
  },
  {
   "cell_type": "code",
   "execution_count": null,
   "metadata": {},
   "outputs": [],
   "source": []
  },
  {
   "cell_type": "code",
   "execution_count": null,
   "metadata": {},
   "outputs": [],
   "source": []
  },
  {
   "cell_type": "code",
   "execution_count": null,
   "metadata": {},
   "outputs": [],
   "source": []
  }
 ],
 "metadata": {
  "colab": {
   "name": "CustomDataset.ipynb",
   "provenance": []
  },
  "kernelspec": {
   "display_name": "Python 3",
   "language": "python",
   "name": "python3"
  },
  "language_info": {
   "codemirror_mode": {
    "name": "ipython",
    "version": 3
   },
   "file_extension": ".py",
   "mimetype": "text/x-python",
   "name": "python",
   "nbconvert_exporter": "python",
   "pygments_lexer": "ipython3",
   "version": "3.8.5"
  }
 },
 "nbformat": 4,
 "nbformat_minor": 1
}
