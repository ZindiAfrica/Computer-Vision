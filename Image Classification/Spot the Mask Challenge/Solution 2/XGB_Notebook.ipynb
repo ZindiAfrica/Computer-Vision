{
 "cells": [
  {
   "cell_type": "markdown",
   "metadata": {
    "colab_type": "text",
    "id": "zdeVDGYpBtC3"
   },
   "source": [
    "# Spot the Mask Challenge"
   ]
  },
  {
   "cell_type": "markdown",
   "metadata": {
    "colab_type": "text",
    "id": "LjGzGI5kB9-L"
   },
   "source": [
    "## Import Libraries"
   ]
  },
  {
   "cell_type": "code",
   "execution_count": 1,
   "metadata": {
    "colab": {},
    "colab_type": "code",
    "id": "fJGGQVXkCf_S"
   },
   "outputs": [],
   "source": [
    "# !pip install ignite\n",
    "# !pip install albumentations\n",
    "# !pip install pretrainedmodels"
   ]
  },
  {
   "cell_type": "code",
   "execution_count": 2,
   "metadata": {
    "colab": {},
    "colab_type": "code",
    "id": "FyDbiO41CSvu"
   },
   "outputs": [],
   "source": [
    "import os, sys, gc\n",
    "import numpy as np\n",
    "import pandas as pd\n",
    "import random\n",
    "import ignite\n",
    "import copy\n",
    "from tqdm import tqdm\n",
    "\n",
    "import torch\n",
    "import torch.nn as nn\n",
    "import torchvision\n",
    "from torch.utils.data import Dataset, DataLoader, ConcatDataset\n",
    "from torchvision import *\n",
    "\n",
    "from PIL import Image\n",
    "import albumentations\n",
    "import matplotlib.pyplot as plt\n",
    "from sklearn.utils import shuffle\n",
    "from random import shuffle \n",
    "%matplotlib inline"
   ]
  },
  {
   "cell_type": "code",
   "execution_count": 3,
   "metadata": {
    "colab": {
     "base_uri": "https://localhost:8080/",
     "height": 34
    },
    "colab_type": "code",
    "executionInfo": {
     "elapsed": 4836,
     "status": "ok",
     "timestamp": 1587318921477,
     "user": {
      "displayName": "Stanley Dukor",
      "photoUrl": "",
      "userId": "09183284933821269350"
     },
     "user_tz": -60
    },
    "id": "AcJnG6gtB2fJ",
    "outputId": "faae619c-69f6-4086-efad-891ae158d9fd"
   },
   "outputs": [
    {
     "name": "stdout",
     "output_type": "stream",
     "text": [
      "Interactive? True\n"
     ]
    }
   ],
   "source": [
    "def is_interactive():\n",
    "    return 'runtime' in get_ipython().config.IPKernelApp.connection_file\n",
    "\n",
    "print('Interactive?', is_interactive())"
   ]
  },
  {
   "cell_type": "code",
   "execution_count": 4,
   "metadata": {
    "colab": {},
    "colab_type": "code",
    "id": "sPpiDDSsCBA4"
   },
   "outputs": [],
   "source": [
    "def seed_everything(seed):\n",
    "    random.seed(seed)\n",
    "    os.environ['PYTHONHASHSEED'] = str(seed)\n",
    "    np.random.seed(seed)\n",
    "    torch.manual_seed(seed)\n",
    "    torch.cuda.manual_seed(seed)\n",
    "    torch.cuda.manual_seed_all(seed)\n",
    "    torch.backends.cudnn.deterministic = True\n",
    "    \n",
    "seed_everything(2020)"
   ]
  },
  {
   "cell_type": "code",
   "execution_count": 5,
   "metadata": {
    "colab": {
     "base_uri": "https://localhost:8080/",
     "height": 50
    },
    "colab_type": "code",
    "executionInfo": {
     "elapsed": 4804,
     "status": "ok",
     "timestamp": 1587318921480,
     "user": {
      "displayName": "Stanley Dukor",
      "photoUrl": "",
      "userId": "09183284933821269350"
     },
     "user_tz": -60
    },
    "id": "lPP0g0-2CO6X",
    "outputId": "9298ae7c-982a-4114-82ee-d155660120f0"
   },
   "outputs": [
    {
     "name": "stdout",
     "output_type": "stream",
     "text": [
      "1.3.1\n",
      "True\n"
     ]
    }
   ],
   "source": [
    "# torch.__version__, ignite.__version__\n",
    "# Check if pytorch is imported and if GPU is enabled\n",
    "print(torch.__version__)\n",
    "print(torch.cuda.is_available())"
   ]
  },
  {
   "cell_type": "code",
   "execution_count": 6,
   "metadata": {
    "colab": {
     "base_uri": "https://localhost:8080/",
     "height": 77
    },
    "colab_type": "code",
    "executionInfo": {
     "elapsed": 5191,
     "status": "ok",
     "timestamp": 1587318921885,
     "user": {
      "displayName": "Stanley Dukor",
      "photoUrl": "",
      "userId": "09183284933821269350"
     },
     "user_tz": -60
    },
    "id": "MozDtMUoDZ4r",
    "outputId": "93bad53a-6196-47ad-edb2-24ac80096d2d"
   },
   "outputs": [
    {
     "data": {
      "text/html": [
       "<div>\n",
       "<style scoped>\n",
       "    .dataframe tbody tr th:only-of-type {\n",
       "        vertical-align: middle;\n",
       "    }\n",
       "\n",
       "    .dataframe tbody tr th {\n",
       "        vertical-align: top;\n",
       "    }\n",
       "\n",
       "    .dataframe thead th {\n",
       "        text-align: right;\n",
       "    }\n",
       "</style>\n",
       "<table border=\"1\" class=\"dataframe\">\n",
       "  <thead>\n",
       "    <tr style=\"text-align: right;\">\n",
       "      <th></th>\n",
       "      <th>image</th>\n",
       "      <th>target</th>\n",
       "    </tr>\n",
       "  </thead>\n",
       "  <tbody>\n",
       "    <tr>\n",
       "      <th>0</th>\n",
       "      <td>tfymlmdkpzkqdjhdxyhnoeuqszxphw.jpg</td>\n",
       "      <td>0</td>\n",
       "    </tr>\n",
       "  </tbody>\n",
       "</table>\n",
       "</div>"
      ],
      "text/plain": [
       "                                image  target\n",
       "0  tfymlmdkpzkqdjhdxyhnoeuqszxphw.jpg       0"
      ]
     },
     "execution_count": 6,
     "metadata": {},
     "output_type": "execute_result"
    }
   ],
   "source": [
    "path = './'\n",
    "train_dir = path+'images'\n",
    "test_dir = path+'images'\n",
    "df = pd.read_csv(path+'train_labels.csv')\n",
    "df_sample = pd.read_csv(path+'sample_sub_v2.csv')\n",
    "df.head(1)"
   ]
  },
  {
   "cell_type": "markdown",
   "metadata": {
    "colab_type": "text",
    "id": "j9JBbMwGifu_"
   },
   "source": [
    "## Create Folds"
   ]
  },
  {
   "cell_type": "code",
   "execution_count": 7,
   "metadata": {
    "colab": {},
    "colab_type": "code",
    "id": "IjD16cloifvA"
   },
   "outputs": [],
   "source": [
    "df.loc[:, 'kfold'] = -1\n",
    "df = df.sample(frac=1).reset_index(drop=True)"
   ]
  },
  {
   "cell_type": "code",
   "execution_count": 8,
   "metadata": {
    "colab": {},
    "colab_type": "code",
    "id": "sd1IlXKXifvC"
   },
   "outputs": [],
   "source": [
    "X = df.image.values\n",
    "y = df.target.values"
   ]
  },
  {
   "cell_type": "code",
   "execution_count": 0,
   "metadata": {
    "colab": {
     "base_uri": "https://localhost:8080/",
     "height": 118
    },
    "colab_type": "code",
    "executionInfo": {
     "elapsed": 1349,
     "status": "ok",
     "timestamp": 1587217801029,
     "user": {
      "displayName": "Stanley Dukor",
      "photoUrl": "",
      "userId": "09183284933821269350"
     },
     "user_tz": -60
    },
    "id": "yjkMdZtTifvE",
    "outputId": "9ab1422f-646e-48cd-926c-862e0f2d09f4"
   },
   "outputs": [
    {
     "name": "stdout",
     "output_type": "stream",
     "text": [
      "2    262\n",
      "1    262\n",
      "0    262\n",
      "4    261\n",
      "3    261\n",
      "Name: kfold, dtype: int64\n"
     ]
    }
   ],
   "source": [
    "from sklearn.model_selection import StratifiedKFold\n",
    "from sklearn.model_selection import train_test_split\n",
    "\n",
    "folds = StratifiedKFold(n_splits=5)\n",
    "\n",
    "for fold, (trn_, val_) in enumerate(folds.split(X, y)):\n",
    "#     print(\"TRAIN: \", trn_, \"VAL: \", val_)\n",
    "    df.loc[val_, \"kfold\"] = fold\n",
    "\n",
    "print(df.kfold.value_counts())\n",
    "df.to_csv(\"./input/train_folds.csv\", index=False)"
   ]
  },
  {
   "cell_type": "markdown",
   "metadata": {
    "colab_type": "text",
    "id": "JMTiAnCGifvG"
   },
   "source": [
    "## Set Environment Variables"
   ]
  },
  {
   "cell_type": "code",
   "execution_count": 7,
   "metadata": {
    "colab": {},
    "colab_type": "code",
    "id": "irqMSehwifvG"
   },
   "outputs": [],
   "source": [
    "device = \"cuda\"\n",
    "last_epoch = []\n",
    "last_val_loss = []"
   ]
  },
  {
   "cell_type": "markdown",
   "metadata": {
    "colab_type": "text",
    "id": "4YPpSr8OG8fo"
   },
   "source": [
    "## Load Train Data From DataFrame"
   ]
  },
  {
   "cell_type": "code",
   "execution_count": 8,
   "metadata": {
    "colab": {},
    "colab_type": "code",
    "id": "1zFUMwQkKkLn"
   },
   "outputs": [],
   "source": [
    "class from_df(Dataset):\n",
    "    def __init__(self, dir, df, folds, image_class, mode='train'):\n",
    "        self.mode= mode\n",
    "        \n",
    "        if self.mode == 'train':\n",
    "            df = df[df.kfold.isin(folds)].reset_index(drop=True)\n",
    "            self.image_list = [x for x in df[image_class[0]]]\n",
    "            self.target_list = [x for x in df[image_class[1]]]\n",
    "            self.df = df\n",
    "            self.no_of_classes = len(df[image_class[1]].value_counts())\n",
    "            if len(folds) == 1:\n",
    "                self.transform = albumentations.Compose([\n",
    "                    albumentations.Resize(256, 256, always_apply=True),\n",
    "                    albumentations.Normalize((0.485, 0.456, 0.406), (0.229, 0.224, 0.225), always_apply=True)\n",
    "                ])\n",
    "            else:\n",
    "                self.transform = albumentations.Compose([\n",
    "                    albumentations.Resize(256, 256, always_apply=True),\n",
    "                    albumentations.ShiftScaleRotate(shift_limit=0.0625, scale_limit=0.1, rotate_limit=5, p=0.9),\n",
    "                    albumentations.Normalize((0.485, 0.456, 0.406), (0.229, 0.224, 0.225), always_apply=True)\n",
    "                ])\n",
    "        else:\n",
    "            self.image_list = [x for x in df[image_class]]\n",
    "            self.df = df\n",
    "            self.no_of_classes = 0\n",
    "            self.transform = albumentations.Compose([\n",
    "                albumentations.Resize(256, 256, always_apply=True),\n",
    "                albumentations.Normalize((0.485, 0.456, 0.406), (0.229, 0.224, 0.225), always_apply=True)\n",
    "            ])\n",
    "            \n",
    "        self.dir = dir\n",
    "        self.image_class = image_class\n",
    "            \n",
    "    def __len__(self):\n",
    "        return len(self.image_list)\n",
    "    \n",
    "    def __getitem__(self, idx):\n",
    "        img = Image.open(os.path.join(self.dir, self.image_list[idx]))\n",
    "        img = img.convert(\"RGB\")\n",
    "        img = self.transform(image=np.array(img))['image']\n",
    "        img = np.transpose(img, (2, 0, 1)).astype('float32')\n",
    "        if self.mode == 'train':\n",
    "            return torch.tensor(img, dtype=torch.float), self.target_list[idx]\n",
    "        else:\n",
    "            return torch.tensor(img, dtype=torch.float), self.image_list[idx]\n",
    "\n",
    "    def info(self):\n",
    "        print(\"Number of Classes:\", self.no_of_classes)"
   ]
  },
  {
   "cell_type": "code",
   "execution_count": 9,
   "metadata": {
    "colab": {},
    "colab_type": "code",
    "id": "Nhv_w4d8M4OT"
   },
   "outputs": [],
   "source": [
    "# train 4x with different folds\n",
    "training_folds = (0, 1, 2, 3)\n",
    "validation_folds = (4,)\n",
    "bs = 16\n",
    "bs_test = 16\n",
    "\n",
    "training_folds_csv = \"./input/train_folds.csv\"\n",
    "df_folds = pd.read_csv(training_folds_csv)\n",
    "\n",
    "train_dataset = from_df(train_dir, df_folds, training_folds, ('image', 'target'))\n",
    "train_loader = DataLoader(train_dataset, batch_size = bs, shuffle=True)\n",
    "\n",
    "valid_dataset = from_df(train_dir, df_folds, validation_folds, ('image', 'target'))\n",
    "valid_loader = DataLoader(valid_dataset, batch_size = bs_test, shuffle=False)"
   ]
  },
  {
   "cell_type": "code",
   "execution_count": 10,
   "metadata": {
    "colab": {
     "base_uri": "https://localhost:8080/",
     "height": 310
    },
    "colab_type": "code",
    "executionInfo": {
     "elapsed": 11068,
     "status": "ok",
     "timestamp": 1587318927838,
     "user": {
      "displayName": "Stanley Dukor",
      "photoUrl": "",
      "userId": "09183284933821269350"
     },
     "user_tz": -60
    },
    "id": "R2PtG1VWNJDE",
    "outputId": "988a3814-867a-477d-98e5-086fe5e85cd9"
   },
   "outputs": [
    {
     "name": "stderr",
     "output_type": "stream",
     "text": [
      "Clipping input data to the valid range for imshow with RGB data ([0..1] for floats or [0..255] for integers).\n"
     ]
    },
    {
     "data": {
      "text/plain": [
       "<matplotlib.image.AxesImage at 0x25ad0f97240>"
      ]
     },
     "execution_count": 10,
     "metadata": {},
     "output_type": "execute_result"
    },
    {
     "data": {
      "image/png": "[encoded data removed]",
      "text/plain": [
       "<Figure size 1152x1728 with 1 Axes>"
      ]
     },
     "metadata": {
      "needs_background": "light"
     },
     "output_type": "display_data"
    }
   ],
   "source": [
    "samples, labels = iter(train_loader).next()\n",
    "plt.figure(figsize=(16,24))\n",
    "grid_imgs = torchvision.utils.make_grid(samples[:24])\n",
    "np_grid_imgs = grid_imgs.numpy()\n",
    "# in tensor, image is (batch, width, height), so you have to transpose it to (width, height, batch) in numpy to show it.\n",
    "plt.imshow(np.transpose(np_grid_imgs, (1,2,0)))"
   ]
  },
  {
   "cell_type": "markdown",
   "metadata": {
    "colab_type": "text",
    "id": "FCcpRZ0HOWq2"
   },
   "source": [
    "## Model Building"
   ]
  },
  {
   "cell_type": "code",
   "execution_count": 11,
   "metadata": {
    "colab": {},
    "colab_type": "code",
    "id": "K2_xdwEcifvS"
   },
   "outputs": [],
   "source": [
    "import pretrainedmodels\n",
    "import torch.nn as nn\n",
    "from torch.nn import functional as F\n",
    "\n",
    "class ResNet34(nn.Module):\n",
    "    def __init__(self, pretrained):\n",
    "        super(ResNet34, self).__init__()\n",
    "        if pretrained == True:\n",
    "            self.model = pretrainedmodels.__dict__[\"resnet34\"](pretrained='imagenet')\n",
    "        else:\n",
    "            self.model = pretrainedmodels.__dict__[\"resnet34\"](pretrained=None)\n",
    "        \n",
    "    def forward(self, x):\n",
    "        bs, _, _, _ = x.shape\n",
    "        x = self.model.features(x)\n",
    "        x = F.adaptive_avg_pool2d(x, 1).reshape(bs, -1)\n",
    "        return x\n",
    "\n",
    "class ResNet50(nn.Module):\n",
    "    def __init__(self, pretrained):\n",
    "        super(ResNet50, self).__init__()\n",
    "        if pretrained == True:\n",
    "            self.model = pretrainedmodels.__dict__[\"resnet50\"](pretrained='imagenet')\n",
    "        else:\n",
    "            self.model = pretrainedmodels.__dict__[\"resnet50\"](pretrained=None)\n",
    "        \n",
    "    def forward(self, x):\n",
    "        bs, _, _, _ = x.shape\n",
    "        x = self.model.features(x)\n",
    "        x = F.adaptive_avg_pool2d(x, 1).reshape(bs, -1)\n",
    "        return x\n",
    "\n",
    "class Se_ResNet50(nn.Module):\n",
    "    def __init__(self, pretrained):\n",
    "        super(Se_ResNet50, self).__init__()\n",
    "        if pretrained == True:\n",
    "            self.model = pretrainedmodels.__dict__[\"se_resnet50\"](pretrained='imagenet')\n",
    "        else:\n",
    "            self.model = pretrainedmodels.__dict__[\"se_resnet50\"](pretrained=None)        \n",
    "        \n",
    "    def forward(self, x):\n",
    "        bs, _, _, _ = x.shape\n",
    "        x = self.model.features(x)\n",
    "        x = F.adaptive_avg_pool2d(x, 1).reshape(bs, -1)\n",
    "        return x\n",
    "\n",
    "class Se_ResNext50_32x4d(nn.Module):\n",
    "    def __init__(self, pretrained):\n",
    "        super(Se_ResNext50_32x4d, self).__init__()\n",
    "        if pretrained == True:\n",
    "            self.model = pretrainedmodels.__dict__[\"se_resnext50_32x4d\"](pretrained='imagenet')\n",
    "        else:\n",
    "            self.model = pretrainedmodels.__dict__[\"se_resnext50_32x4d\"](pretrained=None)\n",
    "        \n",
    "    def forward(self, x):\n",
    "        bs, _, _, _ = x.shape\n",
    "        x = self.model.features(x)\n",
    "        x = F.adaptive_avg_pool2d(x, 1).reshape(bs, -1)\n",
    "        return x\n",
    "\n",
    "class Se_ResNext101_32x4d(nn.Module):\n",
    "    def __init__(self, pretrained):\n",
    "        super(Se_ResNext101_32x4d, self).__init__()\n",
    "        if pretrained == True:\n",
    "            self.model = pretrainedmodels.__dict__[\"se_resnext101_32x4d\"](pretrained='imagenet')\n",
    "        else:\n",
    "            self.model = pretrainedmodels.__dict__[\"se_resnext101_32x4d\"](pretrained=None)\n",
    "        \n",
    "    def forward(self, x):\n",
    "        bs, _, _, _ = x.shape\n",
    "        x = self.model.features(x)\n",
    "        x = F.adaptive_avg_pool2d(x, 1).reshape(bs, -1)\n",
    "        return x\n",
    "\n",
    "class SeNet154(nn.Module):\n",
    "    def __init__(self, pretrained):\n",
    "        super(SeNet154, self).__init__()\n",
    "        if pretrained == True:\n",
    "            self.model = pretrainedmodels.__dict__[\"senet154\"](pretrained='imagenet')\n",
    "        else:\n",
    "            self.model = pretrainedmodels.__dict__[\"senet154\"](pretrained=None)\n",
    "        \n",
    "    def forward(self, x):\n",
    "        bs, _, _, _ = x.shape\n",
    "        x = self.model.features(x)\n",
    "        x = F.adaptive_avg_pool2d(x, 1).reshape(bs, -1)\n",
    "        return x"
   ]
  },
  {
   "cell_type": "code",
   "execution_count": 12,
   "metadata": {
    "colab": {},
    "colab_type": "code",
    "id": "XHn5Yd_OifvU"
   },
   "outputs": [],
   "source": [
    "model_dispatcher = {\n",
    "    \"resnet34\": ResNet34,\n",
    "    \"resnet50\": ResNet50,\n",
    "    \"se_resnet50\": Se_ResNet50,\n",
    "    \"se_resnext50_32x4d\": Se_ResNext50_32x4d,\n",
    "    \"se_resnext101_32x4d\": Se_ResNext101_32x4d,\n",
    "    \"senet154\": SeNet154,\n",
    "}"
   ]
  },
  {
   "cell_type": "code",
   "execution_count": 13,
   "metadata": {
    "colab": {},
    "colab_type": "code",
    "id": "DVYH9LAjifvX"
   },
   "outputs": [
    {
     "data": {
      "text/plain": [
       "Se_ResNext50_32x4d(\n",
       "  (model): SENet(\n",
       "    (layer0): Sequential(\n",
       "      (conv1): Conv2d(3, 64, kernel_size=(7, 7), stride=(2, 2), padding=(3, 3), bias=False)\n",
       "      (bn1): BatchNorm2d(64, eps=1e-05, momentum=0.1, affine=True, track_running_stats=True)\n",
       "      (relu1): ReLU(inplace=True)\n",
       "      (pool): MaxPool2d(kernel_size=3, stride=2, padding=0, dilation=1, ceil_mode=True)\n",
       "    )\n",
       "    (layer1): Sequential(\n",
       "      (0): SEResNeXtBottleneck(\n",
       "        (conv1): Conv2d(64, 128, kernel_size=(1, 1), stride=(1, 1), bias=False)\n",
       "        (bn1): BatchNorm2d(128, eps=1e-05, momentum=0.1, affine=True, track_running_stats=True)\n",
       "        (conv2): Conv2d(128, 128, kernel_size=(3, 3), stride=(1, 1), padding=(1, 1), groups=32, bias=False)\n",
       "        (bn2): BatchNorm2d(128, eps=1e-05, momentum=0.1, affine=True, track_running_stats=True)\n",
       "        (conv3): Conv2d(128, 256, kernel_size=(1, 1), stride=(1, 1), bias=False)\n",
       "        (bn3): BatchNorm2d(256, eps=1e-05, momentum=0.1, affine=True, track_running_stats=True)\n",
       "        (relu): ReLU(inplace=True)\n",
       "        (se_module): SEModule(\n",
       "          (avg_pool): AdaptiveAvgPool2d(output_size=1)\n",
       "          (fc1): Conv2d(256, 16, kernel_size=(1, 1), stride=(1, 1))\n",
       "          (relu): ReLU(inplace=True)\n",
       "          (fc2): Conv2d(16, 256, kernel_size=(1, 1), stride=(1, 1))\n",
       "          (sigmoid): Sigmoid()\n",
       "        )\n",
       "        (downsample): Sequential(\n",
       "          (0): Conv2d(64, 256, kernel_size=(1, 1), stride=(1, 1), bias=False)\n",
       "          (1): BatchNorm2d(256, eps=1e-05, momentum=0.1, affine=True, track_running_stats=True)\n",
       "        )\n",
       "      )\n",
       "      (1): SEResNeXtBottleneck(\n",
       "        (conv1): Conv2d(256, 128, kernel_size=(1, 1), stride=(1, 1), bias=False)\n",
       "        (bn1): BatchNorm2d(128, eps=1e-05, momentum=0.1, affine=True, track_running_stats=True)\n",
       "        (conv2): Conv2d(128, 128, kernel_size=(3, 3), stride=(1, 1), padding=(1, 1), groups=32, bias=False)\n",
       "        (bn2): BatchNorm2d(128, eps=1e-05, momentum=0.1, affine=True, track_running_stats=True)\n",
       "        (conv3): Conv2d(128, 256, kernel_size=(1, 1), stride=(1, 1), bias=False)\n",
       "        (bn3): BatchNorm2d(256, eps=1e-05, momentum=0.1, affine=True, track_running_stats=True)\n",
       "        (relu): ReLU(inplace=True)\n",
       "        (se_module): SEModule(\n",
       "          (avg_pool): AdaptiveAvgPool2d(output_size=1)\n",
       "          (fc1): Conv2d(256, 16, kernel_size=(1, 1), stride=(1, 1))\n",
       "          (relu): ReLU(inplace=True)\n",
       "          (fc2): Conv2d(16, 256, kernel_size=(1, 1), stride=(1, 1))\n",
       "          (sigmoid): Sigmoid()\n",
       "        )\n",
       "      )\n",
       "      (2): SEResNeXtBottleneck(\n",
       "        (conv1): Conv2d(256, 128, kernel_size=(1, 1), stride=(1, 1), bias=False)\n",
       "        (bn1): BatchNorm2d(128, eps=1e-05, momentum=0.1, affine=True, track_running_stats=True)\n",
       "        (conv2): Conv2d(128, 128, kernel_size=(3, 3), stride=(1, 1), padding=(1, 1), groups=32, bias=False)\n",
       "        (bn2): BatchNorm2d(128, eps=1e-05, momentum=0.1, affine=True, track_running_stats=True)\n",
       "        (conv3): Conv2d(128, 256, kernel_size=(1, 1), stride=(1, 1), bias=False)\n",
       "        (bn3): BatchNorm2d(256, eps=1e-05, momentum=0.1, affine=True, track_running_stats=True)\n",
       "        (relu): ReLU(inplace=True)\n",
       "        (se_module): SEModule(\n",
       "          (avg_pool): AdaptiveAvgPool2d(output_size=1)\n",
       "          (fc1): Conv2d(256, 16, kernel_size=(1, 1), stride=(1, 1))\n",
       "          (relu): ReLU(inplace=True)\n",
       "          (fc2): Conv2d(16, 256, kernel_size=(1, 1), stride=(1, 1))\n",
       "          (sigmoid): Sigmoid()\n",
       "        )\n",
       "      )\n",
       "    )\n",
       "    (layer2): Sequential(\n",
       "      (0): SEResNeXtBottleneck(\n",
       "        (conv1): Conv2d(256, 256, kernel_size=(1, 1), stride=(1, 1), bias=False)\n",
       "        (bn1): BatchNorm2d(256, eps=1e-05, momentum=0.1, affine=True, track_running_stats=True)\n",
       "        (conv2): Conv2d(256, 256, kernel_size=(3, 3), stride=(2, 2), padding=(1, 1), groups=32, bias=False)\n",
       "        (bn2): BatchNorm2d(256, eps=1e-05, momentum=0.1, affine=True, track_running_stats=True)\n",
       "        (conv3): Conv2d(256, 512, kernel_size=(1, 1), stride=(1, 1), bias=False)\n",
       "        (bn3): BatchNorm2d(512, eps=1e-05, momentum=0.1, affine=True, track_running_stats=True)\n",
       "        (relu): ReLU(inplace=True)\n",
       "        (se_module): SEModule(\n",
       "          (avg_pool): AdaptiveAvgPool2d(output_size=1)\n",
       "          (fc1): Conv2d(512, 32, kernel_size=(1, 1), stride=(1, 1))\n",
       "          (relu): ReLU(inplace=True)\n",
       "          (fc2): Conv2d(32, 512, kernel_size=(1, 1), stride=(1, 1))\n",
       "          (sigmoid): Sigmoid()\n",
       "        )\n",
       "        (downsample): Sequential(\n",
       "          (0): Conv2d(256, 512, kernel_size=(1, 1), stride=(2, 2), bias=False)\n",
       "          (1): BatchNorm2d(512, eps=1e-05, momentum=0.1, affine=True, track_running_stats=True)\n",
       "        )\n",
       "      )\n",
       "      (1): SEResNeXtBottleneck(\n",
       "        (conv1): Conv2d(512, 256, kernel_size=(1, 1), stride=(1, 1), bias=False)\n",
       "        (bn1): BatchNorm2d(256, eps=1e-05, momentum=0.1, affine=True, track_running_stats=True)\n",
       "        (conv2): Conv2d(256, 256, kernel_size=(3, 3), stride=(1, 1), padding=(1, 1), groups=32, bias=False)\n",
       "        (bn2): BatchNorm2d(256, eps=1e-05, momentum=0.1, affine=True, track_running_stats=True)\n",
       "        (conv3): Conv2d(256, 512, kernel_size=(1, 1), stride=(1, 1), bias=False)\n",
       "        (bn3): BatchNorm2d(512, eps=1e-05, momentum=0.1, affine=True, track_running_stats=True)\n",
       "        (relu): ReLU(inplace=True)\n",
       "        (se_module): SEModule(\n",
       "          (avg_pool): AdaptiveAvgPool2d(output_size=1)\n",
       "          (fc1): Conv2d(512, 32, kernel_size=(1, 1), stride=(1, 1))\n",
       "          (relu): ReLU(inplace=True)\n",
       "          (fc2): Conv2d(32, 512, kernel_size=(1, 1), stride=(1, 1))\n",
       "          (sigmoid): Sigmoid()\n",
       "        )\n",
       "      )\n",
       "      (2): SEResNeXtBottleneck(\n",
       "        (conv1): Conv2d(512, 256, kernel_size=(1, 1), stride=(1, 1), bias=False)\n",
       "        (bn1): BatchNorm2d(256, eps=1e-05, momentum=0.1, affine=True, track_running_stats=True)\n",
       "        (conv2): Conv2d(256, 256, kernel_size=(3, 3), stride=(1, 1), padding=(1, 1), groups=32, bias=False)\n",
       "        (bn2): BatchNorm2d(256, eps=1e-05, momentum=0.1, affine=True, track_running_stats=True)\n",
       "        (conv3): Conv2d(256, 512, kernel_size=(1, 1), stride=(1, 1), bias=False)\n",
       "        (bn3): BatchNorm2d(512, eps=1e-05, momentum=0.1, affine=True, track_running_stats=True)\n",
       "        (relu): ReLU(inplace=True)\n",
       "        (se_module): SEModule(\n",
       "          (avg_pool): AdaptiveAvgPool2d(output_size=1)\n",
       "          (fc1): Conv2d(512, 32, kernel_size=(1, 1), stride=(1, 1))\n",
       "          (relu): ReLU(inplace=True)\n",
       "          (fc2): Conv2d(32, 512, kernel_size=(1, 1), stride=(1, 1))\n",
       "          (sigmoid): Sigmoid()\n",
       "        )\n",
       "      )\n",
       "      (3): SEResNeXtBottleneck(\n",
       "        (conv1): Conv2d(512, 256, kernel_size=(1, 1), stride=(1, 1), bias=False)\n",
       "        (bn1): BatchNorm2d(256, eps=1e-05, momentum=0.1, affine=True, track_running_stats=True)\n",
       "        (conv2): Conv2d(256, 256, kernel_size=(3, 3), stride=(1, 1), padding=(1, 1), groups=32, bias=False)\n",
       "        (bn2): BatchNorm2d(256, eps=1e-05, momentum=0.1, affine=True, track_running_stats=True)\n",
       "        (conv3): Conv2d(256, 512, kernel_size=(1, 1), stride=(1, 1), bias=False)\n",
       "        (bn3): BatchNorm2d(512, eps=1e-05, momentum=0.1, affine=True, track_running_stats=True)\n",
       "        (relu): ReLU(inplace=True)\n",
       "        (se_module): SEModule(\n",
       "          (avg_pool): AdaptiveAvgPool2d(output_size=1)\n",
       "          (fc1): Conv2d(512, 32, kernel_size=(1, 1), stride=(1, 1))\n",
       "          (relu): ReLU(inplace=True)\n",
       "          (fc2): Conv2d(32, 512, kernel_size=(1, 1), stride=(1, 1))\n",
       "          (sigmoid): Sigmoid()\n",
       "        )\n",
       "      )\n",
       "    )\n",
       "    (layer3): Sequential(\n",
       "      (0): SEResNeXtBottleneck(\n",
       "        (conv1): Conv2d(512, 512, kernel_size=(1, 1), stride=(1, 1), bias=False)\n",
       "        (bn1): BatchNorm2d(512, eps=1e-05, momentum=0.1, affine=True, track_running_stats=True)\n",
       "        (conv2): Conv2d(512, 512, kernel_size=(3, 3), stride=(2, 2), padding=(1, 1), groups=32, bias=False)\n",
       "        (bn2): BatchNorm2d(512, eps=1e-05, momentum=0.1, affine=True, track_running_stats=True)\n",
       "        (conv3): Conv2d(512, 1024, kernel_size=(1, 1), stride=(1, 1), bias=False)\n",
       "        (bn3): BatchNorm2d(1024, eps=1e-05, momentum=0.1, affine=True, track_running_stats=True)\n",
       "        (relu): ReLU(inplace=True)\n",
       "        (se_module): SEModule(\n",
       "          (avg_pool): AdaptiveAvgPool2d(output_size=1)\n",
       "          (fc1): Conv2d(1024, 64, kernel_size=(1, 1), stride=(1, 1))\n",
       "          (relu): ReLU(inplace=True)\n",
       "          (fc2): Conv2d(64, 1024, kernel_size=(1, 1), stride=(1, 1))\n",
       "          (sigmoid): Sigmoid()\n",
       "        )\n",
       "        (downsample): Sequential(\n",
       "          (0): Conv2d(512, 1024, kernel_size=(1, 1), stride=(2, 2), bias=False)\n",
       "          (1): BatchNorm2d(1024, eps=1e-05, momentum=0.1, affine=True, track_running_stats=True)\n",
       "        )\n",
       "      )\n",
       "      (1): SEResNeXtBottleneck(\n",
       "        (conv1): Conv2d(1024, 512, kernel_size=(1, 1), stride=(1, 1), bias=False)\n",
       "        (bn1): BatchNorm2d(512, eps=1e-05, momentum=0.1, affine=True, track_running_stats=True)\n",
       "        (conv2): Conv2d(512, 512, kernel_size=(3, 3), stride=(1, 1), padding=(1, 1), groups=32, bias=False)\n",
       "        (bn2): BatchNorm2d(512, eps=1e-05, momentum=0.1, affine=True, track_running_stats=True)\n",
       "        (conv3): Conv2d(512, 1024, kernel_size=(1, 1), stride=(1, 1), bias=False)\n",
       "        (bn3): BatchNorm2d(1024, eps=1e-05, momentum=0.1, affine=True, track_running_stats=True)\n",
       "        (relu): ReLU(inplace=True)\n",
       "        (se_module): SEModule(\n",
       "          (avg_pool): AdaptiveAvgPool2d(output_size=1)\n",
       "          (fc1): Conv2d(1024, 64, kernel_size=(1, 1), stride=(1, 1))\n",
       "          (relu): ReLU(inplace=True)\n",
       "          (fc2): Conv2d(64, 1024, kernel_size=(1, 1), stride=(1, 1))\n",
       "          (sigmoid): Sigmoid()\n",
       "        )\n",
       "      )\n",
       "      (2): SEResNeXtBottleneck(\n",
       "        (conv1): Conv2d(1024, 512, kernel_size=(1, 1), stride=(1, 1), bias=False)\n",
       "        (bn1): BatchNorm2d(512, eps=1e-05, momentum=0.1, affine=True, track_running_stats=True)\n",
       "        (conv2): Conv2d(512, 512, kernel_size=(3, 3), stride=(1, 1), padding=(1, 1), groups=32, bias=False)\n",
       "        (bn2): BatchNorm2d(512, eps=1e-05, momentum=0.1, affine=True, track_running_stats=True)\n",
       "        (conv3): Conv2d(512, 1024, kernel_size=(1, 1), stride=(1, 1), bias=False)\n",
       "        (bn3): BatchNorm2d(1024, eps=1e-05, momentum=0.1, affine=True, track_running_stats=True)\n",
       "        (relu): ReLU(inplace=True)\n",
       "        (se_module): SEModule(\n",
       "          (avg_pool): AdaptiveAvgPool2d(output_size=1)\n",
       "          (fc1): Conv2d(1024, 64, kernel_size=(1, 1), stride=(1, 1))\n",
       "          (relu): ReLU(inplace=True)\n",
       "          (fc2): Conv2d(64, 1024, kernel_size=(1, 1), stride=(1, 1))\n",
       "          (sigmoid): Sigmoid()\n",
       "        )\n",
       "      )\n",
       "      (3): SEResNeXtBottleneck(\n",
       "        (conv1): Conv2d(1024, 512, kernel_size=(1, 1), stride=(1, 1), bias=False)\n",
       "        (bn1): BatchNorm2d(512, eps=1e-05, momentum=0.1, affine=True, track_running_stats=True)\n",
       "        (conv2): Conv2d(512, 512, kernel_size=(3, 3), stride=(1, 1), padding=(1, 1), groups=32, bias=False)\n",
       "        (bn2): BatchNorm2d(512, eps=1e-05, momentum=0.1, affine=True, track_running_stats=True)\n",
       "        (conv3): Conv2d(512, 1024, kernel_size=(1, 1), stride=(1, 1), bias=False)\n",
       "        (bn3): BatchNorm2d(1024, eps=1e-05, momentum=0.1, affine=True, track_running_stats=True)\n",
       "        (relu): ReLU(inplace=True)\n",
       "        (se_module): SEModule(\n",
       "          (avg_pool): AdaptiveAvgPool2d(output_size=1)\n",
       "          (fc1): Conv2d(1024, 64, kernel_size=(1, 1), stride=(1, 1))\n",
       "          (relu): ReLU(inplace=True)\n",
       "          (fc2): Conv2d(64, 1024, kernel_size=(1, 1), stride=(1, 1))\n",
       "          (sigmoid): Sigmoid()\n",
       "        )\n",
       "      )\n",
       "      (4): SEResNeXtBottleneck(\n",
       "        (conv1): Conv2d(1024, 512, kernel_size=(1, 1), stride=(1, 1), bias=False)\n",
       "        (bn1): BatchNorm2d(512, eps=1e-05, momentum=0.1, affine=True, track_running_stats=True)\n",
       "        (conv2): Conv2d(512, 512, kernel_size=(3, 3), stride=(1, 1), padding=(1, 1), groups=32, bias=False)\n",
       "        (bn2): BatchNorm2d(512, eps=1e-05, momentum=0.1, affine=True, track_running_stats=True)\n",
       "        (conv3): Conv2d(512, 1024, kernel_size=(1, 1), stride=(1, 1), bias=False)\n",
       "        (bn3): BatchNorm2d(1024, eps=1e-05, momentum=0.1, affine=True, track_running_stats=True)\n",
       "        (relu): ReLU(inplace=True)\n",
       "        (se_module): SEModule(\n",
       "          (avg_pool): AdaptiveAvgPool2d(output_size=1)\n",
       "          (fc1): Conv2d(1024, 64, kernel_size=(1, 1), stride=(1, 1))\n",
       "          (relu): ReLU(inplace=True)\n",
       "          (fc2): Conv2d(64, 1024, kernel_size=(1, 1), stride=(1, 1))\n",
       "          (sigmoid): Sigmoid()\n",
       "        )\n",
       "      )\n",
       "      (5): SEResNeXtBottleneck(\n",
       "        (conv1): Conv2d(1024, 512, kernel_size=(1, 1), stride=(1, 1), bias=False)\n",
       "        (bn1): BatchNorm2d(512, eps=1e-05, momentum=0.1, affine=True, track_running_stats=True)\n",
       "        (conv2): Conv2d(512, 512, kernel_size=(3, 3), stride=(1, 1), padding=(1, 1), groups=32, bias=False)\n",
       "        (bn2): BatchNorm2d(512, eps=1e-05, momentum=0.1, affine=True, track_running_stats=True)\n",
       "        (conv3): Conv2d(512, 1024, kernel_size=(1, 1), stride=(1, 1), bias=False)\n",
       "        (bn3): BatchNorm2d(1024, eps=1e-05, momentum=0.1, affine=True, track_running_stats=True)\n",
       "        (relu): ReLU(inplace=True)\n",
       "        (se_module): SEModule(\n",
       "          (avg_pool): AdaptiveAvgPool2d(output_size=1)\n",
       "          (fc1): Conv2d(1024, 64, kernel_size=(1, 1), stride=(1, 1))\n",
       "          (relu): ReLU(inplace=True)\n",
       "          (fc2): Conv2d(64, 1024, kernel_size=(1, 1), stride=(1, 1))\n",
       "          (sigmoid): Sigmoid()\n",
       "        )\n",
       "      )\n",
       "    )\n",
       "    (layer4): Sequential(\n",
       "      (0): SEResNeXtBottleneck(\n",
       "        (conv1): Conv2d(1024, 1024, kernel_size=(1, 1), stride=(1, 1), bias=False)\n",
       "        (bn1): BatchNorm2d(1024, eps=1e-05, momentum=0.1, affine=True, track_running_stats=True)\n",
       "        (conv2): Conv2d(1024, 1024, kernel_size=(3, 3), stride=(2, 2), padding=(1, 1), groups=32, bias=False)\n",
       "        (bn2): BatchNorm2d(1024, eps=1e-05, momentum=0.1, affine=True, track_running_stats=True)\n",
       "        (conv3): Conv2d(1024, 2048, kernel_size=(1, 1), stride=(1, 1), bias=False)\n",
       "        (bn3): BatchNorm2d(2048, eps=1e-05, momentum=0.1, affine=True, track_running_stats=True)\n",
       "        (relu): ReLU(inplace=True)\n",
       "        (se_module): SEModule(\n",
       "          (avg_pool): AdaptiveAvgPool2d(output_size=1)\n",
       "          (fc1): Conv2d(2048, 128, kernel_size=(1, 1), stride=(1, 1))\n",
       "          (relu): ReLU(inplace=True)\n",
       "          (fc2): Conv2d(128, 2048, kernel_size=(1, 1), stride=(1, 1))\n",
       "          (sigmoid): Sigmoid()\n",
       "        )\n",
       "        (downsample): Sequential(\n",
       "          (0): Conv2d(1024, 2048, kernel_size=(1, 1), stride=(2, 2), bias=False)\n",
       "          (1): BatchNorm2d(2048, eps=1e-05, momentum=0.1, affine=True, track_running_stats=True)\n",
       "        )\n",
       "      )\n",
       "      (1): SEResNeXtBottleneck(\n",
       "        (conv1): Conv2d(2048, 1024, kernel_size=(1, 1), stride=(1, 1), bias=False)\n",
       "        (bn1): BatchNorm2d(1024, eps=1e-05, momentum=0.1, affine=True, track_running_stats=True)\n",
       "        (conv2): Conv2d(1024, 1024, kernel_size=(3, 3), stride=(1, 1), padding=(1, 1), groups=32, bias=False)\n",
       "        (bn2): BatchNorm2d(1024, eps=1e-05, momentum=0.1, affine=True, track_running_stats=True)\n",
       "        (conv3): Conv2d(1024, 2048, kernel_size=(1, 1), stride=(1, 1), bias=False)\n",
       "        (bn3): BatchNorm2d(2048, eps=1e-05, momentum=0.1, affine=True, track_running_stats=True)\n",
       "        (relu): ReLU(inplace=True)\n",
       "        (se_module): SEModule(\n",
       "          (avg_pool): AdaptiveAvgPool2d(output_size=1)\n",
       "          (fc1): Conv2d(2048, 128, kernel_size=(1, 1), stride=(1, 1))\n",
       "          (relu): ReLU(inplace=True)\n",
       "          (fc2): Conv2d(128, 2048, kernel_size=(1, 1), stride=(1, 1))\n",
       "          (sigmoid): Sigmoid()\n",
       "        )\n",
       "      )\n",
       "      (2): SEResNeXtBottleneck(\n",
       "        (conv1): Conv2d(2048, 1024, kernel_size=(1, 1), stride=(1, 1), bias=False)\n",
       "        (bn1): BatchNorm2d(1024, eps=1e-05, momentum=0.1, affine=True, track_running_stats=True)\n",
       "        (conv2): Conv2d(1024, 1024, kernel_size=(3, 3), stride=(1, 1), padding=(1, 1), groups=32, bias=False)\n",
       "        (bn2): BatchNorm2d(1024, eps=1e-05, momentum=0.1, affine=True, track_running_stats=True)\n",
       "        (conv3): Conv2d(1024, 2048, kernel_size=(1, 1), stride=(1, 1), bias=False)\n",
       "        (bn3): BatchNorm2d(2048, eps=1e-05, momentum=0.1, affine=True, track_running_stats=True)\n",
       "        (relu): ReLU(inplace=True)\n",
       "        (se_module): SEModule(\n",
       "          (avg_pool): AdaptiveAvgPool2d(output_size=1)\n",
       "          (fc1): Conv2d(2048, 128, kernel_size=(1, 1), stride=(1, 1))\n",
       "          (relu): ReLU(inplace=True)\n",
       "          (fc2): Conv2d(128, 2048, kernel_size=(1, 1), stride=(1, 1))\n",
       "          (sigmoid): Sigmoid()\n",
       "        )\n",
       "      )\n",
       "    )\n",
       "    (avg_pool): AvgPool2d(kernel_size=7, stride=1, padding=0)\n",
       "    (last_linear): Linear(in_features=2048, out_features=1000, bias=True)\n",
       "  )\n",
       ")"
      ]
     },
     "execution_count": 13,
     "metadata": {},
     "output_type": "execute_result"
    }
   ],
   "source": [
    "model = model_dispatcher['se_resnext50_32x4d'](pretrained=False)\n",
    "model"
   ]
  },
  {
   "cell_type": "markdown",
   "metadata": {
    "colab_type": "text",
    "id": "Y7YljolqQiNf"
   },
   "source": [
    "## Training"
   ]
  },
  {
   "cell_type": "code",
   "execution_count": 14,
   "metadata": {
    "colab": {
     "base_uri": "https://localhost:8080/",
     "height": 82,
     "referenced_widgets": [
      "d4d4d122189c4711ac4c1bd6710b580c",
      "17a00be2990145aebf192a5a8712a449",
      "179f2a2fc9074c73b6dde1e210b387ab",
      "9d78a2a8eeed40d087a14f9373d8057e",
      "aab564acf4ab4ffd9e82b7a7a2614da2",
      "d59ced49c7304954a0cbeda571631fbd",
      "bacb074e9b284c57ab832f16645c27b9",
      "93ade18d94c84859a1e052af5a4717f4"
     ]
    },
    "colab_type": "code",
    "executionInfo": {
     "elapsed": 1309688,
     "status": "ok",
     "timestamp": 1587320255524,
     "user": {
      "displayName": "Stanley Dukor",
      "photoUrl": "",
      "userId": "09183284933821269350"
     },
     "user_tz": -60
    },
    "id": "83nJd_tNifva",
    "outputId": "cf30fb33-5e89-4afb-b9de-085475e8e35f"
   },
   "outputs": [],
   "source": [
    "base_model = \"se_resnext50_32x4d\"\n",
    "model = model_dispatcher[base_model](pretrained=True)\n",
    "\n",
    "model = model.to(device)\n",
    "\n",
    "if torch.cuda.device_count() > 1:\n",
    "    model = nn.DataParallel(model)"
   ]
  },
  {
   "cell_type": "code",
   "execution_count": 15,
   "metadata": {
    "colab": {},
    "colab_type": "code",
    "id": "YGwXUcI6ifvc"
   },
   "outputs": [],
   "source": [
    "def train(dataset, data_loader, model):\n",
    "    model.train()\n",
    "    total = []\n",
    "    for bi, (images, labels) in tqdm(enumerate(data_loader), total=int(len(dataset)/data_loader.batch_size)):\n",
    "        images, labels = images.to(device, dtype=torch.float), labels.to(device)\n",
    "        outputs = model(images)\n",
    "        outputs = outputs.to(\"cpu\").detach().numpy()\n",
    "        return outputs\n",
    "        \n",
    "def evaluate(dataset, data_loader, model):\n",
    "    model.eval()\n",
    "    total = []\n",
    "    for bi, (images, labels) in tqdm(enumerate(data_loader), total=int(len(dataset)/data_loader.batch_size)):\n",
    "        images, labels = images.to(device, dtype=torch.float), labels.to(device)\n",
    "        outputs = model(images)\n",
    "        outputs = outputs.to(\"cpu\").detach().numpy()\n",
    "        return outputs"
   ]
  },
  {
   "cell_type": "code",
   "execution_count": 16,
   "metadata": {
    "colab": {},
    "colab_type": "code",
    "id": "uYX4JmN-ifvd",
    "scrolled": true
   },
   "outputs": [
    {
     "name": "stderr",
     "output_type": "stream",
     "text": [
      "  0%|          | 0/65 [00:00<?, ?it/s]\n"
     ]
    }
   ],
   "source": [
    "train_score = train(train_dataset, train_loader, model)\n",
    "# val_score = evaluate(valid_dataset, valid_loader, model)"
   ]
  },
  {
   "cell_type": "code",
   "execution_count": 17,
   "metadata": {},
   "outputs": [
    {
     "data": {
      "text/plain": [
       "array([[4.3071132e-02, 1.9055754e-01, 1.1494508e+00, ..., 1.0063132e+00,\n",
       "        6.5900719e-01, 8.0557525e-01],\n",
       "       [6.1998353e-04, 1.7488647e-01, 4.3868354e-01, ..., 3.3123457e-01,\n",
       "        2.6635740e-02, 3.9607957e-02],\n",
       "       [4.0624225e-01, 0.0000000e+00, 1.4429097e-02, ..., 2.3487978e-02,\n",
       "        0.0000000e+00, 3.7809438e-01],\n",
       "       ...,\n",
       "       [1.3059987e-01, 4.3015582e-03, 1.8689756e-01, ..., 6.3738048e-01,\n",
       "        1.7996086e-02, 1.0542989e-01],\n",
       "       [5.5306703e-01, 2.2628669e-02, 1.1988913e-01, ..., 5.7946706e-01,\n",
       "        1.8389474e+00, 1.5242426e-01],\n",
       "       [1.7075035e-01, 2.2230625e-02, 3.0430835e-01, ..., 6.8227720e-01,\n",
       "        1.2497132e-01, 3.2169238e-01]], dtype=float32)"
      ]
     },
     "execution_count": 17,
     "metadata": {},
     "output_type": "execute_result"
    }
   ],
   "source": [
    "train_score"
   ]
  },
  {
   "cell_type": "code",
   "execution_count": 0,
   "metadata": {
    "colab": {
     "base_uri": "https://localhost:8080/",
     "height": 34
    },
    "colab_type": "code",
    "executionInfo": {
     "elapsed": 1689,
     "status": "ok",
     "timestamp": 1587248940461,
     "user": {
      "displayName": "Stanley Dukor",
      "photoUrl": "",
      "userId": "09183284933821269350"
     },
     "user_tz": -60
    },
    "id": "nlFTjqHfaKIx",
    "outputId": "31cb895f-8be7-4afa-e3f0-f10394b669ad"
   },
   "outputs": [
    {
     "data": {
      "text/plain": [
       "<All keys matched successfully>"
      ]
     },
     "execution_count": 30,
     "metadata": {
      "tags": []
     },
     "output_type": "execute_result"
    }
   ],
   "source": [
    "model_state = torch.load(\"models/\"+f\"{base_model}_fold{validation_folds[0]}.bin\", map_location=lambda storage, loc: storage)\n",
    "model.load_state_dict(model_state, strict=False)"
   ]
  },
  {
   "cell_type": "code",
   "execution_count": 0,
   "metadata": {
    "colab": {
     "base_uri": "https://localhost:8080/",
     "height": 50
    },
    "colab_type": "code",
    "executionInfo": {
     "elapsed": 1173,
     "status": "ok",
     "timestamp": 1587248797118,
     "user": {
      "displayName": "Stanley Dukor",
      "photoUrl": "",
      "userId": "09183284933821269350"
     },
     "user_tz": -60
    },
    "id": "yA7cBzVB2RtA",
    "outputId": "772f41f4-b46d-48c1-a60f-71604b949ede"
   },
   "outputs": [
    {
     "name": "stdout",
     "output_type": "stream",
     "text": [
      "[tensor(0.0216, device='cuda:0', grad_fn=<NllLossBackward>)]\n",
      "Mean: tensor(0.0216, device='cuda:0', grad_fn=<DivBackward0>)\n"
     ]
    }
   ],
   "source": [
    "print(last_val_loss)\n",
    "print(\"Mean:\", sum(last_val_loss)/len(last_val_loss))"
   ]
  },
  {
   "cell_type": "code",
   "execution_count": 0,
   "metadata": {
    "colab": {
     "base_uri": "https://localhost:8080/",
     "height": 281
    },
    "colab_type": "code",
    "executionInfo": {
     "elapsed": 1753,
     "status": "ok",
     "timestamp": 1587248820246,
     "user": {
      "displayName": "Stanley Dukor",
      "photoUrl": "",
      "userId": "09183284933821269350"
     },
     "user_tz": -60
    },
    "id": "lR6OQ7YphR3v",
    "outputId": "4097239a-cd18-4b6e-cee0-9e911819fa48"
   },
   "outputs": [
    {
     "data": {
      "image/png": "[encoded data removed]",
      "text/plain": [
       "<Figure size 432x288 with 1 Axes>"
      ]
     },
     "metadata": {
      "needs_background": "light",
      "tags": []
     },
     "output_type": "display_data"
    }
   ],
   "source": [
    "plt.plot(train_loss_list, label = 'Training loss')\n",
    "plt.plot(valid_loss_list, label = 'Validation loss')\n",
    "plt.legend(frameon = False)\n",
    "plt.title('Training Loss vs Validation Loss')\n",
    "plt.show()"
   ]
  },
  {
   "cell_type": "markdown",
   "metadata": {
    "colab_type": "text",
    "id": "Tc1XTpYny20V"
   },
   "source": [
    "## Train on Full Dataset"
   ]
  },
  {
   "cell_type": "code",
   "execution_count": 0,
   "metadata": {
    "colab": {
     "base_uri": "https://localhost:8080/",
     "height": 1000
    },
    "colab_type": "code",
    "executionInfo": {
     "elapsed": 1958724,
     "status": "ok",
     "timestamp": 1587257967151,
     "user": {
      "displayName": "Stanley Dukor",
      "photoUrl": "",
      "userId": "09183284933821269350"
     },
     "user_tz": -60
    },
    "id": "AOTj9f4Ey56o",
    "outputId": "0c06e85f-1e67-4ece-de75-c1fa973a08c9"
   },
   "outputs": [
    {
     "name": "stderr",
     "output_type": "stream",
     "text": [
      "\n",
      "  7%|▋         | 6/81 [00:06<01:19,  1.06s/it]\u001b[A\n",
      "  9%|▊         | 7/81 [00:07<01:14,  1.01s/it]\u001b[A\n",
      " 10%|▉         | 8/81 [00:08<01:10,  1.03it/s]\u001b[A\n",
      " 11%|█         | 9/81 [00:09<01:07,  1.06it/s]\u001b[A\n",
      " 12%|█▏        | 10/81 [00:09<01:05,  1.09it/s]\u001b[A\n",
      " 14%|█▎        | 11/81 [00:10<01:03,  1.10it/s]\u001b[A\n",
      " 15%|█▍        | 12/81 [00:11<01:01,  1.11it/s]\u001b[A\n",
      " 16%|█▌        | 13/81 [00:12<01:00,  1.12it/s]\u001b[A\n",
      " 17%|█▋        | 14/81 [00:13<00:59,  1.13it/s]\u001b[A\n",
      " 19%|█▊        | 15/81 [00:14<00:58,  1.13it/s]\u001b[A\n",
      " 20%|█▉        | 16/81 [00:15<00:57,  1.14it/s]\u001b[A\n",
      " 21%|██        | 17/81 [00:16<00:56,  1.14it/s]\u001b[A\n",
      " 22%|██▏       | 18/81 [00:16<00:55,  1.14it/s]\u001b[A\n",
      " 23%|██▎       | 19/81 [00:17<00:54,  1.14it/s]\u001b[A\n",
      " 25%|██▍       | 20/81 [00:18<00:53,  1.14it/s]\u001b[A\n",
      " 26%|██▌       | 21/81 [00:19<00:52,  1.14it/s]\u001b[A\n",
      " 27%|██▋       | 22/81 [00:20<00:51,  1.14it/s]\u001b[A\n",
      " 28%|██▊       | 23/81 [00:21<00:50,  1.14it/s]\u001b[A\n",
      " 30%|██▉       | 24/81 [00:22<00:49,  1.14it/s]\u001b[A\n",
      " 31%|███       | 25/81 [00:23<00:48,  1.14it/s]\u001b[A\n",
      " 32%|███▏      | 26/81 [00:23<00:48,  1.14it/s]\u001b[A\n",
      " 33%|███▎      | 27/81 [00:24<00:47,  1.14it/s]\u001b[A\n",
      " 35%|███▍      | 28/81 [00:25<00:46,  1.14it/s]\u001b[A\n",
      " 36%|███▌      | 29/81 [00:26<00:45,  1.14it/s]\u001b[A\n",
      " 37%|███▋      | 30/81 [00:27<00:44,  1.14it/s]\u001b[A\n",
      " 38%|███▊      | 31/81 [00:28<00:43,  1.14it/s]\u001b[A\n",
      " 40%|███▉      | 32/81 [00:29<00:42,  1.15it/s]\u001b[A\n",
      " 41%|████      | 33/81 [00:30<00:41,  1.14it/s]\u001b[A\n",
      " 42%|████▏     | 34/81 [00:30<00:41,  1.15it/s]\u001b[A\n",
      " 43%|████▎     | 35/81 [00:31<00:40,  1.15it/s]\u001b[A\n",
      " 44%|████▍     | 36/81 [00:32<00:39,  1.15it/s]\u001b[A\n",
      " 46%|████▌     | 37/81 [00:33<00:38,  1.15it/s]\u001b[A\n",
      " 47%|████▋     | 38/81 [00:34<00:37,  1.15it/s]\u001b[A\n",
      " 48%|████▊     | 39/81 [00:35<00:36,  1.15it/s]\u001b[A\n",
      " 49%|████▉     | 40/81 [00:36<00:35,  1.14it/s]\u001b[A\n",
      " 51%|█████     | 41/81 [00:37<00:34,  1.14it/s]\u001b[A\n",
      " 52%|█████▏    | 42/81 [00:37<00:34,  1.14it/s]\u001b[A\n",
      " 53%|█████▎    | 43/81 [00:38<00:33,  1.14it/s]\u001b[A\n",
      " 54%|█████▍    | 44/81 [00:39<00:32,  1.14it/s]\u001b[A\n",
      " 56%|█████▌    | 45/81 [00:40<00:31,  1.14it/s]\u001b[A\n",
      " 57%|█████▋    | 46/81 [00:41<00:30,  1.14it/s]\u001b[A\n",
      " 58%|█████▊    | 47/81 [00:42<00:29,  1.14it/s]\u001b[A\n",
      " 59%|█████▉    | 48/81 [00:43<00:28,  1.14it/s]\u001b[A\n",
      " 60%|██████    | 49/81 [00:44<00:28,  1.14it/s]\u001b[A\n",
      " 62%|██████▏   | 50/81 [00:44<00:27,  1.15it/s]\u001b[A\n",
      " 63%|██████▎   | 51/81 [00:45<00:26,  1.14it/s]\u001b[A\n",
      " 64%|██████▍   | 52/81 [00:46<00:25,  1.15it/s]\u001b[A\n",
      " 65%|██████▌   | 53/81 [00:47<00:24,  1.14it/s]\u001b[A\n",
      " 67%|██████▋   | 54/81 [00:48<00:23,  1.14it/s]\u001b[A\n",
      " 68%|██████▊   | 55/81 [00:49<00:22,  1.14it/s]\u001b[A\n",
      " 69%|██████▉   | 56/81 [00:50<00:21,  1.15it/s]\u001b[A\n",
      " 70%|███████   | 57/81 [00:51<00:20,  1.14it/s]\u001b[A\n",
      " 72%|███████▏  | 58/81 [00:51<00:20,  1.15it/s]\u001b[A\n",
      " 73%|███████▎  | 59/81 [00:52<00:19,  1.14it/s]\u001b[A\n",
      " 74%|███████▍  | 60/81 [00:53<00:18,  1.14it/s]\u001b[A\n",
      " 75%|███████▌  | 61/81 [00:54<00:17,  1.14it/s]\u001b[A\n",
      " 77%|███████▋  | 62/81 [00:55<00:16,  1.14it/s]\u001b[A\n",
      " 78%|███████▊  | 63/81 [00:56<00:15,  1.14it/s]\u001b[A\n",
      " 79%|███████▉  | 64/81 [00:57<00:14,  1.14it/s]\u001b[A\n",
      " 80%|████████  | 65/81 [00:58<00:13,  1.14it/s]\u001b[A\n",
      " 81%|████████▏ | 66/81 [00:58<00:13,  1.14it/s]\u001b[A\n",
      " 83%|████████▎ | 67/81 [00:59<00:12,  1.14it/s]\u001b[A\n",
      " 84%|████████▍ | 68/81 [01:00<00:11,  1.14it/s]\u001b[A\n",
      " 85%|████████▌ | 69/81 [01:01<00:10,  1.14it/s]\u001b[A\n",
      " 86%|████████▋ | 70/81 [01:02<00:09,  1.14it/s]\u001b[A\n",
      " 88%|████████▊ | 71/81 [01:03<00:08,  1.14it/s]\u001b[A\n",
      " 89%|████████▉ | 72/81 [01:04<00:07,  1.14it/s]\u001b[A\n",
      " 90%|█████████ | 73/81 [01:05<00:07,  1.14it/s]\u001b[A\n",
      " 91%|█████████▏| 74/81 [01:05<00:06,  1.14it/s]\u001b[A\n",
      " 93%|█████████▎| 75/81 [01:06<00:05,  1.14it/s]\u001b[A\n",
      " 94%|█████████▍| 76/81 [01:07<00:04,  1.15it/s]\u001b[A\n",
      " 95%|█████████▌| 77/81 [01:08<00:03,  1.15it/s]\u001b[A\n",
      " 96%|█████████▋| 78/81 [01:09<00:02,  1.15it/s]\u001b[A\n",
      " 98%|█████████▊| 79/81 [01:10<00:01,  1.15it/s]\u001b[A\n",
      " 99%|█████████▉| 80/81 [01:11<00:00,  1.15it/s]\u001b[A\n",
      "100%|██████████| 81/81 [01:11<00:00,  1.15it/s]\u001b[A\n",
      "82it [01:12,  1.13it/s]\n",
      "\n",
      "  0%|          | 0/81 [00:00<?, ?it/s]\u001b[A\n",
      "  1%|          | 1/81 [00:01<02:11,  1.64s/it]\u001b[A\n",
      "  2%|▏         | 2/81 [00:02<01:53,  1.44s/it]\u001b[A\n",
      "  4%|▎         | 3/81 [00:03<01:39,  1.27s/it]\u001b[A\n",
      "  5%|▍         | 4/81 [00:04<01:28,  1.15s/it]\u001b[A\n",
      "  6%|▌         | 5/81 [00:05<01:21,  1.07s/it]\u001b[A\n",
      "  7%|▋         | 6/81 [00:06<01:15,  1.01s/it]\u001b[A\n",
      "  9%|▊         | 7/81 [00:07<01:12,  1.03it/s]\u001b[A\n",
      " 10%|▉         | 8/81 [00:07<01:08,  1.06it/s]\u001b[A\n",
      " 11%|█         | 9/81 [00:08<01:06,  1.09it/s]\u001b[A\n",
      " 12%|█▏        | 10/81 [00:09<01:04,  1.11it/s]\u001b[A\n",
      " 14%|█▎        | 11/81 [00:10<01:02,  1.11it/s]\u001b[A\n",
      " 15%|█▍        | 12/81 [00:11<01:01,  1.12it/s]\u001b[A\n",
      " 16%|█▌        | 13/81 [00:12<01:00,  1.13it/s]\u001b[A\n",
      " 17%|█▋        | 14/81 [00:13<00:59,  1.13it/s]\u001b[A\n",
      " 19%|█▊        | 15/81 [00:14<00:58,  1.13it/s]\u001b[A\n",
      " 20%|█▉        | 16/81 [00:14<00:57,  1.14it/s]\u001b[A\n",
      " 21%|██        | 17/81 [00:15<00:56,  1.14it/s]\u001b[A\n",
      " 22%|██▏       | 18/81 [00:16<00:55,  1.14it/s]\u001b[A\n",
      " 23%|██▎       | 19/81 [00:17<00:54,  1.14it/s]\u001b[A\n",
      " 25%|██▍       | 20/81 [00:18<00:53,  1.15it/s]\u001b[A\n",
      " 26%|██▌       | 21/81 [00:19<00:52,  1.14it/s]\u001b[A\n",
      " 27%|██▋       | 22/81 [00:20<00:51,  1.14it/s]\u001b[A\n",
      " 28%|██▊       | 23/81 [00:20<00:50,  1.14it/s]\u001b[A\n",
      " 30%|██▉       | 24/81 [00:21<00:49,  1.14it/s]\u001b[A\n",
      " 31%|███       | 25/81 [00:22<00:48,  1.14it/s]\u001b[A\n",
      " 32%|███▏      | 26/81 [00:23<00:48,  1.14it/s]\u001b[A\n",
      " 33%|███▎      | 27/81 [00:24<00:47,  1.14it/s]\u001b[A\n",
      " 35%|███▍      | 28/81 [00:25<00:46,  1.14it/s]\u001b[A\n",
      " 36%|███▌      | 29/81 [00:26<00:45,  1.14it/s]\u001b[A\n",
      " 37%|███▋      | 30/81 [00:27<00:44,  1.14it/s]\u001b[A\n",
      " 38%|███▊      | 31/81 [00:27<00:43,  1.14it/s]\u001b[A\n",
      " 40%|███▉      | 32/81 [00:28<00:42,  1.15it/s]\u001b[A\n",
      " 41%|████      | 33/81 [00:29<00:41,  1.14it/s]\u001b[A\n",
      " 42%|████▏     | 34/81 [00:30<00:41,  1.14it/s]\u001b[A\n",
      " 43%|████▎     | 35/81 [00:31<00:40,  1.14it/s]\u001b[A\n",
      " 44%|████▍     | 36/81 [00:32<00:39,  1.14it/s]\u001b[A\n",
      " 46%|████▌     | 37/81 [00:33<00:38,  1.14it/s]\u001b[A\n",
      " 47%|████▋     | 38/81 [00:34<00:37,  1.15it/s]\u001b[A\n",
      " 48%|████▊     | 39/81 [00:34<00:36,  1.14it/s]\u001b[A\n",
      " 49%|████▉     | 40/81 [00:35<00:35,  1.14it/s]\u001b[A\n",
      " 51%|█████     | 41/81 [00:36<00:34,  1.14it/s]\u001b[A\n",
      " 52%|█████▏    | 42/81 [00:37<00:34,  1.14it/s]\u001b[A\n",
      " 53%|█████▎    | 43/81 [00:38<00:33,  1.14it/s]\u001b[A\n",
      " 54%|█████▍    | 44/81 [00:39<00:32,  1.14it/s]\u001b[A\n",
      " 56%|█████▌    | 45/81 [00:40<00:31,  1.15it/s]\u001b[A\n",
      " 57%|█████▋    | 46/81 [00:41<00:30,  1.15it/s]\u001b[A\n",
      " 58%|█████▊    | 47/81 [00:41<00:29,  1.15it/s]\u001b[A\n",
      " 59%|█████▉    | 48/81 [00:42<00:28,  1.15it/s]\u001b[A"
     ]
    }
   ],
   "source": [
    "train_dataset = from_df(train_dir, df_folds, (0, 1, 2, 3, 4), ('image', 'target'))\n",
    "train_loader = DataLoader(train_dataset, batch_size = 16, shuffle=True, num_workers=4)\n",
    "\n",
    "epochs = 50\n",
    "# sum(last_epoch)//len(last_epoch)\n",
    "save_dir = 'models/'\n",
    "\n",
    "for epoch in range(epochs):\n",
    "    if not os.path.exists(save_dir):\n",
    "        os.makedirs(save_dir)\n",
    "\n",
    "    train_score = train(train_dataset, train_loader, model, optimizer)\n",
    "    scheduler.step(train_score)\n",
    "\n",
    "torch.save(model.state_dict(), \"model.pt\")"
   ]
  },
  {
   "cell_type": "markdown",
   "metadata": {
    "colab_type": "text",
    "id": "fDAdVuRhP-i1"
   },
   "source": [
    "## Load Best Model"
   ]
  },
  {
   "cell_type": "code",
   "execution_count": 0,
   "metadata": {
    "colab": {},
    "colab_type": "code",
    "id": "nMY0Gc67PoE-"
   },
   "outputs": [],
   "source": [
    "def load_checkpoint(file='model.pt'):\n",
    "    model_state = torch.load(file, map_location=lambda storage, loc: storage)\n",
    "    model.load_state_dict(model_state, strict=False)\n",
    "    return model\n",
    "\n",
    "model = load_checkpoint()\n",
    "model = model.to(device)"
   ]
  },
  {
   "cell_type": "markdown",
   "metadata": {
    "colab_type": "text",
    "id": "D7eyRWOyQEdp"
   },
   "source": [
    "## Load Test Data"
   ]
  },
  {
   "cell_type": "code",
   "execution_count": 0,
   "metadata": {
    "colab": {},
    "colab_type": "code",
    "id": "5hqubclVQCF-"
   },
   "outputs": [],
   "source": [
    "testset = from_df(test_dir, df_sample, validation_folds, 'image', mode='test')\n",
    "testloader = DataLoader(testset, batch_size = 64, shuffle=False, num_workers=4)"
   ]
  },
  {
   "cell_type": "markdown",
   "metadata": {
    "colab_type": "text",
    "id": "WZ2h4IXUQdIv"
   },
   "source": [
    "## Testing"
   ]
  },
  {
   "cell_type": "code",
   "execution_count": 0,
   "metadata": {
    "colab": {},
    "colab_type": "code",
    "id": "jOD0OscJQcb0"
   },
   "outputs": [],
   "source": [
    "model.eval()\n",
    "fn_list = []\n",
    "pred_list = []\n",
    "for x, fn in testloader:\n",
    "    with torch.no_grad():\n",
    "        x = x.to(device)\n",
    "        output = model(x)\n",
    "        pred = torch.sigmoid(output)[:, 1]\n",
    "        fn_list += [n for n in fn]\n",
    "        pred_list += [p.item() for p in pred]\n",
    "\n",
    "submission = pd.DataFrame(np.stack([fn_list, pred_list], axis=1), columns=df_sample.columns)\n",
    "submission.to_csv('submission.csv', index=False)"
   ]
  },
  {
   "cell_type": "code",
   "execution_count": 0,
   "metadata": {
    "colab": {},
    "colab_type": "code",
    "id": "t8sxPfEH27vh"
   },
   "outputs": [],
   "source": [
    "submission.head()"
   ]
  },
  {
   "cell_type": "code",
   "execution_count": 0,
   "metadata": {
    "colab": {},
    "colab_type": "code",
    "id": "PEVABlHm1MEh"
   },
   "outputs": [],
   "source": [
    "len(df_sample['image']==submission['image'])"
   ]
  },
  {
   "cell_type": "markdown",
   "metadata": {
    "colab_type": "text",
    "id": "xwyVgM2qTJqw"
   },
   "source": [
    "## Validation"
   ]
  },
  {
   "cell_type": "code",
   "execution_count": 0,
   "metadata": {
    "colab": {},
    "colab_type": "code",
    "id": "1noZfjOJSMW0"
   },
   "outputs": [],
   "source": [
    "samples, _ = iter(testloader).next()\n",
    "samples = samples.to(device)\n",
    "fig = plt.figure(figsize=(24, 16))\n",
    "fig.tight_layout()\n",
    "output = model(samples[:24])\n",
    "pred = torch.sigmoid(output)[:, 1]\n",
    "pred = [p.item() for p in pred]\n",
    "for num, sample in enumerate(samples[:24]):\n",
    "    plt.subplot(4,6,num+1)\n",
    "    plt.title(pred[num])\n",
    "    plt.axis('off')\n",
    "    sample = sample.cpu().numpy()\n",
    "    plt.imshow(np.transpose(sample, (1,2,0)))"
   ]
  },
  {
   "cell_type": "code",
   "execution_count": 0,
   "metadata": {
    "colab": {},
    "colab_type": "code",
    "id": "KS2mA3vJUvd6"
   },
   "outputs": [],
   "source": []
  }
 ],
 "metadata": {
  "accelerator": "GPU",
  "colab": {
   "collapsed_sections": [],
   "name": "Notebook.ipynb",
   "provenance": []
  },
  "kernelspec": {
   "display_name": "Python 3",
   "language": "python",
   "name": "python3"
  },
  "language_info": {
   "codemirror_mode": {
    "name": "ipython",
    "version": 3
   },
   "file_extension": ".py",
   "mimetype": "text/x-python",
   "name": "python",
   "nbconvert_exporter": "python",
   "pygments_lexer": "ipython3",
   "version": "3.7.3"
  },
  "widgets": {
   "application/vnd.jupyter.widget-state+json": {
    "179f2a2fc9074c73b6dde1e210b387ab": {
     "model_module": "@jupyter-widgets/controls",
     "model_name": "IntProgressModel",
     "state": {
      "_dom_classes": [],
      "_model_module": "@jupyter-widgets/controls",
      "_model_module_version": "1.5.0",
      "_model_name": "IntProgressModel",
      "_view_count": null,
      "_view_module": "@jupyter-widgets/controls",
      "_view_module_version": "1.5.0",
      "_view_name": "ProgressView",
      "bar_style": "success",
      "description": "100%",
      "description_tooltip": null,
      "layout": "IPY_MODEL_d59ced49c7304954a0cbeda571631fbd",
      "max": 461488402,
      "min": 0,
      "orientation": "horizontal",
      "style": "IPY_MODEL_aab564acf4ab4ffd9e82b7a7a2614da2",
      "value": 461488402
     }
    },
    "17a00be2990145aebf192a5a8712a449": {
     "model_module": "@jupyter-widgets/base",
     "model_name": "LayoutModel",
     "state": {
      "_model_module": "@jupyter-widgets/base",
      "_model_module_version": "1.2.0",
      "_model_name": "LayoutModel",
      "_view_count": null,
      "_view_module": "@jupyter-widgets/base",
      "_view_module_version": "1.2.0",
      "_view_name": "LayoutView",
      "align_content": null,
      "align_items": null,
      "align_self": null,
      "border": null,
      "bottom": null,
      "display": null,
      "flex": null,
      "flex_flow": null,
      "grid_area": null,
      "grid_auto_columns": null,
      "grid_auto_flow": null,
      "grid_auto_rows": null,
      "grid_column": null,
      "grid_gap": null,
      "grid_row": null,
      "grid_template_areas": null,
      "grid_template_columns": null,
      "grid_template_rows": null,
      "height": null,
      "justify_content": null,
      "justify_items": null,
      "left": null,
      "margin": null,
      "max_height": null,
      "max_width": null,
      "min_height": null,
      "min_width": null,
      "object_fit": null,
      "object_position": null,
      "order": null,
      "overflow": null,
      "overflow_x": null,
      "overflow_y": null,
      "padding": null,
      "right": null,
      "top": null,
      "visibility": null,
      "width": null
     }
    },
    "93ade18d94c84859a1e052af5a4717f4": {
     "model_module": "@jupyter-widgets/base",
     "model_name": "LayoutModel",
     "state": {
      "_model_module": "@jupyter-widgets/base",
      "_model_module_version": "1.2.0",
      "_model_name": "LayoutModel",
      "_view_count": null,
      "_view_module": "@jupyter-widgets/base",
      "_view_module_version": "1.2.0",
      "_view_name": "LayoutView",
      "align_content": null,
      "align_items": null,
      "align_self": null,
      "border": null,
      "bottom": null,
      "display": null,
      "flex": null,
      "flex_flow": null,
      "grid_area": null,
      "grid_auto_columns": null,
      "grid_auto_flow": null,
      "grid_auto_rows": null,
      "grid_column": null,
      "grid_gap": null,
      "grid_row": null,
      "grid_template_areas": null,
      "grid_template_columns": null,
      "grid_template_rows": null,
      "height": null,
      "justify_content": null,
      "justify_items": null,
      "left": null,
      "margin": null,
      "max_height": null,
      "max_width": null,
      "min_height": null,
      "min_width": null,
      "object_fit": null,
      "object_position": null,
      "order": null,
      "overflow": null,
      "overflow_x": null,
      "overflow_y": null,
      "padding": null,
      "right": null,
      "top": null,
      "visibility": null,
      "width": null
     }
    },
    "9d78a2a8eeed40d087a14f9373d8057e": {
     "model_module": "@jupyter-widgets/controls",
     "model_name": "HTMLModel",
     "state": {
      "_dom_classes": [],
      "_model_module": "@jupyter-widgets/controls",
      "_model_module_version": "1.5.0",
      "_model_name": "HTMLModel",
      "_view_count": null,
      "_view_module": "@jupyter-widgets/controls",
      "_view_module_version": "1.5.0",
      "_view_name": "HTMLView",
      "description": "",
      "description_tooltip": null,
      "layout": "IPY_MODEL_93ade18d94c84859a1e052af5a4717f4",
      "placeholder": "​",
      "style": "IPY_MODEL_bacb074e9b284c57ab832f16645c27b9",
      "value": " 440M/440M [21:37&lt;00:00, 356kB/s]"
     }
    },
    "aab564acf4ab4ffd9e82b7a7a2614da2": {
     "model_module": "@jupyter-widgets/controls",
     "model_name": "ProgressStyleModel",
     "state": {
      "_model_module": "@jupyter-widgets/controls",
      "_model_module_version": "1.5.0",
      "_model_name": "ProgressStyleModel",
      "_view_count": null,
      "_view_module": "@jupyter-widgets/base",
      "_view_module_version": "1.2.0",
      "_view_name": "StyleView",
      "bar_color": null,
      "description_width": "initial"
     }
    },
    "bacb074e9b284c57ab832f16645c27b9": {
     "model_module": "@jupyter-widgets/controls",
     "model_name": "DescriptionStyleModel",
     "state": {
      "_model_module": "@jupyter-widgets/controls",
      "_model_module_version": "1.5.0",
      "_model_name": "DescriptionStyleModel",
      "_view_count": null,
      "_view_module": "@jupyter-widgets/base",
      "_view_module_version": "1.2.0",
      "_view_name": "StyleView",
      "description_width": ""
     }
    },
    "d4d4d122189c4711ac4c1bd6710b580c": {
     "model_module": "@jupyter-widgets/controls",
     "model_name": "HBoxModel",
     "state": {
      "_dom_classes": [],
      "_model_module": "@jupyter-widgets/controls",
      "_model_module_version": "1.5.0",
      "_model_name": "HBoxModel",
      "_view_count": null,
      "_view_module": "@jupyter-widgets/controls",
      "_view_module_version": "1.5.0",
      "_view_name": "HBoxView",
      "box_style": "",
      "children": [
       "IPY_MODEL_179f2a2fc9074c73b6dde1e210b387ab",
       "IPY_MODEL_9d78a2a8eeed40d087a14f9373d8057e"
      ],
      "layout": "IPY_MODEL_17a00be2990145aebf192a5a8712a449"
     }
    },
    "d59ced49c7304954a0cbeda571631fbd": {
     "model_module": "@jupyter-widgets/base",
     "model_name": "LayoutModel",
     "state": {
      "_model_module": "@jupyter-widgets/base",
      "_model_module_version": "1.2.0",
      "_model_name": "LayoutModel",
      "_view_count": null,
      "_view_module": "@jupyter-widgets/base",
      "_view_module_version": "1.2.0",
      "_view_name": "LayoutView",
      "align_content": null,
      "align_items": null,
      "align_self": null,
      "border": null,
      "bottom": null,
      "display": null,
      "flex": null,
      "flex_flow": null,
      "grid_area": null,
      "grid_auto_columns": null,
      "grid_auto_flow": null,
      "grid_auto_rows": null,
      "grid_column": null,
      "grid_gap": null,
      "grid_row": null,
      "grid_template_areas": null,
      "grid_template_columns": null,
      "grid_template_rows": null,
      "height": null,
      "justify_content": null,
      "justify_items": null,
      "left": null,
      "margin": null,
      "max_height": null,
      "max_width": null,
      "min_height": null,
      "min_width": null,
      "object_fit": null,
      "object_position": null,
      "order": null,
      "overflow": null,
      "overflow_x": null,
      "overflow_y": null,
      "padding": null,
      "right": null,
      "top": null,
      "visibility": null,
      "width": null
     }
    }
   }
  }
 },
 "nbformat": 4,
 "nbformat_minor": 1
}
