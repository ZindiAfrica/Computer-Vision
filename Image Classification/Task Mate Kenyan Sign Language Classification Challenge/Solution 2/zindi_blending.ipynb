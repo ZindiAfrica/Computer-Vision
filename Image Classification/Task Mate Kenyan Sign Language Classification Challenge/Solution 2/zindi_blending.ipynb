{
 "cells": [
  {
   "cell_type": "code",
   "execution_count": 1,
   "metadata": {
    "id": "GZtmhQ9yxKRl"
   },
   "outputs": [],
   "source": [
    "import pandas as pd\n",
    "import numpy as np\n",
    "import os\n",
    "from sklearn.metrics import log_loss"
   ]
  },
  {
   "cell_type": "code",
   "execution_count": 2,
   "metadata": {
    "id": "tUsCCJRsuFTS"
   },
   "outputs": [],
   "source": [
    "class Config:\n",
    "    DATA_DIR = './data'\n",
    "    OUTPUT_DIR = './outputs'"
   ]
  },
  {
   "cell_type": "code",
   "execution_count": 3,
   "metadata": {
    "id": "a7j1KFvw57DP"
   },
   "outputs": [],
   "source": [
    "def get_weighted_gm(vers=[], weights=[]):\n",
    "\n",
    "    prod = (vers[0][fts] * 0)+1\n",
    "    for w, ver in zip(weights, vers):\n",
    "        prod *= ver[fts] ** w\n",
    "    return prod"
   ]
  },
  {
   "cell_type": "code",
   "execution_count": 4,
   "metadata": {
    "colab": {
     "base_uri": "https://localhost:8080/"
    },
    "id": "xTj_kBrur29g",
    "outputId": "f60d7c06-b8ed-4cc4-f1c9-35f107169a11"
   },
   "outputs": [],
   "source": [
    "def read_ver(ver_path, test=False):\n",
    "\n",
    "    tmp_df = pd.concat([pd.read_csv(os.path.join(ver_path, c)) for c in os.listdir(ver_path) if 'val' in c])\n",
    "    tmp_df = tmp_df.sort_values(by='img_IDS').reset_index(drop=True)\n",
    "\n",
    "    if test:\n",
    "        tmp_df = pd.concat([pd.read_csv(os.path.join(ver_path, c)) for c in os.listdir(ver_path) if 'test_preds_fold_' in c])\n",
    "        fts = tmp_df.columns[1:]\n",
    "        tmp_df = tmp_df.groupby('img_IDS', as_index=False)[fts].apply(lambda x: np.exp(np.mean(np.log(x)))) \n",
    "        tmp_df = tmp_df.sort_values(by='img_IDS').reset_index(drop=True)\n",
    "    return tmp_df"
   ]
  },
  {
   "cell_type": "code",
   "execution_count": 5,
   "metadata": {
    "colab": {
     "base_uri": "https://localhost:8080/"
    },
    "id": "3l8jgAdAk4Sg",
    "outputId": "17fed203-c5f2-4699-c845-c88ccf38d604"
   },
   "outputs": [
    {
     "name": "stdout",
     "output_type": "stream",
     "text": [
      "0.9999999999999999\n"
     ]
    }
   ],
   "source": [
    "v7 = read_ver(os.path.join(Config.OUTPUT_DIR, 'swin_v7'), test=True)\n",
    "v10 = read_ver(os.path.join(Config.OUTPUT_DIR, 'swin_10'), test=True)\n",
    "v11 = read_ver(os.path.join(Config.OUTPUT_DIR, 'swin_11'), test=True)\n",
    "conv_v5 = read_ver(os.path.join(Config.OUTPUT_DIR, 'conv_v5'), test=True)\n",
    "conv_v7 = read_ver(os.path.join(Config.OUTPUT_DIR, 'conv_v7'), test=True)\n",
    "eff_v1 = read_ver(os.path.join(Config.OUTPUT_DIR, 'effnet_v1'), test=True)\n",
    "\n",
    "blnd = v7.copy()\n",
    "weights = [0.13, 0.12, 0.1,  0.30,    0.2,      0.15]\n",
    "vers =    [v7,   v10,  v11,  conv_v5, conv_v7, eff_v1]\n",
    "print(np.sum(weights))\n",
    "\n",
    "fts = list(v7.columns[1:])\n",
    "blnd[fts] = get_weighted_gm(vers=vers, weights=weights)\n",
    "blnd.to_csv('blnd.csv', index=False)"
   ]
  },
  {
   "cell_type": "code",
   "execution_count": null,
   "metadata": {},
   "outputs": [],
   "source": []
  }
 ],
 "metadata": {
  "colab": {
   "name": "zindi_blending.ipynb",
   "provenance": []
  },
  "kernelspec": {
   "display_name": "Python 3 (ipykernel)",
   "language": "python",
   "name": "python3"
  },
  "language_info": {
   "codemirror_mode": {
    "name": "ipython",
    "version": 3
   },
   "file_extension": ".py",
   "mimetype": "text/x-python",
   "name": "python",
   "nbconvert_exporter": "python",
   "pygments_lexer": "ipython3",
   "version": "3.8.5"
  },
  "toc": {
   "base_numbering": 1,
   "nav_menu": {},
   "number_sections": true,
   "sideBar": true,
   "skip_h1_title": false,
   "title_cell": "Table of Contents",
   "title_sidebar": "Contents",
   "toc_cell": false,
   "toc_position": {},
   "toc_section_display": true,
   "toc_window_display": false
  }
 },
 "nbformat": 4,
 "nbformat_minor": 1
}
