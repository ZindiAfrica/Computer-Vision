{
  "nbformat": 4,
  "nbformat_minor": 0,
  "metadata": {
    "colab": {
      "name": "KenyanSignLanguage-ENSEMBLE",
      "provenance": [],
      "collapsed_sections": []
    },
    "kernelspec": {
      "name": "python3",
      "display_name": "Python 3"
    },
    "language_info": {
      "name": "python"
    }
  },
  "cells": [
    {
      "cell_type": "markdown",
      "metadata": {
        "id": "PQxavDuzHcKZ"
      },
      "source": [
        "# IMPORTS"
      ]
    },
    {
      "cell_type": "code",
      "metadata": {
        "id": "0OL8BbrTG3cZ"
      },
      "source": [
        "#import necessary dependecies\n",
        "import os\n",
        "import warnings\n",
        "import numpy as np  \n",
        "import pandas as pd, os, gc , random\n",
        "from tqdm import tqdm_notebook as tqdm \n",
        "warnings.filterwarnings('ignore') \n",
        "np.random.seed(111)\n",
        "random.seed(111)\n",
        "from sklearn.model_selection import  StratifiedKFold"
      ],
      "execution_count": 2,
      "outputs": []
    },
    {
      "cell_type": "code",
      "metadata": {
        "id": "SHZ1faNdG36c"
      },
      "source": [
        "import datetime\n",
        "import pandas as pd\n",
        "from time import time\n",
        "# from autograd import grad\n",
        "# import autograd.numpy as np\n",
        "import numpy as np\n",
        "from numba import njit\n",
        "from scipy.optimize import minimize, fsolve\n",
        "from sklearn.metrics import log_loss"
      ],
      "execution_count": 3,
      "outputs": []
    },
    {
      "cell_type": "markdown",
      "metadata": {
        "id": "vrzYxyaJHr6Y"
      },
      "source": [
        "# Get Data"
      ]
    },
    {
      "cell_type": "code",
      "metadata": {
        "colab": {
          "base_uri": "https://localhost:8080/",
          "height": 206
        },
        "id": "9dDe2sEZG1f5",
        "outputId": "afcc72e3-4b94-412e-8069-faab4d560d54"
      },
      "source": [
        "Train = pd.read_csv('Train.csv')\n",
        "Train.head()"
      ],
      "execution_count": 4,
      "outputs": [
        {
          "output_type": "execute_result",
          "data": {
            "text/html": [
              "\n",
              "  <div id=\"df-7aa92d6d-b930-437b-9d4f-d4d2acbd412b\">\n",
              "    <div class=\"colab-df-container\">\n",
              "      <div>\n",
              "<style scoped>\n",
              "    .dataframe tbody tr th:only-of-type {\n",
              "        vertical-align: middle;\n",
              "    }\n",
              "\n",
              "    .dataframe tbody tr th {\n",
              "        vertical-align: top;\n",
              "    }\n",
              "\n",
              "    .dataframe thead th {\n",
              "        text-align: right;\n",
              "    }\n",
              "</style>\n",
              "<table border=\"1\" class=\"dataframe\">\n",
              "  <thead>\n",
              "    <tr style=\"text-align: right;\">\n",
              "      <th></th>\n",
              "      <th>img_IDS</th>\n",
              "      <th>Label</th>\n",
              "    </tr>\n",
              "  </thead>\n",
              "  <tbody>\n",
              "    <tr>\n",
              "      <th>0</th>\n",
              "      <td>ImageID_33HMDMJ3</td>\n",
              "      <td>Temple</td>\n",
              "    </tr>\n",
              "    <tr>\n",
              "      <th>1</th>\n",
              "      <td>ImageID_V5POEX4O</td>\n",
              "      <td>Church</td>\n",
              "    </tr>\n",
              "    <tr>\n",
              "      <th>2</th>\n",
              "      <td>ImageID_89CCCCW6</td>\n",
              "      <td>Enough/Satisfied</td>\n",
              "    </tr>\n",
              "    <tr>\n",
              "      <th>3</th>\n",
              "      <td>ImageID_GNJXOWX5</td>\n",
              "      <td>Me</td>\n",
              "    </tr>\n",
              "    <tr>\n",
              "      <th>4</th>\n",
              "      <td>ImageID_7Q9LOP7R</td>\n",
              "      <td>Love</td>\n",
              "    </tr>\n",
              "  </tbody>\n",
              "</table>\n",
              "</div>\n",
              "      <button class=\"colab-df-convert\" onclick=\"convertToInteractive('df-7aa92d6d-b930-437b-9d4f-d4d2acbd412b')\"\n",
              "              title=\"Convert this dataframe to an interactive table.\"\n",
              "              style=\"display:none;\">\n",
              "        \n",
              "  <svg xmlns=\"http://www.w3.org/2000/svg\" height=\"24px\"viewBox=\"0 0 24 24\"\n",
              "       width=\"24px\">\n",
              "    <path d=\"M0 0h24v24H0V0z\" fill=\"none\"/>\n",
              "    <path d=\"M18.56 5.44l.94 2.06.94-2.06 2.06-.94-2.06-.94-.94-2.06-.94 2.06-2.06.94zm-11 1L8.5 8.5l.94-2.06 2.06-.94-2.06-.94L8.5 2.5l-.94 2.06-2.06.94zm10 10l.94 2.06.94-2.06 2.06-.94-2.06-.94-.94-2.06-.94 2.06-2.06.94z\"/><path d=\"M17.41 7.96l-1.37-1.37c-.4-.4-.92-.59-1.43-.59-.52 0-1.04.2-1.43.59L10.3 9.45l-7.72 7.72c-.78.78-.78 2.05 0 2.83L4 21.41c.39.39.9.59 1.41.59.51 0 1.02-.2 1.41-.59l7.78-7.78 2.81-2.81c.8-.78.8-2.07 0-2.86zM5.41 20L4 18.59l7.72-7.72 1.47 1.35L5.41 20z\"/>\n",
              "  </svg>\n",
              "      </button>\n",
              "      \n",
              "  <style>\n",
              "    .colab-df-container {\n",
              "      display:flex;\n",
              "      flex-wrap:wrap;\n",
              "      gap: 12px;\n",
              "    }\n",
              "\n",
              "    .colab-df-convert {\n",
              "      background-color: #E8F0FE;\n",
              "      border: none;\n",
              "      border-radius: 50%;\n",
              "      cursor: pointer;\n",
              "      display: none;\n",
              "      fill: #1967D2;\n",
              "      height: 32px;\n",
              "      padding: 0 0 0 0;\n",
              "      width: 32px;\n",
              "    }\n",
              "\n",
              "    .colab-df-convert:hover {\n",
              "      background-color: #E2EBFA;\n",
              "      box-shadow: 0px 1px 2px rgba(60, 64, 67, 0.3), 0px 1px 3px 1px rgba(60, 64, 67, 0.15);\n",
              "      fill: #174EA6;\n",
              "    }\n",
              "\n",
              "    [theme=dark] .colab-df-convert {\n",
              "      background-color: #3B4455;\n",
              "      fill: #D2E3FC;\n",
              "    }\n",
              "\n",
              "    [theme=dark] .colab-df-convert:hover {\n",
              "      background-color: #434B5C;\n",
              "      box-shadow: 0px 1px 3px 1px rgba(0, 0, 0, 0.15);\n",
              "      filter: drop-shadow(0px 1px 2px rgba(0, 0, 0, 0.3));\n",
              "      fill: #FFFFFF;\n",
              "    }\n",
              "  </style>\n",
              "\n",
              "      <script>\n",
              "        const buttonEl =\n",
              "          document.querySelector('#df-7aa92d6d-b930-437b-9d4f-d4d2acbd412b button.colab-df-convert');\n",
              "        buttonEl.style.display =\n",
              "          google.colab.kernel.accessAllowed ? 'block' : 'none';\n",
              "\n",
              "        async function convertToInteractive(key) {\n",
              "          const element = document.querySelector('#df-7aa92d6d-b930-437b-9d4f-d4d2acbd412b');\n",
              "          const dataTable =\n",
              "            await google.colab.kernel.invokeFunction('convertToInteractive',\n",
              "                                                     [key], {});\n",
              "          if (!dataTable) return;\n",
              "\n",
              "          const docLinkHtml = 'Like what you see? Visit the ' +\n",
              "            '<a target=\"_blank\" href=https://colab.research.google.com/notebooks/data_table.ipynb>data table notebook</a>'\n",
              "            + ' to learn more about interactive tables.';\n",
              "          element.innerHTML = '';\n",
              "          dataTable['output_type'] = 'display_data';\n",
              "          await google.colab.output.renderOutput(dataTable, element);\n",
              "          const docLink = document.createElement('div');\n",
              "          docLink.innerHTML = docLinkHtml;\n",
              "          element.appendChild(docLink);\n",
              "        }\n",
              "      </script>\n",
              "    </div>\n",
              "  </div>\n",
              "  "
            ],
            "text/plain": [
              "            img_IDS             Label\n",
              "0  ImageID_33HMDMJ3            Temple\n",
              "1  ImageID_V5POEX4O            Church\n",
              "2  ImageID_89CCCCW6  Enough/Satisfied\n",
              "3  ImageID_GNJXOWX5                Me\n",
              "4  ImageID_7Q9LOP7R              Love"
            ]
          },
          "metadata": {},
          "execution_count": 4
        }
      ]
    },
    {
      "cell_type": "code",
      "metadata": {
        "id": "sXjfGppbG1dh"
      },
      "source": [
        "targets = Train.Label.unique().tolist()\n",
        "\n",
        "Target_Mapper = dict(zip(targets,[i for i in range(len(targets))]))\n",
        "InverseTarget_Mapper = dict(zip([i for i in range(len(targets))],targets))"
      ],
      "execution_count": 5,
      "outputs": []
    },
    {
      "cell_type": "code",
      "metadata": {
        "id": "iquar2iaG1bA"
      },
      "source": [
        "Train.Label = Train.Label.map(Target_Mapper)"
      ],
      "execution_count": 6,
      "outputs": []
    },
    {
      "cell_type": "code",
      "metadata": {
        "id": "5F5HBzFp5J6P"
      },
      "source": [
        "Test = pd.read_csv('Test.csv')"
      ],
      "execution_count": 7,
      "outputs": []
    },
    {
      "cell_type": "markdown",
      "metadata": {
        "id": "K9b8InHv4oW3"
      },
      "source": [
        "# ENSEMBLE"
      ]
    },
    {
      "cell_type": "code",
      "source": [
        "test_dict = {\n",
        "            'SwinLarge384': 'AssazzinBaseline_swin_large_patch4_window12_384_GmeanPreds_TTAx4.npy', \n",
        "            'SwinBase384': 'AssazzinBaseline_swin_base_patch4_window12_384_GmeanPreds_TTAx4.npy', \n",
        "            'ConvnextXLarge384': 'AssazzinBaseline_convnext_xlarge_GmeanPreds_TTAx4.npy' ,\n",
        "            'ConvnextLarge384': 'AssazzinBaseline_convnext_large_GmeanPreds_TTAx4.npy' ,\n",
        "            'ConvnextBase384': 'AssazzinBaseline_convnext_base_GmeanPreds_TTAx4.npy' ,\n",
        "            'tf_efficientnet_l2_ns_475': 'AssazzinBaseline_tf_efficientnet_l2_ns_475_GmeanPreds_TTAx4.npy' ,\n",
        "            'tf_efficientnet_b7_ns': 'AssazzinBaseline_tf_efficientnet_b7_ns_GmeanPreds_TTAx4.npy' ,\n",
        "           }\n",
        "\n",
        "BlendTest = np.zeros((len(test_dict), Test.shape[0],y_true.shape[1]))\n",
        "for i in range(BlendTest.shape[0]):\n",
        "    BlendTest[i] = np.load(list(test_dict.values())[i])"
      ],
      "metadata": {
        "id": "uLx-aRUEO6Hk"
      },
      "execution_count": null,
      "outputs": []
    },
    {
      "cell_type": "code",
      "metadata": {
        "execution": {
          "iopub.status.busy": "2021-10-04T00:13:20.226948Z",
          "iopub.execute_input": "2021-10-04T00:13:20.227253Z",
          "iopub.status.idle": "2021-10-04T00:13:20.23156Z",
          "shell.execute_reply.started": "2021-10-04T00:13:20.227223Z",
          "shell.execute_reply": "2021-10-04T00:13:20.230462Z"
        },
        "trusted": true,
        "id": "bFyaHu3MzhHh"
      },
      "source": [
        "from scipy.stats.mstats import gmean"
      ],
      "execution_count": null,
      "outputs": []
    },
    {
      "cell_type": "code",
      "metadata": {
        "id": "B6jfa4Hy6Bc3"
      },
      "source": [
        "def weighted_gmean(weights,predictions) :\n",
        "  weighted_gmean = 0\n",
        "  sum_1 =0\n",
        "  sum_2 =0\n",
        "  for i in range(len(weights)) :\n",
        "    sum_1 += weights[i]* np.log(predictions[i])\n",
        "    sum_2 += weights[i]\n",
        "  weighted_gmean += np.exp(sum_1/sum_2)\n",
        "  return weighted_gmean"
      ],
      "execution_count": null,
      "outputs": []
    },
    {
      "cell_type": "code",
      "metadata": {
        "id": "HRfXFwLOMMCH"
      },
      "source": [
        "GmeanPreds = weighted_gmean([0.1170513539840638, 0.04436504005465399, 0.11781987384002074,\n",
        "                             0.16535207293159604, 0.1495350418075401, 0.18654591094796275, \n",
        "                             0.2193307064341627],BlendTest)"
      ],
      "execution_count": null,
      "outputs": []
    },
    {
      "cell_type": "code",
      "metadata": {
        "id": "NTDP2jHLMNbJ"
      },
      "source": [
        "sub = pd.DataFrame(GmeanPreds)\n",
        "sub = sub.rename(columns=InverseTarget_Mapper)\n",
        "sub['img_IDS'] = Test['img_IDS'].values\n",
        "\n",
        "submission = pd.read_csv('SampleSubmission.csv')\n",
        "sub = pd.merge(sub,submission[['img_IDS']],on='img_IDS',how='right')\n",
        "for col in submission.columns[1:] :\n",
        "  submission[col] = sub[col]"
      ],
      "execution_count": null,
      "outputs": []
    },
    {
      "cell_type": "code",
      "metadata": {
        "colab": {
          "base_uri": "https://localhost:8080/",
          "height": 206
        },
        "id": "Kl27GoTeMSGv",
        "outputId": "b6f9d772-5af6-43cd-f10d-e93a62c405fe"
      },
      "source": [
        "submission.head()"
      ],
      "execution_count": null,
      "outputs": [
        {
          "output_type": "execute_result",
          "data": {
            "text/html": [
              "\n",
              "  <div id=\"df-5af565f2-21fc-4745-9c3b-50256350ecc6\">\n",
              "    <div class=\"colab-df-container\">\n",
              "      <div>\n",
              "<style scoped>\n",
              "    .dataframe tbody tr th:only-of-type {\n",
              "        vertical-align: middle;\n",
              "    }\n",
              "\n",
              "    .dataframe tbody tr th {\n",
              "        vertical-align: top;\n",
              "    }\n",
              "\n",
              "    .dataframe thead th {\n",
              "        text-align: right;\n",
              "    }\n",
              "</style>\n",
              "<table border=\"1\" class=\"dataframe\">\n",
              "  <thead>\n",
              "    <tr style=\"text-align: right;\">\n",
              "      <th></th>\n",
              "      <th>img_IDS</th>\n",
              "      <th>Church</th>\n",
              "      <th>Enough/Satisfied</th>\n",
              "      <th>Friend</th>\n",
              "      <th>Love</th>\n",
              "      <th>Me</th>\n",
              "      <th>Mosque</th>\n",
              "      <th>Seat</th>\n",
              "      <th>Temple</th>\n",
              "      <th>You</th>\n",
              "    </tr>\n",
              "  </thead>\n",
              "  <tbody>\n",
              "    <tr>\n",
              "      <th>0</th>\n",
              "      <td>ImageID_USRB8QNG</td>\n",
              "      <td>0.001711</td>\n",
              "      <td>0.000192</td>\n",
              "      <td>0.000062</td>\n",
              "      <td>0.000086</td>\n",
              "      <td>0.000114</td>\n",
              "      <td>0.000185</td>\n",
              "      <td>0.000043</td>\n",
              "      <td>0.995613</td>\n",
              "      <td>0.000294</td>\n",
              "    </tr>\n",
              "    <tr>\n",
              "      <th>1</th>\n",
              "      <td>ImageID_SZ8D1ZJI</td>\n",
              "      <td>0.000550</td>\n",
              "      <td>0.994667</td>\n",
              "      <td>0.000309</td>\n",
              "      <td>0.000034</td>\n",
              "      <td>0.000086</td>\n",
              "      <td>0.000223</td>\n",
              "      <td>0.000033</td>\n",
              "      <td>0.000158</td>\n",
              "      <td>0.000148</td>\n",
              "    </tr>\n",
              "    <tr>\n",
              "      <th>2</th>\n",
              "      <td>ImageID_4OJO2F8J</td>\n",
              "      <td>0.022211</td>\n",
              "      <td>0.002093</td>\n",
              "      <td>0.000888</td>\n",
              "      <td>0.001297</td>\n",
              "      <td>0.000688</td>\n",
              "      <td>0.969334</td>\n",
              "      <td>0.000698</td>\n",
              "      <td>0.001071</td>\n",
              "      <td>0.000530</td>\n",
              "    </tr>\n",
              "    <tr>\n",
              "      <th>3</th>\n",
              "      <td>ImageID_IEE4XV0B</td>\n",
              "      <td>0.014623</td>\n",
              "      <td>0.001869</td>\n",
              "      <td>0.000712</td>\n",
              "      <td>0.000611</td>\n",
              "      <td>0.000860</td>\n",
              "      <td>0.974974</td>\n",
              "      <td>0.002076</td>\n",
              "      <td>0.000997</td>\n",
              "      <td>0.000712</td>\n",
              "    </tr>\n",
              "    <tr>\n",
              "      <th>4</th>\n",
              "      <td>ImageID_BP0O0WZ9</td>\n",
              "      <td>0.000122</td>\n",
              "      <td>0.000270</td>\n",
              "      <td>0.000062</td>\n",
              "      <td>0.000062</td>\n",
              "      <td>0.000626</td>\n",
              "      <td>0.000098</td>\n",
              "      <td>0.000766</td>\n",
              "      <td>0.000702</td>\n",
              "      <td>0.986968</td>\n",
              "    </tr>\n",
              "  </tbody>\n",
              "</table>\n",
              "</div>\n",
              "      <button class=\"colab-df-convert\" onclick=\"convertToInteractive('df-5af565f2-21fc-4745-9c3b-50256350ecc6')\"\n",
              "              title=\"Convert this dataframe to an interactive table.\"\n",
              "              style=\"display:none;\">\n",
              "        \n",
              "  <svg xmlns=\"http://www.w3.org/2000/svg\" height=\"24px\"viewBox=\"0 0 24 24\"\n",
              "       width=\"24px\">\n",
              "    <path d=\"M0 0h24v24H0V0z\" fill=\"none\"/>\n",
              "    <path d=\"M18.56 5.44l.94 2.06.94-2.06 2.06-.94-2.06-.94-.94-2.06-.94 2.06-2.06.94zm-11 1L8.5 8.5l.94-2.06 2.06-.94-2.06-.94L8.5 2.5l-.94 2.06-2.06.94zm10 10l.94 2.06.94-2.06 2.06-.94-2.06-.94-.94-2.06-.94 2.06-2.06.94z\"/><path d=\"M17.41 7.96l-1.37-1.37c-.4-.4-.92-.59-1.43-.59-.52 0-1.04.2-1.43.59L10.3 9.45l-7.72 7.72c-.78.78-.78 2.05 0 2.83L4 21.41c.39.39.9.59 1.41.59.51 0 1.02-.2 1.41-.59l7.78-7.78 2.81-2.81c.8-.78.8-2.07 0-2.86zM5.41 20L4 18.59l7.72-7.72 1.47 1.35L5.41 20z\"/>\n",
              "  </svg>\n",
              "      </button>\n",
              "      \n",
              "  <style>\n",
              "    .colab-df-container {\n",
              "      display:flex;\n",
              "      flex-wrap:wrap;\n",
              "      gap: 12px;\n",
              "    }\n",
              "\n",
              "    .colab-df-convert {\n",
              "      background-color: #E8F0FE;\n",
              "      border: none;\n",
              "      border-radius: 50%;\n",
              "      cursor: pointer;\n",
              "      display: none;\n",
              "      fill: #1967D2;\n",
              "      height: 32px;\n",
              "      padding: 0 0 0 0;\n",
              "      width: 32px;\n",
              "    }\n",
              "\n",
              "    .colab-df-convert:hover {\n",
              "      background-color: #E2EBFA;\n",
              "      box-shadow: 0px 1px 2px rgba(60, 64, 67, 0.3), 0px 1px 3px 1px rgba(60, 64, 67, 0.15);\n",
              "      fill: #174EA6;\n",
              "    }\n",
              "\n",
              "    [theme=dark] .colab-df-convert {\n",
              "      background-color: #3B4455;\n",
              "      fill: #D2E3FC;\n",
              "    }\n",
              "\n",
              "    [theme=dark] .colab-df-convert:hover {\n",
              "      background-color: #434B5C;\n",
              "      box-shadow: 0px 1px 3px 1px rgba(0, 0, 0, 0.15);\n",
              "      filter: drop-shadow(0px 1px 2px rgba(0, 0, 0, 0.3));\n",
              "      fill: #FFFFFF;\n",
              "    }\n",
              "  </style>\n",
              "\n",
              "      <script>\n",
              "        const buttonEl =\n",
              "          document.querySelector('#df-5af565f2-21fc-4745-9c3b-50256350ecc6 button.colab-df-convert');\n",
              "        buttonEl.style.display =\n",
              "          google.colab.kernel.accessAllowed ? 'block' : 'none';\n",
              "\n",
              "        async function convertToInteractive(key) {\n",
              "          const element = document.querySelector('#df-5af565f2-21fc-4745-9c3b-50256350ecc6');\n",
              "          const dataTable =\n",
              "            await google.colab.kernel.invokeFunction('convertToInteractive',\n",
              "                                                     [key], {});\n",
              "          if (!dataTable) return;\n",
              "\n",
              "          const docLinkHtml = 'Like what you see? Visit the ' +\n",
              "            '<a target=\"_blank\" href=https://colab.research.google.com/notebooks/data_table.ipynb>data table notebook</a>'\n",
              "            + ' to learn more about interactive tables.';\n",
              "          element.innerHTML = '';\n",
              "          dataTable['output_type'] = 'display_data';\n",
              "          await google.colab.output.renderOutput(dataTable, element);\n",
              "          const docLink = document.createElement('div');\n",
              "          docLink.innerHTML = docLinkHtml;\n",
              "          element.appendChild(docLink);\n",
              "        }\n",
              "      </script>\n",
              "    </div>\n",
              "  </div>\n",
              "  "
            ],
            "text/plain": [
              "            img_IDS    Church  Enough/Satisfied  ...      Seat    Temple       You\n",
              "0  ImageID_USRB8QNG  0.001711          0.000192  ...  0.000043  0.995613  0.000294\n",
              "1  ImageID_SZ8D1ZJI  0.000550          0.994667  ...  0.000033  0.000158  0.000148\n",
              "2  ImageID_4OJO2F8J  0.022211          0.002093  ...  0.000698  0.001071  0.000530\n",
              "3  ImageID_IEE4XV0B  0.014623          0.001869  ...  0.002076  0.000997  0.000712\n",
              "4  ImageID_BP0O0WZ9  0.000122          0.000270  ...  0.000766  0.000702  0.986968\n",
              "\n",
              "[5 rows x 10 columns]"
            ]
          },
          "metadata": {},
          "execution_count": 46
        }
      ]
    },
    {
      "cell_type": "code",
      "metadata": {
        "id": "q5N_9sLRMOZv"
      },
      "source": [
        "submission.to_csv(f'ASSAZZIN_WINNING_SUBMISSION.csv',index=False)"
      ],
      "execution_count": null,
      "outputs": []
    }
  ]
}