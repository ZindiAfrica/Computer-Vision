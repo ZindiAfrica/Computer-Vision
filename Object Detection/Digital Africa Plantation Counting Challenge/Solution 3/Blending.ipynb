{
 "cells": [
  {
   "cell_type": "markdown",
   "id": "0c866a9c-6192-4cf1-b8e7-1b96c98953f9",
   "metadata": {
    "tags": []
   },
   "source": [
    "# Specs"
   ]
  },
  {
   "cell_type": "code",
   "execution_count": 1,
   "id": "1961ba0b-d202-4477-8004-63b1c5e5ca34",
   "metadata": {},
   "outputs": [
    {
     "name": "stdout",
     "output_type": "stream",
     "text": [
      "Sun Mar 12 19:04:10 2023       \n",
      "+-----------------------------------------------------------------------------+\n",
      "| NVIDIA-SMI 510.73.05    Driver Version: 510.73.05    CUDA Version: 11.6     |\n",
      "|-------------------------------+----------------------+----------------------+\n",
      "| GPU  Name        Persistence-M| Bus-Id        Disp.A | Volatile Uncorr. ECC |\n",
      "| Fan  Temp  Perf  Pwr:Usage/Cap|         Memory-Usage | GPU-Util  Compute M. |\n",
      "|                               |                      |               MIG M. |\n",
      "|===============================+======================+======================|\n",
      "|   0  NVIDIA A100-SXM...  Off  | 00000000:00:05.0 Off |                    0 |\n",
      "| N/A   26C    P0    49W / 400W |      0MiB / 81920MiB |      0%      Default |\n",
      "|                               |                      |             Disabled |\n",
      "+-------------------------------+----------------------+----------------------+\n",
      "                                                                               \n",
      "+-----------------------------------------------------------------------------+\n",
      "| Processes:                                                                  |\n",
      "|  GPU   GI   CI        PID   Type   Process name                  GPU Memory |\n",
      "|        ID   ID                                                   Usage      |\n",
      "|=============================================================================|\n",
      "|  No running processes found                                                 |\n",
      "+-----------------------------------------------------------------------------+\n"
     ]
    }
   ],
   "source": [
    "!nvidia-smi"
   ]
  },
  {
   "cell_type": "markdown",
   "id": "be2a20d7-05ea-4951-a079-08c8b8a71940",
   "metadata": {},
   "source": [
    "# Imports"
   ]
  },
  {
   "cell_type": "code",
   "execution_count": 2,
   "id": "16825bfc-8853-445c-9e6c-53395bea41d2",
   "metadata": {},
   "outputs": [],
   "source": [
    "import os, gc\n",
    "import copy\n",
    "import math\n",
    "import random\n",
    "import getpass\n",
    "import pandas as pd\n",
    "import numpy as np\n",
    "from time import time, sleep\n",
    "from tqdm.notebook import tqdm\n",
    "from collections import Counter, defaultdict\n",
    "from scipy.ndimage import gaussian_filter\n",
    "\n",
    "import shutil\n",
    "\n",
    "import cv2\n",
    "import matplotlib.pyplot as plt\n",
    "\n",
    "from sklearn.model_selection import train_test_split, KFold\n",
    "from sklearn.metrics import f1_score, mean_squared_error"
   ]
  },
  {
   "cell_type": "code",
   "execution_count": 3,
   "id": "d587dcf4-955f-439d-8b42-3de3e579d331",
   "metadata": {},
   "outputs": [],
   "source": [
    "from glob import glob"
   ]
  },
  {
   "cell_type": "code",
   "execution_count": 4,
   "id": "3d2c9dd0-70b0-4b45-b5c0-391ce532e6a1",
   "metadata": {},
   "outputs": [],
   "source": [
    "import torch\n",
    "import torch.nn as nn\n",
    "import torch.nn.functional as F\n",
    "from torch.utils.data import Dataset as TDataset, DataLoader\n",
    "from torch.optim.lr_scheduler import LambdaLR, CosineAnnealingLR\n",
    "\n",
    "from accelerate import Accelerator\n",
    "\n",
    "import albumentations as A\n",
    "import timm"
   ]
  },
  {
   "cell_type": "code",
   "execution_count": 5,
   "id": "20a120b4-51ef-49dc-9748-873fbd66e3a9",
   "metadata": {},
   "outputs": [
    {
     "name": "stdout",
     "output_type": "stream",
     "text": [
      "pandas        : 1.5.0\n",
      "albumentations: 1.3.0\n",
      "matplotlib    : 3.6.1\n",
      "cv2           : 4.7.0\n",
      "numpy         : 1.23.4\n",
      "torch         : 1.13.1+cu116\n",
      "timm          : 0.6.12\n",
      "\n"
     ]
    }
   ],
   "source": [
    "%load_ext watermark\n",
    "%watermark --iversions"
   ]
  },
  {
   "cell_type": "markdown",
   "id": "563effdb-c378-45ba-8f7e-8d7cc8bf8b08",
   "metadata": {},
   "source": [
    "# Envs"
   ]
  },
  {
   "cell_type": "code",
   "execution_count": 6,
   "id": "c01b0cb9-83b7-46c0-8383-c9384772e1fc",
   "metadata": {},
   "outputs": [],
   "source": [
    "SEED = 42\n",
    "\n",
    "import warnings\n",
    "warnings.filterwarnings('ignore')"
   ]
  },
  {
   "cell_type": "markdown",
   "id": "6cb7fe6b-98d6-4d75-9912-bf1bf44b6643",
   "metadata": {},
   "source": [
    "# Data"
   ]
  },
  {
   "cell_type": "code",
   "execution_count": 7,
   "id": "fe357fad-adaf-4b32-8c8a-3bfba4d57170",
   "metadata": {},
   "outputs": [
    {
     "data": {
      "text/html": [
       "<div>\n",
       "<style scoped>\n",
       "    .dataframe tbody tr th:only-of-type {\n",
       "        vertical-align: middle;\n",
       "    }\n",
       "\n",
       "    .dataframe tbody tr th {\n",
       "        vertical-align: top;\n",
       "    }\n",
       "\n",
       "    .dataframe thead th {\n",
       "        text-align: right;\n",
       "    }\n",
       "</style>\n",
       "<table border=\"1\" class=\"dataframe\">\n",
       "  <thead>\n",
       "    <tr style=\"text-align: right;\">\n",
       "      <th></th>\n",
       "      <th>ImageId</th>\n",
       "      <th>Target</th>\n",
       "    </tr>\n",
       "  </thead>\n",
       "  <tbody>\n",
       "    <tr>\n",
       "      <th>0</th>\n",
       "      <td>Id_jdqw9hlv6j.png</td>\n",
       "      <td>14.0</td>\n",
       "    </tr>\n",
       "    <tr>\n",
       "      <th>1</th>\n",
       "      <td>Id_6xtrolmuvc.png</td>\n",
       "      <td>18.0</td>\n",
       "    </tr>\n",
       "    <tr>\n",
       "      <th>2</th>\n",
       "      <td>Id_2m49sj3xd9.png</td>\n",
       "      <td>0.0</td>\n",
       "    </tr>\n",
       "    <tr>\n",
       "      <th>3</th>\n",
       "      <td>Id_9jwg5pcnn4.png</td>\n",
       "      <td>28.0</td>\n",
       "    </tr>\n",
       "    <tr>\n",
       "      <th>4</th>\n",
       "      <td>Id_vnm6e8n0p3.png</td>\n",
       "      <td>21.0</td>\n",
       "    </tr>\n",
       "  </tbody>\n",
       "</table>\n",
       "</div>"
      ],
      "text/plain": [
       "             ImageId  Target\n",
       "0  Id_jdqw9hlv6j.png    14.0\n",
       "1  Id_6xtrolmuvc.png    18.0\n",
       "2  Id_2m49sj3xd9.png     0.0\n",
       "3  Id_9jwg5pcnn4.png    28.0\n",
       "4  Id_vnm6e8n0p3.png    21.0"
      ]
     },
     "execution_count": 7,
     "metadata": {},
     "output_type": "execute_result"
    }
   ],
   "source": [
    "# load files\n",
    "data_path = './data/'\n",
    "\n",
    "train = pd.read_csv(data_path + 'Train.csv')\n",
    "test = pd.read_csv(data_path + 'Test.csv')\n",
    "sample_submission = pd.read_csv(data_path + 'SampleSubmission.csv')\n",
    "\n",
    "# Preview train\n",
    "train.head()"
   ]
  },
  {
   "cell_type": "code",
   "execution_count": 8,
   "id": "c9d2ead2-2302-480b-82b6-37346e9e07ae",
   "metadata": {},
   "outputs": [
    {
     "data": {
      "text/html": [
       "<div>\n",
       "<style scoped>\n",
       "    .dataframe tbody tr th:only-of-type {\n",
       "        vertical-align: middle;\n",
       "    }\n",
       "\n",
       "    .dataframe tbody tr th {\n",
       "        vertical-align: top;\n",
       "    }\n",
       "\n",
       "    .dataframe thead th {\n",
       "        text-align: right;\n",
       "    }\n",
       "</style>\n",
       "<table border=\"1\" class=\"dataframe\">\n",
       "  <thead>\n",
       "    <tr style=\"text-align: right;\">\n",
       "      <th></th>\n",
       "      <th>ImageId</th>\n",
       "    </tr>\n",
       "  </thead>\n",
       "  <tbody>\n",
       "    <tr>\n",
       "      <th>0</th>\n",
       "      <td>Id_ohk78h9ld8.png</td>\n",
       "    </tr>\n",
       "    <tr>\n",
       "      <th>1</th>\n",
       "      <td>Id_eeyj2u4j7y.png</td>\n",
       "    </tr>\n",
       "    <tr>\n",
       "      <th>2</th>\n",
       "      <td>Id_wsd7vx2ifa.png</td>\n",
       "    </tr>\n",
       "    <tr>\n",
       "      <th>3</th>\n",
       "      <td>Id_6vfneamaoh.png</td>\n",
       "    </tr>\n",
       "    <tr>\n",
       "      <th>4</th>\n",
       "      <td>Id_9wil3575fv.png</td>\n",
       "    </tr>\n",
       "  </tbody>\n",
       "</table>\n",
       "</div>"
      ],
      "text/plain": [
       "             ImageId\n",
       "0  Id_ohk78h9ld8.png\n",
       "1  Id_eeyj2u4j7y.png\n",
       "2  Id_wsd7vx2ifa.png\n",
       "3  Id_6vfneamaoh.png\n",
       "4  Id_9wil3575fv.png"
      ]
     },
     "execution_count": 8,
     "metadata": {},
     "output_type": "execute_result"
    }
   ],
   "source": [
    "# Preview test\n",
    "test.head()"
   ]
  },
  {
   "cell_type": "code",
   "execution_count": 9,
   "id": "dd40436e-a4f4-4823-99b3-8ff6c05636de",
   "metadata": {},
   "outputs": [
    {
     "data": {
      "text/html": [
       "<div>\n",
       "<style scoped>\n",
       "    .dataframe tbody tr th:only-of-type {\n",
       "        vertical-align: middle;\n",
       "    }\n",
       "\n",
       "    .dataframe tbody tr th {\n",
       "        vertical-align: top;\n",
       "    }\n",
       "\n",
       "    .dataframe thead th {\n",
       "        text-align: right;\n",
       "    }\n",
       "</style>\n",
       "<table border=\"1\" class=\"dataframe\">\n",
       "  <thead>\n",
       "    <tr style=\"text-align: right;\">\n",
       "      <th></th>\n",
       "      <th>ImageId</th>\n",
       "      <th>Target</th>\n",
       "    </tr>\n",
       "  </thead>\n",
       "  <tbody>\n",
       "    <tr>\n",
       "      <th>0</th>\n",
       "      <td>Id_ohk78h9ld8.png</td>\n",
       "      <td>0</td>\n",
       "    </tr>\n",
       "    <tr>\n",
       "      <th>1</th>\n",
       "      <td>Id_eeyj2u4j7y.png</td>\n",
       "      <td>0</td>\n",
       "    </tr>\n",
       "    <tr>\n",
       "      <th>2</th>\n",
       "      <td>Id_wsd7vx2ifa.png</td>\n",
       "      <td>0</td>\n",
       "    </tr>\n",
       "    <tr>\n",
       "      <th>3</th>\n",
       "      <td>Id_6vfneamaoh.png</td>\n",
       "      <td>0</td>\n",
       "    </tr>\n",
       "    <tr>\n",
       "      <th>4</th>\n",
       "      <td>Id_9wil3575fv.png</td>\n",
       "      <td>0</td>\n",
       "    </tr>\n",
       "  </tbody>\n",
       "</table>\n",
       "</div>"
      ],
      "text/plain": [
       "             ImageId  Target\n",
       "0  Id_ohk78h9ld8.png       0\n",
       "1  Id_eeyj2u4j7y.png       0\n",
       "2  Id_wsd7vx2ifa.png       0\n",
       "3  Id_6vfneamaoh.png       0\n",
       "4  Id_9wil3575fv.png       0"
      ]
     },
     "execution_count": 9,
     "metadata": {},
     "output_type": "execute_result"
    }
   ],
   "source": [
    "# Preview sample submission\n",
    "sample_submission.head()"
   ]
  },
  {
   "cell_type": "markdown",
   "id": "717c4eea-ebba-4afe-8bde-2f37646bfb13",
   "metadata": {},
   "source": [
    "# Utils"
   ]
  },
  {
   "cell_type": "code",
   "execution_count": 10,
   "id": "5b524d68-7b88-4242-84d1-9015f40cf798",
   "metadata": {},
   "outputs": [],
   "source": [
    "def get_common_transforms(size):\n",
    "    return A.Compose([\n",
    "      A.Resize(height=size, width=size, p=1),\n",
    "    ])"
   ]
  },
  {
   "cell_type": "code",
   "execution_count": 11,
   "id": "2e96cec8-1822-4129-b5bf-73974ca259a5",
   "metadata": {},
   "outputs": [],
   "source": [
    "def criterion(preds, biomass):\n",
    "    loss_fn = nn.MSELoss()\n",
    "    return torch.sqrt(loss_fn(preds, biomass))"
   ]
  },
  {
   "cell_type": "code",
   "execution_count": 12,
   "id": "f2a1076b-e3c9-4471-8157-cb53260fd35c",
   "metadata": {},
   "outputs": [],
   "source": [
    "class TreeCountingModel(nn.Module):\n",
    "    def __init__(self, args):\n",
    "        super().__init__()\n",
    "\n",
    "        self.backbone = timm.create_model(\n",
    "            args.arch, num_classes=1, pretrained=False, **args.extra_params\n",
    "        )\n",
    "\n",
    "    def forward(self, x):\n",
    "        x = self.backbone(x)\n",
    "        return x"
   ]
  },
  {
   "cell_type": "code",
   "execution_count": 13,
   "id": "beee4655-7297-443f-8bb6-37aa6e95c6cc",
   "metadata": {},
   "outputs": [],
   "source": [
    "class TreeCountingDataset(torch.utils.data.Dataset):\n",
    "    def __init__(self, args, imagesPath, df, tfms=None):\n",
    "        self.imagespath = imagesPath\n",
    "        self.df = df.reset_index(drop=True)\n",
    "        self.tfms = tfms\n",
    "        self.default_tfms = get_common_transforms(args.img_size)\n",
    "\n",
    "    def __len__(self):\n",
    "        return len(self.df)\n",
    "\n",
    "    def __getitem__(self, idx):\n",
    "        imagename, label, *z = self.df.iloc[idx].values\n",
    "        \n",
    "        path = os.path.join(self.imagespath, imagename)\n",
    "        image = cv2.cvtColor(cv2.imread(path), cv2.COLOR_BGR2RGB)\n",
    "        \n",
    "        if self.tfms is not None:\n",
    "            image = self.tfms(image=image)['image']\n",
    "        \n",
    "        image = self.default_tfms(image=image)['image']\n",
    "        image = torch.tensor(image, dtype=torch.float)\n",
    "        image = torch.permute(image, (2, 0, 1))\n",
    "        \n",
    "        return image, torch.tensor(label, dtype=torch.float)"
   ]
  },
  {
   "cell_type": "code",
   "execution_count": 14,
   "id": "20ef3c9e-8251-4957-a9d8-0bb7b9a0fc77",
   "metadata": {},
   "outputs": [],
   "source": [
    "def get_model(args):\n",
    "    model = TreeCountingModel(args)\n",
    "\n",
    "    return model\n",
    "\n",
    "def load_model(args, fold, model_path, mm='best'):\n",
    "    model = get_model(args)\n",
    "    model.load_state_dict(torch.load(f'{model_path}/{mm}_{fold}.pt'))\n",
    "    model.eval()\n",
    "    \n",
    "    return model"
   ]
  },
  {
   "cell_type": "code",
   "execution_count": 15,
   "id": "c5ca38c5-1d27-4131-9d4b-58a29990f416",
   "metadata": {},
   "outputs": [],
   "source": [
    "def load_splits(args):   \n",
    "    all_splits = {}\n",
    "    for f in range(args.n_split):\n",
    "        all_splits[f] = {\n",
    "          'val': pd.read_csv(f\"folds/{args.n_split}_splits/fold_{f}.csv\")\n",
    "        }\n",
    "        \n",
    "    return all_splits"
   ]
  },
  {
   "cell_type": "code",
   "execution_count": 16,
   "id": "5267b313-81a8-4d56-9042-2db614934797",
   "metadata": {},
   "outputs": [],
   "source": [
    "def infer(dataloader, model):\n",
    "    biomasses = []\n",
    "\n",
    "    model.eval()\n",
    "    with torch.no_grad():\n",
    "        for i, (x, biomass) in enumerate(tqdm(dataloader)):\n",
    "            preds = model(x).squeeze(dim=-1).detach().cpu().numpy()\n",
    "            preds = np.where(preds > 0, preds, 0)\n",
    "\n",
    "            biomasses.extend(preds)\n",
    "\n",
    "    return biomasses\n",
    "\n",
    "\n",
    "################## Run training over folds Function ####################   \n",
    "def release_memory():\n",
    "    gc.collect()\n",
    "    torch.cuda.empty_cache()\n",
    "    torch.cuda.reset_max_memory_allocated()\n",
    "    torch.cuda.synchronize()\n",
    "\n",
    "def run_fold(fold, args, path='./models'):\n",
    "    model_path = f'{path}/{args.arch}-{args.n_split}-{args.img_size}-{args.lr}-{args.bs}'\n",
    "    model_path = sorted(glob(f'{model_path}*'))[-1]\n",
    "    \n",
    "    if fold == 0:\n",
    "        print('Using model located at:', model_path)\n",
    "\n",
    "    test_ds = TreeCountingDataset(\n",
    "        args,\n",
    "        imagesPath='./data/TreeImages/',\n",
    "        df=sample_submission,\n",
    "    )\n",
    "\n",
    "    test_dl = DataLoader(test_ds, batch_size=args.ebs, num_workers=args.workers, pin_memory=True, shuffle=False)\n",
    "\n",
    "    accelerator = Accelerator(fp16=args.fp16)\n",
    "\n",
    "    model = load_model(args, fold, model_path)\n",
    "    model, test_dl = accelerator.prepare(model, test_dl)\n",
    "\n",
    "    preds = infer(test_dl, model)\n",
    "\n",
    "    release_memory()\n",
    "\n",
    "    return preds\n",
    "\n",
    "def run_inference(args):\n",
    "    all_preds = [\n",
    "        run_fold(fold, args) for fold in args.use_folds\n",
    "    ]\n",
    "    \n",
    "    return np.mean(all_preds, axis=0)"
   ]
  },
  {
   "cell_type": "code",
   "execution_count": 17,
   "id": "8e410235-0348-4f8c-9def-e03057dc1865",
   "metadata": {},
   "outputs": [],
   "source": [
    "class InferencePipeline:\n",
    "    def __init__(self, cfg):\n",
    "        self.accelerator = Accelerator(fp16=cfg.fp16)\n",
    "        self.cfg = cfg\n",
    "    \n",
    "    def _predict_fn(self, dataloader, model):\n",
    "        palm_count = []\n",
    "        \n",
    "        model.eval()\n",
    "        with torch.no_grad():\n",
    "            for i, (x, biomass) in enumerate(tqdm(dataloader)):\n",
    "                preds = model(x).squeeze(dim=-1).detach().cpu().numpy()\n",
    "                preds = np.where(preds > 0, preds, 0)\n",
    "\n",
    "                palm_count.extend(preds)\n",
    "\n",
    "        return palm_count\n",
    "\n",
    "    def run_prediction(self, path = './models'):\n",
    "        all_preds = []\n",
    "        \n",
    "        model_path = f'{path}/{self.cfg.arch}-{self.cfg.n_split}-{self.cfg.img_size}-{self.cfg.lr}-{self.cfg.bs}-{self.cfg.model_id}'    \n",
    "        print('Using model located at:', model_path)\n",
    "    \n",
    "        for fold in tqdm(self.cfg.use_folds):\n",
    "            fold_preds = []\n",
    "            \n",
    "            model = load_model(self.cfg, fold, model_path)\n",
    "            model = self.accelerator.prepare(model)\n",
    "        \n",
    "            # Simple Prediction\n",
    "            ds = TreeCountingDataset(self.cfg, imagesPath='./data/TreeImages/', df=sample_submission)\n",
    "            dl = DataLoader(ds, self.cfg.ebs, shuffle=False, num_workers=self.cfg.workers)\n",
    "            dl = self.accelerator.prepare(dl)\n",
    "            fold_preds.append(\n",
    "                self._predict_fn(dl, model)\n",
    "            )\n",
    "\n",
    "            # TTA\n",
    "            for n, tfm in enumerate(self.cfg.tta_tfms):\n",
    "                ds = TreeCountingDataset(self.cfg, imagesPath='./data/TreeImages/', df=sample_submission, tfms=tfm)\n",
    "                dl = DataLoader(ds, self.cfg.ebs, shuffle=False, num_workers=self.cfg.workers)\n",
    "                dl = self.accelerator.prepare(dl)\n",
    "                fold_preds.append(\n",
    "                    self._predict_fn(dl, model)\n",
    "                )\n",
    "            \n",
    "            release_memory()\n",
    "\n",
    "            all_preds.extend(fold_preds)\n",
    "\n",
    "        return all_preds"
   ]
  },
  {
   "cell_type": "code",
   "execution_count": 18,
   "id": "e29516f8-9fc5-4a26-9ac2-4e22bcf2a29f",
   "metadata": {},
   "outputs": [],
   "source": [
    "class ValidationPipeline:\n",
    "    def __init__(self, cfg):\n",
    "        self.cfg = cfg\n",
    "        self.accelerator = Accelerator(fp16=cfg.fp16)\n",
    "    \n",
    "    def _predict_fn(self, dataloader, model):    \n",
    "        all_logits = []\n",
    "        all_labels = []\n",
    "\n",
    "        model.eval()\n",
    "        with torch.no_grad():\n",
    "            for i, (x, label) in enumerate(dataloader):\n",
    "                preds = model(x).squeeze(dim=-1).detach().cpu().numpy()\n",
    "                preds = np.where(preds > 0, preds, 0)\n",
    "\n",
    "                all_logits.extend(preds)\n",
    "                all_labels.extend(label.detach().cpu().numpy())\n",
    "\n",
    "        return all_logits, all_labels\n",
    "    \n",
    "    def run_evaluation(self, path = './models'):\n",
    "        self.all_val_preds, self.all_val_labels = [], []\n",
    "        \n",
    "        model_path = f'{path}/{self.cfg.arch}-{self.cfg.n_split}-{self.cfg.img_size}-{self.cfg.lr}-{self.cfg.bs}-{self.cfg.model_id}'    \n",
    "        print('Using model located at:', model_path)\n",
    "\n",
    "        accelerator = Accelerator(fp16=self.cfg.fp16)\n",
    "    \n",
    "        for fold in tqdm(self.cfg.use_folds, desc='Evaluation'):\n",
    "            model = load_model(self.cfg, fold, model_path)\n",
    "            model = self.accelerator.prepare(model)\n",
    "            \n",
    "            ds = TreeCountingDataset(self.cfg, imagesPath='./data/TreeImages/', df=all_splits[fold]['val'])\n",
    "            dl = DataLoader(ds, self.cfg.ebs, shuffle=False, num_workers=self.cfg.workers)\n",
    "            dl = self.accelerator.prepare(dl)\n",
    "        \n",
    "            v_preds, v_labels = self._predict_fn(dl, model)\n",
    "\n",
    "            self.all_val_preds.extend(v_preds)\n",
    "            self.all_val_labels.extend(v_labels)\n",
    "            \n",
    "            release_memory()\n",
    "            \n",
    "        self.all_val_labels = np.array(self.all_val_labels)\n",
    "        self.all_val_preds = np.array(self.all_val_preds)\n",
    "        \n",
    "        return self.all_val_labels, self.all_val_preds\n",
    "            \n",
    "    def run_evaluation_tta(self, path = './models'):\n",
    "        self.all_val_preds_tta, self.all_val_labels_tta = [], []\n",
    "        \n",
    "        model_path = f'{path}/{self.cfg.arch}-{self.cfg.n_split}-{self.cfg.img_size}-{self.cfg.lr}-{self.cfg.bs}-{self.cfg.model_id}'    \n",
    "        print('Using model located at:', model_path)\n",
    "\n",
    "        accelerator = Accelerator(fp16=self.cfg.fp16)\n",
    "    \n",
    "        for fold in tqdm(self.cfg.use_folds, desc='Evaluation'):\n",
    "            fold_preds = []\n",
    "            \n",
    "            model = load_model(self.cfg, fold, model_path)\n",
    "            model = self.accelerator.prepare(model)\n",
    "            \n",
    "            ds = TreeCountingDataset(self.cfg, imagesPath='./data/TreeImages/', df=all_splits[fold]['val'])\n",
    "            dl = DataLoader(ds, self.cfg.ebs, shuffle=False, num_workers=self.cfg.workers)\n",
    "            dl = self.accelerator.prepare(dl)\n",
    "        \n",
    "            v_preds, v_labels = self._predict_fn(dl, model)\n",
    "            fold_preds.append(v_preds)\n",
    "            \n",
    "            for n, tfm in enumerate(self.cfg.tta_tfms):\n",
    "                ds = TreeCountingDataset(self.cfg, imagesPath='./data/TreeImages/', df=all_splits[fold]['val'], tfms=tfm)\n",
    "                dl = DataLoader(ds, self.cfg.ebs, shuffle=False, num_workers=self.cfg.workers)\n",
    "                dl = self.accelerator.prepare(dl)\n",
    "                v_preds, _ = self._predict_fn(dl, model)\n",
    "                \n",
    "                fold_preds.append(v_preds)\n",
    "\n",
    "            self.all_val_preds_tta.extend(np.mean(fold_preds, axis=0))\n",
    "            self.all_val_labels_tta.extend(v_labels)\n",
    "            \n",
    "            release_memory()\n",
    "            \n",
    "        self.all_val_labels = np.array(self.all_val_labels)\n",
    "        self.all_val_preds = np.array(self.all_val_preds)\n",
    "        \n",
    "        return self.all_val_labels, self.all_val_preds\n",
    "    \n",
    "    @property\n",
    "    def score(self):\n",
    "        return mean_squared_error(self.all_val_labels, self.all_val_preds, squared=False)\n",
    "    \n",
    "    @property\n",
    "    def score_tta(self):\n",
    "        return mean_squared_error(self.all_val_labels_tta, self.all_val_preds_tta, squared=False)"
   ]
  },
  {
   "cell_type": "markdown",
   "id": "c0de588c-aabf-4134-b3a3-c208e25b642b",
   "metadata": {},
   "source": [
    "# Training"
   ]
  },
  {
   "cell_type": "code",
   "execution_count": 19,
   "id": "412e0d03-2e54-4789-95e1-fe31af84a5c0",
   "metadata": {},
   "outputs": [
    {
     "name": "stdout",
     "output_type": "stream",
     "text": [
      "Cpu count: 12\n"
     ]
    }
   ],
   "source": [
    "class CFG:\n",
    "    arch = 'tf_efficientnetv2_s_in21ft1k'\n",
    "    lr = 5e-4\n",
    "    min_lr = 0\n",
    "    wd = 1e-6\n",
    "    epochs = 20\n",
    "    warmup = 0.\n",
    "    bs = 24\n",
    "    ebs = 2 * bs\n",
    "    \n",
    "    n_split = 5\n",
    "    use_folds = list(range(n_split))\n",
    "    actual_split = len(use_folds)\n",
    "\n",
    "    img_size = 1024\n",
    "    model_id = 0\n",
    "    \n",
    "    tta_tfms = []\n",
    "\n",
    "    schedule = True\n",
    "    augment = True\n",
    "    mosaic = False\n",
    "    mosaic_aug = False\n",
    "\n",
    "    fp16 = True\n",
    "    workers = os.cpu_count()\n",
    "    \n",
    "    print('Cpu count:', workers)\n",
    "\n",
    "    extra_params = {\n",
    "    }\n",
    "    \n",
    "    def __init__(self, **kwargs):\n",
    "        self.__update(**kwargs)\n",
    "    \n",
    "    def __update(self, **kwargs):\n",
    "        for k,v in kwargs.items():\n",
    "            setattr(self, k, v)"
   ]
  },
  {
   "cell_type": "code",
   "execution_count": 20,
   "id": "93b35456-0963-47a6-b728-647577f44abb",
   "metadata": {},
   "outputs": [],
   "source": [
    "all_splits = load_splits(CFG())"
   ]
  },
  {
   "cell_type": "code",
   "execution_count": 21,
   "id": "b86583c8-6cf2-4e28-aa6e-ec499c63fed2",
   "metadata": {},
   "outputs": [],
   "source": [
    "tta_tfms = [\n",
    "    A.HorizontalFlip(p=1.0),       \n",
    "    A.VerticalFlip(p=1.0),\n",
    "    A.Blur(blur_limit=3, p=1.0),\n",
    "    A.Compose([\n",
    "        A.HorizontalFlip(p=1.0),       \n",
    "        A.VerticalFlip(p=1.0),\n",
    "        A.Blur(blur_limit=3, p=1.0),\n",
    "    ])\n",
    "]"
   ]
  },
  {
   "cell_type": "code",
   "execution_count": 22,
   "id": "045a8d97-4cfc-4592-87aa-8f16708d776b",
   "metadata": {},
   "outputs": [],
   "source": [
    "regnet_args = CFG(arch = 'regnetz_040h', lr = 1e-3, img_size=768, bs=24, model_id=0, tta_tfms=tta_tfms)\n",
    "seresnet_args = CFG(arch = 'seresnet152d', lr = 5e-4, img_size=1024, bs=24, model_id=0, tta_tfms=tta_tfms)\n",
    "effv2s_args = CFG(arch = 'tf_efficientnetv2_s_in21ft1k', lr = 5e-4, img_size=1024, bs=24, model_id=0, tta_tfms=tta_tfms)\n",
    "convn_args = CFG(arch = 'convnext_small_384_in22ft1k', lr = 1e-4, img_size=1024, bs=8, model_id=0, tta_tfms=tta_tfms)"
   ]
  },
  {
   "cell_type": "code",
   "execution_count": 23,
   "id": "0d80db79-89b3-4195-9b2a-e6cff0479747",
   "metadata": {},
   "outputs": [
    {
     "data": {
      "application/vnd.jupyter.widget-view+json": {
       "model_id": "3b5d0543e7e74a15b8a5c3c0c4433bed",
       "version_major": 2,
       "version_minor": 0
      },
      "text/plain": [
       "  0%|          | 0/4 [00:00<?, ?it/s]"
      ]
     },
     "metadata": {},
     "output_type": "display_data"
    },
    {
     "name": "stdout",
     "output_type": "stream",
     "text": [
      "Using model located at: ./models/regnetz_040h-5-768-0.001-24-1\n"
     ]
    },
    {
     "data": {
      "application/vnd.jupyter.widget-view+json": {
       "model_id": "ecb4df0baf114e1ebdfc93a330fa227c",
       "version_major": 2,
       "version_minor": 0
      },
      "text/plain": [
       "Evaluation:   0%|          | 0/5 [00:00<?, ?it/s]"
      ]
     },
     "metadata": {},
     "output_type": "display_data"
    },
    {
     "name": "stdout",
     "output_type": "stream",
     "text": [
      "Validation score: 1.377299\n",
      "Using model located at: ./models/regnetz_040h-5-768-0.001-24-1\n"
     ]
    },
    {
     "data": {
      "application/vnd.jupyter.widget-view+json": {
       "model_id": "6f1786410ded4cd287d1f71c8a0140cf",
       "version_major": 2,
       "version_minor": 0
      },
      "text/plain": [
       "Evaluation:   0%|          | 0/5 [00:00<?, ?it/s]"
      ]
     },
     "metadata": {},
     "output_type": "display_data"
    },
    {
     "name": "stdout",
     "output_type": "stream",
     "text": [
      "TTA Validation score: 1.3267832\n",
      "Using model located at: ./models/seresnet152d-5-1024-0.0005-24-0\n"
     ]
    },
    {
     "data": {
      "application/vnd.jupyter.widget-view+json": {
       "model_id": "9946f1c30d0d4c9dbf7f898765772cd2",
       "version_major": 2,
       "version_minor": 0
      },
      "text/plain": [
       "Evaluation:   0%|          | 0/5 [00:00<?, ?it/s]"
      ]
     },
     "metadata": {},
     "output_type": "display_data"
    },
    {
     "name": "stdout",
     "output_type": "stream",
     "text": [
      "Validation score: 1.3727744\n",
      "Using model located at: ./models/seresnet152d-5-1024-0.0005-24-0\n"
     ]
    },
    {
     "data": {
      "application/vnd.jupyter.widget-view+json": {
       "model_id": "6143638b55df421e9dd2a1f96896fdb9",
       "version_major": 2,
       "version_minor": 0
      },
      "text/plain": [
       "Evaluation:   0%|          | 0/5 [00:00<?, ?it/s]"
      ]
     },
     "metadata": {},
     "output_type": "display_data"
    },
    {
     "name": "stdout",
     "output_type": "stream",
     "text": [
      "TTA Validation score: 1.3482623\n",
      "Using model located at: ./models/tf_efficientnetv2_s_in21ft1k-5-1024-0.0005-24-1\n"
     ]
    },
    {
     "data": {
      "application/vnd.jupyter.widget-view+json": {
       "model_id": "e6608b1c5ad84e8ba5ae8da12c95d3ca",
       "version_major": 2,
       "version_minor": 0
      },
      "text/plain": [
       "Evaluation:   0%|          | 0/5 [00:00<?, ?it/s]"
      ]
     },
     "metadata": {},
     "output_type": "display_data"
    },
    {
     "name": "stdout",
     "output_type": "stream",
     "text": [
      "Validation score: 1.394153\n",
      "Using model located at: ./models/tf_efficientnetv2_s_in21ft1k-5-1024-0.0005-24-1\n"
     ]
    },
    {
     "data": {
      "application/vnd.jupyter.widget-view+json": {
       "model_id": "41fe969642714ceb9e7af28c7d1d3b1f",
       "version_major": 2,
       "version_minor": 0
      },
      "text/plain": [
       "Evaluation:   0%|          | 0/5 [00:00<?, ?it/s]"
      ]
     },
     "metadata": {},
     "output_type": "display_data"
    },
    {
     "name": "stdout",
     "output_type": "stream",
     "text": [
      "TTA Validation score: 1.3813378\n",
      "Using model located at: ./models/convnext_small_384_in22ft1k-5-1024-0.0001-8-0\n"
     ]
    },
    {
     "data": {
      "application/vnd.jupyter.widget-view+json": {
       "model_id": "3671789e04ee40e38295679f509dbe4d",
       "version_major": 2,
       "version_minor": 0
      },
      "text/plain": [
       "Evaluation:   0%|          | 0/5 [00:00<?, ?it/s]"
      ]
     },
     "metadata": {},
     "output_type": "display_data"
    },
    {
     "name": "stdout",
     "output_type": "stream",
     "text": [
      "Validation score: 1.4548277\n",
      "Using model located at: ./models/convnext_small_384_in22ft1k-5-1024-0.0001-8-0\n"
     ]
    },
    {
     "data": {
      "application/vnd.jupyter.widget-view+json": {
       "model_id": "182d17a578c54df39cafc5f2eec8fd29",
       "version_major": 2,
       "version_minor": 0
      },
      "text/plain": [
       "Evaluation:   0%|          | 0/5 [00:00<?, ?it/s]"
      ]
     },
     "metadata": {},
     "output_type": "display_data"
    },
    {
     "name": "stdout",
     "output_type": "stream",
     "text": [
      "TTA Validation score: 1.4438583\n"
     ]
    }
   ],
   "source": [
    "val_preds = []\n",
    "val_labels = []\n",
    "\n",
    "for args in tqdm([regnet_args, seresnet_args, effv2s_args, convn_args]):\n",
    "    \n",
    "    val_pipeline = ValidationPipeline(args)\n",
    "    _ = val_pipeline.run_evaluation()\n",
    "    print('Validation score:', val_pipeline.score)\n",
    "    _ = val_pipeline.run_evaluation_tta() \n",
    "    print('TTA Validation score:', val_pipeline.score_tta)\n",
    "\n",
    "    val_preds.append(\n",
    "        val_pipeline.all_val_preds_tta\n",
    "    )\n",
    "    val_labels = val_pipeline.all_val_labels"
   ]
  },
  {
   "cell_type": "code",
   "execution_count": 24,
   "id": "e9e2f4dc-5a9f-4e89-826b-9fec3cd1a0c6",
   "metadata": {},
   "outputs": [],
   "source": [
    "from itertools import combinations, combinations_with_replacement, permutations"
   ]
  },
  {
   "cell_type": "code",
   "execution_count": 28,
   "id": "81c3789d-603e-4480-8eb7-858c71e9ed05",
   "metadata": {},
   "outputs": [],
   "source": [
    "n = 4\n",
    "w = np.arange(0, 1, 0.005)\n",
    "combs = list(combinations_with_replacement(w, n))\n",
    "combs = [list(x) for x in combs if sum(x)==1]"
   ]
  },
  {
   "cell_type": "code",
   "execution_count": 29,
   "id": "3a4c91e0-5330-4143-99aa-00e86f8c896b",
   "metadata": {},
   "outputs": [
    {
     "data": {
      "application/vnd.jupyter.widget-view+json": {
       "model_id": "b702d21784dd408dbb9bac89071991db",
       "version_major": 2,
       "version_minor": 0
      },
      "text/plain": [
       "  0%|          | 0/59663 [00:00<?, ?it/s]"
      ]
     },
     "metadata": {},
     "output_type": "display_data"
    }
   ],
   "source": [
    "best_score = np.inf\n",
    "best_w = None\n",
    "best_blend = None\n",
    "\n",
    "for comb in tqdm(combs):\n",
    "    for p_w in permutations(comb):\n",
    "        blend = np.average(val_preds[:n], weights=p_w, axis=0)\n",
    "        sc = mean_squared_error(val_labels, blend, squared=False)\n",
    "        \n",
    "        if sc < best_score:\n",
    "            best_score = sc\n",
    "            best_w = p_w\n",
    "            best_blend = blend"
   ]
  },
  {
   "cell_type": "code",
   "execution_count": 30,
   "id": "e2b43b4a-4e15-48c6-ab7d-f38fc1654daf",
   "metadata": {},
   "outputs": [
    {
     "data": {
      "text/plain": [
       "(1.256211318897102, (0.34500000000000003, 0.24, 0.155, 0.26))"
      ]
     },
     "execution_count": 30,
     "metadata": {},
     "output_type": "execute_result"
    }
   ],
   "source": [
    "best_score, best_w"
   ]
  },
  {
   "cell_type": "code",
   "execution_count": null,
   "id": "b98359cb",
   "metadata": {},
   "outputs": [],
   "source": [
    "best_w = (0.345, 0.24, 0.155, 0.26)"
   ]
  },
  {
   "cell_type": "code",
   "execution_count": 47,
   "id": "2f3852cc-0945-4b1a-952c-7eb289ca9955",
   "metadata": {},
   "outputs": [
    {
     "data": {
      "application/vnd.jupyter.widget-view+json": {
       "model_id": "7e5a6aede7f64ef5841df008e660d6a5",
       "version_major": 2,
       "version_minor": 0
      },
      "text/plain": [
       "  0%|          | 0/4 [00:00<?, ?it/s]"
      ]
     },
     "metadata": {},
     "output_type": "display_data"
    },
    {
     "name": "stdout",
     "output_type": "stream",
     "text": [
      "Using model located at: ./models/regnetz_040h-5-768-0.001-24-1\n"
     ]
    },
    {
     "data": {
      "application/vnd.jupyter.widget-view+json": {
       "model_id": "a548c6819f2144d3a948c05fd4207cde",
       "version_major": 2,
       "version_minor": 0
      },
      "text/plain": [
       "  0%|          | 0/5 [00:00<?, ?it/s]"
      ]
     },
     "metadata": {},
     "output_type": "display_data"
    },
    {
     "data": {
      "application/vnd.jupyter.widget-view+json": {
       "model_id": "8fede20184844b06b2dca582cd9b2908",
       "version_major": 2,
       "version_minor": 0
      },
      "text/plain": [
       "  0%|          | 0/18 [00:00<?, ?it/s]"
      ]
     },
     "metadata": {},
     "output_type": "display_data"
    },
    {
     "data": {
      "application/vnd.jupyter.widget-view+json": {
       "model_id": "3fafc5b44d4048fd93231942ab4e9c44",
       "version_major": 2,
       "version_minor": 0
      },
      "text/plain": [
       "  0%|          | 0/18 [00:00<?, ?it/s]"
      ]
     },
     "metadata": {},
     "output_type": "display_data"
    },
    {
     "data": {
      "application/vnd.jupyter.widget-view+json": {
       "model_id": "8c7b0a4a9911435492d9e580f7ca0fb1",
       "version_major": 2,
       "version_minor": 0
      },
      "text/plain": [
       "  0%|          | 0/18 [00:00<?, ?it/s]"
      ]
     },
     "metadata": {},
     "output_type": "display_data"
    },
    {
     "data": {
      "application/vnd.jupyter.widget-view+json": {
       "model_id": "843225111c834e5e9f2e8b25c6c7b582",
       "version_major": 2,
       "version_minor": 0
      },
      "text/plain": [
       "  0%|          | 0/18 [00:00<?, ?it/s]"
      ]
     },
     "metadata": {},
     "output_type": "display_data"
    },
    {
     "data": {
      "application/vnd.jupyter.widget-view+json": {
       "model_id": "4fcce44477d94354a929ecf1f12a465e",
       "version_major": 2,
       "version_minor": 0
      },
      "text/plain": [
       "  0%|          | 0/18 [00:00<?, ?it/s]"
      ]
     },
     "metadata": {},
     "output_type": "display_data"
    },
    {
     "data": {
      "application/vnd.jupyter.widget-view+json": {
       "model_id": "64123ce4d7214e98aaed632e26eabfab",
       "version_major": 2,
       "version_minor": 0
      },
      "text/plain": [
       "  0%|          | 0/18 [00:00<?, ?it/s]"
      ]
     },
     "metadata": {},
     "output_type": "display_data"
    },
    {
     "data": {
      "application/vnd.jupyter.widget-view+json": {
       "model_id": "1cab351a834f4461a29a335380dff688",
       "version_major": 2,
       "version_minor": 0
      },
      "text/plain": [
       "  0%|          | 0/18 [00:00<?, ?it/s]"
      ]
     },
     "metadata": {},
     "output_type": "display_data"
    },
    {
     "data": {
      "application/vnd.jupyter.widget-view+json": {
       "model_id": "8a43a71da85240e2983de6280c6169b4",
       "version_major": 2,
       "version_minor": 0
      },
      "text/plain": [
       "  0%|          | 0/18 [00:00<?, ?it/s]"
      ]
     },
     "metadata": {},
     "output_type": "display_data"
    },
    {
     "data": {
      "application/vnd.jupyter.widget-view+json": {
       "model_id": "94935adf62f648459a2245081ea56ca7",
       "version_major": 2,
       "version_minor": 0
      },
      "text/plain": [
       "  0%|          | 0/18 [00:00<?, ?it/s]"
      ]
     },
     "metadata": {},
     "output_type": "display_data"
    },
    {
     "data": {
      "application/vnd.jupyter.widget-view+json": {
       "model_id": "94115a0ef2c243e39970003a23b5d8a5",
       "version_major": 2,
       "version_minor": 0
      },
      "text/plain": [
       "  0%|          | 0/18 [00:00<?, ?it/s]"
      ]
     },
     "metadata": {},
     "output_type": "display_data"
    },
    {
     "data": {
      "application/vnd.jupyter.widget-view+json": {
       "model_id": "fb4e625dba2c4209915ab4b220283684",
       "version_major": 2,
       "version_minor": 0
      },
      "text/plain": [
       "  0%|          | 0/18 [00:00<?, ?it/s]"
      ]
     },
     "metadata": {},
     "output_type": "display_data"
    },
    {
     "data": {
      "application/vnd.jupyter.widget-view+json": {
       "model_id": "37b948a46a424eecbd7c1bfb398b9db8",
       "version_major": 2,
       "version_minor": 0
      },
      "text/plain": [
       "  0%|          | 0/18 [00:00<?, ?it/s]"
      ]
     },
     "metadata": {},
     "output_type": "display_data"
    },
    {
     "data": {
      "application/vnd.jupyter.widget-view+json": {
       "model_id": "c2c1bb8384dd4fcfb276b3cbe09b1c2e",
       "version_major": 2,
       "version_minor": 0
      },
      "text/plain": [
       "  0%|          | 0/18 [00:00<?, ?it/s]"
      ]
     },
     "metadata": {},
     "output_type": "display_data"
    },
    {
     "data": {
      "application/vnd.jupyter.widget-view+json": {
       "model_id": "35480487e9af4704b276663160027140",
       "version_major": 2,
       "version_minor": 0
      },
      "text/plain": [
       "  0%|          | 0/18 [00:00<?, ?it/s]"
      ]
     },
     "metadata": {},
     "output_type": "display_data"
    },
    {
     "data": {
      "application/vnd.jupyter.widget-view+json": {
       "model_id": "523e8b5f4b004ab4ad7d4ba3b26a81c7",
       "version_major": 2,
       "version_minor": 0
      },
      "text/plain": [
       "  0%|          | 0/18 [00:00<?, ?it/s]"
      ]
     },
     "metadata": {},
     "output_type": "display_data"
    },
    {
     "data": {
      "application/vnd.jupyter.widget-view+json": {
       "model_id": "a3b2e7b3b51c4568a02437d17a729f9b",
       "version_major": 2,
       "version_minor": 0
      },
      "text/plain": [
       "  0%|          | 0/18 [00:00<?, ?it/s]"
      ]
     },
     "metadata": {},
     "output_type": "display_data"
    },
    {
     "data": {
      "application/vnd.jupyter.widget-view+json": {
       "model_id": "06de5bb07fd84900b381316da3481651",
       "version_major": 2,
       "version_minor": 0
      },
      "text/plain": [
       "  0%|          | 0/18 [00:00<?, ?it/s]"
      ]
     },
     "metadata": {},
     "output_type": "display_data"
    },
    {
     "data": {
      "application/vnd.jupyter.widget-view+json": {
       "model_id": "34483ffaa37546c484cb9a0b0e80908b",
       "version_major": 2,
       "version_minor": 0
      },
      "text/plain": [
       "  0%|          | 0/18 [00:00<?, ?it/s]"
      ]
     },
     "metadata": {},
     "output_type": "display_data"
    },
    {
     "data": {
      "application/vnd.jupyter.widget-view+json": {
       "model_id": "c6716158b72a4076b323f6cd32bb233f",
       "version_major": 2,
       "version_minor": 0
      },
      "text/plain": [
       "  0%|          | 0/18 [00:00<?, ?it/s]"
      ]
     },
     "metadata": {},
     "output_type": "display_data"
    },
    {
     "data": {
      "application/vnd.jupyter.widget-view+json": {
       "model_id": "ce6c5d2ad7d742d2bb108eda5e7df104",
       "version_major": 2,
       "version_minor": 0
      },
      "text/plain": [
       "  0%|          | 0/18 [00:00<?, ?it/s]"
      ]
     },
     "metadata": {},
     "output_type": "display_data"
    },
    {
     "data": {
      "application/vnd.jupyter.widget-view+json": {
       "model_id": "2686f32291af45fc93a2bc8ca4cc268a",
       "version_major": 2,
       "version_minor": 0
      },
      "text/plain": [
       "  0%|          | 0/18 [00:00<?, ?it/s]"
      ]
     },
     "metadata": {},
     "output_type": "display_data"
    },
    {
     "data": {
      "application/vnd.jupyter.widget-view+json": {
       "model_id": "a3b137a88c5643e2a6a9ea2a6dfa38b2",
       "version_major": 2,
       "version_minor": 0
      },
      "text/plain": [
       "  0%|          | 0/18 [00:00<?, ?it/s]"
      ]
     },
     "metadata": {},
     "output_type": "display_data"
    },
    {
     "data": {
      "application/vnd.jupyter.widget-view+json": {
       "model_id": "e178e490483347088e293750ed5315b2",
       "version_major": 2,
       "version_minor": 0
      },
      "text/plain": [
       "  0%|          | 0/18 [00:00<?, ?it/s]"
      ]
     },
     "metadata": {},
     "output_type": "display_data"
    },
    {
     "data": {
      "application/vnd.jupyter.widget-view+json": {
       "model_id": "40eade3fd8a14b8184b0c610ddabfb4c",
       "version_major": 2,
       "version_minor": 0
      },
      "text/plain": [
       "  0%|          | 0/18 [00:00<?, ?it/s]"
      ]
     },
     "metadata": {},
     "output_type": "display_data"
    },
    {
     "data": {
      "application/vnd.jupyter.widget-view+json": {
       "model_id": "cff2ddf9800e4ca6bc507f125897c4d1",
       "version_major": 2,
       "version_minor": 0
      },
      "text/plain": [
       "  0%|          | 0/18 [00:00<?, ?it/s]"
      ]
     },
     "metadata": {},
     "output_type": "display_data"
    },
    {
     "name": "stdout",
     "output_type": "stream",
     "text": [
      "Using model located at: ./models/seresnet152d-5-1024-0.0005-24-0\n"
     ]
    },
    {
     "data": {
      "application/vnd.jupyter.widget-view+json": {
       "model_id": "a3b674be300344adb24d7ca69f3e4360",
       "version_major": 2,
       "version_minor": 0
      },
      "text/plain": [
       "  0%|          | 0/5 [00:00<?, ?it/s]"
      ]
     },
     "metadata": {},
     "output_type": "display_data"
    },
    {
     "data": {
      "application/vnd.jupyter.widget-view+json": {
       "model_id": "9efdfbeff0cd41e0b4d6ec9337a629bb",
       "version_major": 2,
       "version_minor": 0
      },
      "text/plain": [
       "  0%|          | 0/18 [00:00<?, ?it/s]"
      ]
     },
     "metadata": {},
     "output_type": "display_data"
    },
    {
     "data": {
      "application/vnd.jupyter.widget-view+json": {
       "model_id": "62fb83aced5c4fbe90087b5c337c93fe",
       "version_major": 2,
       "version_minor": 0
      },
      "text/plain": [
       "  0%|          | 0/18 [00:00<?, ?it/s]"
      ]
     },
     "metadata": {},
     "output_type": "display_data"
    },
    {
     "data": {
      "application/vnd.jupyter.widget-view+json": {
       "model_id": "4ac2cc28fd5d4595a5ee8e1da354fb58",
       "version_major": 2,
       "version_minor": 0
      },
      "text/plain": [
       "  0%|          | 0/18 [00:00<?, ?it/s]"
      ]
     },
     "metadata": {},
     "output_type": "display_data"
    },
    {
     "data": {
      "application/vnd.jupyter.widget-view+json": {
       "model_id": "ea096785850842d2a58888f5b616331e",
       "version_major": 2,
       "version_minor": 0
      },
      "text/plain": [
       "  0%|          | 0/18 [00:00<?, ?it/s]"
      ]
     },
     "metadata": {},
     "output_type": "display_data"
    },
    {
     "data": {
      "application/vnd.jupyter.widget-view+json": {
       "model_id": "df41e174b9d94937b3b1694a8e5ba22a",
       "version_major": 2,
       "version_minor": 0
      },
      "text/plain": [
       "  0%|          | 0/18 [00:00<?, ?it/s]"
      ]
     },
     "metadata": {},
     "output_type": "display_data"
    },
    {
     "data": {
      "application/vnd.jupyter.widget-view+json": {
       "model_id": "a5fc3624d52f49f08ec0f65ab7c42b6b",
       "version_major": 2,
       "version_minor": 0
      },
      "text/plain": [
       "  0%|          | 0/18 [00:00<?, ?it/s]"
      ]
     },
     "metadata": {},
     "output_type": "display_data"
    },
    {
     "data": {
      "application/vnd.jupyter.widget-view+json": {
       "model_id": "8fc35ebcda3843558387e6e9f01765fa",
       "version_major": 2,
       "version_minor": 0
      },
      "text/plain": [
       "  0%|          | 0/18 [00:00<?, ?it/s]"
      ]
     },
     "metadata": {},
     "output_type": "display_data"
    },
    {
     "data": {
      "application/vnd.jupyter.widget-view+json": {
       "model_id": "0cf5bfc5bea3462aaaa1e954e6a2927c",
       "version_major": 2,
       "version_minor": 0
      },
      "text/plain": [
       "  0%|          | 0/18 [00:00<?, ?it/s]"
      ]
     },
     "metadata": {},
     "output_type": "display_data"
    },
    {
     "data": {
      "application/vnd.jupyter.widget-view+json": {
       "model_id": "157e33cda5654afbbef63607057cc1cd",
       "version_major": 2,
       "version_minor": 0
      },
      "text/plain": [
       "  0%|          | 0/18 [00:00<?, ?it/s]"
      ]
     },
     "metadata": {},
     "output_type": "display_data"
    },
    {
     "data": {
      "application/vnd.jupyter.widget-view+json": {
       "model_id": "b47afaf816b34f3ab85a887dd872d538",
       "version_major": 2,
       "version_minor": 0
      },
      "text/plain": [
       "  0%|          | 0/18 [00:00<?, ?it/s]"
      ]
     },
     "metadata": {},
     "output_type": "display_data"
    },
    {
     "data": {
      "application/vnd.jupyter.widget-view+json": {
       "model_id": "dcf272041fd94fb690e9ae48388398d3",
       "version_major": 2,
       "version_minor": 0
      },
      "text/plain": [
       "  0%|          | 0/18 [00:00<?, ?it/s]"
      ]
     },
     "metadata": {},
     "output_type": "display_data"
    },
    {
     "data": {
      "application/vnd.jupyter.widget-view+json": {
       "model_id": "da5e93782ac5471fb64c95f02a6bf181",
       "version_major": 2,
       "version_minor": 0
      },
      "text/plain": [
       "  0%|          | 0/18 [00:00<?, ?it/s]"
      ]
     },
     "metadata": {},
     "output_type": "display_data"
    },
    {
     "data": {
      "application/vnd.jupyter.widget-view+json": {
       "model_id": "b437134a31e043fe8caec0812d144bed",
       "version_major": 2,
       "version_minor": 0
      },
      "text/plain": [
       "  0%|          | 0/18 [00:00<?, ?it/s]"
      ]
     },
     "metadata": {},
     "output_type": "display_data"
    },
    {
     "data": {
      "application/vnd.jupyter.widget-view+json": {
       "model_id": "6fce4758a8f1460786b25b51650cf725",
       "version_major": 2,
       "version_minor": 0
      },
      "text/plain": [
       "  0%|          | 0/18 [00:00<?, ?it/s]"
      ]
     },
     "metadata": {},
     "output_type": "display_data"
    },
    {
     "data": {
      "application/vnd.jupyter.widget-view+json": {
       "model_id": "587e8cd87b064c3a87996e3cc1835546",
       "version_major": 2,
       "version_minor": 0
      },
      "text/plain": [
       "  0%|          | 0/18 [00:00<?, ?it/s]"
      ]
     },
     "metadata": {},
     "output_type": "display_data"
    },
    {
     "data": {
      "application/vnd.jupyter.widget-view+json": {
       "model_id": "6a20b7dcf51a470cb14f86dbe60a25e2",
       "version_major": 2,
       "version_minor": 0
      },
      "text/plain": [
       "  0%|          | 0/18 [00:00<?, ?it/s]"
      ]
     },
     "metadata": {},
     "output_type": "display_data"
    },
    {
     "data": {
      "application/vnd.jupyter.widget-view+json": {
       "model_id": "37414e89e930423c8f80b37f01876e60",
       "version_major": 2,
       "version_minor": 0
      },
      "text/plain": [
       "  0%|          | 0/18 [00:00<?, ?it/s]"
      ]
     },
     "metadata": {},
     "output_type": "display_data"
    },
    {
     "data": {
      "application/vnd.jupyter.widget-view+json": {
       "model_id": "43d4a09c2e5d4c1a908d07c04d570939",
       "version_major": 2,
       "version_minor": 0
      },
      "text/plain": [
       "  0%|          | 0/18 [00:00<?, ?it/s]"
      ]
     },
     "metadata": {},
     "output_type": "display_data"
    },
    {
     "data": {
      "application/vnd.jupyter.widget-view+json": {
       "model_id": "5992cdce151947d79f8accd1f6ba9122",
       "version_major": 2,
       "version_minor": 0
      },
      "text/plain": [
       "  0%|          | 0/18 [00:00<?, ?it/s]"
      ]
     },
     "metadata": {},
     "output_type": "display_data"
    },
    {
     "data": {
      "application/vnd.jupyter.widget-view+json": {
       "model_id": "4e8548a06d844a6c9c900185b4680e78",
       "version_major": 2,
       "version_minor": 0
      },
      "text/plain": [
       "  0%|          | 0/18 [00:00<?, ?it/s]"
      ]
     },
     "metadata": {},
     "output_type": "display_data"
    },
    {
     "data": {
      "application/vnd.jupyter.widget-view+json": {
       "model_id": "18fdd33a2dc6434585a42650a0fc7de5",
       "version_major": 2,
       "version_minor": 0
      },
      "text/plain": [
       "  0%|          | 0/18 [00:00<?, ?it/s]"
      ]
     },
     "metadata": {},
     "output_type": "display_data"
    },
    {
     "data": {
      "application/vnd.jupyter.widget-view+json": {
       "model_id": "f95ecd79750648098244e34b9370aa96",
       "version_major": 2,
       "version_minor": 0
      },
      "text/plain": [
       "  0%|          | 0/18 [00:00<?, ?it/s]"
      ]
     },
     "metadata": {},
     "output_type": "display_data"
    },
    {
     "data": {
      "application/vnd.jupyter.widget-view+json": {
       "model_id": "0809b73440c0401ba327a6812ac0fdaa",
       "version_major": 2,
       "version_minor": 0
      },
      "text/plain": [
       "  0%|          | 0/18 [00:00<?, ?it/s]"
      ]
     },
     "metadata": {},
     "output_type": "display_data"
    },
    {
     "data": {
      "application/vnd.jupyter.widget-view+json": {
       "model_id": "57ba581684374c43be19207cf2a8af12",
       "version_major": 2,
       "version_minor": 0
      },
      "text/plain": [
       "  0%|          | 0/18 [00:00<?, ?it/s]"
      ]
     },
     "metadata": {},
     "output_type": "display_data"
    },
    {
     "data": {
      "application/vnd.jupyter.widget-view+json": {
       "model_id": "d59a5445d51345b1a63da38d5d4c4d23",
       "version_major": 2,
       "version_minor": 0
      },
      "text/plain": [
       "  0%|          | 0/18 [00:00<?, ?it/s]"
      ]
     },
     "metadata": {},
     "output_type": "display_data"
    },
    {
     "name": "stdout",
     "output_type": "stream",
     "text": [
      "Using model located at: ./models/tf_efficientnetv2_s_in21ft1k-5-1024-0.0005-24-1\n"
     ]
    },
    {
     "data": {
      "application/vnd.jupyter.widget-view+json": {
       "model_id": "2caab7f72c7c4be3b88a89f4d7bfaedf",
       "version_major": 2,
       "version_minor": 0
      },
      "text/plain": [
       "  0%|          | 0/5 [00:00<?, ?it/s]"
      ]
     },
     "metadata": {},
     "output_type": "display_data"
    },
    {
     "data": {
      "application/vnd.jupyter.widget-view+json": {
       "model_id": "03b3cb49c7ef44a895d45e5ccee1eac0",
       "version_major": 2,
       "version_minor": 0
      },
      "text/plain": [
       "  0%|          | 0/18 [00:00<?, ?it/s]"
      ]
     },
     "metadata": {},
     "output_type": "display_data"
    },
    {
     "data": {
      "application/vnd.jupyter.widget-view+json": {
       "model_id": "c76e9505aed745279a246099a8f0cc74",
       "version_major": 2,
       "version_minor": 0
      },
      "text/plain": [
       "  0%|          | 0/18 [00:00<?, ?it/s]"
      ]
     },
     "metadata": {},
     "output_type": "display_data"
    },
    {
     "data": {
      "application/vnd.jupyter.widget-view+json": {
       "model_id": "09eb6d39144c485eb6dd5e12f9e83855",
       "version_major": 2,
       "version_minor": 0
      },
      "text/plain": [
       "  0%|          | 0/18 [00:00<?, ?it/s]"
      ]
     },
     "metadata": {},
     "output_type": "display_data"
    },
    {
     "data": {
      "application/vnd.jupyter.widget-view+json": {
       "model_id": "deb789bb720c4f57bb98d3be21e72a6c",
       "version_major": 2,
       "version_minor": 0
      },
      "text/plain": [
       "  0%|          | 0/18 [00:00<?, ?it/s]"
      ]
     },
     "metadata": {},
     "output_type": "display_data"
    },
    {
     "data": {
      "application/vnd.jupyter.widget-view+json": {
       "model_id": "cc27dfff252a41c9ae4f6ca585a150af",
       "version_major": 2,
       "version_minor": 0
      },
      "text/plain": [
       "  0%|          | 0/18 [00:00<?, ?it/s]"
      ]
     },
     "metadata": {},
     "output_type": "display_data"
    },
    {
     "data": {
      "application/vnd.jupyter.widget-view+json": {
       "model_id": "8d3e740e92094b0fb24ba63f138b2fdd",
       "version_major": 2,
       "version_minor": 0
      },
      "text/plain": [
       "  0%|          | 0/18 [00:00<?, ?it/s]"
      ]
     },
     "metadata": {},
     "output_type": "display_data"
    },
    {
     "data": {
      "application/vnd.jupyter.widget-view+json": {
       "model_id": "3d87e679c5184509a38ad11d5ad9fd04",
       "version_major": 2,
       "version_minor": 0
      },
      "text/plain": [
       "  0%|          | 0/18 [00:00<?, ?it/s]"
      ]
     },
     "metadata": {},
     "output_type": "display_data"
    },
    {
     "data": {
      "application/vnd.jupyter.widget-view+json": {
       "model_id": "0cd6e665a24c4b07b2a38f40a5ca75da",
       "version_major": 2,
       "version_minor": 0
      },
      "text/plain": [
       "  0%|          | 0/18 [00:00<?, ?it/s]"
      ]
     },
     "metadata": {},
     "output_type": "display_data"
    },
    {
     "data": {
      "application/vnd.jupyter.widget-view+json": {
       "model_id": "cbc77eee45894a92a8f9990be34757fa",
       "version_major": 2,
       "version_minor": 0
      },
      "text/plain": [
       "  0%|          | 0/18 [00:00<?, ?it/s]"
      ]
     },
     "metadata": {},
     "output_type": "display_data"
    },
    {
     "data": {
      "application/vnd.jupyter.widget-view+json": {
       "model_id": "2bae2e4d65014f4bab47fe82abf19fc7",
       "version_major": 2,
       "version_minor": 0
      },
      "text/plain": [
       "  0%|          | 0/18 [00:00<?, ?it/s]"
      ]
     },
     "metadata": {},
     "output_type": "display_data"
    },
    {
     "data": {
      "application/vnd.jupyter.widget-view+json": {
       "model_id": "bfb33a774d5144d38076849742421c08",
       "version_major": 2,
       "version_minor": 0
      },
      "text/plain": [
       "  0%|          | 0/18 [00:00<?, ?it/s]"
      ]
     },
     "metadata": {},
     "output_type": "display_data"
    },
    {
     "data": {
      "application/vnd.jupyter.widget-view+json": {
       "model_id": "fb4f9481de964dc78ec70574cb853928",
       "version_major": 2,
       "version_minor": 0
      },
      "text/plain": [
       "  0%|          | 0/18 [00:00<?, ?it/s]"
      ]
     },
     "metadata": {},
     "output_type": "display_data"
    },
    {
     "data": {
      "application/vnd.jupyter.widget-view+json": {
       "model_id": "5e79e62cf6004eff8400dc166b27a610",
       "version_major": 2,
       "version_minor": 0
      },
      "text/plain": [
       "  0%|          | 0/18 [00:00<?, ?it/s]"
      ]
     },
     "metadata": {},
     "output_type": "display_data"
    },
    {
     "data": {
      "application/vnd.jupyter.widget-view+json": {
       "model_id": "cdca07ee30394493b057c46e76c47a8a",
       "version_major": 2,
       "version_minor": 0
      },
      "text/plain": [
       "  0%|          | 0/18 [00:00<?, ?it/s]"
      ]
     },
     "metadata": {},
     "output_type": "display_data"
    },
    {
     "data": {
      "application/vnd.jupyter.widget-view+json": {
       "model_id": "54b68465abad476ba256a708e69be467",
       "version_major": 2,
       "version_minor": 0
      },
      "text/plain": [
       "  0%|          | 0/18 [00:00<?, ?it/s]"
      ]
     },
     "metadata": {},
     "output_type": "display_data"
    },
    {
     "data": {
      "application/vnd.jupyter.widget-view+json": {
       "model_id": "cfe487ae601e4d12a8f2b9e0c311120b",
       "version_major": 2,
       "version_minor": 0
      },
      "text/plain": [
       "  0%|          | 0/18 [00:00<?, ?it/s]"
      ]
     },
     "metadata": {},
     "output_type": "display_data"
    },
    {
     "data": {
      "application/vnd.jupyter.widget-view+json": {
       "model_id": "4426454d514e4488a815c32a72e60470",
       "version_major": 2,
       "version_minor": 0
      },
      "text/plain": [
       "  0%|          | 0/18 [00:00<?, ?it/s]"
      ]
     },
     "metadata": {},
     "output_type": "display_data"
    },
    {
     "data": {
      "application/vnd.jupyter.widget-view+json": {
       "model_id": "db4a26c199a0451db1691818af5755f1",
       "version_major": 2,
       "version_minor": 0
      },
      "text/plain": [
       "  0%|          | 0/18 [00:00<?, ?it/s]"
      ]
     },
     "metadata": {},
     "output_type": "display_data"
    },
    {
     "data": {
      "application/vnd.jupyter.widget-view+json": {
       "model_id": "e15e36e546c14d8da691a07580748d75",
       "version_major": 2,
       "version_minor": 0
      },
      "text/plain": [
       "  0%|          | 0/18 [00:00<?, ?it/s]"
      ]
     },
     "metadata": {},
     "output_type": "display_data"
    },
    {
     "data": {
      "application/vnd.jupyter.widget-view+json": {
       "model_id": "03b4cf44011d4d9c88e2d9bf7c20cb46",
       "version_major": 2,
       "version_minor": 0
      },
      "text/plain": [
       "  0%|          | 0/18 [00:00<?, ?it/s]"
      ]
     },
     "metadata": {},
     "output_type": "display_data"
    },
    {
     "data": {
      "application/vnd.jupyter.widget-view+json": {
       "model_id": "0a86cfaf51f441c9948d782111e8ef79",
       "version_major": 2,
       "version_minor": 0
      },
      "text/plain": [
       "  0%|          | 0/18 [00:00<?, ?it/s]"
      ]
     },
     "metadata": {},
     "output_type": "display_data"
    },
    {
     "data": {
      "application/vnd.jupyter.widget-view+json": {
       "model_id": "dbb43ea321814a7da6d480e43bebdaa3",
       "version_major": 2,
       "version_minor": 0
      },
      "text/plain": [
       "  0%|          | 0/18 [00:00<?, ?it/s]"
      ]
     },
     "metadata": {},
     "output_type": "display_data"
    },
    {
     "data": {
      "application/vnd.jupyter.widget-view+json": {
       "model_id": "e0b53b1ffa4f4ee4b654f4f4533bb746",
       "version_major": 2,
       "version_minor": 0
      },
      "text/plain": [
       "  0%|          | 0/18 [00:00<?, ?it/s]"
      ]
     },
     "metadata": {},
     "output_type": "display_data"
    },
    {
     "data": {
      "application/vnd.jupyter.widget-view+json": {
       "model_id": "daff93157c0a45849654773d3df97e40",
       "version_major": 2,
       "version_minor": 0
      },
      "text/plain": [
       "  0%|          | 0/18 [00:00<?, ?it/s]"
      ]
     },
     "metadata": {},
     "output_type": "display_data"
    },
    {
     "data": {
      "application/vnd.jupyter.widget-view+json": {
       "model_id": "1fac2807ccd944709946f65a8a34024f",
       "version_major": 2,
       "version_minor": 0
      },
      "text/plain": [
       "  0%|          | 0/18 [00:00<?, ?it/s]"
      ]
     },
     "metadata": {},
     "output_type": "display_data"
    },
    {
     "name": "stdout",
     "output_type": "stream",
     "text": [
      "Using model located at: ./models/convnext_small_384_in22ft1k-5-1024-0.0001-8-0\n"
     ]
    },
    {
     "data": {
      "application/vnd.jupyter.widget-view+json": {
       "model_id": "2f5f94917ea546f88c5a7fa4eb1cb3dc",
       "version_major": 2,
       "version_minor": 0
      },
      "text/plain": [
       "  0%|          | 0/5 [00:00<?, ?it/s]"
      ]
     },
     "metadata": {},
     "output_type": "display_data"
    },
    {
     "data": {
      "application/vnd.jupyter.widget-view+json": {
       "model_id": "85cb7a419e9a442386c9313df4524776",
       "version_major": 2,
       "version_minor": 0
      },
      "text/plain": [
       "  0%|          | 0/18 [00:00<?, ?it/s]"
      ]
     },
     "metadata": {},
     "output_type": "display_data"
    },
    {
     "data": {
      "application/vnd.jupyter.widget-view+json": {
       "model_id": "4e8048cdab3846c6b479e7db67448fcc",
       "version_major": 2,
       "version_minor": 0
      },
      "text/plain": [
       "  0%|          | 0/18 [00:00<?, ?it/s]"
      ]
     },
     "metadata": {},
     "output_type": "display_data"
    },
    {
     "data": {
      "application/vnd.jupyter.widget-view+json": {
       "model_id": "df52816b1942448e8eae035657b5a2e8",
       "version_major": 2,
       "version_minor": 0
      },
      "text/plain": [
       "  0%|          | 0/18 [00:00<?, ?it/s]"
      ]
     },
     "metadata": {},
     "output_type": "display_data"
    },
    {
     "data": {
      "application/vnd.jupyter.widget-view+json": {
       "model_id": "5b514b938aa344fd96af5c343b231a0b",
       "version_major": 2,
       "version_minor": 0
      },
      "text/plain": [
       "  0%|          | 0/18 [00:00<?, ?it/s]"
      ]
     },
     "metadata": {},
     "output_type": "display_data"
    },
    {
     "data": {
      "application/vnd.jupyter.widget-view+json": {
       "model_id": "334b100372774a138ad6166b6866b489",
       "version_major": 2,
       "version_minor": 0
      },
      "text/plain": [
       "  0%|          | 0/18 [00:00<?, ?it/s]"
      ]
     },
     "metadata": {},
     "output_type": "display_data"
    },
    {
     "data": {
      "application/vnd.jupyter.widget-view+json": {
       "model_id": "57a29be42fac42549cd4d59b66fc7065",
       "version_major": 2,
       "version_minor": 0
      },
      "text/plain": [
       "  0%|          | 0/18 [00:00<?, ?it/s]"
      ]
     },
     "metadata": {},
     "output_type": "display_data"
    },
    {
     "data": {
      "application/vnd.jupyter.widget-view+json": {
       "model_id": "7f80d95a620449f8b12e84aae2e77783",
       "version_major": 2,
       "version_minor": 0
      },
      "text/plain": [
       "  0%|          | 0/18 [00:00<?, ?it/s]"
      ]
     },
     "metadata": {},
     "output_type": "display_data"
    },
    {
     "data": {
      "application/vnd.jupyter.widget-view+json": {
       "model_id": "de234cecc0894f34894eb3368c332ee9",
       "version_major": 2,
       "version_minor": 0
      },
      "text/plain": [
       "  0%|          | 0/18 [00:00<?, ?it/s]"
      ]
     },
     "metadata": {},
     "output_type": "display_data"
    },
    {
     "data": {
      "application/vnd.jupyter.widget-view+json": {
       "model_id": "028a77505f0a4b3fbaa814165c554586",
       "version_major": 2,
       "version_minor": 0
      },
      "text/plain": [
       "  0%|          | 0/18 [00:00<?, ?it/s]"
      ]
     },
     "metadata": {},
     "output_type": "display_data"
    },
    {
     "data": {
      "application/vnd.jupyter.widget-view+json": {
       "model_id": "22363329022348028af7b4fd52a1e6b0",
       "version_major": 2,
       "version_minor": 0
      },
      "text/plain": [
       "  0%|          | 0/18 [00:00<?, ?it/s]"
      ]
     },
     "metadata": {},
     "output_type": "display_data"
    },
    {
     "data": {
      "application/vnd.jupyter.widget-view+json": {
       "model_id": "43f6d647c1ba445cb62adee88d30f964",
       "version_major": 2,
       "version_minor": 0
      },
      "text/plain": [
       "  0%|          | 0/18 [00:00<?, ?it/s]"
      ]
     },
     "metadata": {},
     "output_type": "display_data"
    },
    {
     "data": {
      "application/vnd.jupyter.widget-view+json": {
       "model_id": "be70fbda731b4dfe9de2d49087744e3d",
       "version_major": 2,
       "version_minor": 0
      },
      "text/plain": [
       "  0%|          | 0/18 [00:00<?, ?it/s]"
      ]
     },
     "metadata": {},
     "output_type": "display_data"
    },
    {
     "data": {
      "application/vnd.jupyter.widget-view+json": {
       "model_id": "b77e2f8140634a52b8694981c75ad0a7",
       "version_major": 2,
       "version_minor": 0
      },
      "text/plain": [
       "  0%|          | 0/18 [00:00<?, ?it/s]"
      ]
     },
     "metadata": {},
     "output_type": "display_data"
    },
    {
     "data": {
      "application/vnd.jupyter.widget-view+json": {
       "model_id": "79a40ba9ada64595a92fa8eaf7762e4e",
       "version_major": 2,
       "version_minor": 0
      },
      "text/plain": [
       "  0%|          | 0/18 [00:00<?, ?it/s]"
      ]
     },
     "metadata": {},
     "output_type": "display_data"
    },
    {
     "data": {
      "application/vnd.jupyter.widget-view+json": {
       "model_id": "b24e7ffe4d614174b1181f6c2cf83b89",
       "version_major": 2,
       "version_minor": 0
      },
      "text/plain": [
       "  0%|          | 0/18 [00:00<?, ?it/s]"
      ]
     },
     "metadata": {},
     "output_type": "display_data"
    },
    {
     "data": {
      "application/vnd.jupyter.widget-view+json": {
       "model_id": "a7e591895652432fbdabc2c61e237cc5",
       "version_major": 2,
       "version_minor": 0
      },
      "text/plain": [
       "  0%|          | 0/18 [00:00<?, ?it/s]"
      ]
     },
     "metadata": {},
     "output_type": "display_data"
    },
    {
     "data": {
      "application/vnd.jupyter.widget-view+json": {
       "model_id": "2fd1b4b1f47b4ba0bb4acefc60134955",
       "version_major": 2,
       "version_minor": 0
      },
      "text/plain": [
       "  0%|          | 0/18 [00:00<?, ?it/s]"
      ]
     },
     "metadata": {},
     "output_type": "display_data"
    },
    {
     "data": {
      "application/vnd.jupyter.widget-view+json": {
       "model_id": "1db7b87157064f7caf6eab8829793ab7",
       "version_major": 2,
       "version_minor": 0
      },
      "text/plain": [
       "  0%|          | 0/18 [00:00<?, ?it/s]"
      ]
     },
     "metadata": {},
     "output_type": "display_data"
    },
    {
     "data": {
      "application/vnd.jupyter.widget-view+json": {
       "model_id": "5581ff1d299c49988859ef39e8ff8347",
       "version_major": 2,
       "version_minor": 0
      },
      "text/plain": [
       "  0%|          | 0/18 [00:00<?, ?it/s]"
      ]
     },
     "metadata": {},
     "output_type": "display_data"
    },
    {
     "data": {
      "application/vnd.jupyter.widget-view+json": {
       "model_id": "f83bfb335dc8455897b1b71c78c3ca28",
       "version_major": 2,
       "version_minor": 0
      },
      "text/plain": [
       "  0%|          | 0/18 [00:00<?, ?it/s]"
      ]
     },
     "metadata": {},
     "output_type": "display_data"
    },
    {
     "data": {
      "application/vnd.jupyter.widget-view+json": {
       "model_id": "19a080759bed4acda2827919eb9c8a07",
       "version_major": 2,
       "version_minor": 0
      },
      "text/plain": [
       "  0%|          | 0/18 [00:00<?, ?it/s]"
      ]
     },
     "metadata": {},
     "output_type": "display_data"
    },
    {
     "data": {
      "application/vnd.jupyter.widget-view+json": {
       "model_id": "25cbcad0338140839594f69a062965a9",
       "version_major": 2,
       "version_minor": 0
      },
      "text/plain": [
       "  0%|          | 0/18 [00:00<?, ?it/s]"
      ]
     },
     "metadata": {},
     "output_type": "display_data"
    },
    {
     "data": {
      "application/vnd.jupyter.widget-view+json": {
       "model_id": "a3e67ce3a03a49c1b0adacf2d60b0a1e",
       "version_major": 2,
       "version_minor": 0
      },
      "text/plain": [
       "  0%|          | 0/18 [00:00<?, ?it/s]"
      ]
     },
     "metadata": {},
     "output_type": "display_data"
    },
    {
     "data": {
      "application/vnd.jupyter.widget-view+json": {
       "model_id": "ea967c556d1b498c82a2edfd5443bf26",
       "version_major": 2,
       "version_minor": 0
      },
      "text/plain": [
       "  0%|          | 0/18 [00:00<?, ?it/s]"
      ]
     },
     "metadata": {},
     "output_type": "display_data"
    },
    {
     "data": {
      "application/vnd.jupyter.widget-view+json": {
       "model_id": "8735a5ae617148ecbf6fae0e6e3246f3",
       "version_major": 2,
       "version_minor": 0
      },
      "text/plain": [
       "  0%|          | 0/18 [00:00<?, ?it/s]"
      ]
     },
     "metadata": {},
     "output_type": "display_data"
    }
   ],
   "source": [
    "blend_preds = []\n",
    "\n",
    "for args in tqdm([regnet_args, seresnet_args, effv2s_args, convn_args]):\n",
    "    \n",
    "    pipeline = InferencePipeline(args)\n",
    "    blend_preds.append(\n",
    "        np.mean(pipeline.run_prediction(), axis=0)\n",
    "    )\n",
    "    \n",
    "preds = np.average(blend_preds, weights=best_w, axis=0)"
   ]
  },
  {
   "cell_type": "code",
   "execution_count": 48,
   "id": "d55a4cda-8991-412e-8cb4-a3b1938c4dd7",
   "metadata": {},
   "outputs": [],
   "source": [
    "sample_submission['Target'] = preds"
   ]
  },
  {
   "cell_type": "code",
   "execution_count": 49,
   "id": "2fbd3cb6-7786-4f6d-9865-f7ebd38dce63",
   "metadata": {},
   "outputs": [
    {
     "data": {
      "text/html": [
       "<div>\n",
       "<style scoped>\n",
       "    .dataframe tbody tr th:only-of-type {\n",
       "        vertical-align: middle;\n",
       "    }\n",
       "\n",
       "    .dataframe tbody tr th {\n",
       "        vertical-align: top;\n",
       "    }\n",
       "\n",
       "    .dataframe thead th {\n",
       "        text-align: right;\n",
       "    }\n",
       "</style>\n",
       "<table border=\"1\" class=\"dataframe\">\n",
       "  <thead>\n",
       "    <tr style=\"text-align: right;\">\n",
       "      <th></th>\n",
       "      <th>ImageId</th>\n",
       "      <th>Target</th>\n",
       "    </tr>\n",
       "  </thead>\n",
       "  <tbody>\n",
       "    <tr>\n",
       "      <th>0</th>\n",
       "      <td>Id_ohk78h9ld8.png</td>\n",
       "      <td>0.016857</td>\n",
       "    </tr>\n",
       "    <tr>\n",
       "      <th>1</th>\n",
       "      <td>Id_eeyj2u4j7y.png</td>\n",
       "      <td>0.032991</td>\n",
       "    </tr>\n",
       "    <tr>\n",
       "      <th>2</th>\n",
       "      <td>Id_wsd7vx2ifa.png</td>\n",
       "      <td>13.717153</td>\n",
       "    </tr>\n",
       "    <tr>\n",
       "      <th>3</th>\n",
       "      <td>Id_6vfneamaoh.png</td>\n",
       "      <td>12.933681</td>\n",
       "    </tr>\n",
       "    <tr>\n",
       "      <th>4</th>\n",
       "      <td>Id_9wil3575fv.png</td>\n",
       "      <td>14.621752</td>\n",
       "    </tr>\n",
       "  </tbody>\n",
       "</table>\n",
       "</div>"
      ],
      "text/plain": [
       "             ImageId     Target\n",
       "0  Id_ohk78h9ld8.png   0.016857\n",
       "1  Id_eeyj2u4j7y.png   0.032991\n",
       "2  Id_wsd7vx2ifa.png  13.717153\n",
       "3  Id_6vfneamaoh.png  12.933681\n",
       "4  Id_9wil3575fv.png  14.621752"
      ]
     },
     "execution_count": 49,
     "metadata": {},
     "output_type": "execute_result"
    }
   ],
   "source": [
    "sample_submission.head()"
   ]
  },
  {
   "cell_type": "code",
   "execution_count": 50,
   "id": "13af41f7-8783-4543-b830-08d02c09d69a",
   "metadata": {},
   "outputs": [
    {
     "data": {
      "text/html": [
       "<div>\n",
       "<style scoped>\n",
       "    .dataframe tbody tr th:only-of-type {\n",
       "        vertical-align: middle;\n",
       "    }\n",
       "\n",
       "    .dataframe tbody tr th {\n",
       "        vertical-align: top;\n",
       "    }\n",
       "\n",
       "    .dataframe thead th {\n",
       "        text-align: right;\n",
       "    }\n",
       "</style>\n",
       "<table border=\"1\" class=\"dataframe\">\n",
       "  <thead>\n",
       "    <tr style=\"text-align: right;\">\n",
       "      <th></th>\n",
       "      <th>Target</th>\n",
       "    </tr>\n",
       "  </thead>\n",
       "  <tbody>\n",
       "    <tr>\n",
       "      <th>count</th>\n",
       "      <td>858.000000</td>\n",
       "    </tr>\n",
       "    <tr>\n",
       "      <th>mean</th>\n",
       "      <td>9.959156</td>\n",
       "    </tr>\n",
       "    <tr>\n",
       "      <th>std</th>\n",
       "      <td>13.441103</td>\n",
       "    </tr>\n",
       "    <tr>\n",
       "      <th>min</th>\n",
       "      <td>0.008500</td>\n",
       "    </tr>\n",
       "    <tr>\n",
       "      <th>25%</th>\n",
       "      <td>0.016857</td>\n",
       "    </tr>\n",
       "    <tr>\n",
       "      <th>50%</th>\n",
       "      <td>1.585274</td>\n",
       "    </tr>\n",
       "    <tr>\n",
       "      <th>75%</th>\n",
       "      <td>16.200991</td>\n",
       "    </tr>\n",
       "    <tr>\n",
       "      <th>max</th>\n",
       "      <td>45.648655</td>\n",
       "    </tr>\n",
       "  </tbody>\n",
       "</table>\n",
       "</div>"
      ],
      "text/plain": [
       "           Target\n",
       "count  858.000000\n",
       "mean     9.959156\n",
       "std     13.441103\n",
       "min      0.008500\n",
       "25%      0.016857\n",
       "50%      1.585274\n",
       "75%     16.200991\n",
       "max     45.648655"
      ]
     },
     "execution_count": 50,
     "metadata": {},
     "output_type": "execute_result"
    }
   ],
   "source": [
    "sample_submission.describe()"
   ]
  },
  {
   "cell_type": "code",
   "execution_count": 51,
   "id": "7c986d45-4481-41a3-9f10-89423c9bb79a",
   "metadata": {},
   "outputs": [
    {
     "name": "stdout",
     "output_type": "stream",
     "text": [
      "mkdir: cannot create directory ‘submissions’: File exists\n",
      "mkdir: cannot create directory ‘submissions/blend’: File exists\n"
     ]
    }
   ],
   "source": [
    "!mkdir submissions"
   ]
  },
  {
   "cell_type": "code",
   "execution_count": 52,
   "id": "daafd446-43ce-42d5-bcb9-ffc2012aeab4",
   "metadata": {},
   "outputs": [],
   "source": [
    "sample_submission.to_csv(\n",
    "    f'submissions/submission_wmm.csv', \n",
    "    index=False\n",
    ")"
   ]
  },
  {
   "cell_type": "code",
   "execution_count": null,
   "id": "d2a4795f-136f-4530-a601-2dc5e46b88be",
   "metadata": {},
   "outputs": [],
   "source": []
  }
 ],
 "metadata": {
  "kernelspec": {
   "display_name": "Python 3 (ipykernel)",
   "language": "python",
   "name": "python3"
  },
  "language_info": {
   "codemirror_mode": {
    "name": "ipython",
    "version": 3
   },
   "file_extension": ".py",
   "mimetype": "text/x-python",
   "name": "python",
   "nbconvert_exporter": "python",
   "pygments_lexer": "ipython3",
   "version": "3.9.16"
  }
 },
 "nbformat": 4,
 "nbformat_minor": 5
}
