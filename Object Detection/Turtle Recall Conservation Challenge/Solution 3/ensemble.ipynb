{
 "cells": [
  {
   "cell_type": "code",
   "execution_count": 5,
   "id": "1ea336d1-c9d6-490d-9fff-2e558f6156f7",
   "metadata": {},
   "outputs": [],
   "source": [
    "import csv\n",
    "import pandas as pd \n",
    "\n",
    "sub_files = [\n",
    "    \"../submission/exp113.csv\",\n",
    "    \"../submission/exp116.csv\",\n",
    "    \"../submission/exp124.csv\",\n",
    "]\n",
    "# Weights of the individual subs\n",
    "sub_weight = [1,1,1]"
   ]
  },
  {
   "cell_type": "code",
   "execution_count": 6,
   "id": "a429f0c8-2453-420c-b565-bf275ae18440",
   "metadata": {},
   "outputs": [
    {
     "name": "stdout",
     "output_type": "stream",
     "text": [
      "{0: 1.0, 1: 0.5, 2: 0.3333333333333333, 3: 0.25, 4: 0.2}\n",
      "Reading 0: w=1 - ../submission/exp113.csv\n",
      "Reading 1: w=1 - ../submission/exp116.csv\n",
      "Reading 2: w=1 - ../submission/exp124.csv\n"
     ]
    }
   ],
   "source": [
    "Hlabel = 'image_id' \n",
    "Htarget = ['prediction1','prediction2','prediction3','prediction4','prediction5']\n",
    "npt = 5\n",
    "place_weights = {}\n",
    "for i in range(npt):\n",
    "    place_weights[i] = ( 1 / (i + 1) )\n",
    "    \n",
    "print(place_weights)\n",
    "\n",
    "lg = len(sub_files)\n",
    "sub = [None]*lg\n",
    "for i, file in enumerate( sub_files ):\n",
    "   \n",
    "    print(\"Reading {}: w={} - {}\". format(i, sub_weight[i], file))\n",
    "    reader = csv.DictReader(open(file,\"r\"))\n",
    "    sub[i] = sorted(reader, key=lambda d: str(d[Hlabel]))\n",
    "\n"
   ]
  },
  {
   "cell_type": "code",
   "execution_count": 7,
   "id": "b25d3f26-a63d-48d0-8a99-ed95c2343803",
   "metadata": {},
   "outputs": [
    {
     "data": {
      "text/plain": [
       "70"
      ]
     },
     "execution_count": 7,
     "metadata": {},
     "output_type": "execute_result"
    }
   ],
   "source": [
    "out = open(\"../submission/ensemble.csv\", \"w\", newline='')\n",
    "writer = csv.writer(out)\n",
    "writer.writerow([Hlabel]+Htarget)\n"
   ]
  },
  {
   "cell_type": "code",
   "execution_count": 8,
   "id": "6a004017-0bb8-44d9-abac-e2ea4d627d5b",
   "metadata": {},
   "outputs": [],
   "source": [
    "for p, row in enumerate(sub[0]):\n",
    "    target_weight = {}\n",
    "    for s in range(lg):\n",
    "        row1 = sub[s][p]\n",
    "        for ind, trgt in enumerate([row1[htrgt]for htrgt in Htarget]):\n",
    "            target_weight[trgt] = target_weight.get(trgt,0) + (place_weights[ind]*sub_weight[s])\n",
    "    tops_trgt = sorted(target_weight, key=target_weight.get, reverse=True)[:npt]\n",
    "    writer.writerow([row1[Hlabel]]+tops_trgt)\n",
    "out.close()"
   ]
  },
  {
   "cell_type": "code",
   "execution_count": null,
   "id": "ecca7f3a-4217-491b-a6a5-5b97b5c6f236",
   "metadata": {},
   "outputs": [],
   "source": []
  }
 ],
 "metadata": {
  "kernelspec": {
   "display_name": "Python 3 (ipykernel)",
   "language": "python",
   "name": "python3"
  },
  "language_info": {
   "codemirror_mode": {
    "name": "ipython",
    "version": 3
   },
   "file_extension": ".py",
   "mimetype": "text/x-python",
   "name": "python",
   "nbconvert_exporter": "python",
   "pygments_lexer": "ipython3",
   "version": "3.9.7"
  }
 },
 "nbformat": 4,
 "nbformat_minor": 5
}
